{
 "cells": [
  {
   "cell_type": "markdown",
   "metadata": {
    "toc": true
   },
   "source": [
    "<h1>Table of Contents<span class=\"tocSkip\"></span></h1>\n",
    "<div class=\"toc\"><ul class=\"toc-item\"><li><span><a href=\"#Python-Debugger\" data-toc-modified-id=\"Python-Debugger-1\"><span class=\"toc-item-num\">1&nbsp;&nbsp;</span>Python Debugger</a></span></li><li><span><a href=\"#Patterns-for-Cleaner-Python\" data-toc-modified-id=\"Patterns-for-Cleaner-Python-2\"><span class=\"toc-item-num\">2&nbsp;&nbsp;</span>Patterns for Cleaner Python</a></span><ul class=\"toc-item\"><li><span><a href=\"#Complacent-Comma-Placement\" data-toc-modified-id=\"Complacent-Comma-Placement-2.1\"><span class=\"toc-item-num\">2.1&nbsp;&nbsp;</span>Complacent Comma Placement</a></span></li><li><span><a href=\"#String-Formatting\" data-toc-modified-id=\"String-Formatting-2.2\"><span class=\"toc-item-num\">2.2&nbsp;&nbsp;</span>String Formatting</a></span></li></ul></li><li><span><a href=\"#Effective-Functions\" data-toc-modified-id=\"Effective-Functions-3\"><span class=\"toc-item-num\">3&nbsp;&nbsp;</span>Effective Functions</a></span><ul class=\"toc-item\"><li><span><a href=\"#Python's-Functions-Are-First-Class\" data-toc-modified-id=\"Python's-Functions-Are-First-Class-3.1\"><span class=\"toc-item-num\">3.1&nbsp;&nbsp;</span>Python's Functions Are First-Class</a></span><ul class=\"toc-item\"><li><span><a href=\"#Functions-Are-Objects\" data-toc-modified-id=\"Functions-Are-Objects-3.1.1\"><span class=\"toc-item-num\">3.1.1&nbsp;&nbsp;</span>Functions Are Objects</a></span></li><li><span><a href=\"#Functions-Can-Be-Stored-in-Data-Structures\" data-toc-modified-id=\"Functions-Can-Be-Stored-in-Data-Structures-3.1.2\"><span class=\"toc-item-num\">3.1.2&nbsp;&nbsp;</span>Functions Can Be Stored in Data Structures</a></span></li><li><span><a href=\"#Functions-Can-Be-Passed-to-Other-Functions\" data-toc-modified-id=\"Functions-Can-Be-Passed-to-Other-Functions-3.1.3\"><span class=\"toc-item-num\">3.1.3&nbsp;&nbsp;</span>Functions Can Be Passed to Other Functions</a></span></li><li><span><a href=\"#Functions-Can-Be-Nested\" data-toc-modified-id=\"Functions-Can-Be-Nested-3.1.4\"><span class=\"toc-item-num\">3.1.4&nbsp;&nbsp;</span>Functions Can Be Nested</a></span></li><li><span><a href=\"#Functions-Can-Capture-Local-State\" data-toc-modified-id=\"Functions-Can-Capture-Local-State-3.1.5\"><span class=\"toc-item-num\">3.1.5&nbsp;&nbsp;</span>Functions Can Capture Local State</a></span></li><li><span><a href=\"#Objects-Can-Behave-Like-Functions\" data-toc-modified-id=\"Objects-Can-Behave-Like-Functions-3.1.6\"><span class=\"toc-item-num\">3.1.6&nbsp;&nbsp;</span>Objects Can Behave Like Functions</a></span></li></ul></li><li><span><a href=\"#Lambdas-Are-Single-Expression-Functions\" data-toc-modified-id=\"Lambdas-Are-Single-Expression-Functions-3.2\"><span class=\"toc-item-num\">3.2&nbsp;&nbsp;</span>Lambdas Are Single-Expression Functions</a></span><ul class=\"toc-item\"><li><span><a href=\"#Lambdas-You-Can-Use\" data-toc-modified-id=\"Lambdas-You-Can-Use-3.2.1\"><span class=\"toc-item-num\">3.2.1&nbsp;&nbsp;</span>Lambdas You Can Use</a></span></li></ul></li><li><span><a href=\"#The-Power-of-Decorators\" data-toc-modified-id=\"The-Power-of-Decorators-3.3\"><span class=\"toc-item-num\">3.3&nbsp;&nbsp;</span>The Power of Decorators</a></span><ul class=\"toc-item\"><li><span><a href=\"#Python-Decorator-Basics\" data-toc-modified-id=\"Python-Decorator-Basics-3.3.1\"><span class=\"toc-item-num\">3.3.1&nbsp;&nbsp;</span>Python Decorator Basics</a></span></li><li><span><a href=\"#Decorators-Can-Modify-Behavior\" data-toc-modified-id=\"Decorators-Can-Modify-Behavior-3.3.2\"><span class=\"toc-item-num\">3.3.2&nbsp;&nbsp;</span>Decorators Can Modify Behavior</a></span></li><li><span><a href=\"#Applying-Multiple-Decorators-to-a-Function\" data-toc-modified-id=\"Applying-Multiple-Decorators-to-a-Function-3.3.3\"><span class=\"toc-item-num\">3.3.3&nbsp;&nbsp;</span>Applying Multiple Decorators to a Function</a></span></li><li><span><a href=\"#Decorating-Functions-That-Accept-Arguments\" data-toc-modified-id=\"Decorating-Functions-That-Accept-Arguments-3.3.4\"><span class=\"toc-item-num\">3.3.4&nbsp;&nbsp;</span>Decorating Functions That Accept Arguments</a></span></li></ul></li><li><span><a href=\"#Fun-With-args-and-*kwargs\" data-toc-modified-id=\"Fun-With-args-and-*kwargs-3.4\"><span class=\"toc-item-num\">3.4&nbsp;&nbsp;</span>Fun With <em>args and *</em>kwargs</a></span><ul class=\"toc-item\"><li><span><a href=\"#Forwarding-Optional-or-Keyword-Arguments\" data-toc-modified-id=\"Forwarding-Optional-or-Keyword-Arguments-3.4.1\"><span class=\"toc-item-num\">3.4.1&nbsp;&nbsp;</span>Forwarding Optional or Keyword Arguments</a></span></li></ul></li><li><span><a href=\"#Function-Argument-Unpacking\" data-toc-modified-id=\"Function-Argument-Unpacking-3.5\"><span class=\"toc-item-num\">3.5&nbsp;&nbsp;</span>Function Argument Unpacking</a></span></li><li><span><a href=\"#Nothing-to-Return-Here\" data-toc-modified-id=\"Nothing-to-Return-Here-3.6\"><span class=\"toc-item-num\">3.6&nbsp;&nbsp;</span><font color=\"lightgrey\">Nothing to Return Here</font></a></span></li></ul></li></ul></div>"
   ]
  },
  {
   "cell_type": "code",
   "execution_count": 12,
   "metadata": {
    "ExecuteTime": {
     "end_time": "2019-09-02T14:21:30.137073Z",
     "start_time": "2019-09-02T14:21:30.128286Z"
    }
   },
   "outputs": [],
   "source": [
    "# Pretty display multiple variables without print statement\n",
    "from IPython.core.interactiveshell import InteractiveShell\n",
    "InteractiveShell.ast_node_interactivity = \"all\""
   ]
  },
  {
   "cell_type": "markdown",
   "metadata": {
    "heading_collapsed": true
   },
   "source": [
    "# Python Debugger"
   ]
  },
  {
   "cell_type": "code",
   "execution_count": 2,
   "metadata": {
    "ExecuteTime": {
     "end_time": "2019-09-05T05:05:19.976235Z",
     "start_time": "2019-09-05T05:03:08.539353Z"
    },
    "hidden": true,
    "scrolled": true
   },
   "outputs": [
    {
     "name": "stdout",
     "output_type": "stream",
     "text": [
      "NOTE: Enter 'c' at the ipdb>  prompt to continue execution.\n",
      "> \u001b[1;32m<string>\u001b[0m(3)\u001b[0;36m<module>\u001b[1;34m()\u001b[0m\n",
      "\n",
      "ipdb> s\n",
      "> \u001b[1;32m<string>\u001b[0m(6)\u001b[0;36m<module>\u001b[1;34m()\u001b[0m\n",
      "\n",
      "ipdb> s\n",
      "> \u001b[1;32m<string>\u001b[0m(7)\u001b[0;36m<module>\u001b[1;34m()\u001b[0m\n",
      "\n",
      "ipdb> s\n",
      "> \u001b[1;32m<string>\u001b[0m(8)\u001b[0;36m<module>\u001b[1;34m()\u001b[0m\n",
      "\n",
      "ipdb> s\n",
      "> \u001b[1;32m<string>\u001b[0m(10)\u001b[0;36m<module>\u001b[1;34m()\u001b[0m\n",
      "\n",
      "ipdb> s\n",
      "--Call--\n",
      "> \u001b[1;32m<string>\u001b[0m(3)\u001b[0;36mtransform\u001b[1;34m()\u001b[0m\n",
      "\n",
      "ipdb> s\n",
      "> \u001b[1;32m<string>\u001b[0m(4)\u001b[0;36mtransform\u001b[1;34m()\u001b[0m\n",
      "\n",
      "ipdb> z\n",
      "5\n",
      "ipdb> s\n",
      "--Return--\n",
      "None\n",
      "> \u001b[1;32m<string>\u001b[0m(4)\u001b[0;36mtransform\u001b[1;34m()\u001b[0m\n",
      "\n",
      "ipdb> z\n",
      "15\n",
      "ipdb> s\n",
      "> \u001b[1;32m<string>\u001b[0m(11)\u001b[0;36m<module>\u001b[1;34m()\u001b[0m\n",
      "\n",
      "ipdb> s\n",
      "--Call--\n",
      "> \u001b[1;32mc:\\users\\bings\\anaconda3\\envs\\sep2019\\lib\\site-packages\\ipykernel\\iostream.py\u001b[0m(382)\u001b[0;36mwrite\u001b[1;34m()\u001b[0m\n",
      "\u001b[1;32m    380 \u001b[1;33m                parent=self.parent_header, ident=self.topic)\n",
      "\u001b[0m\u001b[1;32m    381 \u001b[1;33m\u001b[1;33m\u001b[0m\u001b[0m\n",
      "\u001b[0m\u001b[1;32m--> 382 \u001b[1;33m    \u001b[1;32mdef\u001b[0m \u001b[0mwrite\u001b[0m\u001b[1;33m(\u001b[0m\u001b[0mself\u001b[0m\u001b[1;33m,\u001b[0m \u001b[0mstring\u001b[0m\u001b[1;33m)\u001b[0m\u001b[1;33m:\u001b[0m\u001b[1;33m\u001b[0m\u001b[1;33m\u001b[0m\u001b[0m\n",
      "\u001b[0m\u001b[1;32m    383 \u001b[1;33m        \u001b[1;32mif\u001b[0m \u001b[0mself\u001b[0m\u001b[1;33m.\u001b[0m\u001b[0mecho\u001b[0m \u001b[1;32mis\u001b[0m \u001b[1;32mnot\u001b[0m \u001b[1;32mNone\u001b[0m\u001b[1;33m:\u001b[0m\u001b[1;33m\u001b[0m\u001b[1;33m\u001b[0m\u001b[0m\n",
      "\u001b[0m\u001b[1;32m    384 \u001b[1;33m            \u001b[1;32mtry\u001b[0m\u001b[1;33m:\u001b[0m\u001b[1;33m\u001b[0m\u001b[1;33m\u001b[0m\u001b[0m\n",
      "\u001b[0m\n",
      "ipdb> c\n",
      "str(z):\t 5\n"
     ]
    }
   ],
   "source": [
    "%%debug\n",
    "\n",
    "def transform(x,y):\n",
    "    z = x + y\n",
    "\n",
    "z = 5\n",
    "x = 50\n",
    "y = 60\n",
    "\n",
    "transform(5,10)\n",
    "print('str(z):\\t', str(z))"
   ]
  },
  {
   "cell_type": "code",
   "execution_count": null,
   "metadata": {
    "ExecuteTime": {
     "start_time": "2019-09-05T04:20:11.607Z"
    },
    "hidden": true
   },
   "outputs": [],
   "source": [
    "from IPython.core.debugger import set_trace\n",
    "\n",
    "def transform(x,y):\n",
    "    set_trace()\n",
    "    z = x + y\n",
    "\n",
    "z = 5\n",
    "x = 50\n",
    "y = 60\n",
    "\n",
    "transform(5,10)\n",
    "print('str(z):\\t', str(z))"
   ]
  },
  {
   "cell_type": "markdown",
   "metadata": {
    "heading_collapsed": true,
    "hidden": true
   },
   "source": [
    "##### Debugger Command Line methods"
   ]
  },
  {
   "cell_type": "markdown",
   "metadata": {
    "hidden": true
   },
   "source": [
    "<img src='pics/INT1_9.png' alt='Drawing' style='width:625pt'/>"
   ]
  },
  {
   "cell_type": "markdown",
   "metadata": {
    "hidden": true
   },
   "source": [
    "if you use ```n``` when you're going into a function will execute the entire function and in will execute the next line after the function call\n",
    "\n",
    "```s``` let's you step into a function and execute the function itself line by line \n",
    "\n"
   ]
  },
  {
   "cell_type": "markdown",
   "metadata": {
    "heading_collapsed": true
   },
   "source": [
    "# Patterns for Cleaner Python"
   ]
  },
  {
   "cell_type": "markdown",
   "metadata": {
    "heading_collapsed": true,
    "hidden": true
   },
   "source": [
    "## Complacent Comma Placement"
   ]
  },
  {
   "cell_type": "markdown",
   "metadata": {
    "hidden": true
   },
   "source": [
    "it's fine to leave a trailing comma after the last item in a list"
   ]
  },
  {
   "cell_type": "code",
   "execution_count": 2,
   "metadata": {
    "ExecuteTime": {
     "end_time": "2019-09-02T01:10:49.341066Z",
     "start_time": "2019-09-02T01:10:49.320565Z"
    },
    "hidden": true
   },
   "outputs": [
    {
     "data": {
      "text/plain": [
       "['abe', 'don', 'jeffrey']"
      ]
     },
     "execution_count": 2,
     "metadata": {},
     "output_type": "execute_result"
    }
   ],
   "source": [
    "names = [\"abe\", \n",
    "         \"don\", \n",
    "         \"jeffrey\",\n",
    "        ]\n",
    "\n",
    "names"
   ]
  },
  {
   "cell_type": "markdown",
   "metadata": {
    "heading_collapsed": true,
    "hidden": true
   },
   "source": [
    "## String Formatting"
   ]
  },
  {
   "cell_type": "markdown",
   "metadata": {
    "hidden": true
   },
   "source": [
    "<font color = 'blue'>If your format strings are user-supplied, use Template\n",
    "Strings to avoid security issues. \n",
    "\n",
    "Otherwise, use Literal\n",
    "String Interpolation if you’re on Python 3.6+, and “New\n",
    "Style” String Formatting if you’re not.</font>"
   ]
  },
  {
   "cell_type": "code",
   "execution_count": 6,
   "metadata": {
    "ExecuteTime": {
     "end_time": "2019-09-02T13:48:56.025056Z",
     "start_time": "2019-09-02T13:48:56.019199Z"
    },
    "hidden": true
   },
   "outputs": [
    {
     "data": {
      "text/plain": [
       "'Hello, bob'"
      ]
     },
     "execution_count": 6,
     "metadata": {},
     "output_type": "execute_result"
    }
   ],
   "source": [
    "name = 'bob'\n",
    "errno = 50159747054\n",
    "'Hello, {}'.format(name)"
   ]
  },
  {
   "cell_type": "code",
   "execution_count": 15,
   "metadata": {
    "ExecuteTime": {
     "end_time": "2019-09-02T14:21:53.115500Z",
     "start_time": "2019-09-02T14:21:53.103784Z"
    },
    "hidden": true
   },
   "outputs": [
    {
     "data": {
      "text/plain": [
       "'Hey bob, there is a 0xbadc0ffee error!'"
      ]
     },
     "execution_count": 15,
     "metadata": {},
     "output_type": "execute_result"
    },
    {
     "data": {
      "text/plain": [
       "'Hey bob, there is a 0x50159747054 error!'"
      ]
     },
     "execution_count": 15,
     "metadata": {},
     "output_type": "execute_result"
    }
   ],
   "source": [
    "'Hey {name}, there is a 0x{errno:x} error!'.format(name=name, errno=errno)\n",
    "'Hey {name}, there is a 0x{errno} error!'.format(name=name, errno=errno)"
   ]
  },
  {
   "cell_type": "code",
   "execution_count": 14,
   "metadata": {
    "ExecuteTime": {
     "end_time": "2019-09-02T14:21:44.748316Z",
     "start_time": "2019-09-02T14:21:44.741482Z"
    },
    "hidden": true
   },
   "outputs": [
    {
     "data": {
      "text/plain": [
       "'Hey {name}, there is a 0x{errno:x} error!'"
      ]
     },
     "execution_count": 14,
     "metadata": {},
     "output_type": "execute_result"
    }
   ],
   "source": [
    "'Hey {name}, there is a 0x{errno:x} error!'"
   ]
  },
  {
   "cell_type": "markdown",
   "metadata": {
    "hidden": true
   },
   "source": [
    "<font color = 'green'>**F' string formatting (literal string interpolation)**</font>"
   ]
  },
  {
   "cell_type": "code",
   "execution_count": 9,
   "metadata": {
    "ExecuteTime": {
     "end_time": "2019-09-02T13:49:10.744599Z",
     "start_time": "2019-09-02T13:49:10.737766Z"
    },
    "hidden": true
   },
   "outputs": [
    {
     "data": {
      "text/plain": [
       "'Hey bob, there is a 0xbadc0ffee error!'"
      ]
     },
     "execution_count": 9,
     "metadata": {},
     "output_type": "execute_result"
    }
   ],
   "source": [
    "f'Hey {name}, there is a 0x{errno:x} error!'"
   ]
  },
  {
   "cell_type": "code",
   "execution_count": 10,
   "metadata": {
    "ExecuteTime": {
     "end_time": "2019-09-02T13:50:06.842303Z",
     "start_time": "2019-09-02T13:50:06.833516Z"
    },
    "hidden": true
   },
   "outputs": [
    {
     "data": {
      "text/plain": [
       "'Five plus ten is 15 and not 30.'"
      ]
     },
     "execution_count": 10,
     "metadata": {},
     "output_type": "execute_result"
    }
   ],
   "source": [
    ">>> a = 5\n",
    ">>> b = 10\n",
    ">>> f'Five plus ten is {a + b} and not {2 * (a + b)}.'"
   ]
  },
  {
   "cell_type": "markdown",
   "metadata": {
    "hidden": true
   },
   "source": [
    "<font color = 'green'>**Template Strings**</font>"
   ]
  },
  {
   "cell_type": "code",
   "execution_count": 17,
   "metadata": {
    "ExecuteTime": {
     "end_time": "2019-09-02T15:21:03.160775Z",
     "start_time": "2019-09-02T15:21:03.153940Z"
    },
    "hidden": true
   },
   "outputs": [
    {
     "data": {
      "text/plain": [
       "'Hey, bob!'"
      ]
     },
     "execution_count": 17,
     "metadata": {},
     "output_type": "execute_result"
    }
   ],
   "source": [
    "from string import Template\n",
    "\n",
    "t = Template('Hey, $name!')\n",
    "t.substitute(name=name)"
   ]
  },
  {
   "cell_type": "code",
   "execution_count": 18,
   "metadata": {
    "ExecuteTime": {
     "end_time": "2019-09-02T15:21:04.010340Z",
     "start_time": "2019-09-02T15:21:04.000577Z"
    },
    "hidden": true
   },
   "outputs": [
    {
     "data": {
      "text/plain": [
       "'Hey bob, there is a 0xbadc0ffee error!'"
      ]
     },
     "execution_count": 18,
     "metadata": {},
     "output_type": "execute_result"
    }
   ],
   "source": [
    "template_string = 'Hey $name, there is a $error error!'\n",
    "Template(template_string).substitute(name=name, error=hex(errno))"
   ]
  },
  {
   "cell_type": "code",
   "execution_count": 19,
   "metadata": {
    "ExecuteTime": {
     "end_time": "2019-09-02T15:21:23.085228Z",
     "start_time": "2019-09-02T15:21:23.078392Z"
    },
    "hidden": true
   },
   "outputs": [
    {
     "data": {
      "text/plain": [
       "'Hey frank, there is a 0xbadc0ffee error!'"
      ]
     },
     "execution_count": 19,
     "metadata": {},
     "output_type": "execute_result"
    }
   ],
   "source": [
    "name = \"frank\"\n",
    "template_string = 'Hey $name, there is a $error error!'\n",
    "Template(template_string).substitute(name=name, error=hex(errno))"
   ]
  },
  {
   "cell_type": "markdown",
   "metadata": {},
   "source": [
    "# Effective Functions"
   ]
  },
  {
   "cell_type": "markdown",
   "metadata": {
    "heading_collapsed": true
   },
   "source": [
    "## Python's Functions Are First-Class"
   ]
  },
  {
   "cell_type": "markdown",
   "metadata": {
    "hidden": true
   },
   "source": [
    "<div class=\"alert alert-block alert-info\">\n",
    "\n",
    "<b>Key Takeaways</b>\n",
    "\n",
    "* Everything in Python is an object, including functions. You can assign them to variables, store them in data structures, and pass or return them to and from other functions (first-class functions.) \n",
    "\n",
    "\n",
    "* First-class functions allow you to abstract away and pass around behavior in your programs. \n",
    "\n",
    "\n",
    "* Functions can be nested and they can capture and carry some of the parent function’s state with them. Functions that do this are called closures. \n",
    "\n",
    "\n",
    "* Objects can be made callable. In many cases this allows you to treat them like functions."
   ]
  },
  {
   "cell_type": "markdown",
   "metadata": {
    "heading_collapsed": true,
    "hidden": true
   },
   "source": [
    "### Functions Are Objects"
   ]
  },
  {
   "cell_type": "markdown",
   "metadata": {
    "hidden": true
   },
   "source": [
    "All data in a Python program is represented by objects or relations between objects.1 Things like strings, lists, modules, and functions are all objects. There’s nothing particularly special about functions in Python. They’re also just objects. \n",
    "\n",
    "Because the yell function is an object in Python, you can assign it to another variable, just like any other object:"
   ]
  },
  {
   "cell_type": "code",
   "execution_count": 72,
   "metadata": {
    "ExecuteTime": {
     "end_time": "2019-09-02T16:48:57.041070Z",
     "start_time": "2019-09-02T16:48:57.035214Z"
    },
    "hidden": true
   },
   "outputs": [
    {
     "data": {
      "text/plain": [
       "'HELLO!'"
      ]
     },
     "execution_count": 72,
     "metadata": {},
     "output_type": "execute_result"
    }
   ],
   "source": [
    "def yell(text):\n",
    "    return text.upper() + '!'\n",
    "\n",
    "yell('hello')\n"
   ]
  },
  {
   "cell_type": "markdown",
   "metadata": {
    "hidden": true
   },
   "source": [
    "This line doesn’t call the function. It takes the function object refer-\n",
    "enced by yell and creates a second name, bark, that points to it. You\n",
    "could now also execute the same underlying function object by calling\n",
    "bark:"
   ]
  },
  {
   "cell_type": "code",
   "execution_count": 24,
   "metadata": {
    "ExecuteTime": {
     "end_time": "2019-09-02T15:24:01.871474Z",
     "start_time": "2019-09-02T15:24:01.864638Z"
    },
    "hidden": true
   },
   "outputs": [
    {
     "data": {
      "text/plain": [
       "'WOOF!'"
      ]
     },
     "execution_count": 24,
     "metadata": {},
     "output_type": "execute_result"
    }
   ],
   "source": [
    "bark = yell\n",
    "\n",
    "bark('woof')"
   ]
  },
  {
   "cell_type": "markdown",
   "metadata": {
    "hidden": true
   },
   "source": [
    "Function objects and their names are two separate concerns. Here’s\n",
    "more proof: You can delete the function’s original name (yell). Since\n",
    "another name (bark) still points to the underlying function, you can\n",
    "still call the function through it:"
   ]
  },
  {
   "cell_type": "code",
   "execution_count": 25,
   "metadata": {
    "ExecuteTime": {
     "end_time": "2019-09-02T15:24:35.832062Z",
     "start_time": "2019-09-02T15:24:35.821322Z"
    },
    "hidden": true
   },
   "outputs": [
    {
     "ename": "NameError",
     "evalue": "name 'yell' is not defined",
     "output_type": "error",
     "traceback": [
      "\u001b[1;31m---------------------------------------------------------------------------\u001b[0m",
      "\u001b[1;31mNameError\u001b[0m                                 Traceback (most recent call last)",
      "\u001b[1;32m<ipython-input-25-33073c4dcef3>\u001b[0m in \u001b[0;36m<module>\u001b[1;34m\u001b[0m\n\u001b[0;32m      1\u001b[0m \u001b[1;32mdel\u001b[0m \u001b[0myell\u001b[0m\u001b[1;33m\u001b[0m\u001b[1;33m\u001b[0m\u001b[0m\n\u001b[0;32m      2\u001b[0m \u001b[1;33m\u001b[0m\u001b[0m\n\u001b[1;32m----> 3\u001b[1;33m \u001b[0myell\u001b[0m\u001b[1;33m(\u001b[0m\u001b[1;34m'hello?'\u001b[0m\u001b[1;33m)\u001b[0m\u001b[1;33m\u001b[0m\u001b[1;33m\u001b[0m\u001b[0m\n\u001b[0m",
      "\u001b[1;31mNameError\u001b[0m: name 'yell' is not defined"
     ]
    }
   ],
   "source": [
    "del yell\n",
    "\n",
    "yell('hello?')"
   ]
  },
  {
   "cell_type": "code",
   "execution_count": 26,
   "metadata": {
    "ExecuteTime": {
     "end_time": "2019-09-02T15:24:37.721481Z",
     "start_time": "2019-09-02T15:24:37.714648Z"
    },
    "hidden": true
   },
   "outputs": [
    {
     "data": {
      "text/plain": [
       "'HEY!'"
      ]
     },
     "execution_count": 26,
     "metadata": {},
     "output_type": "execute_result"
    }
   ],
   "source": [
    "bark('hey')"
   ]
  },
  {
   "cell_type": "markdown",
   "metadata": {
    "ExecuteTime": {
     "end_time": "2019-09-02T15:25:38.552909Z",
     "start_time": "2019-09-02T15:25:38.545100Z"
    },
    "hidden": true
   },
   "source": [
    "By the way, Python attaches a string identifier to every function at\n",
    "creation time for debugging purposes. You can access this internal\n",
    "identifier with the ```__name__``` attribute:\n",
    "    "
   ]
  },
  {
   "cell_type": "code",
   "execution_count": 29,
   "metadata": {
    "ExecuteTime": {
     "end_time": "2019-09-02T15:26:04.476531Z",
     "start_time": "2019-09-02T15:26:04.465794Z"
    },
    "hidden": true
   },
   "outputs": [
    {
     "data": {
      "text/plain": [
       "'yell'"
      ]
     },
     "execution_count": 29,
     "metadata": {},
     "output_type": "execute_result"
    }
   ],
   "source": [
    "bark.__name__"
   ]
  },
  {
   "cell_type": "markdown",
   "metadata": {
    "hidden": true
   },
   "source": [
    "Now, while the function’s __name__ is still “yell,” that doesn’t affect\n",
    "how you can access the function object from your code. The name\n",
    "identifier is merely a debugging aid. A variable pointing to a function\n",
    "and the function itself are really two separate concerns."
   ]
  },
  {
   "cell_type": "markdown",
   "metadata": {
    "heading_collapsed": true,
    "hidden": true
   },
   "source": [
    "### Functions Can Be Stored in Data Structures"
   ]
  },
  {
   "cell_type": "markdown",
   "metadata": {
    "hidden": true
   },
   "source": [
    "Since functions are first-class citizens, you can store them in data structures, just like you can with other objects. For example, you can add functions to a list:"
   ]
  },
  {
   "cell_type": "code",
   "execution_count": 33,
   "metadata": {
    "ExecuteTime": {
     "end_time": "2019-09-02T15:27:10.418404Z",
     "start_time": "2019-09-02T15:27:10.411570Z"
    },
    "hidden": true
   },
   "outputs": [
    {
     "data": {
      "text/plain": [
       "[<function __main__.yell(text)>,\n",
       " <method 'lower' of 'str' objects>,\n",
       " <method 'capitalize' of 'str' objects>]"
      ]
     },
     "execution_count": 33,
     "metadata": {},
     "output_type": "execute_result"
    }
   ],
   "source": [
    "funcs = [bark, str.lower, str.capitalize]\n",
    "funcs"
   ]
  },
  {
   "cell_type": "raw",
   "metadata": {
    "ExecuteTime": {
     "end_time": "2019-09-02T15:27:41.647595Z",
     "start_time": "2019-09-02T15:27:41.630997Z"
    },
    "hidden": true
   },
   "source": [
    "funcs = [bark, str.lower(), str.capitalize()] # () brings an error\n",
    "funcs"
   ]
  },
  {
   "cell_type": "markdown",
   "metadata": {
    "hidden": true
   },
   "source": [
    "Accessing the function objects stored inside the list works like it would\n",
    "with any other type of object:"
   ]
  },
  {
   "cell_type": "code",
   "execution_count": 40,
   "metadata": {
    "ExecuteTime": {
     "end_time": "2019-09-02T15:29:13.607570Z",
     "start_time": "2019-09-02T15:29:13.601711Z"
    },
    "hidden": true
   },
   "outputs": [
    {
     "name": "stdout",
     "output_type": "stream",
     "text": [
      "<function yell at 0x000001ED74699950> \t HEY THERE!\n",
      "<method 'lower' of 'str' objects> \t hey there\n",
      "<method 'capitalize' of 'str' objects> \t Hey there\n"
     ]
    }
   ],
   "source": [
    "for f in funcs: print(f,\"\\t\",f('hey there'))"
   ]
  },
  {
   "cell_type": "markdown",
   "metadata": {
    "hidden": true
   },
   "source": [
    "You can even call a function object stored in the list without first as-\n",
    "signing it to a variable. You can do the lookup and then immediately\n",
    "call the resulting “disembodied” function object within a single expres-\n",
    "sion:"
   ]
  },
  {
   "cell_type": "code",
   "execution_count": 43,
   "metadata": {
    "ExecuteTime": {
     "end_time": "2019-09-02T15:30:32.974403Z",
     "start_time": "2019-09-02T15:30:32.948048Z"
    },
    "hidden": true
   },
   "outputs": [
    {
     "data": {
      "text/plain": [
       "'HEYHO!'"
      ]
     },
     "execution_count": 43,
     "metadata": {},
     "output_type": "execute_result"
    },
    {
     "data": {
      "text/plain": [
       "'heyho'"
      ]
     },
     "execution_count": 43,
     "metadata": {},
     "output_type": "execute_result"
    },
    {
     "data": {
      "text/plain": [
       "'Heyho'"
      ]
     },
     "execution_count": 43,
     "metadata": {},
     "output_type": "execute_result"
    }
   ],
   "source": [
    "funcs[0]('heyho')\n",
    "funcs[1]('heyho')\n",
    "funcs[2]('heyho')"
   ]
  },
  {
   "cell_type": "markdown",
   "metadata": {
    "heading_collapsed": true,
    "hidden": true
   },
   "source": [
    "### Functions Can Be Passed to Other Functions"
   ]
  },
  {
   "cell_type": "markdown",
   "metadata": {
    "hidden": true
   },
   "source": [
    "Because functions are objects, you can pass them as arguments to\n",
    "other functions. Here’s a greet function that formats a greeting string\n",
    "using the function object passed to it and then prints it:"
   ]
  },
  {
   "cell_type": "code",
   "execution_count": 44,
   "metadata": {
    "ExecuteTime": {
     "end_time": "2019-09-02T15:31:09.077330Z",
     "start_time": "2019-09-02T15:31:09.071471Z"
    },
    "hidden": true
   },
   "outputs": [],
   "source": [
    "def greet(func):\n",
    "    greeting = func('Hi, I am a Python program')\n",
    "    print(greeting)"
   ]
  },
  {
   "cell_type": "markdown",
   "metadata": {
    "hidden": true
   },
   "source": [
    "You can influence the resulting greeting by passing in different functions. Here’s what happens if you pass the bark function to greet:"
   ]
  },
  {
   "cell_type": "code",
   "execution_count": 46,
   "metadata": {
    "ExecuteTime": {
     "end_time": "2019-09-02T15:33:35.531154Z",
     "start_time": "2019-09-02T15:33:35.525293Z"
    },
    "hidden": true
   },
   "outputs": [
    {
     "name": "stdout",
     "output_type": "stream",
     "text": [
      "HI, I AM A PYTHON PROGRAM!\n"
     ]
    }
   ],
   "source": [
    "greet(bark)"
   ]
  },
  {
   "cell_type": "markdown",
   "metadata": {
    "hidden": true
   },
   "source": [
    "Of course, you could also define a new function to generate a differ-\n",
    "ent flavor of greeting. For example, the following whisper function\n",
    "might work better if you don’t want your Python programs to sound\n",
    "like Optimus Prime:"
   ]
  },
  {
   "cell_type": "code",
   "execution_count": 50,
   "metadata": {
    "ExecuteTime": {
     "end_time": "2019-09-02T15:34:57.379322Z",
     "start_time": "2019-09-02T15:34:57.372489Z"
    },
    "hidden": true
   },
   "outputs": [
    {
     "name": "stdout",
     "output_type": "stream",
     "text": [
      "hi, i am a python program...\n"
     ]
    }
   ],
   "source": [
    "def whisper(text):\n",
    "    return text.lower() + '...'\n",
    "\n",
    "greet(whisper)"
   ]
  },
  {
   "cell_type": "markdown",
   "metadata": {
    "hidden": true
   },
   "source": [
    "The ability to pass function objects as arguments to other functions is\n",
    "powerful. It allows you to abstract away and pass around behavior in\n",
    "your programs. In this example, the greet function stays the same but\n",
    "you can influence its output by passing in different greeting behaviors."
   ]
  },
  {
   "cell_type": "markdown",
   "metadata": {
    "hidden": true
   },
   "source": [
    "Functions that can accept other functions as arguments are also called <span style='background-color: lightgreen'>higher-order functions</span>. They are a necessity for the functional programming style."
   ]
  },
  {
   "cell_type": "markdown",
   "metadata": {
    "hidden": true
   },
   "source": [
    "The classical example for higher-order functions in Python is the built-\n",
    "in map function. It takes a function object and an iterable, and then\n",
    "calls the function on each element in the iterable, yielding the results\n",
    "as it goes along."
   ]
  },
  {
   "cell_type": "markdown",
   "metadata": {
    "hidden": true
   },
   "source": [
    "Here’s how you might format a sequence of greetings all at once by\n",
    "mapping the bark function to them:"
   ]
  },
  {
   "cell_type": "code",
   "execution_count": 52,
   "metadata": {
    "ExecuteTime": {
     "end_time": "2019-09-02T15:36:25.450501Z",
     "start_time": "2019-09-02T15:36:25.443667Z"
    },
    "hidden": true
   },
   "outputs": [
    {
     "data": {
      "text/plain": [
       "['HELLO!', 'HEY!', 'HI!']"
      ]
     },
     "execution_count": 52,
     "metadata": {},
     "output_type": "execute_result"
    }
   ],
   "source": [
    "list(map(bark, ['hello', 'hey', 'hi']))"
   ]
  },
  {
   "cell_type": "code",
   "execution_count": 52,
   "metadata": {
    "ExecuteTime": {
     "end_time": "2019-09-02T15:36:25.450501Z",
     "start_time": "2019-09-02T15:36:25.443667Z"
    },
    "hidden": true,
    "scrolled": true
   },
   "outputs": [
    {
     "data": {
      "text/plain": [
       "['HELLO!', 'HEY!', 'HI!']"
      ]
     },
     "execution_count": 52,
     "metadata": {},
     "output_type": "execute_result"
    }
   ],
   "source": [
    "list(map(bark, ['hello', 'hey', 'hi']))"
   ]
  },
  {
   "cell_type": "markdown",
   "metadata": {
    "hidden": true
   },
   "source": [
    "As you saw, map went through the entire list and applied the bark func-\n",
    "tion to each element. As a result, we now have a new list object with\n",
    "modified greeting strings."
   ]
  },
  {
   "cell_type": "code",
   "execution_count": 93,
   "metadata": {
    "ExecuteTime": {
     "end_time": "2019-09-02T17:24:19.776774Z",
     "start_time": "2019-09-02T17:24:19.770917Z"
    },
    "hidden": true,
    "scrolled": true
   },
   "outputs": [
    {
     "data": {
      "text/plain": [
       "['Hello', 'Hey', 'Hi']"
      ]
     },
     "execution_count": 93,
     "metadata": {},
     "output_type": "execute_result"
    }
   ],
   "source": [
    "list(map(funcs[2], ['hello', 'hey', 'hi']))"
   ]
  },
  {
   "cell_type": "markdown",
   "metadata": {
    "heading_collapsed": true,
    "hidden": true
   },
   "source": [
    "### Functions Can Be Nested "
   ]
  },
  {
   "cell_type": "markdown",
   "metadata": {
    "hidden": true
   },
   "source": [
    "Perhaps surprisingly, Python allows functions to be defined inside other functions. These are often called nested functions or inner functions. Here’s an example:"
   ]
  },
  {
   "cell_type": "code",
   "execution_count": 55,
   "metadata": {
    "ExecuteTime": {
     "end_time": "2019-09-02T15:49:29.030739Z",
     "start_time": "2019-09-02T15:49:29.021954Z"
    },
    "hidden": true
   },
   "outputs": [
    {
     "data": {
      "text/plain": [
       "'hello, world...'"
      ]
     },
     "execution_count": 55,
     "metadata": {},
     "output_type": "execute_result"
    }
   ],
   "source": [
    "def speak(text):\n",
    "    def whisper(t):\n",
    "        return t.lower() + '...'\n",
    "    return whisper(text)\n",
    "\n",
    "speak('Hello, World')"
   ]
  },
  {
   "cell_type": "markdown",
   "metadata": {
    "hidden": true
   },
   "source": [
    "Now, what’s going on here? Every time you call speak, it defines a new inner function whisper and then calls it immediately after. My brain’s starting to itch just a little here but, all in all, that’s still relatively straightforward stuff. <font color = 'red'>Here’s the kicker though—whisper does not exist outside speak:</font>"
   ]
  },
  {
   "cell_type": "markdown",
   "metadata": {
    "hidden": true
   },
   "source": [
    "**<font color = 'purple'>But what if you really wanted to access that nested whisper function\n",
    "from outside speak? </font>** \n",
    "\n",
    "<font color = 'blue'>Well, functions are objects—you can return the\n",
    "inner function to the caller of the parent function</font>."
   ]
  },
  {
   "cell_type": "markdown",
   "metadata": {
    "hidden": true
   },
   "source": [
    "For example, here’s a function defining two inner functions. Depending on the argument passed to top-level function, it selects and returns one of the inner functions to the caller:"
   ]
  },
  {
   "cell_type": "code",
   "execution_count": 57,
   "metadata": {
    "ExecuteTime": {
     "end_time": "2019-09-02T15:51:06.345199Z",
     "start_time": "2019-09-02T15:51:06.337389Z"
    },
    "hidden": true
   },
   "outputs": [],
   "source": [
    "def get_speak_func(volume):\n",
    "    def whisper(text):\n",
    "        return text.lower() + '...'\n",
    "    def yell(text):\n",
    "        return text.upper() + '!'\n",
    "    if volume > 0.5:\n",
    "        return yell\n",
    "    else:\n",
    "        return whisper"
   ]
  },
  {
   "cell_type": "markdown",
   "metadata": {
    "hidden": true
   },
   "source": [
    "Notice how get_speak_func doesn’t actually call any of its inner\n",
    "functions—it simply selects the appropriate inner function based on\n",
    "the volume argument and then returns the function object:"
   ]
  },
  {
   "cell_type": "code",
   "execution_count": 58,
   "metadata": {
    "ExecuteTime": {
     "end_time": "2019-09-02T15:51:25.752120Z",
     "start_time": "2019-09-02T15:51:25.744310Z"
    },
    "hidden": true
   },
   "outputs": [
    {
     "data": {
      "text/plain": [
       "<function __main__.get_speak_func.<locals>.whisper(text)>"
      ]
     },
     "execution_count": 58,
     "metadata": {},
     "output_type": "execute_result"
    }
   ],
   "source": [
    "get_speak_func(0.3)"
   ]
  },
  {
   "cell_type": "code",
   "execution_count": 60,
   "metadata": {
    "ExecuteTime": {
     "end_time": "2019-09-02T16:29:04.915488Z",
     "start_time": "2019-09-02T16:29:04.906702Z"
    },
    "hidden": true
   },
   "outputs": [
    {
     "data": {
      "text/plain": [
       "<function __main__.get_speak_func.<locals>.yell(text)>"
      ]
     },
     "execution_count": 60,
     "metadata": {},
     "output_type": "execute_result"
    }
   ],
   "source": [
    "get_speak_func(0.7)"
   ]
  },
  {
   "cell_type": "markdown",
   "metadata": {
    "hidden": true
   },
   "source": [
    "Of course, you could then go on and call the returned function, either\n",
    "directly or by assigning it to a variable name first:"
   ]
  },
  {
   "cell_type": "code",
   "execution_count": 63,
   "metadata": {
    "ExecuteTime": {
     "end_time": "2019-09-02T16:29:32.557136Z",
     "start_time": "2019-09-02T16:29:32.550303Z"
    },
    "hidden": true
   },
   "outputs": [
    {
     "data": {
      "text/plain": [
       "'HELLO!'"
      ]
     },
     "execution_count": 63,
     "metadata": {},
     "output_type": "execute_result"
    }
   ],
   "source": [
    "speak_func = get_speak_func(0.7)\n",
    "speak_func('Hello')"
   ]
  },
  {
   "cell_type": "markdown",
   "metadata": {
    "hidden": true
   },
   "source": [
    "Let that sink in for a second here… \n",
    "\n",
    "> <font color = 'green'>**This means not only can functions accept behaviors through arguments but they can also return behaviors**</font>. \n",
    "\n",
    "How cool is that? You know what, things are starting to get a little loopy here. I’m going to take a quick coffee break before I continue writing (and I suggest you do the same)."
   ]
  },
  {
   "cell_type": "markdown",
   "metadata": {
    "heading_collapsed": true,
    "hidden": true
   },
   "source": [
    "### Functions Can Capture Local State"
   ]
  },
  {
   "cell_type": "markdown",
   "metadata": {
    "hidden": true
   },
   "source": [
    "You just saw how functions can contain inner functions, and that it’s even possible to return these (otherwise hidden) inner functions from the parent function. \n",
    "\n",
    "<font color = 'lightgrey'>Best put on your seat belt now because it’s going to get a little crazier still—we’re about to enter even deeper functional programming territory. (You had that coffee break, right?)</font>\n",
    "\n",
    "<font color = 'blue'>Not only can functions return other functions, these inner functions can also capture and carry some of the parent function’s state with them</font>. **<font color = 'purple'>Well, what does that mean? </font>**"
   ]
  },
  {
   "cell_type": "markdown",
   "metadata": {
    "hidden": true
   },
   "source": [
    "I’m going to slightly rewrite the previous ```get_speak_func``` example to illustrate this. \n",
    "\n",
    "**<font color = 'purple'>The new version takes a “volume” and a “text” argument right away to make the returned function immediately callable </font>**:"
   ]
  },
  {
   "cell_type": "code",
   "execution_count": 65,
   "metadata": {
    "ExecuteTime": {
     "end_time": "2019-09-02T16:38:34.730228Z",
     "start_time": "2019-09-02T16:38:34.722419Z"
    },
    "hidden": true
   },
   "outputs": [
    {
     "data": {
      "text/plain": [
       "'HELLO, WORLD!'"
      ]
     },
     "execution_count": 65,
     "metadata": {},
     "output_type": "execute_result"
    }
   ],
   "source": [
    "def get_speak_func(text, volume):\n",
    "    def whisper():\n",
    "        return text.lower() + '...'\n",
    "    def yell():\n",
    "        return text.upper() + '!'\n",
    "    if volume > 0.5:\n",
    "        return yell\n",
    "    else:\n",
    "        return whisper\n",
    "\n",
    "get_speak_func('Hello, World', 0.7)()\n"
   ]
  },
  {
   "cell_type": "markdown",
   "metadata": {
    "hidden": true
   },
   "source": [
    "**<font color = 'purple'>Take a good look at the inner functions whisper and yell now. Notice how they no longer have a text parameter? </font>** \n",
    "\n",
    "<font color = 'blue'>But somehow they can still access the text parameter defined in the parent function. In fact, they seem to capture and “remember” the value of that argument</font>."
   ]
  },
  {
   "cell_type": "markdown",
   "metadata": {
    "hidden": true
   },
   "source": [
    "> <font color = 'green'>Functions that do this are called <span style='background-color: lightgreen'>lexical closures</span> (or just closures, for short). A closure remembers the values from its enclosing lexical scope even when the program flow is no longer in that scope.</font>"
   ]
  },
  {
   "cell_type": "markdown",
   "metadata": {
    "ExecuteTime": {
     "end_time": "2019-09-02T16:40:41.820753Z",
     "start_time": "2019-09-02T16:40:41.812947Z"
    },
    "hidden": true
   },
   "source": [
    "In practical terms, <font color = 'blue'>this means not only can functions return behaviors but they can also pre-configure those behaviors</font>. Here’s another barebones example to illustrate this idea:"
   ]
  },
  {
   "cell_type": "code",
   "execution_count": 68,
   "metadata": {
    "ExecuteTime": {
     "end_time": "2019-09-02T16:42:35.203722Z",
     "start_time": "2019-09-02T16:42:35.193961Z"
    },
    "hidden": true
   },
   "outputs": [
    {
     "data": {
      "text/plain": [
       "7"
      ]
     },
     "execution_count": 68,
     "metadata": {},
     "output_type": "execute_result"
    },
    {
     "data": {
      "text/plain": [
       "9"
      ]
     },
     "execution_count": 68,
     "metadata": {},
     "output_type": "execute_result"
    }
   ],
   "source": [
    "def make_adder(n):\n",
    "    def add(x):\n",
    "        return x + n\n",
    "    return add\n",
    "\n",
    "plus_3 = make_adder(3)\n",
    "plus_5 = make_adder(5)\n",
    "plus_3(4)\n",
    "plus_5(4)"
   ]
  },
  {
   "cell_type": "markdown",
   "metadata": {
    "hidden": true
   },
   "source": [
    "<font color = 'blue'>In this example, ```make_adder``` serves as a factory to create and configure “adder” functions</font>. \n",
    "\n",
    "* Notice how the “adder” functions can still access the n argument of the ```make_adder``` function (the enclosing scope)."
   ]
  },
  {
   "cell_type": "markdown",
   "metadata": {
    "heading_collapsed": true,
    "hidden": true
   },
   "source": [
    "### Objects Can Behave Like Functions"
   ]
  },
  {
   "cell_type": "code",
   "execution_count": 70,
   "metadata": {
    "ExecuteTime": {
     "end_time": "2019-09-02T16:44:57.927550Z",
     "start_time": "2019-09-02T16:44:57.916813Z"
    },
    "hidden": true
   },
   "outputs": [
    {
     "data": {
      "text/plain": [
       "7"
      ]
     },
     "execution_count": 70,
     "metadata": {},
     "output_type": "execute_result"
    }
   ],
   "source": [
    "class Adder:\n",
    "    def __init__(self, n):\n",
    "        self.n = n\n",
    "\n",
    "    def __call__(self, x):\n",
    "        return self.n + x\n",
    "\n",
    "plus_3 = Adder(3)\n",
    "plus_3(4)"
   ]
  },
  {
   "cell_type": "markdown",
   "metadata": {
    "hidden": true
   },
   "source": [
    "Behind the scenes, “calling” an object instance as a function attempts to execute the object’s ```__call__``` method."
   ]
  },
  {
   "cell_type": "markdown",
   "metadata": {
    "hidden": true
   },
   "source": [
    "Of course, not all objects will be callable. That’s why there’s a built-in\n",
    "callable function to check whether an object appears to be callable\n",
    "or not:"
   ]
  },
  {
   "cell_type": "code",
   "execution_count": 73,
   "metadata": {
    "ExecuteTime": {
     "end_time": "2019-09-02T16:48:59.559812Z",
     "start_time": "2019-09-02T16:48:59.548098Z"
    },
    "hidden": true
   },
   "outputs": [
    {
     "data": {
      "text/plain": [
       "True"
      ]
     },
     "execution_count": 73,
     "metadata": {},
     "output_type": "execute_result"
    },
    {
     "data": {
      "text/plain": [
       "True"
      ]
     },
     "execution_count": 73,
     "metadata": {},
     "output_type": "execute_result"
    },
    {
     "data": {
      "text/plain": [
       "False"
      ]
     },
     "execution_count": 73,
     "metadata": {},
     "output_type": "execute_result"
    }
   ],
   "source": [
    "callable(plus_3)\n",
    "\n",
    "callable(yell)\n",
    "\n",
    "callable('hello')"
   ]
  },
  {
   "cell_type": "markdown",
   "metadata": {
    "heading_collapsed": true
   },
   "source": [
    "## Lambdas Are Single-Expression Functions"
   ]
  },
  {
   "cell_type": "markdown",
   "metadata": {
    "hidden": true
   },
   "source": [
    "<div class=\"alert alert-block alert-info\">\n",
    "<b>Key Takeaways</b>\n",
    "\n",
    "* Lambda functions are single-expression functions that are not\n",
    "necessarily bound to a name (anonymous).\n",
    "* Lambda functions can’t use regular Python statements and always include an implicit return statement.\n",
    "* Always ask yourself: Would using a regular (named) function\n",
    "or a list comprehension offer more clarity?"
   ]
  },
  {
   "cell_type": "markdown",
   "metadata": {
    "hidden": true
   },
   "source": [
    "The lambda keyword in Python provides a shortcut for declaring small anonymous functions. Lambda functions behave just like regular functions declared with the def keyword. They can be used whenever function objects are required. For example, this is how you’d define a simple lambda function carrying out an addition:"
   ]
  },
  {
   "cell_type": "code",
   "execution_count": 75,
   "metadata": {
    "ExecuteTime": {
     "end_time": "2019-09-02T17:10:51.808361Z",
     "start_time": "2019-09-02T17:10:51.800551Z"
    },
    "hidden": true
   },
   "outputs": [
    {
     "data": {
      "text/plain": [
       "8"
      ]
     },
     "execution_count": 75,
     "metadata": {},
     "output_type": "execute_result"
    }
   ],
   "source": [
    ">>> add = lambda x, y: x + y\n",
    ">>> add(5, 3)"
   ]
  },
  {
   "cell_type": "code",
   "execution_count": 77,
   "metadata": {
    "ExecuteTime": {
     "end_time": "2019-09-02T17:11:14.869395Z",
     "start_time": "2019-09-02T17:11:14.861582Z"
    },
    "hidden": true
   },
   "outputs": [
    {
     "data": {
      "text/plain": [
       "8"
      ]
     },
     "execution_count": 77,
     "metadata": {},
     "output_type": "execute_result"
    }
   ],
   "source": [
    ">>> def add(x, y):\n",
    "        return x + y\n",
    ">>> add(5, 3)"
   ]
  },
  {
   "cell_type": "code",
   "execution_count": 79,
   "metadata": {
    "ExecuteTime": {
     "end_time": "2019-09-02T17:11:55.914090Z",
     "start_time": "2019-09-02T17:11:55.907256Z"
    },
    "hidden": true
   },
   "outputs": [
    {
     "data": {
      "text/plain": [
       "8"
      ]
     },
     "execution_count": 79,
     "metadata": {},
     "output_type": "execute_result"
    }
   ],
   "source": [
    "(lambda x, y: x + y)(5, 3)"
   ]
  },
  {
   "cell_type": "markdown",
   "metadata": {
    "hidden": true
   },
   "source": [
    "Okay, what happened here? I just used lambda to define an “add” function inline and then immediately called it with the arguments 5 and 3."
   ]
  },
  {
   "cell_type": "markdown",
   "metadata": {
    "hidden": true
   },
   "source": [
    "Conceptually, the lambda expression lambda x, y: x + y is the same as declaring a function with def, but just written inline. The key difference here is that I didn’t have to bind the function object to a name before I used it. I simply stated the expression I wanted to compute as part of a lambda, and then immediately evaluated it by calling the lambda expression like a regular function."
   ]
  },
  {
   "cell_type": "markdown",
   "metadata": {
    "hidden": true
   },
   "source": [
    "There’s another syntactic difference between lambdas and regular function definitions. Lambda functions are restricted to a single expression. This means a lambda function can’t use statements or annotations—not even a return statement."
   ]
  },
  {
   "cell_type": "markdown",
   "metadata": {
    "hidden": true
   },
   "source": [
    "How do you return values from lambdas then? <font color = 'blue'>Executing a lambda function evaluates its expression and then automatically returns the expression’s result, so there’s always an implicit return statement</font>. That’s why some people refer to lambdas as single expression functions."
   ]
  },
  {
   "cell_type": "markdown",
   "metadata": {
    "heading_collapsed": true,
    "hidden": true
   },
   "source": [
    "### Lambdas You Can Use"
   ]
  },
  {
   "cell_type": "markdown",
   "metadata": {
    "hidden": true
   },
   "source": [
    "**<font color = 'purple'>When should you use lambda functions in your code? </font>** \n",
    "\n",
    "Technically, any time you’re expected to supply a function object you can use a lambda expression. And because lambdas can be anonymous, you don’t even need to assign them to a name first. This can provide a handy and “unbureaucratic” shortcut to defining a function in Python. \n",
    "\n",
    "<font color = 'blue'>My most frequent use case for lambdas is writing short and concise key funcs for sorting iterables by an alternate key</font>:"
   ]
  },
  {
   "cell_type": "code",
   "execution_count": 81,
   "metadata": {
    "ExecuteTime": {
     "end_time": "2019-09-02T17:16:20.324070Z",
     "start_time": "2019-09-02T17:16:20.313331Z"
    },
    "hidden": true
   },
   "outputs": [
    {
     "data": {
      "text/plain": [
       "[(4, 'a'), (2, 'b'), (3, 'c'), (1, 'd')]"
      ]
     },
     "execution_count": 81,
     "metadata": {},
     "output_type": "execute_result"
    }
   ],
   "source": [
    ">>> tuples = [(1, 'd'), (2, 'b'), (4, 'a'), (3, 'c')]\n",
    ">>> sorted(tuples, key=lambda x: x[1])"
   ]
  },
  {
   "cell_type": "markdown",
   "metadata": {
    "hidden": true
   },
   "source": [
    "In the above example, we’re sorting a list of tuples by the second value\n",
    "in each tuple. In this case, the lambda function provides a quick way\n",
    "to modify the sort order. Here’s another sorting example you can play\n",
    "with:"
   ]
  },
  {
   "cell_type": "code",
   "execution_count": 82,
   "metadata": {
    "ExecuteTime": {
     "end_time": "2019-09-02T17:16:33.881554Z",
     "start_time": "2019-09-02T17:16:33.873745Z"
    },
    "hidden": true
   },
   "outputs": [
    {
     "data": {
      "text/plain": [
       "[0, -1, 1, -2, 2, -3, 3, -4, 4, -5, 5]"
      ]
     },
     "execution_count": 82,
     "metadata": {},
     "output_type": "execute_result"
    }
   ],
   "source": [
    "sorted(range(-5, 6), key=lambda x: x * x)"
   ]
  },
  {
   "cell_type": "markdown",
   "metadata": {
    "hidden": true
   },
   "source": [
    "Both examples I showed you have more concise implementations in\n",
    "Python using the built-in ```operator.itemgetter()``` and ```abs()``` functions. But I hope you can see how using a lambda gives you much more flexibility. Want to sort a sequence by some arbitrary computed key? No problem. Now you know how to do it."
   ]
  },
  {
   "cell_type": "markdown",
   "metadata": {
    "hidden": true
   },
   "source": [
    "**<font color = 'purple'>Here’s another interesting thing about lambdas </font>**: <font color = 'blue'>Just like regular nested functions, lambdas also work as lexical closures</font>. \n",
    "\n",
    "* What’s a lexical closure? It’s just a fancy name for a function that remembers the values from the enclosing lexical scope even when the program flow is no longer in that scope. \n",
    "\n",
    "Here’s a (fairly academic) example to illustrate the idea:"
   ]
  },
  {
   "cell_type": "code",
   "execution_count": 84,
   "metadata": {
    "ExecuteTime": {
     "end_time": "2019-09-02T17:19:35.140905Z",
     "start_time": "2019-09-02T17:19:35.129190Z"
    },
    "hidden": true
   },
   "outputs": [
    {
     "data": {
      "text/plain": [
       "7"
      ]
     },
     "execution_count": 84,
     "metadata": {},
     "output_type": "execute_result"
    },
    {
     "data": {
      "text/plain": [
       "9"
      ]
     },
     "execution_count": 84,
     "metadata": {},
     "output_type": "execute_result"
    }
   ],
   "source": [
    ">>> def make_adder(n):\n",
    "        return lambda x: x + n\n",
    "\n",
    ">>> plus_3 = make_adder(3)\n",
    ">>> plus_5 = make_adder(5)\n",
    "\n",
    ">>> plus_3(4)\n",
    ">>> plus_5(4)\n"
   ]
  },
  {
   "cell_type": "markdown",
   "metadata": {
    "hidden": true
   },
   "source": [
    "In the above example, the ```x + n``` lambda can still access the value of n even though it was defined in the make_adder function (the enclosing scope). \n",
    "\n",
    "Sometimes, using a lambda function instead of a nested function declared with the def keyword can express the programmer’s intent more clearly. But to be honest, this isn’t a common occurrence—at least not in the kind of code that I like to write. So let’s talk a little more about that."
   ]
  },
  {
   "cell_type": "markdown",
   "metadata": {
    "hidden": true
   },
   "source": [
    "<font color = 'red'>But Maybe You Shouldn’t…</font>"
   ]
  },
  {
   "cell_type": "markdown",
   "metadata": {
    "hidden": true
   },
   "source": [
    "Lambda functions should be used sparingly and with extraordinary care."
   ]
  },
  {
   "cell_type": "markdown",
   "metadata": {
    "ExecuteTime": {
     "end_time": "2019-09-02T17:21:31.504332Z",
     "start_time": "2019-09-02T17:21:31.492618Z"
    },
    "hidden": true
   },
   "source": [
    "For example, doing something like this to save two lines of code is just\n",
    "silly. Sure, technically it works and it’s a nice enough “trick.” But it’s\n",
    "also going to confuse the next gal or guy that has to ship a bugfix under\n",
    "a tight deadline:"
   ]
  },
  {
   "cell_type": "code",
   "execution_count": 87,
   "metadata": {
    "ExecuteTime": {
     "end_time": "2019-09-02T17:22:29.811064Z",
     "start_time": "2019-09-02T17:22:29.803256Z"
    },
    "hidden": true
   },
   "outputs": [
    {
     "name": "stdout",
     "output_type": "stream",
     "text": [
      "Boom!\n"
     ]
    }
   ],
   "source": [
    "class Car:\n",
    "    rev = lambda self: print('Wroom!')\n",
    "    crash = lambda self: print('Boom!')\n",
    "\n",
    "my_car = Car()\n",
    "my_car.crash()"
   ]
  },
  {
   "cell_type": "markdown",
   "metadata": {
    "hidden": true
   },
   "source": [
    "I have similar feelings about complicated map() or filter() constructs using lambdas. Usually it’s much cleaner to go with a list comprehension or generator expression:"
   ]
  },
  {
   "cell_type": "code",
   "execution_count": 96,
   "metadata": {
    "ExecuteTime": {
     "end_time": "2019-09-02T17:25:10.521509Z",
     "start_time": "2019-09-02T17:25:10.512722Z"
    },
    "hidden": true
   },
   "outputs": [
    {
     "data": {
      "text/plain": [
       "[0, 2, 4, 6, 8, 10, 12, 14]"
      ]
     },
     "execution_count": 96,
     "metadata": {},
     "output_type": "execute_result"
    }
   ],
   "source": [
    "# Harmful:\n",
    ">>> list(filter(lambda x: x % 2 == 0, range(16)))\n",
    "# [0, 2, 4, 6, 8, 10, 12, 14]"
   ]
  },
  {
   "cell_type": "code",
   "execution_count": 97,
   "metadata": {
    "ExecuteTime": {
     "end_time": "2019-09-02T17:25:50.709799Z",
     "start_time": "2019-09-02T17:25:50.701014Z"
    },
    "hidden": true
   },
   "outputs": [
    {
     "data": {
      "text/plain": [
       "[0, 2, 4, 6, 8, 10, 12, 14]"
      ]
     },
     "execution_count": 97,
     "metadata": {},
     "output_type": "execute_result"
    }
   ],
   "source": [
    "# Better:\n",
    ">>> [x for x in range(16) if x % 2 == 0]\n",
    "# [0, 2, 4, 6, 8, 10, 12, 14]"
   ]
  },
  {
   "cell_type": "markdown",
   "metadata": {
    "hidden": true
   },
   "source": [
    "If you find yourself doing anything remotely complex with lambda\n",
    "expressions, consider defining a standalone function with a proper\n",
    "name instead.\n",
    "\n",
    "Saving a few keystrokes won’t matter in the long run, but your colleagues (and your future self) will appreciate clean and readable code more than terse wizardry."
   ]
  },
  {
   "cell_type": "markdown",
   "metadata": {
    "heading_collapsed": true
   },
   "source": [
    "## The Power of Decorators"
   ]
  },
  {
   "cell_type": "markdown",
   "metadata": {
    "hidden": true
   },
   "source": [
    "<div class=\"alert alert-block alert-info\">\n",
    "<b>Key Takeaways</b>\n",
    "\n",
    "* Decorators define reusable building blocks you can apply to a\n",
    "callable to modify its behavior without permanently modifying\n",
    "the callable itself.\n",
    "\n",
    "\n",
    "* The @ syntax is just a shorthand for calling the decorator on an input function. Multiple decorators on a single function are applied bottom to top (decorator stacking). \n",
    "\n",
    "\n",
    "* As a debugging best practice, use the @functools.wraps(func) helper in your own decorators to carry over metadata from the undecorated callable to the decorated one.\n",
    "\n",
    "\n",
    "* Just like any other tool in the software development toolbox, decorators are not a cure-all and they should not be overused. It’s important to balance the need to “get stuff done” with the goal of “not getting tangled up in a horrible, unmaintainable mess of a code base.”"
   ]
  },
  {
   "cell_type": "markdown",
   "metadata": {
    "hidden": true
   },
   "source": [
    "At their core, <font color = 'blue'>Python’s decorators allow you to extend and modify the behavior of a callable (functions, methods, and classes) without permanently modifying the callable itself</font>. \n",
    "\n",
    "Any sufficiently generic functionality you can tack on to an existing class or function’s behavior makes a great use case for decoration. This includes the following:\n",
    "\n",
    "* logging\n",
    "* enforcing access control and authentication\n",
    "* instrumentation and timing functions\n",
    "* rate-limiting\n",
    "* caching, and more"
   ]
  },
  {
   "cell_type": "markdown",
   "metadata": {
    "hidden": true
   },
   "source": [
    "Now would be an excellent moment to refresh your memory on the properties of first-class functions in python. The most important “first-class functions” takeaways for understanding decorators are:\n",
    "\n",
    "* <font color = 'blue'>**Functions are objects**</font>—they can be assigned to variables and\n",
    "passed to and returned from other functions\n",
    "\n",
    "* <font color = 'blue'>**Functions can be defined inside other functions**</font>—and a\n",
    "child function can capture the parent function’s local state (lexical closures)"
   ]
  },
  {
   "cell_type": "markdown",
   "metadata": {
    "heading_collapsed": true,
    "hidden": true
   },
   "source": [
    "### Python Decorator Basics"
   ]
  },
  {
   "cell_type": "markdown",
   "metadata": {
    "hidden": true
   },
   "source": [
    "Now, what are decorators really? They “decorate” or “wrap” another function and let you execute code before and after the wrapped function runs.\n",
    "\n",
    "Decorators allow you to define reusable building blocks that can change or extend the behavior of other functions. And, they let you do that without permanently modifying the wrapped function itself. The function’s behavior changes only when it’s decorated.\n",
    "\n",
    "What might the implementation of a simple decorator look like? In basic terms, a decorator is a callable that takes a callable as input and returns another callable.\n",
    "\n",
    "The following function has that property and could be considered the simplest decorator you could possibly write:"
   ]
  },
  {
   "cell_type": "code",
   "execution_count": 100,
   "metadata": {
    "ExecuteTime": {
     "end_time": "2019-09-02T17:57:53.651033Z",
     "start_time": "2019-09-02T17:57:53.646152Z"
    },
    "hidden": true
   },
   "outputs": [],
   "source": [
    "def null_decorator(func):\n",
    "    return func"
   ]
  },
  {
   "cell_type": "markdown",
   "metadata": {
    "hidden": true
   },
   "source": [
    "As you can see, null_decorator is a callable (it’s a function), it takes\n",
    "another callable as its input, and it returns the same input callable\n",
    "without modifying it.\n",
    "\n",
    "Let’s use it to decorate (or wrap) another function:"
   ]
  },
  {
   "cell_type": "code",
   "execution_count": 103,
   "metadata": {
    "ExecuteTime": {
     "end_time": "2019-09-02T18:06:39.276180Z",
     "start_time": "2019-09-02T18:06:39.268370Z"
    },
    "hidden": true
   },
   "outputs": [
    {
     "data": {
      "text/plain": [
       "'Hello!'"
      ]
     },
     "execution_count": 103,
     "metadata": {},
     "output_type": "execute_result"
    }
   ],
   "source": [
    "def greet():\n",
    "    return 'Hello!'\n",
    "\n",
    "greet = null_decorator(greet)\n",
    "\n",
    "greet()"
   ]
  },
  {
   "cell_type": "markdown",
   "metadata": {
    "hidden": true
   },
   "source": [
    "In this example, I’ve defined a greet function and then immediately decorated it by running it through the null_decorator function. I know this doesn’t look very useful yet. I mean, we specifically designed the null decorator to be useless, right? But in a moment this example will clarify how Python’s special-case decorator syntax works.\n",
    "\n",
    "Instead of explicitly calling null_decorator on greet and then reassigning the greet variable, you can use Python’s @ syntax for decorating a function more conveniently:"
   ]
  },
  {
   "cell_type": "code",
   "execution_count": 105,
   "metadata": {
    "ExecuteTime": {
     "end_time": "2019-09-02T18:08:38.552333Z",
     "start_time": "2019-09-02T18:08:38.544523Z"
    },
    "hidden": true
   },
   "outputs": [
    {
     "data": {
      "text/plain": [
       "'Hello!'"
      ]
     },
     "execution_count": 105,
     "metadata": {},
     "output_type": "execute_result"
    }
   ],
   "source": [
    "@null_decorator\n",
    "def greet():\n",
    "    return 'Hello!'\n",
    "\n",
    "greet()\n"
   ]
  },
  {
   "cell_type": "markdown",
   "metadata": {
    "hidden": true
   },
   "source": [
    "Putting an @null_decorator line in front of the function definition is the same as defining the function first and then running through the decorator. Using the @ syntax is just syntactic sugar and a shortcut for this commonly used pattern. \n",
    "\n",
    "<font color = 'red'>Note that using the @ syntax decorates the function immediately at definition time. This makes it difficult to access the undecorated original without brittle hacks</font>. <font color = 'blue'>Therefore you might choose to decorate some functions manually in order to retain the ability to call the undecorated function as well</font>."
   ]
  },
  {
   "cell_type": "markdown",
   "metadata": {
    "heading_collapsed": true,
    "hidden": true
   },
   "source": [
    "### Decorators Can Modify Behavior"
   ]
  },
  {
   "cell_type": "markdown",
   "metadata": {
    "hidden": true
   },
   "source": [
    "Now that you’re a little more familiar with the decorator syntax, let’s write another decorator that actually does something and modifies the behavior of the decorated function.\n",
    "\n",
    "Here’s a slightly more complex decorator which converts the result of the decorated function to uppercase letters:"
   ]
  },
  {
   "cell_type": "code",
   "execution_count": 107,
   "metadata": {
    "ExecuteTime": {
     "end_time": "2019-09-02T18:12:27.207386Z",
     "start_time": "2019-09-02T18:12:27.200555Z"
    },
    "hidden": true
   },
   "outputs": [],
   "source": [
    "def uppercase(func):\n",
    "    def wrapper():\n",
    "        original_result = func()\n",
    "        modified_result = original_result.upper()\n",
    "        return modified_result\n",
    "    return wrapper"
   ]
  },
  {
   "cell_type": "markdown",
   "metadata": {
    "hidden": true
   },
   "source": [
    "Instead of simply returning the input function like the null decorator did, this uppercase decorator defines a new function on the fly (a closure) and uses it to wrap the input function in order to modify its behavior at call time.\n",
    "\n",
    "<font color = 'blue'>The wrapper closure has access to the undecorated input function and it is free to execute additional code before and after calling the input function</font>. (Technically, it doesn’t even need to call the input function at all.)\n",
    "\n",
    "Note how, up until now, the decorated function has never been executed. Actually calling the input function at this point wouldn’t make any sense—you’ll want the decorator to be able to modify the behavior of its input function when it eventually gets called.\n",
    "\n",
    "Time to see the uppercase decorator in action. What happens if you decorate the original greet function with it?"
   ]
  },
  {
   "cell_type": "code",
   "execution_count": 114,
   "metadata": {
    "ExecuteTime": {
     "end_time": "2019-09-02T18:22:14.577175Z",
     "start_time": "2019-09-02T18:22:14.570340Z"
    },
    "hidden": true
   },
   "outputs": [
    {
     "data": {
      "text/plain": [
       "'HELLO!'"
      ]
     },
     "execution_count": 114,
     "metadata": {},
     "output_type": "execute_result"
    }
   ],
   "source": [
    "@uppercase\n",
    "def greet():\n",
    "    return 'Hello!'\n",
    "\n",
    "greet()\n"
   ]
  },
  {
   "cell_type": "markdown",
   "metadata": {
    "hidden": true
   },
   "source": [
    "I hope this was the result you expected. Let’s take a closer look at what just happened here. <font color = 'blue'>Unlike null_decorator, our uppercase decorator returns a different function object when it decorates a function</font>:"
   ]
  },
  {
   "cell_type": "code",
   "execution_count": 111,
   "metadata": {
    "ExecuteTime": {
     "end_time": "2019-09-02T18:21:59.993003Z",
     "start_time": "2019-09-02T18:21:59.986170Z"
    },
    "hidden": true
   },
   "outputs": [
    {
     "data": {
      "text/plain": [
       "<function __main__.uppercase.<locals>.wrapper()>"
      ]
     },
     "execution_count": 111,
     "metadata": {},
     "output_type": "execute_result"
    }
   ],
   "source": [
    "greet"
   ]
  },
  {
   "cell_type": "code",
   "execution_count": 112,
   "metadata": {
    "ExecuteTime": {
     "end_time": "2019-09-02T18:22:01.289622Z",
     "start_time": "2019-09-02T18:22:01.281815Z"
    },
    "hidden": true
   },
   "outputs": [
    {
     "data": {
      "text/plain": [
       "<function __main__.uppercase.<locals>.wrapper()>"
      ]
     },
     "execution_count": 112,
     "metadata": {},
     "output_type": "execute_result"
    }
   ],
   "source": [
    "null_decorator(greet)"
   ]
  },
  {
   "cell_type": "code",
   "execution_count": 115,
   "metadata": {
    "ExecuteTime": {
     "end_time": "2019-09-02T18:23:36.544929Z",
     "start_time": "2019-09-02T18:23:36.537120Z"
    },
    "hidden": true
   },
   "outputs": [
    {
     "data": {
      "text/plain": [
       "<function __main__.uppercase.<locals>.wrapper()>"
      ]
     },
     "execution_count": 115,
     "metadata": {},
     "output_type": "execute_result"
    }
   ],
   "source": [
    "uppercase(greet)"
   ]
  },
  {
   "cell_type": "markdown",
   "metadata": {
    "hidden": true
   },
   "source": [
    "And as you saw earlier, it needs to do that in order to modify the\n",
    "behavior of the decorated function when it finally gets called. <font color = 'blue'>The\n",
    "uppercase decorator is a function itself. And the only way to influence\n",
    "the “future behavior” of an input function it decorates is to replace (or\n",
    "wrap) the input function with a closure</font>."
   ]
  },
  {
   "cell_type": "markdown",
   "metadata": {
    "hidden": true
   },
   "source": [
    "<font color = 'blue'>That’s why uppercase defines and returns another function (the closure) that can then be called at a later time, run the original input function, and modify its result</font>.\n",
    "\n",
    "* Decorators modify the behavior of a callable through a wrapper closure so you don’t have to permanently modify the original. The original callable isn’t permanently modified—its behavior changes only when decorated.\n",
    "\n",
    "This let’s you tack on reusable building blocks, like logging and other instrumentation, to existing functions and classes. It makes decorators such a powerful feature in Python that it’s frequently used in the standard library and in third-party packages."
   ]
  },
  {
   "cell_type": "markdown",
   "metadata": {
    "heading_collapsed": true,
    "hidden": true
   },
   "source": [
    "### Applying Multiple Decorators to a Function"
   ]
  },
  {
   "cell_type": "markdown",
   "metadata": {
    "hidden": true
   },
   "source": [
    "Perhaps not surprisingly, you can apply more than one decorator to a function. This accumulates their effects and it’s what makes decorators so helpful as reusable building blocks.\n",
    "\n",
    "Here’s an example. **<font color = 'purple'>The following two decorators wrap the output string of the decorated function in HTML tags </font>**. By looking at how the tags are nested, you can see which order Python uses to apply multiple decorators:\n"
   ]
  },
  {
   "cell_type": "code",
   "execution_count": 116,
   "metadata": {
    "ExecuteTime": {
     "end_time": "2019-09-02T18:29:35.118534Z",
     "start_time": "2019-09-02T18:29:35.109747Z"
    },
    "hidden": true
   },
   "outputs": [],
   "source": [
    "def strong(func):\n",
    "    def wrapper():\n",
    "        return '<strong>' + func() + '</strong>'\n",
    "    return wrapper\n",
    "\n",
    "def emphasis(func):\n",
    "    def wrapper():\n",
    "        return '<em>' + func() + '</em>'\n",
    "    return wrapper"
   ]
  },
  {
   "cell_type": "markdown",
   "metadata": {
    "hidden": true
   },
   "source": [
    "Now let’s take these two decorators and apply them to our greet func-\n",
    "tion at the same time. You can use the regular @ syntax for that and\n",
    "just “stack” multiple decorators on top of a single function:"
   ]
  },
  {
   "cell_type": "code",
   "execution_count": 117,
   "metadata": {
    "ExecuteTime": {
     "end_time": "2019-09-02T18:30:06.240103Z",
     "start_time": "2019-09-02T18:30:06.235223Z"
    },
    "hidden": true
   },
   "outputs": [],
   "source": [
    "@strong\n",
    "@emphasis\n",
    "def greet():\n",
    "    return 'Hello!'"
   ]
  },
  {
   "cell_type": "markdown",
   "metadata": {
    "hidden": true
   },
   "source": [
    "What output do you expect to see if you run the decorated function? "
   ]
  },
  {
   "cell_type": "markdown",
   "metadata": {
    "hidden": true
   },
   "source": [
    "Will the ```@emphasis``` decorator add its <em> tag first, or does ```@strong``` have precedence'? Here’s what happens when you call the decorated function:"
   ]
  },
  {
   "cell_type": "code",
   "execution_count": 121,
   "metadata": {
    "ExecuteTime": {
     "end_time": "2019-09-02T18:32:18.842311Z",
     "start_time": "2019-09-02T18:32:18.835477Z"
    },
    "hidden": true
   },
   "outputs": [
    {
     "data": {
      "text/plain": [
       "'<strong><em>Hello!</em></strong>'"
      ]
     },
     "execution_count": 121,
     "metadata": {},
     "output_type": "execute_result"
    }
   ],
   "source": [
    "greet()"
   ]
  },
  {
   "cell_type": "markdown",
   "metadata": {
    "hidden": true
   },
   "source": [
    "<font color = 'blue'>This clearly shows in what order the decorators were applied: from bottom to top</font>. <font color = 'lightgrey'>First, the input function was wrapped by the @emphasis decorator, and then the resulting (decorated) function got wrapped again by the @strong decorator</font>.\n",
    "\n",
    "<font color = 'blue'>To help me remember this bottom to top order, I like to call this behavior decorator stacking</font>. You start building the stack at the bottom and then keep adding new blocks on top to work your way upwards.\n",
    "\n",
    "If you break down the above example and avoid the @ syntax to apply the decorators, the chain of decorator function calls looks like this:\n",
    "\n",
    "```decorated_greet = strong(emphasis(greet))```"
   ]
  },
  {
   "cell_type": "markdown",
   "metadata": {
    "hidden": true
   },
   "source": [
    "This also means that deep levels of decorator <font color = 'red'>stacking will evenutally have an effect on performance because they keep adding nested function calls</font>. In practice, this usually won’t be a problem, but it’s something to keep in mind if you’re working on performanceintensive code that frequently uses decoration."
   ]
  },
  {
   "cell_type": "markdown",
   "metadata": {
    "heading_collapsed": true,
    "hidden": true
   },
   "source": [
    "### Decorating Functions That Accept Arguments"
   ]
  },
  {
   "cell_type": "markdown",
   "metadata": {
    "hidden": true
   },
   "source": [
    "All examples so far only decorated a simple nullary greet function that didn’t take any arguments whatsoever. Up until now, the decorators you saw here didn’t have to deal with forwarding arguments to the input function.\n",
    "\n",
    "<font color = 'red'>If you try to apply one of these decorators to a function that takes arguments, it will not work correctly</font>. **<font color = 'purple'>How do you decorate a function that takes arbitrary arguments? </font>**"
   ]
  },
  {
   "cell_type": "markdown",
   "metadata": {
    "hidden": true
   },
   "source": [
    "This is where Python’s ```*args``` and ```**kwargs feature``` for dealing with variable numbers of arguments comes in handy. The following proxy decorator takes advantage of that:"
   ]
  },
  {
   "cell_type": "code",
   "execution_count": 123,
   "metadata": {
    "ExecuteTime": {
     "end_time": "2019-09-02T18:38:02.023755Z",
     "start_time": "2019-09-02T18:38:02.016920Z"
    },
    "hidden": true
   },
   "outputs": [],
   "source": [
    "def proxy(func):\n",
    "    def wrapper(*args, **kwargs):\n",
    "        return func(*args, **kwargs)\n",
    "    return wrapper"
   ]
  },
  {
   "cell_type": "markdown",
   "metadata": {
    "hidden": true
   },
   "source": [
    "There are two notable things going on with this decorator:\n",
    "\n",
    "* <font color = 'blue'>It uses the ```*``` and ```**``` operators in the wrapper closure definition to collect all positional and keyword arguments and stores them in variables (args and kwargs)</font>. \n",
    "\n",
    "\n",
    "* <font color = 'blue'>The ```wrapper``` closure then forwards the collected arguments to the original input function using the ```*``` and ```**``` “argument unpacking” operators</font>."
   ]
  },
  {
   "cell_type": "markdown",
   "metadata": {
    "hidden": true
   },
   "source": [
    "It’s a bit unfortunate that the meaning of the star and double-star operators is overloaded and changes depending on the context they’re used in, but I hope you get the idea.\n",
    "\n",
    "Let’s expand the technique laid out by the proxy decorator into a more useful practical example. **<font color = 'purple'>Here’s a trace decorator that logs function arguments and results during execution time: </font>**"
   ]
  },
  {
   "cell_type": "code",
   "execution_count": 125,
   "metadata": {
    "ExecuteTime": {
     "end_time": "2019-09-02T18:50:17.558084Z",
     "start_time": "2019-09-02T18:50:17.548319Z"
    },
    "hidden": true
   },
   "outputs": [],
   "source": [
    "def trace(func):\n",
    "    def wrapper(*args, **kwargs):\n",
    "        print(f'TRACE: calling {func.__name__}() '\n",
    "            f'with {args}, {kwargs}')\n",
    "\n",
    "        original_result = func(*args, **kwargs)\n",
    "\n",
    "        print(f'TRACE: {func.__name__}() '\n",
    "            f'returned {original_result!r}')\n",
    "\n",
    "        return original_result\n",
    "    return wrapper"
   ]
  },
  {
   "cell_type": "markdown",
   "metadata": {
    "hidden": true
   },
   "source": [
    "Decorating a function with trace and then calling it will print the arguments passed to the decorated function and its return value. This is still somewhat of a “toy” example—but in a pinch it makes a great debugging aid:"
   ]
  },
  {
   "cell_type": "code",
   "execution_count": 127,
   "metadata": {
    "ExecuteTime": {
     "end_time": "2019-09-02T18:52:10.578398Z",
     "start_time": "2019-09-02T18:52:10.569613Z"
    },
    "hidden": true
   },
   "outputs": [
    {
     "name": "stdout",
     "output_type": "stream",
     "text": [
      "TRACE: calling say() with ('Jane', 'Hello, World'), {}\n",
      "TRACE: say() returned 'Jane: Hello, World'\n"
     ]
    },
    {
     "data": {
      "text/plain": [
       "'Jane: Hello, World'"
      ]
     },
     "execution_count": 127,
     "metadata": {},
     "output_type": "execute_result"
    }
   ],
   "source": [
    "@trace\n",
    "def say(name, line):\n",
    "    return f'{name}: {line}'\n",
    "\n",
    "say('Jane', 'Hello, World')"
   ]
  },
  {
   "cell_type": "markdown",
   "metadata": {
    "hidden": true
   },
   "source": [
    "**<font color = 'purple'>Speaking of debugging, there are some things you should keep in mind when debugging decorators </font>**:\n",
    "\n",
    "When you use a decorator, really what you’re doing is replacing one\n",
    "function with another. <font color = 'red'>One downside of this process is that it “hides”\n",
    "some of the metadata attached to the original (undecorated) function</font>.\n",
    "\n",
    "<font color = 'blue'>For example, the original function name, its docstring, and parameter\n",
    "list are hidden by the wrapper closure</font>:"
   ]
  },
  {
   "cell_type": "code",
   "execution_count": 149,
   "metadata": {
    "ExecuteTime": {
     "end_time": "2019-09-02T19:02:51.883877Z",
     "start_time": "2019-09-02T19:02:51.877043Z"
    },
    "hidden": true
   },
   "outputs": [
    {
     "name": "stdout",
     "output_type": "stream",
     "text": [
      "decorated_greet:\t <function greet at 0x000001ED746D8048>\n",
      "decorated_greet():\t HELLO!\n"
     ]
    }
   ],
   "source": [
    "def greet():\n",
    "    \"\"\"Return a friendly greeting.\"\"\" \n",
    "    return 'Hello!'\n",
    "\n",
    "decorated_greet = uppercase(greet)\n",
    "\n",
    "print('decorated_greet:\\t', decorated_greet)\n",
    "print('decorated_greet():\\t', decorated_greet())"
   ]
  },
  {
   "cell_type": "markdown",
   "metadata": {
    "hidden": true
   },
   "source": [
    "If you try to access any of that function metadata, you’ll see the wrapper closure’s metadata instead:"
   ]
  },
  {
   "cell_type": "code",
   "execution_count": 155,
   "metadata": {
    "ExecuteTime": {
     "end_time": "2019-09-02T19:03:54.230349Z",
     "start_time": "2019-09-02T19:03:54.223515Z"
    },
    "cell_style": "split",
    "hidden": true
   },
   "outputs": [
    {
     "data": {
      "text/plain": [
       "'greet'"
      ]
     },
     "execution_count": 155,
     "metadata": {},
     "output_type": "execute_result"
    }
   ],
   "source": [
    "greet.__name__"
   ]
  },
  {
   "cell_type": "code",
   "execution_count": 154,
   "metadata": {
    "ExecuteTime": {
     "end_time": "2019-09-02T19:03:52.919652Z",
     "start_time": "2019-09-02T19:03:52.912818Z"
    },
    "cell_style": "split",
    "hidden": true
   },
   "outputs": [
    {
     "data": {
      "text/plain": [
       "'Return a friendly greeting.'"
      ]
     },
     "execution_count": 154,
     "metadata": {},
     "output_type": "execute_result"
    }
   ],
   "source": [
    "greet.__doc__"
   ]
  },
  {
   "cell_type": "code",
   "execution_count": 153,
   "metadata": {
    "ExecuteTime": {
     "end_time": "2019-09-02T19:03:50.919137Z",
     "start_time": "2019-09-02T19:03:50.911313Z"
    },
    "hidden": true
   },
   "outputs": [
    {
     "data": {
      "text/plain": [
       "'greet'"
      ]
     },
     "execution_count": 153,
     "metadata": {},
     "output_type": "execute_result"
    }
   ],
   "source": [
    "decorated_greet.__name__"
   ]
  },
  {
   "cell_type": "code",
   "execution_count": 142,
   "metadata": {
    "ExecuteTime": {
     "end_time": "2019-09-02T18:57:16.572867Z",
     "start_time": "2019-09-02T18:57:16.567010Z"
    },
    "hidden": true
   },
   "outputs": [],
   "source": [
    "decorated_greet.__doc__"
   ]
  },
  {
   "cell_type": "markdown",
   "metadata": {
    "hidden": true
   },
   "source": [
    "This makes debugging and working with the Python interpreter awkward and challenging. Thankfully there’s a quick fix for this: the functools.wraps decorator included in Python’s standard library.\n",
    "\n",
    "This makes debugging and working with the Python interpreter\n",
    "awkward and challenging. Thankfully there’s a quick fix for this: the\n",
    "functools.wraps decorator included in Python’s standard library.\n",
    "\n",
    "https://docs.python.org/3/library/functools.html#functools.wraps"
   ]
  },
  {
   "cell_type": "markdown",
   "metadata": {
    "hidden": true
   },
   "source": [
    "You can use functools.wraps in your own decorators to copy over the\n",
    "lost metadata from the undecorated function to the decorator closure.\n",
    "Here’s an example:"
   ]
  },
  {
   "cell_type": "code",
   "execution_count": 143,
   "metadata": {
    "ExecuteTime": {
     "end_time": "2019-09-02T18:59:01.498094Z",
     "start_time": "2019-09-02T18:59:01.491260Z"
    },
    "hidden": true
   },
   "outputs": [],
   "source": [
    "import functools\n",
    "\n",
    "def uppercase(func):\n",
    "    @functools.wraps(func) # add this to rtn metadata of input fn\n",
    "    def wrapper():\n",
    "        return func().upper()\n",
    "    return wrapper"
   ]
  },
  {
   "cell_type": "markdown",
   "metadata": {
    "hidden": true
   },
   "source": [
    "Applying functools.wraps to the wrapper closure returned by the\n",
    "decorator carries over the docstring and other metadata of the input\n",
    "function:"
   ]
  },
  {
   "cell_type": "code",
   "execution_count": 156,
   "metadata": {
    "ExecuteTime": {
     "end_time": "2019-09-02T19:05:57.379547Z",
     "start_time": "2019-09-02T19:05:57.369785Z"
    },
    "hidden": true
   },
   "outputs": [
    {
     "data": {
      "text/plain": [
       "'greet'"
      ]
     },
     "execution_count": 156,
     "metadata": {},
     "output_type": "execute_result"
    },
    {
     "data": {
      "text/plain": [
       "'Return a friendly greeting.'"
      ]
     },
     "execution_count": 156,
     "metadata": {},
     "output_type": "execute_result"
    }
   ],
   "source": [
    "@uppercase\n",
    "def greet():\n",
    "    \"\"\"Return a friendly greeting.\"\"\"\n",
    "    return 'Hello!'\n",
    "\n",
    "greet.__name__\n",
    "\n",
    "greet.__doc__\n"
   ]
  },
  {
   "cell_type": "markdown",
   "metadata": {
    "hidden": true
   },
   "source": [
    "As a best practice, I’d recommend that you use functools.wraps in all of the decorators you write yourself. It doesn’t take much time and it will save you (and others) debugging headaches down the road."
   ]
  },
  {
   "cell_type": "markdown",
   "metadata": {
    "heading_collapsed": true
   },
   "source": [
    "## Fun With *args and **kwargs"
   ]
  },
  {
   "cell_type": "markdown",
   "metadata": {
    "hidden": true
   },
   "source": [
    "<div class=\"alert alert-block alert-info\">\n",
    "<b>Key Takeaways</b>\n",
    "\n",
    "* ```*args``` and ```**kwargs``` let you write functions with a variable\n",
    "number of arguments in Python.\n",
    "\n",
    "\n",
    "* ```*args``` collects extra positional arguments as a tuple. ```**kwargs```\n",
    "collects the extra keyword arguments as a dictionary.\n",
    "\n",
    "\n",
    "* The actual syntax is * and **. Calling them args and kwargs is\n",
    "just a convention (and one you should stick to)."
   ]
  },
  {
   "cell_type": "markdown",
   "metadata": {
    "hidden": true
   },
   "source": [
    "<font color = 'purple'>So what are ```*args``` and ```**kwargs``` parameters used for? </font>\n",
    "\n",
    "They allow a function to accept optional arguments, so you can create flexible APIs in your modules and classes:"
   ]
  },
  {
   "cell_type": "code",
   "execution_count": 158,
   "metadata": {
    "ExecuteTime": {
     "end_time": "2019-09-02T21:11:13.048179Z",
     "start_time": "2019-09-02T21:11:13.039394Z"
    },
    "hidden": true
   },
   "outputs": [],
   "source": [
    "def foo(required, *args, **kwargs):\n",
    "    print(required)\n",
    "    if args:\n",
    "        print(args)\n",
    "    if kwargs:\n",
    "        print(kwargs)"
   ]
  },
  {
   "cell_type": "markdown",
   "metadata": {
    "hidden": true
   },
   "source": [
    "<font color = 'blue'>The above function requires at least one argument called “required,” but it can accept extra positional and keyword arguments as well</font>.\n",
    "\n",
    "> If we call the function with additional arguments, <font color = 'green'>args will collect extra positional arguments as a <span style='background-color: pink'>tuple</span> because the parameter name has a ```*``` prefix</font>.\n",
    "\n",
    "> <font color = 'green'>If we call the function with additional arguments, args will collect extra positional arguments as a tuple because the parameter name has a ```*``` prefix. Likewise, kwargs will collect extra keyword arguments as a <span style='background-color: pink'>dictionary</span> because the parameter name has a ```**``` prefix.</font>"
   ]
  },
  {
   "cell_type": "markdown",
   "metadata": {
    "hidden": true
   },
   "source": [
    "Both args and kwargs can be empty if no extra arguments are passed to the function. As we call the function with various combinations of arguments, you’ll see how Python collects them inside the args and kwargs parameters according to whether they’re positional or keyword arguments:\n"
   ]
  },
  {
   "cell_type": "code",
   "execution_count": 164,
   "metadata": {
    "ExecuteTime": {
     "end_time": "2019-09-02T21:15:14.630712Z",
     "start_time": "2019-09-02T21:15:14.619974Z"
    },
    "hidden": true
   },
   "outputs": [
    {
     "ename": "TypeError",
     "evalue": "foo() missing 1 required positional argument: 'required'",
     "output_type": "error",
     "traceback": [
      "\u001b[1;31m---------------------------------------------------------------------------\u001b[0m",
      "\u001b[1;31mTypeError\u001b[0m                                 Traceback (most recent call last)",
      "\u001b[1;32m<ipython-input-164-c19b6d9633cf>\u001b[0m in \u001b[0;36m<module>\u001b[1;34m\u001b[0m\n\u001b[1;32m----> 1\u001b[1;33m \u001b[0mfoo\u001b[0m\u001b[1;33m(\u001b[0m\u001b[1;33m)\u001b[0m\u001b[1;33m\u001b[0m\u001b[1;33m\u001b[0m\u001b[0m\n\u001b[0m",
      "\u001b[1;31mTypeError\u001b[0m: foo() missing 1 required positional argument: 'required'"
     ]
    }
   ],
   "source": [
    "foo()"
   ]
  },
  {
   "cell_type": "code",
   "execution_count": 163,
   "metadata": {
    "ExecuteTime": {
     "end_time": "2019-09-02T21:15:13.725771Z",
     "start_time": "2019-09-02T21:15:13.719914Z"
    },
    "hidden": true
   },
   "outputs": [
    {
     "name": "stdout",
     "output_type": "stream",
     "text": [
      "hello\n"
     ]
    }
   ],
   "source": [
    "foo('hello')"
   ]
  },
  {
   "cell_type": "code",
   "execution_count": 162,
   "metadata": {
    "ExecuteTime": {
     "end_time": "2019-09-02T21:15:12.997457Z",
     "start_time": "2019-09-02T21:15:12.991601Z"
    },
    "hidden": true
   },
   "outputs": [
    {
     "name": "stdout",
     "output_type": "stream",
     "text": [
      "hello\n",
      "(1, 2, 3)\n"
     ]
    }
   ],
   "source": [
    "foo('hello', 1, 2, 3)"
   ]
  },
  {
   "cell_type": "code",
   "execution_count": 165,
   "metadata": {
    "ExecuteTime": {
     "end_time": "2019-09-02T21:16:07.236458Z",
     "start_time": "2019-09-02T21:16:07.229624Z"
    },
    "hidden": true
   },
   "outputs": [
    {
     "name": "stdout",
     "output_type": "stream",
     "text": [
      "hello\n",
      "(1, 2, 3)\n",
      "{'key1': 'value', 'key2': 999}\n"
     ]
    }
   ],
   "source": [
    "foo('hello', 1, 2, 3, key1='value', key2=999)"
   ]
  },
  {
   "cell_type": "markdown",
   "metadata": {
    "hidden": true
   },
   "source": [
    "<font color = 'blue'>I want to make it clear that calling the parameters args and kwargs is simply a naming convention</font>. The previous example would work just as well if you called them ```*parms``` and ```**argv```. The actual syntax is just the asterisk (```*```) or double asterisk (```**```), respectively."
   ]
  },
  {
   "cell_type": "markdown",
   "metadata": {
    "heading_collapsed": true,
    "hidden": true
   },
   "source": [
    "### Forwarding Optional or Keyword Arguments"
   ]
  },
  {
   "cell_type": "markdown",
   "metadata": {
    "hidden": true
   },
   "source": [
    "It’s possible to pass optional or keyword parameters from one function to another. You can do so by using the argument-unpacking operators ```*``` and ```**``` when calling the function you want to forward arguments to"
   ]
  },
  {
   "cell_type": "markdown",
   "metadata": {
    "hidden": true
   },
   "source": [
    "This also gives you an opportunity to modify the arguments before you pass them along. Here’s an example:"
   ]
  },
  {
   "cell_type": "code",
   "execution_count": 166,
   "metadata": {
    "ExecuteTime": {
     "end_time": "2019-09-02T21:18:36.781790Z",
     "start_time": "2019-09-02T21:18:36.773979Z"
    },
    "hidden": true
   },
   "outputs": [],
   "source": [
    "def foo(x, *args, **kwargs):\n",
    "    kwargs['name'] = 'Alice'\n",
    "    new_args = args + ('extra', )\n",
    "    bar(x, *new_args, **kwargs)"
   ]
  },
  {
   "cell_type": "markdown",
   "metadata": {
    "ExecuteTime": {
     "end_time": "2019-09-02T21:24:33.291622Z",
     "start_time": "2019-09-02T21:24:33.271123Z"
    },
    "hidden": true
   },
   "source": [
    "This technique can be useful for subclassing and writing wrapper functions. For example, you can use it to extend the behavior of a parent class without having to replicate the full signature of its constructor in the child class. This can be quite convenient if you’re working with an API that might change outside of your control:"
   ]
  },
  {
   "cell_type": "code",
   "execution_count": 170,
   "metadata": {
    "ExecuteTime": {
     "end_time": "2019-09-02T21:29:08.463886Z",
     "start_time": "2019-09-02T21:29:08.453150Z"
    },
    "hidden": true
   },
   "outputs": [
    {
     "data": {
      "text/plain": [
       "'blue'"
      ]
     },
     "execution_count": 170,
     "metadata": {},
     "output_type": "execute_result"
    }
   ],
   "source": [
    "class Car:\n",
    "    def __init__(self, color, mileage):\n",
    "        self.color = color\n",
    "        self.mileage = mileage\n",
    "\n",
    "class AlwaysBlueCar(Car):\n",
    "    def __init__(self, *args, **kwargs):\n",
    "        super().__init__(*args, **kwargs)\n",
    "        self.color = 'blue'\n",
    "\n",
    "AlwaysBlueCar('green', 48392).color"
   ]
  },
  {
   "cell_type": "markdown",
   "metadata": {
    "hidden": true
   },
   "source": [
    "<font color = 'blue'>The ```AlwaysBlueCar``` constructor simply passes on all arguments to its parent class and then overrides an internal attribute</font>. \n",
    "\n",
    "This means if the parent class constructor changes, there’s a good chance that AlwaysBlueCar would still function as intended\n",
    "\n",
    "> At a high level <span style='background-color: lightgreen'>super()</span> <font color = 'green'>gives you access to methods in a superclass from the subclass that inherits from it</font>.\n",
    "\n",
    "super() alone returns a temporary object of the superclass that then allows you to call that superclass’s methods.\n",
    "\n",
    "Why would you want to do any of this? While the possibilities are limited by your imagination, a common use case is building classes that extend the functionality of previously built classes.\n",
    "\n",
    "Calling the previously built methods with super() saves you from needing to rewrite those methods in your subclass, and allows you to swap out superclasses with minimal code changes.\n",
    "\n",
    "Typically you wouldn’t use this technique with your own class hierarchies. The <font color = 'green'>**more likely scenario would be that you’ll want to modify or override behavior in some external class which you don’t control**</font>.\n",
    "\n",
    "<font color = 'green'>**One more scenario where this technique is potentially helpful is writing wrapper functions such as decorators. There you typically also want to accept arbitrary arguments to be passed through to the wrapped function**</font>.\n",
    "\n",
    "And, if we can do it without having to copy and paste the original function’s signature, that might be more maintainable:"
   ]
  },
  {
   "cell_type": "code",
   "execution_count": 171,
   "metadata": {
    "ExecuteTime": {
     "end_time": "2019-09-02T21:36:40.165292Z",
     "start_time": "2019-09-02T21:36:40.156505Z"
    },
    "hidden": true
   },
   "outputs": [
    {
     "name": "stdout",
     "output_type": "stream",
     "text": [
      "<function greet at 0x000001ED746999D8> ('Hello', 'Bob') {}\n",
      "Hello, Bob!\n"
     ]
    }
   ],
   "source": [
    "def trace(f):\n",
    "    @functools.wraps(f)\n",
    "    def decorated_function(*args, **kwargs):\n",
    "        print(f, args, kwargs)\n",
    "        result = f(*args, **kwargs)\n",
    "        print(result)\n",
    "    return decorated_function\n",
    "\n",
    "@trace\n",
    "def greet(greeting, name):\n",
    "    return '{}, {}!'.format(greeting, name)\n",
    "\n",
    "greet('Hello', 'Bob')"
   ]
  },
  {
   "cell_type": "code",
   "execution_count": 176,
   "metadata": {
    "ExecuteTime": {
     "end_time": "2019-09-02T21:40:22.848152Z",
     "start_time": "2019-09-02T21:40:22.842295Z"
    },
    "hidden": true,
    "scrolled": true
   },
   "outputs": [
    {
     "name": "stdout",
     "output_type": "stream",
     "text": [
      "<function greet at 0x000001ED746999D8> ('Hello', 'Bob') {}\n",
      "Hello, Bob!\n"
     ]
    }
   ],
   "source": [
    "greet('Hello', 'Bob')"
   ]
  },
  {
   "cell_type": "markdown",
   "metadata": {
    "hidden": true
   },
   "source": [
    "With techniques like this one, it’s sometimes difficult to balance the idea of making your code explicit enough and yet adhere to the Don’t Repeat Yourself (DRY) principle. This will always be a tough choice to make. If you can get a second opinion from a colleague, I’d encourage you to ask for one."
   ]
  },
  {
   "cell_type": "markdown",
   "metadata": {
    "heading_collapsed": true
   },
   "source": [
    "## Function Argument Unpacking"
   ]
  },
  {
   "cell_type": "markdown",
   "metadata": {
    "hidden": true
   },
   "source": [
    "<div class=\"alert alert-block alert-info\">\n",
    "    \n",
    "<b>Key Takeaways </b>\n",
    "\n",
    "Python’s function argument unpacking feature gives you a lot of flexibility for free. Often this means you won’t have to implement a class for a data type needed by your program. As a result, using simple built-in data structures like tuples or lists will suffice and help reduce the complexity of your code.\n",
    "\n",
    "* The ```*``` and ```**``` operators can be used to “unpack” function arguments from sequences and dictionaries. \n",
    "* Using argument unpacking effectively can help you write more flexible interfaces for your modules and functions."
   ]
  },
  {
   "cell_type": "code",
   "execution_count": 177,
   "metadata": {
    "ExecuteTime": {
     "end_time": "2019-09-02T22:28:12.025882Z",
     "start_time": "2019-09-02T22:28:12.018073Z"
    },
    "hidden": true
   },
   "outputs": [
    {
     "name": "stdout",
     "output_type": "stream",
     "text": [
      "<0, 1, 0>\n"
     ]
    }
   ],
   "source": [
    "def print_vector(x, y, z):\n",
    "    print('<%s, %s, %s>' % (x, y, z))\n",
    "    \n",
    "print_vector(0, 1, 0)"
   ]
  },
  {
   "cell_type": "code",
   "execution_count": 181,
   "metadata": {
    "ExecuteTime": {
     "end_time": "2019-09-02T22:32:01.245674Z",
     "start_time": "2019-09-02T22:32:01.238839Z"
    },
    "hidden": true
   },
   "outputs": [
    {
     "name": "stdout",
     "output_type": "stream",
     "text": [
      "<1, 0, 1>\n"
     ]
    }
   ],
   "source": [
    "tuple_vec = (1, 0, 1)\n",
    "list_vec = [1, 0, 1]\n",
    "print_vector(tuple_vec[0],\n",
    "             tuple_vec[1],\n",
    "             tuple_vec[2])"
   ]
  },
  {
   "cell_type": "markdown",
   "metadata": {
    "hidden": true
   },
   "source": [
    "Thankfully, there’s a better way to handle this situation in Python with Function Argument Unpacking using the * operator:"
   ]
  },
  {
   "cell_type": "code",
   "execution_count": 180,
   "metadata": {
    "ExecuteTime": {
     "end_time": "2019-09-02T22:29:06.986487Z",
     "start_time": "2019-09-02T22:29:06.980630Z"
    },
    "hidden": true
   },
   "outputs": [
    {
     "name": "stdout",
     "output_type": "stream",
     "text": [
      "<1, 0, 1>\n",
      "<1, 0, 1>\n"
     ]
    }
   ],
   "source": [
    "print_vector(*tuple_vec)\n",
    "\n",
    "print_vector(*list_vec)\n"
   ]
  },
  {
   "cell_type": "markdown",
   "metadata": {
    "hidden": true
   },
   "source": [
    "> <font color = 'green'>**Putting a ```*``` before an iterable in a function call will unpack it and pass its elements as separate positional arguments to the called function**</font>.\n",
    "\n",
    "This technique works for any iterable, including generator expressions. Using the ```*``` operator on a generator consumes all elements from the generator and passes them to the function:"
   ]
  },
  {
   "cell_type": "code",
   "execution_count": 183,
   "metadata": {
    "ExecuteTime": {
     "end_time": "2019-09-02T22:33:26.954832Z",
     "start_time": "2019-09-02T22:33:26.947022Z"
    },
    "hidden": true
   },
   "outputs": [
    {
     "name": "stdout",
     "output_type": "stream",
     "text": [
      "<0, 1, 4>\n"
     ]
    }
   ],
   "source": [
    ">>> genexpr = (x * x for x in range(3))\n",
    ">>> print_vector(*genexpr)"
   ]
  },
  {
   "cell_type": "markdown",
   "metadata": {
    "hidden": true
   },
   "source": [
    "> <font color = 'green'>Besides the ```*``` operator for unpacking sequences like tuples, lists, and\n",
    "generators into positional arguments, there’s also the ```**``` operator for\n",
    "unpacking keyword arguments from dictionaries</font>. \n",
    "\n",
    "Imagine our vector\n",
    "was represented as the following dict object:"
   ]
  },
  {
   "cell_type": "code",
   "execution_count": 217,
   "metadata": {
    "ExecuteTime": {
     "end_time": "2019-09-02T22:50:09.315327Z",
     "start_time": "2019-09-02T22:50:09.310445Z"
    },
    "hidden": true
   },
   "outputs": [],
   "source": [
    "dict_vec = {'y': 0, 'z': 1, 'x': 2}"
   ]
  },
  {
   "cell_type": "markdown",
   "metadata": {
    "hidden": true
   },
   "source": [
    "We could pass this dict to print_vector in much the same way using\n",
    "the ```**``` operator for unpacking:"
   ]
  },
  {
   "cell_type": "code",
   "execution_count": 220,
   "metadata": {
    "ExecuteTime": {
     "end_time": "2019-09-02T22:50:31.845148Z",
     "start_time": "2019-09-02T22:50:31.840267Z"
    },
    "hidden": true
   },
   "outputs": [
    {
     "name": "stdout",
     "output_type": "stream",
     "text": [
      "<2, 0, 1>\n"
     ]
    }
   ],
   "source": [
    "print_vector(**dict_vec)"
   ]
  },
  {
   "cell_type": "markdown",
   "metadata": {
    "hidden": true
   },
   "source": [
    "Because dictionaries are unordered, this matches up dictionary values\n",
    "and function arguments based on the dictionary keys: the x argument\n",
    "receives the value associated with the 'x' key in the dictionary."
   ]
  },
  {
   "cell_type": "markdown",
   "metadata": {
    "ExecuteTime": {
     "end_time": "2019-09-02T22:47:56.631002Z",
     "start_time": "2019-09-02T22:47:56.624167Z"
    },
    "hidden": true
   },
   "source": [
    "<font color = 'red'>If you were to use the single asterisk ```(*)``` operator to unpack the dictionary, keys would be passed to the function in random order instead:</font>"
   ]
  },
  {
   "cell_type": "code",
   "execution_count": 224,
   "metadata": {
    "ExecuteTime": {
     "end_time": "2019-09-02T22:52:05.898342Z",
     "start_time": "2019-09-02T22:52:05.892485Z"
    },
    "hidden": true
   },
   "outputs": [
    {
     "name": "stdout",
     "output_type": "stream",
     "text": [
      "<y, z, x>\n"
     ]
    }
   ],
   "source": [
    "print_vector(*dict_vec)"
   ]
  },
  {
   "cell_type": "markdown",
   "metadata": {
    "heading_collapsed": true
   },
   "source": [
    "## <font color = 'lightgrey'>Nothing to Return Here</font>"
   ]
  },
  {
   "cell_type": "markdown",
   "metadata": {
    "hidden": true
   },
   "source": [
    "<div class=\"alert alert-block alert-info\">\n",
    "<b>Key Takeaways</b>\n",
    "\n",
    "• If a function doesn’t specify a return value, it returns None.\n",
    "Whether to explicitly return None is a stylistic decision.\n",
    "\n",
    "• This is a core Python feature but your code might communicate\n",
    "its intent more clearly with an explicit return None statement."
   ]
  },
  {
   "cell_type": "markdown",
   "metadata": {
    "hidden": true
   },
   "source": [
    "Python adds an implicit return None statement to the end of any function. Therefore, if a function doesn’t specify a return value, it returns None by default. \n",
    "\n",
    "<font color = 'blue'>This means you can replace return None statements with bare return statements or even leave them out completely and still get the same result</font>:"
   ]
  },
  {
   "cell_type": "code",
   "execution_count": 226,
   "metadata": {
    "ExecuteTime": {
     "end_time": "2019-09-02T22:58:35.631301Z",
     "start_time": "2019-09-02T22:58:35.622512Z"
    },
    "hidden": true
   },
   "outputs": [],
   "source": [
    "def foo1(value):\n",
    "    if value:\n",
    "        return value\n",
    "    else:\n",
    "        return None\n",
    "\n",
    "def foo2(value):\n",
    "    \"\"\"Bare return statement implies `return None`\"\"\"\n",
    "    if value:\n",
    "        return value\n",
    "    else:\n",
    "        return\n",
    "\n",
    "def foo3(value):\n",
    "    \"\"\"Missing return statement implies `return None`\"\"\"\n",
    "    if value:\n",
    "        return value"
   ]
  },
  {
   "cell_type": "markdown",
   "metadata": {
    "hidden": true
   },
   "source": [
    "All three functions properly return None if you pass them a falsy value\n",
    "as the sole argument:"
   ]
  },
  {
   "cell_type": "code",
   "execution_count": 227,
   "metadata": {
    "ExecuteTime": {
     "end_time": "2019-09-02T22:59:19.829076Z",
     "start_time": "2019-09-02T22:59:19.817362Z"
    },
    "hidden": true
   },
   "outputs": [
    {
     "data": {
      "text/plain": [
       "NoneType"
      ]
     },
     "execution_count": 227,
     "metadata": {},
     "output_type": "execute_result"
    },
    {
     "data": {
      "text/plain": [
       "NoneType"
      ]
     },
     "execution_count": 227,
     "metadata": {},
     "output_type": "execute_result"
    },
    {
     "data": {
      "text/plain": [
       "NoneType"
      ]
     },
     "execution_count": 227,
     "metadata": {},
     "output_type": "execute_result"
    }
   ],
   "source": [
    "type(foo1(0))\n",
    "type(foo2(0))\n",
    "type(foo3(0))"
   ]
  },
  {
   "cell_type": "markdown",
   "metadata": {
    "hidden": true
   },
   "source": [
    "My rule of thumb is that if a function doesn’t have a return value (other languages would call this a procedure), then I will leave out the return statement. Adding one would just be superfluous and confusing. An example for a procedure would be Python’s built-in print function which is only called for its side-effects (printing text) and never for its return value."
   ]
  }
 ],
 "metadata": {
  "hide_input": false,
  "kernelspec": {
   "display_name": "Python 3",
   "language": "python",
   "name": "python3"
  },
  "language_info": {
   "codemirror_mode": {
    "name": "ipython",
    "version": 3
   },
   "file_extension": ".py",
   "mimetype": "text/x-python",
   "name": "python",
   "nbconvert_exporter": "python",
   "pygments_lexer": "ipython3",
   "version": "3.7.1"
  },
  "toc": {
   "base_numbering": 1,
   "nav_menu": {},
   "number_sections": true,
   "sideBar": true,
   "skip_h1_title": false,
   "title_cell": "Table of Contents",
   "title_sidebar": "Contents",
   "toc_cell": true,
   "toc_position": {},
   "toc_section_display": true,
   "toc_window_display": false
  }
 },
 "nbformat": 4,
 "nbformat_minor": 2
}
