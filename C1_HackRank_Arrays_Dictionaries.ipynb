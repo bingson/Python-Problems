{
 "cells": [
  {
   "cell_type": "markdown",
   "metadata": {
    "toc": true
   },
   "source": [
    "<h1>Table of Contents<span class=\"tocSkip\"></span></h1>\n",
    "<div class=\"toc\"><ul class=\"toc-item\"><li><span><a href=\"#Warm-Up\" data-toc-modified-id=\"Warm-Up-1\"><span class=\"toc-item-num\">1&nbsp;&nbsp;</span>Warm Up</a></span><ul class=\"toc-item\"><li><span><a href=\"#Sock-Merchant-(default-dict)\" data-toc-modified-id=\"Sock-Merchant-(default-dict)-1.1\"><span class=\"toc-item-num\">1.1&nbsp;&nbsp;</span>Sock Merchant (default dict)</a></span><ul class=\"toc-item\"><li><span><a href=\"#Question\" data-toc-modified-id=\"Question-1.1.1\"><span class=\"toc-item-num\">1.1.1&nbsp;&nbsp;</span>Question</a></span></li><li><span><a href=\"#Answer\" data-toc-modified-id=\"Answer-1.1.2\"><span class=\"toc-item-num\">1.1.2&nbsp;&nbsp;</span>Answer</a></span></li><li><span><a href=\"#buffer\" data-toc-modified-id=\"buffer-1.1.3\"><span class=\"toc-item-num\">1.1.3&nbsp;&nbsp;</span>buffer</a></span></li></ul></li><li><span><a href=\"#Jumping-on-the-Clouds-(list-comprehension)\" data-toc-modified-id=\"Jumping-on-the-Clouds-(list-comprehension)-1.2\"><span class=\"toc-item-num\">1.2&nbsp;&nbsp;</span>Jumping on the Clouds (list comprehension)</a></span></li><li><span><a href=\"#Repeated-String\" data-toc-modified-id=\"Repeated-String-1.3\"><span class=\"toc-item-num\">1.3&nbsp;&nbsp;</span>Repeated String</a></span></li><li><span><a href=\"#Counting-Valleys\" data-toc-modified-id=\"Counting-Valleys-1.4\"><span class=\"toc-item-num\">1.4&nbsp;&nbsp;</span>Counting Valleys</a></span></li></ul></li><li><span><a href=\"#Arrays\" data-toc-modified-id=\"Arrays-2\"><span class=\"toc-item-num\">2&nbsp;&nbsp;</span>Arrays</a></span><ul class=\"toc-item\"><li><span><a href=\"#2D-Array\" data-toc-modified-id=\"2D-Array-2.1\"><span class=\"toc-item-num\">2.1&nbsp;&nbsp;</span>2D Array</a></span></li><li><span><a href=\"#Arrays:-Left-Rotation\" data-toc-modified-id=\"Arrays:-Left-Rotation-2.2\"><span class=\"toc-item-num\">2.2&nbsp;&nbsp;</span>Arrays: Left Rotation</a></span></li><li><span><a href=\"#New-Year-Chaos\" data-toc-modified-id=\"New-Year-Chaos-2.3\"><span class=\"toc-item-num\">2.3&nbsp;&nbsp;</span>New Year Chaos</a></span></li><li><span><a href=\"#Minimum-swaps-2\" data-toc-modified-id=\"Minimum-swaps-2-2.4\"><span class=\"toc-item-num\">2.4&nbsp;&nbsp;</span>Minimum swaps 2</a></span></li><li><span><a href=\"#Array-Manipulation\" data-toc-modified-id=\"Array-Manipulation-2.5\"><span class=\"toc-item-num\">2.5&nbsp;&nbsp;</span>Array Manipulation</a></span></li></ul></li><li><span><a href=\"#Dictionaries-and-Hashmaps\" data-toc-modified-id=\"Dictionaries-and-Hashmaps-3\"><span class=\"toc-item-num\">3&nbsp;&nbsp;</span>Dictionaries and Hashmaps</a></span><ul class=\"toc-item\"><li><span><a href=\"#Hash-Tables:-Ransom-Note\" data-toc-modified-id=\"Hash-Tables:-Ransom-Note-3.1\"><span class=\"toc-item-num\">3.1&nbsp;&nbsp;</span>Hash Tables: Ransom Note</a></span></li><li><span><a href=\"#Two-Strings\" data-toc-modified-id=\"Two-Strings-3.2\"><span class=\"toc-item-num\">3.2&nbsp;&nbsp;</span>Two Strings</a></span></li><li><span><a href=\"#Sherlock-and-Anagrams\" data-toc-modified-id=\"Sherlock-and-Anagrams-3.3\"><span class=\"toc-item-num\">3.3&nbsp;&nbsp;</span>Sherlock and Anagrams</a></span><ul class=\"toc-item\"><li><span><a href=\"#EXPLAINED:-res-+=-count*(count-1)/2\" data-toc-modified-id=\"EXPLAINED:-res-+=-count*(count-1)/2-3.3.1\"><span class=\"toc-item-num\">3.3.1&nbsp;&nbsp;</span><font color=\"red\">EXPLAINED</font>: res += count*(count-1)/2</a></span></li></ul></li><li><span><a href=\"#Count-Triplets\" data-toc-modified-id=\"Count-Triplets-3.4\"><span class=\"toc-item-num\">3.4&nbsp;&nbsp;</span>Count Triplets</a></span></li><li><span><a href=\"#Frequency-Queries\" data-toc-modified-id=\"Frequency-Queries-3.5\"><span class=\"toc-item-num\">3.5&nbsp;&nbsp;</span>Frequency Queries</a></span></li></ul></li><li><span><a href=\"#Misc\" data-toc-modified-id=\"Misc-4\"><span class=\"toc-item-num\">4&nbsp;&nbsp;</span>Misc</a></span><ul class=\"toc-item\"><li><span><a href=\"#Bonetrousle\" data-toc-modified-id=\"Bonetrousle-4.1\"><span class=\"toc-item-num\">4.1&nbsp;&nbsp;</span>Bonetrousle</a></span><ul class=\"toc-item\"><li><span><a href=\"#Editorial-\" data-toc-modified-id=\"Editorial--4.1.1\"><span class=\"toc-item-num\">4.1.1&nbsp;&nbsp;</span><b><font color=\"purple\">Editorial </font></b></a></span></li></ul></li></ul></li></ul></div>"
   ]
  },
  {
   "cell_type": "code",
   "execution_count": 169,
   "metadata": {
    "ExecuteTime": {
     "end_time": "2019-10-08T00:19:34.925081Z",
     "start_time": "2019-10-08T00:19:34.920084Z"
    }
   },
   "outputs": [],
   "source": [
    "# Pretty display multiple variables without print statement\n",
    "from IPython.core.interactiveshell import InteractiveShell\n",
    "InteractiveShell.ast_node_interactivity = \"all\""
   ]
  },
  {
   "cell_type": "markdown",
   "metadata": {},
   "source": [
    "# Warm Up"
   ]
  },
  {
   "cell_type": "markdown",
   "metadata": {},
   "source": [
    "## Sock Merchant (default dict)"
   ]
  },
  {
   "cell_type": "markdown",
   "metadata": {},
   "source": [
    "### Question"
   ]
  },
  {
   "cell_type": "markdown",
   "metadata": {},
   "source": [
    "<img src='pics/HR_1.png' alt='Drawing' style='width:725pt'/>"
   ]
  },
  {
   "cell_type": "markdown",
   "metadata": {},
   "source": [
    "### Answer"
   ]
  },
  {
   "cell_type": "code",
   "execution_count": 127,
   "metadata": {
    "ExecuteTime": {
     "end_time": "2019-09-17T01:34:55.459946Z",
     "start_time": "2019-09-17T01:34:48.053574Z"
    }
   },
   "outputs": [
    {
     "name": "stdout",
     "output_type": "stream",
     "text": [
      "9\n",
      "10 20 20 10 10 30 50 10 20\n",
      "c: ['10', '10', '10', '10', '20', '20', '20', '30', '50']\n",
      "3\n"
     ]
    }
   ],
   "source": [
    "from collections import defaultdict\n",
    "\n",
    "n = input()\n",
    "c = sorted(input().strip().split())\n",
    "print(\"c:\",c)\n",
    "socks = defaultdict(int)\n",
    "\n",
    "for color in c:\n",
    "    socks[color] += 1\n",
    "    # print(\"socks[color]:\",socks[color])\n",
    "\n",
    "pairs = 0\n",
    "\n",
    "for color in socks:\n",
    "    pairs +=  socks[color] // 2\n",
    "    # print('color,pairs:\\t', color,pairs)\n",
    "# print(\"socks:\",socks)\n",
    "print(pairs)\n"
   ]
  },
  {
   "cell_type": "markdown",
   "metadata": {},
   "source": [
    "```//``` Floor Division - The division of operands where the result is the quotient in which the digits after the decimal point are removed. But if one of the operands is negative, the result is floored, i.e., rounded away from zero (towards negative infinity) −\t"
   ]
  },
  {
   "cell_type": "code",
   "execution_count": 125,
   "metadata": {
    "ExecuteTime": {
     "end_time": "2019-09-17T01:13:22.930008Z",
     "start_time": "2019-09-17T01:13:22.917018Z"
    }
   },
   "outputs": [
    {
     "data": {
      "text/plain": [
       "4"
      ]
     },
     "execution_count": 125,
     "metadata": {},
     "output_type": "execute_result"
    },
    {
     "data": {
      "text/plain": [
       "4.0"
      ]
     },
     "execution_count": 125,
     "metadata": {},
     "output_type": "execute_result"
    },
    {
     "data": {
      "text/plain": [
       "-4"
      ]
     },
     "execution_count": 125,
     "metadata": {},
     "output_type": "execute_result"
    },
    {
     "data": {
      "text/plain": [
       "-4.0"
      ]
     },
     "execution_count": 125,
     "metadata": {},
     "output_type": "execute_result"
    }
   ],
   "source": [
    "9//2 \n",
    "9.0//2.0 \n",
    "-11//3\n",
    "-11.0//3"
   ]
  },
  {
   "cell_type": "markdown",
   "metadata": {},
   "source": [
    "###### Sample Input:"
   ]
  },
  {
   "cell_type": "raw",
   "metadata": {},
   "source": [
    " 9"
   ]
  },
  {
   "cell_type": "raw",
   "metadata": {},
   "source": [
    "10 20 20 10 10 30 50 10 20"
   ]
  },
  {
   "cell_type": "markdown",
   "metadata": {},
   "source": [
    "### buffer"
   ]
  },
  {
   "cell_type": "code",
   "execution_count": 10,
   "metadata": {
    "ExecuteTime": {
     "end_time": "2019-08-14T17:54:36.045144Z",
     "start_time": "2019-08-14T17:54:36.038149Z"
    }
   },
   "outputs": [
    {
     "data": {
      "text/plain": [
       "'__main__'"
      ]
     },
     "execution_count": 10,
     "metadata": {},
     "output_type": "execute_result"
    }
   ],
   "source": [
    "f\"{__name__}\"\n"
   ]
  },
  {
   "cell_type": "code",
   "execution_count": 3,
   "metadata": {
    "ExecuteTime": {
     "end_time": "2019-06-18T20:23:03.280953Z",
     "start_time": "2019-06-18T20:23:03.262963Z"
    }
   },
   "outputs": [
    {
     "data": {
      "text/plain": [
       "['10', '10', '10', '10', '20', '20', '20', '30', '50']"
      ]
     },
     "execution_count": 3,
     "metadata": {},
     "output_type": "execute_result"
    }
   ],
   "source": [
    "sorted(\"10 20 20 10 10 30 50 10 20\".strip().split())"
   ]
  },
  {
   "cell_type": "code",
   "execution_count": null,
   "metadata": {},
   "outputs": [],
   "source": []
  },
  {
   "cell_type": "markdown",
   "metadata": {},
   "source": [
    "## Jumping on the Clouds (list comprehension)"
   ]
  },
  {
   "cell_type": "markdown",
   "metadata": {},
   "source": [
    "##### Question"
   ]
  },
  {
   "cell_type": "markdown",
   "metadata": {},
   "source": [
    "<img src='pics/Snap2.png' alt='Drawing' style='width:725pt'/>"
   ]
  },
  {
   "cell_type": "markdown",
   "metadata": {},
   "source": [
    "##### <font color = 'blue'><b>Best Solution</b></font>"
   ]
  },
  {
   "cell_type": "code",
   "execution_count": 31,
   "metadata": {
    "ExecuteTime": {
     "end_time": "2019-09-17T17:21:07.331297Z",
     "start_time": "2019-09-17T17:21:07.320304Z"
    }
   },
   "outputs": [
    {
     "name": "stdout",
     "output_type": "stream",
     "text": [
      "3\n",
      "4\n"
     ]
    }
   ],
   "source": [
    "key_lst = list(range(5))\n",
    "val_lst = [2,2,3,4,5]\n",
    "signatures = {k:v for (k,v) in zip(key_lst, val_lst)}\n",
    "print('signatures:\\t', signatures)\n",
    "print('-'*30)\n",
    "res = 0\n",
    "for count in signatures.values():\n",
    "    print('count:\\t', count)\n",
    "    print('b-res:\\t', res)\n",
    "    res += count*(count-1)/2\n",
    "    print('a-res:\\t', res)\n",
    "    print('-'*30)\n",
    "print('res:\\t', res)from typing import List\n",
    "def jumpingOnClouds(c: List[str]) -> int:\n",
    "    count_jumps = 0\n",
    "    i = 0\n",
    "    n = len(c)\n",
    "\n",
    "    while i < n - 1: \n",
    "        if i + 2 < n and c[i + 2] == 0: \n",
    "            i = i + 2   \n",
    "        else:\n",
    "            i = i + 1 \n",
    "        count_jumps += 1\n",
    "    return count_jumps\n",
    "\n",
    "c = list(map(int, \"0 0 0 0 1 0\".rstrip().split()))\n",
    "print(jumpingOnClouds(c))\n",
    "\n",
    "c = list(map(int, \"0 0 1 0 0 1 0\".rstrip().split()))\n",
    "print(jumpingOnClouds(c))\n",
    "    "
   ]
  },
  {
   "cell_type": "markdown",
   "metadata": {},
   "source": [
    "##### <font color = 'green'><b>My Explained soln</b></font>"
   ]
  },
  {
   "cell_type": "code",
   "execution_count": 20,
   "metadata": {
    "ExecuteTime": {
     "end_time": "2019-09-17T16:33:21.173465Z",
     "start_time": "2019-09-17T16:33:21.162471Z"
    }
   },
   "outputs": [],
   "source": [
    "import math\n",
    "import os\n",
    "import random\n",
    "import re\n",
    "import sys\n",
    "\n",
    "# Complete the jumpingOnClouds function below.\n",
    "def jumpingOnClouds(c):\n",
    "    i = 0  # index of jump position in cloud series\n",
    "    count_jumps = 0 # number of jumps to reach the end\n",
    "    length = len(c) # length of cloud series\n",
    "\n",
    "    while i < length - 2:\n",
    "    # while loop increments the jump counter while \n",
    "    # the index of jump position increments using the \n",
    "    # if logic to check whether its safe to make a 1 or 2 move jump\n",
    "    \n",
    "        if c[i+2] == 1: i += 1 \n",
    "        # not safe, so move 1 cloud fwd\n",
    "        # checks if cloud 2 positions fwd can be jumped on\n",
    "        # 1 == bad cloud\n",
    "            \n",
    "        else: i += 2 \n",
    "        # move 2 clouds fwd\n",
    "            \n",
    "        count_jumps += 1\n",
    "    \n",
    "    if i == length - 2: count_jumps += 1\n",
    "    # checks if i is only 1 move away from end\n",
    "    # remember 0-based indexing means index =/= length\n",
    "    # subtract 2 instead of 1 to adjust\n",
    "\n",
    "    return count_jumps"
   ]
  },
  {
   "cell_type": "code",
   "execution_count": 21,
   "metadata": {
    "ExecuteTime": {
     "end_time": "2019-09-17T16:33:22.961175Z",
     "start_time": "2019-09-17T16:33:22.954181Z"
    }
   },
   "outputs": [
    {
     "name": "stdout",
     "output_type": "stream",
     "text": [
      "result:\t 4\n"
     ]
    }
   ],
   "source": [
    "if __name__ == '__main__':\n",
    "#     fptr = open(os.environ['OUTPUT_PATH'], 'w')\n",
    "\n",
    "    n = int(7)\n",
    "    c = list(map(int, \"0 0 1 0 0 1 0\".rstrip().split()))\n",
    "    result = jumpingOnClouds(c)\n",
    "    print('result:\\t', result)\n",
    "\n",
    "    # fptr.write(str(result) + '\\n')\n",
    "    # fptr.close()"
   ]
  },
  {
   "cell_type": "code",
   "execution_count": 22,
   "metadata": {
    "ExecuteTime": {
     "end_time": "2019-09-17T16:33:24.410578Z",
     "start_time": "2019-09-17T16:33:24.402586Z"
    }
   },
   "outputs": [
    {
     "name": "stdout",
     "output_type": "stream",
     "text": [
      "result:\t 3\n"
     ]
    }
   ],
   "source": [
    "if __name__ == '__main__':\n",
    "#     fptr = open(os.environ['OUTPUT_PATH'], 'w')\n",
    "\n",
    "    n = int(6)\n",
    "    c = list(map(int, \"0 0 0 0 1 0\".rstrip().split()))\n",
    "    result = jumpingOnClouds(c)\n",
    "    print('result:\\t', result)\n",
    "\n",
    "    # fptr.write(str(result) + '\\n')\n",
    "    # fptr.close()"
   ]
  },
  {
   "cell_type": "code",
   "execution_count": 4,
   "metadata": {
    "ExecuteTime": {
     "end_time": "2019-09-17T06:30:30.629836Z",
     "start_time": "2019-09-17T06:29:39.475866Z"
    }
   },
   "outputs": [
    {
     "name": "stdout",
     "output_type": "stream",
     "text": [
      "6\n",
      "0 0 0 0 1 0\n",
      "3\n"
     ]
    }
   ],
   "source": [
    "import sys\n",
    "n = int(input().strip())\n",
    "a = [int(c_temp) for c_temp in input().strip().split(' ')]\n",
    "c = -1\n",
    "i = 0\n",
    "while i < n:\n",
    "    if i < n-2 and a[i+2] == 0: i += 1\n",
    "    c += 1\n",
    "    i += 1\n",
    "print(c)"
   ]
  },
  {
   "cell_type": "markdown",
   "metadata": {},
   "source": [
    "<font color = 'blue'><b>iterative solution</b></font>"
   ]
  },
  {
   "cell_type": "code",
   "execution_count": null,
   "metadata": {},
   "outputs": [],
   "source": [
    "def jumpingOnClouds(c):\n",
    "    if len(c) == 1 : return 0\n",
    "    if len(c) == 2: return 0 if c[1]==1 else 1\n",
    "    if c[2]==1: \n",
    "        return 1 + jumpingOnClouds(c[1:])\n",
    "    if c[2]==0:\n",
    "        return 1 + jumpingOnClouds(c[2:])\n"
   ]
  },
  {
   "cell_type": "code",
   "execution_count": null,
   "metadata": {},
   "outputs": [],
   "source": [
    "def jumpingOnClouds(c):\n",
    "    i = count_jumps = 0\n",
    "    length = len(c)\n",
    "\n",
    "    while i < length - 1:\n",
    "        if i < length - 2 and c[i + 2] == 0:\n",
    "            i += 2\n",
    "        else:\n",
    "            i += 1\n",
    "        count_jumps += 1\n",
    "\n",
    "    return count_jumps"
   ]
  },
  {
   "cell_type": "code",
   "execution_count": null,
   "metadata": {},
   "outputs": [],
   "source": [
    "def jumpingOnClouds(c):\n",
    "    i = count_jumps = 0\n",
    "    length = len(c)\n",
    "\n",
    "    while i < length - 2:\n",
    "        if c[i+2] == 1:\n",
    "            i += 1\n",
    "        else:\n",
    "            i += 2\n",
    "        count_jumps += 1\n",
    "    \n",
    "    if i == length - 2:\n",
    "        count_jumps += 1\n",
    "\n",
    "    return count_jumps"
   ]
  },
  {
   "cell_type": "code",
   "execution_count": 1,
   "metadata": {
    "ExecuteTime": {
     "end_time": "2019-09-17T05:45:32.159561Z",
     "start_time": "2019-09-17T05:43:34.763003Z"
    }
   },
   "outputs": [
    {
     "name": "stdout",
     "output_type": "stream",
     "text": [
      "7\n",
      "0 0 1 0 0 1 0\n",
      "4\n"
     ]
    }
   ],
   "source": [
    "#!/bin/python3\n",
    "\n",
    "import sys\n",
    "\n",
    "n = int(input().strip())\n",
    "# print(\"n:\",n)\n",
    "c = [int(c_temp) for c_temp in input().strip().split(' ')]\n",
    "# print(\"c:\",c)\n",
    "res = 0\n",
    "i = 0\n",
    "\n",
    "while i < n-1:\n",
    "    if i+2<n and c[i+2] == 0:\n",
    "        i = i+2\n",
    "        res += 1\n",
    "    else:\n",
    "        i = i+1\n",
    "        res += 1\n",
    "print(res)"
   ]
  },
  {
   "cell_type": "code",
   "execution_count": 131,
   "metadata": {
    "ExecuteTime": {
     "end_time": "2019-09-17T03:52:20.568296Z",
     "start_time": "2019-09-17T03:52:07.545416Z"
    }
   },
   "outputs": [
    {
     "name": "stdout",
     "output_type": "stream",
     "text": [
      "9\n",
      "10 20 20 10 10 30 50 10 20\n",
      "8\n"
     ]
    }
   ],
   "source": [
    "#!/bin/python3\n",
    "\n",
    "import sys\n",
    "\n",
    "\n",
    "n = int(input().strip())\n",
    "# print(\"n:\",n)\n",
    "c = [int(c_temp) for c_temp in input().strip().split(' ')]\n",
    "# print(\"c:\",c)\n",
    "res = 0\n",
    "i = 0\n",
    "\n",
    "while i < n-1:\n",
    "    if i+2<n and c[i+2] == 0:\n",
    "        i = i+2\n",
    "        res += 1\n",
    "    else:\n",
    "        i = i+1\n",
    "        res += 1\n",
    "print(res)"
   ]
  },
  {
   "cell_type": "raw",
   "metadata": {},
   "source": [
    "9\n",
    "10 20 20 10 10 30 50 10 20"
   ]
  },
  {
   "cell_type": "code",
   "execution_count": 118,
   "metadata": {
    "ExecuteTime": {
     "end_time": "2019-08-15T20:11:57.764280Z",
     "start_time": "2019-08-15T20:11:52.089742Z"
    }
   },
   "outputs": [
    {
     "name": "stdout",
     "output_type": "stream",
     "text": [
      "6\n",
      "0 0 0 0 1 0\n",
      "c[current+2]: 0\n",
      "c[current+2]: 0\n",
      "3\n"
     ]
    }
   ],
   "source": [
    "n = int(input().strip())\n",
    "c = [int(c_temp) for c_temp in input().strip().split(' ')]\n",
    "\n",
    "steps = 0\n",
    "current = 0\n",
    "while current < n-1:\n",
    "    if current+2<n and c[current+2] == 0:\n",
    "        print(\"c[current+2]:\",c[current+2])\n",
    "        steps +=1\n",
    "        current += 2\n",
    "    else:\n",
    "        steps +=1\n",
    "        current += 1\n",
    "        \n",
    "print(steps)\n"
   ]
  },
  {
   "cell_type": "code",
   "execution_count": null,
   "metadata": {},
   "outputs": [],
   "source": [
    "n = int(input())\n",
    "c = list(map(int, input().split()))\n",
    "d = [n] * n\n",
    "d[0] = 0\n",
    "if c[1] == 0: d[1] = 1\n",
    "for i in range(2, n):\n",
    "    if c[i] == 0: d[i] = min(d[i - 1], d[i - 2]) + 1\n",
    "print(d[n - 1])b"
   ]
  },
  {
   "cell_type": "markdown",
   "metadata": {},
   "source": [
    "## Repeated String"
   ]
  },
  {
   "cell_type": "markdown",
   "metadata": {},
   "source": [
    "1. Lilah has a string, s, of lowercase English letters that she repeated infinitely many times.\n",
    "\n",
    "* Given an integer, n, find and print the number of letter a's in the first letters of Lilah's infinite string.\n",
    "\n",
    "* For example, if the string s='abcac' and n=10, the substring we consider is abcacabcac, the first  10 characters of her infinite string. There are 4 occurrences of 'a' in the substring.\n",
    "\n",
    "<b><font color = 'purple'>Function Description </font></b>\n",
    "\n",
    "* Complete the repeatedString function in the editor below. It should return an integer representing the number of occurrences of 'a' in the prefix of length 'n' in the infinitely repeating string.\n",
    "\n",
    "<b><font color = 'purple'>repeatedString has the following parameter(s): </font></b>\n",
    "\n",
    "* s: a string to repeat\n",
    "* n: the number of characters to consider\n",
    "\n",
    "<b><font color = 'purple'>Input Format </font></b>\n",
    "\n",
    "* The first line contains a single string, .\n",
    "* The second line contains an integer, .\n",
    "\n",
    "<b><font color = 'purple'>Constraints </font></b><b><font color = 'purple'>Constraints </font></b>\n",
    "\n",
    "* $1 \\le |s| \\le 100$\n",
    "* $1 \\le n \\le 10^{12}$\n",
    "\n",
    "For 25% of the test cases, $n \\le 10^6$.\n",
    "\n",
    "\n",
    "<b><font color = 'purple'>Output Format </font></b>\n",
    "\n",
    "* <span style='background-color: lightyellow'><b><font color = 'purple'>Print a single integer denoting the number of letter a's in the first 'n' letters of the infinite string created by repeating 's' infinitely many times </font></b></span>."
   ]
  },
  {
   "cell_type": "raw",
   "metadata": {},
   "source": [
    "Sample Input 0\n",
    "aba\n",
    "10\n",
    "\n",
    "Sample Output 0\n",
    "7\n",
    "\n",
    "Explanation 0\n",
    "The first  letters of the infinite string are abaabaabaa. Because there are  a's, we print  on a new line."
   ]
  },
  {
   "cell_type": "raw",
   "metadata": {},
   "source": [
    "Sample Input 1\n",
    "a\n",
    "1000000000000\n",
    "\n",
    "Sample Output 1\n",
    "1000000000000\n",
    "\n",
    "Explanation 1\n",
    "Because all of the first  letters of the infinite string are a, we print  on a new line."
   ]
  },
  {
   "cell_type": "markdown",
   "metadata": {},
   "source": [
    "<font color = 'blue'><b>My dumb \n",
    "   Solution:</b></font>"
   ]
  },
  {
   "cell_type": "code",
   "execution_count": 81,
   "metadata": {
    "ExecuteTime": {
     "end_time": "2019-09-19T16:15:30.724433Z",
     "start_time": "2019-09-19T16:15:30.713443Z"
    }
   },
   "outputs": [],
   "source": [
    "#!/bin/python3\n",
    "\n",
    "import math\n",
    "import os\n",
    "import random\n",
    "import re\n",
    "import sys\n",
    "\n",
    "# n <- number of characters to consider\n",
    "# Complete the repeatedString function below.\n",
    "\n",
    "import itertools\n",
    "\n",
    "def repeatedString(s: str, n: int) -> int:\n",
    "    letters = tuple(s)\n",
    "    infinite_string = itertools.cycle(letters)\n",
    "    count_a = 0\n",
    "    if \n",
    "    for i in range(n):\n",
    "        if next(infinite_string) == 'a':\n",
    "            count_a += 1\n",
    "    return count_a"
   ]
  },
  {
   "cell_type": "markdown",
   "metadata": {},
   "source": [
    "<font color = 'blue'><b>My better \n",
    "   Solution:</b></font>"
   ]
  },
  {
   "cell_type": "code",
   "execution_count": 41,
   "metadata": {
    "ExecuteTime": {
     "end_time": "2019-09-19T17:45:06.014863Z",
     "start_time": "2019-09-19T17:45:06.006867Z"
    }
   },
   "outputs": [],
   "source": [
    "#!/bin/python3\n",
    "\n",
    "import math\n",
    "import os\n",
    "import random\n",
    "import re\n",
    "import sys\n",
    "\n",
    "# n <- number of characters to consider\n",
    "# Complete the repeatedString function below.\n",
    "\n",
    "def repeatedString(s: str, n: int) -> int:\n",
    "    return (n // len(s)) * s.count('a') + s[:(n % len(s))].count('a')\n",
    "     \n",
    "        "
   ]
  },
  {
   "cell_type": "code",
   "execution_count": 12,
   "metadata": {
    "ExecuteTime": {
     "end_time": "2019-09-19T17:26:59.438322Z",
     "start_time": "2019-09-19T17:26:59.431325Z"
    }
   },
   "outputs": [
    {
     "data": {
      "text/plain": [
       "2"
      ]
     },
     "execution_count": 12,
     "metadata": {},
     "output_type": "execute_result"
    }
   ],
   "source": [
    "s = list('aba')\n",
    "s\n",
    "s.count('a')"
   ]
  },
  {
   "cell_type": "raw",
   "metadata": {
    "ExecuteTime": {
     "end_time": "2019-09-19T07:43:33.423565Z",
     "start_time": "2019-09-19T07:43:33.415567Z"
    }
   },
   "source": [
    "s = 'aba'\n",
    "letters = tuple(s)\n",
    "letters\n",
    "\n",
    "\n",
    "s = 'aba'\n",
    "t = itertools.cycle(s)\n",
    "for i in range(10):\n",
    "    print(next(t))\n",
    "\n"
   ]
  },
  {
   "cell_type": "code",
   "execution_count": 40,
   "metadata": {
    "ExecuteTime": {
     "end_time": "2019-09-19T17:44:37.488521Z",
     "start_time": "2019-09-19T17:44:37.482526Z"
    }
   },
   "outputs": [
    {
     "name": "stdout",
     "output_type": "stream",
     "text": [
      "7\n"
     ]
    }
   ],
   "source": [
    "if __name__ == '__main__':\n",
    "    # fptr = open(os.environ['OUTPUT_PATH'], 'w')\n",
    "    # s = input()\n",
    "    # n = int(input())\n",
    "    \n",
    "    s = 'aba'\n",
    "    n = int(10)\n",
    "#     s = 'a'\n",
    "#     n = int(1000000000000)\n",
    "    \n",
    "    result = repeatedString(s, n); print(result)\n",
    "    # fptr.write(str(result) + '\\n')\n",
    "    # fptr.close()"
   ]
  },
  {
   "cell_type": "code",
   "execution_count": 34,
   "metadata": {
    "ExecuteTime": {
     "end_time": "2019-09-19T17:43:28.983548Z",
     "start_time": "2019-09-19T17:43:28.976553Z"
    }
   },
   "outputs": [],
   "source": [
    "#!/bin/python3\n",
    "\n",
    "import math\n",
    "import os\n",
    "import random\n",
    "import re\n",
    "import sys\n",
    "\n",
    "# n <- number of characters to consider\n",
    "# Complete the repeatedString function below.\n",
    "\n",
    "import itertools\n",
    "\n",
    "def repeatedString(s: str, n: int) -> int:\n",
    "    # s, n = input().strip(), int(input().strip())\n",
    "    return s.count(\"a\") * (n // len(s)) + s[:n % len(s)].count(\"a\")"
   ]
  },
  {
   "cell_type": "code",
   "execution_count": 29,
   "metadata": {
    "ExecuteTime": {
     "end_time": "2019-09-19T17:42:34.838639Z",
     "start_time": "2019-09-19T17:42:34.831646Z"
    }
   },
   "outputs": [
    {
     "data": {
      "text/plain": [
       "-3"
      ]
     },
     "execution_count": 29,
     "metadata": {},
     "output_type": "execute_result"
    },
    {
     "data": {
      "text/plain": [
       "2"
      ]
     },
     "execution_count": 29,
     "metadata": {},
     "output_type": "execute_result"
    }
   ],
   "source": [
    "-5 // 2\n",
    "5//2"
   ]
  },
  {
   "cell_type": "markdown",
   "metadata": {},
   "source": [
    "What is the difference between '/' and '//' when used for division?\n",
    "\n",
    "https://stackoverflow.com/questions/183853/what-is-the-difference-between-and-when-used-for-division"
   ]
  },
  {
   "cell_type": "markdown",
   "metadata": {},
   "source": [
    "## Counting Valleys"
   ]
  },
  {
   "cell_type": "markdown",
   "metadata": {},
   "source": [
    "Gary is an avid hiker. He tracks his hikes meticulously, paying close attention to small details like topography. \n",
    "\n",
    "* During his last hike he took exactly ```n``` steps. \n",
    "\n",
    "* For every step he took, he noted if it was an uphill, ```U```, or a downhill, ```D``` step. \n",
    "\n",
    "* Gary's hikes start and end at sea level and each step up or down represents a 1 unit change in altitude. We define the following terms:\n",
    "\n",
    "* A mountain is a sequence of consecutive steps above sea level, starting with a step up from sea level and ending with a step down to sea level.\n",
    "\n",
    "* A valley is a sequence of consecutive steps below sea level, starting with a step down from sea level and ending with a step up to sea level.\n",
    "\n",
    "<b><font color = 'purple'>Given Gary's sequence of up and down steps during his last hike, find and print the number of valleys he walked through </font></b>.\n",
    "\n",
    "For example, if Gary's path is s=[DDUUUUDD], he first enters a valley 2 units deep. Then he climbs out an up onto a mountain  units high. Finally, he returns to sea level and ends his hike.\n",
    "\n",
    "<b><font color = 'purple'>Function Description </font></b>\n",
    "\n",
    "* Complete the countingValleys function in the editor below. <b><font color = 'purple'><span style='background-color: lightyellow'>It must return an integer that denotes the number of valleys Gary traversed</span>. </font></b>\n",
    "\n",
    "<b><font color = 'purple'>countingValleys has the following parameter(s): </font></b>\n",
    "\n",
    "* n: the number of steps Gary takes\n",
    "* s: a string describing his path\n",
    "\n",
    "<b><font color = 'purple'>Input Format </font></b>\n",
    "\n",
    "* The first line contains an integer , the number of steps in Gary's hike.\n",
    "* The second line contains a single string , of  characters that describe his path.\n",
    "\n",
    "Constraints\n",
    "\n",
    "* $2 \\le n \\le 10^6$\n",
    "\n",
    "* $s[i] \\in {UD}$\n",
    "\n",
    "<b><font color = 'purple'>Output Format </font></b>\n",
    "\n",
    "* Print a single integer that denotes the number of valleys Gary walked through during his hike."
   ]
  },
  {
   "cell_type": "raw",
   "metadata": {},
   "source": [
    "Sample Input\n",
    "\n",
    "8\n",
    "UDDDUDUU\n",
    "\n",
    "Sample Output\n",
    "1\n",
    "\n",
    "Explanation\n",
    "\n",
    "If we represent _ as sea level, a step up as /, and a step down as \\, Gary's hike can be drawn as:\n",
    "\n",
    "_/\\      _\n",
    "   \\    /\n",
    "    \\/\\/\n",
    "He enters and leaves one valley."
   ]
  },
  {
   "cell_type": "code",
   "execution_count": 43,
   "metadata": {
    "ExecuteTime": {
     "end_time": "2019-09-19T23:33:10.192633Z",
     "start_time": "2019-09-19T23:33:10.183638Z"
    }
   },
   "outputs": [
    {
     "name": "stdout",
     "output_type": "stream",
     "text": [
      "result:\t 1\n"
     ]
    }
   ],
   "source": [
    "#!/bin/python3\n",
    "\n",
    "import math\n",
    "import os\n",
    "import random\n",
    "import re\n",
    "import sys\n",
    "\n",
    "# Complete the countingValleys function below.\n",
    "def countingValleys(n, s):\n",
    "    valley_count: int = 0\n",
    "    sea_lvl_diff: int = 0\n",
    "    for c in s:\n",
    "        if c == 'U': \n",
    "            sea_lvl_diff += 1\n",
    "        else:\n",
    "            if sea_lvl_diff == 0:\n",
    "                valley_count += 1          \n",
    "            sea_lvl_diff -= 1        \n",
    "    return valley_count\n",
    "    \n",
    "\n",
    "n = 8\n",
    "s = 'UDDDUDUU'\n",
    "\n",
    "result = countingValleys(n, s); print('result:\\t', result)\n",
    "\n",
    "\n",
    "\n"
   ]
  },
  {
   "cell_type": "markdown",
   "metadata": {},
   "source": [
    "# Arrays"
   ]
  },
  {
   "cell_type": "markdown",
   "metadata": {},
   "source": [
    "## 2D Array"
   ]
  },
  {
   "cell_type": "markdown",
   "metadata": {},
   "source": [
    "<b>Function Description</b>\n",
    "\n",
    "Complete the function hourglassSum in the editor below. It should return an integer, the maximum hourglass sum in the array.\n",
    "\n",
    "hourglassSum has the following parameter(s):\n",
    "\n",
    "arr: an array of integers"
   ]
  },
  {
   "cell_type": "code",
   "execution_count": 50,
   "metadata": {
    "ExecuteTime": {
     "end_time": "2019-09-26T17:46:46.246745Z",
     "start_time": "2019-09-26T17:46:46.226758Z"
    },
    "collapsed": true
   },
   "outputs": [
    {
     "ename": "KeyError",
     "evalue": "'OUTPUT_PATH'",
     "output_type": "error",
     "traceback": [
      "\u001b[1;31m---------------------------------------------------------------------------\u001b[0m",
      "\u001b[1;31mKeyError\u001b[0m                                  Traceback (most recent call last)",
      "\u001b[1;32m<ipython-input-50-4297101b8980>\u001b[0m in \u001b[0;36m<module>\u001b[1;34m\u001b[0m\n\u001b[0;32m     13\u001b[0m \u001b[1;33m\u001b[0m\u001b[0m\n\u001b[0;32m     14\u001b[0m \u001b[1;32mif\u001b[0m \u001b[0m__name__\u001b[0m \u001b[1;33m==\u001b[0m \u001b[1;34m'__main__'\u001b[0m\u001b[1;33m:\u001b[0m\u001b[1;33m\u001b[0m\u001b[1;33m\u001b[0m\u001b[0m\n\u001b[1;32m---> 15\u001b[1;33m     \u001b[0mfptr\u001b[0m \u001b[1;33m=\u001b[0m \u001b[0mopen\u001b[0m\u001b[1;33m(\u001b[0m\u001b[0mos\u001b[0m\u001b[1;33m.\u001b[0m\u001b[0menviron\u001b[0m\u001b[1;33m[\u001b[0m\u001b[1;34m'OUTPUT_PATH'\u001b[0m\u001b[1;33m]\u001b[0m\u001b[1;33m,\u001b[0m \u001b[1;34m'w'\u001b[0m\u001b[1;33m)\u001b[0m\u001b[1;33m\u001b[0m\u001b[1;33m\u001b[0m\u001b[0m\n\u001b[0m\u001b[0;32m     16\u001b[0m \u001b[1;33m\u001b[0m\u001b[0m\n\u001b[0;32m     17\u001b[0m     \u001b[0marr\u001b[0m \u001b[1;33m=\u001b[0m \u001b[1;33m[\u001b[0m\u001b[1;33m]\u001b[0m\u001b[1;33m\u001b[0m\u001b[1;33m\u001b[0m\u001b[0m\n",
      "\u001b[1;32m~\\Anaconda3\\envs\\SEP2019\\lib\\os.py\u001b[0m in \u001b[0;36m__getitem__\u001b[1;34m(self, key)\u001b[0m\n\u001b[0;32m    676\u001b[0m         \u001b[1;32mexcept\u001b[0m \u001b[0mKeyError\u001b[0m\u001b[1;33m:\u001b[0m\u001b[1;33m\u001b[0m\u001b[1;33m\u001b[0m\u001b[0m\n\u001b[0;32m    677\u001b[0m             \u001b[1;31m# raise KeyError with the original key value\u001b[0m\u001b[1;33m\u001b[0m\u001b[1;33m\u001b[0m\u001b[1;33m\u001b[0m\u001b[0m\n\u001b[1;32m--> 678\u001b[1;33m             \u001b[1;32mraise\u001b[0m \u001b[0mKeyError\u001b[0m\u001b[1;33m(\u001b[0m\u001b[0mkey\u001b[0m\u001b[1;33m)\u001b[0m \u001b[1;32mfrom\u001b[0m \u001b[1;32mNone\u001b[0m\u001b[1;33m\u001b[0m\u001b[1;33m\u001b[0m\u001b[0m\n\u001b[0m\u001b[0;32m    679\u001b[0m         \u001b[1;32mreturn\u001b[0m \u001b[0mself\u001b[0m\u001b[1;33m.\u001b[0m\u001b[0mdecodevalue\u001b[0m\u001b[1;33m(\u001b[0m\u001b[0mvalue\u001b[0m\u001b[1;33m)\u001b[0m\u001b[1;33m\u001b[0m\u001b[1;33m\u001b[0m\u001b[0m\n\u001b[0;32m    680\u001b[0m \u001b[1;33m\u001b[0m\u001b[0m\n",
      "\u001b[1;31mKeyError\u001b[0m: 'OUTPUT_PATH'"
     ]
    }
   ],
   "source": [
    "#!/bin/python3\n",
    "\n",
    "import math\n",
    "import os\n",
    "import random\n",
    "import re\n",
    "import sys\n",
    "\n",
    "OUTPUT_PATH=\"Z:\\\\buffer\"\n",
    "\n",
    "# Complete the hourglassSum function below.\n",
    "# def hourglassSum(arr):\n",
    "    \n",
    "if __name__ == '__main__':\n",
    "    fptr = open(os.environ['OUTPUT_PATH'], 'w')\n",
    "\n",
    "    arr = []\n",
    "\n",
    "    for _ in range(6):\n",
    "        arr.append(list(map(int, input().rstrip().split())))\n",
    "\n",
    "    result = hourglassSum(arr)\n",
    "\n",
    "    fptr.write(str(result) + '\\n')\n",
    "\n",
    "    fptr.close()"
   ]
  },
  {
   "cell_type": "code",
   "execution_count": 58,
   "metadata": {
    "ExecuteTime": {
     "end_time": "2019-09-26T17:56:13.463608Z",
     "start_time": "2019-09-26T17:55:28.982353Z"
    },
    "collapsed": true
   },
   "outputs": [
    {
     "name": "stdout",
     "output_type": "stream",
     "text": [
      "1 1 1 0 0 0\n",
      "0 1 0 0 0 0\n",
      "1 1 1 0 0 0\n",
      "0 0 2 4 4 0\n",
      "0 0 0 2 0 0\n",
      "0 0 1 2 4 0\n",
      "[[1, 1, 1, 0, 0, 0], [0, 1, 0, 0, 0, 0], [1, 1, 1, 0, 0, 0], [0, 0, 2, 4, 4, 0], [0, 0, 0, 2, 0, 0], [0, 0, 1, 2, 4, 0]]\n"
     ]
    }
   ],
   "source": [
    "arr = []\n",
    "for _ in range(6):\n",
    "    arr.append(list(map(int, input().rstrip().split())))\n",
    "    \n",
    "print(arr)\n",
    "        \n"
   ]
  },
  {
   "cell_type": "code",
   "execution_count": 6,
   "metadata": {
    "ExecuteTime": {
     "end_time": "2019-09-27T23:15:52.256970Z",
     "start_time": "2019-09-27T23:15:52.249979Z"
    }
   },
   "outputs": [],
   "source": [
    "arr = [[1, 1, 1, 0, 0, 0], \n",
    "        [0, 1, 0, 0, 0, 0], \n",
    "        [1, 1, 1, 0, 0, 0], \n",
    "        [0, 0, 2, 4, 4, 0], \n",
    "        [0, 0, 0, 2, 0, 0], \n",
    "        [0, 0, 1, 2, 4, 0]]"
   ]
  },
  {
   "cell_type": "markdown",
   "metadata": {},
   "source": [
    "##### My attempt"
   ]
  },
  {
   "cell_type": "code",
   "execution_count": 7,
   "metadata": {
    "ExecuteTime": {
     "end_time": "2019-09-27T23:15:53.983878Z",
     "start_time": "2019-09-27T23:15:53.962817Z"
    }
   },
   "outputs": [
    {
     "data": {
      "text/plain": [
       "19"
      ]
     },
     "execution_count": 7,
     "metadata": {},
     "output_type": "execute_result"
    }
   ],
   "source": [
    "def hourglassSum(arr):\n",
    "    max_sum: int = 7*(-9)\n",
    "    for r in range(4):\n",
    "        for c in range(4):\n",
    "            cur_sum = sum(arr[r][c:c+3]) + \\\n",
    "                arr[r+1][c+1] + \\\n",
    "                sum(arr[r+2][c:c+3]) \n",
    "            max_sum = max(max_sum, cur_sum)\n",
    "    return max_sum\n",
    "\n",
    "hourglassSum(arr)"
   ]
  },
  {
   "cell_type": "markdown",
   "metadata": {},
   "source": [
    "## Arrays: Left Rotation"
   ]
  },
  {
   "cell_type": "markdown",
   "metadata": {},
   "source": [
    "A left rotation operation on an array shifts each of the array's elements ```1``` unit to the left. For example, if 2  left rotations are performed on array ```[1,2,3,4,5]```, then the array would become ```[3,4,5,1,2]```.\n",
    "\n",
    "<font color = 'purple'><span style='background-color: lightyellow'>Given an array ```a``` of ```n``` integers and a number, ```d```, perform ```d``` left rotations on the array. Return the updated array to be printed as a single line of space-separated integers</span> </font>.\n",
    "\n",
    "<b><font color = 'purple'>Function Description </font></b>\n",
    "\n",
    "* Complete the function rotLeft in the editor below. It should return the resulting array of integers.\n",
    "\n",
    "<b>rotLeft has the following parameter(s):</b>\n",
    "\n",
    "* An array of integers ```a```.\n",
    "* An integer ```d```, the number of rotations.\n",
    "\n",
    "<b><font color = 'purple'>Input Format </font></b>\n",
    "\n",
    "* The first line contains two space-separated integers ```n``` and ```d```  , the size of ```a``` and the number of left rotations you must perform.\n",
    "The second line contains  space-separated integers .\n",
    "\n",
    "Constraints\n",
    "\n",
    "* $1 \\le n \\le 10^5$\n",
    "* $1 \\le d \\le n$\n",
    "* $1 \\le a[i] \\le 10^6$\n",
    "\n",
    "\n",
    "\n",
    "Output Format\n",
    "\n",
    "* <font color = 'purple'><span style='background-color: lightyellow'>Print a single line of ```n``` space-separated integers denoting the final state of the array after performing ```d``` left rotations.</span> </font>"
   ]
  },
  {
   "cell_type": "raw",
   "metadata": {},
   "source": [
    "Sample Input\n",
    "\n",
    "5 4\n",
    "1 2 3 4 5\n",
    "\n",
    "Sample Output\n",
    "\n",
    "5 1 2 3 4"
   ]
  },
  {
   "cell_type": "code",
   "execution_count": 61,
   "metadata": {
    "ExecuteTime": {
     "end_time": "2019-09-20T15:11:52.946425Z",
     "start_time": "2019-09-20T15:11:52.937428Z"
    }
   },
   "outputs": [
    {
     "name": "stdout",
     "output_type": "stream",
     "text": [
      "['5', '1', '2', '3', '4']\n"
     ]
    }
   ],
   "source": [
    "def rotLeft(a, d):\n",
    "    result_list = []\n",
    "    for i in range(n):\n",
    "        result_list.append(str(a[(i + d) % n]))\n",
    "    return result_list\n",
    "\n",
    "# 4, 0, 1, 2, 3\n",
    "n = int(5) # size of a\n",
    "d = int(4) # number of left rotations\n",
    "a = [1, 2, 3, 4, 5] \n",
    "result = rotLeft(a, d); print(result)"
   ]
  },
  {
   "cell_type": "code",
   "execution_count": 62,
   "metadata": {
    "ExecuteTime": {
     "end_time": "2019-09-20T15:12:19.471350Z",
     "start_time": "2019-09-20T15:12:19.453363Z"
    },
    "scrolled": true
   },
   "outputs": [
    {
     "data": {
      "text/plain": [
       "1"
      ]
     },
     "execution_count": 62,
     "metadata": {},
     "output_type": "execute_result"
    },
    {
     "data": {
      "text/plain": [
       "2"
      ]
     },
     "execution_count": 62,
     "metadata": {},
     "output_type": "execute_result"
    },
    {
     "data": {
      "text/plain": [
       "3"
      ]
     },
     "execution_count": 62,
     "metadata": {},
     "output_type": "execute_result"
    },
    {
     "data": {
      "text/plain": [
       "4"
      ]
     },
     "execution_count": 62,
     "metadata": {},
     "output_type": "execute_result"
    },
    {
     "data": {
      "text/plain": [
       "0"
      ]
     },
     "execution_count": 62,
     "metadata": {},
     "output_type": "execute_result"
    },
    {
     "data": {
      "text/plain": [
       "1"
      ]
     },
     "execution_count": 62,
     "metadata": {},
     "output_type": "execute_result"
    }
   ],
   "source": [
    "1 % 5\n",
    "2 % 5\n",
    "3 % 5\n",
    "4 % 5\n",
    "5 % 5\n",
    "6 % 5"
   ]
  },
  {
   "cell_type": "markdown",
   "metadata": {},
   "source": [
    "## New Year Chaos"
   ]
  },
  {
   "cell_type": "markdown",
   "metadata": {},
   "source": [
    "<img src='pics/INT2_6.png' alt='Drawing' style='width:625pt'/>"
   ]
  },
  {
   "cell_type": "raw",
   "metadata": {},
   "source": [
    "Sample Input\n",
    "\n",
    "2 1 5 3 4\n",
    "2 5 1 3 4\n",
    "\n",
    "Sample Output\n",
    "\n",
    "3\n",
    "Too chaotic"
   ]
  },
  {
   "cell_type": "code",
   "execution_count": 21,
   "metadata": {
    "ExecuteTime": {
     "end_time": "2019-09-21T02:02:30.725186Z",
     "start_time": "2019-09-21T02:02:30.711194Z"
    }
   },
   "outputs": [
    {
     "name": "stdout",
     "output_type": "stream",
     "text": [
      "7\n"
     ]
    }
   ],
   "source": [
    "#!/bin/python3\n",
    "\n",
    "import math\n",
    "import os\n",
    "import random\n",
    "import re\n",
    "import sys\n",
    "from typing import List\n",
    "\n",
    "# Complete the minimumBribes function below.\n",
    "def minimumBribes(q: List[int]) -> int:\n",
    "    bribe_counter: int = 0\n",
    "    for i,p in enumerate(q):\n",
    "        \n",
    "        if p-(i+1) > 0:\n",
    "            if p-(i+1) > 2:\n",
    "                print(\"Too chaotic\")\n",
    "                return \n",
    "            \n",
    "            \n",
    "        # Anyone who bribed person p cannot get to a better \n",
    "        # position than one spot in front of p's original \n",
    "        # position, so we need to look from one position in front \n",
    "        # of p's original position to one in front of p's current \n",
    "        # position, and see how many of those people in this subset of Q \n",
    "        # contain had an original number large than p's original number.\n",
    "        for adjacent_p in range(max(p-2,0),i):\n",
    "            # -2 to adjust for 0-based indexing\n",
    "            if q[adjacent_p] > p:\n",
    "                bribe_counter += 1\n",
    "    print(bribe_counter)\n",
    "    \n",
    "    \n",
    "    \n",
    "# q = [2, 1, 5, 3, 4]\n",
    "# q = [2, 5, 1, 3, 4]\n",
    "# 8\n",
    "q = [1, 2, 5, 3, 7, 8, 6, 4]\n",
    "\n",
    "minimumBribes(q)"
   ]
  },
  {
   "cell_type": "code",
   "execution_count": 17,
   "metadata": {
    "ExecuteTime": {
     "end_time": "2019-09-21T01:52:26.208580Z",
     "start_time": "2019-09-21T01:52:26.198587Z"
    }
   },
   "outputs": [
    {
     "data": {
      "text/plain": [
       "[2, 3, 4, 5]"
      ]
     },
     "execution_count": 17,
     "metadata": {},
     "output_type": "execute_result"
    },
    {
     "data": {
      "text/plain": [
       "[]"
      ]
     },
     "execution_count": 17,
     "metadata": {},
     "output_type": "execute_result"
    }
   ],
   "source": [
    "list(range(2,6))\n",
    "list(range(6,2))"
   ]
  },
  {
   "cell_type": "code",
   "execution_count": 14,
   "metadata": {
    "ExecuteTime": {
     "end_time": "2019-09-20T22:31:38.697892Z",
     "start_time": "2019-09-20T22:31:38.684900Z"
    }
   },
   "outputs": [
    {
     "name": "stdout",
     "output_type": "stream",
     "text": [
      "Q[j],P,i:\t 4 2 3\n",
      "Q[j],P,i:\t 6 5 6\n",
      "Q[j],P,i:\t 7 5 6\n",
      "Q[j],P,i:\t 4 3 7\n",
      "Q[j],P,i:\t 6 3 7\n",
      "Q[j],P,i:\t 7 3 7\n",
      "Q[j],P,i:\t 5 3 7\n",
      "7\n"
     ]
    }
   ],
   "source": [
    "#!/bin/python3\n",
    "\n",
    "import math\n",
    "import os\n",
    "import random\n",
    "import re\n",
    "import sys\n",
    "from typing import List\n",
    "\n",
    "# Complete the minimumBribes function below.\n",
    "def minimumBribes(Q):\n",
    "    #\n",
    "    # initialize the number of moves\n",
    "    moves = 0 \n",
    "    #\n",
    "    # decrease Q by 1 to make index-matching more intuitive\n",
    "    # so that our values go from 0 to N-1, just like our\n",
    "    # indices.  (Not necessary but makes it easier to\n",
    "    # understand.)\n",
    "    Q = [P-1 for P in Q]\n",
    "    #\n",
    "    # Loop through each person (P) in the queue (Q)\n",
    "    for i,P in enumerate(Q):\n",
    "        # print('i, P, i-P:\\t', i,P,P-i)\n",
    "        \n",
    "        # i is the current position of P, while P is the\n",
    "        # original position of P.\n",
    "        \n",
    "        # First check if any P is more than two ahead of \n",
    "        # its original position\n",
    "        \n",
    "        if P - i > 2:\n",
    "            print(\"Too chaotic\")\n",
    "            return\n",
    "        \n",
    "        # From here on out, we don't care if P has moved\n",
    "        # forwards, it is better to count how many times\n",
    "        # P has RECEIVED a bribe, by looking at who is\n",
    "        # ahead of P.  P's original position is the value\n",
    "        # of P.\n",
    "        \n",
    "        # Anyone who bribed P cannot get to higher than\n",
    "        # one position in front of P's original position,\n",
    "        # so we need to look from one position in front\n",
    "        # of P's original position to one in front of P's\n",
    "        # current position, and see how many of those \n",
    "        # positions in Q contain a number large than P.\n",
    "        \n",
    "        # In other words we will look from P-1 to i-1,\n",
    "        # which in Python is range(P-1,i-1+1), or simply\n",
    "        # range(P-1,i).  To make sure we don't try an\n",
    "        # index less than zero, replace P-1 with\n",
    "        # max(P-1,0)\n",
    "        \n",
    "        for j in range(max(P-1,0),i):\n",
    "            if Q[j] > P:\n",
    "                print('Q[j],P,i:\\t', Q[j],P,i)\n",
    "                moves += 1\n",
    "    print(moves)\n",
    "    \n",
    "    \n",
    "    \n",
    "# q = [2, 1, 5, 3, 4]\n",
    "# q = [2, 5, 1, 3, 4]\n",
    "# 8\n",
    "q = [1, 2, 5, 3, 7, 8, 6, 4]\n",
    "\n",
    "minimumBribes(q)"
   ]
  },
  {
   "cell_type": "code",
   "execution_count": null,
   "metadata": {
    "ExecuteTime": {
     "start_time": "2019-09-20T20:22:33.697Z"
    }
   },
   "outputs": [],
   "source": [
    "if __name__ == '__main__':\n",
    "    t = int(input())\n",
    "\n",
    "    for t_itr in range(t):\n",
    "        n = int(input())\n",
    "\n",
    "        q = list(map(int, input().rstrip().split()))\n",
    "\n",
    "        minimumBribes(q)"
   ]
  },
  {
   "cell_type": "markdown",
   "metadata": {},
   "source": [
    "## Minimum swaps 2"
   ]
  },
  {
   "cell_type": "raw",
   "metadata": {},
   "source": [
    "Sample input\n",
    "\n",
    "2 3 4 1 5\n",
    "1 3 5 2 4 6 7\n",
    "\n",
    "Sample Output\n",
    "3\n",
    "3"
   ]
  },
  {
   "cell_type": "markdown",
   "metadata": {},
   "source": [
    "##### First attempt"
   ]
  },
  {
   "cell_type": "code",
   "execution_count": 326,
   "metadata": {
    "ExecuteTime": {
     "end_time": "2019-09-23T06:55:21.050884Z",
     "start_time": "2019-09-23T06:55:21.037893Z"
    }
   },
   "outputs": [
    {
     "name": "stdout",
     "output_type": "stream",
     "text": [
      "minimumSwaps(arr):\t 3\n"
     ]
    }
   ],
   "source": [
    "def minimumSwaps(arr):\n",
    "    swap_counter = 0\n",
    "    for i,e in enumerate(arr):\n",
    "        if e != (i+1):\n",
    "            arr[arr.index(i+1)] = e\n",
    "            arr[i] = i+1\n",
    "            swap_counter += 1\n",
    "        else:\n",
    "            pass\n",
    "    return swap_counter\n",
    "            \n",
    "        \n",
    "        \n",
    "    return arr\n",
    "\n",
    "# test_case = '2 3 4 1 5'\n",
    "test_case = '1 3 5 2 4 6 7'\n",
    "\n",
    "arr = list(map(int, test_case.rstrip().split()))\n",
    "print('minimumSwaps(arr):\\t', minimumSwaps(arr))\n"
   ]
  },
  {
   "cell_type": "markdown",
   "metadata": {},
   "source": [
    "##### <font color = 'red'>Should have used a HASH TABLE (DICT) - better soln!</font>"
   ]
  },
  {
   "cell_type": "code",
   "execution_count": 396,
   "metadata": {
    "ExecuteTime": {
     "end_time": "2019-09-24T12:11:50.496552Z",
     "start_time": "2019-09-24T12:11:50.485562Z"
    }
   },
   "outputs": [
    {
     "name": "stdout",
     "output_type": "stream",
     "text": [
      "minimumSwaps(arr):\t 3\n"
     ]
    }
   ],
   "source": [
    "def minimumSwaps(arr):\n",
    "    swap_counter = 0\n",
    "    arr = [(i-1) for i in arr]\n",
    "    pos_dict = {e: i for i, e in enumerate(arr)}\n",
    "    # i-1 to reindex array to start from 0 for convenience\n",
    "    # so I can use enumerate index as reference index \n",
    "\n",
    "    for i,e in enumerate(arr):\n",
    "        if e != i:\n",
    "            arr[pos_dict[i]],arr[i] = e,i \n",
    "            # update array\n",
    "            pos_dict[e],pos_dict[i] = pos_dict[i], i \n",
    "            # update reference dictionary\n",
    "            swap_counter += 1 \n",
    "\n",
    "    return swap_counter\n",
    "\n",
    "test_case = '2 3 4 1 5'\n",
    "# test_case = '1 3 5 2 4 6 7'\n",
    "\n",
    "arr = list(map(int, test_case.rstrip().split()))\n",
    "print('minimumSwaps(arr):\\t', minimumSwaps(arr))\n",
    "\n",
    "# need to update dictionary\n",
    "# before i=1, arr has been changed which screws up the swap "
   ]
  },
  {
   "cell_type": "code",
   "execution_count": null,
   "metadata": {},
   "outputs": [],
   "source": []
  },
  {
   "cell_type": "code",
   "execution_count": null,
   "metadata": {},
   "outputs": [],
   "source": []
  },
  {
   "cell_type": "code",
   "execution_count": 317,
   "metadata": {
    "ExecuteTime": {
     "end_time": "2019-09-23T06:18:11.085376Z",
     "start_time": "2019-09-23T06:18:11.077380Z"
    }
   },
   "outputs": [
    {
     "data": {
      "text/plain": [
       "3"
      ]
     },
     "execution_count": 317,
     "metadata": {},
     "output_type": "execute_result"
    }
   ],
   "source": [
    "test_case = '2 3 4 1 5'\n",
    "arr = list(map(int, test_case.rstrip().split()))\n",
    "arr.index(1)\n"
   ]
  },
  {
   "cell_type": "markdown",
   "metadata": {},
   "source": [
    "## Array Manipulation"
   ]
  },
  {
   "cell_type": "markdown",
   "metadata": {},
   "source": [
    "hard question - revisit later if I have time"
   ]
  },
  {
   "cell_type": "markdown",
   "metadata": {},
   "source": [
    "# Dictionaries and Hashmaps"
   ]
  },
  {
   "cell_type": "markdown",
   "metadata": {},
   "source": [
    "## Hash Tables: Ransom Note"
   ]
  },
  {
   "cell_type": "markdown",
   "metadata": {},
   "source": [
    "##### Question"
   ]
  },
  {
   "cell_type": "markdown",
   "metadata": {},
   "source": [
    "Given the words in the magazine and the words in the ransom note, print Yes if he can replicate his ransom note exactly using whole words from the magazine; otherwise, print No.\n",
    "\n",
    "For example, the note is \"Attack at dawn\". The magazine contains only \"attack at dawn\". The magazine has all the right words, but there's a case mismatch. The answer is .\n",
    "\n",
    "<b>Function Description</b>\n",
    "\n",
    "Complete the checkMagazine function in the editor below. It must print  if the note can be formed using the magazine, or .\n",
    "\n",
    "checkMagazine has the following parameters:\n",
    "\n",
    "* magazine: an array of strings, each a word in the magazine\n",
    "* note: an array of strings, each a word in the ransom note\n",
    "\n",
    "Input Format\n",
    "\n",
    "* The first line contains two space-separated integers, $m$ and $n$, the numbers of words in the magazine and the note..\n",
    "* The second line contains $m$ space-separated strings, each magazine[i].\n",
    "* The third line contains n space-separated strings, each note[i].\n",
    "\n",
    "<img src='pics/INT2_12.png' alt='Drawing' style='width:625pt'/>\n",
    "\n",
    "<b>Output Format</b>\n",
    "\n",
    "Print ```Yes``` if he can use the magazine to create an untraceable replica of his ransom note. Otherwise, print ```No```."
   ]
  },
  {
   "cell_type": "markdown",
   "metadata": {},
   "source": [
    "##### Test Cases"
   ]
  },
  {
   "cell_type": "raw",
   "metadata": {},
   "source": [
    "Sample Input 0\n",
    "---------------\n",
    "6 4\n",
    "give me one grand today night\n",
    "give one grand today\n",
    "\n",
    "Sample Output 0\n",
    "---------------\n",
    "Yes"
   ]
  },
  {
   "cell_type": "raw",
   "metadata": {},
   "source": [
    "Sample Input 1\n",
    "---------------\n",
    "6 5\n",
    "two times three is not four\n",
    "two times two is four\n",
    "\n",
    "Sample Output 1\n",
    "---------------\n",
    "No\n",
    "\n",
    "Explanation 1\n",
    "---------------\n",
    "'two' only occurs once in the magazine."
   ]
  },
  {
   "cell_type": "raw",
   "metadata": {},
   "source": [
    "Sample Input 2\n",
    "---------------\n",
    "7 4\n",
    "ive got a lovely bunch of coconuts\n",
    "ive got some coconuts\n",
    "\n",
    "Sample Output 2\n",
    "---------------\n",
    "No\n",
    "\n",
    "Explanation 2\n",
    "---------------\n",
    "Harold's magazine is missing the word some."
   ]
  },
  {
   "cell_type": "markdown",
   "metadata": {},
   "source": [
    "##### Attempt 1"
   ]
  },
  {
   "cell_type": "code",
   "execution_count": null,
   "metadata": {},
   "outputs": [],
   "source": [
    "#!/bin/python3\n",
    "\n",
    "import math\n",
    "import os\n",
    "import random\n",
    "import re\n",
    "import sys\n",
    "\n",
    "# Complete the checkMagazine function below.\n",
    "def checkMagazine(magazine, note):\n",
    "\n",
    "if __name__ == '__main__':\n",
    "    mn = input().split()\n",
    "\n",
    "    m = int(mn[0])\n",
    "\n",
    "    n = int(mn[1])\n",
    "\n",
    "    magazine = input().rstrip().split()\n",
    "\n",
    "    note = input().rstrip().split()\n",
    "\n",
    "    checkMagazine(magazine, note)\n"
   ]
  },
  {
   "cell_type": "raw",
   "metadata": {},
   "source": [
    "Sample Input 0\n",
    "---------------\n",
    "6 4\n",
    "give me one grand today night\n",
    "give one grand today\n",
    "\n",
    "Sample Output 0\n",
    "---------------\n",
    "Yes"
   ]
  },
  {
   "cell_type": "code",
   "execution_count": 437,
   "metadata": {
    "ExecuteTime": {
     "end_time": "2019-09-26T01:24:44.470661Z",
     "start_time": "2019-09-26T01:24:44.459668Z"
    }
   },
   "outputs": [
    {
     "name": "stdout",
     "output_type": "stream",
     "text": [
      "Yes\n"
     ]
    }
   ],
   "source": [
    "from collections import defaultdict\n",
    "\n",
    "def checkMagazine(magazine, note):\n",
    "    \n",
    "    note_word_count: dict = defaultdict(int)\n",
    "    magazine_word_count: dict = defaultdict(int)\n",
    "        \n",
    "    for word in magazine: \n",
    "        magazine_word_count[word] += 1\n",
    "    for word in note:\n",
    "        note_word_count[word] += 1\n",
    "    for k,v in note_word_count.items():\n",
    "        if note_word_count[k] > magazine_word_count[k]:\n",
    "            print(\"No\")\n",
    "            return\n",
    "            \n",
    "    print(\"Yes\")\n",
    "    \n",
    "    return \n",
    "\n",
    "test = 'give me one grand today night'\n",
    "magazine = test.rstrip().split()\n",
    "\n",
    "test = 'give one grand today'\n",
    "note = test.rstrip().split()\n",
    "\n",
    "checkMagazine(magazine, note)\n",
    "    \n",
    "\n",
    "    \n"
   ]
  },
  {
   "cell_type": "markdown",
   "metadata": {},
   "source": [
    "##### Better solution with 1-less for loop"
   ]
  },
  {
   "cell_type": "code",
   "execution_count": null,
   "metadata": {},
   "outputs": [],
   "source": [
    "from collections import defaultdict\n",
    "\n",
    "def ransom_note(magazine, rasom):\n",
    "    d = defaultdict(int)\n",
    "    \n",
    "    for word in magazine:\n",
    "        d[word] += 1\n",
    "        \n",
    "    for word in rasom:\n",
    "        if word not in d:\n",
    "            return False\n",
    "        if d[word] == 0:\n",
    "            return False\n",
    "        d[word] -= 1\n",
    "    return True"
   ]
  },
  {
   "cell_type": "code",
   "execution_count": 426,
   "metadata": {
    "ExecuteTime": {
     "end_time": "2019-09-26T01:05:32.750422Z",
     "start_time": "2019-09-26T01:05:32.742425Z"
    }
   },
   "outputs": [
    {
     "name": "stdout",
     "output_type": "stream",
     "text": [
      "Yes\n"
     ]
    }
   ],
   "source": [
    "\n",
    "def checkMagazine(magazine, note):\n",
    "    \n",
    "    flag =  all(elem in magazine for elem in note)\n",
    "    \n",
    "    # printing result \n",
    "    if (flag) : \n",
    "        print (\"Yes\") \n",
    "    else : \n",
    "        print (\"No\")        \n",
    "\n",
    "    return \n",
    "\n",
    "test = 'give me one grand today night'\n",
    "magazine = test.rstrip().split()\n",
    "\n",
    "test = 'give one grand today'\n",
    "note = test.rstrip().split()\n",
    "\n",
    "checkMagazine(magazine, note)\n",
    "    \n",
    "\n",
    "    "
   ]
  },
  {
   "cell_type": "code",
   "execution_count": 431,
   "metadata": {
    "ExecuteTime": {
     "end_time": "2019-09-26T01:08:04.877476Z",
     "start_time": "2019-09-26T01:08:04.859489Z"
    }
   },
   "outputs": [
    {
     "data": {
      "text/plain": [
       "'    \\n    check if list1 contains all elements in list2\\n'"
      ]
     },
     "execution_count": 431,
     "metadata": {},
     "output_type": "execute_result"
    },
    {
     "name": "stdout",
     "output_type": "stream",
     "text": [
      "Yes, list1 contains all elements in list2\n"
     ]
    },
    {
     "data": {
      "text/plain": [
       "'    \\n    check if list1 contains any elements of list2\\n'"
      ]
     },
     "execution_count": 431,
     "metadata": {},
     "output_type": "execute_result"
    },
    {
     "name": "stdout",
     "output_type": "stream",
     "text": [
      "Yes, list1 contains any elements of list2\n"
     ]
    }
   ],
   "source": [
    "# List of string \n",
    "list1 = ['Hi' ,  'hello', 'at', 'this', 'there', 'from']\n",
    "\n",
    "# List of string\n",
    "list2 = ['there' , 'hello', 'Hi']\n",
    "\n",
    "'''    \n",
    "    check if list1 contains all elements in list2\n",
    "'''\n",
    "result =  all(elem in list1  for elem in list2)\n",
    "\n",
    "if result:\n",
    "    print(\"Yes, list1 contains all elements in list2\")    \n",
    "else :\n",
    "    print(\"No, list1 does not contains all elements in list2\")    \n",
    "\n",
    "\n",
    "'''    \n",
    "    check if list1 contains any elements of list2\n",
    "'''\n",
    "result =  any(elem in list1  for elem in list2)\n",
    "\n",
    "if result:\n",
    "    print(\"Yes, list1 contains any elements of list2\")    \n",
    "else :\n",
    "    print(\"No, list1 contains any elements of list2\")        \n",
    "\n",
    "\n"
   ]
  },
  {
   "cell_type": "markdown",
   "metadata": {},
   "source": [
    "## Two Strings"
   ]
  },
  {
   "cell_type": "markdown",
   "metadata": {},
   "source": []
  },
  {
   "cell_type": "raw",
   "metadata": {},
   "source": [
    "#!/bin/python3\n",
    "\n",
    "import math\n",
    "import os\n",
    "import random\n",
    "import re\n",
    "import sys\n",
    "\n",
    "# Complete the twoStrings function below.\n",
    "def twoStrings(s1, s2):\n",
    "\n",
    "if __name__ == '__main__':\n",
    "    fptr = open(os.environ['OUTPUT_PATH'], 'w')\n",
    "\n",
    "    q = int(input())\n",
    "\n",
    "    for q_itr in range(q):\n",
    "        s1 = input()\n",
    "\n",
    "        s2 = input()\n",
    "\n",
    "        result = twoStrings(s1, s2)\n",
    "\n",
    "        fptr.write(result + '\\n')\n",
    "\n",
    "    fptr.close()\n"
   ]
  },
  {
   "cell_type": "code",
   "execution_count": null,
   "metadata": {},
   "outputs": [],
   "source": []
  },
  {
   "cell_type": "raw",
   "metadata": {},
   "source": [
    "Sample Input\n",
    "\n",
    "hello\n",
    "world\n",
    "\n",
    "hi\n",
    "world\n",
    "\n",
    "Sample Output\n",
    "\n",
    "YES\n",
    "\n",
    "NO"
   ]
  },
  {
   "cell_type": "code",
   "execution_count": 18,
   "metadata": {
    "ExecuteTime": {
     "end_time": "2019-09-27T23:54:51.200866Z",
     "start_time": "2019-09-27T23:54:51.193870Z"
    }
   },
   "outputs": [],
   "source": [
    "def twoStrings(s1, s2):\n",
    "    if len(s1) < len(s2):\n",
    "        for c in s1:\n",
    "            if c in s2: return 'YES'\n",
    "    else:\n",
    "        for c in s2:\n",
    "            if c in s1: return 'YES'              \n",
    "    return 'NO'"
   ]
  },
  {
   "cell_type": "code",
   "execution_count": 33,
   "metadata": {
    "ExecuteTime": {
     "end_time": "2019-09-28T00:03:57.277174Z",
     "start_time": "2019-09-28T00:03:57.271177Z"
    }
   },
   "outputs": [
    {
     "name": "stdout",
     "output_type": "stream",
     "text": [
      "twoStrings(s1, s2):\t YES\n"
     ]
    }
   ],
   "source": [
    "s1 = 'hello'\n",
    "s2 = 'world'\n",
    "\n",
    "print('twoStrings(s1, s2):\\t', twoStrings(s1, s2))"
   ]
  },
  {
   "cell_type": "code",
   "execution_count": 20,
   "metadata": {
    "ExecuteTime": {
     "end_time": "2019-09-27T23:54:54.366725Z",
     "start_time": "2019-09-27T23:54:54.359729Z"
    }
   },
   "outputs": [],
   "source": [
    "# Complete the twoStrings function below.\n",
    "def twoStrings(s1, s2):\n",
    "    if len(set(s1)) < len(set(s2)):\n",
    "        for c in set(s1):\n",
    "            if c in set(s2): return 'YES'\n",
    "    else:\n",
    "        for c in set(s2):\n",
    "            if c in set(s1): return 'YES'              \n",
    "    return 'NO'"
   ]
  },
  {
   "cell_type": "markdown",
   "metadata": {},
   "source": [
    "##### <font color = 'blue'>Better solution</font>"
   ]
  },
  {
   "cell_type": "code",
   "execution_count": 32,
   "metadata": {
    "ExecuteTime": {
     "end_time": "2019-09-28T00:03:53.932432Z",
     "start_time": "2019-09-28T00:03:53.927436Z"
    }
   },
   "outputs": [],
   "source": [
    "# Complete the twoStrings function below.\n",
    "def twoStrings(s1, s2):\n",
    "    if set(s1).intersection(set(s2)):return \"YES\"\n",
    "    else: return \"NO\"\n",
    "    "
   ]
  },
  {
   "cell_type": "markdown",
   "metadata": {},
   "source": [
    "## Sherlock and Anagrams"
   ]
  },
  {
   "cell_type": "raw",
   "metadata": {
    "ExecuteTime": {
     "end_time": "2019-10-05T00:29:03.018140Z",
     "start_time": "2019-10-05T00:29:02.991158Z"
    }
   },
   "source": [
    "#!/bin/python3\n",
    "\n",
    "import math\n",
    "import os\n",
    "import random\n",
    "import re\n",
    "import sys\n",
    "\n",
    "# Complete the sherlockAndAnagrams function below.\n",
    "def sherlockAndAnagrams(s):\n",
    "\n",
    "if __name__ == '__main__':\n",
    "    fptr = open(os.environ['OUTPUT_PATH'], 'w')\n",
    "\n",
    "    q = int(input())\n",
    "\n",
    "    for q_itr in range(q):\n",
    "        s = input()\n",
    "\n",
    "        result = sherlockAndAnagrams(s)\n",
    "\n",
    "        fptr.write(str(result) + '\\n')\n",
    "\n",
    "    fptr.close()\n"
   ]
  },
  {
   "cell_type": "markdown",
   "metadata": {
    "heading_collapsed": true
   },
   "source": [
    "##### Best Version"
   ]
  },
  {
   "cell_type": "code",
   "execution_count": 39,
   "metadata": {
    "ExecuteTime": {
     "end_time": "2019-10-05T18:17:46.005843Z",
     "start_time": "2019-10-05T18:17:45.994850Z"
    },
    "hidden": true
   },
   "outputs": [
    {
     "name": "stdout",
     "output_type": "stream",
     "text": [
      "sherlockAndAnagrams(s):\t 5\n"
     ]
    }
   ],
   "source": [
    "import string\n",
    "from collections import defaultdict\n",
    "\n",
    "def sherlockAndAnagrams(s):\n",
    "    signature_counts = defaultdict(int)\n",
    "    result = 0\n",
    "    # count of equivalent unordered signatures \n",
    "    # (anagrammatic pairs of substrings)\n",
    "    \n",
    "    ALPHABET = string.ascii_lowercase\n",
    "    \n",
    "    \n",
    "    \n",
    "    for start in range(len(s)): \n",
    "        for end in range(start + 1, len(s) + 1): \n",
    "            \n",
    "            signature = [0 for _ in ALPHABET]   \n",
    "            # initialize signature count list of 26 zeroes \n",
    "            # for each letter of alphabet \n",
    "            \n",
    "            for letter in s[start:end]:\n",
    "                signature[ord(letter)-ord(ALPHABET[0])] += 1\n",
    "                # s[start:end] represents every substring at some point\n",
    "            \n",
    "            # tuples are hashable in contrast to lists\n",
    "            signature = tuple(signature)\n",
    "            \n",
    "            if signature in signature_counts: \n",
    "                result += signature_counts[signature]\n",
    "            signature_counts[signature] += 1\n",
    "                   \n",
    "\n",
    "    return result    \n",
    "\n",
    "# s = 'abba'\n",
    "s = 'cdcd'\n",
    "print('sherlockAndAnagrams(s):\\t', sherlockAndAnagrams(s))"
   ]
  },
  {
   "cell_type": "markdown",
   "metadata": {
    "ExecuteTime": {
     "end_time": "2019-10-02T04:25:14.082768Z",
     "start_time": "2019-10-02T04:25:14.070773Z"
    },
    "hidden": true
   },
   "source": [
    "The ```ord()``` method returns an integer representing Unicode code point for the given Unicode character. The ```ord()``` method is the inverse of ```chr()```."
   ]
  },
  {
   "cell_type": "markdown",
   "metadata": {},
   "source": [
    "### <font color = 'red'>EXPLAINED</font>: res += count*(count-1)/2 "
   ]
  },
  {
   "cell_type": "raw",
   "metadata": {},
   "source": [
    "$n(n+1)/2 = 1 + 2 + ... + n$\n",
    "\n",
    "sum numbers 1 to 10\n",
    "\n",
    " 1    2    3    4    5\n",
    "10    9    8    7    6  \n",
    "--   --   --   --   --\n",
    "11   11   11   11   11\n",
    "\n",
    "Each column sums to 11, and there are five columns so the sum we want \n",
    "is 55. Notice that 11 is 1 more than 10, and that 5 is half of ten. So \n",
    "we took (10+1) * (10/2)\n",
    "\n",
    "\n",
    "http://mathforum.org/library/drmath/view/57990.html"
   ]
  },
  {
   "cell_type": "raw",
   "metadata": {},
   "source": [
    "Suppose you know that your company is going to buy some computers, and you need to have a direct connection from each one to each other one. (You would normally use something like the Internet to hook them up, but direct connections are more secure.) \n",
    "\n",
    "How many connections will you need? \n",
    "\n",
    "If you have one computer, you need zero connections. If you add a \n",
    "second computer, you have to add a connection to the first one:\n",
    "\n",
    "   A ..... B\n",
    "\n",
    "If you add a third computer, you have to add a connection to each of \n",
    "the ones you already had:\n",
    "\n",
    "   A ..... B\n",
    "    .     .\n",
    "     .   .\n",
    "       C\n",
    "\n",
    "If you make a table, \n",
    "\n",
    "    Computer    Additional connections\n",
    "    --------    ----------------------\n",
    "       1            0\n",
    "       2            1\n",
    "       3            2\n",
    "       4            3\n",
    "       .            .\n",
    "       .            .\n",
    "       n           n-1\n",
    "\n",
    "So if you buy N computers, the number of connections you'll need is\n",
    "\n",
    "  1 + 2 + 3 + ... + (N-1)\n",
    "\n",
    "Now, is there a way to figure this out without doing a zillion \n",
    "additions?  In fact, there is; see the Dr. Math archives:\n",
    "\n",
    "   Sum of Numbers 1-500\n",
    "   http://mathforum.org/library/drmath/view/57990.html \n",
    "\n",
    "But we have to make one little adjustment. If you add the first N \n",
    "numbers, you get\n",
    "   \n",
    "                        N(N+1)\n",
    "  1 + 2 + 3 + ... + N = ------\n",
    "                          2\n",
    "\n",
    "which isn't quite the same formula. But we're adding, not the first N \n",
    "numbers, but the first (N-1) numbers. So N becomes (N-1), and (N+1) \n",
    "becomes N, which gives us\n",
    "\n",
    "                            (N-1)((N-1)+1)      \n",
    "  1 + 2 + 3 + ... + (N-1) = --------------\n",
    "                                   2\n",
    "\n",
    "                            (N-1)N\n",
    "                          = ------\n",
    "                               2\n",
    "\n",
    "Note that this kind of 'connections' problem arises in lots of \n",
    "different contexts: How many direct flights can you have between \n",
    "various cities? How many exchange rates can you have between various \n",
    "currencies? How many translators do you need between various native \n",
    "speakers?  \n",
    "\n",
    "http://mathforum.org/library/drmath/view/61212.html"
   ]
  },
  {
   "cell_type": "code",
   "execution_count": 20,
   "metadata": {
    "ExecuteTime": {
     "end_time": "2019-10-05T18:12:37.779578Z",
     "start_time": "2019-10-05T18:12:37.763589Z"
    },
    "collapsed": true
   },
   "outputs": [
    {
     "name": "stdout",
     "output_type": "stream",
     "text": [
      "signature:\t (0, 0, 1, 0, 0, 0, 0, 0, 0, 0, 0, 0, 0, 0, 0, 0, 0, 0, 0, 0, 0, 0, 0, 0, 0, 0)\n",
      "signature:\t (0, 0, 1, 1, 0, 0, 0, 0, 0, 0, 0, 0, 0, 0, 0, 0, 0, 0, 0, 0, 0, 0, 0, 0, 0, 0)\n",
      "signature:\t (0, 0, 2, 1, 0, 0, 0, 0, 0, 0, 0, 0, 0, 0, 0, 0, 0, 0, 0, 0, 0, 0, 0, 0, 0, 0)\n",
      "signature:\t (0, 0, 2, 2, 0, 0, 0, 0, 0, 0, 0, 0, 0, 0, 0, 0, 0, 0, 0, 0, 0, 0, 0, 0, 0, 0)\n",
      "signature:\t (0, 0, 0, 1, 0, 0, 0, 0, 0, 0, 0, 0, 0, 0, 0, 0, 0, 0, 0, 0, 0, 0, 0, 0, 0, 0)\n",
      "signature:\t (0, 0, 1, 1, 0, 0, 0, 0, 0, 0, 0, 0, 0, 0, 0, 0, 0, 0, 0, 0, 0, 0, 0, 0, 0, 0)\n",
      "signature:\t (0, 0, 1, 2, 0, 0, 0, 0, 0, 0, 0, 0, 0, 0, 0, 0, 0, 0, 0, 0, 0, 0, 0, 0, 0, 0)\n",
      "signature:\t (0, 0, 1, 0, 0, 0, 0, 0, 0, 0, 0, 0, 0, 0, 0, 0, 0, 0, 0, 0, 0, 0, 0, 0, 0, 0)\n",
      "signature:\t (0, 0, 1, 1, 0, 0, 0, 0, 0, 0, 0, 0, 0, 0, 0, 0, 0, 0, 0, 0, 0, 0, 0, 0, 0, 0)\n",
      "signature:\t (0, 0, 0, 1, 0, 0, 0, 0, 0, 0, 0, 0, 0, 0, 0, 0, 0, 0, 0, 0, 0, 0, 0, 0, 0, 0)\n",
      "sherlockAndAnagrams(s):\t 5.0\n"
     ]
    }
   ],
   "source": [
    "import string\n",
    "from collections import defaultdict\n",
    "# magazine_word_count: dict = defaultdict(int)\n",
    "# for word in magazine: magazine_word_count[word] += 1\n",
    "\n",
    "def sherlockAndAnagrams(s):\n",
    "    signature_counts = defaultdict(int)\n",
    "    result = 0\n",
    "    # count of equivalent unordered signatures \n",
    "    # (anagrammatic pairs of substrings)\n",
    "    \n",
    "    ALPHABET = string.ascii_lowercase\n",
    "    \n",
    "    \n",
    "    \n",
    "    for start in range(len(s)): \n",
    "        for end in range(start + 1, len(s) + 1): \n",
    "            \n",
    "            signature = [0 for _ in ALPHABET]   # create substring signature\n",
    "            # initialize signature count list of 26 zeroes \n",
    "            # for each letter of alphabet \n",
    "            \n",
    "            for letter in s[start:end]:\n",
    "                signature[ord(letter)-ord(ALPHABET[0])] += 1\n",
    "            # represents every substring at some point\n",
    "            \n",
    "            # tuples are hashable in contrast to lists\n",
    "            signature = tuple(signature); print('signature:\\t', signature)\n",
    "            \n",
    "            signature_counts[signature] += 1\n",
    "    \n",
    "    for count in signature_counts.values(): \n",
    "        result += count*(count-1)/2\n",
    "                \n",
    "\n",
    "    return result    \n",
    "\n",
    "# s = 'abba'\n",
    "s = 'cdcd'\n",
    "print('sherlockAndAnagrams(s):\\t', sherlockAndAnagrams(s))"
   ]
  },
  {
   "cell_type": "markdown",
   "metadata": {},
   "source": [
    "##### My improved attempt "
   ]
  },
  {
   "cell_type": "code",
   "execution_count": 182,
   "metadata": {
    "ExecuteTime": {
     "end_time": "2019-10-05T00:29:10.624382Z",
     "start_time": "2019-10-05T00:29:10.606393Z"
    },
    "collapsed": true
   },
   "outputs": [
    {
     "name": "stdout",
     "output_type": "stream",
     "text": [
      "1-dict:\t defaultdict(<class 'int'>, {})\n",
      "2-dict:\t defaultdict(<class 'int'>, {'c': 1})\n",
      "1-dict:\t defaultdict(<class 'int'>, {'c': 1})\n",
      "2-dict:\t defaultdict(<class 'int'>, {'c': 1, 'cd': 1})\n",
      "1-dict:\t defaultdict(<class 'int'>, {'c': 1, 'cd': 1})\n",
      "2-dict:\t defaultdict(<class 'int'>, {'c': 1, 'cd': 1, 'ccd': 1})\n",
      "1-dict:\t defaultdict(<class 'int'>, {'c': 1, 'cd': 1, 'ccd': 1})\n",
      "2-dict:\t defaultdict(<class 'int'>, {'c': 1, 'cd': 1, 'ccd': 1, 'ccdd': 1})\n",
      "==============================\n",
      "1-dict:\t defaultdict(<class 'int'>, {'c': 1, 'cd': 1, 'ccd': 1, 'ccdd': 1})\n",
      "2-dict:\t defaultdict(<class 'int'>, {'c': 1, 'cd': 1, 'ccd': 1, 'ccdd': 1, 'd': 1})\n",
      "1-dict:\t defaultdict(<class 'int'>, {'c': 1, 'cd': 1, 'ccd': 1, 'ccdd': 1, 'd': 1})\n",
      "------------------------------\n",
      "1_count:\t 0\n",
      "2_count:\t 1\n",
      "------------------------------\n",
      "2-dict:\t defaultdict(<class 'int'>, {'c': 1, 'cd': 2, 'ccd': 1, 'ccdd': 1, 'd': 1})\n",
      "1-dict:\t defaultdict(<class 'int'>, {'c': 1, 'cd': 2, 'ccd': 1, 'ccdd': 1, 'd': 1})\n",
      "2-dict:\t defaultdict(<class 'int'>, {'c': 1, 'cd': 2, 'ccd': 1, 'ccdd': 1, 'd': 1, 'cdd': 1})\n",
      "==============================\n",
      "1-dict:\t defaultdict(<class 'int'>, {'c': 1, 'cd': 2, 'ccd': 1, 'ccdd': 1, 'd': 1, 'cdd': 1})\n",
      "------------------------------\n",
      "1_count:\t 1\n",
      "2_count:\t 2\n",
      "------------------------------\n",
      "2-dict:\t defaultdict(<class 'int'>, {'c': 2, 'cd': 2, 'ccd': 1, 'ccdd': 1, 'd': 1, 'cdd': 1})\n",
      "1-dict:\t defaultdict(<class 'int'>, {'c': 2, 'cd': 2, 'ccd': 1, 'ccdd': 1, 'd': 1, 'cdd': 1})\n",
      "------------------------------\n",
      "1_count:\t 2\n",
      "2_count:\t 4\n",
      "------------------------------\n",
      "2-dict:\t defaultdict(<class 'int'>, {'c': 2, 'cd': 3, 'ccd': 1, 'ccdd': 1, 'd': 1, 'cdd': 1})\n",
      "==============================\n",
      "1-dict:\t defaultdict(<class 'int'>, {'c': 2, 'cd': 3, 'ccd': 1, 'ccdd': 1, 'd': 1, 'cdd': 1})\n",
      "------------------------------\n",
      "1_count:\t 4\n",
      "2_count:\t 5\n",
      "------------------------------\n",
      "2-dict:\t defaultdict(<class 'int'>, {'c': 2, 'cd': 3, 'ccd': 1, 'ccdd': 1, 'd': 2, 'cdd': 1})\n",
      "==============================\n",
      "sherlockAndAnagrams(s):\t 5\n"
     ]
    }
   ],
   "source": [
    "from collections import defaultdict\n",
    "# magazine_word_count: dict = defaultdict(int)\n",
    "# for word in magazine: magazine_word_count[word] += 1\n",
    "\n",
    "def sherlockAndAnagrams(s):\n",
    "    dict = defaultdict(int)\n",
    "    count = 0\n",
    "    # count of equivalent unordered signatures \n",
    "    # (anagrammatic pairs of substrings)\n",
    "    \n",
    "    for i in range(len(s)): \n",
    "        for j in range(i + 1, len(s) + 1): \n",
    "            list1 = list(s[i: j])  \n",
    "            # represents every substring at some point\n",
    "            \n",
    "            # sort signatures to find equivalent combinations\n",
    "            list1.sort()\n",
    "            transf = ''.join(list1)\n",
    "            # combine characters into single string once sorted\n",
    "            \n",
    "            print('1-dict:\\t', dict)\n",
    "            if transf in dict: \n",
    "                print('-'*30)\n",
    "                print('1_count:\\t', count)\n",
    "                transf\n",
    "                count += dict[transf]\n",
    "                print('2_count:\\t', count)\n",
    "                print('-'*30)\n",
    "                \n",
    "            dict[transf] += 1\n",
    "            print('2-dict:\\t', dict)\n",
    "            \n",
    "    \n",
    "        \n",
    "        print('='*30)\n",
    "    return count    \n",
    "\n",
    "# s = 'abba'\n",
    "s = 'cdcd'\n",
    "print('sherlockAndAnagrams(s):\\t', sherlockAndAnagrams(s))"
   ]
  },
  {
   "cell_type": "markdown",
   "metadata": {},
   "source": [
    "###### <b><font color = 'purple'>no print statements </font></b>"
   ]
  },
  {
   "cell_type": "code",
   "execution_count": 169,
   "metadata": {
    "ExecuteTime": {
     "end_time": "2019-10-02T06:44:25.011141Z",
     "start_time": "2019-10-02T06:44:25.001148Z"
    },
    "cell_style": "center"
   },
   "outputs": [
    {
     "name": "stdout",
     "output_type": "stream",
     "text": [
      "sherlockAndAnagrams(s):\t 5\n"
     ]
    }
   ],
   "source": [
    "from collections import defaultdict\n",
    "# magazine_word_count: dict = defaultdict(int)\n",
    "# for word in magazine: magazine_word_count[word] += 1\n",
    "\n",
    "def sherlockAndAnagrams(s):\n",
    "    dict = defaultdict(int)\n",
    "    count = 0\n",
    "    # count of equivalent unordered signatures \n",
    "    # (anagrammatic pairs of substrings)\n",
    "    \n",
    "    for i in range(len(s)): \n",
    "        for j in range(i + 1, len(s) + 1): \n",
    "            list1 = list(s[i: j])  \n",
    "            # represents every substring at some point\n",
    "            \n",
    "            # sort signatures to find equivalent combinations\n",
    "            list1.sort()\n",
    "            transf = ''.join(list1)\n",
    "            # combine characters into single string once sorted\n",
    "            \n",
    "            if transf in dict: \n",
    "                count += dict[transf]\n",
    "            dict[transf] += 1\n",
    "\n",
    "    return count    \n",
    "\n",
    "# s = 'abba'\n",
    "s = 'cdcd'\n",
    "print('sherlockAndAnagrams(s):\\t', sherlockAndAnagrams(s))"
   ]
  },
  {
   "cell_type": "markdown",
   "metadata": {
    "cell_style": "center"
   },
   "source": [
    "###### <b><font color = 'purple'>Should be equivalent to the following  </font></b>"
   ]
  },
  {
   "cell_type": "code",
   "execution_count": 168,
   "metadata": {
    "ExecuteTime": {
     "end_time": "2019-10-02T06:42:43.519530Z",
     "start_time": "2019-10-02T06:42:43.509539Z"
    },
    "cell_style": "center"
   },
   "outputs": [
    {
     "name": "stdout",
     "output_type": "stream",
     "text": [
      "sherlockAndAnagrams(s):\t 5.0\n"
     ]
    }
   ],
   "source": [
    "from collections import defaultdict\n",
    "\n",
    "\n",
    "def sherlockAndAnagrams(s):\n",
    "    dict = defaultdict(int)\n",
    "    result = 0\n",
    "    # count of equivalent unordered signatures \n",
    "    # (anagrammatic pairs of substrings)\n",
    "    \n",
    "    for i in range(len(s)): \n",
    "        for j in range(i + 1, len(s) + 1): \n",
    "            list1 = list(s[i: j])  \n",
    "            # represents every substring at some point\n",
    "            # sort signatures to find equivalent combinations\n",
    "            list1.sort()\n",
    "            transf = ''.join(list1)\n",
    "            # combine characters into single string once sorted\n",
    "            dict[transf] += 1\n",
    "        \n",
    "    for count in dict.values(): \n",
    "        result += count*(count-1)/2\n",
    "        \n",
    "    return result    \n",
    "\n",
    "# s = 'abba'\n",
    "s = 'cdcd'\n",
    "print('sherlockAndAnagrams(s):\\t', sherlockAndAnagrams(s))"
   ]
  },
  {
   "cell_type": "markdown",
   "metadata": {},
   "source": [
    "##### Soln 1: adapted from editorial"
   ]
  },
  {
   "cell_type": "code",
   "execution_count": 150,
   "metadata": {
    "ExecuteTime": {
     "end_time": "2019-10-02T06:24:52.055576Z",
     "start_time": "2019-10-02T06:24:52.035589Z"
    }
   },
   "outputs": [
    {
     "name": "stdout",
     "output_type": "stream",
     "text": [
      "1-res:\t 0\n",
      "sig:\t (0, 0, 1, 0, 0, 0, 0, 0, 0, 0, 0, 0, 0, 0, 0, 0, 0, 0, 0, 0, 0, 0, 0, 0, 0, 0)\n",
      "count:\t 2\n",
      "2-res:\t 1.0\n",
      "------------------------------\n",
      "1-res:\t 1.0\n",
      "sig:\t (0, 0, 1, 1, 0, 0, 0, 0, 0, 0, 0, 0, 0, 0, 0, 0, 0, 0, 0, 0, 0, 0, 0, 0, 0, 0)\n",
      "count:\t 3\n",
      "2-res:\t 4.0\n",
      "------------------------------\n",
      "1-res:\t 4.0\n",
      "sig:\t (0, 0, 2, 1, 0, 0, 0, 0, 0, 0, 0, 0, 0, 0, 0, 0, 0, 0, 0, 0, 0, 0, 0, 0, 0, 0)\n",
      "count:\t 1\n",
      "2-res:\t 4.0\n",
      "------------------------------\n",
      "1-res:\t 4.0\n",
      "sig:\t (0, 0, 2, 2, 0, 0, 0, 0, 0, 0, 0, 0, 0, 0, 0, 0, 0, 0, 0, 0, 0, 0, 0, 0, 0, 0)\n",
      "count:\t 1\n",
      "2-res:\t 4.0\n",
      "------------------------------\n",
      "1-res:\t 4.0\n",
      "sig:\t (0, 0, 0, 1, 0, 0, 0, 0, 0, 0, 0, 0, 0, 0, 0, 0, 0, 0, 0, 0, 0, 0, 0, 0, 0, 0)\n",
      "count:\t 2\n",
      "2-res:\t 5.0\n",
      "------------------------------\n",
      "1-res:\t 5.0\n",
      "sig:\t (0, 0, 1, 2, 0, 0, 0, 0, 0, 0, 0, 0, 0, 0, 0, 0, 0, 0, 0, 0, 0, 0, 0, 0, 0, 0)\n",
      "count:\t 1\n",
      "2-res:\t 5.0\n",
      "------------------------------\n",
      "sherlockAndAnagrams(s):\t None\n"
     ]
    }
   ],
   "source": [
    "#41 \n",
    "\n",
    "import string\n",
    "import pprint \n",
    "\n",
    "\n",
    "# s = 'abcd'\n",
    "\n",
    "\n",
    "import json\n",
    "\n",
    "\n",
    "def sherlockAndAnagrams(s):\n",
    "    ALPHABET = string.ascii_lowercase\n",
    "    signatures = {}\n",
    "    \n",
    "    signature = [0 for _ in ALPHABET]\n",
    "    \n",
    "    for letter in s:\n",
    "        # signature[ord(letter)-ord(ALPHABET[0])] += 1\n",
    "        signature[ord(letter)-ord(ALPHABET[0])] += 1\n",
    "        # subtracting unicode point value of ALPHABET[0] = 'a' \n",
    "        # from the unicode point value of the each character in s to\n",
    "        # create a count of each letter in the string\n",
    "        \n",
    "     # iterate over all substrings of s\n",
    "    for start in range(len(s)):                 # for each letter \n",
    "\n",
    "        for finish in range(start, len(s)):     # for each character after start \n",
    "            \n",
    "            signature = [0 for _ in ALPHABET]   # create substring signature\n",
    "            # initialize substring signature\n",
    "            \n",
    "            for letter in s[start:finish+1]:    \n",
    "                # print('letter:\\t', letter)u\n",
    "                signature[ord(letter)-ord(ALPHABET[0])] += 1\n",
    "                # update substring signature\n",
    "                \n",
    "                # print('-'*30)\n",
    "\n",
    "            # tuples are hashable in contrast to lists\n",
    "            signature = tuple(signature)\n",
    "            signatures[signature] = signatures.get(signature, 0) + 1\n",
    "            # Python’s dictionaries have a get() method for looking up a key while\n",
    "            # providing a fallback value. If signatures[signature] doesn't exist\n",
    "            # get will add +1 to that signature count\n",
    "\n",
    "            \n",
    "    res = 0\n",
    "    # res counts how many unique pairings can be made within each \n",
    "    # equivalent signature values\n",
    "    \n",
    "    for sig, count in signatures.items():\n",
    "        print('1-res:\\t', res)\n",
    "        print('sig:\\t', sig)\n",
    "        print('count:\\t', count)\n",
    "        res += count*(count-1)/2\n",
    "        print('2-res:\\t', res)\n",
    "        print('-'*30)\n",
    "            \n",
    "            \n",
    "s = 'cdcd'\n",
    "print('sherlockAndAnagrams(s):\\t', sherlockAndAnagrams(s))"
   ]
  },
  {
   "cell_type": "code",
   "execution_count": null,
   "metadata": {},
   "outputs": [],
   "source": []
  },
  {
   "cell_type": "code",
   "execution_count": 135,
   "metadata": {
    "ExecuteTime": {
     "end_time": "2019-10-02T06:12:48.098481Z",
     "start_time": "2019-10-02T06:12:48.088485Z"
    }
   },
   "outputs": [
    {
     "name": "stdout",
     "output_type": "stream",
     "text": [
      "signatures:\t {0: 1, 1: 2, 2: 3, 3: 4, 4: 5}\n",
      "------------------------------\n",
      "count:\t 1\n",
      "1-res:\t 0\n",
      "2-res:\t 0.0\n",
      "------------------------------\n",
      "count:\t 2\n",
      "1-res:\t 0.0\n",
      "2-res:\t 1.0\n",
      "------------------------------\n",
      "count:\t 3\n",
      "1-res:\t 1.0\n",
      "2-res:\t 4.0\n",
      "------------------------------\n",
      "count:\t 4\n",
      "1-res:\t 4.0\n",
      "2-res:\t 10.0\n",
      "------------------------------\n",
      "count:\t 5\n",
      "1-res:\t 10.0\n",
      "2-res:\t 20.0\n",
      "------------------------------\n",
      "final_res:\t 20.0\n"
     ]
    }
   ],
   "source": [
    "key_lst = list(range(5))\n",
    "val_lst = [1,2,3,4,5]\n",
    "signatures = {k:v for k,v in zip(key_lst, val_lst)}\n",
    "print('signatures:\\t', signatures)\n",
    "print('-'*30)\n",
    "\n",
    "\n",
    "res = 0\n",
    "for count in signatures.values():\n",
    "    print('count:\\t', count)\n",
    "    print('1-res:\\t', res)\n",
    "    \n",
    "    res += count*(count-1)/2\n",
    "    \n",
    "    print('2-res:\\t', res)\n",
    "    print('-'*30)\n",
    "\n",
    "print('final_res:\\t', res)"
   ]
  },
  {
   "cell_type": "markdown",
   "metadata": {},
   "source": [
    "##### soln 2"
   ]
  },
  {
   "cell_type": "code",
   "execution_count": 116,
   "metadata": {
    "ExecuteTime": {
     "end_time": "2019-10-02T05:37:41.714428Z",
     "start_time": "2019-10-02T05:37:41.702437Z"
    }
   },
   "outputs": [
    {
     "name": "stdout",
     "output_type": "stream",
     "text": [
      "transf:\t a\n",
      "dict:\t {'a': 1}\n",
      "transf:\t ab\n",
      "dict:\t {'a': 1, 'ab': 1}\n",
      "transf:\t abb\n",
      "dict:\t {'a': 1, 'ab': 1, 'abb': 1}\n",
      "transf:\t aabb\n",
      "dict:\t {'a': 1, 'ab': 1, 'abb': 1, 'aabb': 1}\n",
      "transf:\t b\n",
      "dict:\t {'a': 1, 'ab': 1, 'abb': 1, 'aabb': 1, 'b': 1}\n",
      "transf:\t bb\n",
      "dict:\t {'a': 1, 'ab': 1, 'abb': 1, 'aabb': 1, 'b': 1, 'bb': 1}\n",
      "transf:\t abb\n",
      "dict:\t {'a': 1, 'ab': 1, 'abb': 2, 'aabb': 1, 'b': 1, 'bb': 1}\n",
      "transf:\t b\n",
      "dict:\t {'a': 1, 'ab': 1, 'abb': 2, 'aabb': 1, 'b': 2, 'bb': 1}\n",
      "transf:\t ab\n",
      "dict:\t {'a': 1, 'ab': 2, 'abb': 2, 'aabb': 1, 'b': 2, 'bb': 1}\n",
      "transf:\t a\n",
      "dict:\t {'a': 2, 'ab': 2, 'abb': 2, 'aabb': 1, 'b': 2, 'bb': 1}\n",
      "sherlockAndAnagrams(s):\t 4\n"
     ]
    }
   ],
   "source": [
    "def sherlockAndAnagrams(s):\n",
    "    dict={}\n",
    "    count=0\n",
    "    for i in range(len(s)): \n",
    "        for j in range(i + 1, len(s) + 1): \n",
    "            list1 = list(s[i: j])  \n",
    "            # represents every substring at some point\n",
    "            \n",
    "            # sort signatures to find equivalent combinations\n",
    "            list1.sort()\n",
    "            transf = ''.join(list1); print('transf:\\t', transf)\n",
    "            # combine characters into single string once sorted\n",
    "            \n",
    "            if transf in dict: \n",
    "                count += dict[transf]\n",
    "                dict[transf] = dict[transf] + 1\n",
    "            else: dict[transf] = 1 \n",
    "            print('dict:\\t', dict)\n",
    "    return count    \n",
    "s = 'abba'\n",
    "print('sherlockAndAnagrams(s):\\t', sherlockAndAnagrams(s))"
   ]
  },
  {
   "cell_type": "markdown",
   "metadata": {},
   "source": [
    "##### soln 3"
   ]
  },
  {
   "cell_type": "code",
   "execution_count": 40,
   "metadata": {
    "ExecuteTime": {
     "end_time": "2019-10-05T21:17:01.738070Z",
     "start_time": "2019-10-05T21:17:01.726078Z"
    }
   },
   "outputs": [
    {
     "name": "stdout",
     "output_type": "stream",
     "text": [
      "sherlockAndAnagrams(s):\t 4\n"
     ]
    }
   ],
   "source": [
    "def sherlockAndAnagrams(s):\n",
    "    anagram_dict = {}\n",
    "    count = 0\n",
    "    for i in range(1, len(s)):\n",
    "        for j in range(len(s) - i + 1): \n",
    "            current_sorted = str(sorted(s[j:j+i]))\n",
    "            if (current_sorted not in anagram_dict):\n",
    "                anagram_dict[current_sorted] = 1\n",
    "            else:\n",
    "                count += anagram_dict[current_sorted]\n",
    "                anagram_dict[current_sorted] += 1\n",
    "    return count\n",
    "s = 'abba'\n",
    "print('sherlockAndAnagrams(s):\\t', sherlockAndAnagrams(s))"
   ]
  },
  {
   "cell_type": "markdown",
   "metadata": {},
   "source": [
    "## Count Triplets"
   ]
  },
  {
   "cell_type": "markdown",
   "metadata": {},
   "source": [
    "In mathematics, a geometric progression, also known as a geometric sequence, is a sequence of numbers where each term after the first is found by multiplying the previous one by a fixed, non-zero number called the common ratio. For example, the sequence 2, 6, 18, 54, ... is a geometric progression with common ratio 3. Similarly 10, 5, 2.5, 1.25, ... is a geometric sequence with common ratio 1/2.\n",
    "\n",
    "The general form of a geometric sequence is\n",
    "\n",
    "${\\displaystyle a,\\ ar,\\ ar^{2},\\ ar^{3},\\ ar^{4},\\ \\ldots }$\n",
    "* where ```r``` ≠ 0 is the common ratio and \n",
    "* ```a``` is a scale factor, equal to the sequence's start value.\n",
    "\n",
    "\n",
    "\n",
    "<b>Function Description</b>\n",
    "\n",
    "* Complete the countTriplets function in the editor below. It should return the number of triplets forming a geometric progression for a given ```r``` as an integer.\n",
    "\n",
    "\n",
    "* countTriplets has the following parameter(s):\n",
    "\n",
    "    * arr: an array of integers\n",
    "    * r: an integer, the common ratio\n",
    "\n",
    "<b>Input Format</b>\n",
    "* The first line contains two space-separated integers ```n``` and ```r```, the size of ```arr``` and the common ratio. \n",
    "* The next line contains ```n``` space-seperated integers ```arr[i]```.\n",
    "\n",
    "<b>Output Format</b>\n",
    "* Return the count of triplets that form a geometric progression."
   ]
  },
  {
   "cell_type": "markdown",
   "metadata": {},
   "source": [
    "##### Sample input/output"
   ]
  },
  {
   "cell_type": "raw",
   "metadata": {},
   "source": [
    "Sample Input 0\n",
    "\n",
    "r = 2\n",
    "arr = [1, 2, 2, 4]\n",
    "\n",
    "Sample Output 0\n",
    "\n",
    "2\n",
    "\n",
    "--------------------------------------------\n",
    "\n",
    "\n",
    "Sample Input 1\n",
    "\n",
    "r = 3\n",
    "arr = [1, 3, 9, 9, 27, 81]\n",
    "\n",
    "Sample Output 1\n",
    "\n",
    "6\n",
    "\n",
    "--------------------------------------------\n",
    "\n",
    "\n",
    "Sample Input 2\n",
    "\n",
    "r = 5\n",
    "arr = [1, 5, 5, 25, 125]\n",
    "\n",
    "Sample Output 2\n",
    "\n",
    "4\n"
   ]
  },
  {
   "cell_type": "markdown",
   "metadata": {},
   "source": [
    "##### problem setup code"
   ]
  },
  {
   "cell_type": "code",
   "execution_count": null,
   "metadata": {},
   "outputs": [],
   "source": []
  },
  {
   "cell_type": "code",
   "execution_count": null,
   "metadata": {},
   "outputs": [],
   "source": [
    "#!/bin/python3\n",
    "\n",
    "import math\n",
    "import os\n",
    "import random\n",
    "import re\n",
    "import sys\n",
    "\n",
    "# Complete the countTriplets function below.\n",
    "def countTriplets(arr, r):\n",
    "\n",
    "if __name__ == '__main__':\n",
    "    fptr = open(os.environ['OUTPUT_PATH'], 'w')\n",
    "    nr = input().rstrip().split()\n",
    "    n = int(nr[0])\n",
    "    r = int(nr[1])\n",
    "    arr = list(map(int, input().rstrip().split()))\n",
    "    ans = countTriplets(arr, r)\n",
    "    fptr.write(str(ans) + '\\n')\n",
    "    fptr.close()\n"
   ]
  },
  {
   "cell_type": "raw",
   "metadata": {
    "ExecuteTime": {
     "end_time": "2019-10-07T01:26:09.583568Z",
     "start_time": "2019-10-07T01:26:00.973149Z"
    }
   },
   "source": [
    "nr = input().rstrip().split()\n",
    "n = int(nr[0])\n",
    "r = int(nr[1])\n",
    "arr = list(map(int, input().rstrip().split()))\n",
    "\n",
    "n\n",
    "r; print('type(r):\\t', type(r))\n",
    "arr; print('type(arr):\\t', type(arr))"
   ]
  },
  {
   "cell_type": "markdown",
   "metadata": {},
   "source": [
    "##### My Attempts"
   ]
  },
  {
   "cell_type": "code",
   "execution_count": 14,
   "metadata": {
    "ExecuteTime": {
     "end_time": "2019-10-11T20:28:38.813725Z",
     "start_time": "2019-10-11T20:28:38.801733Z"
    }
   },
   "outputs": [],
   "source": [
    "# Second Try\n",
    "from typing import List\n",
    "from collections import defaultdict\n",
    "\n",
    "def countTriplets(arr: List[int], r: int) -> int:\n",
    "    seq_count: dict = defaultdict(int)\n",
    "    # dict storing the sequence of last two numbers of a valid \n",
    "    # geometric sequence triplet\n",
    "    \n",
    "    number_count: dict = defaultdict(int)\n",
    "    # count of each number encountered\n",
    "    \n",
    "    triplet_count: int = 0\n",
    "    \n",
    "    for a in reversed(arr):\n",
    "        \n",
    "        a_r = a * r \n",
    "        a_r_r = a_r * r\n",
    "        \n",
    "        # CASE 1: a, ar, arr\n",
    "        # if 'a' works as the first number of a valid sequence, increment \n",
    "        # triplet counter by 1\n",
    "        triplet_count += seq_count[(a_r,a_r_r)]\n",
    "        \n",
    "        # CASE 2: a/r, a, ar\n",
    "        # stores sequence key where 'a' works as the 2nd number of a valid sequence, \n",
    "        # and a*r as the 3rd .\n",
    "        seq_count[(a,a_r)] += number_count[a_r]\n",
    "        # number_count[a_r] checks if we've already encountered a previous 'a' \n",
    "        # that works as a*r with the current 'a'; increment by # of previous 'a's\n",
    "        # that satisfy 3rd number in sequence formula.\n",
    "        \n",
    "        # CASE 3: a/(r*r), a/r, a\n",
    "        number_count[a] += 1\n",
    "            \n",
    "    return triplet_count "
   ]
  },
  {
   "cell_type": "code",
   "execution_count": 15,
   "metadata": {
    "ExecuteTime": {
     "end_time": "2019-10-11T20:28:40.253883Z",
     "start_time": "2019-10-11T20:28:40.245892Z"
    },
    "cell_style": "center",
    "code_folding": []
   },
   "outputs": [
    {
     "name": "stdout",
     "output_type": "stream",
     "text": [
      "r,arr:\t 2 [1, 2, 2, 4]\n",
      "countTriplets(arr, r):\t 2\n"
     ]
    }
   ],
   "source": [
    "### Sample Input 0\n",
    "\n",
    "r = 2\n",
    "arr = [1, 2, 2, 4]\n",
    "\n",
    "# Sample Output 0\n",
    "# 2\n",
    "\n",
    "### Sample Input 1\n",
    "\n",
    "# r = 3\n",
    "# arr = [1, 3, 9, 9, 27, 81]\n",
    "\n",
    "# Sample Output 1\n",
    "# 6\n",
    "\n",
    "### Sample Input 2\n",
    "\n",
    "# r = 5\n",
    "# arr = [1, 5, 5, 25, 125]\n",
    "\n",
    "# Sample Output 2\n",
    "# 4\n",
    "\n",
    "print('r,arr:\\t', r,arr)\n",
    "print('countTriplets(arr, r):\\t', countTriplets(arr, r))\n",
    "\n"
   ]
  },
  {
   "cell_type": "code",
   "execution_count": 211,
   "metadata": {
    "ExecuteTime": {
     "end_time": "2019-10-08T20:01:37.577827Z",
     "start_time": "2019-10-08T20:01:37.564837Z"
    },
    "code_folding": [
     0
    ]
   },
   "outputs": [
    {
     "name": "stdout",
     "output_type": "stream",
     "text": [
      "countTriplets(arr, r):\t 0\n"
     ]
    }
   ],
   "source": [
    "# First Try\n",
    "from typing import List\n",
    "\n",
    "def countTriplets(arr: List[int], r: int) -> int:\n",
    "    result: int = 0\n",
    "    for i,e in enumerate(arr):\n",
    "        \n",
    "        if len(arr) - i == 2: break\n",
    "\n",
    "            \n",
    "        for j in range(i+1, len(arr)):\n",
    "            if len(arr) - i == 1: break\n",
    "            \n",
    "            \n",
    "            for k in range(j+1, len(arr)): \n",
    "                if (e < arr[j])   and \\\n",
    "                (arr[j] < arr[k]) and \\\n",
    "                (e*r == arr[j])   and \\\n",
    "                (e*(r**2) == arr[k]) \\\n",
    "                : result += 1\n",
    "                    \n",
    "                if (k == len(arr) - 1): break\n",
    "            \n",
    "    return result \n",
    "\n",
    "### Sample Input 0\n",
    "\n",
    "# r = 2\n",
    "# arr = [1, 2, 2, 4]\n",
    "\n",
    "# Sample Output 0\n",
    "# 2\n",
    "\n",
    "### Sample Input 1\n",
    "\n",
    "# r = 3\n",
    "# arr = [1, 3, 9, 9, 27, 81]\n",
    "\n",
    "# Sample Output 1\n",
    "# 6\n",
    "\n",
    "### Sample Input 2\n",
    "\n",
    "# r = 5\n",
    "# arr = [1, 5, 5, 25, 125]\n",
    "\n",
    "\n",
    "# Sample Output 2\n",
    "# 4\n",
    "\n",
    "print('countTriplets(arr, r):\\t', countTriplets(arr, r))\n",
    "\n",
    "# if (e > arr[j]) or (arr[j] > arr[k]):"
   ]
  },
  {
   "cell_type": "markdown",
   "metadata": {},
   "source": [
    "##### Forum Solution"
   ]
  },
  {
   "cell_type": "markdown",
   "metadata": {},
   "source": [
    "Python Single Traversal:\n",
    "\n",
    "<font color = 'blue'>Idea is to traverse in the opposite direction of the array, so that division can be avoided.</font>\n",
    "\n",
    "* Maintain 2 Dictionaries/Hash Maps:\n",
    "    * map_arr stores the frequency of the numbers encountered yet\n",
    "    * map_doubles stores the count of 2-sized tuples (the second and third element of a triplet)\n",
    "    \n",
    "    \n",
    "* As you go through the array in reverse, either the number encountered will be 1st, 2nd or 3rd number of a triplet it can possibly be a part of.\n",
    "\n",
    "    * If it were to be the 1st, that means, all the 2nd and 3rd must've been already seen in the array (which are suitable, since problem restriction i < j < k). So from all the doubles in the map_doubles, find the count of doubles that allow the 1st, i.e. x to be such that the triplet looks like (x, x.r, x.r.r).\n",
    "\n",
    "    * if it were to be the 2nd in the triplet, we would need to find all the 3rd number appropriate found in the map_arr yet.\n",
    "\n",
    "    * if it were to be the 3rd element, we just need to update in map_arr for that number, so that it can be used as a reference for future doubles.\n",
    "\n",
    "* <b>Count for all the cases when x is the first element, and return.</b>"
   ]
  },
  {
   "cell_type": "code",
   "execution_count": 235,
   "metadata": {
    "ExecuteTime": {
     "end_time": "2019-10-09T11:56:43.099003Z",
     "start_time": "2019-10-09T11:56:43.093007Z"
    }
   },
   "outputs": [],
   "source": [
    "from collections import defaultdict\n",
    "# magazine_word_count: dict = defaultdict(int)\n",
    "# for word in magazine: magazine_word_count[word] += 1\n"
   ]
  },
  {
   "cell_type": "markdown",
   "metadata": {},
   "source": [
    "###### <font color = 'lightgrey'>Original</font>"
   ]
  },
  {
   "cell_type": "code",
   "execution_count": 233,
   "metadata": {
    "ExecuteTime": {
     "end_time": "2019-10-09T07:22:15.487900Z",
     "start_time": "2019-10-09T07:22:15.475905Z"
    },
    "code_folding": []
   },
   "outputs": [],
   "source": [
    "import pprint\n",
    "def countTriplets(arr, r):\n",
    "    \n",
    "    if len(arr) <= 2: return 0\n",
    "    \n",
    "    # stores the frequency of the numbers encountered so far    \n",
    "    map_arr = {} \n",
    "    \n",
    "    # stores the count of 2-sized tuples \n",
    "    # (the 2nd and 3rd element of a triplet)\n",
    "    map_doubles = {}\n",
    "    \n",
    "    count = 0 # number of triplets\n",
    "    \n",
    "    # Traversing the array from rear, helps avoid division\n",
    "    \n",
    "    for x in reversed(arr):\n",
    "\n",
    "        r_x = r*x\n",
    "        r_r_x = r*r_x\n",
    "\n",
    "        ## case 1: x is the first element (x, x*r, x*r*r)\n",
    "        # means, all the 2nd and 3rd must've been already seen in the array \n",
    "        # (which are suitable, since problem restriction i < j < k). So from all \n",
    "        # the doubles in the map_doubles, find the count of doubles that allow the 1st, \n",
    "        # i.e. x to be such that the triplet looks like (x, x.r, x.r.r).\n",
    "        \n",
    "        count += map_doubles.get((r_x, r_r_x), 0)\n",
    "        # if x r_x and r_r_x haven't been seen, return 0\n",
    "        \n",
    "\n",
    "        ## case 2: x is the second element (x/r, x, x*r)\n",
    "        # if it were to be the 2nd in the triplet, we would need to find all \n",
    "        # the 3rd number appropriate found in the map_arr yet.\n",
    "        \n",
    "        print('1_map_doubles:\\t'); pprint.pprint(map_doubles)\n",
    "        map_doubles[(x,r_x)] = map_doubles.get((x,r_x), 0) + map_arr.get(r_x, 0)\n",
    "        print('2_map_doubles:\\t'); pprint.pprint(map_doubles)\n",
    "        # retrieves previous map_doubles count of (x,r_x), or returns 0\n",
    "\n",
    "\n",
    "        ## case 3: x is the third element (x/(r*r), x/r, x)\n",
    "        # if it were to be the 3rd element, we just need to update in \n",
    "        # map_arr for that number, so that it can be used as a reference for future doubles.\n",
    "        \n",
    "        print('1_map_arr:\\t', map_arr)\n",
    "        \n",
    "        map_arr[x] = map_arr.get(x, 0) + 1\n",
    "        \n",
    "        print('2_map_arr:\\t', map_arr);print('-'*30)\n",
    "        \n",
    "        \n",
    "    return count"
   ]
  },
  {
   "cell_type": "markdown",
   "metadata": {},
   "source": [
    "###### <font color = 'lightgrey'>improvements: added default dict</font>"
   ]
  },
  {
   "cell_type": "code",
   "execution_count": 1,
   "metadata": {
    "ExecuteTime": {
     "end_time": "2019-10-09T19:05:46.975148Z",
     "start_time": "2019-10-09T19:05:46.962158Z"
    },
    "code_folding": []
   },
   "outputs": [],
   "source": [
    "import pprint\n",
    "from collections import defaultdict\n",
    "\n",
    "def countTriplets(arr, r):\n",
    "    \n",
    "    if len(arr) <= 2: return 0\n",
    "    \n",
    "    # stores the frequency of the numbers encountered so far    \n",
    "    map_arr = defaultdict(int)\n",
    "    \n",
    "    # stores the count of 2-sized tuples \n",
    "    # (the 2nd and 3rd element of a triplet)\n",
    "    map_doubles = defaultdict(int)\n",
    "    \n",
    "    count = 0 # number of triplets\n",
    "    \n",
    "    # Traversing the array from rear, helps avoid division\n",
    "    \n",
    "    for x in reversed(arr):\n",
    "\n",
    "        r_x = r*x\n",
    "        r_r_x = r*r_x\n",
    "        \n",
    "        print('count:\\t', count)\n",
    "        print('map_doubles:\\t', map_doubles)\n",
    "        print('map_arr:\\t', map_arr);print('-'*30)\n",
    "        \n",
    "        ## case 1: x is the first element (x, x*r, x*r*r)\n",
    "        # means, all the 2nd and 3rd must've been already seen in the array \n",
    "        # (which are suitable, since problem restriction i < j < k). So from all \n",
    "        # the doubles in the map_doubles, find the count of doubles that allow the 1st, \n",
    "        # i.e. x to be such that the triplet looks like (x, x.r, x.r.r).\n",
    "        count += map_doubles[(r_x, r_r_x)]\n",
    "        # if x r_x and r_r_x haven't been seen, return 0\n",
    "\n",
    "        ## case 2: x is the second element (x/r, x, x*r)\n",
    "        # if it were to be the 2nd in the triplet, we would need to find all \n",
    "        # the 3rd number appropriate found in map_arr so far.\n",
    "        map_doubles[(x,r_x)] = map_doubles[(x,r_x)] + map_arr[r_x]\n",
    "        # updates map_doubles count \n",
    "\n",
    "        ## case 3: x is the third element (x/(r*r), x/r, x)\n",
    "        # if it were to be the 3rd element, we just need to update in \n",
    "        # map_arr for that number, so that it can be used as a reference for future doubles.\n",
    "        map_arr[x] += 1\n",
    "        \n",
    "        print('count:\\t', count)\n",
    "        print('map_doubles:\\t', map_doubles)\n",
    "        print('map_arr:\\t', map_arr);print('='*30)\n",
    "        \n",
    "    return count"
   ]
  },
  {
   "cell_type": "code",
   "execution_count": 3,
   "metadata": {
    "ExecuteTime": {
     "end_time": "2019-10-09T19:10:33.580250Z",
     "start_time": "2019-10-09T19:10:33.570258Z"
    },
    "cell_style": "center",
    "code_folding": [
     0
    ]
   },
   "outputs": [
    {
     "name": "stdout",
     "output_type": "stream",
     "text": [
      "r,arr:\t 2 [1, 2, 2, 4]\n",
      "count:\t 0\n",
      "map_doubles:\t defaultdict(<class 'int'>, {})\n",
      "map_arr:\t defaultdict(<class 'int'>, {})\n",
      "------------------------------\n",
      "count:\t 0\n",
      "map_doubles:\t defaultdict(<class 'int'>, {(8, 16): 0, (4, 8): 0})\n",
      "map_arr:\t defaultdict(<class 'int'>, {8: 0, 4: 1})\n",
      "==============================\n",
      "count:\t 0\n",
      "map_doubles:\t defaultdict(<class 'int'>, {(8, 16): 0, (4, 8): 0})\n",
      "map_arr:\t defaultdict(<class 'int'>, {8: 0, 4: 1})\n",
      "------------------------------\n",
      "count:\t 0\n",
      "map_doubles:\t defaultdict(<class 'int'>, {(8, 16): 0, (4, 8): 0, (2, 4): 1})\n",
      "map_arr:\t defaultdict(<class 'int'>, {8: 0, 4: 1, 2: 1})\n",
      "==============================\n",
      "count:\t 0\n",
      "map_doubles:\t defaultdict(<class 'int'>, {(8, 16): 0, (4, 8): 0, (2, 4): 1})\n",
      "map_arr:\t defaultdict(<class 'int'>, {8: 0, 4: 1, 2: 1})\n",
      "------------------------------\n",
      "count:\t 0\n",
      "map_doubles:\t defaultdict(<class 'int'>, {(8, 16): 0, (4, 8): 0, (2, 4): 2})\n",
      "map_arr:\t defaultdict(<class 'int'>, {8: 0, 4: 1, 2: 2})\n",
      "==============================\n",
      "count:\t 0\n",
      "map_doubles:\t defaultdict(<class 'int'>, {(8, 16): 0, (4, 8): 0, (2, 4): 2})\n",
      "map_arr:\t defaultdict(<class 'int'>, {8: 0, 4: 1, 2: 2})\n",
      "------------------------------\n",
      "count:\t 2\n",
      "map_doubles:\t defaultdict(<class 'int'>, {(8, 16): 0, (4, 8): 0, (2, 4): 2, (1, 2): 2})\n",
      "map_arr:\t defaultdict(<class 'int'>, {8: 0, 4: 1, 2: 2, 1: 1})\n",
      "==============================\n",
      "countTriplets(arr, r):\t 2\n"
     ]
    }
   ],
   "source": [
    "### Sample Input 0\n",
    "\n",
    "r = 2\n",
    "arr = [1, 2, 2, 4]\n",
    "\n",
    "# Sample Output 0\n",
    "# 2\n",
    "\n",
    "### Sample Input 1\n",
    "\n",
    "# r = 3\n",
    "# arr = [1, 3, 9, 9, 27, 81]\n",
    "\n",
    "# Sample Output 1\n",
    "# 6\n",
    "\n",
    "### Sample Input 2\n",
    "\n",
    "# r = 5\n",
    "# arr = [1, 5, 5, 25, 125]\n",
    "\n",
    "# Sample Output 2\n",
    "# 4\n",
    "\n",
    "print('r,arr:\\t', r,arr)\n",
    "print('countTriplets(arr, r):\\t', countTriplets(arr, r))\n",
    "\n"
   ]
  },
  {
   "cell_type": "code",
   "execution_count": 274,
   "metadata": {
    "ExecuteTime": {
     "end_time": "2019-10-09T13:16:21.235142Z",
     "start_time": "2019-10-09T13:16:21.225149Z"
    },
    "cell_style": "center",
    "code_folding": [
     0
    ]
   },
   "outputs": [
    {
     "name": "stdout",
     "output_type": "stream",
     "text": [
      "triplets:\t 0\n",
      "tuplets:\t defaultdict(<class 'int'>, {})\n",
      "counter:\t defaultdict(<class 'int'>, {})\n",
      "------------------------------\n",
      "triplets:\t 0\n",
      "tuplets:\t defaultdict(<class 'int'>, {8: 0, 4: 0})\n",
      "counter:\t defaultdict(<class 'int'>, {8: 0, 4: 1})\n",
      "==============================\n",
      "triplets:\t 0\n",
      "tuplets:\t defaultdict(<class 'int'>, {8: 0, 4: 0})\n",
      "counter:\t defaultdict(<class 'int'>, {8: 0, 4: 1})\n",
      "------------------------------\n",
      "triplets:\t 0\n",
      "tuplets:\t defaultdict(<class 'int'>, {8: 0, 4: 0, 2: 1})\n",
      "counter:\t defaultdict(<class 'int'>, {8: 0, 4: 1, 2: 1})\n",
      "==============================\n",
      "triplets:\t 0\n",
      "tuplets:\t defaultdict(<class 'int'>, {8: 0, 4: 0, 2: 1})\n",
      "counter:\t defaultdict(<class 'int'>, {8: 0, 4: 1, 2: 1})\n",
      "------------------------------\n",
      "triplets:\t 0\n",
      "tuplets:\t defaultdict(<class 'int'>, {8: 0, 4: 0, 2: 2})\n",
      "counter:\t defaultdict(<class 'int'>, {8: 0, 4: 1, 2: 2})\n",
      "==============================\n",
      "triplets:\t 0\n",
      "tuplets:\t defaultdict(<class 'int'>, {8: 0, 4: 0, 2: 2})\n",
      "counter:\t defaultdict(<class 'int'>, {8: 0, 4: 1, 2: 2})\n",
      "------------------------------\n",
      "triplets:\t 2\n",
      "tuplets:\t defaultdict(<class 'int'>, {8: 0, 4: 0, 2: 2, 1: 2})\n",
      "counter:\t defaultdict(<class 'int'>, {8: 0, 4: 1, 2: 2, 1: 1})\n",
      "==============================\n",
      "countTriplets(arr, r):\t 2\n"
     ]
    }
   ],
   "source": [
    "### Sample Input 0\n",
    "\n",
    "r = 2\n",
    "arr = [1, 2, 2, 4]\n",
    "\n",
    "# Sample Output 0\n",
    "# 2\n",
    "\n",
    "### Sample Input 1\n",
    "\n",
    "# r = 3\n",
    "# arr = [1, 3, 9, 9, 27, 81]\n",
    "\n",
    "# Sample Output 1\n",
    "# 6\n",
    "\n",
    "### Sample Input 2\n",
    "\n",
    "# r = 5\n",
    "# arr = [1, 5, 5, 25, 125]\n",
    "\n",
    "# Sample Output 2\n",
    "# 4\n",
    "\n",
    "print('countTriplets(arr, r):\\t', countTriplets(arr, r))\n",
    "\n"
   ]
  },
  {
   "cell_type": "markdown",
   "metadata": {},
   "source": [
    "##### another soln"
   ]
  },
  {
   "cell_type": "code",
   "execution_count": 273,
   "metadata": {
    "ExecuteTime": {
     "end_time": "2019-10-09T13:16:13.452652Z",
     "start_time": "2019-10-09T13:16:13.439662Z"
    },
    "code_folding": []
   },
   "outputs": [],
   "source": [
    "# my improvements: defaultdict\n",
    "from collections import defaultdict\n",
    "\n",
    "def countTriplets(arr, r):\n",
    "    counter = defaultdict(int)\n",
    "    tuplets = defaultdict(int)\n",
    "    triplets = 0\n",
    "    for a in arr[::-1]:\n",
    "        print('triplets:\\t', triplets)\n",
    "        print('tuplets:\\t', tuplets)\n",
    "        print('counter:\\t', counter); print('-'*30)\n",
    "        triplets += tuplets[r*a]\n",
    "        tuplets[a] += counter[r*a]\n",
    "        counter[a] += 1\n",
    "        print('triplets:\\t', triplets)\n",
    "        print('tuplets:\\t', tuplets)\n",
    "        print('counter:\\t', counter); print('='*30)\n",
    "    return triplets\n"
   ]
  },
  {
   "cell_type": "code",
   "execution_count": null,
   "metadata": {
    "code_folding": [
     0
    ]
   },
   "outputs": [],
   "source": [
    "# original\n",
    "def countTriplets(arr, r):\n",
    "    counter={a: 0 for a in arr}\n",
    "    tuplets={a: 0 for a in arr}\n",
    "    triplets=0\n",
    "    for a in arr[::-1]:\n",
    "        try:\n",
    "            triplets+=tuplets[r*a]\n",
    "            tuplets[a]+=counter[r*a]            \n",
    "        except:\n",
    "            None\n",
    "        counter[a]+=1    \n",
    "    return triplets"
   ]
  },
  {
   "cell_type": "markdown",
   "metadata": {},
   "source": [
    "## Frequency Queries"
   ]
  },
  {
   "cell_type": "markdown",
   "metadata": {},
   "source": [
    "##### <font color = 'lightgrey'>Setup</font>"
   ]
  },
  {
   "cell_type": "code",
   "execution_count": null,
   "metadata": {
    "code_folding": []
   },
   "outputs": [],
   "source": [
    "# Problem setup\n",
    "#!/bin/python3\n",
    "\n",
    "import math\n",
    "import os\n",
    "import random\n",
    "import re\n",
    "import sys\n",
    "\n",
    "# Complete the freqQuery function below.\n",
    "def freqQuery(queries):\n",
    "\n",
    "if __name__ == '__main__':\n",
    "    fptr = open(os.environ['OUTPUT_PATH'], 'w')\n",
    "\n",
    "    q = int(input().strip())\n",
    "\n",
    "    queries = []\n",
    "\n",
    "    for _ in range(q):\n",
    "        queries.append(list(map(int, input().rstrip().split())))\n",
    "\n",
    "    ans = freqQuery(queries)\n",
    "\n",
    "    fptr.write('\\n'.join(map(str, ans)))\n",
    "    fptr.write('\\n')\n",
    "\n",
    "    fptr.close()\n"
   ]
  },
  {
   "cell_type": "raw",
   "metadata": {},
   "source": [
    "## Sample Input 0\n",
    "\n",
    "8\n",
    "1 5\n",
    "1 6\n",
    "3 2\n",
    "1 10\n",
    "1 10\n",
    "1 6\n",
    "2 5\n",
    "3 2\n",
    "\n",
    "[[1, 5], [1, 6], [3, 2], [1, 10], [1, 10], [1, 6], [2, 5], [3, 2]]\n",
    "\n",
    "## Sample Output 0\n",
    "\n",
    "0\n",
    "1\n",
    "\n"
   ]
  },
  {
   "cell_type": "code",
   "execution_count": 16,
   "metadata": {
    "ExecuteTime": {
     "end_time": "2019-10-13T17:02:40.483723Z",
     "start_time": "2019-10-13T17:02:13.404643Z"
    },
    "code_folding": [],
    "collapsed": true
   },
   "outputs": [
    {
     "name": "stdout",
     "output_type": "stream",
     "text": [
      "8\n",
      "1 5\n",
      "1 6\n",
      "3 2\n",
      "1 10\n",
      "1 10\n",
      "1 6\n",
      "2 5\n",
      "3 2\n"
     ]
    },
    {
     "data": {
      "text/plain": [
       "[[1, 5], [1, 6], [3, 2], [1, 10], [1, 10], [1, 6], [2, 5], [3, 2]]"
      ]
     },
     "execution_count": 16,
     "metadata": {},
     "output_type": "execute_result"
    }
   ],
   "source": [
    "# build sample inputs\n",
    "\n",
    "q = int(input().strip())\n",
    "\n",
    "queries = []\n",
    "\n",
    "for _ in range(q):\n",
    "    queries.append(list(map(int, input().rstrip().split())))\n",
    "\n",
    "queries"
   ]
  },
  {
   "cell_type": "code",
   "execution_count": 17,
   "metadata": {
    "ExecuteTime": {
     "end_time": "2019-10-13T17:41:11.552710Z",
     "start_time": "2019-10-13T17:41:11.545714Z"
    },
    "code_folding": []
   },
   "outputs": [],
   "source": [
    "# sample input 0\n",
    "queries = [[1, 5], \n",
    "           [1, 6], \n",
    "           [3, 2], \n",
    "           [1, 10], \n",
    "           [1, 10], \n",
    "           [1, 6], \n",
    "           [2, 5], \n",
    "           [3, 2]]\n",
    "\n",
    "## Sample Output 0\n",
    "# 0\n",
    "# 1\n",
    "\n"
   ]
  },
  {
   "cell_type": "code",
   "execution_count": 45,
   "metadata": {
    "ExecuteTime": {
     "end_time": "2019-10-14T23:50:30.657145Z",
     "start_time": "2019-10-14T23:50:30.652148Z"
    },
    "code_folding": []
   },
   "outputs": [],
   "source": [
    "# sample input 1\n",
    "queries = [[3, 4],[2, 1003],[1, 16],[3, 1]]\n",
    "\n",
    "## Sample Output 0\n",
    "# 0\n",
    "# 1\n",
    "\n"
   ]
  },
  {
   "cell_type": "code",
   "execution_count": 61,
   "metadata": {
    "ExecuteTime": {
     "end_time": "2019-10-15T00:39:18.815921Z",
     "start_time": "2019-10-15T00:39:18.808923Z"
    },
    "code_folding": []
   },
   "outputs": [],
   "source": [
    "# sample input 2\n",
    "queries = [[1, 3],\n",
    "           [2, 3],\n",
    "           [3, 2],\n",
    "           [1, 4],\n",
    "           [1, 5],\n",
    "           [1, 5],\n",
    "           [1, 4],\n",
    "           [3, 2],\n",
    "           [2, 4],\n",
    "           [3, 2]]\n",
    "\n",
    "## Sample Output 0\n",
    "# 0\n",
    "# 1\n",
    "# 1\n",
    "\n"
   ]
  },
  {
   "cell_type": "markdown",
   "metadata": {},
   "source": [
    "##### First Attempt:"
   ]
  },
  {
   "cell_type": "markdown",
   "metadata": {},
   "source": [
    "Too slow to pass 4/15 cases"
   ]
  },
  {
   "cell_type": "code",
   "execution_count": 50,
   "metadata": {
    "ExecuteTime": {
     "end_time": "2019-10-14T23:54:08.753855Z",
     "start_time": "2019-10-14T23:54:08.743862Z"
    }
   },
   "outputs": [
    {
     "name": "stdout",
     "output_type": "stream",
     "text": [
      "freqQuery(queries):\t [0, 1, 1]\n"
     ]
    }
   ],
   "source": [
    "from typing import List \n",
    "from collections import defaultdict\n",
    "\n",
    "def freqQuery(queries: List[List[int]]) -> int: \n",
    "    num_count: dict = defaultdict(int)\n",
    "    ans: list = []\n",
    "    for q,n in queries:\n",
    "        if q == 1: num_count[n] += 1\n",
    "        if q == 2: num_count[n] -= min(num_count[n], 1)\n",
    "        if q == 3:\n",
    "            if n in num_count.values():\n",
    "                ans.append(1)\n",
    "            else:\n",
    "                ans.append(0)\n",
    "    return ans\n",
    "\n",
    "print('freqQuery(queries):\\t', freqQuery(queries))"
   ]
  },
  {
   "cell_type": "markdown",
   "metadata": {},
   "source": [
    "##### Improved after reading editorial"
   ]
  },
  {
   "cell_type": "markdown",
   "metadata": {},
   "source": [
    "This time we use two hashmaps. One to store the frequencies and the other to store the frequency of the frequencies.\n",
    "\n",
    "* So, whenever we get query of type 1, we first get the count (say, c) of the element and then increment it's counter by 1. Then we decrease the count of c by 1 in the second map and increase the count of (c+1) by 1.\n",
    "\n",
    "\n",
    "* When we get a type 2 query, again we get it's count (say, c) from the first map and then decrease it by 1. Now, we decrease the count of c by 1 and increase the count (c-1) by 1 in the second map.\n",
    "\n",
    "\n",
    "* Finally, for the third query, we can just check if it's entry in the second map is positive. If, yes we print 1 else 0."
   ]
  },
  {
   "cell_type": "markdown",
   "metadata": {},
   "source": [
    "Multiple if's means your code would go and check all the if conditions, where as in case of elif, if one if condition satisfies it would not check other conditions.."
   ]
  },
  {
   "cell_type": "code",
   "execution_count": 77,
   "metadata": {
    "ExecuteTime": {
     "end_time": "2019-10-15T02:32:51.942677Z",
     "start_time": "2019-10-15T02:32:51.931683Z"
    }
   },
   "outputs": [],
   "source": [
    "from typing import List \n",
    "from collections import defaultdict\n",
    "\n",
    "def freqQuery(queries: List[List[int]]) -> int: \n",
    "    num_count: dict = defaultdict(int)\n",
    "    freq_count: dict = defaultdict(int)\n",
    "    ans: list = []\n",
    "    for q,n in queries:\n",
    "        if q == 1: \n",
    "            if freq_count[num_count[n]]:\n",
    "                freq_count[num_count[n]] -= 1\n",
    "            num_count[n] += 1\n",
    "            freq_count[num_count[n]] += 1\n",
    "        elif q == 2: \n",
    "            if num_count[n]:\n",
    "                freq_count[num_count[n]] -= 1\n",
    "                # decrease occurence of a number\n",
    "                num_count[n] -= 1\n",
    "                # decrease count of present frequency\n",
    "                freq_count[num_count[n]] += 1\n",
    "                # increase count of present frequency - 1\n",
    "        else:\n",
    "            if freq_count[n] > 0:\n",
    "                ans.append(1)\n",
    "            else:\n",
    "                ans.append(0)\n",
    "    return ans"
   ]
  },
  {
   "cell_type": "code",
   "execution_count": null,
   "metadata": {},
   "outputs": [],
   "source": []
  },
  {
   "cell_type": "code",
   "execution_count": 76,
   "metadata": {
    "ExecuteTime": {
     "end_time": "2019-10-15T02:29:14.077776Z",
     "start_time": "2019-10-15T02:29:14.069781Z"
    }
   },
   "outputs": [
    {
     "name": "stdout",
     "output_type": "stream",
     "text": [
      "freq_count:\t defaultdict(<class 'int'>, {})\n",
      "freq_count:\t defaultdict(<class 'int'>, {0: 0, 1: 1, 3: 0})\n",
      "------------------------------\n",
      "freq_count:\t defaultdict(<class 'int'>, {0: 0, 1: 1, 3: 0})\n",
      "freq_count:\t defaultdict(<class 'int'>, {0: 1, 1: 0, 3: 0})\n",
      "------------------------------\n",
      "freq_count:\t defaultdict(<class 'int'>, {0: 1, 1: 0, 3: 0})\n",
      "freq_count:\t defaultdict(<class 'int'>, {0: 1, 1: 0, 3: 0, 2: 0})\n",
      "------------------------------\n",
      "freq_count:\t defaultdict(<class 'int'>, {0: 1, 1: 0, 3: 0, 2: 0})\n",
      "freq_count:\t defaultdict(<class 'int'>, {0: 0, 1: 1, 3: 0, 2: 0, 4: 0})\n",
      "------------------------------\n",
      "freq_count:\t defaultdict(<class 'int'>, {0: 0, 1: 1, 3: 0, 2: 0, 4: 0})\n",
      "freq_count:\t defaultdict(<class 'int'>, {0: 0, 1: 2, 3: 0, 2: 0, 4: 0, 5: 0})\n",
      "------------------------------\n",
      "freq_count:\t defaultdict(<class 'int'>, {0: 0, 1: 2, 3: 0, 2: 0, 4: 0, 5: 0})\n",
      "freq_count:\t defaultdict(<class 'int'>, {0: 0, 1: 1, 3: 0, 2: 1, 4: 0, 5: 0})\n",
      "------------------------------\n",
      "freq_count:\t defaultdict(<class 'int'>, {0: 0, 1: 1, 3: 0, 2: 1, 4: 0, 5: 0})\n",
      "freq_count:\t defaultdict(<class 'int'>, {0: 0, 1: 0, 3: 0, 2: 2, 4: 0, 5: 0})\n",
      "------------------------------\n",
      "freq_count:\t defaultdict(<class 'int'>, {0: 0, 1: 0, 3: 0, 2: 2, 4: 0, 5: 0})\n",
      "freq_count:\t defaultdict(<class 'int'>, {0: 0, 1: 0, 3: 0, 2: 2, 4: 0, 5: 0})\n",
      "------------------------------\n",
      "freq_count:\t defaultdict(<class 'int'>, {0: 0, 1: 0, 3: 0, 2: 2, 4: 0, 5: 0})\n",
      "freq_count:\t defaultdict(<class 'int'>, {0: 0, 1: 1, 3: 0, 2: 1, 4: 0, 5: 0})\n",
      "------------------------------\n",
      "freq_count:\t defaultdict(<class 'int'>, {0: 0, 1: 1, 3: 0, 2: 1, 4: 0, 5: 0})\n",
      "freq_count:\t defaultdict(<class 'int'>, {0: 0, 1: 1, 3: 0, 2: 1, 4: 0, 5: 0})\n",
      "------------------------------\n",
      "freqQuery(queries):\t [0, 0, 0, 0, 0, 0, 1, 1]\n"
     ]
    }
   ],
   "source": [
    "print('freqQuery(queries):\\t', freqQuery(queries))"
   ]
  },
  {
   "cell_type": "markdown",
   "metadata": {},
   "source": [
    "# Misc"
   ]
  },
  {
   "cell_type": "markdown",
   "metadata": {},
   "source": [
    "## Bonetrousle "
   ]
  },
  {
   "cell_type": "markdown",
   "metadata": {},
   "source": [
    "did this one by mistake not part of the interview prep kit"
   ]
  },
  {
   "cell_type": "markdown",
   "metadata": {},
   "source": [
    "##### problem statement"
   ]
  },
  {
   "cell_type": "markdown",
   "metadata": {},
   "source": [
    "<img src='pics/INT2_7.png' alt='Drawing' style='width:625pt'/>"
   ]
  },
  {
   "cell_type": "markdown",
   "metadata": {},
   "source": [
    "##### test cases"
   ]
  },
  {
   "cell_type": "raw",
   "metadata": {},
   "source": [
    "Sample Input\n",
    "\n",
    "4\n",
    "12 8 3\n",
    "10 3 3\n",
    "9 10 2\n",
    "9 10 2\n",
    "\n",
    "Sample Output\n",
    "\n",
    "2 3 7\n",
    "-1\n",
    "5 4\n",
    "1 8"
   ]
  },
  {
   "cell_type": "markdown",
   "metadata": {},
   "source": [
    "##### Question Setup"
   ]
  },
  {
   "cell_type": "code",
   "execution_count": null,
   "metadata": {},
   "outputs": [],
   "source": [
    "#!/bin/python3\n",
    "\n",
    "import os\n",
    "import sys\n",
    "\n",
    "#\n",
    "# Complete the bonetrousle function below.\n",
    "#\n",
    "def bonetrousle(n, k, b):\n",
    "    #\n",
    "    # Write your code here.\n",
    "    #\n",
    "\n",
    "if __name__ == '__main__':\n",
    "    fptr = open(os.environ['OUTPUT_PATH'], 'w')\n",
    "\n",
    "    t = int(input())\n",
    "\n",
    "    for t_itr in range(t):\n",
    "        nkb = input().split()\n",
    "\n",
    "        n = int(nkb[0])\n",
    "        k = int(nkb[1])\n",
    "        b = int(nkb[2])\n",
    "\n",
    "        result = bonetrousle(n, k, b)\n",
    "\n",
    "        fptr.write(' '.join(map(str, result)))\n",
    "        fptr.write('\\n')\n",
    "\n",
    "    fptr.close()\n"
   ]
  },
  {
   "cell_type": "markdown",
   "metadata": {},
   "source": [
    "### <b><font color = 'purple'>Editorial </font></b>"
   ]
  },
  {
   "cell_type": "markdown",
   "metadata": {},
   "source": [
    "<b>The problem</b>\n",
    "\n",
    "Find  distinct positive integers below  such that their sum is  or say that it is not possible.\n",
    "\n",
    "<b>Existence of a solution</b>\n",
    "\n",
    "<b><font color = 'purple'>What is the smallest possible sum we can form with ```B``` distinct positive integers below ```K```? </font></b> We should always take the smallest possible numbers, so the answer is 1+2+3+...+B.\n",
    "\n",
    "<b><font color = 'purple'>What is the largest possible sum we can form with ```B``` distinct positive integers below ```K```? </font></b> It should be clear that we should always take the largest available numbers, so this sum should be $K + (K-1) + (K-2)+ ... +(K-B+1)$.\n",
    "note: B+1, because of K itself is part of the largest sum.\n",
    "\n",
    "Let the first sum be $S_1$, and the second sum be $S_2$. \n",
    "A solution always exists as long as $s_1 \\le N \\le S_2$! We will show this by using a constructive proof.\n",
    "\n",
    "\n",
    "\n",
    "<font color = 'blue'>The key idea for this solution is that we should start with a sum of $S_1$, and then increase any number that can still be increased by one without violating the two constraints \n",
    "* the limit of $K$\n",
    "* and all numbers must be distinct\n",
    "    \n",
    "to transition our sum into $S_2$. \n",
    "\n",
    "The proof that it will find all the sums is simple: we increment the sum by 1 each time. This will cover all sums from  to $S_1$ to $S_2$</font>."
   ]
  },
  {
   "cell_type": "markdown",
   "metadata": {},
   "source": [
    "Consider any particular set that satisfies the two constraints (no element exceeds ```K``` and all elements are distinct). We will now show how we can increase the sum of the elements in this set by 1.\n",
    "\n",
    "If the sum is equal to $S_2$, then it must be formed by the elements $K,K-1,K-2,...,K-B+1$ in some order, because we showed earlier that this is the maximum sum possible. It is obvious that there is no way to increment anything here without violating either one of the constraints.\n",
    "\n",
    "\n",
    "If the sum is not equal to $S_2$, then it must be lower than $S_2$. \n",
    "\n",
    "Now, we have two cases. \n",
    "\n",
    "* Either the maximum element in our set is less than $K$, \n",
    "\n",
    "* or it is equal to $K$. \n",
    "\n",
    "\n",
    "Let's call the value of this maximum element $m$.\n",
    "\n",
    "\n",
    "If the $m$ is not equal to $K$, then we are done; just increment $m$, because incrementing it will not break either constraint (since $m \\le K$, then $m+1\\le K$, and obviously $m+1$ doesn't exist in our set otherwise $m$ would not be the maximum). This will increase our sum by one.\n",
    "\n",
    "If the maximum element is equal to $K$, then the remaining elements must not all be in consecutive order. Otherwise our set will be equal to {$K,K-1,K-2,...,K-B+1$} which contradicts our assumption that the sum is not equal to $S_2$. If it is not in consecutive order, then there must be at least one element with a value of $n$ for which $n+1$ does not exist in the set. Simply increment this element.\n",
    "\n",
    "Hence we have shown that it is possible to make all the sums from $S_1$ to $S_2$. In fact, our proof was constructive in that it presented an algorithm for us to generate a set with the required sum.\n",
    "\n",
    "Note that implementing this algorithm the way it was stated in the proof is not a good idea as it is still rather slow. <b><font color = 'purple'>We will describe an algorithm that makes use of the above facts that will run quickly enough if implemented correctly. </font></b>"
   ]
  },
  {
   "cell_type": "markdown",
   "metadata": {},
   "source": [
    "First, let's take an example input. Let N=15 and K=8 and B=3.\n",
    "\n",
    "Consider the smallest possible sum 1 + 2 + 3 = 6\n",
    "\n",
    "Let's increment the largest element, which is , and then we will have 1 + 2 + 4 = 7.\n",
    "\n",
    "Keep incrementing the largest element while the sum is still not 15, and the largest element does not yet exceed $K$. It will look like that:\n",
    "\n",
    "\n",
    "1 + 2 + 4 = 7\n",
    "1 + 2 + 5 = 8 \n",
    "1 + 2 + 6 = 9 \n",
    "1 + 2 + 7 = 10 \n",
    "1 + 2 + 8 = 11 \n",
    "\n",
    "\n",
    "Now, we stop here, because we have already reached the sum. At this point, the algorithm is obvious: start with the smallest possible elements then increment each element from the largest to the smallest while they can still be incremented. Stop when the sum is reached.\n",
    "\n",
    "\n",
    "This clearly runs in time proportional to the number of times we can increment a number, which is approximately O(BK), but at the same time it is also bounded by the maximum required sum, which in our case is O(N). Hence, this runs in O(min(N,BK)) for each test case, but it is still too slow.\n",
    "\n",
    "<b>Optimization to O(B)</b>\n",
    "\n",
    "<font color = 'blue'>In order to make it fast enough, we actually only need to make one more observation: we don't actually need to increment by one each time</font>. \n",
    "\n",
    "* Instead, we can immediately check, for each number, if we set it to the maximum value, what the sum will be. If this sum still does not exceed N, then we can simply set the element to the maximum and then move on to the next number. \n",
    "\n",
    "* Otherwise, using some basic arithmetic, we can easily find out which number a particular number should become, in order for the sum to be exactly N.\n",
    "\n",
    "Applying this basic optimization allows us to bring our runtime to O(B) per test case, which is fast enough.\n",
    "\n",
    "\n",
    "\n"
   ]
  },
  {
   "cell_type": "markdown",
   "metadata": {},
   "source": [
    "##### <font color = 'red'>Attempt 2 - after reading editorial</font>"
   ]
  },
  {
   "cell_type": "code",
   "execution_count": 320,
   "metadata": {
    "ExecuteTime": {
     "end_time": "2019-09-23T06:21:59.477207Z",
     "start_time": "2019-09-23T06:21:59.460217Z"
    }
   },
   "outputs": [
    {
     "name": "stdout",
     "output_type": "stream",
     "text": [
      "sum(bonetrousle(n, k, b)):\t 38\n",
      "len(set(bonetrousle(n, k, b))):\t 7\n",
      "type(bonetrousle(n, k, b)[0]):\t <class 'int'>\n"
     ]
    }
   ],
   "source": [
    "from typing import List\n",
    "import copy\n",
    "\n",
    "\n",
    "def bonetrousle(target, inventory, qty):\n",
    "    \n",
    "    inventory_list = list(int(i+1) for i in range(inventory))\n",
    "    # inventory -> inventory_list (0-based to 1-based indexing)\n",
    "    \n",
    "    # highest qty-units\n",
    "    largest_qty = list(i for i in inventory_list[-qty:])\n",
    "    smallest_qty = list(i for i in inventory_list[:qty])\n",
    "    # lowest qty-units\n",
    "    \n",
    "    if (sum(smallest_qty) <= target <= sum(largest_qty)) == False: \n",
    "        return [-1]\n",
    "    \n",
    "    else:\n",
    "        cart = smallest_qty[::-1]\n",
    "        for i,item in enumerate(cart):\n",
    "            if ((max(inventory_list) - item + sum(cart) - i) < target):\n",
    "            # -i adjust for high qty units already in cart\n",
    "                cart[i] = max(inventory_list) - i\n",
    "            else:\n",
    "                cart[i] = target - sum(cart) + item\n",
    "                return cart\n",
    "            \n",
    "    \n",
    "        \n",
    "test='38 10 7'\n",
    "n, k, b = [int(n) for n in test.split()]\n",
    "# print('bonetrousle(n, k, b):\\t', bonetrousle(n, k, b))\n",
    "print('sum(bonetrousle(n, k, b)):\\t', sum(bonetrousle(n, k, b)))\n",
    "print('len(set(bonetrousle(n, k, b))):\\t', len(set(bonetrousle(n, k, b))))\n",
    "print('type(bonetrousle(n, k, b)[0]):\\t', type(bonetrousle(n, k, b)[0]))\n",
    "# 2 3 7\n",
    "# -1\n",
    "# 5 4\n",
    "# 1 8\n",
    "\n",
    "\n",
    "\n",
    "\n"
   ]
  },
  {
   "cell_type": "raw",
   "metadata": {
    "ExecuteTime": {
     "end_time": "2019-09-22T23:05:35.224867Z",
     "start_time": "2019-09-22T23:05:33.325037Z"
    }
   },
   "source": [
    "from typing import List\n",
    "import copy\n",
    "\n",
    "\n",
    "def bonetrousle(target: int, inventory: int, qty: int) -> List[int]:\n",
    "    \n",
    "    inventory_list = list(i+1 for i in range(inventory))\n",
    "    # inventory -> inventory_list (0-based to 1-based indexing)\n",
    "    \n",
    "    # highest qty-units\n",
    "    largest_qty = tuple(i for i in inventory_list[-qty:])\n",
    "    smallest_qty = tuple(i for i in inventory_list[:qty])\n",
    "    # lowest qty-units\n",
    "    \n",
    "    if (sum(smallest_qty) <= target <= sum(largest_qty)) == False: \n",
    "        return [-1]\n",
    "    \n",
    "    else:\n",
    "        cart = list(copy.deepcopy(reversed(smallest_qty)))\n",
    "        for i,item in enumerate(cart):\n",
    "            if max(inventory_list) - item + sum(cart) -i < target:\n",
    "            # -i adjust for high qty units already in cart\n",
    "                cart[i] = max(inventory_list) - i\n",
    "            else:\n",
    "                cart[i] = target - sum(cart) + item\n",
    "                return cart\n",
    "            \n",
    "    \n",
    "        \n",
    "test='20000000 10000000 4'\n",
    "n, k, b = [int(n) for n in test.split()]\n",
    "print('bonetrousle(n, k, b):\\t', bonetrousle(n, k, b))\n",
    "print('sum(bonetrousle(n, k, b)):\\t', sum(bonetrousle(n, k, b)))\n",
    "print('len(bonetrousle(n, k, b)):\\t', len(bonetrousle(n, k, b)))\n",
    "\n",
    "# 2 3 7\n",
    "# -1\n",
    "# 5 4\n",
    "# 1 8\n",
    "\n",
    "\n",
    "\n",
    "\n"
   ]
  },
  {
   "cell_type": "code",
   "execution_count": null,
   "metadata": {
    "cell_style": "split"
   },
   "outputs": [],
   "source": [
    "38 10 7\n",
    "2 3 1\n",
    "125 16 14\n",
    "77 18 7\n",
    "3 3 1\n",
    "172 17 9\n",
    "124 19 11\n",
    "3 2 2\n",
    "173 19 18\n",
    "3 2 2\n",
    "50 16 7\n",
    "122 16 13\n",
    "73 19 6\n",
    "7 14 1\n",
    "6 3 3\n",
    "13 17 4\n",
    "59 13 7\n",
    "31 8 7\n",
    "11 13 3\n",
    "3 6 2"
   ]
  },
  {
   "cell_type": "code",
   "execution_count": null,
   "metadata": {
    "cell_style": "split"
   },
   "outputs": [],
   "source": [
    "Test case 7\n",
    "14377409 6746 4829\n",
    "12951446 15189828 3348\n",
    "12419991 457384 4561\n",
    "1128462 1395073 153\n",
    "483233 4675 157\n",
    "10964705 722268 28\n",
    "6708325 5924241 16953\n",
    "8822635 109122 1614\n",
    "14994778 558074 863\n",
    "1854961 15104 371\n",
    "1498563 65983 1409\n",
    "48171 1537 96\n",
    "114186 932 189\n",
    "7381224 14567008 47153\n",
    "2722116 51058 296\n",
    "8434500 2249102 2161\n",
    "3950191 50036 1389\n",
    "6358711 3642 3495\n",
    "14292771 14304 5038\n",
    "10855999 11895 1670"
   ]
  },
  {
   "cell_type": "raw",
   "metadata": {},
   "source": [
    "max_sum:\t [6, 7, 8]\n",
    "max_sum:\t [1, 2, 3]\n",
    "max_sum:\t [9, 10]"
   ]
  },
  {
   "cell_type": "markdown",
   "metadata": {},
   "source": [
    "##### First attempt"
   ]
  },
  {
   "cell_type": "code",
   "execution_count": 89,
   "metadata": {
    "ExecuteTime": {
     "end_time": "2019-09-22T10:24:46.819547Z",
     "start_time": "2019-09-22T10:24:46.796562Z"
    }
   },
   "outputs": [
    {
     "data": {
      "text/plain": [
       "[1, 3, 8]"
      ]
     },
     "execution_count": 89,
     "metadata": {},
     "output_type": "execute_result"
    },
    {
     "data": {
      "text/plain": [
       "[-1]"
      ]
     },
     "execution_count": 89,
     "metadata": {},
     "output_type": "execute_result"
    },
    {
     "data": {
      "text/plain": [
       "[1, 8]"
      ]
     },
     "execution_count": 89,
     "metadata": {},
     "output_type": "execute_result"
    }
   ],
   "source": [
    "import itertools\n",
    "\n",
    "def bonetrousle(n, k, b):\n",
    "    # print('n, k, b:\\t', n, k, b)\n",
    "    b_permutations = itertools.permutations([i+1 for i in list(range(k))], b)\n",
    "    for p in b_permutations:\n",
    "        if sum(p) == n:\n",
    "            return list(p)\n",
    "    return [-1] \n",
    "    \n",
    "        \n",
    "\n",
    "n, k, b = [int(n) for n in '12 8 3'.split()]\n",
    "bonetrousle(n, k, b)\n",
    "n, k, b = [int(n) for n in '10 3 3'.split()]\n",
    "bonetrousle(n, k, b)\n",
    "n, k, b = [int(n) for n in '9 10 2'.split()]\n",
    "bonetrousle(n, k, b)\n",
    "# n, k, b = [int(n) for n in '9 10 2'.split()]\n",
    "\n",
    "\n",
    "\n",
    "\n",
    "\n",
    "\n",
    "\n"
   ]
  },
  {
   "cell_type": "markdown",
   "metadata": {},
   "source": [
    "##### Soln 1"
   ]
  },
  {
   "cell_type": "code",
   "execution_count": 306,
   "metadata": {
    "ExecuteTime": {
     "end_time": "2019-09-23T01:32:39.835548Z",
     "start_time": "2019-09-23T01:32:39.822556Z"
    }
   },
   "outputs": [
    {
     "name": "stdout",
     "output_type": "stream",
     "text": [
      "sum(bonetrousle(n, k, b)):\t 38\n",
      "len(set(bonetrousle(n, k, b))):\t 7\n",
      "type(bonetrousle(n, k, b)[0]):\t <class 'int'>\n"
     ]
    }
   ],
   "source": [
    "def bonetrousle(n, k, b):\n",
    "    init=b*(b+1)//2 \n",
    "    extra=(n-init)//b+1\n",
    "    over=init+extra*b-n\n",
    "    answer=list(range(1,b+1))\n",
    "    answer=[i+extra-1 for i in answer[:over]] +\\\n",
    "           [i+extra   for i in answer[over:]]\n",
    "    if answer[-1]<=k and answer[0]>=1:\n",
    "        return answer\n",
    "    else:\n",
    "        return [-1]\n",
    "\n",
    "test='38 10 7'\n",
    "n, k, b = [int(n) for n in test.split()]\n",
    "# print('bonetrousle(n, k, b):\\t', bonetrousle(n, k, b))\n",
    "print('sum(bonetrousle(n, k, b)):\\t', sum(bonetrousle(n, k, b)))\n",
    "print('len(set(bonetrousle(n, k, b))):\\t', len(set(bonetrousle(n, k, b))))\n",
    "print('type(bonetrousle(n, k, b)[0]):\\t', type(bonetrousle(n, k, b)[0]))\n",
    "\n",
    "# n, k, b = [int(n) for n in '12 8 3'.split()]\n",
    "# bonetrousle(n, k, b)\n",
    "# n, k, b = [int(n) for n in '10 3 3'.split()]\n",
    "# bonetrousle(n, k, b)\n",
    "# n, k, b = [int(n) for n in '9 10 2'.split()]\n",
    "# bonetrousle(n, k, b)\n",
    "    "
   ]
  },
  {
   "cell_type": "code",
   "execution_count": 277,
   "metadata": {
    "ExecuteTime": {
     "end_time": "2019-09-22T23:05:35.224867Z",
     "start_time": "2019-09-22T23:05:33.325037Z"
    }
   },
   "outputs": [
    {
     "ename": "TypeError",
     "evalue": "'generator' object is not reversible",
     "output_type": "error",
     "traceback": [
      "\u001b[1;31m---------------------------------------------------------------------------\u001b[0m",
      "\u001b[1;31mTypeError\u001b[0m                                 Traceback (most recent call last)",
      "\u001b[1;32m<ipython-input-277-f4634d71e9cf>\u001b[0m in \u001b[0;36m<module>\u001b[1;34m\u001b[0m\n\u001b[0;32m     30\u001b[0m \u001b[0mtest\u001b[0m\u001b[1;33m=\u001b[0m\u001b[1;34m'20000000 10000000 4'\u001b[0m\u001b[1;33m\u001b[0m\u001b[1;33m\u001b[0m\u001b[0m\n\u001b[0;32m     31\u001b[0m \u001b[0mn\u001b[0m\u001b[1;33m,\u001b[0m \u001b[0mk\u001b[0m\u001b[1;33m,\u001b[0m \u001b[0mb\u001b[0m \u001b[1;33m=\u001b[0m \u001b[1;33m[\u001b[0m\u001b[0mint\u001b[0m\u001b[1;33m(\u001b[0m\u001b[0mn\u001b[0m\u001b[1;33m)\u001b[0m \u001b[1;32mfor\u001b[0m \u001b[0mn\u001b[0m \u001b[1;32min\u001b[0m \u001b[0mtest\u001b[0m\u001b[1;33m.\u001b[0m\u001b[0msplit\u001b[0m\u001b[1;33m(\u001b[0m\u001b[1;33m)\u001b[0m\u001b[1;33m]\u001b[0m\u001b[1;33m\u001b[0m\u001b[1;33m\u001b[0m\u001b[0m\n\u001b[1;32m---> 32\u001b[1;33m \u001b[0mprint\u001b[0m\u001b[1;33m(\u001b[0m\u001b[1;34m'bonetrousle(n, k, b):\\t'\u001b[0m\u001b[1;33m,\u001b[0m \u001b[0mbonetrousle\u001b[0m\u001b[1;33m(\u001b[0m\u001b[0mn\u001b[0m\u001b[1;33m,\u001b[0m \u001b[0mk\u001b[0m\u001b[1;33m,\u001b[0m \u001b[0mb\u001b[0m\u001b[1;33m)\u001b[0m\u001b[1;33m)\u001b[0m\u001b[1;33m\u001b[0m\u001b[1;33m\u001b[0m\u001b[0m\n\u001b[0m\u001b[0;32m     33\u001b[0m \u001b[0mprint\u001b[0m\u001b[1;33m(\u001b[0m\u001b[1;34m'sum(bonetrousle(n, k, b)):\\t'\u001b[0m\u001b[1;33m,\u001b[0m \u001b[0msum\u001b[0m\u001b[1;33m(\u001b[0m\u001b[0mbonetrousle\u001b[0m\u001b[1;33m(\u001b[0m\u001b[0mn\u001b[0m\u001b[1;33m,\u001b[0m \u001b[0mk\u001b[0m\u001b[1;33m,\u001b[0m \u001b[0mb\u001b[0m\u001b[1;33m)\u001b[0m\u001b[1;33m)\u001b[0m\u001b[1;33m)\u001b[0m\u001b[1;33m\u001b[0m\u001b[1;33m\u001b[0m\u001b[0m\n\u001b[0;32m     34\u001b[0m \u001b[0mprint\u001b[0m\u001b[1;33m(\u001b[0m\u001b[1;34m'len(bonetrousle(n, k, b)):\\t'\u001b[0m\u001b[1;33m,\u001b[0m \u001b[0mlen\u001b[0m\u001b[1;33m(\u001b[0m\u001b[0mbonetrousle\u001b[0m\u001b[1;33m(\u001b[0m\u001b[0mn\u001b[0m\u001b[1;33m,\u001b[0m \u001b[0mk\u001b[0m\u001b[1;33m,\u001b[0m \u001b[0mb\u001b[0m\u001b[1;33m)\u001b[0m\u001b[1;33m)\u001b[0m\u001b[1;33m)\u001b[0m\u001b[1;33m\u001b[0m\u001b[1;33m\u001b[0m\u001b[0m\n",
      "\u001b[1;32m<ipython-input-277-f4634d71e9cf>\u001b[0m in \u001b[0;36mbonetrousle\u001b[1;34m(target, inventory, qty)\u001b[0m\n\u001b[0;32m     17\u001b[0m \u001b[1;33m\u001b[0m\u001b[0m\n\u001b[0;32m     18\u001b[0m     \u001b[1;32melse\u001b[0m\u001b[1;33m:\u001b[0m\u001b[1;33m\u001b[0m\u001b[1;33m\u001b[0m\u001b[0m\n\u001b[1;32m---> 19\u001b[1;33m         \u001b[0mcart\u001b[0m \u001b[1;33m=\u001b[0m \u001b[0mlist\u001b[0m\u001b[1;33m(\u001b[0m\u001b[0mcopy\u001b[0m\u001b[1;33m.\u001b[0m\u001b[0mdeepcopy\u001b[0m\u001b[1;33m(\u001b[0m\u001b[0mreversed\u001b[0m\u001b[1;33m(\u001b[0m\u001b[0msmallest_qty\u001b[0m\u001b[1;33m)\u001b[0m\u001b[1;33m)\u001b[0m\u001b[1;33m)\u001b[0m\u001b[1;33m\u001b[0m\u001b[1;33m\u001b[0m\u001b[0m\n\u001b[0m\u001b[0;32m     20\u001b[0m         \u001b[1;32mfor\u001b[0m \u001b[0mi\u001b[0m\u001b[1;33m,\u001b[0m\u001b[0mitem\u001b[0m \u001b[1;32min\u001b[0m \u001b[0menumerate\u001b[0m\u001b[1;33m(\u001b[0m\u001b[0mcart\u001b[0m\u001b[1;33m)\u001b[0m\u001b[1;33m:\u001b[0m\u001b[1;33m\u001b[0m\u001b[1;33m\u001b[0m\u001b[0m\n\u001b[0;32m     21\u001b[0m             \u001b[1;32mif\u001b[0m \u001b[0mmax\u001b[0m\u001b[1;33m(\u001b[0m\u001b[0minventory_list\u001b[0m\u001b[1;33m)\u001b[0m \u001b[1;33m-\u001b[0m \u001b[0mitem\u001b[0m \u001b[1;33m+\u001b[0m \u001b[0msum\u001b[0m\u001b[1;33m(\u001b[0m\u001b[0mcart\u001b[0m\u001b[1;33m)\u001b[0m \u001b[1;33m-\u001b[0m\u001b[0mi\u001b[0m \u001b[1;33m<\u001b[0m \u001b[0mtarget\u001b[0m\u001b[1;33m:\u001b[0m\u001b[1;33m\u001b[0m\u001b[1;33m\u001b[0m\u001b[0m\n",
      "\u001b[1;31mTypeError\u001b[0m: 'generator' object is not reversible"
     ]
    }
   ],
   "source": [
    "from typing import List\n",
    "import copy\n",
    "\n",
    "\n",
    "def bonetrousle(target: int, inventory: int, qty: int) -> List[int]:\n",
    "    \n",
    "    inventory_list = list(i+1 for i in range(inventory))\n",
    "    # inventory -> inventory_list (0-based to 1-based indexing)\n",
    "    \n",
    "    # highest qty-units\n",
    "    largest_qty = tuple(i for i in inventory_list[-qty:])\n",
    "    smallest_qty = tuple(i for i in inventory_list[:qty])\n",
    "    # lowest qty-units\n",
    "    \n",
    "    if (sum(smallest_qty) <= target <= sum(largest_qty)) == False: \n",
    "        return [-1]\n",
    "    \n",
    "    else:\n",
    "        cart = list(copy.deepcopy(reversed(smallest_qty)))\n",
    "        for i,item in enumerate(cart):\n",
    "            if max(inventory_list) - item + sum(cart) -i < target:\n",
    "            # -i adjust for high qty units already in cart\n",
    "                cart[i] = max(inventory_list) - i\n",
    "            else:\n",
    "                cart[i] = target - sum(cart) + item\n",
    "                return cart\n",
    "            \n",
    "    \n",
    "        \n",
    "test='20000000 10000000 4'\n",
    "n, k, b = [int(n) for n in test.split()]\n",
    "print('bonetrousle(n, k, b):\\t', bonetrousle(n, k, b))\n",
    "print('sum(bonetrousle(n, k, b)):\\t', sum(bonetrousle(n, k, b)))\n",
    "print('len(bonetrousle(n, k, b)):\\t', len(bonetrousle(n, k, b)))\n",
    "\n",
    "# 2 3 7\n",
    "# -1\n",
    "# 5 4\n",
    "# 1 8\n",
    "\n",
    "\n",
    "\n",
    "\n"
   ]
  },
  {
   "cell_type": "code",
   "execution_count": 273,
   "metadata": {
    "ExecuteTime": {
     "end_time": "2019-09-22T22:45:50.125289Z",
     "start_time": "2019-09-22T22:45:50.117296Z"
    }
   },
   "outputs": [
    {
     "name": "stdout",
     "output_type": "stream",
     "text": [
      "bonetrousle(n, k, b):\t [4999998, 4999999, 5000001, 5000002]\n",
      "sum(bonetrousle(n, k, b)):\t 20000000\n",
      "len(bonetrousle(n, k, b)):\t 4\n"
     ]
    }
   ],
   "source": [
    "test='20000000 10000000 4'\n",
    "n, k, b = [int(n) for n in test.split()]\n",
    "print('bonetrousle(n, k, b):\\t', bonetrousle(n, k, b))\n",
    "print('sum(bonetrousle(n, k, b)):\\t', sum(bonetrousle(n, k, b)))\n",
    "print('len(bonetrousle(n, k, b)):\\t', len(bonetrousle(n, k, b)))"
   ]
  },
  {
   "cell_type": "markdown",
   "metadata": {},
   "source": [
    "##### Soln 2"
   ]
  },
  {
   "cell_type": "code",
   "execution_count": 274,
   "metadata": {
    "ExecuteTime": {
     "end_time": "2019-09-22T22:46:18.438167Z",
     "start_time": "2019-09-22T22:46:01.599593Z"
    },
    "collapsed": true
   },
   "outputs": [
    {
     "name": "stdout",
     "output_type": "stream",
     "text": [
      "20000000 10000000 4\n"
     ]
    },
    {
     "ename": "ValueError",
     "evalue": "invalid literal for int() with base 10: '20000000 10000000 4'",
     "output_type": "error",
     "traceback": [
      "\u001b[1;31m---------------------------------------------------------------------------\u001b[0m",
      "\u001b[1;31mValueError\u001b[0m                                Traceback (most recent call last)",
      "\u001b[1;32m<ipython-input-274-6a70058300cb>\u001b[0m in \u001b[0;36m<module>\u001b[1;34m\u001b[0m\n\u001b[1;32m----> 1\u001b[1;33m \u001b[1;32mfor\u001b[0m \u001b[0m_\u001b[0m \u001b[1;32min\u001b[0m \u001b[0mrange\u001b[0m\u001b[1;33m(\u001b[0m\u001b[0mint\u001b[0m\u001b[1;33m(\u001b[0m\u001b[0minput\u001b[0m\u001b[1;33m(\u001b[0m\u001b[1;33m)\u001b[0m\u001b[1;33m)\u001b[0m\u001b[1;33m)\u001b[0m\u001b[1;33m:\u001b[0m\u001b[1;33m\u001b[0m\u001b[1;33m\u001b[0m\u001b[0m\n\u001b[0m\u001b[0;32m      2\u001b[0m     \u001b[0mn\u001b[0m\u001b[1;33m,\u001b[0m \u001b[0mk\u001b[0m\u001b[1;33m,\u001b[0m \u001b[0mb\u001b[0m \u001b[1;33m=\u001b[0m \u001b[0mmap\u001b[0m\u001b[1;33m(\u001b[0m\u001b[0mint\u001b[0m\u001b[1;33m,\u001b[0m \u001b[0minput\u001b[0m\u001b[1;33m(\u001b[0m\u001b[1;33m)\u001b[0m\u001b[1;33m.\u001b[0m\u001b[0msplit\u001b[0m\u001b[1;33m(\u001b[0m\u001b[1;33m)\u001b[0m\u001b[1;33m)\u001b[0m\u001b[1;33m\u001b[0m\u001b[1;33m\u001b[0m\u001b[0m\n\u001b[0;32m      3\u001b[0m     \u001b[1;32mif\u001b[0m \u001b[0mb\u001b[0m \u001b[1;33m*\u001b[0m \u001b[1;33m(\u001b[0m\u001b[0mk\u001b[0m \u001b[1;33m-\u001b[0m \u001b[0mb\u001b[0m\u001b[1;33m)\u001b[0m \u001b[1;33m+\u001b[0m \u001b[1;33m(\u001b[0m\u001b[0mb\u001b[0m \u001b[1;33m*\u001b[0m \u001b[1;33m(\u001b[0m\u001b[0mb\u001b[0m \u001b[1;33m+\u001b[0m \u001b[1;36m1\u001b[0m\u001b[1;33m)\u001b[0m\u001b[1;33m)\u001b[0m \u001b[1;33m//\u001b[0m \u001b[1;36m2\u001b[0m \u001b[1;33m<\u001b[0m \u001b[0mn\u001b[0m\u001b[1;33m:\u001b[0m\u001b[1;33m\u001b[0m\u001b[1;33m\u001b[0m\u001b[0m\n\u001b[0;32m      4\u001b[0m         \u001b[0mprint\u001b[0m\u001b[1;33m(\u001b[0m\u001b[1;33m-\u001b[0m\u001b[1;36m1\u001b[0m\u001b[1;33m)\u001b[0m\u001b[1;33m\u001b[0m\u001b[1;33m\u001b[0m\u001b[0m\n\u001b[0;32m      5\u001b[0m     \u001b[1;32melif\u001b[0m \u001b[1;33m(\u001b[0m\u001b[0mb\u001b[0m \u001b[1;33m*\u001b[0m \u001b[1;33m(\u001b[0m\u001b[0mb\u001b[0m \u001b[1;33m+\u001b[0m \u001b[1;36m1\u001b[0m\u001b[1;33m)\u001b[0m\u001b[1;33m)\u001b[0m \u001b[1;33m//\u001b[0m \u001b[1;36m2\u001b[0m \u001b[1;33m>\u001b[0m \u001b[0mn\u001b[0m\u001b[1;33m:\u001b[0m\u001b[1;33m\u001b[0m\u001b[1;33m\u001b[0m\u001b[0m\n",
      "\u001b[1;31mValueError\u001b[0m: invalid literal for int() with base 10: '20000000 10000000 4'"
     ]
    }
   ],
   "source": [
    "for _ in range(int(input())):\n",
    "    n, k, b = map(int, input().split())\n",
    "    if b * (k - b) + (b * (b + 1)) // 2 < n:\n",
    "        print(-1)\n",
    "    elif (b * (b + 1)) // 2 > n:\n",
    "        print(-1)\n",
    "    else:\n",
    "        i = (n - (b * (b + 1) // 2)) // b + 1\n",
    "        c = list(range(i, i + b))\n",
    "        s = sum(c)\n",
    "        j = 1\n",
    "        while s != n and j <= len(c):\n",
    "            tmp = min(c[-j] + n - s, k - j + 1) - c[-j]\n",
    "            c[-j] = min(c[-j] + n - s, k - j + 1)\n",
    "            s += tmp\n",
    "            j += 1\n",
    "        print(\" \".join(map(str, c)))"
   ]
  },
  {
   "cell_type": "code",
   "execution_count": 273,
   "metadata": {
    "ExecuteTime": {
     "end_time": "2019-09-22T22:45:50.125289Z",
     "start_time": "2019-09-22T22:45:50.117296Z"
    }
   },
   "outputs": [
    {
     "name": "stdout",
     "output_type": "stream",
     "text": [
      "bonetrousle(n, k, b):\t [4999998, 4999999, 5000001, 5000002]\n",
      "sum(bonetrousle(n, k, b)):\t 20000000\n",
      "len(bonetrousle(n, k, b)):\t 4\n"
     ]
    }
   ],
   "source": [
    "test='20000000 10000000 4'\n",
    "n, k, b = [int(n) for n in test.split()]\n",
    "print('bonetrousle(n, k, b):\\t', bonetrousle(n, k, b))\n",
    "print('sum(bonetrousle(n, k, b)):\\t', sum(bonetrousle(n, k, b)))\n",
    "print('len(bonetrousle(n, k, b)):\\t', len(bonetrousle(n, k, b)))"
   ]
  },
  {
   "cell_type": "markdown",
   "metadata": {},
   "source": [
    "##### Soln 3"
   ]
  },
  {
   "cell_type": "code",
   "execution_count": null,
   "metadata": {},
   "outputs": [],
   "source": [
    "trips = int(input())\n",
    "\n",
    "for t in range(trips):\n",
    "    sticks_buy, boxes_sale, boxes_buy = input().strip().split()\n",
    "    sticks_buy, boxes_sale, boxes_buy = [int(sticks_buy), int(boxes_sale), int(boxes_buy)]\n",
    "    \n",
    "    bought = []\n",
    "    for i in range(boxes_buy):\n",
    "        bought.append(i+1)\n",
    "    \n",
    "    difference = sticks_buy - sum(bought)\n",
    "    div = difference // boxes_buy\n",
    "    mod = difference % boxes_buy\n",
    "    if div < 0:\n",
    "        print(-1)\n",
    "    elif sum(bought) > sticks_buy:\n",
    "        print(-1)\n",
    "    else:\n",
    "        #create the smallest set of numbers that equals the target\n",
    "        for i in range(len(bought)): #distribute evenly across all numbers\n",
    "            bought[i] += div\n",
    "        for i in range(1,mod+1): #distribute remainder evenly starting from the end to ensure no number is larger than the next\n",
    "            bought[-i] += 1\n",
    "        \n",
    "        if bought[-1] > boxes_sale:\n",
    "            print(-1)\n",
    "        else:\n",
    "            print(*bought)"
   ]
  },
  {
   "cell_type": "markdown",
   "metadata": {},
   "source": [
    "##### Soln 4"
   ]
  },
  {
   "cell_type": "code",
   "execution_count": null,
   "metadata": {},
   "outputs": [],
   "source": [
    "from itertools import chain\n",
    "\n",
    "\n",
    "def inc_range(start, end):\n",
    "    return range(start, end + 1)\n",
    "\n",
    "\n",
    "def solve(n, k, b):\n",
    "    so_far = b * (b + 1) // 2\n",
    "    if so_far > n:\n",
    "        return None\n",
    "\n",
    "    remaining = n - so_far\n",
    "    if remaining > b * (k - b):\n",
    "        return None\n",
    "\n",
    "    steps, q = divmod(remaining, k - b) if k > b else (0, 0)\n",
    "    ranges = [\n",
    "        inc_range(1, b - 1 - steps),\n",
    "        [b - steps + q] if b - steps + q > 0 else [],\n",
    "        inc_range(k - steps + 1, k)\n",
    "    ]\n",
    "    return list(chain(*ranges))\n",
    "\n",
    "\n",
    "def main():\n",
    "    trips = int(input())\n",
    "    for _ in range(trips):\n",
    "        n, k, b = list(map(int, input().split()))\n",
    "        solution = solve(n, k, b)\n",
    "        if solution is None:\n",
    "            print(-1)\n",
    "        else:\n",
    "            print(\" \".join(map(str, solution)))\n",
    "\n",
    "\n",
    "def test():\n",
    "    assert [1, 3, 8] == solve(12, 8, 3)\n",
    "    assert [1, 4, 8] == solve(13, 8, 3)\n",
    "    assert [1, 7, 8] == solve(16, 8, 3)\n",
    "    assert [2, 7, 8] == solve(17, 8, 3)\n",
    "    assert [6, 7, 8] == solve(21, 8, 3)\n",
    "    assert [1, 2, 3, 4, 5, 6, 7, 8] == solve(36, 8, 8)\n",
    "    assert solve(37, 8, 8) is None\n",
    "\n",
    "\n",
    "if __name__ == '__main__':\n",
    "    main()"
   ]
  },
  {
   "cell_type": "code",
   "execution_count": null,
   "metadata": {},
   "outputs": [],
   "source": [
    "\n",
    "def bonetrousle(n, k, b):\n",
    "    if k < b:\n",
    "        return None\n",
    "    min_sticks = sum(range(1, 1 + b))\n",
    "    max_sticks = sum(range(k + 1 - b, k + 1))\n",
    "\n",
    "    if not (min_sticks <= n and n <= max_sticks):\n",
    "        return None\n",
    "\n",
    "    sticks_to_add = n - min_sticks\n",
    "    sticks_add_per_box = k - b\n",
    "\n",
    "    result = []\n",
    "    for i in range(b, 0, -1):  # iterate backwards from k to 1\n",
    "        if sticks_to_add > sticks_add_per_box:\n",
    "            sticks_to_add -= sticks_add_per_box\n",
    "            result.append(i + sticks_add_per_box)\n",
    "        else:\n",
    "            result.append(i + sticks_to_add)\n",
    "            sticks_to_add = 0\n",
    "\n",
    "    return result\n",
    "\n",
    "t = int(input())\n",
    "for _ in range(t):\n",
    "    n, k, b = [int(s) for s in input().split()]\n",
    "    result = bonetrousle(n, k, b)\n",
    "    print(-1 if result is None else ' '.join(str(i) for i in result))"
   ]
  },
  {
   "cell_type": "code",
   "execution_count": null,
   "metadata": {},
   "outputs": [],
   "source": [
    "for _ in range(int(input())):\n",
    "    N, K, B = map(int, input().split())\n",
    "    result = []\n",
    "    while B:\n",
    "        subRes = N - B * (B - 1) // 2\n",
    "        if subRes < B:\n",
    "            print(-1)\n",
    "            break\n",
    "        \n",
    "        if subRes > K:\n",
    "            result += [K]\n",
    "            N -= K\n",
    "            K -= 1\n",
    "            if min(N, K) < 0:\n",
    "                print(-1)\n",
    "                break\n",
    "        else:\n",
    "            result += [subRes]\n",
    "            result += range(B - 1, 0, -1)\n",
    "            print(*reversed(result))\n",
    "            break\n",
    "        \n",
    "        B -= 1\n",
    "    else:\n",
    "        if N:\n",
    "            print(-1)\n",
    "        else:\n",
    "            print(*reversed(result))"
   ]
  },
  {
   "cell_type": "code",
   "execution_count": null,
   "metadata": {},
   "outputs": [],
   "source": [
    "for _ in range(int(input())):\n",
    "    n, k, b = map(int, input().split())\n",
    "    \n",
    "    t = b*(b+1)//2\n",
    "    if t > n:\n",
    "        print(-1)\n",
    "        continue\n",
    "    \n",
    "    i = (n - t) // b\n",
    "    x = n - t - i*b\n",
    "    \n",
    "    if i+b+(x != 0) > k:\n",
    "        print(-1)\n",
    "        continue\n",
    "        \n",
    "    print(*(i+1+j+(b-j<=x) for j in range(b)))\n",
    "        \n",
    "        \n",
    "    \n",
    "    "
   ]
  },
  {
   "cell_type": "raw",
   "metadata": {
    "ExecuteTime": {
     "end_time": "2019-09-22T00:25:26.849168Z",
     "start_time": "2019-09-22T00:25:26.819186Z"
    }
   },
   "source": [
    "5//1\n",
    "5//2\n",
    "5//3\n",
    "5//4\n",
    "5//5\n",
    "5//6\n",
    "-5//6\n",
    "5//-6\n",
    "5//-4"
   ]
  }
 ],
 "metadata": {
  "hide_input": false,
  "kernelspec": {
   "display_name": "Python 3",
   "language": "python",
   "name": "python3"
  },
  "language_info": {
   "codemirror_mode": {
    "name": "ipython",
    "version": 3
   },
   "file_extension": ".py",
   "mimetype": "text/x-python",
   "name": "python",
   "nbconvert_exporter": "python",
   "pygments_lexer": "ipython3",
   "version": "3.7.1"
  },
  "toc": {
   "base_numbering": 1,
   "nav_menu": {},
   "number_sections": true,
   "sideBar": true,
   "skip_h1_title": false,
   "title_cell": "Table of Contents",
   "title_sidebar": "Contents",
   "toc_cell": true,
   "toc_position": {
    "height": "calc(100% - 180px)",
    "left": "10px",
    "top": "150px",
    "width": "273.188px"
   },
   "toc_section_display": true,
   "toc_window_display": false
  }
 },
 "nbformat": 4,
 "nbformat_minor": 2
}
