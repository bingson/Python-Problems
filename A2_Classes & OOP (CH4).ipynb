{
 "cells": [
  {
   "cell_type": "markdown",
   "metadata": {
    "toc": true
   },
   "source": [
    "<h1>Table of Contents<span class=\"tocSkip\"></span></h1>\n",
    "<div class=\"toc\"><ul class=\"toc-item\"><li><span><a href=\"#Classes-&amp;-OOP\" data-toc-modified-id=\"Classes-&amp;-OOP-1\"><span class=\"toc-item-num\">1&nbsp;&nbsp;</span>Classes &amp; OOP</a></span><ul class=\"toc-item\"><li><span><a href=\"#Object-Comparisons:-“is”-vs-“==”\" data-toc-modified-id=\"Object-Comparisons:-“is”-vs-“==”-1.1\"><span class=\"toc-item-num\">1.1&nbsp;&nbsp;</span>Object Comparisons: “is” vs “==”</a></span></li><li><span><a href=\"#String-Conversion-(Every-Class-Needs-a-__repr__)\" data-toc-modified-id=\"String-Conversion-(Every-Class-Needs-a-__repr__)-1.2\"><span class=\"toc-item-num\">1.2&nbsp;&nbsp;</span>String Conversion (Every Class Needs a <code>__repr__</code>)</a></span><ul class=\"toc-item\"><li><span><a href=\"#__str__-vs-__repr__\" data-toc-modified-id=\"__str__-vs-__repr__-1.2.1\"><span class=\"toc-item-num\">1.2.1&nbsp;&nbsp;</span><code>__str__</code> vs <code>__repr__</code></a></span></li><li><span><a href=\"#Why-Every-Class-Needs-a-__repr__\" data-toc-modified-id=\"Why-Every-Class-Needs-a-__repr__-1.2.2\"><span class=\"toc-item-num\">1.2.2&nbsp;&nbsp;</span>Why Every Class Needs a <code>__repr__</code></a></span></li></ul></li><li><span><a href=\"#Defining-Your-Own-Exception-Classes\" data-toc-modified-id=\"Defining-Your-Own-Exception-Classes-1.3\"><span class=\"toc-item-num\">1.3&nbsp;&nbsp;</span>Defining Your Own Exception Classes</a></span></li><li><span><a href=\"#Cloning-Objects-for-Fun-and-Profit\" data-toc-modified-id=\"Cloning-Objects-for-Fun-and-Profit-1.4\"><span class=\"toc-item-num\">1.4&nbsp;&nbsp;</span>Cloning Objects for Fun and Profit</a></span><ul class=\"toc-item\"><li><span><a href=\"#Making-Shallow-Copies\" data-toc-modified-id=\"Making-Shallow-Copies-1.4.1\"><span class=\"toc-item-num\">1.4.1&nbsp;&nbsp;</span>Making Shallow Copies</a></span></li><li><span><a href=\"#Making-Deep-Copies\" data-toc-modified-id=\"Making-Deep-Copies-1.4.2\"><span class=\"toc-item-num\">1.4.2&nbsp;&nbsp;</span>Making Deep Copies</a></span></li><li><span><a href=\"#Copying-Arbitrary-Objects\" data-toc-modified-id=\"Copying-Arbitrary-Objects-1.4.3\"><span class=\"toc-item-num\">1.4.3&nbsp;&nbsp;</span>Copying Arbitrary Objects</a></span></li><li><span><a href=\"#Key-Takeaways\" data-toc-modified-id=\"Key-Takeaways-1.4.4\"><span class=\"toc-item-num\">1.4.4&nbsp;&nbsp;</span>Key Takeaways</a></span></li></ul></li><li><span><a href=\"#Abstract-Base-Classes-Keep-Inheritance-in-Check\" data-toc-modified-id=\"Abstract-Base-Classes-Keep-Inheritance-in-Check-1.5\"><span class=\"toc-item-num\">1.5&nbsp;&nbsp;</span><font color=\"lightgrey\">Abstract Base Classes Keep Inheritance in Check</font></a></span></li><li><span><a href=\"#What-Namedtuples-Are-Good-For\" data-toc-modified-id=\"What-Namedtuples-Are-Good-For-1.6\"><span class=\"toc-item-num\">1.6&nbsp;&nbsp;</span>What Namedtuples Are Good For</a></span></li><li><span><a href=\"#Class-vs-Instance-Variable-Pitfalls\" data-toc-modified-id=\"Class-vs-Instance-Variable-Pitfalls-1.7\"><span class=\"toc-item-num\">1.7&nbsp;&nbsp;</span>Class vs Instance Variable Pitfalls</a></span></li><li><span><a href=\"#Instance,-Class,-and-Static-Methods-Demystified\" data-toc-modified-id=\"Instance,-Class,-and-Static-Methods-Demystified-1.8\"><span class=\"toc-item-num\">1.8&nbsp;&nbsp;</span>Instance, Class, and Static Methods Demystified</a></span></li></ul></li></ul></div>"
   ]
  },
  {
   "cell_type": "code",
   "execution_count": 12,
   "metadata": {
    "ExecuteTime": {
     "end_time": "2019-09-02T14:21:30.137073Z",
     "start_time": "2019-09-02T14:21:30.128286Z"
    }
   },
   "outputs": [],
   "source": [
    "# Pretty display multiple variables without print statement\n",
    "from IPython.core.interactiveshell import InteractiveShell\n",
    "InteractiveShell.ast_node_interactivity = \"all\""
   ]
  },
  {
   "cell_type": "markdown",
   "metadata": {},
   "source": [
    "# Classes & OOP"
   ]
  },
  {
   "cell_type": "markdown",
   "metadata": {
    "heading_collapsed": true
   },
   "source": [
    "## Object Comparisons: “is” vs “==”"
   ]
  },
  {
   "cell_type": "markdown",
   "metadata": {
    "hidden": true
   },
   "source": [
    "<div class=\"alert alert-block alert-info\">\n",
    "Boom! This is where we get a different result. Python is telling us that c and a are pointing to two different objects, even though their contents might be the same.\n",
    "\n",
    "**<font color = 'purple'>So, to recap, let’s try and break down the difference between is and\n",
    "== into two short definitions </font>**:\n",
    "\n",
    "* An ```is``` expression evaluates to ```True``` if two variables point to the same (identical) object.\n",
    "\n",
    "\n",
    "* An ```==``` expression evaluates to ```True``` if the objects referred to by the variables are equal (have the same contents)."
   ]
  },
  {
   "cell_type": "markdown",
   "metadata": {
    "hidden": true
   },
   "source": [
    "When I was a kid, our neighbors had two twin cats. They looked seem-\n",
    "ingly identical—the same charcoal fur and the same piercing green\n",
    "eyes. Some personality quirks aside, you couldn’t tell them apart just\n",
    "from looking at them. But of course, they were two different cats, two\n",
    "separate beings, even though they looked exactly the same.\n",
    "\n",
    "The ```==``` operator compares by checking for equality: if these cats were Python objects and we compared them with the ```==``` operator, we’d get “both cats are equal” as an answer.\n",
    "\n",
    "The ```is``` operator, however, compares identities: if we compared our cats with the ```is``` operator, we’d get “these are two different cats” as an answer.\n",
    "\n",
    "But before I get all tangled up in this ball-of-twine cat analogy, let’s take a look at some real Python code.\n",
    "\n",
    "**<font color = 'purple'>First, we’ll create a new list object and name it a, and then define another variable (b) that points to the same list object: </font>**"
   ]
  },
  {
   "cell_type": "code",
   "execution_count": 229,
   "metadata": {
    "ExecuteTime": {
     "end_time": "2019-09-02T23:06:58.974253Z",
     "start_time": "2019-09-02T23:06:58.968394Z"
    },
    "hidden": true
   },
   "outputs": [],
   "source": [
    ">>> a = [1, 2, 3]\n",
    ">>> b = a"
   ]
  },
  {
   "cell_type": "markdown",
   "metadata": {
    "hidden": true
   },
   "source": [
    "Let’s inspect these two variables. We can see that they point to identical-looking lists:"
   ]
  },
  {
   "cell_type": "code",
   "execution_count": 230,
   "metadata": {
    "ExecuteTime": {
     "end_time": "2019-09-02T23:07:28.335694Z",
     "start_time": "2019-09-02T23:07:28.327884Z"
    },
    "hidden": true
   },
   "outputs": [
    {
     "data": {
      "text/plain": [
       "[1, 2, 3]"
      ]
     },
     "execution_count": 230,
     "metadata": {},
     "output_type": "execute_result"
    },
    {
     "data": {
      "text/plain": [
       "[1, 2, 3]"
      ]
     },
     "execution_count": 230,
     "metadata": {},
     "output_type": "execute_result"
    }
   ],
   "source": [
    "a\n",
    "b"
   ]
  },
  {
   "cell_type": "markdown",
   "metadata": {
    "hidden": true
   },
   "source": [
    "Because the two list objects look the same, we’ll get the expected result\n",
    "when we compare them for equality by using the == operator:"
   ]
  },
  {
   "cell_type": "code",
   "execution_count": 231,
   "metadata": {
    "ExecuteTime": {
     "end_time": "2019-09-02T23:07:56.479571Z",
     "start_time": "2019-09-02T23:07:56.473717Z"
    },
    "hidden": true
   },
   "outputs": [
    {
     "data": {
      "text/plain": [
       "True"
      ]
     },
     "execution_count": 231,
     "metadata": {},
     "output_type": "execute_result"
    }
   ],
   "source": [
    "a == b"
   ]
  },
  {
   "cell_type": "markdown",
   "metadata": {
    "hidden": true
   },
   "source": [
    "**<font color = 'purple'>However, that doesn’t tell us whether a and b are actually pointing to the same object. Of course, we know they are because we assigned them earlier, but suppose we didn’t know—how might we find out? </font>**\n",
    "\n",
    "**<font color = 'green'>The answer is to compare both variables with the is operator</font>**. \n",
    "\n",
    "This confirms that both variables are in fact pointing to one list object:"
   ]
  },
  {
   "cell_type": "code",
   "execution_count": 232,
   "metadata": {
    "ExecuteTime": {
     "end_time": "2019-09-02T23:09:21.544182Z",
     "start_time": "2019-09-02T23:09:21.538324Z"
    },
    "hidden": true
   },
   "outputs": [
    {
     "data": {
      "text/plain": [
       "True"
      ]
     },
     "execution_count": 232,
     "metadata": {},
     "output_type": "execute_result"
    }
   ],
   "source": [
    "a is b"
   ]
  },
  {
   "cell_type": "markdown",
   "metadata": {
    "hidden": true
   },
   "source": [
    "Let’s see what happens when we create an identical copy of our list\n",
    "object. We can do that by calling list() on the existing list to create\n",
    "a copy we’ll name c:"
   ]
  },
  {
   "cell_type": "code",
   "execution_count": 235,
   "metadata": {
    "ExecuteTime": {
     "end_time": "2019-09-02T23:10:17.501785Z",
     "start_time": "2019-09-02T23:10:17.494952Z"
    },
    "hidden": true
   },
   "outputs": [
    {
     "data": {
      "text/plain": [
       "[1, 2, 3]"
      ]
     },
     "execution_count": 235,
     "metadata": {},
     "output_type": "execute_result"
    }
   ],
   "source": [
    "c = list(a)\n",
    "c"
   ]
  },
  {
   "cell_type": "markdown",
   "metadata": {
    "hidden": true
   },
   "source": [
    "Now this is where it gets interesting. Let’s compare our list copy c with\n",
    "the initial list a using the == operator. What answer do you expect to\n",
    "see?"
   ]
  },
  {
   "cell_type": "code",
   "execution_count": 236,
   "metadata": {
    "ExecuteTime": {
     "end_time": "2019-09-02T23:10:35.119058Z",
     "start_time": "2019-09-02T23:10:35.113203Z"
    },
    "hidden": true
   },
   "outputs": [
    {
     "data": {
      "text/plain": [
       "True"
      ]
     },
     "execution_count": 236,
     "metadata": {},
     "output_type": "execute_result"
    }
   ],
   "source": [
    "a == c"
   ]
  },
  {
   "cell_type": "markdown",
   "metadata": {
    "hidden": true
   },
   "source": [
    "Okay, I hope this was what you expected. What this result tells us is that c and a have the same contents. They’re considered equal by Python. But are they actually pointing to the same object? Let’s find out with the is operator:"
   ]
  },
  {
   "cell_type": "code",
   "execution_count": 237,
   "metadata": {
    "ExecuteTime": {
     "end_time": "2019-09-02T23:10:42.062886Z",
     "start_time": "2019-09-02T23:10:42.057031Z"
    },
    "hidden": true
   },
   "outputs": [
    {
     "data": {
      "text/plain": [
       "False"
      ]
     },
     "execution_count": 237,
     "metadata": {},
     "output_type": "execute_result"
    }
   ],
   "source": [
    "a is c"
   ]
  },
  {
   "cell_type": "markdown",
   "metadata": {},
   "source": [
    "## String Conversion (Every Class Needs a ```__repr__```)"
   ]
  },
  {
   "cell_type": "code",
   "execution_count": 240,
   "metadata": {
    "ExecuteTime": {
     "end_time": "2019-09-02T23:13:56.195186Z",
     "start_time": "2019-09-02T23:13:56.189328Z"
    }
   },
   "outputs": [],
   "source": [
    "class Car:\n",
    "    def __init__(self, color, mileage):\n",
    "        self.color = color\n",
    "        self.mileage = mileage\n",
    "\n",
    "my_car = Car('red', 37281)"
   ]
  },
  {
   "cell_type": "code",
   "execution_count": 241,
   "metadata": {
    "ExecuteTime": {
     "end_time": "2019-09-02T23:14:04.223421Z",
     "start_time": "2019-09-02T23:14:04.217564Z"
    }
   },
   "outputs": [
    {
     "name": "stdout",
     "output_type": "stream",
     "text": [
      "<__main__.Car object at 0x000001ED746F06A0>\n"
     ]
    }
   ],
   "source": [
    "print(my_car)"
   ]
  },
  {
   "cell_type": "code",
   "execution_count": 243,
   "metadata": {
    "ExecuteTime": {
     "end_time": "2019-09-02T23:14:13.438652Z",
     "start_time": "2019-09-02T23:14:13.431819Z"
    }
   },
   "outputs": [
    {
     "data": {
      "text/plain": [
       "<__main__.Car at 0x1ed746f06a0>"
      ]
     },
     "execution_count": 243,
     "metadata": {},
     "output_type": "execute_result"
    }
   ],
   "source": [
    "my_car"
   ]
  },
  {
   "cell_type": "markdown",
   "metadata": {},
   "source": [
    "<font color = 'blue'>By default all you get is a string containing the class name and the id of\n",
    "the object instance</font> (which is the object’s memory address in CPython.)\n",
    "That’s better than nothing, but it’s also not very useful."
   ]
  },
  {
   "cell_type": "markdown",
   "metadata": {},
   "source": [
    "You might find yourself trying to work around this by printing attributes of the class directly, or even by adding a custom to_string() method to your classes:"
   ]
  },
  {
   "cell_type": "code",
   "execution_count": 244,
   "metadata": {
    "ExecuteTime": {
     "end_time": "2019-09-02T23:15:33.897616Z",
     "start_time": "2019-09-02T23:15:33.892735Z"
    }
   },
   "outputs": [
    {
     "name": "stdout",
     "output_type": "stream",
     "text": [
      "red 37281\n"
     ]
    }
   ],
   "source": [
    "print(my_car.color, my_car.mileage)"
   ]
  },
  {
   "cell_type": "markdown",
   "metadata": {},
   "source": [
    "Instead of building your own to-string conversion machinery, you’ll be better off adding the ```__str__``` and ```__repr__``` “dunder” methods to your class. They are the Pythonic way to control how objects are converted to strings in different situations."
   ]
  },
  {
   "cell_type": "code",
   "execution_count": 245,
   "metadata": {
    "ExecuteTime": {
     "end_time": "2019-09-02T23:17:22.028018Z",
     "start_time": "2019-09-02T23:17:22.022159Z"
    }
   },
   "outputs": [],
   "source": [
    "class Car:\n",
    "    def __init__(self, color, mileage):\n",
    "        self.color = color\n",
    "        self.mileage = mileage\n",
    "\n",
    "    def __str__(self):\n",
    "        return f'a {self.color} car'"
   ]
  },
  {
   "cell_type": "code",
   "execution_count": 248,
   "metadata": {
    "ExecuteTime": {
     "end_time": "2019-09-02T23:18:08.667528Z",
     "start_time": "2019-09-02T23:18:08.659716Z"
    }
   },
   "outputs": [
    {
     "name": "stdout",
     "output_type": "stream",
     "text": [
      "a red car\n"
     ]
    },
    {
     "data": {
      "text/plain": [
       "<__main__.Car at 0x1ed746f0b00>"
      ]
     },
     "execution_count": 248,
     "metadata": {},
     "output_type": "execute_result"
    }
   ],
   "source": [
    "my_car = Car('red', 37281)\n",
    "print(my_car)\n",
    "\n",
    "my_car"
   ]
  },
  {
   "cell_type": "markdown",
   "metadata": {},
   "source": [
    "Inspecting the car object in the console still gives us the previous result containing the object’s id. \n",
    "\n",
    "<font color = 'green'>But printing the object resulted in the string returned by the ```__str__``` method we added. ```__str__``` is one of Python’s “dunder” (double-underscore) methods and gets called when you try to convert an object into a string through the various means that are available</font>:\n",
    "\n",
    "https://docs.python.org/3.6/reference/datamodel.html#object.__repr__"
   ]
  },
  {
   "cell_type": "code",
   "execution_count": 251,
   "metadata": {
    "ExecuteTime": {
     "end_time": "2019-09-02T23:20:43.163890Z",
     "start_time": "2019-09-02T23:20:43.150222Z"
    }
   },
   "outputs": [
    {
     "name": "stdout",
     "output_type": "stream",
     "text": [
      "a red car\n"
     ]
    },
    {
     "data": {
      "text/plain": [
       "'a red car'"
      ]
     },
     "execution_count": 251,
     "metadata": {},
     "output_type": "execute_result"
    },
    {
     "data": {
      "text/plain": [
       "'a red car'"
      ]
     },
     "execution_count": 251,
     "metadata": {},
     "output_type": "execute_result"
    },
    {
     "data": {
      "text/plain": [
       "'a red car'"
      ]
     },
     "execution_count": 251,
     "metadata": {},
     "output_type": "execute_result"
    }
   ],
   "source": [
    "print(my_car)\n",
    "str(my_car)\n",
    "'{}'.format(my_car)\n",
    "f\"{my_car}\""
   ]
  },
  {
   "cell_type": "markdown",
   "metadata": {},
   "source": [
    "With a proper ```__str__``` implementation, you won’t have to worry about printing object attributes directly or writing a separate to_string() function. It’s the Pythonic way to control string conversion."
   ]
  },
  {
   "cell_type": "markdown",
   "metadata": {},
   "source": [
    "By the way, some people refer to Python’s “dunder” methods as “magic methods.” But these methods are not supposed to be magical in any way. The fact that these methods start and end in double underscores is simply a naming convention to flag them as core Python features. It also helps avoid naming collisions with your own methods and attributes. The object constructor ```__init__``` follows the same convention, and there’s nothing magical or arcane about it."
   ]
  },
  {
   "cell_type": "markdown",
   "metadata": {
    "heading_collapsed": true
   },
   "source": [
    "### ```__str__``` vs ```__repr__```"
   ]
  },
  {
   "cell_type": "markdown",
   "metadata": {
    "hidden": true
   },
   "source": [
    "Now, our string conversion story doesn’t end there. Did you see how inspecting my_car in an interpreter session still gave that odd <Car object at 0x109ca24e0> result?\n",
    "\n",
    "**<font color = 'purple'>This happened because there are actually two dunder methods that control how objects are converted to strings in Python 3 </font>**. \n",
    "\n",
    "1. The first one is ```__str__```, and you just learned about it. \n",
    "\n",
    "2. The second one is ```__repr__```, and the way it works is similar to ```__str__```, but it is used in different situations. <font color = 'lightgrey'>(Python 2.x also has a ```__unicode__``` method that I’ll touch on a little later.)</font>"
   ]
  },
  {
   "cell_type": "markdown",
   "metadata": {
    "hidden": true
   },
   "source": [
    "Here’s a simple experiment you can use to get a feel for when ```__str__``` or ```__repr__``` is used. Let’s redefine our car class so it contains both tostring dunder methods with outputs that are easy to distinguish:"
   ]
  },
  {
   "cell_type": "code",
   "execution_count": 252,
   "metadata": {
    "ExecuteTime": {
     "end_time": "2019-09-02T23:24:14.263298Z",
     "start_time": "2019-09-02T23:24:14.256464Z"
    },
    "hidden": true
   },
   "outputs": [],
   "source": [
    "class Car:\n",
    "    def __init__(self, color, mileage):\n",
    "        self.color = color\n",
    "        self.mileage = mileage\n",
    "\n",
    "    def __repr__(self):\n",
    "        return '__repr__ for Car'\n",
    "\n",
    "    def __str__(self):\n",
    "        return '__str__ for Car'"
   ]
  },
  {
   "cell_type": "code",
   "execution_count": 259,
   "metadata": {
    "ExecuteTime": {
     "end_time": "2019-09-02T23:25:51.155186Z",
     "start_time": "2019-09-02T23:25:51.140544Z"
    },
    "hidden": true
   },
   "outputs": [
    {
     "name": "stdout",
     "output_type": "stream",
     "text": [
      "__str__ for Car\n"
     ]
    },
    {
     "data": {
      "text/plain": [
       "'__str__ for Car'"
      ]
     },
     "execution_count": 259,
     "metadata": {},
     "output_type": "execute_result"
    },
    {
     "data": {
      "text/plain": [
       "'__str__ for Car'"
      ]
     },
     "execution_count": 259,
     "metadata": {},
     "output_type": "execute_result"
    },
    {
     "data": {
      "text/plain": [
       "'__str__ for Car'"
      ]
     },
     "execution_count": 259,
     "metadata": {},
     "output_type": "execute_result"
    },
    {
     "data": {
      "text/plain": [
       "__repr__ for Car"
      ]
     },
     "execution_count": 259,
     "metadata": {},
     "output_type": "execute_result"
    }
   ],
   "source": [
    "my_car = Car('red', 37281)\n",
    "\n",
    "print(my_car)\n",
    "str(my_car)\n",
    "'{}'.format(my_car)\n",
    "f\"{my_car}\"\n",
    "\n",
    "my_car"
   ]
  },
  {
   "cell_type": "markdown",
   "metadata": {
    "hidden": true
   },
   "source": [
    "<font color = 'blue'>This experiment confirms that inspecting an object in a Python interpreter session simply prints the result of the object’s ```__repr__```.</font>\n",
    "\n",
    "<font color = 'blue'>Interestingly, containers like lists and dicts always use the result of ```__repr__``` to represent the objects they contain. Even if you call str on the container itself</font>:"
   ]
  },
  {
   "cell_type": "code",
   "execution_count": 261,
   "metadata": {
    "ExecuteTime": {
     "end_time": "2019-09-02T23:27:21.487009Z",
     "start_time": "2019-09-02T23:27:21.478222Z"
    },
    "hidden": true
   },
   "outputs": [
    {
     "data": {
      "text/plain": [
       "'[__repr__ for Car]'"
      ]
     },
     "execution_count": 261,
     "metadata": {},
     "output_type": "execute_result"
    }
   ],
   "source": [
    "str([my_car])"
   ]
  },
  {
   "cell_type": "markdown",
   "metadata": {
    "hidden": true
   },
   "source": [
    "To manually choose between both string conversion methods, for example, to express your code’s intent more clearly, it’s best to use the built-in ```str()``` and ```repr()``` functions. Using them is preferable over calling the object’s ```__str__``` or ```__repr__``` directly, as it looks nicer and gives the same result:"
   ]
  },
  {
   "cell_type": "code",
   "execution_count": 263,
   "metadata": {
    "ExecuteTime": {
     "end_time": "2019-09-02T23:29:40.266313Z",
     "start_time": "2019-09-02T23:29:40.257527Z"
    },
    "hidden": true
   },
   "outputs": [
    {
     "data": {
      "text/plain": [
       "'__str__ for Car'"
      ]
     },
     "execution_count": 263,
     "metadata": {},
     "output_type": "execute_result"
    },
    {
     "data": {
      "text/plain": [
       "'__repr__ for Car'"
      ]
     },
     "execution_count": 263,
     "metadata": {},
     "output_type": "execute_result"
    }
   ],
   "source": [
    "str(my_car)\n",
    "\n",
    "repr(my_car)"
   ]
  },
  {
   "cell_type": "code",
   "execution_count": 264,
   "metadata": {
    "ExecuteTime": {
     "end_time": "2019-09-02T23:30:22.827052Z",
     "start_time": "2019-09-02T23:30:22.821192Z"
    },
    "hidden": true
   },
   "outputs": [],
   "source": [
    ">>> import datetime\n",
    ">>> today = datetime.date.today()"
   ]
  },
  {
   "cell_type": "code",
   "execution_count": 267,
   "metadata": {
    "ExecuteTime": {
     "end_time": "2019-09-02T23:31:31.476712Z",
     "start_time": "2019-09-02T23:31:31.470855Z"
    },
    "hidden": true
   },
   "outputs": [
    {
     "data": {
      "text/plain": [
       "'2019-09-02'"
      ]
     },
     "execution_count": 267,
     "metadata": {},
     "output_type": "execute_result"
    }
   ],
   "source": [
    "str(today)"
   ]
  },
  {
   "cell_type": "markdown",
   "metadata": {
    "hidden": true
   },
   "source": [
    "The result of the date object’s ```__str__``` function should primarily be readable. <font color = 'blue'>It’s meant to return a concise textual representation for human consumption—something you’d feel comfortable displaying to a user</font>. \n",
    "\n",
    "Therefore, we get something that looks like an ISO date format when we call ```str()``` on the date object:"
   ]
  },
  {
   "cell_type": "code",
   "execution_count": 266,
   "metadata": {
    "ExecuteTime": {
     "end_time": "2019-09-02T23:30:37.254124Z",
     "start_time": "2019-09-02T23:30:37.246315Z"
    },
    "hidden": true
   },
   "outputs": [
    {
     "data": {
      "text/plain": [
       "'2019-09-02'"
      ]
     },
     "execution_count": 266,
     "metadata": {},
     "output_type": "execute_result"
    },
    {
     "data": {
      "text/plain": [
       "'datetime.date(2019, 9, 2)'"
      ]
     },
     "execution_count": 266,
     "metadata": {},
     "output_type": "execute_result"
    }
   ],
   "source": [
    "repr(today)"
   ]
  },
  {
   "cell_type": "markdown",
   "metadata": {
    "hidden": true
   },
   "source": [
    "<font color = 'blue'>With ```__repr__```, the idea is that its result should be, above all, unambiguous. The resulting string is intended more as a debugging aid for developers. And for that it needs to be as explicit as possible about what this object is. That’s why you’ll get a more elaborate result calling ```repr()``` on the object</font>. It even includes the full module and class name:"
   ]
  },
  {
   "cell_type": "markdown",
   "metadata": {},
   "source": [
    "### Why Every Class Needs a ```__repr__```"
   ]
  },
  {
   "cell_type": "markdown",
   "metadata": {},
   "source": [
    "If you don’t add a ```__str__``` method, Python falls back on the result of ```__repr__``` when looking for ```__str__```. Therefore, I recommend that you always add at least a ```__repr__``` method to your classes. This will guarantee a useful string conversion result in almost all cases, with a minimum of implementation work.\n",
    "\n",
    "Here’s how to add basic string conversion support to your classes quickly and efficiently. For our Car class we might start with the following ```__repr__```:"
   ]
  },
  {
   "cell_type": "code",
   "execution_count": 268,
   "metadata": {
    "ExecuteTime": {
     "end_time": "2019-09-02T23:34:47.203738Z",
     "start_time": "2019-09-02T23:34:47.197882Z"
    }
   },
   "outputs": [],
   "source": [
    "def __repr__(self):\n",
    "    return f'Car({self.color!r}, {self.mileage!r})'"
   ]
  },
  {
   "cell_type": "markdown",
   "metadata": {},
   "source": [
    "Please note that I’m using the ```!r``` conversion flag to make sure the output string uses ```repr(self.color)``` and ```repr(self.mileage)``` instead of ```str(self.color)``` and ```str(self.mileage)```."
   ]
  },
  {
   "cell_type": "markdown",
   "metadata": {},
   "source": [
    "This works nicely, but one downside is that we’ve repeated the class name inside the format string. A trick you can use here to avoid this repetition is to use the object’s ```__class__.__name__``` attribute, which will always reflect the class’ name as a string.\n",
    "\n",
    "The benefit is you won’t have to modify the ```__repr__``` implementation when the class name changes. This makes it easy to adhere to the Don’t Repeat Yourself (DRY) principle:"
   ]
  },
  {
   "cell_type": "code",
   "execution_count": 275,
   "metadata": {
    "ExecuteTime": {
     "end_time": "2019-09-02T23:40:32.380060Z",
     "start_time": "2019-09-02T23:40:32.374204Z"
    }
   },
   "outputs": [],
   "source": [
    "class Car:\n",
    "    def __init__(self, color, mileage):\n",
    "        self.color = color\n",
    "        self.mileage = mileage\n",
    "        \n",
    "    def __repr__(self):\n",
    "        return (f'{self.__class__.__name__}('f'{self.color!r}, {self.mileage!r})')"
   ]
  },
  {
   "cell_type": "markdown",
   "metadata": {},
   "source": [
    "With the above ```__repr__``` implementation, we get a useful result when\n",
    "we inspect the object or call ```repr()``` on it directly:"
   ]
  },
  {
   "cell_type": "code",
   "execution_count": 279,
   "metadata": {
    "ExecuteTime": {
     "end_time": "2019-09-02T23:41:46.579380Z",
     "start_time": "2019-09-02T23:41:46.569620Z"
    }
   },
   "outputs": [
    {
     "name": "stdout",
     "output_type": "stream",
     "text": [
      "Car('red', 37281)\n"
     ]
    },
    {
     "data": {
      "text/plain": [
       "\"Car('red', 37281)\""
      ]
     },
     "execution_count": 279,
     "metadata": {},
     "output_type": "execute_result"
    },
    {
     "data": {
      "text/plain": [
       "Car('red', 37281)"
      ]
     },
     "execution_count": 279,
     "metadata": {},
     "output_type": "execute_result"
    }
   ],
   "source": [
    "my_car = Car('red', 37281)\n",
    "print(my_car)\n",
    "str(my_car)\n",
    "my_car"
   ]
  },
  {
   "cell_type": "code",
   "execution_count": 280,
   "metadata": {
    "ExecuteTime": {
     "end_time": "2019-09-02T23:42:17.007303Z",
     "start_time": "2019-09-02T23:42:17.000466Z"
    }
   },
   "outputs": [
    {
     "data": {
      "text/plain": [
       "\"Car('red', 37281)\""
      ]
     },
     "execution_count": 280,
     "metadata": {},
     "output_type": "execute_result"
    }
   ],
   "source": [
    "repr(my_car)"
   ]
  },
  {
   "cell_type": "markdown",
   "metadata": {},
   "source": [
    "Here’s a complete example for Python 3, including an optional\n",
    "```__str__``` implementation:"
   ]
  },
  {
   "cell_type": "code",
   "execution_count": 281,
   "metadata": {
    "ExecuteTime": {
     "end_time": "2019-09-02T23:43:04.106990Z",
     "start_time": "2019-09-02T23:43:04.099179Z"
    }
   },
   "outputs": [],
   "source": [
    "class Car:\n",
    "    def __init__(self, color, mileage):\n",
    "        self.color = color\n",
    "        self.mileage = mileage\n",
    "\n",
    "    def __repr__(self):\n",
    "        return (f'{self.__class__.__name__}('\n",
    "                f'{self.color!r}, {self.mileage!r})')\n",
    "\n",
    "    def __str__(self):\n",
    "        return f'a {self.color} car'"
   ]
  },
  {
   "cell_type": "markdown",
   "metadata": {},
   "source": [
    "## Defining Your Own Exception Classes"
   ]
  },
  {
   "cell_type": "markdown",
   "metadata": {},
   "source": [
    "## Cloning Objects for Fun and Profit"
   ]
  },
  {
   "cell_type": "markdown",
   "metadata": {},
   "source": [
    "<div class=\"alert alert-block alert-info\">\n",
    "    \n",
    "• Making a shallow copy of an object won’t clone child objects. Therefore, the copy is not fully independent of the original. \n",
    " \n",
    " • A deep copy of an object will recursively clone child objects. The clone is fully independent of the original, but creating a deep copy is slower. \n",
    " \n",
    " • You can copy arbitrary objects (including custom classes) with the copy module."
   ]
  },
  {
   "cell_type": "markdown",
   "metadata": {},
   "source": [
    "Assignment statements in Python do not create copies of objects, they only bind names to an object. For immutable objects, that usually doesn’t make a difference.\n",
    "\n",
    "But for working with mutable objects or collections of mutable objects, you might be looking for a way to create “real copies” or “clones” of these objects.\n",
    "\n",
    "<font color = 'blue'>Essentially, you’ll sometimes want copies that you can modify without automatically modifying the original at the same time</font>. **<font color = 'purple'>In this chapter I’m going to give you the rundown on how to copy or “clone” objects in Python and some of the caveats involved. </font>**"
   ]
  },
  {
   "cell_type": "markdown",
   "metadata": {},
   "source": [
    "Let’s start by looking at how to copy Python’s built-in collections. **<font color = 'purple'>Python’s built-in mutable collections like lists, dicts, and sets can be copied by calling their factory functions on an existing collection </font>**:"
   ]
  },
  {
   "cell_type": "raw",
   "metadata": {
    "ExecuteTime": {
     "end_time": "2019-09-03T00:05:32.996022Z",
     "start_time": "2019-09-03T00:05:32.982354Z"
    }
   },
   "source": [
    "new_list = list(original_list)\n",
    "new_dict = dict(original_dict)\n",
    "new_set = set(original_set)"
   ]
  },
  {
   "cell_type": "markdown",
   "metadata": {},
   "source": [
    "<font color = 'red'>However, this method won’t work for custom objects and, on top of that, it only creates shallow copies</font>.\n",
    "\n",
    "**<font color = 'purple'>For compound objects like lists, dicts, and sets, there’s an important difference between shallow and deep copying: </font>**\n",
    "\n",
    "> <font color = 'green'>A <span style='background-color: lightgreen'>shallow copy</span> means constructing a new collection object and then populating it with references to the child objects found in the original</font>. \n",
    "\n",
    "In essence, a shallow copy is only one level deep. The copying process does not recurse and therefore won’t create copies of the child objects themselves.\n",
    "\n",
    "> <font color = 'green'>A <span style='background-color: lightgreen'>deep copy</span> makes the copying process recursive. It means first constructing a new collection object and then recursively populating it with copies of the child objects found in the original</font>. \n",
    "\n",
    "<font color = 'red'>**Copying an object this way walks the whole object tree to create a fully independent clone of the original object and all of its children**</font>."
   ]
  },
  {
   "cell_type": "markdown",
   "metadata": {
    "heading_collapsed": true
   },
   "source": [
    "### Making Shallow Copies"
   ]
  },
  {
   "cell_type": "markdown",
   "metadata": {
    "hidden": true
   },
   "source": [
    "In the example below, we’ll create a new nested list and then shallowly\n",
    "copy it with the ```list()``` factory function:"
   ]
  },
  {
   "cell_type": "code",
   "execution_count": 305,
   "metadata": {
    "ExecuteTime": {
     "end_time": "2019-09-03T00:25:45.038557Z",
     "start_time": "2019-09-03T00:25:45.032698Z"
    },
    "hidden": true
   },
   "outputs": [],
   "source": [
    "xs = [[1, 2, 3], [4, 5, 6], [7, 8, 9]]\n",
    "ys = list(xs) # Make a shallow copy"
   ]
  },
  {
   "cell_type": "markdown",
   "metadata": {
    "hidden": true
   },
   "source": [
    "This means ```ys``` will now be a new and independent object with the same contents as ```xs```. You can verify this by inspecting both objects:"
   ]
  },
  {
   "cell_type": "code",
   "execution_count": 306,
   "metadata": {
    "ExecuteTime": {
     "end_time": "2019-09-03T00:25:47.339675Z",
     "start_time": "2019-09-03T00:25:47.329911Z"
    },
    "hidden": true,
    "scrolled": true
   },
   "outputs": [
    {
     "data": {
      "text/plain": [
       "[[1, 2, 3], [4, 5, 6], [7, 8, 9]]"
      ]
     },
     "execution_count": 306,
     "metadata": {},
     "output_type": "execute_result"
    },
    {
     "data": {
      "text/plain": [
       "[[1, 2, 3], [4, 5, 6], [7, 8, 9]]"
      ]
     },
     "execution_count": 306,
     "metadata": {},
     "output_type": "execute_result"
    }
   ],
   "source": [
    "xs\n",
    "ys"
   ]
  },
  {
   "cell_type": "markdown",
   "metadata": {
    "hidden": true
   },
   "source": [
    "To confirm ```ys``` really is independent from the original, let’s devise a\n",
    "little experiment. **<font color = 'purple'>You could try and add a new sublist to the original\n",
    "(```xs```) and then check to make sure this modification didn’t affect the\n",
    "copy (```ys```) </font>**:"
   ]
  },
  {
   "cell_type": "code",
   "execution_count": 307,
   "metadata": {
    "ExecuteTime": {
     "end_time": "2019-09-03T00:25:50.297838Z",
     "start_time": "2019-09-03T00:25:50.291982Z"
    },
    "hidden": true
   },
   "outputs": [],
   "source": [
    "xs.append(['new sublist'])"
   ]
  },
  {
   "cell_type": "code",
   "execution_count": 308,
   "metadata": {
    "ExecuteTime": {
     "end_time": "2019-09-03T00:25:51.980963Z",
     "start_time": "2019-09-03T00:25:51.971200Z"
    },
    "hidden": true
   },
   "outputs": [
    {
     "data": {
      "text/plain": [
       "[[1, 2, 3], [4, 5, 6], [7, 8, 9], ['new sublist']]"
      ]
     },
     "execution_count": 308,
     "metadata": {},
     "output_type": "execute_result"
    },
    {
     "data": {
      "text/plain": [
       "[[1, 2, 3], [4, 5, 6], [7, 8, 9]]"
      ]
     },
     "execution_count": 308,
     "metadata": {},
     "output_type": "execute_result"
    }
   ],
   "source": [
    "xs\n",
    "ys"
   ]
  },
  {
   "cell_type": "markdown",
   "metadata": {
    "hidden": true
   },
   "source": [
    "As you can see, this had the expected effect. Modifying the copied list at a “superficial” level was no problem at all.\n",
    "\n",
    "<font color = 'blue'>However, because we only created a shallow copy of the original list, ```ys``` still contains references to the original child objects stored in ```xs```. \n",
    "\n",
    "These children were not copied. They were merely referenced again in the copied list</font>. \n",
    "\n",
    "<font color = 'red'>Therefore, when you modify one of the child objects in ```xs```, this modification will be reflected in ```ys``` as well—that’s because both lists share the same child objects</font>. The copy is only a shallow, one level deep copy:"
   ]
  },
  {
   "cell_type": "code",
   "execution_count": 309,
   "metadata": {
    "ExecuteTime": {
     "end_time": "2019-09-03T00:25:55.442623Z",
     "start_time": "2019-09-03T00:25:55.436766Z"
    },
    "hidden": true
   },
   "outputs": [],
   "source": [
    "xs[1][0] = 'X'"
   ]
  },
  {
   "cell_type": "code",
   "execution_count": 310,
   "metadata": {
    "ExecuteTime": {
     "end_time": "2019-09-03T00:25:57.337544Z",
     "start_time": "2019-09-03T00:25:57.328759Z"
    },
    "hidden": true
   },
   "outputs": [
    {
     "data": {
      "text/plain": [
       "[[1, 2, 3], ['X', 5, 6], [7, 8, 9], ['new sublist']]"
      ]
     },
     "execution_count": 310,
     "metadata": {},
     "output_type": "execute_result"
    },
    {
     "data": {
      "text/plain": [
       "[[1, 2, 3], ['X', 5, 6], [7, 8, 9]]"
      ]
     },
     "execution_count": 310,
     "metadata": {},
     "output_type": "execute_result"
    }
   ],
   "source": [
    "xs\n",
    "\n",
    "ys"
   ]
  },
  {
   "cell_type": "markdown",
   "metadata": {
    "hidden": true
   },
   "source": [
    "<font color = 'blue'>In the above example we (seemingly) only made a change to ```xs```. But it turns out that both sublists at index 1 in ```xs``` and ```ys``` were modified. Again, this happened because we had only created a shallow copy of the original list.</font>"
   ]
  },
  {
   "cell_type": "markdown",
   "metadata": {
    "hidden": true
   },
   "source": [
    "<font color = 'red'>Had we created a deep copy of ```xs``` in the first step, both objects would’ve been fully independent. This is the practical difference between shallow and deep copies of objects.</font>"
   ]
  },
  {
   "cell_type": "markdown",
   "metadata": {
    "hidden": true
   },
   "source": [
    "**<font color = 'purple'>How can you create deep copies of built-in collections? </font>**"
   ]
  },
  {
   "cell_type": "markdown",
   "metadata": {
    "hidden": true
   },
   "source": [
    "**<font color = 'purple'>How can you create copies (shallow and deep) of arbitrary objects, including custom classes? </font>**"
   ]
  },
  {
   "cell_type": "markdown",
   "metadata": {
    "hidden": true
   },
   "source": [
    "<font color = 'blue'>The answer to these questions lies in the ```copy``` module in the Python standard library. This module provides a simple interface for creating shallow and deep copies of arbitrary Python objects.</font>"
   ]
  },
  {
   "cell_type": "markdown",
   "metadata": {},
   "source": [
    "### Making Deep Copies"
   ]
  },
  {
   "cell_type": "code",
   "execution_count": 295,
   "metadata": {
    "ExecuteTime": {
     "end_time": "2019-09-03T00:19:11.256319Z",
     "start_time": "2019-09-03T00:19:11.251436Z"
    }
   },
   "outputs": [],
   "source": [
    "import copy\n",
    "xs = [[1, 2, 3], [4, 5, 6], [7, 8, 9]]\n",
    "zs = copy.deepcopy(xs)"
   ]
  },
  {
   "cell_type": "code",
   "execution_count": 296,
   "metadata": {
    "ExecuteTime": {
     "end_time": "2019-09-03T00:19:20.123113Z",
     "start_time": "2019-09-03T00:19:20.114328Z"
    }
   },
   "outputs": [
    {
     "data": {
      "text/plain": [
       "[[1, 2, 3], [4, 5, 6], [7, 8, 9]]"
      ]
     },
     "execution_count": 296,
     "metadata": {},
     "output_type": "execute_result"
    },
    {
     "data": {
      "text/plain": [
       "[[1, 2, 3], [4, 5, 6], [7, 8, 9]]"
      ]
     },
     "execution_count": 296,
     "metadata": {},
     "output_type": "execute_result"
    }
   ],
   "source": [
    "xs\n",
    "zs"
   ]
  },
  {
   "cell_type": "code",
   "execution_count": 297,
   "metadata": {
    "ExecuteTime": {
     "end_time": "2019-09-03T00:19:33.271604Z",
     "start_time": "2019-09-03T00:19:33.266721Z"
    }
   },
   "outputs": [],
   "source": [
    "xs[1][0] = 'X'"
   ]
  },
  {
   "cell_type": "code",
   "execution_count": 298,
   "metadata": {
    "ExecuteTime": {
     "end_time": "2019-09-03T00:19:38.339501Z",
     "start_time": "2019-09-03T00:19:38.330716Z"
    }
   },
   "outputs": [
    {
     "data": {
      "text/plain": [
       "[[1, 2, 3], ['X', 5, 6], [7, 8, 9]]"
      ]
     },
     "execution_count": 298,
     "metadata": {},
     "output_type": "execute_result"
    },
    {
     "data": {
      "text/plain": [
       "[[1, 2, 3], [4, 5, 6], [7, 8, 9]]"
      ]
     },
     "execution_count": 298,
     "metadata": {},
     "output_type": "execute_result"
    }
   ],
   "source": [
    "xs\n",
    "zs"
   ]
  },
  {
   "cell_type": "markdown",
   "metadata": {},
   "source": [
    "By the way, you can also create shallow copies using a function in the ```copy``` module. The ```copy.copy()``` function creates shallow copies of objects.\n",
    "\n",
    "This is useful if you need to clearly communicate that you’re creating a shallow copy somewhere in your code. Using ```copy.copy()``` lets you indicate this fact. However, for built-in collections it’s considered more Pythonic to simply use the list, dict, and set factory functions to create shallow copies."
   ]
  },
  {
   "cell_type": "markdown",
   "metadata": {
    "heading_collapsed": true
   },
   "source": [
    "### Copying Arbitrary Objects"
   ]
  },
  {
   "cell_type": "markdown",
   "metadata": {
    "hidden": true
   },
   "source": [
    "The question we still need to answer is how do we create copies (shallow and deep) of arbitrary objects, including custom classes. \n",
    "\n",
    "Again the copy module comes to our rescue. Its copy.copy() and copy.deepcopy() functions can be used to duplicate any object."
   ]
  },
  {
   "cell_type": "code",
   "execution_count": 299,
   "metadata": {
    "ExecuteTime": {
     "end_time": "2019-09-03T00:23:04.741559Z",
     "start_time": "2019-09-03T00:23:04.735700Z"
    },
    "hidden": true
   },
   "outputs": [],
   "source": [
    "class Point:\n",
    "    def __init__(self, x, y):\n",
    "        self.x = x\n",
    "        self.y = y\n",
    "\n",
    "    def __repr__(self):\n",
    "        return f'Point({self.x!r}, {self.y!r})'"
   ]
  },
  {
   "cell_type": "markdown",
   "metadata": {
    "hidden": true
   },
   "source": [
    "<font color = 'lightgrey'>I hope you agree that this was pretty straightforward. I added a __repr__() implementation so that we can easily inspect objects created from this class in the Python interpreter.</font>"
   ]
  },
  {
   "cell_type": "markdown",
   "metadata": {
    "hidden": true
   },
   "source": [
    "Next up, we’ll create a Point instance and then (shallowly) copy it, using the copy module:\n"
   ]
  },
  {
   "cell_type": "code",
   "execution_count": 300,
   "metadata": {
    "ExecuteTime": {
     "end_time": "2019-09-03T00:24:17.846293Z",
     "start_time": "2019-09-03T00:24:17.841412Z"
    },
    "hidden": true
   },
   "outputs": [],
   "source": [
    "a = Point(23, 42)\n",
    "b = copy.copy(a)"
   ]
  },
  {
   "cell_type": "code",
   "execution_count": 311,
   "metadata": {
    "ExecuteTime": {
     "end_time": "2019-09-03T00:26:56.257741Z",
     "start_time": "2019-09-03T00:26:56.246026Z"
    },
    "hidden": true
   },
   "outputs": [
    {
     "data": {
      "text/plain": [
       "Point(23, 42)"
      ]
     },
     "execution_count": 311,
     "metadata": {},
     "output_type": "execute_result"
    },
    {
     "data": {
      "text/plain": [
       "Point(23, 42)"
      ]
     },
     "execution_count": 311,
     "metadata": {},
     "output_type": "execute_result"
    },
    {
     "data": {
      "text/plain": [
       "False"
      ]
     },
     "execution_count": 311,
     "metadata": {},
     "output_type": "execute_result"
    }
   ],
   "source": [
    "a\n",
    "b\n",
    "a is b"
   ]
  },
  {
   "cell_type": "markdown",
   "metadata": {
    "hidden": true
   },
   "source": [
    "Here’s something else to keep in mind. Because our point object uses primitive types (ints) for its coordinates, there’s no difference between a shallow and a deep copy in this case. But I’ll expand the example in a second.\n",
    "\n",
    "Let’s move on to a more complex example. I’m going to define another class to represent 2D rectangles. I’ll do it in a way that allows us to create a more complex object hierarchy—my rectangles will use Point objects to represent their coordinates:"
   ]
  },
  {
   "cell_type": "code",
   "execution_count": 312,
   "metadata": {
    "ExecuteTime": {
     "end_time": "2019-09-03T00:27:38.339027Z",
     "start_time": "2019-09-03T00:27:38.333167Z"
    },
    "hidden": true
   },
   "outputs": [],
   "source": [
    "class Rectangle:\n",
    "    def __init__(self, topleft, bottomright):\n",
    "        self.topleft = topleft\n",
    "        self.bottomright = bottomright\n",
    "\n",
    "    def __repr__(self):\n",
    "        return (f'Rectangle({self.topleft!r}, '\n",
    "                f'{self.bottomright!r})')\n",
    "    "
   ]
  },
  {
   "cell_type": "code",
   "execution_count": 314,
   "metadata": {
    "ExecuteTime": {
     "end_time": "2019-09-03T00:28:59.269940Z",
     "start_time": "2019-09-03T00:28:59.264081Z"
    },
    "hidden": true
   },
   "outputs": [],
   "source": [
    "# Again, first we’re going to attempt to create a shallow copy\n",
    "# of a rectangle instance:\n",
    "\n",
    "rect = Rectangle(Point(0, 1), Point(5, 6))\n",
    "srect = copy.copy(rect)"
   ]
  },
  {
   "cell_type": "markdown",
   "metadata": {
    "hidden": true
   },
   "source": [
    "If you inspect the original rectangle and its copy, you’ll see how nicely the ```__repr__()``` override is working out, and that the shallow copy process worked as expected:"
   ]
  },
  {
   "cell_type": "code",
   "execution_count": 315,
   "metadata": {
    "ExecuteTime": {
     "end_time": "2019-09-03T00:29:26.180767Z",
     "start_time": "2019-09-03T00:29:26.170029Z"
    },
    "hidden": true
   },
   "outputs": [
    {
     "data": {
      "text/plain": [
       "Rectangle(Point(0, 1), Point(5, 6))"
      ]
     },
     "execution_count": 315,
     "metadata": {},
     "output_type": "execute_result"
    },
    {
     "data": {
      "text/plain": [
       "Rectangle(Point(0, 1), Point(5, 6))"
      ]
     },
     "execution_count": 315,
     "metadata": {},
     "output_type": "execute_result"
    },
    {
     "data": {
      "text/plain": [
       "True"
      ]
     },
     "execution_count": 315,
     "metadata": {},
     "output_type": "execute_result"
    }
   ],
   "source": [
    "rect\n",
    "srect\n",
    "rect is rect"
   ]
  },
  {
   "cell_type": "markdown",
   "metadata": {
    "hidden": true
   },
   "source": [
    "Remember how the previous list example illustrated the difference between deep and shallow copies? I’m going to use the same approach here. I’ll modify an object deeper in the object hierarchy, and then you’ll see this change reflected in the (shallow) copy as well:"
   ]
  },
  {
   "cell_type": "code",
   "execution_count": 316,
   "metadata": {
    "ExecuteTime": {
     "end_time": "2019-09-03T00:30:10.019306Z",
     "start_time": "2019-09-03T00:30:10.013447Z"
    },
    "hidden": true
   },
   "outputs": [],
   "source": [
    "rect.topleft.x = 999"
   ]
  },
  {
   "cell_type": "code",
   "execution_count": 321,
   "metadata": {
    "ExecuteTime": {
     "end_time": "2019-09-03T00:32:12.102519Z",
     "start_time": "2019-09-03T00:32:12.097636Z"
    },
    "hidden": true
   },
   "outputs": [],
   "source": [
    "srect.topleft.x = 998"
   ]
  },
  {
   "cell_type": "code",
   "execution_count": 322,
   "metadata": {
    "ExecuteTime": {
     "end_time": "2019-09-03T00:32:14.400708Z",
     "start_time": "2019-09-03T00:32:14.391921Z"
    },
    "hidden": true,
    "scrolled": true
   },
   "outputs": [
    {
     "data": {
      "text/plain": [
       "Rectangle(Point(998, 1), Point(5, 6))"
      ]
     },
     "execution_count": 322,
     "metadata": {},
     "output_type": "execute_result"
    },
    {
     "data": {
      "text/plain": [
       "Rectangle(Point(998, 1), Point(5, 6))"
      ]
     },
     "execution_count": 322,
     "metadata": {},
     "output_type": "execute_result"
    }
   ],
   "source": [
    "rect\n",
    "srect"
   ]
  },
  {
   "cell_type": "markdown",
   "metadata": {
    "hidden": true
   },
   "source": [
    "I hope this behaved how you expected it to. Next, I’ll create a deep copy of the original rectangle. Then I’ll apply another modification and you’ll see which objects are affected:"
   ]
  },
  {
   "cell_type": "code",
   "execution_count": 318,
   "metadata": {
    "ExecuteTime": {
     "end_time": "2019-09-03T00:31:15.111680Z",
     "start_time": "2019-09-03T00:31:15.105821Z"
    },
    "hidden": true
   },
   "outputs": [],
   "source": [
    "drect = copy.deepcopy(srect)\n",
    "drect.topleft.x = 222"
   ]
  },
  {
   "cell_type": "code",
   "execution_count": 324,
   "metadata": {
    "ExecuteTime": {
     "end_time": "2019-09-03T00:32:37.116225Z",
     "start_time": "2019-09-03T00:32:37.104510Z"
    },
    "hidden": true
   },
   "outputs": [
    {
     "data": {
      "text/plain": [
       "Rectangle(Point(222, 1), Point(5, 6))"
      ]
     },
     "execution_count": 324,
     "metadata": {},
     "output_type": "execute_result"
    },
    {
     "data": {
      "text/plain": [
       "Rectangle(Point(998, 1), Point(5, 6))"
      ]
     },
     "execution_count": 324,
     "metadata": {},
     "output_type": "execute_result"
    },
    {
     "data": {
      "text/plain": [
       "Rectangle(Point(998, 1), Point(5, 6))"
      ]
     },
     "execution_count": 324,
     "metadata": {},
     "output_type": "execute_result"
    }
   ],
   "source": [
    "drect\n",
    "rect\n",
    "srect"
   ]
  },
  {
   "cell_type": "markdown",
   "metadata": {
    "hidden": true
   },
   "source": [
    " This time the deep copy (drect) is fully independent of the original (rect) and the shallow copy (srect)."
   ]
  },
  {
   "cell_type": "markdown",
   "metadata": {
    "hidden": true
   },
   "source": [
    "It pays to go deep (ha!) on this topic, so you may want to study up on the copy module documentation.3 For example, objects can control how they’re copied by defining the special methods __copy__() and __deepcopy__() on them. Have fun! https://docs.python.org/3/library/copy.html"
   ]
  },
  {
   "cell_type": "markdown",
   "metadata": {
    "heading_collapsed": true
   },
   "source": [
    "### Key Takeaways"
   ]
  },
  {
   "cell_type": "raw",
   "metadata": {
    "hidden": true
   },
   "source": [
    " • Making a shallow copy of an object won’t clone child objects. Therefore, the copy is not fully independent of the original. \n",
    " \n",
    " • A deep copy of an object will recursively clone child objects. The clone is fully independent of the original, but creating a deep copy is slower. \n",
    " \n",
    " • You can copy arbitrary objects (including custom classes) with the copy module."
   ]
  },
  {
   "cell_type": "markdown",
   "metadata": {
    "heading_collapsed": true
   },
   "source": [
    "## <font color = 'lightgrey'>Abstract Base Classes Keep Inheritance in Check</font>"
   ]
  },
  {
   "cell_type": "code",
   "execution_count": 330,
   "metadata": {
    "ExecuteTime": {
     "end_time": "2019-09-03T00:42:25.308247Z",
     "start_time": "2019-09-03T00:42:25.301415Z"
    },
    "hidden": true
   },
   "outputs": [],
   "source": [
    "from abc import ABCMeta, abstractmethod\n",
    "\n",
    "class Base(metaclass=ABCMeta):\n",
    "    @abstractmethod\n",
    "    def foo(self):\n",
    "        pass\n",
    "\n",
    "    @abstractmethod\n",
    "    def bar(self):\n",
    "        pass\n",
    "\n",
    "class Concrete(Base):\n",
    "    def foo(self):\n",
    "        pass\n",
    "\n",
    "    # We forget to declare bar() again..."
   ]
  },
  {
   "cell_type": "code",
   "execution_count": 326,
   "metadata": {
    "ExecuteTime": {
     "end_time": "2019-09-03T00:42:00.174246Z",
     "start_time": "2019-09-03T00:42:00.170339Z"
    },
    "hidden": true
   },
   "outputs": [],
   "source": [
    "assert issubclass(Concrete, Base)"
   ]
  },
  {
   "cell_type": "code",
   "execution_count": 331,
   "metadata": {
    "ExecuteTime": {
     "end_time": "2019-09-03T00:42:26.903578Z",
     "start_time": "2019-09-03T00:42:26.891865Z"
    },
    "hidden": true
   },
   "outputs": [
    {
     "ename": "TypeError",
     "evalue": "Can't instantiate abstract class Concrete with abstract methods bar",
     "output_type": "error",
     "traceback": [
      "\u001b[1;31m---------------------------------------------------------------------------\u001b[0m",
      "\u001b[1;31mTypeError\u001b[0m                                 Traceback (most recent call last)",
      "\u001b[1;32m<ipython-input-331-18c56bd1fab2>\u001b[0m in \u001b[0;36m<module>\u001b[1;34m\u001b[0m\n\u001b[1;32m----> 1\u001b[1;33m \u001b[0mc\u001b[0m \u001b[1;33m=\u001b[0m \u001b[0mConcrete\u001b[0m\u001b[1;33m(\u001b[0m\u001b[1;33m)\u001b[0m\u001b[1;33m\u001b[0m\u001b[1;33m\u001b[0m\u001b[0m\n\u001b[0m",
      "\u001b[1;31mTypeError\u001b[0m: Can't instantiate abstract class Concrete with abstract methods bar"
     ]
    }
   ],
   "source": [
    "c = Concrete()"
   ]
  },
  {
   "cell_type": "code",
   "execution_count": 332,
   "metadata": {
    "ExecuteTime": {
     "end_time": "2019-09-03T00:42:44.300821Z",
     "start_time": "2019-09-03T00:42:44.293008Z"
    },
    "hidden": true
   },
   "outputs": [],
   "source": [
    "from abc import ABCMeta, abstractmethod\n",
    "\n",
    "class Base(metaclass=ABCMeta):\n",
    "    @abstractmethod\n",
    "    def foo(self):\n",
    "        pass\n",
    "\n",
    "    def bar(self):\n",
    "        pass\n",
    "\n",
    "class Concrete(Base):\n",
    "    def foo(self):\n",
    "        pass\n",
    "\n",
    "    # We forget to declare bar() again..."
   ]
  },
  {
   "cell_type": "code",
   "execution_count": 333,
   "metadata": {
    "ExecuteTime": {
     "end_time": "2019-09-03T00:42:45.992532Z",
     "start_time": "2019-09-03T00:42:45.987647Z"
    },
    "hidden": true
   },
   "outputs": [],
   "source": [
    "c = Concrete()"
   ]
  },
  {
   "cell_type": "markdown",
   "metadata": {
    "heading_collapsed": true
   },
   "source": [
    "## What Namedtuples Are Good For"
   ]
  },
  {
   "cell_type": "markdown",
   "metadata": {
    "hidden": true
   },
   "source": [
    "Namedtuples can be a great alternative to defining a class manually,\n",
    "and they have some other interesting features that I want to introduce\n",
    "you to in this chapter.\n",
    "\n",
    "A good way to think about namedtuples is to view them as an extension of the built-in tuple data type. Python’s tuples are a simple data structure for grouping arbitrary objects. <font color = 'red'>Tuples are also immutable—they cannot be modified once they’ve been created</font>. Here’s a brief example:"
   ]
  },
  {
   "cell_type": "code",
   "execution_count": 334,
   "metadata": {
    "ExecuteTime": {
     "end_time": "2019-09-03T00:45:01.713554Z",
     "start_time": "2019-09-03T00:45:01.707696Z"
    },
    "hidden": true
   },
   "outputs": [
    {
     "data": {
      "text/plain": [
       "('hello', <object at 0x1ed73be01a0>, 42)"
      ]
     },
     "execution_count": 334,
     "metadata": {},
     "output_type": "execute_result"
    }
   ],
   "source": [
    "tup = ('hello', object(), 42)\n",
    "tup"
   ]
  },
  {
   "cell_type": "code",
   "execution_count": 336,
   "metadata": {
    "ExecuteTime": {
     "end_time": "2019-09-03T00:45:13.263442Z",
     "start_time": "2019-09-03T00:45:13.256608Z"
    },
    "hidden": true
   },
   "outputs": [
    {
     "data": {
      "text/plain": [
       "42"
      ]
     },
     "execution_count": 336,
     "metadata": {},
     "output_type": "execute_result"
    }
   ],
   "source": [
    "tup[2]"
   ]
  },
  {
   "cell_type": "code",
   "execution_count": 337,
   "metadata": {
    "ExecuteTime": {
     "end_time": "2019-09-03T00:45:52.807121Z",
     "start_time": "2019-09-03T00:45:52.793454Z"
    },
    "hidden": true
   },
   "outputs": [
    {
     "ename": "TypeError",
     "evalue": "'tuple' object does not support item assignment",
     "output_type": "error",
     "traceback": [
      "\u001b[1;31m---------------------------------------------------------------------------\u001b[0m",
      "\u001b[1;31mTypeError\u001b[0m                                 Traceback (most recent call last)",
      "\u001b[1;32m<ipython-input-337-0bbb7d46192a>\u001b[0m in \u001b[0;36m<module>\u001b[1;34m\u001b[0m\n\u001b[1;32m----> 1\u001b[1;33m \u001b[0mtup\u001b[0m\u001b[1;33m[\u001b[0m\u001b[1;36m2\u001b[0m\u001b[1;33m]\u001b[0m \u001b[1;33m=\u001b[0m \u001b[1;36m23\u001b[0m\u001b[1;33m\u001b[0m\u001b[1;33m\u001b[0m\u001b[0m\n\u001b[0m",
      "\u001b[1;31mTypeError\u001b[0m: 'tuple' object does not support item assignment"
     ]
    }
   ],
   "source": [
    "tup[2] = 23"
   ]
  },
  {
   "cell_type": "markdown",
   "metadata": {
    "hidden": true
   },
   "source": [
    "<font color = 'red'>One downside of plain tuples is that the data you store in them can only be pulled out by accessing it through integer indexes</font>. \n",
    "\n",
    "* You can’t give names to individual properties stored in a tuple. This can impact code readability. \n",
    "\n",
    "<font color = 'red'>Also, a tuple is always an ad-hoc structure</font>. It’s hard to ensure that two tuples have the same number of fields and the same properties stored on them. \n",
    "\n",
    "* This makes it easy to introduce “slip-of-the-mind” bugs by mixing up the field order."
   ]
  },
  {
   "cell_type": "markdown",
   "metadata": {
    "hidden": true
   },
   "source": [
    "**<font color = 'purple'>Namedtuples aim to solve these two problems. </font>** "
   ]
  },
  {
   "cell_type": "markdown",
   "metadata": {
    "hidden": true
   },
   "source": [
    "First of all, namedtuples are immutable containers, just like regular tuples. Once you store data in top-level attribute on a namedtuple, you can’t modify it by updating the attribute. All attributes on a namedtuple object follow the “write once, read many” principle.\n",
    "\n",
    "Besides that, namedtuples are, well…named tuples. Each object stored in them can be accessed through a unique (human-readable) identifier. This frees you from having to remember integer indexes, or resorting to workarounds like defining integer constants as mnemonics for your indexes."
   ]
  },
  {
   "cell_type": "code",
   "execution_count": 339,
   "metadata": {
    "ExecuteTime": {
     "end_time": "2019-09-03T00:50:38.902644Z",
     "start_time": "2019-09-03T00:50:38.897763Z"
    },
    "hidden": true
   },
   "outputs": [],
   "source": [
    "from collections import namedtuple\n",
    "\n",
    "Car = namedtuple('Car' , 'color mileage')"
   ]
  },
  {
   "cell_type": "markdown",
   "metadata": {
    "hidden": true
   },
   "source": [
    "To use them, you need to import the collections module. In the above example, I defined a simple Car data type with two fields: color and mileage. \n",
    "\n",
    "**<font color = 'purple'>You might be wondering why I’m passing the string 'Car' as the first argument to the namedtuple factory function in this example.  </font>**\n",
    "\n",
    "<font color = 'blue'>This parameter is referred to as the “typename” in the Python docs. It’s the name of the new class that’s being created by calling the namedtuple function. </font> \n",
    "\n",
    "Since namedtuple has no way of knowing what the name of the variable is we’re assigning the resulting class to, we need to explicitly tell it which class name we want to use. <font color = 'blue'>The class name is used in the docstring and the ```__repr__``` implementation that namedtuple automatically generates for us.</font>\n",
    "\n",
    "**<font color = 'purple'>And there’s another syntactic oddity in this example—why are we passing the fields as a string that encodes their names as 'color mileage'? </font>**"
   ]
  },
  {
   "cell_type": "markdown",
   "metadata": {
    "hidden": true
   },
   "source": [
    "The answer is that namedtuple’s factory function calls split() on the field names string to parse it into a list of field names. So this is really just a shorthand for the following two steps:"
   ]
  },
  {
   "cell_type": "code",
   "execution_count": 342,
   "metadata": {
    "ExecuteTime": {
     "end_time": "2019-09-03T01:06:42.967978Z",
     "start_time": "2019-09-03T01:06:42.959190Z"
    },
    "hidden": true
   },
   "outputs": [
    {
     "data": {
      "text/plain": [
       "['color', 'mileage']"
      ]
     },
     "execution_count": 342,
     "metadata": {},
     "output_type": "execute_result"
    }
   ],
   "source": [
    "'color mileage'.split()\n",
    "\n",
    "Car = namedtuple('Car', ['color', 'mileage'])"
   ]
  },
  {
   "cell_type": "markdown",
   "metadata": {
    "hidden": true
   },
   "source": [
    "Of course, you can also pass in a list with string field names directly if you prefer how that looks. The advantage of using a proper list is that it’s easier to reformat this code if you need to split it across multiple lines:"
   ]
  },
  {
   "cell_type": "code",
   "execution_count": 344,
   "metadata": {
    "ExecuteTime": {
     "end_time": "2019-09-03T01:12:27.188819Z",
     "start_time": "2019-09-03T01:12:27.182960Z"
    },
    "hidden": true
   },
   "outputs": [],
   "source": [
    "Car = namedtuple('Car', [\n",
    "    'color',\n",
    "    'mileage',\n",
    "])"
   ]
  },
  {
   "cell_type": "markdown",
   "metadata": {
    "hidden": true
   },
   "source": [
    "Whatever you decide, you can now create new “car” objects with the Car factory function. It behaves as if you had defined a Car class manually and given it a constructor accepting a “color” and a “mileage” value:"
   ]
  },
  {
   "cell_type": "code",
   "execution_count": 346,
   "metadata": {
    "ExecuteTime": {
     "end_time": "2019-09-03T01:13:14.817137Z",
     "start_time": "2019-09-03T01:13:14.808352Z"
    },
    "hidden": true
   },
   "outputs": [
    {
     "data": {
      "text/plain": [
       "'red'"
      ]
     },
     "execution_count": 346,
     "metadata": {},
     "output_type": "execute_result"
    },
    {
     "data": {
      "text/plain": [
       "3812.4"
      ]
     },
     "execution_count": 346,
     "metadata": {},
     "output_type": "execute_result"
    }
   ],
   "source": [
    "my_car = Car('red', 3812.4)\n",
    "my_car.color\n",
    "my_car.mileage"
   ]
  },
  {
   "cell_type": "markdown",
   "metadata": {
    "hidden": true
   },
   "source": [
    "<font color = 'blue'>Besides accessing the values stored in a namedtuple by their identifiers, you can still access them by their index. That way, namedtuples can be used as a drop-in replacement for regular tuples</font>: "
   ]
  },
  {
   "cell_type": "code",
   "execution_count": 347,
   "metadata": {
    "ExecuteTime": {
     "end_time": "2019-09-03T01:14:08.750841Z",
     "start_time": "2019-09-03T01:14:08.742051Z"
    },
    "hidden": true
   },
   "outputs": [
    {
     "data": {
      "text/plain": [
       "'red'"
      ]
     },
     "execution_count": 347,
     "metadata": {},
     "output_type": "execute_result"
    },
    {
     "data": {
      "text/plain": [
       "('red', 3812.4)"
      ]
     },
     "execution_count": 347,
     "metadata": {},
     "output_type": "execute_result"
    }
   ],
   "source": [
    "my_car[0]\n",
    "\n",
    "tuple(my_car)"
   ]
  },
  {
   "cell_type": "code",
   "execution_count": 349,
   "metadata": {
    "ExecuteTime": {
     "end_time": "2019-09-03T01:15:07.408775Z",
     "start_time": "2019-09-03T01:15:07.402920Z"
    },
    "hidden": true
   },
   "outputs": [
    {
     "name": "stdout",
     "output_type": "stream",
     "text": [
      "red 3812.4\n",
      "red 3812.4\n"
     ]
    }
   ],
   "source": [
    "# Tuple unpacking and the *-operator for function argument unpacking\n",
    "# also work as expected:\n",
    "\n",
    "color, mileage = my_car\n",
    "\n",
    "print(color, mileage)\n",
    "print(*my_car)"
   ]
  },
  {
   "cell_type": "code",
   "execution_count": 350,
   "metadata": {
    "ExecuteTime": {
     "end_time": "2019-09-03T01:15:38.898447Z",
     "start_time": "2019-09-03T01:15:38.892590Z"
    },
    "hidden": true
   },
   "outputs": [
    {
     "data": {
      "text/plain": [
       "Car(color='red', mileage=3812.4)"
      ]
     },
     "execution_count": 350,
     "metadata": {},
     "output_type": "execute_result"
    }
   ],
   "source": [
    "# You’ll even get a nice string representation for your namedtuple object\n",
    "# for free, which saves some typing and verbosity:\n",
    "my_car"
   ]
  },
  {
   "cell_type": "code",
   "execution_count": 351,
   "metadata": {
    "ExecuteTime": {
     "end_time": "2019-09-03T01:16:03.699537Z",
     "start_time": "2019-09-03T01:16:03.686845Z"
    },
    "hidden": true
   },
   "outputs": [
    {
     "ename": "AttributeError",
     "evalue": "can't set attribute",
     "output_type": "error",
     "traceback": [
      "\u001b[1;31m---------------------------------------------------------------------------\u001b[0m",
      "\u001b[1;31mAttributeError\u001b[0m                            Traceback (most recent call last)",
      "\u001b[1;32m<ipython-input-351-6237c5155d13>\u001b[0m in \u001b[0;36m<module>\u001b[1;34m\u001b[0m\n\u001b[0;32m      2\u001b[0m \u001b[1;31m# one of their fields, you’ll get an AttributeError exception:\u001b[0m\u001b[1;33m\u001b[0m\u001b[1;33m\u001b[0m\u001b[1;33m\u001b[0m\u001b[0m\n\u001b[0;32m      3\u001b[0m \u001b[1;33m\u001b[0m\u001b[0m\n\u001b[1;32m----> 4\u001b[1;33m \u001b[0mmy_car\u001b[0m\u001b[1;33m.\u001b[0m\u001b[0mcolor\u001b[0m \u001b[1;33m=\u001b[0m \u001b[1;34m'blue'\u001b[0m\u001b[1;33m\u001b[0m\u001b[1;33m\u001b[0m\u001b[0m\n\u001b[0m",
      "\u001b[1;31mAttributeError\u001b[0m: can't set attribute"
     ]
    }
   ],
   "source": [
    "# Like tuples, namedtuples are immutable. When you try to overwrite\n",
    "# one of their fields, you’ll get an AttributeError exception:\n",
    "\n",
    "my_car.color = 'blue'"
   ]
  },
  {
   "cell_type": "markdown",
   "metadata": {
    "hidden": true
   },
   "source": [
    "Namedtuple objects are implemented as regular Python classes internally. <font color = 'red'>When it comes to memory usage, they are also “better” than regular classes and just as memory efficient as regular tuples</font>. \n",
    "\n",
    "<font color = 'blue'>**A good way to view them is to think that namedtuples are a memory efficient shortcut to defining an immutable class in Python manually**</font>."
   ]
  },
  {
   "cell_type": "markdown",
   "metadata": {
    "heading_collapsed": true,
    "hidden": true
   },
   "source": [
    "##### Subclassing Namedtuples"
   ]
  },
  {
   "cell_type": "markdown",
   "metadata": {
    "hidden": true
   },
   "source": [
    "Since they are built on top of regular Python classes, <font color = 'green'>**you can even add methods to a namedtuple object**</font>. \n",
    "\n",
    "**<font color = 'purple'>For example, you can extend a namedtuple’s class like any other class and add methods and new properties to it that way. Here’s an example: </font>**"
   ]
  },
  {
   "cell_type": "code",
   "execution_count": 353,
   "metadata": {
    "ExecuteTime": {
     "end_time": "2019-09-03T01:19:03.705920Z",
     "start_time": "2019-09-03T01:19:03.697132Z"
    },
    "hidden": true
   },
   "outputs": [],
   "source": [
    "Car = namedtuple('Car', 'color mileage')\n",
    "\n",
    "class MyCarWithMethods(Car):\n",
    "    def hexcolor(self):\n",
    "        if self.color == 'red':\n",
    "            return '#ff0000'\n",
    "        else:\n",
    "            return '#000000'"
   ]
  },
  {
   "cell_type": "markdown",
   "metadata": {
    "hidden": true
   },
   "source": [
    "We can now create ```MyCarWithMethods``` objects and call their ```hexcolor()``` method, just as expected:"
   ]
  },
  {
   "cell_type": "code",
   "execution_count": 354,
   "metadata": {
    "ExecuteTime": {
     "end_time": "2019-09-03T01:20:57.871314Z",
     "start_time": "2019-09-03T01:20:57.863502Z"
    },
    "hidden": true
   },
   "outputs": [
    {
     "data": {
      "text/plain": [
       "'#ff0000'"
      ]
     },
     "execution_count": 354,
     "metadata": {},
     "output_type": "execute_result"
    }
   ],
   "source": [
    "c = MyCarWithMethods('red', 1234)\n",
    "c.hexcolor()"
   ]
  },
  {
   "cell_type": "markdown",
   "metadata": {
    "hidden": true
   },
   "source": [
    "However, this might be a little clunky. It might be worth doing if you want a class with immutable properties, but it’s also easy to shoot yourself in the foot here. \n",
    "\n",
    "For example, adding a new immutable field is tricky because of how namedtuples are structured internally. The easiest way to create hierarchies of namedtuples is to use the base tuple’s ```_fields``` property:"
   ]
  },
  {
   "cell_type": "code",
   "execution_count": 357,
   "metadata": {
    "ExecuteTime": {
     "end_time": "2019-09-03T01:22:27.177873Z",
     "start_time": "2019-09-03T01:22:27.172013Z"
    },
    "hidden": true
   },
   "outputs": [],
   "source": [
    "Car = namedtuple('Car', 'color mileage')\n",
    "ElectricCar = namedtuple(\n",
    "    'ElectricCar', Car._fields + ('charge',))"
   ]
  },
  {
   "cell_type": "code",
   "execution_count": 356,
   "metadata": {
    "ExecuteTime": {
     "end_time": "2019-09-03T01:22:17.929774Z",
     "start_time": "2019-09-03T01:22:17.920987Z"
    },
    "hidden": true
   },
   "outputs": [
    {
     "data": {
      "text/plain": [
       "ElectricCar(color='red', mileage=1234, charge=45.0)"
      ]
     },
     "execution_count": 356,
     "metadata": {},
     "output_type": "execute_result"
    }
   ],
   "source": [
    "ElectricCar('red', 1234, 45.0)"
   ]
  },
  {
   "cell_type": "markdown",
   "metadata": {
    "heading_collapsed": true,
    "hidden": true
   },
   "source": [
    "##### Built-in Helper Methods"
   ]
  },
  {
   "cell_type": "markdown",
   "metadata": {
    "hidden": true
   },
   "source": [
    "Besides the _fields property, each namedtuple instance also provides a few more helper methods you might find useful. Their names all start with a single underscore character (_) which usually signals that a method or property is “private” and not part of the stable public interface of a class or module. With namedtuples, the underscore naming convention has a different meaning though. These helper methods and properties are part of namedtuple’s public interface. The helpers were named that way to avoid naming collisions with user-defined tuple fields. So go ahead and use them if you need them! I want to show you a few scenarios where the namedtuple helper methods might come in handy. Let’s start with the _asdict() helper method. It returns the contents of a namedtuple as a dictionary:"
   ]
  },
  {
   "cell_type": "code",
   "execution_count": 358,
   "metadata": {
    "ExecuteTime": {
     "end_time": "2019-09-03T01:31:38.434533Z",
     "start_time": "2019-09-03T01:31:38.426722Z"
    },
    "hidden": true
   },
   "outputs": [
    {
     "data": {
      "text/plain": [
       "OrderedDict([('color', 'red'), ('mileage', 3812.4)])"
      ]
     },
     "execution_count": 358,
     "metadata": {},
     "output_type": "execute_result"
    }
   ],
   "source": [
    "my_car._asdict()"
   ]
  },
  {
   "cell_type": "markdown",
   "metadata": {
    "hidden": true
   },
   "source": [
    "This is great for avoiding typos in the field names when generating\n",
    "JSON-output, for example:"
   ]
  },
  {
   "cell_type": "raw",
   "metadata": {
    "ExecuteTime": {
     "end_time": "2019-09-03T01:31:52.833477Z",
     "start_time": "2019-09-03T01:31:52.821764Z"
    },
    "hidden": true
   },
   "source": [
    "json.dumps(my_car._asdict())"
   ]
  },
  {
   "cell_type": "code",
   "execution_count": 361,
   "metadata": {
    "ExecuteTime": {
     "end_time": "2019-09-03T01:33:30.030303Z",
     "start_time": "2019-09-03T01:33:30.024446Z"
    },
    "hidden": true
   },
   "outputs": [
    {
     "data": {
      "text/plain": [
       "Car(color='blue', mileage=3812.4)"
      ]
     },
     "execution_count": 361,
     "metadata": {},
     "output_type": "execute_result"
    }
   ],
   "source": [
    "# Another useful helper is the _replace() function. It creates a \n",
    "# (shallow) copy of a tuple and allows you to selectively replace \n",
    "# some of its fields:\n",
    "\n",
    "my_car._replace(color='blue')"
   ]
  },
  {
   "cell_type": "code",
   "execution_count": 362,
   "metadata": {
    "ExecuteTime": {
     "end_time": "2019-09-03T01:34:48.509246Z",
     "start_time": "2019-09-03T01:34:48.503390Z"
    },
    "hidden": true
   },
   "outputs": [
    {
     "data": {
      "text/plain": [
       "Car(color='red', mileage=999)"
      ]
     },
     "execution_count": 362,
     "metadata": {},
     "output_type": "execute_result"
    }
   ],
   "source": [
    "# Lastly, the _make() classmethod can be used to create new instances\n",
    "# of a namedtuple from a sequence or iterable:\n",
    "Car._make(['red', 999])"
   ]
  },
  {
   "cell_type": "markdown",
   "metadata": {
    "heading_collapsed": true,
    "hidden": true
   },
   "source": [
    "##### When to Use Namedtuples"
   ]
  },
  {
   "cell_type": "markdown",
   "metadata": {
    "hidden": true
   },
   "source": [
    "Namedtuples can be an easy way to clean up your code and to make it\n",
    "more readable by enforcing a better structure for your data.\n",
    "\n",
    "<font color = 'blue'>For example, I find that going from ad-hoc data types like dictionaries\n",
    "with a fixed format to namedtuples helps me express my intentions\n",
    "more clearly</font>. Often when I attempt this refactoring I magically come\n",
    "up with a better solution for the problem I’m facing.\n",
    "\n",
    "Using namedtuples over unstructured tuples and dicts can also make\n",
    "my coworkers’ lives easier because they make the data being passed\n",
    "around “self-documenting” (to a degree).\n",
    "\n",
    "On the other hand, I try not to use namedtuples for their own sake if\n",
    "they don’t help me write “cleaner” and more maintainable code. Like\n",
    "many other techniques shown in this book, sometimes there can be\n",
    "too much of a good thing.\n",
    "\n",
    "However, if you use them with care, namedtuples can undoubtedly\n",
    "make your Python code better and more expressive."
   ]
  },
  {
   "cell_type": "markdown",
   "metadata": {
    "hidden": true
   },
   "source": [
    "**<font color = 'purple'>Key Takeaways </font>**"
   ]
  },
  {
   "cell_type": "raw",
   "metadata": {
    "hidden": true
   },
   "source": [
    "• collection.namedtuple is a memory-efficient shortcut to\n",
    "manually define an immutable class in Python.\n",
    "\n",
    "• Namedtuples can help clean up your code by enforcing an\n",
    "easier-to-understand structure on your data.\n",
    "\n",
    "• Namedtuples provide a few useful helper methods that all start\n",
    "with a single underscore, but are part of the public interface.\n",
    "It’s okay to use them."
   ]
  },
  {
   "cell_type": "markdown",
   "metadata": {
    "heading_collapsed": true
   },
   "source": [
    "## Class vs Instance Variable Pitfalls"
   ]
  },
  {
   "cell_type": "markdown",
   "metadata": {
    "hidden": true
   },
   "source": [
    "There are two kinds of data attributes on Python objects: class variables and instance variables.\n",
    "\n",
    "<span style='background-color: lightgreen'>Class variables</span> are declared inside the class definition (but outside of any instance methods). They’re not tied to any particular instance of a class. Instead, class variables store their contents on the class itself, and all objects created from a particular class share access to the same set of class variables. This means, for example, that modifying a class variable affects all object instances at the same time. \n",
    "\n",
    "<span style='background-color: lightgreen'>Instance variables</span> are always tied to a particular object instance. Their contents are not stored on the class, but on each individual object created from the class. Therefore, the contents of an instance variable are completely independent from one object instance to the next. And so, modifying an instance variable only affects one object instance at a time.\n"
   ]
  },
  {
   "cell_type": "markdown",
   "metadata": {
    "hidden": true
   },
   "source": [
    "<font color = 'lightgrey'>Okay, this was fairly abstract—time to look at some code! Let’s bust out the old “dog example”… For some reason, OOP-tutorials always use cars or pets to illustrate their point, and it’s hard to break with that tradition.</font>\n",
    "\n",
    "What does a happy dog need? Four legs and a name:"
   ]
  },
  {
   "cell_type": "code",
   "execution_count": 366,
   "metadata": {
    "ExecuteTime": {
     "end_time": "2019-09-03T02:04:57.264147Z",
     "start_time": "2019-09-03T02:04:57.258290Z"
    },
    "hidden": true
   },
   "outputs": [],
   "source": [
    "class Dog:\n",
    "    num_legs = 4 # <- Class variable\n",
    "\n",
    "    def __init__(self, name):\n",
    "        self.name = name # <- Instance variable\n"
   ]
  },
  {
   "cell_type": "markdown",
   "metadata": {
    "hidden": true
   },
   "source": [
    "Alright, that’s a neat object-oriented representation of the dog situation I just described. Creating new Dog instances works as expected, and they each get an instance variable called name:"
   ]
  },
  {
   "cell_type": "code",
   "execution_count": 365,
   "metadata": {
    "ExecuteTime": {
     "end_time": "2019-09-03T02:04:29.114988Z",
     "start_time": "2019-09-03T02:04:29.109129Z"
    },
    "hidden": true
   },
   "outputs": [
    {
     "data": {
      "text/plain": [
       "('Jack', 'Jill')"
      ]
     },
     "execution_count": 365,
     "metadata": {},
     "output_type": "execute_result"
    }
   ],
   "source": [
    "jack = Dog('Jack')\n",
    "jill = Dog('Jill')\n",
    "jack.name, jill.name"
   ]
  },
  {
   "cell_type": "markdown",
   "metadata": {
    "hidden": true
   },
   "source": [
    "There’s a little more flexibility when it comes to class variables. You can access the num_legs class variable either directly on each Dog instance or on the class itself :"
   ]
  },
  {
   "cell_type": "code",
   "execution_count": 368,
   "metadata": {
    "ExecuteTime": {
     "end_time": "2019-09-03T02:05:38.297961Z",
     "start_time": "2019-09-03T02:05:38.289175Z"
    },
    "hidden": true
   },
   "outputs": [
    {
     "data": {
      "text/plain": [
       "(4, 4)"
      ]
     },
     "execution_count": 368,
     "metadata": {},
     "output_type": "execute_result"
    },
    {
     "data": {
      "text/plain": [
       "4"
      ]
     },
     "execution_count": 368,
     "metadata": {},
     "output_type": "execute_result"
    }
   ],
   "source": [
    "jack.num_legs, jill.num_legs\n",
    "\n",
    "Dog.num_legs"
   ]
  },
  {
   "cell_type": "markdown",
   "metadata": {
    "hidden": true
   },
   "source": [
    "However, if you try to access an instance variable through the class, it’ll fail with an AttributeError. <font color = 'blue'>Instance variables are specific to each object instance and are created when the ```__init__``` constructor runs—they don’t even exist on the class itself</font>. <font color = 'blue'>This is the central distinction between class and instance variables:</font>"
   ]
  },
  {
   "cell_type": "code",
   "execution_count": 369,
   "metadata": {
    "ExecuteTime": {
     "end_time": "2019-09-03T02:07:09.721119Z",
     "start_time": "2019-09-03T02:07:09.708426Z"
    },
    "hidden": true
   },
   "outputs": [
    {
     "ename": "AttributeError",
     "evalue": "type object 'Dog' has no attribute 'name'",
     "output_type": "error",
     "traceback": [
      "\u001b[1;31m---------------------------------------------------------------------------\u001b[0m",
      "\u001b[1;31mAttributeError\u001b[0m                            Traceback (most recent call last)",
      "\u001b[1;32m<ipython-input-369-629675d46941>\u001b[0m in \u001b[0;36m<module>\u001b[1;34m\u001b[0m\n\u001b[1;32m----> 1\u001b[1;33m \u001b[0mDog\u001b[0m\u001b[1;33m.\u001b[0m\u001b[0mname\u001b[0m\u001b[1;33m\u001b[0m\u001b[1;33m\u001b[0m\u001b[0m\n\u001b[0m",
      "\u001b[1;31mAttributeError\u001b[0m: type object 'Dog' has no attribute 'name'"
     ]
    }
   ],
   "source": [
    "Dog.name"
   ]
  },
  {
   "cell_type": "markdown",
   "metadata": {
    "hidden": true
   },
   "source": [
    "Let’s say that Jack the Dog gets a little too close to the microwave when he eats his dinner one day—and he sprouts an extra pair of legs. How’d you represent that in the little code sandbox we’ve got so far? The first idea for a solution might be to simply modify the num_legs variable on the Dog class:"
   ]
  },
  {
   "cell_type": "code",
   "execution_count": 372,
   "metadata": {
    "ExecuteTime": {
     "end_time": "2019-09-03T02:08:37.181654Z",
     "start_time": "2019-09-03T02:08:37.176771Z"
    },
    "hidden": true
   },
   "outputs": [],
   "source": [
    "Dog.num_legs = 6"
   ]
  },
  {
   "cell_type": "markdown",
   "metadata": {
    "hidden": true
   },
   "source": [
    "But remember, we don’t want all dogs to start scurrying around on six legs. So now we’ve just turned every dog instance in our little universe into Super Dog because we’ve modified a class variable. And this affects all dogs, even those created previously:"
   ]
  },
  {
   "cell_type": "code",
   "execution_count": 375,
   "metadata": {
    "ExecuteTime": {
     "end_time": "2019-09-03T02:09:12.144490Z",
     "start_time": "2019-09-03T02:09:12.137656Z"
    },
    "hidden": true
   },
   "outputs": [
    {
     "data": {
      "text/plain": [
       "(6, 6)"
      ]
     },
     "execution_count": 375,
     "metadata": {},
     "output_type": "execute_result"
    }
   ],
   "source": [
    "jack = Dog('Jack')\n",
    "jill = Dog('Jill')\n",
    "jack.num_legs, jill.num_legs"
   ]
  },
  {
   "cell_type": "markdown",
   "metadata": {
    "hidden": true
   },
   "source": [
    "So that didn’t work. The reason it didn’t work is that modifying a class variable on the class namespace affects all instances of the class. **<font color = 'purple'>Let’s roll back the change to the class variable and instead try to give an extra pair o’ legs specifically to Jack only: </font>**"
   ]
  },
  {
   "cell_type": "code",
   "execution_count": 376,
   "metadata": {
    "ExecuteTime": {
     "end_time": "2019-09-03T02:14:04.719759Z",
     "start_time": "2019-09-03T02:14:04.713903Z"
    },
    "hidden": true
   },
   "outputs": [],
   "source": [
    "Dog.num_legs = 4\n",
    "jack.num_legs = 6"
   ]
  },
  {
   "cell_type": "code",
   "execution_count": 378,
   "metadata": {
    "ExecuteTime": {
     "end_time": "2019-09-03T02:14:46.430881Z",
     "start_time": "2019-09-03T02:14:46.422093Z"
    },
    "hidden": true
   },
   "outputs": [
    {
     "data": {
      "text/plain": [
       "(6, 4, 4)"
      ]
     },
     "execution_count": 378,
     "metadata": {},
     "output_type": "execute_result"
    }
   ],
   "source": [
    "jack.num_legs, jill.num_legs, Dog.num_legs"
   ]
  },
  {
   "cell_type": "markdown",
   "metadata": {
    "hidden": true
   },
   "source": [
    "Okay, this looks “pretty good” (aside from the fact that we just gave poor Jack some extra legs). But how did this change actually affect our Dog objects?\n",
    "\n",
    "<font color = 'blue'>You see, the trouble here is that while we got the result we wanted (extra legs for Jack), we introduced a num_legs instance variable to the Jack instance. And now the new num_legs instance variable “shadows” the class variable of the same name, overriding and hiding it when we access the object instance scope:</font>"
   ]
  },
  {
   "cell_type": "code",
   "execution_count": 380,
   "metadata": {
    "ExecuteTime": {
     "end_time": "2019-09-03T02:16:26.514337Z",
     "start_time": "2019-09-03T02:16:26.506527Z"
    },
    "hidden": true
   },
   "outputs": [
    {
     "data": {
      "text/plain": [
       "(6, 4)"
      ]
     },
     "execution_count": 380,
     "metadata": {},
     "output_type": "execute_result"
    }
   ],
   "source": [
    "jack.num_legs, jack.__class__.num_legs"
   ]
  },
  {
   "cell_type": "markdown",
   "metadata": {
    "hidden": true
   },
   "source": [
    "As you can see, the class variables seemingly got out of sync. This happened because writing to jack.num_legs created an instance variable with the same name as the class variable.\n",
    "\n",
    "This isn’t necessarily bad, but it’s important to be aware of what happened here, behind the scenes. Before I finally understood class-level and instance-level scope in Python, this was a great avenue for bugs to slip into my programs.\n",
    "\n",
    "To tell you the truth, <font color = 'red'>trying to modify a class variable through an object instance—which then accidentally creates an instance variable of the same name, shadowing the original class variable—is a bit of an OOP pitfall in Python</font>."
   ]
  },
  {
   "cell_type": "markdown",
   "metadata": {
    "heading_collapsed": true,
    "hidden": true
   },
   "source": [
    "##### A Dog-free Example"
   ]
  },
  {
   "cell_type": "markdown",
   "metadata": {
    "hidden": true
   },
   "source": [
    "I wanted to give you one more practical example of the useful things you can do with class variables. Something that’s a little closer to the real-world applications for class variables.\n",
    "\n",
    "The following ```CountedObject``` class keeps track of how many times it was instantiated over the lifetime of a program (which might actually be an interesting performance metric to know):"
   ]
  },
  {
   "cell_type": "code",
   "execution_count": 387,
   "metadata": {
    "ExecuteTime": {
     "end_time": "2019-09-03T02:22:43.528382Z",
     "start_time": "2019-09-03T02:22:43.522525Z"
    },
    "hidden": true
   },
   "outputs": [],
   "source": [
    "class CountedObject:\n",
    "    num_instances = 0\n",
    "\n",
    "    def __init__(self):\n",
    "        self.__class__.num_instances += 1"
   ]
  },
  {
   "cell_type": "markdown",
   "metadata": {
    "hidden": true
   },
   "source": [
    "```CountedObject``` keeps a ```num_instances``` class variable that serves as\n",
    "a shared counter. When the class is declared, it initializes the counter\n",
    "to zero and then leaves it alone.\n",
    "Every time you create a new instance of this class, it increments the\n",
    "shared counter by one when the ```__init__``` constructor runs:"
   ]
  },
  {
   "cell_type": "code",
   "execution_count": 388,
   "metadata": {
    "ExecuteTime": {
     "end_time": "2019-09-03T02:22:46.373296Z",
     "start_time": "2019-09-03T02:22:46.360604Z"
    },
    "hidden": true
   },
   "outputs": [
    {
     "data": {
      "text/plain": [
       "0"
      ]
     },
     "execution_count": 388,
     "metadata": {},
     "output_type": "execute_result"
    },
    {
     "data": {
      "text/plain": [
       "1"
      ]
     },
     "execution_count": 388,
     "metadata": {},
     "output_type": "execute_result"
    },
    {
     "data": {
      "text/plain": [
       "2"
      ]
     },
     "execution_count": 388,
     "metadata": {},
     "output_type": "execute_result"
    }
   ],
   "source": [
    "CountedObject.num_instances\n",
    "CountedObject().num_instances\n",
    "CountedObject().num_instances"
   ]
  },
  {
   "cell_type": "code",
   "execution_count": 389,
   "metadata": {
    "ExecuteTime": {
     "end_time": "2019-09-03T02:22:48.533828Z",
     "start_time": "2019-09-03T02:22:48.521136Z"
    },
    "hidden": true
   },
   "outputs": [
    {
     "data": {
      "text/plain": [
       "3"
      ]
     },
     "execution_count": 389,
     "metadata": {},
     "output_type": "execute_result"
    },
    {
     "data": {
      "text/plain": [
       "3"
      ]
     },
     "execution_count": 389,
     "metadata": {},
     "output_type": "execute_result"
    }
   ],
   "source": [
    "CountedObject().num_instances\n",
    "CountedObject.num_instances"
   ]
  },
  {
   "cell_type": "code",
   "execution_count": 391,
   "metadata": {
    "ExecuteTime": {
     "end_time": "2019-09-03T02:23:01.729104Z",
     "start_time": "2019-09-03T02:23:01.718365Z"
    },
    "hidden": true
   },
   "outputs": [
    {
     "data": {
      "text/plain": [
       "5"
      ]
     },
     "execution_count": 391,
     "metadata": {},
     "output_type": "execute_result"
    },
    {
     "data": {
      "text/plain": [
       "5"
      ]
     },
     "execution_count": 391,
     "metadata": {},
     "output_type": "execute_result"
    },
    {
     "data": {
      "text/plain": [
       "5"
      ]
     },
     "execution_count": 391,
     "metadata": {},
     "output_type": "execute_result"
    }
   ],
   "source": [
    "CountedObject().num_instances\n",
    "CountedObject.num_instances\n",
    "CountedObject.num_instances"
   ]
  },
  {
   "cell_type": "code",
   "execution_count": 392,
   "metadata": {
    "ExecuteTime": {
     "end_time": "2019-09-03T02:25:14.794769Z",
     "start_time": "2019-09-03T02:25:14.773292Z"
    },
    "hidden": true
   },
   "outputs": [
    {
     "data": {
      "text/plain": [
       "0"
      ]
     },
     "execution_count": 392,
     "metadata": {},
     "output_type": "execute_result"
    },
    {
     "data": {
      "text/plain": [
       "1"
      ]
     },
     "execution_count": 392,
     "metadata": {},
     "output_type": "execute_result"
    },
    {
     "data": {
      "text/plain": [
       "1"
      ]
     },
     "execution_count": 392,
     "metadata": {},
     "output_type": "execute_result"
    },
    {
     "data": {
      "text/plain": [
       "1"
      ]
     },
     "execution_count": 392,
     "metadata": {},
     "output_type": "execute_result"
    },
    {
     "data": {
      "text/plain": [
       "0"
      ]
     },
     "execution_count": 392,
     "metadata": {},
     "output_type": "execute_result"
    }
   ],
   "source": [
    "# WARNING: This implementation contains a bug\n",
    "\n",
    "class BuggyCountedObject:\n",
    "    num_instances = 0\n",
    "\n",
    "    def __init__(self):\n",
    "        self.num_instances += 1 # !!!\n",
    "\n",
    "BuggyCountedObject.num_instances\n",
    "BuggyCountedObject().num_instances\n",
    "BuggyCountedObject().num_instances\n",
    "BuggyCountedObject().num_instances\n",
    "BuggyCountedObject.num_instances\n"
   ]
  },
  {
   "cell_type": "markdown",
   "metadata": {
    "hidden": true
   },
   "source": [
    "This (buggy) implementation never increments the shared counter because I made the mistake I explained in the “Jack the Dog” example earlier. This implementation won’t work because I accidentally “shadowed” the ```num_instance``` class variable by creating an instance variable of the same name in the constructor.\n",
    "\n",
    "<font color = 'red'>It correctly calculates the new value for the counter (going from 0 to 1), but then stores the result in an instance variable—which means other instances of the class never even see the updated counter value.</font>"
   ]
  },
  {
   "cell_type": "markdown",
   "metadata": {
    "heading_collapsed": true,
    "hidden": true
   },
   "source": [
    "##### Key Takeaways"
   ]
  },
  {
   "cell_type": "raw",
   "metadata": {
    "hidden": true
   },
   "source": [
    "• Class variables are for data shared by all instances of a class. They belong to a class, not a specific instance and are shared among all instances of a class.\n",
    "\n",
    "• Instance variables are for data that is unique to each instance. They belong to individual object instances and are not shared among the other instances of a class. Each instance variable gets a unique backing store specific to the instance.\n",
    "\n",
    "• Because class variables can be “shadowed” by instance variables of the same name, it’s easy to (accidentally) override class variables in a way that introduces bugs and odd behavior."
   ]
  },
  {
   "cell_type": "markdown",
   "metadata": {
    "heading_collapsed": true
   },
   "source": [
    "## Instance, Class, and Static Methods Demystified"
   ]
  },
  {
   "cell_type": "code",
   "execution_count": 393,
   "metadata": {
    "ExecuteTime": {
     "end_time": "2019-09-03T02:31:42.063269Z",
     "start_time": "2019-09-03T02:31:42.055458Z"
    },
    "hidden": true
   },
   "outputs": [],
   "source": [
    "# Let’s begin by writing a (Python 3) class that contains simple examples\n",
    "# for all three method types:\n",
    "class MyClass:\n",
    "    def method(self):\n",
    "        return 'instance method called', self\n",
    "\n",
    "    @classmethod\n",
    "    def classmethod(cls):\n",
    "        return 'class method called', cls\n",
    "\n",
    "    @staticmethod\n",
    "    def staticmethod():\n",
    "        return 'static method called'"
   ]
  },
  {
   "cell_type": "markdown",
   "metadata": {
    "heading_collapsed": true,
    "hidden": true
   },
   "source": [
    "##### Instance Methods"
   ]
  },
  {
   "cell_type": "markdown",
   "metadata": {
    "hidden": true
   },
   "source": [
    "The first method on ```MyClass```, called method, is a regular <span style='background-color: lightgreen'>instance method</span>. That’s the basic, no-frills method type you’ll use most of the time. \n",
    "\n",
    "You can see the method takes one parameter, self, which points to an instance of ```MyClass``` when the method is called. But of course, instance methods can accept more than just one parameter.\n",
    "\n",
    "* Through the ```self``` parameter, instance methods can freely access attributes and other methods on the same object. This gives them a lot of power when it comes to modifying an object’s state.\n",
    "\n",
    "\n",
    "* Not only can they modify object state, instance methods can also access the class itself through the ```self.__class__``` attribute. This means instance methods can also modify class state."
   ]
  },
  {
   "cell_type": "markdown",
   "metadata": {
    "heading_collapsed": true,
    "hidden": true
   },
   "source": [
    "##### Class Methods"
   ]
  },
  {
   "cell_type": "markdown",
   "metadata": {
    "hidden": true
   },
   "source": [
    "Let’s compare that to the second method, ```MyClass.classmethod```. I marked this method with a ```@classmethod``` decorator to flag it as a class method. (https://docs.python.org/3/library/functions.html#classmethod)\n",
    "\n",
    "* <font color = 'blue'>Instead of accepting a self parameter, class methods take a cls parameter that points to the class—and not the object instance—when the method is called</font>. \n",
    "\n",
    "\n",
    "* <font color = 'blue'>Since the class method only has access to this ```cls``` argument, it can’t modify object instance state. That would require access to self. However, class methods can still modify class state that applies across all instances of the class</font>."
   ]
  },
  {
   "cell_type": "markdown",
   "metadata": {
    "heading_collapsed": true,
    "hidden": true
   },
   "source": [
    "##### Static Methods"
   ]
  },
  {
   "cell_type": "markdown",
   "metadata": {
    "hidden": true
   },
   "source": [
    "The third method, MyClass.staticmethod was marked with a\n",
    "```@staticmethod``` decorator to flag it as a static method.\n",
    "https://docs.python.org/3/library/functions.html#staticmethod\n",
    "\n",
    "* This type of method doesn’t take a self or a cls parameter, although, of course, it can be made to accept an arbitrary number of other parameters.\n",
    "\n",
    "\n",
    "* As a result, a static method cannot modify object state or class state. Static methods are restricted in what data they can access—<font color = 'blue'>they’re primarily a way to namespace your methods</font>."
   ]
  },
  {
   "cell_type": "markdown",
   "metadata": {
    "heading_collapsed": true,
    "hidden": true
   },
   "source": [
    "##### Let's See Them in Action!"
   ]
  },
  {
   "cell_type": "markdown",
   "metadata": {
    "hidden": true
   },
   "source": [
    "MyClass was set up in such a way that each method’s implementation returns a tuple containing information we can use to trace what’s going on and which parts of the class or object that method can access. Here’s what happens when we call an instance method:"
   ]
  },
  {
   "cell_type": "code",
   "execution_count": 395,
   "metadata": {
    "ExecuteTime": {
     "end_time": "2019-09-03T02:46:18.093722Z",
     "start_time": "2019-09-03T02:46:18.087863Z"
    },
    "hidden": true
   },
   "outputs": [
    {
     "data": {
      "text/plain": [
       "('instance method called', <__main__.MyClass at 0x1ed74726a90>)"
      ]
     },
     "execution_count": 395,
     "metadata": {},
     "output_type": "execute_result"
    }
   ],
   "source": [
    "obj = MyClass()\n",
    "obj.method()"
   ]
  },
  {
   "cell_type": "markdown",
   "metadata": {
    "hidden": true
   },
   "source": [
    "When the method is called, Python replaces the self argument with the instance object, obj. We could ignore the syntactic sugar provided by the obj.method() dot-call syntax and pass the instance object manually to get the same result:"
   ]
  },
  {
   "cell_type": "code",
   "execution_count": 396,
   "metadata": {
    "ExecuteTime": {
     "end_time": "2019-09-03T02:46:31.599549Z",
     "start_time": "2019-09-03T02:46:31.592717Z"
    },
    "hidden": true
   },
   "outputs": [
    {
     "data": {
      "text/plain": [
       "('instance method called', <__main__.MyClass at 0x1ed74726a90>)"
      ]
     },
     "execution_count": 396,
     "metadata": {},
     "output_type": "execute_result"
    }
   ],
   "source": [
    "MyClass.method(obj)"
   ]
  },
  {
   "cell_type": "markdown",
   "metadata": {
    "hidden": true
   },
   "source": [
    "By the way, instance methods can also access the class itself through the ```self.__class__``` attribute. This makes instance methods powerful in terms of access restrictions—they can freely modify state on the object instance and on the class itself."
   ]
  },
  {
   "cell_type": "code",
   "execution_count": 398,
   "metadata": {
    "ExecuteTime": {
     "end_time": "2019-09-03T02:49:35.069742Z",
     "start_time": "2019-09-03T02:49:35.063885Z"
    },
    "hidden": true
   },
   "outputs": [
    {
     "data": {
      "text/plain": [
       "('class method called', __main__.MyClass)"
      ]
     },
     "execution_count": 398,
     "metadata": {},
     "output_type": "execute_result"
    }
   ],
   "source": [
    "# Let’s try out the class method next:\n",
    "\n",
    "obj.classmethod()"
   ]
  },
  {
   "cell_type": "markdown",
   "metadata": {
    "hidden": true
   },
   "source": [
    "Calling ```classmethod()``` showed us that it doesn’t have access to the <MyClass instance> object, but only to the ```<class MyClass>``` object, representing the class itself (everything in Python is an object, even classes themselves).\n",
    "    \n",
    "Notice how Python automatically passes the class as the first argument to the function when we call MyClass.classmethod(). Calling a method in Python through the dot syntax triggers this behavior. The self parameter on instance methods works the same way.\n",
    "\n",
    "Please note that naming these parameters self and cls is just a convention. You could just as easily name them the_object and the_class and get the same result. All that matters is that they’re positioned first in the parameter list for that particular method."
   ]
  },
  {
   "cell_type": "code",
   "execution_count": 399,
   "metadata": {
    "ExecuteTime": {
     "end_time": "2019-09-03T02:52:21.340556Z",
     "start_time": "2019-09-03T02:52:21.334700Z"
    },
    "hidden": true
   },
   "outputs": [
    {
     "data": {
      "text/plain": [
       "'static method called'"
      ]
     },
     "execution_count": 399,
     "metadata": {},
     "output_type": "execute_result"
    }
   ],
   "source": [
    "# Time to call the static method now:\n",
    "obj.staticmethod()"
   ]
  },
  {
   "cell_type": "markdown",
   "metadata": {
    "hidden": true
   },
   "source": [
    "Did you see how we called staticmethod() on the object and were\n",
    "able to do so successfully? Some developers are surprised when they\n",
    "learn that it’s possible to call a static method on an object instance. \n",
    "\n",
    "Behind the scenes, Python simply enforces the access restrictions by not passing in the self or the cls argument when a static method gets called using the dot syntax.\n",
    "\n",
    "This confirms that static methods can neither access the object instance state nor the class state. They work like regular functions but belong to the class’ (and every instance’s) namespace.\n",
    "\n",
    "**<font color = 'purple'>Now, let’s take a look at what happens when we attempt to call these methods on the class itself, without creating an object instance beforehand: </font>**"
   ]
  },
  {
   "cell_type": "code",
   "execution_count": 400,
   "metadata": {
    "ExecuteTime": {
     "end_time": "2019-09-03T02:53:52.790119Z",
     "start_time": "2019-09-03T02:53:52.768644Z"
    },
    "hidden": true
   },
   "outputs": [
    {
     "data": {
      "text/plain": [
       "('class method called', __main__.MyClass)"
      ]
     },
     "execution_count": 400,
     "metadata": {},
     "output_type": "execute_result"
    },
    {
     "data": {
      "text/plain": [
       "'static method called'"
      ]
     },
     "execution_count": 400,
     "metadata": {},
     "output_type": "execute_result"
    },
    {
     "ename": "TypeError",
     "evalue": "method() missing 1 required positional argument: 'self'",
     "output_type": "error",
     "traceback": [
      "\u001b[1;31m---------------------------------------------------------------------------\u001b[0m",
      "\u001b[1;31mTypeError\u001b[0m                                 Traceback (most recent call last)",
      "\u001b[1;32m<ipython-input-400-7d16dbf155b6>\u001b[0m in \u001b[0;36m<module>\u001b[1;34m\u001b[0m\n\u001b[0;32m      1\u001b[0m \u001b[0mMyClass\u001b[0m\u001b[1;33m.\u001b[0m\u001b[0mclassmethod\u001b[0m\u001b[1;33m(\u001b[0m\u001b[1;33m)\u001b[0m\u001b[1;33m\u001b[0m\u001b[1;33m\u001b[0m\u001b[0m\n\u001b[0;32m      2\u001b[0m \u001b[0mMyClass\u001b[0m\u001b[1;33m.\u001b[0m\u001b[0mstaticmethod\u001b[0m\u001b[1;33m(\u001b[0m\u001b[1;33m)\u001b[0m\u001b[1;33m\u001b[0m\u001b[1;33m\u001b[0m\u001b[0m\n\u001b[1;32m----> 3\u001b[1;33m \u001b[0mMyClass\u001b[0m\u001b[1;33m.\u001b[0m\u001b[0mmethod\u001b[0m\u001b[1;33m(\u001b[0m\u001b[1;33m)\u001b[0m\u001b[1;33m\u001b[0m\u001b[1;33m\u001b[0m\u001b[0m\n\u001b[0m",
      "\u001b[1;31mTypeError\u001b[0m: method() missing 1 required positional argument: 'self'"
     ]
    }
   ],
   "source": [
    "MyClass.classmethod()\n",
    "MyClass.staticmethod()\n",
    "MyClass.method()"
   ]
  },
  {
   "cell_type": "markdown",
   "metadata": {
    "hidden": true
   },
   "source": [
    "We were able to call ```classmethod()``` and ```staticmethod()``` just fine, but attempting to call the instance method method() failed with a ```TypeError```. \n",
    "\n",
    "This is to be expected. This time we didn’t create an object instance and tried calling an instance function directly on the class blueprint itself. \n",
    "\n",
    "* This means there is no way for Python to populate the self argument and therefore the call fails with a ```TypeError``` exception. \n",
    "\n",
    "This should make the distinction between these three method types a little more clear. But don’t worry, I’m not going to leave it at that. In the next two sections I’ll go over two slightly more realistic examples of when to use these special method types."
   ]
  },
  {
   "cell_type": "markdown",
   "metadata": {
    "heading_collapsed": true,
    "hidden": true
   },
   "source": [
    "###### **<font color = 'purple'>I will base my examples around this bare-bones Pizza class: </font>**"
   ]
  },
  {
   "cell_type": "code",
   "execution_count": 401,
   "metadata": {
    "ExecuteTime": {
     "end_time": "2019-09-03T02:56:45.412662Z",
     "start_time": "2019-09-03T02:56:45.404851Z"
    },
    "hidden": true
   },
   "outputs": [
    {
     "data": {
      "text/plain": [
       "Pizza(['cheese', 'tomatoes'])"
      ]
     },
     "execution_count": 401,
     "metadata": {},
     "output_type": "execute_result"
    }
   ],
   "source": [
    "class Pizza:\n",
    "    def __init__(self, ingredients):\n",
    "        self.ingredients = ingredients\n",
    "\n",
    "    def __repr__(self):\n",
    "        return f'Pizza({self.ingredients!r})'\n",
    "\n",
    "Pizza(['cheese', 'tomatoes'])"
   ]
  },
  {
   "cell_type": "markdown",
   "metadata": {
    "heading_collapsed": true,
    "hidden": true
   },
   "source": [
    "###### Delicious Pizza Factories With @classmethod"
   ]
  },
  {
   "cell_type": "code",
   "execution_count": 403,
   "metadata": {
    "ExecuteTime": {
     "end_time": "2019-09-03T02:58:33.095645Z",
     "start_time": "2019-09-03T02:58:33.081000Z"
    },
    "hidden": true,
    "scrolled": true
   },
   "outputs": [
    {
     "data": {
      "text/plain": [
       "Pizza(['mozzarella', 'tomatoes'])"
      ]
     },
     "execution_count": 403,
     "metadata": {},
     "output_type": "execute_result"
    },
    {
     "data": {
      "text/plain": [
       "Pizza(['mozzarella', 'tomatoes', 'ham', 'mushrooms'])"
      ]
     },
     "execution_count": 403,
     "metadata": {},
     "output_type": "execute_result"
    },
    {
     "data": {
      "text/plain": [
       "Pizza(['mozzarella', 'mozzarella', 'mozzarella', 'mozzarella'])"
      ]
     },
     "execution_count": 403,
     "metadata": {},
     "output_type": "execute_result"
    }
   ],
   "source": [
    "Pizza(['mozzarella', 'tomatoes'])\n",
    "Pizza(['mozzarella', 'tomatoes', 'ham', 'mushrooms'])\n",
    "Pizza(['mozzarella'] * 4)"
   ]
  },
  {
   "cell_type": "markdown",
   "metadata": {
    "hidden": true
   },
   "source": [
    "The Italians figured out their pizza taxonomy centuries ago, and so these delicious types of pizza all have their own names. We’d do well to take advantage of that and give the users of our Pizza class a better interface for creating the pizza objects they crave. A nice and clean way to do that is by using class methods as factory functions for the different kinds of pizzas we can create:\n",
    "\n",
    "https://en.wikipedia.org/wiki/Factory_(object-oriented_programming)"
   ]
  },
  {
   "cell_type": "code",
   "execution_count": 406,
   "metadata": {
    "ExecuteTime": {
     "end_time": "2019-09-03T03:00:59.096908Z",
     "start_time": "2019-09-03T03:00:59.087143Z"
    },
    "hidden": true
   },
   "outputs": [],
   "source": [
    "class Pizza:\n",
    "    def __init__(self, ingredients):\n",
    "        self.ingredients = ingredients\n",
    "\n",
    "    def __repr__(self):\n",
    "        return f'Pizza({self.ingredients!r})'\n",
    "    \n",
    "    @classmethod\n",
    "    def margherita(cls):\n",
    "        return cls(['mozzarella', 'tomatoes'])\n",
    "\n",
    "    @classmethod\n",
    "    def prosciutto(cls):\n",
    "        return cls(['mozzarella', 'tomatoes', 'ham'])\n",
    "    "
   ]
  },
  {
   "cell_type": "markdown",
   "metadata": {
    "hidden": true
   },
   "source": [
    "<font color = 'blue'>Note how I’m using the cls argument in the margherita and prosciutto factory methods instead of calling the Pizza constructor directly</font>.\n",
    "\n",
    "This is a trick you can use to follow the Don’t Repeat Yourself (DRY)8 principle. <font color = 'blue'>If we decide to rename this class at some point, we won’t have to remember to update the constructor name in all of the factory functions</font>. Now, what can we do with these factory methods? Let’s try them out:\n",
    "\n",
    "https://en.wikipedia.org/wiki/Don't_repeat_yourself"
   ]
  },
  {
   "cell_type": "code",
   "execution_count": 408,
   "metadata": {
    "ExecuteTime": {
     "end_time": "2019-09-03T03:02:38.194051Z",
     "start_time": "2019-09-03T03:02:38.185265Z"
    },
    "hidden": true
   },
   "outputs": [
    {
     "data": {
      "text/plain": [
       "Pizza(['mozzarella', 'tomatoes'])"
      ]
     },
     "execution_count": 408,
     "metadata": {},
     "output_type": "execute_result"
    },
    {
     "data": {
      "text/plain": [
       "Pizza(['mozzarella', 'tomatoes', 'ham'])"
      ]
     },
     "execution_count": 408,
     "metadata": {},
     "output_type": "execute_result"
    }
   ],
   "source": [
    "Pizza.margherita()\n",
    "Pizza.prosciutto()"
   ]
  },
  {
   "cell_type": "markdown",
   "metadata": {
    "hidden": true
   },
   "source": [
    "<font color = 'blue'>As you can see, we can use the factory functions to create new Pizza objects that are configured just the way we want them</font>. \n",
    "\n",
    "* They all use the same ```__init__``` constructor internally and simply provide a shortcut for remembering all of the various ingredients. \n",
    "\n",
    "* Another way to look at this use of class methods is to realize that they allow you to define alternative constructors for your classes. \n",
    "\n",
    "* Python only allows one ```__init__``` method per class. Using class methods makes it possible to add as many alternative constructors as necessary. This can make the interface for your classes self-documenting (to a certain degree) and simplify their usage."
   ]
  },
  {
   "cell_type": "markdown",
   "metadata": {
    "heading_collapsed": true,
    "hidden": true
   },
   "source": [
    "###### When To Use Static Methods"
   ]
  },
  {
   "cell_type": "markdown",
   "metadata": {
    "hidden": true
   },
   "source": [
    "It’s a little more difficult to come up with a good example here, but\n",
    "tell you what—I’ll just keep stretching the pizza analogy thinner and\n",
    "thinner… (yum!)"
   ]
  },
  {
   "cell_type": "code",
   "execution_count": 409,
   "metadata": {
    "ExecuteTime": {
     "end_time": "2019-09-03T03:05:50.012916Z",
     "start_time": "2019-09-03T03:05:50.003150Z"
    },
    "hidden": true
   },
   "outputs": [],
   "source": [
    "import math\n",
    "\n",
    "class Pizza:\n",
    "    def __init__(self, radius, ingredients):\n",
    "        self.radius = radius\n",
    "        self.ingredients = ingredients\n",
    "\n",
    "    def __repr__(self):\n",
    "        return (f'Pizza({self.radius!r}, '\n",
    "                f'{self.ingredients!r})')\n",
    "\n",
    "    def area(self):\n",
    "        return self.circle_area(self.radius)\n",
    "\n",
    "    @staticmethod\n",
    "    def circle_area(r):\n",
    "        return r ** 2 * math.pi"
   ]
  },
  {
   "cell_type": "markdown",
   "metadata": {
    "hidden": true
   },
   "source": [
    "Now what did I change here? First, I modified the constructor and __repr__ to accept an extra radius argument. I also added an area() instance method that calculates and returns the pizza’s area. This would also be a good candidate for an @property—but hey, this is just a toy example.\n",
    "\n",
    "Instead of calculating the area directly within ```area()```, by using the\n",
    "well-known circle area formula, I factored that out to a separate\n",
    "```circle_area()``` static method."
   ]
  },
  {
   "cell_type": "code",
   "execution_count": 410,
   "metadata": {
    "ExecuteTime": {
     "end_time": "2019-09-03T03:31:17.517520Z",
     "start_time": "2019-09-03T03:31:17.510687Z"
    },
    "hidden": true
   },
   "outputs": [
    {
     "data": {
      "text/plain": [
       "Pizza(4, ['mozzarella', 'tomatoes'])"
      ]
     },
     "execution_count": 410,
     "metadata": {},
     "output_type": "execute_result"
    }
   ],
   "source": [
    "p = Pizza(4, ['mozzarella', 'tomatoes'])\n",
    "p"
   ]
  },
  {
   "cell_type": "code",
   "execution_count": 411,
   "metadata": {
    "ExecuteTime": {
     "end_time": "2019-09-03T03:31:28.128539Z",
     "start_time": "2019-09-03T03:31:28.122683Z"
    },
    "hidden": true
   },
   "outputs": [
    {
     "data": {
      "text/plain": [
       "50.26548245743669"
      ]
     },
     "execution_count": 411,
     "metadata": {},
     "output_type": "execute_result"
    }
   ],
   "source": [
    "p.area()"
   ]
  },
  {
   "cell_type": "code",
   "execution_count": 412,
   "metadata": {
    "ExecuteTime": {
     "end_time": "2019-09-03T03:31:41.364103Z",
     "start_time": "2019-09-03T03:31:41.358247Z"
    },
    "hidden": true
   },
   "outputs": [
    {
     "data": {
      "text/plain": [
       "50.26548245743669"
      ]
     },
     "execution_count": 412,
     "metadata": {},
     "output_type": "execute_result"
    }
   ],
   "source": [
    "Pizza.circle_area(4)"
   ]
  },
  {
   "cell_type": "markdown",
   "metadata": {
    "hidden": true
   },
   "source": [
    "<font color = 'blue'>As we’ve learned, static methods can’t access class or instance state because they don’t take a cls or self argument. That’s a big limitation— but it’s also a great signal to show that a particular method is independent from everything else around it.</font>\n",
    "\n",
    "* In the above example, it’s clear that circle_area() can’t modify the class or the class instance in any way. (Sure, you could always work around that with a global variable, but that’s not the point here.) \n",
    "\n",
    "**<font color = 'purple'>Now, why is that useful? </font>**\n",
    "\n",
    "Flagging a method as a static method is not just a hint that a method won’t modify class or instance state. As you’ve seen, this restriction is also enforced by the Python runtime. \n",
    "\n",
    "<font color = 'blue'>Techniques like that allow you to communicate clearly about parts of your class architecture so that new development work is naturally guided to happen within these boundaries</font>. Of course, it would be easy enough to defy these restrictions. But in practice, they often help avoid accidental modifications that go against the original design.\n",
    "\n",
    "Put differently, using static methods and class methods are ways to communicate developer intent while enforcing that intent enough to avoid most “slip of the mind” mistakes and bugs that would break the design. \n",
    "\n",
    "Applied sparingly and when it makes sense, writing some of your methods that way can provide maintenance benefits and make it less likely that other developers use your classes incorrectly.\n",
    "\n",
    "Static methods also have benefits when it comes to writing test code. Since the circle_area() method is completely independent from the rest of the class, it’s much easier to test.\n",
    "\n",
    "We don’t have to worry about setting up a complete class instance before we can test the method in a unit test. We can just fire away like we would if we were testing a regular function. Again, this makes future maintenance easier and provides a link between object-oriented and procedural programming styles."
   ]
  },
  {
   "cell_type": "markdown",
   "metadata": {
    "heading_collapsed": true,
    "hidden": true
   },
   "source": [
    "##### Key Takeaways"
   ]
  },
  {
   "cell_type": "raw",
   "metadata": {
    "hidden": true
   },
   "source": [
    "• Instance methods need a class instance and can access the in-\n",
    "stance through self\n",
    "\n",
    "• Class methods don’t need a class instance. They can’t access the\n",
    "instance (self) but they have access to the class itself via cls.\n",
    "\n",
    "• Static methods don’t have access to cls or self. They work like\n",
    "regular functions but belong to the class’ namespace.\n",
    "\n",
    "• Static and class methods communicate and (to a certain degree)\n",
    "enforce developer intent about class design. This can have def-\n",
    "inite maintenance benefits."
   ]
  },
  {
   "cell_type": "markdown",
   "metadata": {
    "hidden": true
   },
   "source": []
  }
 ],
 "metadata": {
  "hide_input": false,
  "kernelspec": {
   "display_name": "Python 3",
   "language": "python",
   "name": "python3"
  },
  "language_info": {
   "codemirror_mode": {
    "name": "ipython",
    "version": 3
   },
   "file_extension": ".py",
   "mimetype": "text/x-python",
   "name": "python",
   "nbconvert_exporter": "python",
   "pygments_lexer": "ipython3",
   "version": "3.7.1"
  },
  "toc": {
   "base_numbering": 1,
   "nav_menu": {},
   "number_sections": true,
   "sideBar": true,
   "skip_h1_title": false,
   "title_cell": "Table of Contents",
   "title_sidebar": "Contents",
   "toc_cell": true,
   "toc_position": {},
   "toc_section_display": true,
   "toc_window_display": false
  }
 },
 "nbformat": 4,
 "nbformat_minor": 2
}
