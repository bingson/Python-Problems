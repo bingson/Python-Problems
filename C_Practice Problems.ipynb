{
 "cells": [
  {
   "cell_type": "markdown",
   "metadata": {
    "toc": true
   },
   "source": [
    "<h1>Table of Contents<span class=\"tocSkip\"></span></h1>\n",
    "<div class=\"toc\"><ul class=\"toc-item\"><li><span><a href=\"#Sample-Shopify-Questions\" data-toc-modified-id=\"Sample-Shopify-Questions-1\"><span class=\"toc-item-num\">1&nbsp;&nbsp;</span>Sample Shopify Questions</a></span><ul class=\"toc-item\"><li><span><a href=\"#What's-the-Smaller-Angle\" data-toc-modified-id=\"What's-the-Smaller-Angle-1.1\"><span class=\"toc-item-num\">1.1&nbsp;&nbsp;</span><font color=\"lightgrey\">What's the Smaller Angle</font></a></span></li><li><span><a href=\"#find-the-Powerset-of-a-given-set-(combinations-and-permutations)\" data-toc-modified-id=\"find-the-Powerset-of-a-given-set-(combinations-and-permutations)-1.2\"><span class=\"toc-item-num\">1.2&nbsp;&nbsp;</span><font color=\"lightgrey\">find the Powerset of a given set (combinations and permutations)</font></a></span></li><li><span><a href=\"#Shopify-Sept-6,-interview-question\" data-toc-modified-id=\"Shopify-Sept-6,-interview-question-1.3\"><span class=\"toc-item-num\">1.3&nbsp;&nbsp;</span><font color=\"blue\">Shopify Sept 6, interview question</font></a></span></li></ul></li><li><span><a href=\"#Hackerrank-Questions\" data-toc-modified-id=\"Hackerrank-Questions-2\"><span class=\"toc-item-num\">2&nbsp;&nbsp;</span>Hackerrank Questions</a></span><ul class=\"toc-item\"><li><span><a href=\"#Sock-Merchant-(default-dict)\" data-toc-modified-id=\"Sock-Merchant-(default-dict)-2.1\"><span class=\"toc-item-num\">2.1&nbsp;&nbsp;</span>Sock Merchant (default dict)</a></span><ul class=\"toc-item\"><li><span><a href=\"#Question\" data-toc-modified-id=\"Question-2.1.1\"><span class=\"toc-item-num\">2.1.1&nbsp;&nbsp;</span>Question</a></span></li><li><span><a href=\"#Answer\" data-toc-modified-id=\"Answer-2.1.2\"><span class=\"toc-item-num\">2.1.2&nbsp;&nbsp;</span>Answer</a></span></li><li><span><a href=\"#buffer\" data-toc-modified-id=\"buffer-2.1.3\"><span class=\"toc-item-num\">2.1.3&nbsp;&nbsp;</span>buffer</a></span></li></ul></li><li><span><a href=\"#Jumping-on-the-Clouds-(list-comprehension)\" data-toc-modified-id=\"Jumping-on-the-Clouds-(list-comprehension)-2.2\"><span class=\"toc-item-num\">2.2&nbsp;&nbsp;</span>Jumping on the Clouds (list comprehension)</a></span><ul class=\"toc-item\"><li><span><a href=\"#Question\" data-toc-modified-id=\"Question-2.2.1\"><span class=\"toc-item-num\">2.2.1&nbsp;&nbsp;</span>Question</a></span></li></ul></li><li><span><a href=\"#Repeated-String\" data-toc-modified-id=\"Repeated-String-2.3\"><span class=\"toc-item-num\">2.3&nbsp;&nbsp;</span>Repeated String</a></span></li><li><span><a href=\"#Counting-Valleys\" data-toc-modified-id=\"Counting-Valleys-2.4\"><span class=\"toc-item-num\">2.4&nbsp;&nbsp;</span>Counting Valleys</a></span></li></ul></li><li><span><a href=\"#Leetcode\" data-toc-modified-id=\"Leetcode-3\"><span class=\"toc-item-num\">3&nbsp;&nbsp;</span>Leetcode</a></span><ul class=\"toc-item\"><li><span><a href=\"#Given-a-valid-(IPv4)-IP-address,-return-a-defanged-version-of-that-IP-address.\" data-toc-modified-id=\"Given-a-valid-(IPv4)-IP-address,-return-a-defanged-version-of-that-IP-address.-3.1\"><span class=\"toc-item-num\">3.1&nbsp;&nbsp;</span>Given a valid (IPv4) IP address, return a defanged version of that IP address.</a></span></li><li><span><a href=\"#009.-Palindrome-Number\" data-toc-modified-id=\"009.-Palindrome-Number-3.2\"><span class=\"toc-item-num\">3.2&nbsp;&nbsp;</span>009. Palindrome Number</a></span></li><li><span><a href=\"#125.-Valid-Palindrome\" data-toc-modified-id=\"125.-Valid-Palindrome-3.3\"><span class=\"toc-item-num\">3.3&nbsp;&nbsp;</span>125. Valid Palindrome</a></span></li><li><span><a href=\"#131.-Palindrome-Partitioning-(med)--revisit\" data-toc-modified-id=\"131.-Palindrome-Partitioning-(med)--revisit-3.4\"><span class=\"toc-item-num\">3.4&nbsp;&nbsp;</span>131. <strong><font color=\"purple\">Palindrome Partitioning (med) </font></strong> <font color=\"red\">revisit</font></a></span></li><li><span><a href=\"#002.-add-two-numbers-(med---linked-lists)-revisit\" data-toc-modified-id=\"002.-add-two-numbers-(med---linked-lists)-revisit-3.5\"><span class=\"toc-item-num\">3.5&nbsp;&nbsp;</span>002. add-two-numbers (med - linked lists) <font color=\"red\">revisit</font></a></span></li><li><span><a href=\"#001.-two-sum\" data-toc-modified-id=\"001.-two-sum-3.6\"><span class=\"toc-item-num\">3.6&nbsp;&nbsp;</span>001. two-sum</a></span></li><li><span><a href=\"#003-Longest-Substring-Without-Repeating-Characters-(med)\" data-toc-modified-id=\"003-Longest-Substring-Without-Repeating-Characters-(med)-3.7\"><span class=\"toc-item-num\">3.7&nbsp;&nbsp;</span>003 Longest Substring Without Repeating Characters (med)</a></span></li></ul></li></ul></div>"
   ]
  },
  {
   "cell_type": "code",
   "execution_count": 13,
   "metadata": {
    "ExecuteTime": {
     "end_time": "2019-09-19T17:27:06.698590Z",
     "start_time": "2019-09-19T17:27:06.695593Z"
    }
   },
   "outputs": [],
   "source": [
    "# Pretty display multiple variables without print statement\n",
    "from IPython.core.interactiveshell import InteractiveShell\n",
    "InteractiveShell.ast_node_interactivity = \"all\""
   ]
  },
  {
   "cell_type": "markdown",
   "metadata": {},
   "source": [
    "# Sample Shopify Questions"
   ]
  },
  {
   "cell_type": "markdown",
   "metadata": {},
   "source": [
    "Sample remote coding exercises\n",
    "The following is an example problem. If you get this working on your machine you're ready to work on a similar problem at Shopify."
   ]
  },
  {
   "cell_type": "markdown",
   "metadata": {
    "heading_collapsed": true
   },
   "source": [
    "## <font color = 'lightgrey'>What's the Smaller Angle</font>"
   ]
  },
  {
   "cell_type": "raw",
   "metadata": {
    "hidden": true
   },
   "source": [
    "1) Write a function to calculate the smaller angle between the two handles of an analog clock, given the hour and minute values.\n",
    "\n",
    "Example input: (3, 20)\n",
    "\n",
    "Expected output: 30"
   ]
  },
  {
   "cell_type": "code",
   "execution_count": 68,
   "metadata": {
    "ExecuteTime": {
     "end_time": "2019-08-15T07:39:08.309712Z",
     "start_time": "2019-08-15T07:39:08.302714Z"
    },
    "hidden": true
   },
   "outputs": [],
   "source": [
    "def calc_angle(hours, minutes):\n",
    "    angle_1 = (max(hours*5, minutes) - min(hours*5, minutes))*6\n",
    "    angle_2 = 360 - angle_1\n",
    "    return min(angle_1, angle_2)"
   ]
  },
  {
   "cell_type": "code",
   "execution_count": 94,
   "metadata": {
    "ExecuteTime": {
     "end_time": "2019-08-15T08:06:25.201526Z",
     "start_time": "2019-08-15T08:06:25.195531Z"
    },
    "hidden": true
   },
   "outputs": [
    {
     "name": "stdout",
     "output_type": "stream",
     "text": [
      "30\n",
      "180\n",
      "150\n"
     ]
    }
   ],
   "source": [
    "print(calc_angle(3, 20))\n",
    "print(calc_angle(3, 45))\n",
    "print(calc_angle(3, 50))"
   ]
  },
  {
   "cell_type": "markdown",
   "metadata": {
    "heading_collapsed": true
   },
   "source": [
    "## <font color = 'lightgrey'>find the Powerset of a given set (combinations and permutations)</font> "
   ]
  },
  {
   "cell_type": "markdown",
   "metadata": {
    "hidden": true
   },
   "source": [
    "<font color = 'blue'>combinations</font> are all the different ways you can group a certain number of items where the order does not matter.\n",
    "\n",
    "<font color = 'blue'>permutations</font> are all the different ways you can group a certain number of items where the order does matter."
   ]
  },
  {
   "cell_type": "raw",
   "metadata": {
    "hidden": true
   },
   "source": [
    "2) Calculate the PowerSet of a given set S, which is the set of all subsets of S, including the empty set and S itself.\n",
    "\n",
    "Example input: {1, 3}\n",
    "\n",
    "Expected output: {{1, 3}, {1}, {3}, {}}"
   ]
  },
  {
   "cell_type": "code",
   "execution_count": 45,
   "metadata": {
    "ExecuteTime": {
     "end_time": "2019-08-21T17:55:17.870620Z",
     "start_time": "2019-08-21T17:55:17.863787Z"
    },
    "hidden": true
   },
   "outputs": [],
   "source": [
    "from itertools import chain, combinations\n",
    "\n",
    "def powerset(iterable):\n",
    "    \"powerset([1,2,3]) --> () (1,) (2,) (3,) (1,2) (1,3) (2,3) (1,2,3)\"\n",
    "    s = list(iterable)\n",
    "    return chain.from_iterable(combinations(s, r) for r in range(len(s)+1))\n",
    "\n"
   ]
  },
  {
   "cell_type": "code",
   "execution_count": 104,
   "metadata": {
    "ExecuteTime": {
     "end_time": "2019-08-15T08:28:29.326216Z",
     "start_time": "2019-08-15T08:28:29.321219Z"
    },
    "hidden": true
   },
   "outputs": [
    {
     "name": "stdout",
     "output_type": "stream",
     "text": [
      "()\n",
      "(1,)\n",
      "(3,)\n",
      "(1, 3)\n"
     ]
    }
   ],
   "source": [
    "a = powerset({1, 3})\n",
    "\n",
    "for i in a: \n",
    "    print(i)"
   ]
  },
  {
   "cell_type": "code",
   "execution_count": 48,
   "metadata": {
    "ExecuteTime": {
     "end_time": "2019-08-21T17:55:25.951995Z",
     "start_time": "2019-08-21T17:55:25.946137Z"
    },
    "hidden": true
   },
   "outputs": [
    {
     "data": {
      "text/plain": [
       "itertools.chain"
      ]
     },
     "execution_count": 48,
     "metadata": {},
     "output_type": "execute_result"
    }
   ],
   "source": [
    "a = powerset({1, 3})\n",
    "type(a)\n",
    "# for i in a: \n",
    "#     print(i)"
   ]
  },
  {
   "cell_type": "markdown",
   "metadata": {
    "heading_collapsed": true,
    "hidden": true
   },
   "source": [
    "##### Alternate solution"
   ]
  },
  {
   "cell_type": "code",
   "execution_count": 86,
   "metadata": {
    "ExecuteTime": {
     "end_time": "2019-08-22T08:04:50.879225Z",
     "start_time": "2019-08-22T08:04:50.865557Z"
    },
    "hidden": true
   },
   "outputs": [],
   "source": [
    "def powerset(seq):\n",
    "    \"\"\"\n",
    "    Returns all the subsets of this set. This is a generator.\n",
    "    \"\"\"\n",
    "    if len(seq) <= 1:\n",
    "        yield seq\n",
    "        yield []\n",
    "    else:\n",
    "        for item in powerset(seq[1:]):\n",
    "            yield [seq[0]]+item\n",
    "            yield item"
   ]
  },
  {
   "cell_type": "code",
   "execution_count": 87,
   "metadata": {
    "ExecuteTime": {
     "end_time": "2019-08-22T08:04:51.773052Z",
     "start_time": "2019-08-22T08:04:51.766217Z"
    },
    "hidden": true
   },
   "outputs": [],
   "source": [
    " l = [1, 2, 3, 4]\n",
    " r = [x for x in powerset(l)]"
   ]
  },
  {
   "cell_type": "code",
   "execution_count": 88,
   "metadata": {
    "ExecuteTime": {
     "end_time": "2019-08-22T08:04:55.835132Z",
     "start_time": "2019-08-22T08:04:55.828297Z"
    },
    "hidden": true
   },
   "outputs": [
    {
     "data": {
      "text/plain": [
       "[[1, 2, 3, 4],\n",
       " [2, 3, 4],\n",
       " [1, 3, 4],\n",
       " [3, 4],\n",
       " [1, 2, 4],\n",
       " [2, 4],\n",
       " [1, 4],\n",
       " [4],\n",
       " [1, 2, 3],\n",
       " [2, 3],\n",
       " [1, 3],\n",
       " [3],\n",
       " [1, 2],\n",
       " [2],\n",
       " [1],\n",
       " []]"
      ]
     },
     "execution_count": 88,
     "metadata": {},
     "output_type": "execute_result"
    }
   ],
   "source": [
    "r"
   ]
  },
  {
   "cell_type": "markdown",
   "metadata": {},
   "source": [
    "## <font color = 'blue'>Shopify Sept 6, interview question</font>"
   ]
  },
  {
   "cell_type": "code",
   "execution_count": 63,
   "metadata": {
    "ExecuteTime": {
     "end_time": "2019-09-16T23:36:53.212197Z",
     "start_time": "2019-09-16T23:36:53.205203Z"
    },
    "collapsed": true
   },
   "outputs": [
    {
     "name": "stdout",
     "output_type": "stream",
     "text": [
      "a,b:\t 3 5\n",
      "a,b:\t 3 5\n",
      "a,b:\t 3 5\n",
      "a,b:\t 3 5\n",
      "a,b:\t 3 5\n",
      "a,b:\t 3 5\n",
      "a,b:\t 3 5\n",
      "a,b:\t 3 5\n",
      "a,b:\t 3 5\n",
      "a,b:\t 3 5\n",
      "a,b:\t 3 5\n",
      "a,b:\t 3 5\n",
      "a,b:\t 3 5\n"
     ]
    }
   ],
   "source": [
    "sessions_4 = [(3,5),]*13\n",
    "\n",
    "for (a,b) in sessions_4:\n",
    "    print('a,b:\\t', a,b)"
   ]
  },
  {
   "cell_type": "code",
   "execution_count": 115,
   "metadata": {
    "ExecuteTime": {
     "end_time": "2019-09-17T00:02:25.642113Z",
     "start_time": "2019-09-17T00:02:25.633122Z"
    },
    "code_folding": []
   },
   "outputs": [],
   "source": [
    "from typing import List\n",
    "from operator import itemgetter\n",
    "\n",
    "def max_sessions(input_list: List[tuple]) -> int:\n",
    "    \n",
    "    max_sessions: int = 0\n",
    "    current_sessions: int = 0\n",
    "        \n",
    "    start: int = min(input_list, key = itemgetter(0))[0] \n",
    "    end: int = max(input_list, key = itemgetter(1))[1] \n",
    "\n",
    "    for i in range(start, end + 1): \n",
    "        \n",
    "        for (a, b) in input_list: \n",
    "            if i == a: current_sessions += 1\n",
    "            if i == b: current_sessions -= 1\n",
    "                \n",
    "        max_sessions = max(max_sessions, current_sessions)\n",
    "    \n",
    "    return max_sessions    "
   ]
  },
  {
   "cell_type": "code",
   "execution_count": 116,
   "metadata": {
    "ExecuteTime": {
     "end_time": "2019-09-17T00:02:26.070242Z",
     "start_time": "2019-09-17T00:02:26.064248Z"
    },
    "collapsed": true
   },
   "outputs": [
    {
     "name": "stdout",
     "output_type": "stream",
     "text": [
      "i:\t 1\n",
      "i:\t 2\n",
      "i:\t 3\n",
      "i:\t 4\n",
      "i:\t 5\n",
      "i:\t 6\n",
      "i:\t 7\n",
      "i:\t 8\n",
      "i:\t 9\n",
      "i:\t 10\n"
     ]
    }
   ],
   "source": [
    "for i in range(1,11):\n",
    "    print('i:\\t', i)"
   ]
  },
  {
   "cell_type": "code",
   "execution_count": 117,
   "metadata": {
    "ExecuteTime": {
     "end_time": "2019-09-17T00:02:26.518201Z",
     "start_time": "2019-09-17T00:02:26.412264Z"
    },
    "code_folding": []
   },
   "outputs": [
    {
     "name": "stdout",
     "output_type": "stream",
     "text": [
      "max_sessions(sessions_1):\t 2\n",
      "max_sessions(sessions_2):\t 3\n",
      "max_sessions(sessions_3):\t 3\n",
      "max_sessions(sessions_4):\t 100000\n"
     ]
    }
   ],
   "source": [
    "test_case = [(8, 9), (1, 4), (2, 3), (5, 6), (6, 8)]\n",
    "\n",
    "sessions_1 = [\n",
    "  (8, 9), # a\n",
    "  (1, 4), # b\n",
    "  (2, 3), # c\n",
    "  (5, 6), # d\n",
    "  (6, 8), # e\n",
    "]\n",
    "\n",
    "print('max_sessions(sessions_1):\\t', max_sessions(sessions_1))\n",
    "\n",
    "\n",
    "sessions_2 = [\n",
    "  (1, 4),\n",
    "  (2, 3),\n",
    "  (5, 7),\n",
    "  (6, 9),\n",
    "  (6, 10),\n",
    "]\n",
    "\n",
    "print('max_sessions(sessions_2):\\t', max_sessions(sessions_2))\n",
    "\n",
    "sessions_3 = [\n",
    "  (1, 4),\n",
    "  (2, 3),\n",
    "  (5, 7),\n",
    "  (6, 9),\n",
    "  (6, 10),\n",
    "  (4, 5),\n",
    "  (4, 5),\n",
    "  (4, 5),\n",
    "]\n",
    "print('max_sessions(sessions_3):\\t', max_sessions(sessions_3))\n",
    "\n",
    "sessions_4 = ((3,5),)*100000\n",
    "print('max_sessions(sessions_4):\\t', max_sessions(sessions_4))\n",
    "    "
   ]
  },
  {
   "cell_type": "raw",
   "metadata": {},
   "source": [
    "Need to find max number of concurrent sessions during the time range.\n",
    "\n",
    "# for i,(a,b) in enumerate(test_case):\n",
    "#     print (i,a,b)\n",
    "\n",
    "# Given a list of sessions, where each session has a time\n",
    "# Given list of sessions, where each session has a ending\n",
    " \n",
    "# Example (using a list of tuples to represent sessions):\n",
    "# sessions_1 = [\n",
    "#   (8, 9), # a\n",
    "#   (1, 4), # b\n",
    "#   (2, 3), # c\n",
    "#   (5, 6), # d\n",
    "#   (6, 8), # e\n",
    "# ]\n",
    "# Note: start time is inclusive, while end time is exclusive.\n",
    "#    1   2   3   4   5   6   7   8   9   10\n",
    "# a                              +--+\n",
    "# b  +----------+\n",
    "# c      +--+\n",
    "# d                  +--+\n",
    "# e                      +------+\n",
    "# answer = 2\n",
    "#\n",
    "# sessions_2 = [\n",
    "#   (1, 4),\n",
    "#   (2, 3),\n",
    "#   (5, 7),\n",
    "#   (6, 9),\n",
    "#   (6, 10),\n",
    "# ]\n",
    "#    1   2   3   4   5   6   7   8   9   10\n",
    "# a  +----------+\n",
    "# b      +--+\n",
    "# c                  +------+\n",
    "# d                      +----------+\n",
    "# e                      +---------------+\n",
    "# answer = 3\n",
    "#\n",
    "# sessions_3 = [\n",
    "#   (1, 4),\n",
    "#   (2, 3),\n",
    "#   (5, 7),\n",
    "#   (6, 9),\n",
    "#   (6, 10),\n",
    "#   (4, 5),\n",
    "#   (4, 5),\n",
    "#   (4, 5),\n",
    "# ]\n",
    "#    1   2   3   4   5   6   7   8   9   10\n",
    "# a  +----------+\n",
    "# b      +--+\n",
    "# c                  +------+\n",
    "# d                      +----------+\n",
    "# e                      +---------------+\n",
    "# f              +--+\n",
    "# g              +--+\n",
    "# h              +--+\n",
    "# answer = 3\n",
    "#\n",
    "# sessions_4 = ((3,5),)*100000\n",
    "# answer = 100000 (needs efficient solution or will time out)\n"
   ]
  },
  {
   "cell_type": "code",
   "execution_count": 136,
   "metadata": {
    "ExecuteTime": {
     "end_time": "2019-09-17T05:30:13.431145Z",
     "start_time": "2019-09-17T05:30:13.414156Z"
    }
   },
   "outputs": [
    {
     "name": "stdout",
     "output_type": "stream",
     "text": [
      "start, end:\t 1 9\n"
     ]
    },
    {
     "data": {
      "text/plain": [
       "[('d', 1), ('c', 2), ('b', 3), ('a', 4)]"
      ]
     },
     "execution_count": 136,
     "metadata": {},
     "output_type": "execute_result"
    }
   ],
   "source": [
    "# learning example\n",
    "from operator import itemgetter\n",
    "\n",
    "test_case = [(8, 9), (1, 4), (2, 3), (5, 6), (6, 8)]\n",
    "start: int = min(input_list, key = itemgetter(0))[0] # min 1st val of tuple\n",
    "end: int = max(input_list, key = itemgetter(1))[1] # max of 2nd val of tuple \n",
    "print('start, end:\\t', start, end)\n",
    "    \n",
    "xs = {'a': 4, 'c': 2, 'b': 3, 'd': 1}\n",
    "sorted(xs.items(), key=itemgetter(1)) # sort by value of dictionary\n"
   ]
  },
  {
   "cell_type": "markdown",
   "metadata": {},
   "source": [
    "# Hackerrank Questions"
   ]
  },
  {
   "cell_type": "markdown",
   "metadata": {
    "heading_collapsed": true
   },
   "source": [
    "## Sock Merchant (default dict)"
   ]
  },
  {
   "cell_type": "markdown",
   "metadata": {
    "heading_collapsed": true,
    "hidden": true
   },
   "source": [
    "### Question"
   ]
  },
  {
   "cell_type": "markdown",
   "metadata": {
    "hidden": true
   },
   "source": [
    "<img src='pics/HR_1.png' alt='Drawing' style='width:725pt'/>"
   ]
  },
  {
   "cell_type": "markdown",
   "metadata": {
    "heading_collapsed": true,
    "hidden": true
   },
   "source": [
    "### Answer"
   ]
  },
  {
   "cell_type": "code",
   "execution_count": 127,
   "metadata": {
    "ExecuteTime": {
     "end_time": "2019-09-17T01:34:55.459946Z",
     "start_time": "2019-09-17T01:34:48.053574Z"
    },
    "hidden": true
   },
   "outputs": [
    {
     "name": "stdout",
     "output_type": "stream",
     "text": [
      "9\n",
      "10 20 20 10 10 30 50 10 20\n",
      "c: ['10', '10', '10', '10', '20', '20', '20', '30', '50']\n",
      "3\n"
     ]
    }
   ],
   "source": [
    "from collections import defaultdict\n",
    "\n",
    "n = input()\n",
    "c = sorted(input().strip().split())\n",
    "print(\"c:\",c)\n",
    "socks = defaultdict(int)\n",
    "\n",
    "for color in c:\n",
    "    socks[color] += 1\n",
    "    # print(\"socks[color]:\",socks[color])\n",
    "\n",
    "pairs = 0\n",
    "\n",
    "for color in socks:\n",
    "    pairs +=  socks[color] // 2\n",
    "    # print('color,pairs:\\t', color,pairs)\n",
    "# print(\"socks:\",socks)\n",
    "print(pairs)\n"
   ]
  },
  {
   "cell_type": "markdown",
   "metadata": {
    "hidden": true
   },
   "source": [
    "```//``` Floor Division - The division of operands where the result is the quotient in which the digits after the decimal point are removed. But if one of the operands is negative, the result is floored, i.e., rounded away from zero (towards negative infinity) −\t"
   ]
  },
  {
   "cell_type": "code",
   "execution_count": 125,
   "metadata": {
    "ExecuteTime": {
     "end_time": "2019-09-17T01:13:22.930008Z",
     "start_time": "2019-09-17T01:13:22.917018Z"
    },
    "hidden": true
   },
   "outputs": [
    {
     "data": {
      "text/plain": [
       "4"
      ]
     },
     "execution_count": 125,
     "metadata": {},
     "output_type": "execute_result"
    },
    {
     "data": {
      "text/plain": [
       "4.0"
      ]
     },
     "execution_count": 125,
     "metadata": {},
     "output_type": "execute_result"
    },
    {
     "data": {
      "text/plain": [
       "-4"
      ]
     },
     "execution_count": 125,
     "metadata": {},
     "output_type": "execute_result"
    },
    {
     "data": {
      "text/plain": [
       "-4.0"
      ]
     },
     "execution_count": 125,
     "metadata": {},
     "output_type": "execute_result"
    }
   ],
   "source": [
    "9//2 \n",
    "9.0//2.0 \n",
    "-11//3\n",
    "-11.0//3"
   ]
  },
  {
   "cell_type": "markdown",
   "metadata": {
    "heading_collapsed": true,
    "hidden": true
   },
   "source": [
    "###### Sample Input:"
   ]
  },
  {
   "cell_type": "raw",
   "metadata": {
    "hidden": true
   },
   "source": [
    " 9"
   ]
  },
  {
   "cell_type": "raw",
   "metadata": {
    "hidden": true
   },
   "source": [
    "10 20 20 10 10 30 50 10 20"
   ]
  },
  {
   "cell_type": "markdown",
   "metadata": {
    "heading_collapsed": true,
    "hidden": true
   },
   "source": [
    "### buffer"
   ]
  },
  {
   "cell_type": "code",
   "execution_count": 10,
   "metadata": {
    "ExecuteTime": {
     "end_time": "2019-08-14T17:54:36.045144Z",
     "start_time": "2019-08-14T17:54:36.038149Z"
    },
    "hidden": true
   },
   "outputs": [
    {
     "data": {
      "text/plain": [
       "'__main__'"
      ]
     },
     "execution_count": 10,
     "metadata": {},
     "output_type": "execute_result"
    }
   ],
   "source": [
    "f\"{__name__}\"\n"
   ]
  },
  {
   "cell_type": "code",
   "execution_count": 3,
   "metadata": {
    "ExecuteTime": {
     "end_time": "2019-06-18T20:23:03.280953Z",
     "start_time": "2019-06-18T20:23:03.262963Z"
    },
    "hidden": true
   },
   "outputs": [
    {
     "data": {
      "text/plain": [
       "['10', '10', '10', '10', '20', '20', '20', '30', '50']"
      ]
     },
     "execution_count": 3,
     "metadata": {},
     "output_type": "execute_result"
    }
   ],
   "source": [
    "sorted(\"10 20 20 10 10 30 50 10 20\".strip().split())"
   ]
  },
  {
   "cell_type": "code",
   "execution_count": null,
   "metadata": {
    "hidden": true
   },
   "outputs": [],
   "source": []
  },
  {
   "cell_type": "markdown",
   "metadata": {
    "heading_collapsed": true
   },
   "source": [
    "## Jumping on the Clouds (list comprehension)"
   ]
  },
  {
   "cell_type": "markdown",
   "metadata": {
    "heading_collapsed": true,
    "hidden": true
   },
   "source": [
    "### Question"
   ]
  },
  {
   "cell_type": "markdown",
   "metadata": {
    "hidden": true
   },
   "source": [
    "<img src='pics/Snap2.png' alt='Drawing' style='width:725pt'/>"
   ]
  },
  {
   "cell_type": "markdown",
   "metadata": {
    "hidden": true
   },
   "source": [
    "<font color = 'blue'><b>Best Solution</b></font>"
   ]
  },
  {
   "cell_type": "code",
   "execution_count": 31,
   "metadata": {
    "ExecuteTime": {
     "end_time": "2019-09-17T17:21:07.331297Z",
     "start_time": "2019-09-17T17:21:07.320304Z"
    },
    "hidden": true
   },
   "outputs": [
    {
     "name": "stdout",
     "output_type": "stream",
     "text": [
      "3\n",
      "4\n"
     ]
    }
   ],
   "source": [
    "from typing import List\n",
    "def jumpingOnClouds(c: List[str]) -> int:\n",
    "    count_jumps = 0\n",
    "    i = 0\n",
    "    n = len(c)\n",
    "\n",
    "    while i < n - 1: \n",
    "        if i + 2 < n and c[i + 2] == 0: \n",
    "            i = i + 2   \n",
    "        else:\n",
    "            i = i + 1 \n",
    "        count_jumps += 1\n",
    "    return count_jumps\n",
    "\n",
    "c = list(map(int, \"0 0 0 0 1 0\".rstrip().split()))\n",
    "print(jumpingOnClouds(c))\n",
    "\n",
    "c = list(map(int, \"0 0 1 0 0 1 0\".rstrip().split()))\n",
    "print(jumpingOnClouds(c))\n",
    "    "
   ]
  },
  {
   "cell_type": "markdown",
   "metadata": {
    "hidden": true
   },
   "source": [
    "<font color = 'green'><b>My Explained soln</b></font>"
   ]
  },
  {
   "cell_type": "code",
   "execution_count": 20,
   "metadata": {
    "ExecuteTime": {
     "end_time": "2019-09-17T16:33:21.173465Z",
     "start_time": "2019-09-17T16:33:21.162471Z"
    },
    "hidden": true
   },
   "outputs": [],
   "source": [
    "import math\n",
    "import os\n",
    "import random\n",
    "import re\n",
    "import sys\n",
    "\n",
    "# Complete the jumpingOnClouds function below.\n",
    "def jumpingOnClouds(c):\n",
    "    i = 0  # index of jump position in cloud series\n",
    "    count_jumps = 0 # number of jumps to reach the end\n",
    "    length = len(c) # length of cloud series\n",
    "\n",
    "    while i < length - 2:\n",
    "    # while loop increments the jump counter while \n",
    "    # the index of jump position increments using the \n",
    "    # if logic to check whether its safe to make a 1 or 2 move jump\n",
    "    \n",
    "        if c[i+2] == 1: i += 1 \n",
    "        # not safe, so move 1 cloud fwd\n",
    "        # checks if cloud 2 positions fwd can be jumped on\n",
    "        # 1 == bad cloud\n",
    "            \n",
    "        else: i += 2 \n",
    "        # move 2 clouds fwd\n",
    "            \n",
    "        count_jumps += 1\n",
    "    \n",
    "    if i == length - 2: count_jumps += 1\n",
    "    # checks if i is only 1 move away from end\n",
    "    # remember 0-based indexing means index =/= length\n",
    "    # subtract 2 instead of 1 to adjust\n",
    "\n",
    "    return count_jumps"
   ]
  },
  {
   "cell_type": "code",
   "execution_count": 21,
   "metadata": {
    "ExecuteTime": {
     "end_time": "2019-09-17T16:33:22.961175Z",
     "start_time": "2019-09-17T16:33:22.954181Z"
    },
    "hidden": true
   },
   "outputs": [
    {
     "name": "stdout",
     "output_type": "stream",
     "text": [
      "result:\t 4\n"
     ]
    }
   ],
   "source": [
    "if __name__ == '__main__':\n",
    "#     fptr = open(os.environ['OUTPUT_PATH'], 'w')\n",
    "\n",
    "    n = int(7)\n",
    "    c = list(map(int, \"0 0 1 0 0 1 0\".rstrip().split()))\n",
    "    result = jumpingOnClouds(c)\n",
    "    print('result:\\t', result)\n",
    "\n",
    "    # fptr.write(str(result) + '\\n')\n",
    "    # fptr.close()"
   ]
  },
  {
   "cell_type": "code",
   "execution_count": 22,
   "metadata": {
    "ExecuteTime": {
     "end_time": "2019-09-17T16:33:24.410578Z",
     "start_time": "2019-09-17T16:33:24.402586Z"
    },
    "hidden": true
   },
   "outputs": [
    {
     "name": "stdout",
     "output_type": "stream",
     "text": [
      "result:\t 3\n"
     ]
    }
   ],
   "source": [
    "if __name__ == '__main__':\n",
    "#     fptr = open(os.environ['OUTPUT_PATH'], 'w')\n",
    "\n",
    "    n = int(6)\n",
    "    c = list(map(int, \"0 0 0 0 1 0\".rstrip().split()))\n",
    "    result = jumpingOnClouds(c)\n",
    "    print('result:\\t', result)\n",
    "\n",
    "    # fptr.write(str(result) + '\\n')\n",
    "    # fptr.close()"
   ]
  },
  {
   "cell_type": "code",
   "execution_count": 4,
   "metadata": {
    "ExecuteTime": {
     "end_time": "2019-09-17T06:30:30.629836Z",
     "start_time": "2019-09-17T06:29:39.475866Z"
    },
    "hidden": true
   },
   "outputs": [
    {
     "name": "stdout",
     "output_type": "stream",
     "text": [
      "6\n",
      "0 0 0 0 1 0\n",
      "3\n"
     ]
    }
   ],
   "source": [
    "import sys\n",
    "n = int(input().strip())\n",
    "a = [int(c_temp) for c_temp in input().strip().split(' ')]\n",
    "c = -1\n",
    "i = 0\n",
    "while i < n:\n",
    "    if i < n-2 and a[i+2] == 0: i += 1\n",
    "    c += 1\n",
    "    i += 1\n",
    "print(c)"
   ]
  },
  {
   "cell_type": "markdown",
   "metadata": {
    "hidden": true
   },
   "source": [
    "<font color = 'blue'><b>iterative solution</b></font>"
   ]
  },
  {
   "cell_type": "code",
   "execution_count": null,
   "metadata": {
    "hidden": true
   },
   "outputs": [],
   "source": [
    "def jumpingOnClouds(c):\n",
    "    if len(c) == 1 : return 0\n",
    "    if len(c) == 2: return 0 if c[1]==1 else 1\n",
    "    if c[2]==1: \n",
    "        return 1 + jumpingOnClouds(c[1:])\n",
    "    if c[2]==0:\n",
    "        return 1 + jumpingOnClouds(c[2:])\n"
   ]
  },
  {
   "cell_type": "code",
   "execution_count": null,
   "metadata": {
    "hidden": true
   },
   "outputs": [],
   "source": [
    "def jumpingOnClouds(c):\n",
    "    i = count_jumps = 0\n",
    "    length = len(c)\n",
    "\n",
    "    while i < length - 1:\n",
    "        if i < length - 2 and c[i + 2] == 0:\n",
    "            i += 2\n",
    "        else:\n",
    "            i += 1\n",
    "        count_jumps += 1\n",
    "\n",
    "    return count_jumps"
   ]
  },
  {
   "cell_type": "code",
   "execution_count": null,
   "metadata": {
    "hidden": true
   },
   "outputs": [],
   "source": [
    "def jumpingOnClouds(c):\n",
    "    i = count_jumps = 0\n",
    "    length = len(c)\n",
    "\n",
    "    while i < length - 2:\n",
    "        if c[i+2] == 1:\n",
    "            i += 1\n",
    "        else:\n",
    "            i += 2\n",
    "        count_jumps += 1\n",
    "    \n",
    "    if i == length - 2:\n",
    "        count_jumps += 1\n",
    "\n",
    "    return count_jumps"
   ]
  },
  {
   "cell_type": "code",
   "execution_count": 1,
   "metadata": {
    "ExecuteTime": {
     "end_time": "2019-09-17T05:45:32.159561Z",
     "start_time": "2019-09-17T05:43:34.763003Z"
    },
    "hidden": true
   },
   "outputs": [
    {
     "name": "stdout",
     "output_type": "stream",
     "text": [
      "7\n",
      "0 0 1 0 0 1 0\n",
      "4\n"
     ]
    }
   ],
   "source": [
    "#!/bin/python3\n",
    "\n",
    "import sys\n",
    "\n",
    "n = int(input().strip())\n",
    "# print(\"n:\",n)\n",
    "c = [int(c_temp) for c_temp in input().strip().split(' ')]\n",
    "# print(\"c:\",c)\n",
    "res = 0\n",
    "i = 0\n",
    "\n",
    "while i < n-1:\n",
    "    if i+2<n and c[i+2] == 0:\n",
    "        i = i+2\n",
    "        res += 1\n",
    "    else:\n",
    "        i = i+1\n",
    "        res += 1\n",
    "print(res)"
   ]
  },
  {
   "cell_type": "code",
   "execution_count": 131,
   "metadata": {
    "ExecuteTime": {
     "end_time": "2019-09-17T03:52:20.568296Z",
     "start_time": "2019-09-17T03:52:07.545416Z"
    },
    "hidden": true
   },
   "outputs": [
    {
     "name": "stdout",
     "output_type": "stream",
     "text": [
      "9\n",
      "10 20 20 10 10 30 50 10 20\n",
      "8\n"
     ]
    }
   ],
   "source": [
    "#!/bin/python3\n",
    "\n",
    "import sys\n",
    "\n",
    "\n",
    "n = int(input().strip())\n",
    "# print(\"n:\",n)\n",
    "c = [int(c_temp) for c_temp in input().strip().split(' ')]\n",
    "# print(\"c:\",c)\n",
    "res = 0\n",
    "i = 0\n",
    "\n",
    "while i < n-1:\n",
    "    if i+2<n and c[i+2] == 0:\n",
    "        i = i+2\n",
    "        res += 1\n",
    "    else:\n",
    "        i = i+1\n",
    "        res += 1\n",
    "print(res)"
   ]
  },
  {
   "cell_type": "raw",
   "metadata": {
    "hidden": true
   },
   "source": [
    "9\n",
    "10 20 20 10 10 30 50 10 20"
   ]
  },
  {
   "cell_type": "code",
   "execution_count": 118,
   "metadata": {
    "ExecuteTime": {
     "end_time": "2019-08-15T20:11:57.764280Z",
     "start_time": "2019-08-15T20:11:52.089742Z"
    },
    "hidden": true
   },
   "outputs": [
    {
     "name": "stdout",
     "output_type": "stream",
     "text": [
      "6\n",
      "0 0 0 0 1 0\n",
      "c[current+2]: 0\n",
      "c[current+2]: 0\n",
      "3\n"
     ]
    }
   ],
   "source": [
    "n = int(input().strip())\n",
    "c = [int(c_temp) for c_temp in input().strip().split(' ')]\n",
    "\n",
    "steps = 0\n",
    "current = 0\n",
    "while current < n-1:\n",
    "    if current+2<n and c[current+2] == 0:\n",
    "        print(\"c[current+2]:\",c[current+2])\n",
    "        steps +=1\n",
    "        current += 2\n",
    "    else:\n",
    "        steps +=1\n",
    "        current += 1\n",
    "        \n",
    "print(steps)\n"
   ]
  },
  {
   "cell_type": "code",
   "execution_count": null,
   "metadata": {
    "hidden": true
   },
   "outputs": [],
   "source": [
    "n = int(input())\n",
    "c = list(map(int, input().split()))\n",
    "d = [n] * n\n",
    "d[0] = 0\n",
    "if c[1] == 0: d[1] = 1\n",
    "for i in range(2, n):\n",
    "    if c[i] == 0: d[i] = min(d[i - 1], d[i - 2]) + 1\n",
    "print(d[n - 1])b"
   ]
  },
  {
   "cell_type": "markdown",
   "metadata": {
    "heading_collapsed": true
   },
   "source": [
    "## Repeated String"
   ]
  },
  {
   "cell_type": "markdown",
   "metadata": {
    "hidden": true
   },
   "source": [
    "1. Lilah has a string, s, of lowercase English letters that she repeated infinitely many times.\n",
    "\n",
    "* Given an integer, n, find and print the number of letter a's in the first letters of Lilah's infinite string.\n",
    "\n",
    "* For example, if the string s='abcac' and n=10, the substring we consider is abcacabcac, the first  10 characters of her infinite string. There are 4 occurrences of 'a' in the substring.\n",
    "\n",
    "<b><font color = 'purple'>Function Description </font></b>\n",
    "\n",
    "* Complete the repeatedString function in the editor below. It should return an integer representing the number of occurrences of 'a' in the prefix of length 'n' in the infinitely repeating string.\n",
    "\n",
    "<b><font color = 'purple'>repeatedString has the following parameter(s): </font></b>\n",
    "\n",
    "* s: a string to repeat\n",
    "* n: the number of characters to consider\n",
    "\n",
    "<b><font color = 'purple'>Input Format </font></b>\n",
    "\n",
    "* The first line contains a single string, .\n",
    "* The second line contains an integer, .\n",
    "\n",
    "<b><font color = 'purple'>Constraints </font></b><b><font color = 'purple'>Constraints </font></b>\n",
    "\n",
    "* $1 \\le |s| \\le 100$\n",
    "* $1 \\le n \\le 10^{12}$\n",
    "\n",
    "For 25% of the test cases, $n \\le 10^6$.\n",
    "\n",
    "\n",
    "<b><font color = 'purple'>Output Format </font></b>\n",
    "\n",
    "* <span style='background-color: lightyellow'><b><font color = 'purple'>Print a single integer denoting the number of letter a's in the first 'n' letters of the infinite string created by repeating 's' infinitely many times </font></b></span>."
   ]
  },
  {
   "cell_type": "raw",
   "metadata": {
    "hidden": true
   },
   "source": [
    "Sample Input 0\n",
    "aba\n",
    "10\n",
    "\n",
    "Sample Output 0\n",
    "7\n",
    "\n",
    "Explanation 0\n",
    "The first  letters of the infinite string are abaabaabaa. Because there are  a's, we print  on a new line."
   ]
  },
  {
   "cell_type": "raw",
   "metadata": {
    "hidden": true
   },
   "source": [
    "Sample Input 1\n",
    "a\n",
    "1000000000000\n",
    "\n",
    "Sample Output 1\n",
    "1000000000000\n",
    "\n",
    "Explanation 1\n",
    "Because all of the first  letters of the infinite string are a, we print  on a new line."
   ]
  },
  {
   "cell_type": "markdown",
   "metadata": {
    "hidden": true
   },
   "source": [
    "<font color = 'blue'><b>My dumb \n",
    "   Solution:</b></font>"
   ]
  },
  {
   "cell_type": "code",
   "execution_count": 81,
   "metadata": {
    "ExecuteTime": {
     "end_time": "2019-09-19T16:15:30.724433Z",
     "start_time": "2019-09-19T16:15:30.713443Z"
    },
    "hidden": true
   },
   "outputs": [],
   "source": [
    "#!/bin/python3\n",
    "\n",
    "import math\n",
    "import os\n",
    "import random\n",
    "import re\n",
    "import sys\n",
    "\n",
    "# n <- number of characters to consider\n",
    "# Complete the repeatedString function below.\n",
    "\n",
    "import itertools\n",
    "\n",
    "def repeatedString(s: str, n: int) -> int:\n",
    "    letters = tuple(s)\n",
    "    infinite_string = itertools.cycle(letters)\n",
    "    count_a = 0\n",
    "    if \n",
    "    for i in range(n):\n",
    "        if next(infinite_string) == 'a':\n",
    "            count_a += 1\n",
    "    return count_a"
   ]
  },
  {
   "cell_type": "markdown",
   "metadata": {
    "hidden": true
   },
   "source": [
    "<font color = 'blue'><b>My better \n",
    "   Solution:</b></font>"
   ]
  },
  {
   "cell_type": "code",
   "execution_count": 41,
   "metadata": {
    "ExecuteTime": {
     "end_time": "2019-09-19T17:45:06.014863Z",
     "start_time": "2019-09-19T17:45:06.006867Z"
    },
    "hidden": true
   },
   "outputs": [],
   "source": [
    "#!/bin/python3\n",
    "\n",
    "import math\n",
    "import os\n",
    "import random\n",
    "import re\n",
    "import sys\n",
    "\n",
    "# n <- number of characters to consider\n",
    "# Complete the repeatedString function below.\n",
    "\n",
    "def repeatedString(s: str, n: int) -> int:\n",
    "    return (n // len(s)) * s.count('a') + s[:(n % len(s))].count('a')\n",
    "     \n",
    "        "
   ]
  },
  {
   "cell_type": "code",
   "execution_count": 12,
   "metadata": {
    "ExecuteTime": {
     "end_time": "2019-09-19T17:26:59.438322Z",
     "start_time": "2019-09-19T17:26:59.431325Z"
    },
    "hidden": true
   },
   "outputs": [
    {
     "data": {
      "text/plain": [
       "2"
      ]
     },
     "execution_count": 12,
     "metadata": {},
     "output_type": "execute_result"
    }
   ],
   "source": [
    "s = list('aba')\n",
    "s\n",
    "s.count('a')"
   ]
  },
  {
   "cell_type": "raw",
   "metadata": {
    "ExecuteTime": {
     "end_time": "2019-09-19T07:43:33.423565Z",
     "start_time": "2019-09-19T07:43:33.415567Z"
    },
    "hidden": true
   },
   "source": [
    "s = 'aba'\n",
    "letters = tuple(s)\n",
    "letters\n",
    "\n",
    "\n",
    "s = 'aba'\n",
    "t = itertools.cycle(s)\n",
    "for i in range(10):\n",
    "    print(next(t))\n",
    "\n"
   ]
  },
  {
   "cell_type": "code",
   "execution_count": 40,
   "metadata": {
    "ExecuteTime": {
     "end_time": "2019-09-19T17:44:37.488521Z",
     "start_time": "2019-09-19T17:44:37.482526Z"
    },
    "hidden": true
   },
   "outputs": [
    {
     "name": "stdout",
     "output_type": "stream",
     "text": [
      "7\n"
     ]
    }
   ],
   "source": [
    "if __name__ == '__main__':\n",
    "    # fptr = open(os.environ['OUTPUT_PATH'], 'w')\n",
    "    # s = input()\n",
    "    # n = int(input())\n",
    "    \n",
    "    s = 'aba'\n",
    "    n = int(10)\n",
    "#     s = 'a'\n",
    "#     n = int(1000000000000)\n",
    "    \n",
    "    result = repeatedString(s, n); print(result)\n",
    "    # fptr.write(str(result) + '\\n')\n",
    "    # fptr.close()"
   ]
  },
  {
   "cell_type": "code",
   "execution_count": 34,
   "metadata": {
    "ExecuteTime": {
     "end_time": "2019-09-19T17:43:28.983548Z",
     "start_time": "2019-09-19T17:43:28.976553Z"
    },
    "hidden": true
   },
   "outputs": [],
   "source": [
    "#!/bin/python3\n",
    "\n",
    "import math\n",
    "import os\n",
    "import random\n",
    "import re\n",
    "import sys\n",
    "\n",
    "# n <- number of characters to consider\n",
    "# Complete the repeatedString function below.\n",
    "\n",
    "import itertools\n",
    "\n",
    "def repeatedString(s: str, n: int) -> int:\n",
    "    # s, n = input().strip(), int(input().strip())\n",
    "    return s.count(\"a\") * (n // len(s)) + s[:n % len(s)].count(\"a\")"
   ]
  },
  {
   "cell_type": "code",
   "execution_count": 29,
   "metadata": {
    "ExecuteTime": {
     "end_time": "2019-09-19T17:42:34.838639Z",
     "start_time": "2019-09-19T17:42:34.831646Z"
    },
    "hidden": true
   },
   "outputs": [
    {
     "data": {
      "text/plain": [
       "-3"
      ]
     },
     "execution_count": 29,
     "metadata": {},
     "output_type": "execute_result"
    },
    {
     "data": {
      "text/plain": [
       "2"
      ]
     },
     "execution_count": 29,
     "metadata": {},
     "output_type": "execute_result"
    }
   ],
   "source": [
    "-5 // 2\n",
    "5//2"
   ]
  },
  {
   "cell_type": "markdown",
   "metadata": {
    "hidden": true
   },
   "source": [
    "https://stackoverflow.com/questions/183853/what-is-the-difference-between-and-when-used-for-division"
   ]
  },
  {
   "cell_type": "markdown",
   "metadata": {},
   "source": [
    "## Counting Valleys"
   ]
  },
  {
   "cell_type": "markdown",
   "metadata": {},
   "source": [
    "Gary is an avid hiker. He tracks his hikes meticulously, paying close attention to small details like topography. \n",
    "\n",
    "* During his last hike he took exactly ```n``` steps. \n",
    "\n",
    "* For every step he took, he noted if it was an uphill, ```U```, or a downhill, ```D``` step. \n",
    "\n",
    "* Gary's hikes start and end at sea level and each step up or down represents a 1 unit change in altitude. We define the following terms:\n",
    "\n",
    "* A mountain is a sequence of consecutive steps above sea level, starting with a step up from sea level and ending with a step down to sea level.\n",
    "\n",
    "* A valley is a sequence of consecutive steps below sea level, starting with a step down from sea level and ending with a step up to sea level.\n",
    "\n",
    "<b><font color = 'purple'>Given Gary's sequence of up and down steps during his last hike, find and print the number of valleys he walked through </font></b>.\n",
    "\n",
    "For example, if Gary's path is s=[DDUUUUDD], he first enters a valley 2 units deep. Then he climbs out an up onto a mountain  units high. Finally, he returns to sea level and ends his hike.\n",
    "\n",
    "<b><font color = 'purple'>Function Description </font></b>\n",
    "\n",
    "* Complete the countingValleys function in the editor below. <b><font color = 'purple'><span style='background-color: lightyellow'>It must return an integer that denotes the number of valleys Gary traversed</span>. </font></b>\n",
    "\n",
    "<b><font color = 'purple'>countingValleys has the following parameter(s): </font></b>\n",
    "\n",
    "* n: the number of steps Gary takes\n",
    "* s: a string describing his path\n",
    "\n",
    "<b><font color = 'purple'>Input Format </font></b>\n",
    "\n",
    "* The first line contains an integer , the number of steps in Gary's hike.\n",
    "* The second line contains a single string , of  characters that describe his path.\n",
    "\n",
    "Constraints\n",
    "\n",
    "* $2 \\le n \\le 10^6$\n",
    "\n",
    "* $s[i] \\in {UD}$\n",
    "\n",
    "<b><font color = 'purple'>Output Format </font></b>\n",
    "\n",
    "* Print a single integer that denotes the number of valleys Gary walked through during his hike."
   ]
  },
  {
   "cell_type": "raw",
   "metadata": {},
   "source": [
    "Sample Input\n",
    "\n",
    "8\n",
    "UDDDUDUU\n",
    "\n",
    "Sample Output\n",
    "1\n",
    "\n",
    "Explanation\n",
    "\n",
    "If we represent _ as sea level, a step up as /, and a step down as \\, Gary's hike can be drawn as:\n",
    "\n",
    "_/\\      _\n",
    "   \\    /\n",
    "    \\/\\/\n",
    "He enters and leaves one valley."
   ]
  },
  {
   "cell_type": "code",
   "execution_count": 43,
   "metadata": {
    "ExecuteTime": {
     "end_time": "2019-09-19T23:33:10.192633Z",
     "start_time": "2019-09-19T23:33:10.183638Z"
    }
   },
   "outputs": [
    {
     "name": "stdout",
     "output_type": "stream",
     "text": [
      "result:\t 1\n"
     ]
    }
   ],
   "source": [
    "#!/bin/python3\n",
    "\n",
    "import math\n",
    "import os\n",
    "import random\n",
    "import re\n",
    "import sys\n",
    "\n",
    "# Complete the countingValleys function below.\n",
    "def countingValleys(n, s):\n",
    "    valley_count: int = 0\n",
    "    sea_lvl_diff: int = 0\n",
    "    for c in s:\n",
    "        if c == 'U': \n",
    "            sea_lvl_diff += 1\n",
    "        else:\n",
    "            if sea_lvl_diff == 0:\n",
    "                valley_count += 1          \n",
    "            sea_lvl_diff -= 1        \n",
    "    return valley_count\n",
    "    \n",
    "\n",
    "n = 8\n",
    "s = 'UDDDUDUU'\n",
    "\n",
    "result = countingValleys(n, s); print('result:\\t', result)\n",
    "\n",
    "\n",
    "\n"
   ]
  },
  {
   "cell_type": "markdown",
   "metadata": {},
   "source": [
    "# Leetcode"
   ]
  },
  {
   "cell_type": "code",
   "execution_count": 277,
   "metadata": {
    "ExecuteTime": {
     "end_time": "2019-08-23T14:34:14.272248Z",
     "start_time": "2019-08-23T14:34:14.263462Z"
    },
    "collapsed": true
   },
   "outputs": [
    {
     "name": "stdout",
     "output_type": "stream",
     "text": [
      "remaining:\t -2\n",
      "remaining:\t -6\n",
      "remaining:\t 7\n",
      "remaining:\t 2\n"
     ]
    },
    {
     "data": {
      "text/plain": [
       "[2, 3]"
      ]
     },
     "execution_count": 277,
     "metadata": {},
     "output_type": "execute_result"
    }
   ],
   "source": [
    "test = Solution()\n",
    "test.twoSum([11, 15, 2, 7], 9)"
   ]
  },
  {
   "cell_type": "markdown",
   "metadata": {
    "heading_collapsed": true
   },
   "source": [
    "## Given a valid (IPv4) IP address, return a defanged version of that IP address."
   ]
  },
  {
   "cell_type": "raw",
   "metadata": {
    "hidden": true
   },
   "source": [
    "A defanged IP address replaces every period \".\" with \"[.]\"."
   ]
  },
  {
   "cell_type": "raw",
   "metadata": {
    "hidden": true
   },
   "source": [
    "Example 1:\n",
    "\n",
    "Input: address = \"1.1.1.1\"\n",
    "Output: \"1[.]1[.]1[.]1\""
   ]
  },
  {
   "cell_type": "raw",
   "metadata": {
    "hidden": true
   },
   "source": [
    "Example 2:\n",
    "\n",
    "Input: address = \"255.100.50.0\"\n",
    "Output: \"255[.]100[.]50[.]0\"\n",
    " "
   ]
  },
  {
   "cell_type": "raw",
   "metadata": {
    "hidden": true
   },
   "source": [
    "Constraints:\n",
    "\n",
    "The given address is a valid IPv4 address."
   ]
  },
  {
   "cell_type": "markdown",
   "metadata": {
    "heading_collapsed": true,
    "hidden": true
   },
   "source": [
    "##### <font color = 'green'>**Solution:**</font>"
   ]
  },
  {
   "cell_type": "code",
   "execution_count": 121,
   "metadata": {
    "ExecuteTime": {
     "end_time": "2019-08-16T06:31:35.273070Z",
     "start_time": "2019-08-16T06:31:35.266073Z"
    },
    "hidden": true
   },
   "outputs": [
    {
     "data": {
      "text/plain": [
       "'1[.]1[.]1[.]1'"
      ]
     },
     "execution_count": 121,
     "metadata": {},
     "output_type": "execute_result"
    }
   ],
   "source": [
    "x = \"1.1.1.1\"\n",
    "x.strip().replace(\".\",\"[.]\")\n"
   ]
  },
  {
   "cell_type": "markdown",
   "metadata": {
    "heading_collapsed": true
   },
   "source": [
    "## 009. Palindrome Number"
   ]
  },
  {
   "cell_type": "raw",
   "metadata": {
    "hidden": true
   },
   "source": [
    "Example 1:\n",
    "\n",
    "Input: 121\n",
    "Output: true"
   ]
  },
  {
   "cell_type": "raw",
   "metadata": {
    "hidden": true
   },
   "source": [
    "Example 2:\n",
    "\n",
    "Input: -121\n",
    "Output: false\n",
    "Explanation: From left to right, it reads -121. From right to left, it becomes 121-. Therefore it is not a palindrome."
   ]
  },
  {
   "cell_type": "raw",
   "metadata": {
    "hidden": true
   },
   "source": [
    "Example 3:\n",
    "\n",
    "Input: 10\n",
    "Output: false\n",
    "Explanation: Reads 01 from right to left. Therefore it is not a palindrome."
   ]
  },
  {
   "cell_type": "code",
   "execution_count": 32,
   "metadata": {
    "ExecuteTime": {
     "end_time": "2019-08-21T06:19:18.702221Z",
     "start_time": "2019-08-21T06:19:18.694408Z"
    },
    "hidden": true
   },
   "outputs": [],
   "source": [
    "class Solution:\n",
    "    def isPalindrome(self, x: int) -> bool:\n",
    "        s = str(x)\n",
    "        left, right = 0, len(s)-1\n",
    "        print(\"left, right:\",left, right)\n",
    "        while left < right:\n",
    "            if s[left] != s[right]:\n",
    "                return False\n",
    "            left += 1\n",
    "            right -= 1\n",
    "        \n",
    "        return True\n"
   ]
  },
  {
   "cell_type": "code",
   "execution_count": 21,
   "metadata": {
    "ExecuteTime": {
     "end_time": "2019-08-20T19:28:04.187815Z",
     "start_time": "2019-08-20T19:28:04.183911Z"
    },
    "hidden": true
   },
   "outputs": [],
   "source": [
    "test = Solution()\n",
    "\n"
   ]
  },
  {
   "cell_type": "code",
   "execution_count": 22,
   "metadata": {
    "ExecuteTime": {
     "end_time": "2019-08-20T19:28:04.999608Z",
     "start_time": "2019-08-20T19:28:04.990824Z"
    },
    "hidden": true
   },
   "outputs": [
    {
     "name": "stdout",
     "output_type": "stream",
     "text": [
      "left, right: 0 3\n"
     ]
    },
    {
     "data": {
      "text/plain": [
       "False"
      ]
     },
     "execution_count": 22,
     "metadata": {},
     "output_type": "execute_result"
    }
   ],
   "source": [
    "test.isPalindrome(-121) "
   ]
  },
  {
   "cell_type": "code",
   "execution_count": 23,
   "metadata": {
    "ExecuteTime": {
     "end_time": "2019-08-20T19:28:07.036047Z",
     "start_time": "2019-08-20T19:28:07.028240Z"
    },
    "hidden": true
   },
   "outputs": [
    {
     "name": "stdout",
     "output_type": "stream",
     "text": [
      "left, right: 0 2\n"
     ]
    },
    {
     "data": {
      "text/plain": [
       "True"
      ]
     },
     "execution_count": 23,
     "metadata": {},
     "output_type": "execute_result"
    }
   ],
   "source": [
    "test.isPalindrome(121) "
   ]
  },
  {
   "cell_type": "code",
   "execution_count": 24,
   "metadata": {
    "ExecuteTime": {
     "end_time": "2019-08-20T19:28:08.123446Z",
     "start_time": "2019-08-20T19:28:08.116612Z"
    },
    "hidden": true
   },
   "outputs": [
    {
     "name": "stdout",
     "output_type": "stream",
     "text": [
      "left, right: 0 1\n"
     ]
    },
    {
     "data": {
      "text/plain": [
       "False"
      ]
     },
     "execution_count": 24,
     "metadata": {},
     "output_type": "execute_result"
    }
   ],
   "source": [
    "test.isPalindrome(10) "
   ]
  },
  {
   "cell_type": "code",
   "execution_count": 36,
   "metadata": {
    "ExecuteTime": {
     "end_time": "2019-08-21T06:19:33.937518Z",
     "start_time": "2019-08-21T06:19:33.929707Z"
    },
    "hidden": true,
    "scrolled": false
   },
   "outputs": [
    {
     "name": "stdout",
     "output_type": "stream",
     "text": [
      "left, right: 0 2\n"
     ]
    },
    {
     "data": {
      "text/plain": [
       "True"
      ]
     },
     "execution_count": 36,
     "metadata": {},
     "output_type": "execute_result"
    }
   ],
   "source": [
    "test.isPalindrome('tet') "
   ]
  },
  {
   "cell_type": "markdown",
   "metadata": {
    "heading_collapsed": true
   },
   "source": [
    "## 125. Valid Palindrome"
   ]
  },
  {
   "cell_type": "raw",
   "metadata": {
    "hidden": true
   },
   "source": [
    "Given a string, determine if it is a palindrome, considering only alphanumeric characters and ignoring cases.\n",
    "\n",
    "Note: For the purpose of this problem, we define empty string as valid palindrome."
   ]
  },
  {
   "cell_type": "raw",
   "metadata": {
    "hidden": true
   },
   "source": [
    "Example 1:\n",
    "\n",
    "Input: \"A man, a plan, a canal: Panama\"\n",
    "Output: true"
   ]
  },
  {
   "cell_type": "raw",
   "metadata": {
    "hidden": true
   },
   "source": [
    "Example 2:\n",
    "\n",
    "Input: \"race a car\"\n",
    "Output: false"
   ]
  },
  {
   "cell_type": "code",
   "execution_count": null,
   "metadata": {
    "hidden": true
   },
   "outputs": [],
   "source": [
    "'[\\W_]+'"
   ]
  },
  {
   "cell_type": "code",
   "execution_count": 13,
   "metadata": {
    "ExecuteTime": {
     "end_time": "2019-08-21T17:38:05.572144Z",
     "start_time": "2019-08-21T17:38:05.527237Z"
    },
    "hidden": true
   },
   "outputs": [],
   "source": [
    "import re\n",
    "\n",
    "class Solution:\n",
    "    def isPalindrome(self, s: str) -> bool:\n",
    "        s_formatted = re.sub('[\\W_]+', '', s.lower()) \n",
    "        # chg to lower case, retain only alphanumeric characters, remove spaces\n",
    "        start, end = 0, len(s_formatted)-1\n",
    "        while start <= end:\n",
    "            if s_formatted[start] != s_formatted[end]:\n",
    "                return False\n",
    "            start += 1\n",
    "            end -= 1\n",
    "            \n",
    "        return True               \n",
    "        \n",
    "        \n",
    "        \n",
    "        \n",
    "        \n",
    "    \n"
   ]
  },
  {
   "cell_type": "code",
   "execution_count": 29,
   "metadata": {
    "ExecuteTime": {
     "end_time": "2019-08-21T17:48:18.704315Z",
     "start_time": "2019-08-21T17:48:18.697481Z"
    },
    "hidden": true
   },
   "outputs": [
    {
     "name": "stdout",
     "output_type": "stream",
     "text": [
      "Run time: 0 hrs 0 mins 0.0000 secs\n"
     ]
    }
   ],
   "source": [
    "test = Solution()\n",
    "test.isPalindrome(\"A man, a plan, a canal: Panama\")"
   ]
  },
  {
   "cell_type": "code",
   "execution_count": 16,
   "metadata": {
    "ExecuteTime": {
     "end_time": "2019-08-21T17:38:52.531534Z",
     "start_time": "2019-08-21T17:38:52.525676Z"
    },
    "hidden": true
   },
   "outputs": [
    {
     "data": {
      "text/plain": [
       "False"
      ]
     },
     "execution_count": 16,
     "metadata": {},
     "output_type": "execute_result"
    }
   ],
   "source": [
    "test = Solution()\n",
    "test.isPalindrome(\"race a car\")"
   ]
  },
  {
   "cell_type": "markdown",
   "metadata": {
    "heading_collapsed": true
   },
   "source": [
    "## 131. **<font color = 'purple'>Palindrome Partitioning (med) </font>** <font color = 'red'>revisit</font>"
   ]
  },
  {
   "cell_type": "raw",
   "metadata": {
    "hidden": true
   },
   "source": [
    "Given a string s, partition s such that every substring of the partition is a palindrome.\n",
    "\n",
    "Return all possible palindrome partitioning of s."
   ]
  },
  {
   "cell_type": "raw",
   "metadata": {
    "hidden": true
   },
   "source": [
    "Example:\n",
    "\n",
    "Input: \"aab\"\n",
    "Output:\n",
    "[\n",
    "  [\"aa\", \"b\"], \n",
    "  [\"a\", \"a\", \"b\"]\n",
    "]"
   ]
  },
  {
   "cell_type": "markdown",
   "metadata": {
    "heading_collapsed": true,
    "hidden": true
   },
   "source": [
    "###### my attempt"
   ]
  },
  {
   "cell_type": "code",
   "execution_count": 186,
   "metadata": {
    "ExecuteTime": {
     "end_time": "2019-08-23T06:45:44.192812Z",
     "start_time": "2019-08-23T06:45:44.184026Z"
    },
    "hidden": true
   },
   "outputs": [],
   "source": [
    "class Solution:\n",
    "    def partition(self, s):\n",
    "        res = []\n",
    "        self.dfs(s, [], res)\n",
    "        return res\n",
    "\n",
    "    def dfs(self, s, path, res):\n",
    "        if s is None:\n",
    "            res.append(path)\n",
    "            return\n",
    "        for i in range(1, len(s)+1):\n",
    "            if self.isPal(s[:i]):\n",
    "                self.dfs(s[i:], path+[s[:i]], res)\n",
    "\n",
    "    def isPal(self, s):\n",
    "        return s == s[::-1]"
   ]
  },
  {
   "cell_type": "markdown",
   "metadata": {
    "heading_collapsed": true,
    "hidden": true
   },
   "source": [
    "###### soln 1: high votes"
   ]
  },
  {
   "cell_type": "code",
   "execution_count": 188,
   "metadata": {
    "ExecuteTime": {
     "end_time": "2019-08-23T06:45:52.429504Z",
     "start_time": "2019-08-23T06:45:52.417792Z"
    },
    "hidden": true
   },
   "outputs": [],
   "source": [
    "class Solution:\n",
    "    def partition(self, s):\n",
    "        res = []\n",
    "        self.dfs(s, [], res)\n",
    "        return res\n",
    "\n",
    "    def dfs(self, s, path, res):\n",
    "        if not s:\n",
    "            res.append(path)\n",
    "            return\n",
    "        for i in range(1, len(s)+1):\n",
    "            if self.isPal(s[:i]):\n",
    "                self.dfs(s[i:], path+[s[:i]], res)\n",
    "\n",
    "    def isPal(self, s):\n",
    "        return s == s[::-1]"
   ]
  },
  {
   "cell_type": "markdown",
   "metadata": {
    "heading_collapsed": true,
    "hidden": true
   },
   "source": [
    "###### soln 2 App author"
   ]
  },
  {
   "cell_type": "code",
   "execution_count": 146,
   "metadata": {
    "ExecuteTime": {
     "end_time": "2019-08-23T05:25:54.797782Z",
     "start_time": "2019-08-23T05:25:54.788020Z"
    },
    "hidden": true
   },
   "outputs": [],
   "source": [
    "from typing import List\n",
    "\n",
    "\n",
    "class Solution:    \n",
    "    def partition(self, s: str) -> List[List[str]]:\n",
    "        # breaks string input into valid partitions\n",
    "        partitions = []\n",
    "        self.find_partitions(s, [], partitions)\n",
    "        return partitions\n",
    "    \n",
    "    def find_partitions(self, s, partial, partitions):\n",
    "        if not s: # evals to True if s is not meaningful\n",
    "            partitions.append(partial)\n",
    "        for i in range(1, len(s)+1):\n",
    "            prefix = s[:i]\n",
    "            if prefix == prefix[::-1]:\n",
    "            # if partition is a palindrome\n",
    "                self.find_partitions(s[i:], partial + [s[:i]], partitions)\n",
    "        "
   ]
  },
  {
   "cell_type": "code",
   "execution_count": 195,
   "metadata": {
    "ExecuteTime": {
     "end_time": "2019-08-23T07:00:01.407126Z",
     "start_time": "2019-08-23T07:00:01.399317Z"
    },
    "hidden": true
   },
   "outputs": [
    {
     "name": "stdout",
     "output_type": "stream",
     "text": [
      "False is false.\n",
      "0 is false.\n",
      "An empty list is false.\n",
      "An empty tuple is false.\n",
      "An empty dict is false.\n",
      "An empty string is false.\n"
     ]
    }
   ],
   "source": [
    "if not False:\n",
    "    print(\"False is false.\")\n",
    "if not 0:\n",
    "    print(\"0 is false.\")\n",
    "if not []:\n",
    "    print(\"An empty list is false.\")\n",
    "if not ():\n",
    "    print(\"An empty tuple is false.\")\n",
    "if not {}:\n",
    "    print(\"An empty dict is false.\")\n",
    "if not \"\":\n",
    "    print(\"An empty string is false.\")\n",
    "    \n"
   ]
  },
  {
   "cell_type": "markdown",
   "metadata": {
    "hidden": true
   },
   "source": [
    "```False, 0, (), [], {}, \"\", none``` values all evaluate to True with the ```if not value:``` syntax \n",
    "\n",
    "roughly translates to are you meaningful or not?\n",
    "\n",
    "should be thought of as: \n",
    "> if not s -> if s is not meaningful"
   ]
  },
  {
   "cell_type": "code",
   "execution_count": 198,
   "metadata": {
    "ExecuteTime": {
     "end_time": "2019-08-23T07:00:47.733566Z",
     "start_time": "2019-08-23T07:00:47.726734Z"
    },
    "hidden": true
   },
   "outputs": [
    {
     "data": {
      "text/plain": [
       "True"
      ]
     },
     "execution_count": 198,
     "metadata": {},
     "output_type": "execute_result"
    }
   ],
   "source": [
    "not 0"
   ]
  },
  {
   "cell_type": "code",
   "execution_count": 191,
   "metadata": {
    "ExecuteTime": {
     "end_time": "2019-08-23T06:46:55.318231Z",
     "start_time": "2019-08-23T06:46:55.313352Z"
    },
    "hidden": true
   },
   "outputs": [
    {
     "name": "stdout",
     "output_type": "stream",
     "text": [
      "not s:\t False\n"
     ]
    }
   ],
   "source": [
    "s = \"\"\n",
    "# s\n",
    "print('not s:\\t', s == None)"
   ]
  },
  {
   "cell_type": "markdown",
   "metadata": {
    "heading_collapsed": true,
    "hidden": true
   },
   "source": [
    "###### soln 3"
   ]
  },
  {
   "cell_type": "code",
   "execution_count": 150,
   "metadata": {
    "ExecuteTime": {
     "end_time": "2019-08-23T05:29:54.134009Z",
     "start_time": "2019-08-23T05:29:54.122296Z"
    },
    "hidden": true
   },
   "outputs": [],
   "source": [
    "import copy\n",
    "\n",
    "class Solution:\n",
    "    def __init__(self):\n",
    "        self.res = []\n",
    "\n",
    "    def is_palindrome(self, s):\n",
    "        if s and s == s[::-1]: return True\n",
    "        return False\n",
    "    \n",
    "    def get_palindromes(self, s, list_s):\n",
    "        if not s: \n",
    "            self.res.append(copy.deepcopy(list_s))\n",
    "            return list_s\n",
    "        for i in range(1,len(s)+1):\n",
    "            if self.is_palindrome(s[:i]):\n",
    "                list_s.append(s[:i])\n",
    "                self.get_palindromes(s[i:], list_s)\n",
    "                del list_s[-1]\n",
    "        return self.res\n",
    "    \n",
    "    def partition(self, s: str) -> List[List[str]]:\n",
    "        return self.get_palindromes(s,[])"
   ]
  },
  {
   "cell_type": "markdown",
   "metadata": {
    "heading_collapsed": true,
    "hidden": true
   },
   "source": [
    "###### test"
   ]
  },
  {
   "cell_type": "code",
   "execution_count": 189,
   "metadata": {
    "ExecuteTime": {
     "end_time": "2019-08-23T06:45:54.144236Z",
     "start_time": "2019-08-23T06:45:54.138377Z"
    },
    "hidden": true,
    "scrolled": false
   },
   "outputs": [
    {
     "data": {
      "text/plain": [
       "[['a', 'a', 'b'], ['aa', 'b']]"
      ]
     },
     "execution_count": 189,
     "metadata": {},
     "output_type": "execute_result"
    }
   ],
   "source": [
    "test = Solution()\n",
    "test.partition(\"aab\")"
   ]
  },
  {
   "cell_type": "markdown",
   "metadata": {
    "heading_collapsed": true
   },
   "source": [
    "## 002. add-two-numbers (med - linked lists) <font color = 'red'>revisit</font>"
   ]
  },
  {
   "cell_type": "markdown",
   "metadata": {
    "hidden": true
   },
   "source": [
    "You are given two non-empty linked lists representing two non-negative integers. \n",
    "\n",
    "The digits are stored in reverse order and each of their nodes contain a single digit. \n",
    "\n",
    "Add the two numbers and return it as a linked list.\n",
    "\n",
    "You may assume the two numbers do not contain any leading zero, except the number 0 itself.\n",
    "\n",
    "Example:\n",
    "\n",
    "Input: (2 -> 4 -> 3) + (5 -> 6 -> 4)\n",
    "Output: 7 -> 0 -> 8\n",
    "Explanation: 342 + 465 = 807."
   ]
  },
  {
   "cell_type": "markdown",
   "metadata": {
    "heading_collapsed": true
   },
   "source": [
    "## 001. two-sum"
   ]
  },
  {
   "cell_type": "raw",
   "metadata": {
    "hidden": true
   },
   "source": [
    "Given an array of integers, return indices of the two numbers such that they add up to a specific target.\n",
    "\n",
    "You may assume that each input would have exactly one solution, and you may not use the same element twice."
   ]
  },
  {
   "cell_type": "raw",
   "metadata": {
    "hidden": true
   },
   "source": [
    "Example:\n",
    "\n",
    "Given nums = [2, 7, 11, 15], target = 9,\n",
    "\n",
    "Because nums[0] + nums[1] = 2 + 7 = 9,\n",
    "return [0, 1]."
   ]
  },
  {
   "cell_type": "markdown",
   "metadata": {
    "heading_collapsed": true,
    "hidden": true
   },
   "source": [
    "###### my soln"
   ]
  },
  {
   "cell_type": "code",
   "execution_count": 254,
   "metadata": {
    "ExecuteTime": {
     "end_time": "2019-08-23T14:01:46.940341Z",
     "start_time": "2019-08-23T14:01:46.924720Z"
    },
    "hidden": true
   },
   "outputs": [],
   "source": [
    "from typing import List\n",
    "import itertools\n",
    "\n",
    "class Solution:\n",
    "    def twoSum(self, nums: List[int], target: int) -> List[int]:\n",
    "        combinations = self.find_combinations(nums)\n",
    "        for pair in combinations:\n",
    "            if pair[0] + pair[1] == target:\n",
    "                if pair[0] == pair[1]:\n",
    "                    return [nums.index(pair[0]), [i for i, n in enumerate(nums) if n == pair[0]][1]]\n",
    "                return [nums.index(pair[0]), nums.index(pair[1])]\n",
    "            else: \n",
    "                pass\n",
    "        \n",
    "    def find_combinations(self, nums: List[int]) -> List[int]:\n",
    "        return itertools.combinations(nums, 2)"
   ]
  },
  {
   "cell_type": "code",
   "execution_count": 265,
   "metadata": {
    "ExecuteTime": {
     "end_time": "2019-08-23T14:03:57.996813Z",
     "start_time": "2019-08-23T14:03:57.986076Z"
    },
    "hidden": true
   },
   "outputs": [],
   "source": [
    "from typing import List\n",
    "import itertools\n",
    "\n",
    "class Solution:\n",
    "    def twoSum(self, nums: List[int], target: int) -> List[int]:\n",
    "        combinations = self.find_combinations(nums)\n",
    "        for pair in combinations:\n",
    "            if pair[0] + pair[1] == target:\n",
    "                if pair[0] == pair[1]:\n",
    "                    return [nums.index(pair[0]), self.nth_index(nums, pair[1], 2)]\n",
    "                return [nums.index(pair[0]), nums.index(pair[1])]\n",
    "            else: \n",
    "                pass\n",
    "        \n",
    "    def find_combinations(self, nums: List[int]) -> List[int]:\n",
    "        return itertools.combinations(nums, 2)\n",
    "    \n",
    "    def nth_index(self, iterable, value, n):\n",
    "        matches = (idx for idx, val in enumerate(iterable) if val == value)\n",
    "        return next(itertools.islice(matches, n-1, n), None)\n",
    "        "
   ]
  },
  {
   "cell_type": "code",
   "execution_count": 284,
   "metadata": {
    "ExecuteTime": {
     "end_time": "2019-08-23T15:15:07.317539Z",
     "start_time": "2019-08-23T15:15:07.303872Z"
    },
    "hidden": true
   },
   "outputs": [],
   "source": [
    "from typing import List\n",
    "import itertools\n",
    "\n",
    "class Solution:\n",
    "    def twoSum(self, nums: List[int], target: int) -> List[int]:\n",
    "        combinations = self.find_combinations(nums)\n",
    "        for pair in combinations:\n",
    "            if pair[0] + pair[1] == target:\n",
    "                if pair[0] == pair[1]:\n",
    "                    return [nums.index(pair[0]), self.nth_index(nums, pair[1], 2)]\n",
    "                return [nums.index(pair[0]), nums.index(pair[1])]\n",
    "            else: \n",
    "                pass\n",
    "        \n",
    "    def find_combinations(self, nums: List[int]) -> List[int]:\n",
    "        return itertools.combinations(nums, 2)\n",
    "    \n",
    "    def nth_index(self, iterable, value, n):\n",
    "        matches = (idx for idx, val in enumerate(iterable) if val == value)\n",
    "        return next(itertools.islice(matches, n-1, n), None)\n",
    "        "
   ]
  },
  {
   "cell_type": "markdown",
   "metadata": {
    "heading_collapsed": true,
    "hidden": true
   },
   "source": [
    "###### Much more efficient and succinct solution (only 1 loop)"
   ]
  },
  {
   "cell_type": "code",
   "execution_count": 282,
   "metadata": {
    "ExecuteTime": {
     "end_time": "2019-08-23T14:39:06.513719Z",
     "start_time": "2019-08-23T14:39:06.503956Z"
    },
    "hidden": true
   },
   "outputs": [],
   "source": [
    "class Solution:\n",
    "    \n",
    "    def twoSum(self, nums, target):\n",
    "            seen = {}\n",
    "            for i, v in enumerate(nums):\n",
    "                remaining = target - v\n",
    "                print('seen:\\t', seen)\n",
    "                if remaining in seen:\n",
    "                    return [seen[remaining], i] # only 1 search query\n",
    "                seen[v] = i\n",
    "            return []"
   ]
  },
  {
   "cell_type": "markdown",
   "metadata": {
    "heading_collapsed": true,
    "hidden": true
   },
   "source": [
    "###### test"
   ]
  },
  {
   "cell_type": "code",
   "execution_count": 290,
   "metadata": {
    "ExecuteTime": {
     "end_time": "2019-08-23T15:16:40.238676Z",
     "start_time": "2019-08-23T15:16:40.232820Z"
    },
    "hidden": true,
    "scrolled": false
   },
   "outputs": [
    {
     "name": "stdout",
     "output_type": "stream",
     "text": [
      "[2, 3]\n"
     ]
    }
   ],
   "source": [
    "test = Solution()\n",
    "# test.twoSum([2, 7, 11, 15], 9)\n",
    "test.twoSum([11, 15, 2, 7], 9)\n",
    "print(next(test.twoSum([11, 15, 2, 7], 9)))"
   ]
  },
  {
   "cell_type": "code",
   "execution_count": 286,
   "metadata": {
    "ExecuteTime": {
     "end_time": "2019-08-23T15:15:13.938166Z",
     "start_time": "2019-08-23T15:15:13.931333Z"
    },
    "hidden": true,
    "scrolled": false
   },
   "outputs": [
    {
     "data": {
      "text/plain": [
       "<generator object Solution.twoSum at 0x0000019D55EE01B0>"
      ]
     },
     "execution_count": 286,
     "metadata": {},
     "output_type": "execute_result"
    }
   ],
   "source": [
    "test = Solution()\n",
    "# test.twoSum([2, 7, 11, 15], 9)\n",
    "test.twoSum([11, 15, 2, 7], 9)"
   ]
  },
  {
   "cell_type": "code",
   "execution_count": 273,
   "metadata": {
    "ExecuteTime": {
     "end_time": "2019-08-23T14:33:20.455796Z",
     "start_time": "2019-08-23T14:33:20.447986Z"
    },
    "hidden": true,
    "scrolled": false
   },
   "outputs": [
    {
     "name": "stdout",
     "output_type": "stream",
     "text": [
      "3\n"
     ]
    },
    {
     "data": {
      "text/plain": [
       "[0, 1]"
      ]
     },
     "execution_count": 273,
     "metadata": {},
     "output_type": "execute_result"
    }
   ],
   "source": [
    "test = Solution()\n",
    "test.twoSum([3,3], 6)"
   ]
  },
  {
   "cell_type": "markdown",
   "metadata": {},
   "source": [
    "## 003 Longest Substring Without Repeating Characters (med)\n"
   ]
  },
  {
   "cell_type": "raw",
   "metadata": {},
   "source": [
    "Given a string, find the length of the longest substring without repeating characters."
   ]
  },
  {
   "cell_type": "raw",
   "metadata": {},
   "source": [
    "Example 1:\n",
    "\n",
    "Input: \"abcabcbb\"\n",
    "Output: 3 \n",
    "Explanation: The answer is \"abc\", with the length of 3. \n",
    "Example 2:"
   ]
  },
  {
   "cell_type": "raw",
   "metadata": {},
   "source": [
    "Input: \"bbbbb\"\n",
    "Output: 1\n",
    "Explanation: The answer is \"b\", with the length of 1.\n",
    "Example 3:"
   ]
  },
  {
   "cell_type": "raw",
   "metadata": {},
   "source": [
    "Input: \"pwwkew\"\n",
    "Output: 3\n",
    "Explanation: The answer is \"wke\", with the length of 3. \n",
    "             Note that the answer must be a substring, \"pwke\" is a subsequence and not a substring."
   ]
  },
  {
   "cell_type": "markdown",
   "metadata": {
    "heading_collapsed": true
   },
   "source": [
    "##### My attempt"
   ]
  },
  {
   "cell_type": "code",
   "execution_count": 44,
   "metadata": {
    "ExecuteTime": {
     "end_time": "2019-09-01T20:40:56.640944Z",
     "start_time": "2019-09-01T20:40:56.628953Z"
    },
    "hidden": true
   },
   "outputs": [],
   "source": [
    "class Solution:    \n",
    "    def lengthOfLongestSubstring(self, s: str) -> int:\n",
    "        last_position:  dict[str, int] = {} # dictionary {characters : last index position}\n",
    "        start:                    int  = 0  # start index of current substring\n",
    "        longest_substr:           int = 1  # length of longest substring\n",
    "        for i,c in enumerate(s):\n",
    "            \n",
    "            if (c in last_position) and (last_position[c] >= start): \n",
    "            # if character not repeated in current substring\n",
    "            # update longest substring with max of last loop value and \n",
    "            # current substring length\n",
    "                start = i + 1\n",
    "            else:\n",
    "            # if the character is already in current substring\n",
    "            # reset start position next loop\n",
    "                longest_substr = max(longest_substr, i+1-start)\n",
    "            last_position[c] = i\n",
    "        return longest_substr\n",
    "            \n",
    "            "
   ]
  },
  {
   "cell_type": "code",
   "execution_count": 31,
   "metadata": {
    "ExecuteTime": {
     "end_time": "2019-08-29T05:40:23.575388Z",
     "start_time": "2019-08-29T05:40:23.567582Z"
    },
    "hidden": true
   },
   "outputs": [
    {
     "data": {
      "text/plain": [
       "False"
      ]
     },
     "execution_count": 31,
     "metadata": {},
     "output_type": "execute_result"
    },
    {
     "data": {
      "text/plain": [
       "True"
      ]
     },
     "execution_count": 31,
     "metadata": {},
     "output_type": "execute_result"
    }
   ],
   "source": [
    "s = \"abcabcbb\"\n",
    "\"e\" in s\n",
    "\"ca\" in s\n"
   ]
  },
  {
   "cell_type": "code",
   "execution_count": 47,
   "metadata": {
    "ExecuteTime": {
     "end_time": "2019-09-01T20:41:08.691236Z",
     "start_time": "2019-09-01T20:41:08.684241Z"
    },
    "hidden": true
   },
   "outputs": [
    {
     "data": {
      "text/plain": [
       "3"
      ]
     },
     "execution_count": 47,
     "metadata": {},
     "output_type": "execute_result"
    }
   ],
   "source": [
    "test = Solution()\n",
    "test.lengthOfLongestSubstring(\"abcabcbb\")"
   ]
  },
  {
   "cell_type": "code",
   "execution_count": 46,
   "metadata": {
    "ExecuteTime": {
     "end_time": "2019-09-01T20:41:06.476839Z",
     "start_time": "2019-09-01T20:41:06.470844Z"
    },
    "hidden": true
   },
   "outputs": [
    {
     "data": {
      "text/plain": [
       "1"
      ]
     },
     "execution_count": 46,
     "metadata": {},
     "output_type": "execute_result"
    }
   ],
   "source": [
    "test = Solution()\n",
    "test.lengthOfLongestSubstring(\"bbbbb\")"
   ]
  },
  {
   "cell_type": "code",
   "execution_count": 45,
   "metadata": {
    "ExecuteTime": {
     "end_time": "2019-09-01T20:41:03.486435Z",
     "start_time": "2019-09-01T20:41:03.480441Z"
    },
    "hidden": true
   },
   "outputs": [
    {
     "data": {
      "text/plain": [
       "3"
      ]
     },
     "execution_count": 45,
     "metadata": {},
     "output_type": "execute_result"
    }
   ],
   "source": [
    "test = Solution()\n",
    "test.lengthOfLongestSubstring(\"pwwkew\")"
   ]
  },
  {
   "cell_type": "markdown",
   "metadata": {
    "heading_collapsed": true
   },
   "source": [
    "##### App soln"
   ]
  },
  {
   "cell_type": "code",
   "execution_count": 40,
   "metadata": {
    "ExecuteTime": {
     "end_time": "2019-09-01T18:11:07.409280Z",
     "start_time": "2019-09-01T18:11:07.401286Z"
    },
    "code_folding": [],
    "hidden": true
   },
   "outputs": [],
   "source": [
    "class Solution:\n",
    "    def lengthOfLongestSubstring(self, s: str) -> int:\n",
    "        last_seen = {} # mapping from character to its last seen index in s\n",
    "        start = 0      # start index of current substring\n",
    "        longest = 0\n",
    "        \n",
    "        for i, c in enumerate(s):\n",
    "            \n",
    "            if (c in last_seen) and (last_seen[c] >= start):\n",
    "                # start a new substring after the previous sighting of c\n",
    "                start = last_seen[c] + 1\n",
    "\n",
    "            else:\n",
    "                longest = max(longest, i - start + 1)\n",
    "\n",
    "                \n",
    "            last_seen[c] = i # update the last sighting index\n",
    "            \n",
    "        return longest\n",
    "        \n",
    "        "
   ]
  },
  {
   "cell_type": "code",
   "execution_count": 44,
   "metadata": {
    "ExecuteTime": {
     "end_time": "2019-08-29T14:51:01.645171Z",
     "start_time": "2019-08-29T14:51:01.632479Z"
    },
    "code_folding": [],
    "hidden": true
   },
   "outputs": [],
   "source": [
    "class Solution:\n",
    "    def lengthOfLongestSubstring(self, s: str) -> int:\n",
    "        last_seen = {} # mapping from character to its last seen index in s\n",
    "        start = 0      # start index of current substring\n",
    "        longest = 0\n",
    "        \n",
    "        for i, c in enumerate(s):\n",
    "            print('last_seen(b):\\t', last_seen)\n",
    "            if (c in last_seen) and (last_seen[c] >= start):\n",
    "                # start a new substring after the previous sighting of c\n",
    "                start = last_seen[c] + 1\n",
    "                print('start:\\t\\t', start)\n",
    "                print('i,c:\\t', i,c); print()\n",
    "            else:\n",
    "                longest = max(longest, i - start + 1)\n",
    "                print('longest:\\t', longest)\n",
    "                print('i,c:\\t', i,c); print()\n",
    "            last_seen[c] = i # update the last sighting index\n",
    "            print('last_seen(A):\\t', last_seen)\n",
    "        return longest\n",
    "        \n",
    "        "
   ]
  },
  {
   "cell_type": "code",
   "execution_count": 53,
   "metadata": {
    "ExecuteTime": {
     "end_time": "2019-09-02T04:03:36.483000Z",
     "start_time": "2019-09-02T04:03:36.476165Z"
    },
    "hidden": true
   },
   "outputs": [
    {
     "data": {
      "text/plain": [
       "'dilbertjane'"
      ]
     },
     "execution_count": 53,
     "metadata": {},
     "output_type": "execute_result"
    }
   ],
   "source": [
    "\"dilbert\" \"jane\""
   ]
  },
  {
   "cell_type": "code",
   "execution_count": 51,
   "metadata": {
    "ExecuteTime": {
     "end_time": "2019-09-02T01:08:22.591671Z",
     "start_time": "2019-09-02T01:08:22.584838Z"
    },
    "hidden": true
   },
   "outputs": [
    {
     "data": {
      "text/plain": [
       "'test 1'"
      ]
     },
     "execution_count": 51,
     "metadata": {},
     "output_type": "execute_result"
    }
   ],
   "source": [
    "x=1\n",
    "\n",
    "f\"test {x}\"\n",
    "\n"
   ]
  },
  {
   "cell_type": "markdown",
   "metadata": {
    "hidden": true,
    "toc": true
   },
   "source": [
    "<h1>Table of Contents<span class=\"tocSkip\"></span></h1>\n",
    "<div class=\"toc\"><ul class=\"toc-item\"><li><span><a href=\"#Sample-Shopify-Questions\" data-toc-modified-id=\"Sample-Shopify-Questions-1\"><span class=\"toc-item-num\">1&nbsp;&nbsp;</span>Sample Shopify Questions</a></span><ul class=\"toc-item\"><li><span><a href=\"#What's-the-Smaller-Angle\" data-toc-modified-id=\"What's-the-Smaller-Angle-1.1\"><span class=\"toc-item-num\">1.1&nbsp;&nbsp;</span><font color=\"lightgrey\">What's the Smaller Angle</font></a></span></li><li><span><a href=\"#find-the-Powerset-of-a-given-set-(combinations-and-permutations)\" data-toc-modified-id=\"find-the-Powerset-of-a-given-set-(combinations-and-permutations)-1.2\"><span class=\"toc-item-num\">1.2&nbsp;&nbsp;</span><font color=\"lightgrey\">find the Powerset of a given set (combinations and permutations)</font></a></span></li><li><span><a href=\"#Shopify-Sept-6,-interview-question\" data-toc-modified-id=\"Shopify-Sept-6,-interview-question-1.3\"><span class=\"toc-item-num\">1.3&nbsp;&nbsp;</span><font color=\"blue\">Shopify Sept 6, interview question</font></a></span></li></ul></li><li><span><a href=\"#Hackerrank-Questions\" data-toc-modified-id=\"Hackerrank-Questions-2\"><span class=\"toc-item-num\">2&nbsp;&nbsp;</span>Hackerrank Questions</a></span><ul class=\"toc-item\"><li><span><a href=\"#Sock-Merchant-(default-dict)\" data-toc-modified-id=\"Sock-Merchant-(default-dict)-2.1\"><span class=\"toc-item-num\">2.1&nbsp;&nbsp;</span>Sock Merchant (default dict)</a></span><ul class=\"toc-item\"><li><span><a href=\"#Question\" data-toc-modified-id=\"Question-2.1.1\"><span class=\"toc-item-num\">2.1.1&nbsp;&nbsp;</span>Question</a></span></li><li><span><a href=\"#Answer\" data-toc-modified-id=\"Answer-2.1.2\"><span class=\"toc-item-num\">2.1.2&nbsp;&nbsp;</span>Answer</a></span></li><li><span><a href=\"#buffer\" data-toc-modified-id=\"buffer-2.1.3\"><span class=\"toc-item-num\">2.1.3&nbsp;&nbsp;</span>buffer</a></span></li></ul></li><li><span><a href=\"#Jumping-on-the-Clouds-(list-comprehension)\" data-toc-modified-id=\"Jumping-on-the-Clouds-(list-comprehension)-2.2\"><span class=\"toc-item-num\">2.2&nbsp;&nbsp;</span>Jumping on the Clouds (list comprehension)</a></span><ul class=\"toc-item\"><li><span><a href=\"#Question\" data-toc-modified-id=\"Question-2.2.1\"><span class=\"toc-item-num\">2.2.1&nbsp;&nbsp;</span>Question</a></span></li></ul></li><li><span><a href=\"#Repeated-String\" data-toc-modified-id=\"Repeated-String-2.3\"><span class=\"toc-item-num\">2.3&nbsp;&nbsp;</span>Repeated String</a></span></li><li><span><a href=\"#Counting-Valleys\" data-toc-modified-id=\"Counting-Valleys-2.4\"><span class=\"toc-item-num\">2.4&nbsp;&nbsp;</span>Counting Valleys</a></span></li></ul></li><li><span><a href=\"#Leetcode\" data-toc-modified-id=\"Leetcode-3\"><span class=\"toc-item-num\">3&nbsp;&nbsp;</span>Leetcode</a></span><ul class=\"toc-item\"><li><span><a href=\"#Given-a-valid-(IPv4)-IP-address,-return-a-defanged-version-of-that-IP-address.\" data-toc-modified-id=\"Given-a-valid-(IPv4)-IP-address,-return-a-defanged-version-of-that-IP-address.-3.1\"><span class=\"toc-item-num\">3.1&nbsp;&nbsp;</span>Given a valid (IPv4) IP address, return a defanged version of that IP address.</a></span></li><li><span><a href=\"#009.-Palindrome-Number\" data-toc-modified-id=\"009.-Palindrome-Number-3.2\"><span class=\"toc-item-num\">3.2&nbsp;&nbsp;</span>009. Palindrome Number</a></span></li><li><span><a href=\"#125.-Valid-Palindrome\" data-toc-modified-id=\"125.-Valid-Palindrome-3.3\"><span class=\"toc-item-num\">3.3&nbsp;&nbsp;</span>125. Valid Palindrome</a></span></li><li><span><a href=\"#131.-Palindrome-Partitioning-(med)--revisit\" data-toc-modified-id=\"131.-Palindrome-Partitioning-(med)--revisit-3.4\"><span class=\"toc-item-num\">3.4&nbsp;&nbsp;</span>131. <strong><font color=\"purple\">Palindrome Partitioning (med) </font></strong> <font color=\"red\">revisit</font></a></span></li><li><span><a href=\"#002.-add-two-numbers-(med---linked-lists)-revisit\" data-toc-modified-id=\"002.-add-two-numbers-(med---linked-lists)-revisit-3.5\"><span class=\"toc-item-num\">3.5&nbsp;&nbsp;</span>002. add-two-numbers (med - linked lists) <font color=\"red\">revisit</font></a></span></li><li><span><a href=\"#001.-two-sum\" data-toc-modified-id=\"001.-two-sum-3.6\"><span class=\"toc-item-num\">3.6&nbsp;&nbsp;</span>001. two-sum</a></span></li><li><span><a href=\"#003-Longest-Substring-Without-Repeating-Characters-(med)\" data-toc-modified-id=\"003-Longest-Substring-Without-Repeating-Characters-(med)-3.7\"><span class=\"toc-item-num\">3.7&nbsp;&nbsp;</span>003 Longest Substring Without Repeating Characters (med)</a></span></li></ul></li></ul></div>"
   ]
  }
 ],
 "metadata": {
  "hide_input": false,
  "kernelspec": {
   "display_name": "Python 3",
   "language": "python",
   "name": "python3"
  },
  "language_info": {
   "codemirror_mode": {
    "name": "ipython",
    "version": 3
   },
   "file_extension": ".py",
   "mimetype": "text/x-python",
   "name": "python",
   "nbconvert_exporter": "python",
   "pygments_lexer": "ipython3",
   "version": "3.7.1"
  },
  "toc": {
   "base_numbering": 1,
   "nav_menu": {},
   "number_sections": true,
   "sideBar": true,
   "skip_h1_title": false,
   "title_cell": "Table of Contents",
   "title_sidebar": "Contents",
   "toc_cell": true,
   "toc_position": {
    "height": "calc(100% - 180px)",
    "left": "10px",
    "top": "150px",
    "width": "273.188px"
   },
   "toc_section_display": true,
   "toc_window_display": false
  }
 },
 "nbformat": 4,
 "nbformat_minor": 2
}
