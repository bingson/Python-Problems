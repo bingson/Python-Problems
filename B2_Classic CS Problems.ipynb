{
 "cells": [
  {
   "cell_type": "markdown",
   "metadata": {
    "toc": true
   },
   "source": [
    "<h1>Table of Contents<span class=\"tocSkip\"></span></h1>\n",
    "<div class=\"toc\"><ul class=\"toc-item\"><li><span><a href=\"#Small-Problems\" data-toc-modified-id=\"Small-Problems-1\"><span class=\"toc-item-num\">1&nbsp;&nbsp;</span>Small Problems</a></span><ul class=\"toc-item\"><li><span><a href=\"#The-fibinocci-Sequence\" data-toc-modified-id=\"The-fibinocci-Sequence-1.1\"><span class=\"toc-item-num\">1.1&nbsp;&nbsp;</span>The fibinocci Sequence</a></span><ul class=\"toc-item\"><li><span><a href=\"#A-first-recursive-attempt\" data-toc-modified-id=\"A-first-recursive-attempt-1.1.1\"><span class=\"toc-item-num\">1.1.1&nbsp;&nbsp;</span>A first recursive attempt</a></span></li><li><span><a href=\"#Utilizing-base-cases\" data-toc-modified-id=\"Utilizing-base-cases-1.1.2\"><span class=\"toc-item-num\">1.1.2&nbsp;&nbsp;</span>Utilizing base cases</a></span></li><li><span><a href=\"#Memoization-to-the-rescue\" data-toc-modified-id=\"Memoization-to-the-rescue-1.1.3\"><span class=\"toc-item-num\">1.1.3&nbsp;&nbsp;</span>Memoization to the rescue</a></span></li><li><span><a href=\"#Automatic-memoization\" data-toc-modified-id=\"Automatic-memoization-1.1.4\"><span class=\"toc-item-num\">1.1.4&nbsp;&nbsp;</span>Automatic memoization</a></span></li><li><span><a href=\"#Keep-it-simple,-Fibonacci\" data-toc-modified-id=\"Keep-it-simple,-Fibonacci-1.1.5\"><span class=\"toc-item-num\">1.1.5&nbsp;&nbsp;</span>Keep it simple, Fibonacci</a></span></li><li><span><a href=\"#Generating-Fibonacci-numbers-with-a-generator\" data-toc-modified-id=\"Generating-Fibonacci-numbers-with-a-generator-1.1.6\"><span class=\"toc-item-num\">1.1.6&nbsp;&nbsp;</span>Generating Fibonacci numbers with a generator</a></span></li></ul></li><li><span><a href=\"#Trivial-compression\" data-toc-modified-id=\"Trivial-compression-1.2\"><span class=\"toc-item-num\">1.2&nbsp;&nbsp;</span><font color=\"lightgrey\">Trivial compression</font></a></span></li><li><span><a href=\"#Unbreakable-Encryption\" data-toc-modified-id=\"Unbreakable-Encryption-1.3\"><span class=\"toc-item-num\">1.3&nbsp;&nbsp;</span><font color=\"lightgrey\">Unbreakable Encryption</font></a></span><ul class=\"toc-item\"><li><span><a href=\"#Getting-the-data-in-order\" data-toc-modified-id=\"Getting-the-data-in-order-1.3.1\"><span class=\"toc-item-num\">1.3.1&nbsp;&nbsp;</span>Getting the data in order</a></span></li><li><span><a href=\"#Encrypting-and-decrypting\" data-toc-modified-id=\"Encrypting-and-decrypting-1.3.2\"><span class=\"toc-item-num\">1.3.2&nbsp;&nbsp;</span>Encrypting and decrypting</a></span></li></ul></li><li><span><a href=\"#Calculating-pi\" data-toc-modified-id=\"Calculating-pi-1.4\"><span class=\"toc-item-num\">1.4&nbsp;&nbsp;</span>Calculating pi</a></span></li><li><span><a href=\"#The-Towers-of-Hanoi\" data-toc-modified-id=\"The-Towers-of-Hanoi-1.5\"><span class=\"toc-item-num\">1.5&nbsp;&nbsp;</span>The Towers of Hanoi</a></span><ul class=\"toc-item\"><li><span><a href=\"#Modeling-the-towers\" data-toc-modified-id=\"Modeling-the-towers-1.5.1\"><span class=\"toc-item-num\">1.5.1&nbsp;&nbsp;</span>Modeling the towers</a></span></li><li><span><a href=\"#Solving-The-Towers-of-Hanoi\" data-toc-modified-id=\"Solving-The-Towers-of-Hanoi-1.5.2\"><span class=\"toc-item-num\">1.5.2&nbsp;&nbsp;</span>Solving The Towers of Hanoi</a></span></li></ul></li></ul></li><li><span><a href=\"#Search-problems\" data-toc-modified-id=\"Search-problems-2\"><span class=\"toc-item-num\">2&nbsp;&nbsp;</span>Search problems</a></span><ul class=\"toc-item\"><li><span><a href=\"#DNA-search\" data-toc-modified-id=\"DNA-search-2.1\"><span class=\"toc-item-num\">2.1&nbsp;&nbsp;</span>DNA search</a></span><ul class=\"toc-item\"><li><span><a href=\"#Storing-DNA\" data-toc-modified-id=\"Storing-DNA-2.1.1\"><span class=\"toc-item-num\">2.1.1&nbsp;&nbsp;</span>Storing DNA</a></span></li><li><span><a href=\"#Linear-search\" data-toc-modified-id=\"Linear-search-2.1.2\"><span class=\"toc-item-num\">2.1.2&nbsp;&nbsp;</span>Linear search</a></span></li><li><span><a href=\"#Binary-search\" data-toc-modified-id=\"Binary-search-2.1.3\"><span class=\"toc-item-num\">2.1.3&nbsp;&nbsp;</span>Binary search</a></span></li><li><span><a href=\"#A-Generic-Example\" data-toc-modified-id=\"A-Generic-Example-2.1.4\"><span class=\"toc-item-num\">2.1.4&nbsp;&nbsp;</span>A Generic Example</a></span></li><li><span><a href=\"#Combined-code-from-github\" data-toc-modified-id=\"Combined-code-from-github-2.1.5\"><span class=\"toc-item-num\">2.1.5&nbsp;&nbsp;</span>Combined code from github</a></span></li></ul></li><li><span><a href=\"#Maze-solving\" data-toc-modified-id=\"Maze-solving-2.2\"><span class=\"toc-item-num\">2.2&nbsp;&nbsp;</span>Maze solving</a></span></li></ul></li></ul></div>"
   ]
  },
  {
   "cell_type": "code",
   "execution_count": 225,
   "metadata": {
    "ExecuteTime": {
     "end_time": "2019-08-29T03:40:02.190980Z",
     "start_time": "2019-08-29T03:40:02.185122Z"
    }
   },
   "outputs": [],
   "source": [
    "# Pretty display multiple variables without print statement\n",
    "from IPython.core.interactiveshell import InteractiveShell\n",
    "InteractiveShell.ast_node_interactivity = \"all\""
   ]
  },
  {
   "cell_type": "markdown",
   "metadata": {},
   "source": [
    "# Small Problems"
   ]
  },
  {
   "cell_type": "markdown",
   "metadata": {
    "heading_collapsed": true
   },
   "source": [
    "## The fibinocci Sequence"
   ]
  },
  {
   "cell_type": "markdown",
   "metadata": {
    "hidden": true
   },
   "source": [
    "The Fibonacci sequence is a sequence of numbers such that any number, except\n",
    "for the first and second, is the sum of the previous two:\n",
    "\n",
    "0, 1, 1, 2, 3, 5, 8, 13, 21...\n",
    "\n",
    "The value of the first Fibonacci number in the sequence is 0. The value of the\n",
    "fourth Fibonacci number is 2. It follows that to get the value of any Fibonacci num-\n",
    "ber, n, in the sequence, one can use the formula\n",
    "\n",
    "fib(n) = fib(n - 1) + fib(n - 2)"
   ]
  },
  {
   "cell_type": "markdown",
   "metadata": {
    "heading_collapsed": true,
    "hidden": true
   },
   "source": [
    "### A first recursive attempt"
   ]
  },
  {
   "cell_type": "raw",
   "metadata": {
    "hidden": true
   },
   "source": [
    "# If we try to run fib1.py, we generate an error:\n",
    "def fib1(n: int) -> int:\n",
    "    return fib1(n - 1) + fib1(n - 2)\n",
    "\n",
    "if __name__ == \"__main__\":\n",
    "    print(fib1(5))"
   ]
  },
  {
   "cell_type": "markdown",
   "metadata": {
    "heading_collapsed": true,
    "hidden": true
   },
   "source": [
    "### Utilizing base cases"
   ]
  },
  {
   "cell_type": "code",
   "execution_count": 2,
   "metadata": {
    "ExecuteTime": {
     "end_time": "2019-08-26T19:41:11.112652Z",
     "start_time": "2019-08-26T19:41:11.105818Z"
    },
    "hidden": true
   },
   "outputs": [
    {
     "name": "stdout",
     "output_type": "stream",
     "text": [
      "5\n",
      "55\n"
     ]
    }
   ],
   "source": [
    "def fib2(n: int) -> int:\n",
    "    if n < 2:  # base case\n",
    "        return n\n",
    "    return fib2(n - 2) + fib2(n - 1)  # recursive case\n",
    "\n",
    "if __name__ == \"__main__\":\n",
    "    print(fib2(5))\n",
    "    print(fib2(10))"
   ]
  },
  {
   "cell_type": "markdown",
   "metadata": {
    "hidden": true
   },
   "source": [
    "Do not try calling fib2(50). It will never finish executing! Why? Every call to fib2()\n",
    "results in two more calls to fib2() by way of the recursive calls fib2(n - 1) and\n",
    "fib2(n - 2) (see figure 1.3). In other words, the call tree grows exponentially."
   ]
  },
  {
   "cell_type": "markdown",
   "metadata": {
    "heading_collapsed": true,
    "hidden": true
   },
   "source": [
    "### Memoization to the rescue"
   ]
  },
  {
   "cell_type": "code",
   "execution_count": 3,
   "metadata": {
    "ExecuteTime": {
     "end_time": "2019-08-26T19:41:20.989759Z",
     "start_time": "2019-08-26T19:41:20.981948Z"
    },
    "hidden": true
   },
   "outputs": [
    {
     "name": "stdout",
     "output_type": "stream",
     "text": [
      "5\n",
      "12586269025\n"
     ]
    }
   ],
   "source": [
    "from typing import Dict\n",
    "memo: Dict[int, int] = {0: 0, 1: 1}  # our base cases\n",
    "\n",
    "def fib3(n: int) -> int:\n",
    "    if n not in memo: \n",
    "        memo[n] = fib3(n - 1) + fib3(n - 2)  # memoization\n",
    "    return memo[n]\n",
    "# You can now safely call fib3(50).\n",
    "\n",
    "if __name__ == \"__main__\":\n",
    "    print(fib3(5))\n",
    "    print(fib3(50))"
   ]
  },
  {
   "cell_type": "markdown",
   "metadata": {
    "hidden": true
   },
   "source": [
    "<font color = 'red'>memo</font>: The classical memoize decorator. It keeps a cache args -> result so you don’t continue to perform the same computations."
   ]
  },
  {
   "cell_type": "markdown",
   "metadata": {
    "hidden": true
   },
   "source": [
    "A call to fib3(20) will result in just 39 calls of fib3() as opposed to the 21,891 of\n",
    "fib2() resulting from the call fib2(20). <font color = 'blue'>memo is prefilled with the earlier base cases of\n",
    "0 and 1, saving fib3() from the complexity of another if statement.</font>"
   ]
  },
  {
   "cell_type": "markdown",
   "metadata": {
    "heading_collapsed": true,
    "hidden": true
   },
   "source": [
    "### Automatic memoization"
   ]
  },
  {
   "cell_type": "code",
   "execution_count": 11,
   "metadata": {
    "ExecuteTime": {
     "end_time": "2019-08-26T14:31:25.399482Z",
     "start_time": "2019-08-26T14:31:25.339933Z"
    },
    "hidden": true
   },
   "outputs": [
    {
     "name": "stdout",
     "output_type": "stream",
     "text": [
      "5\n",
      "12586269025\n"
     ]
    }
   ],
   "source": [
    "from functools import lru_cache\n",
    "\n",
    "@lru_cache(maxsize=None)\n",
    "def fib4(n: int) -> int:  # same definition as fib2()\n",
    "    if n < 2:  # base case\n",
    "        return n\n",
    "    return fib4(n - 2) + fib4(n - 1)  # recursive case\n",
    "\n",
    "if __name__ == \"__main__\":\n",
    "    print(fib4(5))\n",
    "    print(fib4(50))"
   ]
  },
  {
   "cell_type": "markdown",
   "metadata": {
    "heading_collapsed": true,
    "hidden": true
   },
   "source": [
    "### Keep it simple, Fibonacci"
   ]
  },
  {
   "cell_type": "code",
   "execution_count": 14,
   "metadata": {
    "ExecuteTime": {
     "end_time": "2019-08-26T15:25:47.872046Z",
     "start_time": "2019-08-26T15:25:47.861309Z"
    },
    "hidden": true
   },
   "outputs": [
    {
     "name": "stdout",
     "output_type": "stream",
     "text": [
      "5\n",
      "12586269025\n"
     ]
    }
   ],
   "source": [
    "def fib5(n: int) -> int:\n",
    "    if n == 0: return n  # special case\n",
    "    last: int = 0  # initially set to fib(0)\n",
    "    next: int = 1  # initially set to fib(1)\n",
    "    for _ in range(1, n):\n",
    "        last, next = next, last + next\n",
    "    return next\n",
    "\n",
    "if __name__ == \"__main__\":\n",
    "    print(fib5(5))\n",
    "    print(fib5(50))"
   ]
  },
  {
   "cell_type": "markdown",
   "metadata": {
    "hidden": true
   },
   "source": [
    "The body of the for loop in fib5() uses tuple unpacking in perhaps a bit of an overly clever way. Some may feel that it sacrifices readability for conciseness. Others may find the conciseness in and of itself more readable. \n",
    "> The gist is, \n",
    "1. last is being set to the previous value of next, and \n",
    "2. next is being set to the previous value of last plus the previous value of next. \n",
    "\n",
    "This avoids the creation of a temporary variable to hold the old value of next after last is updated but before next is updated. Using tuple unpacking in this fashion for some kind of variable swap is common in Python."
   ]
  },
  {
   "cell_type": "markdown",
   "metadata": {
    "heading_collapsed": true,
    "hidden": true
   },
   "source": [
    "### Generating Fibonacci numbers with a generator"
   ]
  },
  {
   "cell_type": "code",
   "execution_count": 21,
   "metadata": {
    "ExecuteTime": {
     "end_time": "2019-08-27T22:00:08.752624Z",
     "start_time": "2019-08-27T22:00:08.738956Z"
    },
    "collapsed": true,
    "hidden": true
   },
   "outputs": [
    {
     "name": "stdout",
     "output_type": "stream",
     "text": [
      "0\n",
      "1\n",
      "1\n",
      "2\n",
      "3\n",
      "5\n",
      "8\n",
      "13\n",
      "21\n",
      "34\n",
      "55\n",
      "89\n",
      "144\n",
      "233\n",
      "377\n",
      "610\n",
      "987\n",
      "1597\n",
      "2584\n",
      "4181\n",
      "6765\n",
      "10946\n",
      "17711\n",
      "28657\n",
      "46368\n",
      "75025\n",
      "121393\n",
      "196418\n",
      "317811\n",
      "514229\n",
      "832040\n",
      "1346269\n",
      "2178309\n",
      "3524578\n",
      "5702887\n",
      "9227465\n",
      "14930352\n",
      "24157817\n",
      "39088169\n",
      "63245986\n",
      "102334155\n",
      "165580141\n",
      "267914296\n",
      "433494437\n",
      "701408733\n",
      "1134903170\n",
      "1836311903\n",
      "2971215073\n",
      "4807526976\n",
      "7778742049\n",
      "12586269025\n"
     ]
    }
   ],
   "source": [
    "from typing import Generator\n",
    "\n",
    "def fib6(n: int) -> Generator[int, None, None]:\n",
    "    yield 0            # special case\n",
    "    if n > 0: yield 1  # special case\n",
    "    last: int = 0      # initially set to fib(0)\n",
    "    next: int = 1      # initially set to fib(1)\n",
    "    for _ in range(1, n):\n",
    "        last, next = next, last + next\n",
    "        yield next     # main generation step\n",
    "\n",
    "if __name__ == \"__main__\":\n",
    "    for i in fib6(50):\n",
    "        print(i)"
   ]
  },
  {
   "cell_type": "code",
   "execution_count": 14,
   "metadata": {
    "ExecuteTime": {
     "end_time": "2019-08-26T15:25:47.872046Z",
     "start_time": "2019-08-26T15:25:47.861309Z"
    },
    "cell_style": "center",
    "hidden": true
   },
   "outputs": [
    {
     "name": "stdout",
     "output_type": "stream",
     "text": [
      "5\n",
      "12586269025\n"
     ]
    }
   ],
   "source": [
    "def fib5(n: int) -> int:\n",
    "    \n",
    "    if n == 0: return n  # special case\n",
    "    last: int = 0  # initially set to fib(0)\n",
    "    next: int = 1  # initially set to fib(1)\n",
    "    for _ in range(1, n):\n",
    "        last, next = next, last + next\n",
    "    return next\n",
    "\n",
    "if __name__ == \"__main__\":\n",
    "    print(fib5(5))\n",
    "    print(fib5(50))"
   ]
  },
  {
   "cell_type": "markdown",
   "metadata": {
    "heading_collapsed": true
   },
   "source": [
    "## <font color = 'lightgrey'>Trivial compression</font>"
   ]
  },
  {
   "cell_type": "markdown",
   "metadata": {
    "hidden": true
   },
   "source": [
    "\n",
    "The function ```sys.getsizeof()``` can help you find out how many bytes of memory your Python objects are consuming. But due to the inherent overhead of the Python object system, there is no way to create an int that takes up less than 28 bytes (224 bits) in Python 3.7. A single int can be extended one bit at a time (as we will do in this example), but it consumes a minimum of 28 bytes."
   ]
  },
  {
   "cell_type": "markdown",
   "metadata": {
    "hidden": true
   },
   "source": [
    "you do need to understand that the number of bits that a type stores determines how many different values it can represent. For example, 1 bit can represent 2 values (0 or 1), 2 bits can represent 4 values (00, 01, 10, 11), 3 bits can represent 8 values, and so on."
   ]
  },
  {
   "cell_type": "code",
   "execution_count": 91,
   "metadata": {
    "ExecuteTime": {
     "end_time": "2019-08-28T01:29:51.143044Z",
     "start_time": "2019-08-28T01:29:51.123518Z"
    },
    "hidden": true
   },
   "outputs": [],
   "source": [
    "class CompressedGene:\n",
    "    def __init__(self, gene: str) -> None:\n",
    "        self._compress(gene)\n",
    "\n",
    "    def _compress(self, gene: str) -> None:\n",
    "        self.bit_string: int = 1  # start with sentinel\n",
    "        for nucleotide in gene.upper():\n",
    "            self.bit_string <<= 2  # shift left two bits\n",
    "            if nucleotide == \"A\":  # change last two bits to 00\n",
    "                self.bit_string |= 0b00\n",
    "            elif nucleotide == \"C\":  # change last two bits to 01\n",
    "                self.bit_string |= 0b01\n",
    "            elif nucleotide == \"G\":  # change last two bits to 10\n",
    "                self.bit_string |= 0b10\n",
    "            elif nucleotide == \"T\":  # change last two bits to 11\n",
    "                self.bit_string |= 0b11\n",
    "            else:\n",
    "                raise ValueError(\"Invalid Nucleotide:{}\".format(nucleotide))\n",
    "\n",
    "    def decompress(self) -> str:\n",
    "        gene: str = \"\"\n",
    "        for i in range(0, self.bit_string.bit_length() - 1, 2):  \n",
    "                                                     # - 1 to exclude sentinel\n",
    "            bits: int = self.bit_string >> i & 0b11  # get just 2 relevant bits\n",
    "            if bits == 0b00:  # A\n",
    "                gene += \"A\"\n",
    "            elif bits == 0b01:  # C\n",
    "                gene += \"C\"\n",
    "            elif bits == 0b10:  # G\n",
    "                gene += \"G\"\n",
    "            elif bits == 0b11:  # T\n",
    "                gene += \"T\"\n",
    "            else:\n",
    "                raise ValueError(\"Invalid bits:{}\".format(bits))\n",
    "        return gene[::-1]  # [::-1] reverses string by slicing backward\n",
    "\n",
    "    def __str__(self) -> str:  # string representation for pretty printing\n",
    "        return self.decompress()"
   ]
  },
  {
   "cell_type": "markdown",
   "metadata": {
    "hidden": true
   },
   "source": [
    "Every nucleotide is added using an “or” operation (|). After the left shift, two 0s are\n",
    "added to the right side of the bit string. In bitwise operations, “ORing” (for example,\n",
    "```self.bit_string |= 0b10```) 0s with any other value results in the other value replacing\n",
    "the 0s. In other words, we continually add two new bits to the right side of the bit\n",
    "string. The two bits that are added are determined by the type of the nucleotide.\n",
    "* ```|=```let's us change the trailing 00 added at beginning of the for loop, instead of replacing the whole value (overwrite previous nucleotides) "
   ]
  },
  {
   "cell_type": "code",
   "execution_count": 93,
   "metadata": {
    "ExecuteTime": {
     "end_time": "2019-08-28T01:30:01.508073Z",
     "start_time": "2019-08-28T01:30:01.457308Z"
    },
    "collapsed": true,
    "hidden": true
   },
   "outputs": [
    {
     "name": "stdout",
     "output_type": "stream",
     "text": [
      "original is 8649 bytes\n",
      "compressed is 2320 bytes\n",
      "TAGGGATTAACCGTTATATATATATAGCCATGGATCGATTATATAGGGATTAACCGTTATATATATATAGCCATGGATCGATTATATAGGGATTAACCGTTATATATATATAGCCATGGATCGATTATATAGGGATTAACCGTTATATATATATAGCCATGGATCGATTATATAGGGATTAACCGTTATATATATATAGCCATGGATCGATTATATAGGGATTAACCGTTATATATATATAGCCATGGATCGATTATATAGGGATTAACCGTTATATATATATAGCCATGGATCGATTATATAGGGATTAACCGTTATATATATATAGCCATGGATCGATTATATAGGGATTAACCGTTATATATATATAGCCATGGATCGATTATATAGGGATTAACCGTTATATATATATAGCCATGGATCGATTATATAGGGATTAACCGTTATATATATATAGCCATGGATCGATTATATAGGGATTAACCGTTATATATATATAGCCATGGATCGATTATATAGGGATTAACCGTTATATATATATAGCCATGGATCGATTATATAGGGATTAACCGTTATATATATATAGCCATGGATCGATTATATAGGGATTAACCGTTATATATATATAGCCATGGATCGATTATATAGGGATTAACCGTTATATATATATAGCCATGGATCGATTATATAGGGATTAACCGTTATATATATATAGCCATGGATCGATTATATAGGGATTAACCGTTATATATATATAGCCATGGATCGATTATATAGGGATTAACCGTTATATATATATAGCCATGGATCGATTATATAGGGATTAACCGTTATATATATATAGCCATGGATCGATTATATAGGGATTAACCGTTATATATATATAGCCATGGATCGATTATATAGGGATTAACCGTTATATATATATAGCCATGGATCGATTATATAGGGATTAACCGTTATATATATATAGCCATGGATCGATTATATAGGGATTAACCGTTATATATATATAGCCATGGATCGATTATATAGGGATTAACCGTTATATATATATAGCCATGGATCGATTATATAGGGATTAACCGTTATATATATATAGCCATGGATCGATTATATAGGGATTAACCGTTATATATATATAGCCATGGATCGATTATATAGGGATTAACCGTTATATATATATAGCCATGGATCGATTATATAGGGATTAACCGTTATATATATATAGCCATGGATCGATTATATAGGGATTAACCGTTATATATATATAGCCATGGATCGATTATATAGGGATTAACCGTTATATATATATAGCCATGGATCGATTATATAGGGATTAACCGTTATATATATATAGCCATGGATCGATTATATAGGGATTAACCGTTATATATATATAGCCATGGATCGATTATATAGGGATTAACCGTTATATATATATAGCCATGGATCGATTATATAGGGATTAACCGTTATATATATATAGCCATGGATCGATTATATAGGGATTAACCGTTATATATATATAGCCATGGATCGATTATATAGGGATTAACCGTTATATATATATAGCCATGGATCGATTATATAGGGATTAACCGTTATATATATATAGCCATGGATCGATTATATAGGGATTAACCGTTATATATATATAGCCATGGATCGATTATATAGGGATTAACCGTTATATATATATAGCCATGGATCGATTATATAGGGATTAACCGTTATATATATATAGCCATGGATCGATTATATAGGGATTAACCGTTATATATATATAGCCATGGATCGATTATATAGGGATTAACCGTTATATATATATAGCCATGGATCGATTATATAGGGATTAACCGTTATATATATATAGCCATGGATCGATTATATAGGGATTAACCGTTATATATATATAGCCATGGATCGATTATATAGGGATTAACCGTTATATATATATAGCCATGGATCGATTATATAGGGATTAACCGTTATATATATATAGCCATGGATCGATTATATAGGGATTAACCGTTATATATATATAGCCATGGATCGATTATATAGGGATTAACCGTTATATATATATAGCCATGGATCGATTATATAGGGATTAACCGTTATATATATATAGCCATGGATCGATTATATAGGGATTAACCGTTATATATATATAGCCATGGATCGATTATATAGGGATTAACCGTTATATATATATAGCCATGGATCGATTATATAGGGATTAACCGTTATATATATATAGCCATGGATCGATTATATAGGGATTAACCGTTATATATATATAGCCATGGATCGATTATATAGGGATTAACCGTTATATATATATAGCCATGGATCGATTATATAGGGATTAACCGTTATATATATATAGCCATGGATCGATTATATAGGGATTAACCGTTATATATATATAGCCATGGATCGATTATATAGGGATTAACCGTTATATATATATAGCCATGGATCGATTATATAGGGATTAACCGTTATATATATATAGCCATGGATCGATTATATAGGGATTAACCGTTATATATATATAGCCATGGATCGATTATATAGGGATTAACCGTTATATATATATAGCCATGGATCGATTATATAGGGATTAACCGTTATATATATATAGCCATGGATCGATTATATAGGGATTAACCGTTATATATATATAGCCATGGATCGATTATATAGGGATTAACCGTTATATATATATAGCCATGGATCGATTATATAGGGATTAACCGTTATATATATATAGCCATGGATCGATTATATAGGGATTAACCGTTATATATATATAGCCATGGATCGATTATATAGGGATTAACCGTTATATATATATAGCCATGGATCGATTATATAGGGATTAACCGTTATATATATATAGCCATGGATCGATTATATAGGGATTAACCGTTATATATATATAGCCATGGATCGATTATATAGGGATTAACCGTTATATATATATAGCCATGGATCGATTATATAGGGATTAACCGTTATATATATATAGCCATGGATCGATTATATAGGGATTAACCGTTATATATATATAGCCATGGATCGATTATATAGGGATTAACCGTTATATATATATAGCCATGGATCGATTATATAGGGATTAACCGTTATATATATATAGCCATGGATCGATTATATAGGGATTAACCGTTATATATATATAGCCATGGATCGATTATATAGGGATTAACCGTTATATATATATAGCCATGGATCGATTATATAGGGATTAACCGTTATATATATATAGCCATGGATCGATTATATAGGGATTAACCGTTATATATATATAGCCATGGATCGATTATATAGGGATTAACCGTTATATATATATAGCCATGGATCGATTATATAGGGATTAACCGTTATATATATATAGCCATGGATCGATTATATAGGGATTAACCGTTATATATATATAGCCATGGATCGATTATATAGGGATTAACCGTTATATATATATAGCCATGGATCGATTATATAGGGATTAACCGTTATATATATATAGCCATGGATCGATTATATAGGGATTAACCGTTATATATATATAGCCATGGATCGATTATATAGGGATTAACCGTTATATATATATAGCCATGGATCGATTATATAGGGATTAACCGTTATATATATATAGCCATGGATCGATTATATAGGGATTAACCGTTATATATATATAGCCATGGATCGATTATATAGGGATTAACCGTTATATATATATAGCCATGGATCGATTATATAGGGATTAACCGTTATATATATATAGCCATGGATCGATTATATAGGGATTAACCGTTATATATATATAGCCATGGATCGATTATATAGGGATTAACCGTTATATATATATAGCCATGGATCGATTATATAGGGATTAACCGTTATATATATATAGCCATGGATCGATTATATAGGGATTAACCGTTATATATATATAGCCATGGATCGATTATATAGGGATTAACCGTTATATATATATAGCCATGGATCGATTATATAGGGATTAACCGTTATATATATATAGCCATGGATCGATTATATAGGGATTAACCGTTATATATATATAGCCATGGATCGATTATATAGGGATTAACCGTTATATATATATAGCCATGGATCGATTATATAGGGATTAACCGTTATATATATATAGCCATGGATCGATTATATAGGGATTAACCGTTATATATATATAGCCATGGATCGATTATATAGGGATTAACCGTTATATATATATAGCCATGGATCGATTATATAGGGATTAACCGTTATATATATATAGCCATGGATCGATTATATAGGGATTAACCGTTATATATATATAGCCATGGATCGATTATATAGGGATTAACCGTTATATATATATAGCCATGGATCGATTATATAGGGATTAACCGTTATATATATATAGCCATGGATCGATTATATAGGGATTAACCGTTATATATATATAGCCATGGATCGATTATATAGGGATTAACCGTTATATATATATAGCCATGGATCGATTATATAGGGATTAACCGTTATATATATATAGCCATGGATCGATTATATAGGGATTAACCGTTATATATATATAGCCATGGATCGATTATATAGGGATTAACCGTTATATATATATAGCCATGGATCGATTATATAGGGATTAACCGTTATATATATATAGCCATGGATCGATTATATAGGGATTAACCGTTATATATATATAGCCATGGATCGATTATATAGGGATTAACCGTTATATATATATAGCCATGGATCGATTATATAGGGATTAACCGTTATATATATATAGCCATGGATCGATTATATAGGGATTAACCGTTATATATATATAGCCATGGATCGATTATATAGGGATTAACCGTTATATATATATAGCCATGGATCGATTATATAGGGATTAACCGTTATATATATATAGCCATGGATCGATTATATAGGGATTAACCGTTATATATATATAGCCATGGATCGATTATATAGGGATTAACCGTTATATATATATAGCCATGGATCGATTATATAGGGATTAACCGTTATATATATATAGCCATGGATCGATTATATAGGGATTAACCGTTATATATATATAGCCATGGATCGATTATATAGGGATTAACCGTTATATATATATAGCCATGGATCGATTATATAGGGATTAACCGTTATATATATATAGCCATGGATCGATTATATAGGGATTAACCGTTATATATATATAGCCATGGATCGATTATATAGGGATTAACCGTTATATATATATAGCCATGGATCGATTATATAGGGATTAACCGTTATATATATATAGCCATGGATCGATTATATAGGGATTAACCGTTATATATATATAGCCATGGATCGATTATATAGGGATTAACCGTTATATATATATAGCCATGGATCGATTATATAGGGATTAACCGTTATATATATATAGCCATGGATCGATTATATAGGGATTAACCGTTATATATATATAGCCATGGATCGATTATATAGGGATTAACCGTTATATATATATAGCCATGGATCGATTATATAGGGATTAACCGTTATATATATATAGCCATGGATCGATTATATAGGGATTAACCGTTATATATATATAGCCATGGATCGATTATATAGGGATTAACCGTTATATATATATAGCCATGGATCGATTATATAGGGATTAACCGTTATATATATATAGCCATGGATCGATTATATAGGGATTAACCGTTATATATATATAGCCATGGATCGATTATATAGGGATTAACCGTTATATATATATAGCCATGGATCGATTATATAGGGATTAACCGTTATATATATATAGCCATGGATCGATTATATAGGGATTAACCGTTATATATATATAGCCATGGATCGATTATATAGGGATTAACCGTTATATATATATAGCCATGGATCGATTATATAGGGATTAACCGTTATATATATATAGCCATGGATCGATTATATAGGGATTAACCGTTATATATATATAGCCATGGATCGATTATATAGGGATTAACCGTTATATATATATAGCCATGGATCGATTATATAGGGATTAACCGTTATATATATATAGCCATGGATCGATTATATAGGGATTAACCGTTATATATATATAGCCATGGATCGATTATATAGGGATTAACCGTTATATATATATAGCCATGGATCGATTATATAGGGATTAACCGTTATATATATATAGCCATGGATCGATTATATAGGGATTAACCGTTATATATATATAGCCATGGATCGATTATATAGGGATTAACCGTTATATATATATAGCCATGGATCGATTATATAGGGATTAACCGTTATATATATATAGCCATGGATCGATTATATAGGGATTAACCGTTATATATATATAGCCATGGATCGATTATATAGGGATTAACCGTTATATATATATAGCCATGGATCGATTATATAGGGATTAACCGTTATATATATATAGCCATGGATCGATTATATAGGGATTAACCGTTATATATATATAGCCATGGATCGATTATATAGGGATTAACCGTTATATATATATAGCCATGGATCGATTATATAGGGATTAACCGTTATATATATATAGCCATGGATCGATTATATAGGGATTAACCGTTATATATATATAGCCATGGATCGATTATATAGGGATTAACCGTTATATATATATAGCCATGGATCGATTATATAGGGATTAACCGTTATATATATATAGCCATGGATCGATTATATAGGGATTAACCGTTATATATATATAGCCATGGATCGATTATATAGGGATTAACCGTTATATATATATAGCCATGGATCGATTATATAGGGATTAACCGTTATATATATATAGCCATGGATCGATTATATAGGGATTAACCGTTATATATATATAGCCATGGATCGATTATATAGGGATTAACCGTTATATATATATAGCCATGGATCGATTATATAGGGATTAACCGTTATATATATATAGCCATGGATCGATTATATAGGGATTAACCGTTATATATATATAGCCATGGATCGATTATATAGGGATTAACCGTTATATATATATAGCCATGGATCGATTATATAGGGATTAACCGTTATATATATATAGCCATGGATCGATTATATAGGGATTAACCGTTATATATATATAGCCATGGATCGATTATATAGGGATTAACCGTTATATATATATAGCCATGGATCGATTATATAGGGATTAACCGTTATATATATATAGCCATGGATCGATTATATAGGGATTAACCGTTATATATATATAGCCATGGATCGATTATATAGGGATTAACCGTTATATATATATAGCCATGGATCGATTATATAGGGATTAACCGTTATATATATATAGCCATGGATCGATTATATAGGGATTAACCGTTATATATATATAGCCATGGATCGATTATATAGGGATTAACCGTTATATATATATAGCCATGGATCGATTATATAGGGATTAACCGTTATATATATATAGCCATGGATCGATTATATAGGGATTAACCGTTATATATATATAGCCATGGATCGATTATATAGGGATTAACCGTTATATATATATAGCCATGGATCGATTATATAGGGATTAACCGTTATATATATATAGCCATGGATCGATTATATAGGGATTAACCGTTATATATATATAGCCATGGATCGATTATATAGGGATTAACCGTTATATATATATAGCCATGGATCGATTATATAGGGATTAACCGTTATATATATATAGCCATGGATCGATTATATAGGGATTAACCGTTATATATATATAGCCATGGATCGATTATATAGGGATTAACCGTTATATATATATAGCCATGGATCGATTATATAGGGATTAACCGTTATATATATATAGCCATGGATCGATTATATAGGGATTAACCGTTATATATATATAGCCATGGATCGATTATATAGGGATTAACCGTTATATATATATAGCCATGGATCGATTATATAGGGATTAACCGTTATATATATATAGCCATGGATCGATTATATAGGGATTAACCGTTATATATATATAGCCATGGATCGATTATATAGGGATTAACCGTTATATATATATAGCCATGGATCGATTATATAGGGATTAACCGTTATATATATATAGCCATGGATCGATTATATAGGGATTAACCGTTATATATATATAGCCATGGATCGATTATATAGGGATTAACCGTTATATATATATAGCCATGGATCGATTATATAGGGATTAACCGTTATATATATATAGCCATGGATCGATTATATAGGGATTAACCGTTATATATATATAGCCATGGATCGATTATATAGGGATTAACCGTTATATATATATAGCCATGGATCGATTATATAGGGATTAACCGTTATATATATATAGCCATGGATCGATTATATAGGGATTAACCGTTATATATATATAGCCATGGATCGATTATATAGGGATTAACCGTTATATATATATAGCCATGGATCGATTATATAGGGATTAACCGTTATATATATATAGCCATGGATCGATTATA\n",
      "original and decompressed are the same: True\n"
     ]
    }
   ],
   "source": [
    "if __name__ == \"__main__\":\n",
    "    from sys import getsizeof\n",
    "    original: str = \"TAGGGATTAACCGTTATATATATATAGCCATGGATCGATTATATAGGGATTAACCGTTATATATATATAGCCATGGATCGATTATA\" * 100\n",
    "    print(\"original is {} bytes\".format(getsizeof(original)))\n",
    "    compressed: CompressedGene = CompressedGene(original)  # compress\n",
    "    print(\"compressed is {} bytes\".format(getsizeof(compressed.bit_string)))\n",
    "    print(compressed)  # decompress\n",
    "    print(\"original and decompressed are the same: {}\".format(original == compressed.decompress()))"
   ]
  },
  {
   "cell_type": "markdown",
   "metadata": {
    "heading_collapsed": true,
    "hidden": true
   },
   "source": [
    "##### buffer"
   ]
  },
  {
   "cell_type": "code",
   "execution_count": 95,
   "metadata": {
    "ExecuteTime": {
     "end_time": "2019-08-28T01:36:31.054372Z",
     "start_time": "2019-08-28T01:36:31.017271Z"
    },
    "hidden": true
   },
   "outputs": [
    {
     "name": "stdout",
     "output_type": "stream",
     "text": [
      "original is 8649 bytes\n",
      "type(compressed):\t <class '__main__.CompressedGene'>\n",
      "compressed is 2320 bytes\n",
      "original and decompressed are the same: True\n"
     ]
    }
   ],
   "source": [
    "from sys import getsizeof\n",
    "original: str = \"TAGGGATTAACCGTTATATATATATAGCCATGGATCGATTATATAGGGATTAACCGTTATATATATATAGCCATGGATCGATTATA\" * 100\n",
    "\n",
    "print(\"original is {} bytes\".format(getsizeof(original)))\n",
    "compressed: CompressedGene = CompressedGene(original)  # compress\n",
    "print('type(compressed):\\t', type(compressed))\n",
    "\n",
    "print(\"compressed is {} bytes\".format(getsizeof(compressed.bit_string)))\n",
    "\n",
    "print(\"original and decompressed are the same: {}\".format(original == compressed.decompress()))"
   ]
  },
  {
   "cell_type": "code",
   "execution_count": 96,
   "metadata": {
    "ExecuteTime": {
     "end_time": "2019-08-28T01:36:33.062637Z",
     "start_time": "2019-08-28T01:36:33.021635Z"
    },
    "hidden": true
   },
   "outputs": [
    {
     "name": "stdout",
     "output_type": "stream",
     "text": [
      "original is 8649 bytes\n",
      "type(compressed):\t <class '__main__.CompressedGene'>\n",
      "compressed is 2320 bytes\n",
      "original and decompressed are the same: True\n"
     ]
    }
   ],
   "source": [
    "from sys import getsizeof\n",
    "original: str = \"TAGGGATTAACCGTTATATATATATAGCCATGGATCGATTATATAGGGATTAACCGTTATATATATATAGCCATGGATCGATTATA\" * 100\n",
    "\n",
    "print(\"original is {} bytes\".format(getsizeof(original)))\n",
    "compressed: CompressedGene = CompressedGene(original)  # compress\n",
    "print('type(compressed):\\t', type(compressed))\n",
    "\n",
    "print(\"compressed is {} bytes\".format(getsizeof(compressed.bit_string)))\n",
    "\n",
    "print(\"original and decompressed are the same: {}\".format(original == compressed.decompress()))"
   ]
  },
  {
   "cell_type": "code",
   "execution_count": 97,
   "metadata": {
    "ExecuteTime": {
     "end_time": "2019-08-28T01:36:34.859299Z",
     "start_time": "2019-08-28T01:36:34.853442Z"
    },
    "hidden": true
   },
   "outputs": [
    {
     "name": "stdout",
     "output_type": "stream",
     "text": [
      "type(original):\t <class 'str'>\n",
      "original[:10]:\t TAGGGATTAA\n"
     ]
    }
   ],
   "source": [
    "print('type(original):\\t', type(original))\n",
    "print('original[:10]:\\t', original[:10])"
   ]
  },
  {
   "cell_type": "code",
   "execution_count": 67,
   "metadata": {
    "ExecuteTime": {
     "end_time": "2019-08-28T00:35:05.654429Z",
     "start_time": "2019-08-28T00:35:05.635881Z"
    },
    "collapsed": true,
    "hidden": true
   },
   "outputs": [
    {
     "name": "stdout",
     "output_type": "stream",
     "text": [
      "type(compressed):\t <class '__main__.CompressedGene'>\n",
      "TAGGGATTAACCGTTATATATATATAGCCATGGATCGATTATATAGGGATTAACCGTTATATATATATAGCCATGGATCGATTATATAGGGATTAACCGTTATATATATATAGCCATGGATCGATTATATAGGGATTAACCGTTATATATATATAGCCATGGATCGATTATATAGGGATTAACCGTTATATATATATAGCCATGGATCGATTATATAGGGATTAACCGTTATATATATATAGCCATGGATCGATTATATAGGGATTAACCGTTATATATATATAGCCATGGATCGATTATATAGGGATTAACCGTTATATATATATAGCCATGGATCGATTATATAGGGATTAACCGTTATATATATATAGCCATGGATCGATTATATAGGGATTAACCGTTATATATATATAGCCATGGATCGATTATATAGGGATTAACCGTTATATATATATAGCCATGGATCGATTATATAGGGATTAACCGTTATATATATATAGCCATGGATCGATTATATAGGGATTAACCGTTATATATATATAGCCATGGATCGATTATATAGGGATTAACCGTTATATATATATAGCCATGGATCGATTATATAGGGATTAACCGTTATATATATATAGCCATGGATCGATTATATAGGGATTAACCGTTATATATATATAGCCATGGATCGATTATATAGGGATTAACCGTTATATATATATAGCCATGGATCGATTATATAGGGATTAACCGTTATATATATATAGCCATGGATCGATTATATAGGGATTAACCGTTATATATATATAGCCATGGATCGATTATATAGGGATTAACCGTTATATATATATAGCCATGGATCGATTATATAGGGATTAACCGTTATATATATATAGCCATGGATCGATTATATAGGGATTAACCGTTATATATATATAGCCATGGATCGATTATATAGGGATTAACCGTTATATATATATAGCCATGGATCGATTATATAGGGATTAACCGTTATATATATATAGCCATGGATCGATTATATAGGGATTAACCGTTATATATATATAGCCATGGATCGATTATATAGGGATTAACCGTTATATATATATAGCCATGGATCGATTATATAGGGATTAACCGTTATATATATATAGCCATGGATCGATTATATAGGGATTAACCGTTATATATATATAGCCATGGATCGATTATATAGGGATTAACCGTTATATATATATAGCCATGGATCGATTATATAGGGATTAACCGTTATATATATATAGCCATGGATCGATTATATAGGGATTAACCGTTATATATATATAGCCATGGATCGATTATATAGGGATTAACCGTTATATATATATAGCCATGGATCGATTATATAGGGATTAACCGTTATATATATATAGCCATGGATCGATTATATAGGGATTAACCGTTATATATATATAGCCATGGATCGATTATATAGGGATTAACCGTTATATATATATAGCCATGGATCGATTATATAGGGATTAACCGTTATATATATATAGCCATGGATCGATTATATAGGGATTAACCGTTATATATATATAGCCATGGATCGATTATATAGGGATTAACCGTTATATATATATAGCCATGGATCGATTATATAGGGATTAACCGTTATATATATATAGCCATGGATCGATTATATAGGGATTAACCGTTATATATATATAGCCATGGATCGATTATATAGGGATTAACCGTTATATATATATAGCCATGGATCGATTATATAGGGATTAACCGTTATATATATATAGCCATGGATCGATTATATAGGGATTAACCGTTATATATATATAGCCATGGATCGATTATATAGGGATTAACCGTTATATATATATAGCCATGGATCGATTATATAGGGATTAACCGTTATATATATATAGCCATGGATCGATTATATAGGGATTAACCGTTATATATATATAGCCATGGATCGATTATATAGGGATTAACCGTTATATATATATAGCCATGGATCGATTATATAGGGATTAACCGTTATATATATATAGCCATGGATCGATTATATAGGGATTAACCGTTATATATATATAGCCATGGATCGATTATATAGGGATTAACCGTTATATATATATAGCCATGGATCGATTATATAGGGATTAACCGTTATATATATATAGCCATGGATCGATTATATAGGGATTAACCGTTATATATATATAGCCATGGATCGATTATATAGGGATTAACCGTTATATATATATAGCCATGGATCGATTATATAGGGATTAACCGTTATATATATATAGCCATGGATCGATTATATAGGGATTAACCGTTATATATATATAGCCATGGATCGATTATATAGGGATTAACCGTTATATATATATAGCCATGGATCGATTATATAGGGATTAACCGTTATATATATATAGCCATGGATCGATTATATAGGGATTAACCGTTATATATATATAGCCATGGATCGATTATATAGGGATTAACCGTTATATATATATAGCCATGGATCGATTATATAGGGATTAACCGTTATATATATATAGCCATGGATCGATTATATAGGGATTAACCGTTATATATATATAGCCATGGATCGATTATATAGGGATTAACCGTTATATATATATAGCCATGGATCGATTATATAGGGATTAACCGTTATATATATATAGCCATGGATCGATTATATAGGGATTAACCGTTATATATATATAGCCATGGATCGATTATATAGGGATTAACCGTTATATATATATAGCCATGGATCGATTATATAGGGATTAACCGTTATATATATATAGCCATGGATCGATTATATAGGGATTAACCGTTATATATATATAGCCATGGATCGATTATATAGGGATTAACCGTTATATATATATAGCCATGGATCGATTATATAGGGATTAACCGTTATATATATATAGCCATGGATCGATTATATAGGGATTAACCGTTATATATATATAGCCATGGATCGATTATATAGGGATTAACCGTTATATATATATAGCCATGGATCGATTATATAGGGATTAACCGTTATATATATATAGCCATGGATCGATTATATAGGGATTAACCGTTATATATATATAGCCATGGATCGATTATATAGGGATTAACCGTTATATATATATAGCCATGGATCGATTATATAGGGATTAACCGTTATATATATATAGCCATGGATCGATTATATAGGGATTAACCGTTATATATATATAGCCATGGATCGATTATATAGGGATTAACCGTTATATATATATAGCCATGGATCGATTATATAGGGATTAACCGTTATATATATATAGCCATGGATCGATTATATAGGGATTAACCGTTATATATATATAGCCATGGATCGATTATATAGGGATTAACCGTTATATATATATAGCCATGGATCGATTATATAGGGATTAACCGTTATATATATATAGCCATGGATCGATTATATAGGGATTAACCGTTATATATATATAGCCATGGATCGATTATATAGGGATTAACCGTTATATATATATAGCCATGGATCGATTATATAGGGATTAACCGTTATATATATATAGCCATGGATCGATTATATAGGGATTAACCGTTATATATATATAGCCATGGATCGATTATATAGGGATTAACCGTTATATATATATAGCCATGGATCGATTATATAGGGATTAACCGTTATATATATATAGCCATGGATCGATTATATAGGGATTAACCGTTATATATATATAGCCATGGATCGATTATATAGGGATTAACCGTTATATATATATAGCCATGGATCGATTATATAGGGATTAACCGTTATATATATATAGCCATGGATCGATTATATAGGGATTAACCGTTATATATATATAGCCATGGATCGATTATATAGGGATTAACCGTTATATATATATAGCCATGGATCGATTATATAGGGATTAACCGTTATATATATATAGCCATGGATCGATTATATAGGGATTAACCGTTATATATATATAGCCATGGATCGATTATATAGGGATTAACCGTTATATATATATAGCCATGGATCGATTATATAGGGATTAACCGTTATATATATATAGCCATGGATCGATTATATAGGGATTAACCGTTATATATATATAGCCATGGATCGATTATATAGGGATTAACCGTTATATATATATAGCCATGGATCGATTATATAGGGATTAACCGTTATATATATATAGCCATGGATCGATTATATAGGGATTAACCGTTATATATATATAGCCATGGATCGATTATATAGGGATTAACCGTTATATATATATAGCCATGGATCGATTATATAGGGATTAACCGTTATATATATATAGCCATGGATCGATTATATAGGGATTAACCGTTATATATATATAGCCATGGATCGATTATATAGGGATTAACCGTTATATATATATAGCCATGGATCGATTATATAGGGATTAACCGTTATATATATATAGCCATGGATCGATTATATAGGGATTAACCGTTATATATATATAGCCATGGATCGATTATATAGGGATTAACCGTTATATATATATAGCCATGGATCGATTATATAGGGATTAACCGTTATATATATATAGCCATGGATCGATTATATAGGGATTAACCGTTATATATATATAGCCATGGATCGATTATATAGGGATTAACCGTTATATATATATAGCCATGGATCGATTATATAGGGATTAACCGTTATATATATATAGCCATGGATCGATTATATAGGGATTAACCGTTATATATATATAGCCATGGATCGATTATATAGGGATTAACCGTTATATATATATAGCCATGGATCGATTATATAGGGATTAACCGTTATATATATATAGCCATGGATCGATTATATAGGGATTAACCGTTATATATATATAGCCATGGATCGATTATATAGGGATTAACCGTTATATATATATAGCCATGGATCGATTATATAGGGATTAACCGTTATATATATATAGCCATGGATCGATTATATAGGGATTAACCGTTATATATATATAGCCATGGATCGATTATATAGGGATTAACCGTTATATATATATAGCCATGGATCGATTATATAGGGATTAACCGTTATATATATATAGCCATGGATCGATTATATAGGGATTAACCGTTATATATATATAGCCATGGATCGATTATATAGGGATTAACCGTTATATATATATAGCCATGGATCGATTATATAGGGATTAACCGTTATATATATATAGCCATGGATCGATTATATAGGGATTAACCGTTATATATATATAGCCATGGATCGATTATATAGGGATTAACCGTTATATATATATAGCCATGGATCGATTATATAGGGATTAACCGTTATATATATATAGCCATGGATCGATTATATAGGGATTAACCGTTATATATATATAGCCATGGATCGATTATATAGGGATTAACCGTTATATATATATAGCCATGGATCGATTATATAGGGATTAACCGTTATATATATATAGCCATGGATCGATTATATAGGGATTAACCGTTATATATATATAGCCATGGATCGATTATATAGGGATTAACCGTTATATATATATAGCCATGGATCGATTATATAGGGATTAACCGTTATATATATATAGCCATGGATCGATTATATAGGGATTAACCGTTATATATATATAGCCATGGATCGATTATATAGGGATTAACCGTTATATATATATAGCCATGGATCGATTATATAGGGATTAACCGTTATATATATATAGCCATGGATCGATTATATAGGGATTAACCGTTATATATATATAGCCATGGATCGATTATATAGGGATTAACCGTTATATATATATAGCCATGGATCGATTATATAGGGATTAACCGTTATATATATATAGCCATGGATCGATTATATAGGGATTAACCGTTATATATATATAGCCATGGATCGATTATATAGGGATTAACCGTTATATATATATAGCCATGGATCGATTATATAGGGATTAACCGTTATATATATATAGCCATGGATCGATTATATAGGGATTAACCGTTATATATATATAGCCATGGATCGATTATATAGGGATTAACCGTTATATATATATAGCCATGGATCGATTATATAGGGATTAACCGTTATATATATATAGCCATGGATCGATTATATAGGGATTAACCGTTATATATATATAGCCATGGATCGATTATATAGGGATTAACCGTTATATATATATAGCCATGGATCGATTATATAGGGATTAACCGTTATATATATATAGCCATGGATCGATTATATAGGGATTAACCGTTATATATATATAGCCATGGATCGATTATATAGGGATTAACCGTTATATATATATAGCCATGGATCGATTATATAGGGATTAACCGTTATATATATATAGCCATGGATCGATTATATAGGGATTAACCGTTATATATATATAGCCATGGATCGATTATATAGGGATTAACCGTTATATATATATAGCCATGGATCGATTATATAGGGATTAACCGTTATATATATATAGCCATGGATCGATTATATAGGGATTAACCGTTATATATATATAGCCATGGATCGATTATATAGGGATTAACCGTTATATATATATAGCCATGGATCGATTATATAGGGATTAACCGTTATATATATATAGCCATGGATCGATTATATAGGGATTAACCGTTATATATATATAGCCATGGATCGATTATATAGGGATTAACCGTTATATATATATAGCCATGGATCGATTATATAGGGATTAACCGTTATATATATATAGCCATGGATCGATTATATAGGGATTAACCGTTATATATATATAGCCATGGATCGATTATATAGGGATTAACCGTTATATATATATAGCCATGGATCGATTATATAGGGATTAACCGTTATATATATATAGCCATGGATCGATTATATAGGGATTAACCGTTATATATATATAGCCATGGATCGATTATATAGGGATTAACCGTTATATATATATAGCCATGGATCGATTATATAGGGATTAACCGTTATATATATATAGCCATGGATCGATTATATAGGGATTAACCGTTATATATATATAGCCATGGATCGATTATATAGGGATTAACCGTTATATATATATAGCCATGGATCGATTATATAGGGATTAACCGTTATATATATATAGCCATGGATCGATTATATAGGGATTAACCGTTATATATATATAGCCATGGATCGATTATATAGGGATTAACCGTTATATATATATAGCCATGGATCGATTATATAGGGATTAACCGTTATATATATATAGCCATGGATCGATTATATAGGGATTAACCGTTATATATATATAGCCATGGATCGATTATATAGGGATTAACCGTTATATATATATAGCCATGGATCGATTATATAGGGATTAACCGTTATATATATATAGCCATGGATCGATTATATAGGGATTAACCGTTATATATATATAGCCATGGATCGATTATATAGGGATTAACCGTTATATATATATAGCCATGGATCGATTATATAGGGATTAACCGTTATATATATATAGCCATGGATCGATTATATAGGGATTAACCGTTATATATATATAGCCATGGATCGATTATATAGGGATTAACCGTTATATATATATAGCCATGGATCGATTATATAGGGATTAACCGTTATATATATATAGCCATGGATCGATTATATAGGGATTAACCGTTATATATATATAGCCATGGATCGATTATATAGGGATTAACCGTTATATATATATAGCCATGGATCGATTATATAGGGATTAACCGTTATATATATATAGCCATGGATCGATTATATAGGGATTAACCGTTATATATATATAGCCATGGATCGATTATATAGGGATTAACCGTTATATATATATAGCCATGGATCGATTATATAGGGATTAACCGTTATATATATATAGCCATGGATCGATTATATAGGGATTAACCGTTATATATATATAGCCATGGATCGATTATATAGGGATTAACCGTTATATATATATAGCCATGGATCGATTATATAGGGATTAACCGTTATATATATATAGCCATGGATCGATTATATAGGGATTAACCGTTATATATATATAGCCATGGATCGATTATATAGGGATTAACCGTTATATATATATAGCCATGGATCGATTATATAGGGATTAACCGTTATATATATATAGCCATGGATCGATTATATAGGGATTAACCGTTATATATATATAGCCATGGATCGATTATATAGGGATTAACCGTTATATATATATAGCCATGGATCGATTATATAGGGATTAACCGTTATATATATATAGCCATGGATCGATTATATAGGGATTAACCGTTATATATATATAGCCATGGATCGATTATATAGGGATTAACCGTTATATATATATAGCCATGGATCGATTATATAGGGATTAACCGTTATATATATATAGCCATGGATCGATTATATAGGGATTAACCGTTATATATATATAGCCATGGATCGATTATATAGGGATTAACCGTTATATATATATAGCCATGGATCGATTATA\n"
     ]
    }
   ],
   "source": [
    "print('type(compressed):\\t', type(compressed))\n",
    "print(compressed)"
   ]
  },
  {
   "cell_type": "markdown",
   "metadata": {
    "hidden": true
   },
   "source": [
    "<hr>"
   ]
  },
  {
   "cell_type": "markdown",
   "metadata": {
    "heading_collapsed": true,
    "hidden": true
   },
   "source": [
    "##### Explanations"
   ]
  },
  {
   "cell_type": "markdown",
   "metadata": {
    "hidden": true
   },
   "source": [
    "In Python, and many other programming languages, | is the bitwise-OR operation.  |= is to | as += is to +, i.e. a combination of operation and asignment.\n",
    "\n",
    "```|=```\n",
    "\n",
    "```var |= value``` is short for ```var = var | value```\n",
    "\n",
    "When used with sets it performs union operation"
   ]
  },
  {
   "cell_type": "raw",
   "metadata": {
    "hidden": true
   },
   "source": [
    "r    s    r|=s\n",
    "--------------\n",
    "T    T    T\n",
    "T    F    T\n",
    "F    T    T\n",
    "F    F    F\n",
    "\n",
    ">>> r=True\n",
    ">>> r|=False\n",
    ">>> r\n",
    "True\n",
    ">>> r=False\n",
    ">>> r|=False\n",
    ">>> r\n",
    "False\n",
    ">>> r|=True\n",
    ">>> r\n",
    "True"
   ]
  },
  {
   "cell_type": "markdown",
   "metadata": {
    "heading_collapsed": true
   },
   "source": [
    "## <font color = 'lightgrey'>Unbreakable Encryption</font>"
   ]
  },
  {
   "cell_type": "markdown",
   "metadata": {
    "hidden": true
   },
   "source": [
    "A one-time pad is a way of encrypting a piece of data by combining it with meaningless\n",
    "random dummy data in such a way that the original cannot be reconstituted without\n",
    "access to both the product and the dummy data. In essence, this leaves the encrypter\n",
    "with a key pair. One key is the product, and the other is the random dummy data. One\n",
    "key on its own is useless; only the combination of both keys can unlock the original\n",
    "data. When performed correctly, a one-time pad is a form of unbreakable encryption."
   ]
  },
  {
   "cell_type": "markdown",
   "metadata": {
    "heading_collapsed": true,
    "hidden": true
   },
   "source": [
    "### Getting the data in order"
   ]
  },
  {
   "cell_type": "code",
   "execution_count": null,
   "metadata": {
    "ExecuteTime": {
     "end_time": "2019-08-28T01:05:56.612433Z",
     "start_time": "2019-08-28T01:05:56.605599Z"
    },
    "hidden": true
   },
   "outputs": [],
   "source": [
    "from secrets import token_bytes\n",
    "from typing import Tuple\n",
    "\n",
    "def random_key(length: int) -> int:\n",
    "    '''This function creates an int filled with length random bytes.'''\n",
    "    # generate length random bytes\n",
    "    tb: bytes = token_bytes(length)\n",
    "    # convert those bytes into a bit string and return it\n",
    "    return int.from_bytes(bytes = tb, byteorder = \"big\")"
   ]
  },
  {
   "cell_type": "raw",
   "metadata": {
    "ExecuteTime": {
     "end_time": "2019-08-28T01:05:56.612433Z",
     "start_time": "2019-08-28T01:05:56.605599Z"
    },
    "hidden": true
   },
   "source": [
    "int.from_bytes() is used to convert from bytes to int.\n",
    "\n",
    "bytes\n",
    "  Holds the array of bytes to convert.  The argument must either\n",
    "  support the buffer protocol or be an iterable object producing bytes.\n",
    "  Bytes and bytearray are examples of built-in objects that support the\n",
    "  buffer protocol.\n",
    "\n",
    "The byte order used to represent the integer.  If byteorder is 'big',\n",
    "  the most significant byte is at the beginning of the byte array.  If\n",
    "  byteorder is 'little', the most significant byte is at the end of the\n",
    "  byte array."
   ]
  },
  {
   "cell_type": "code",
   "execution_count": 86,
   "metadata": {
    "ExecuteTime": {
     "end_time": "2019-08-28T01:05:59.897238Z",
     "start_time": "2019-08-28T01:05:59.891380Z"
    },
    "hidden": true
   },
   "outputs": [
    {
     "data": {
      "text/plain": [
       "168729986385266500618968"
      ]
     },
     "execution_count": 86,
     "metadata": {},
     "output_type": "execute_result"
    }
   ],
   "source": [
    " random_key(length=10)"
   ]
  },
  {
   "cell_type": "raw",
   "metadata": {
    "ExecuteTime": {
     "end_time": "2019-08-28T01:02:02.289224Z",
     "start_time": "2019-08-28T01:02:02.283363Z"
    },
    "hidden": true
   },
   "source": [
    "help(int.from_bytes)"
   ]
  },
  {
   "cell_type": "markdown",
   "metadata": {
    "hidden": true
   },
   "source": [
    "**<font color = 'purple'>How can multiple bytes be converted to a single integer? </font>** \n",
    "\n",
    "The answer lies in section 1.2. In that section, you learned that the int type can be of arbitrary size, and you saw how it can be used as a generic bit ```string.int``` is being used in the same way here. For example, the ```from_bytes()``` method will take 7 bytes (7 bytes * 8 bits = 56 bits) and convert them into a 56-bit integer."
   ]
  },
  {
   "cell_type": "markdown",
   "metadata": {
    "heading_collapsed": true,
    "hidden": true
   },
   "source": [
    "### Encrypting and decrypting"
   ]
  },
  {
   "cell_type": "markdown",
   "metadata": {
    "hidden": true
   },
   "source": [
    "**<font color = 'purple'>How will the dummy data be combined with the original data that we want to encrypt? </font>** \n",
    "\n",
    "**<font color = 'green'>The XOR operation will serve this purpose</font>.**\n",
    "\n",
    "> XOR is a logical bitwise (operates at the bit level) operation that returns true when one of its operands is true but returns false when both are true or neither is true. \n",
    "\n",
    "As you may have guessed, XOR stands for exclusive or."
   ]
  },
  {
   "cell_type": "markdown",
   "metadata": {
    "hidden": true
   },
   "source": [
    "In Python, the XOR operator is ```^```. In the context of the bits of binary numbers,\n",
    "XOR returns ```1``` for ```0 ^ 1``` and ```1 ^ 0```, but ```0``` for ```0 ^ 0``` and ```1 ^ 1```. If the bits of two numbers are combined using XOR, a helpful property is that the product can be recombined with either of the operands to produce the other operand:\n",
    "```\n",
    "A ^ B = C\n",
    "C ^ B = A\n",
    "C ^ A = B\n",
    "```"
   ]
  },
  {
   "cell_type": "markdown",
   "metadata": {
    "hidden": true
   },
   "source": [
    "This key insight forms the basis of one-time pad encryption. \n",
    "\n",
    "> To form our product, we\n",
    "will simply XOR an int representing the bytes in our original str with a randomly\n",
    "generated int of the same bit length (as produced by ```random_key()```). Our returned\n",
    "key pair will be the dummy data and the product."
   ]
  },
  {
   "cell_type": "code",
   "execution_count": 100,
   "metadata": {
    "ExecuteTime": {
     "end_time": "2019-08-28T04:41:43.303785Z",
     "start_time": "2019-08-28T04:41:43.289140Z"
    },
    "hidden": true
   },
   "outputs": [],
   "source": [
    "def encrypt(original: str) -> Tuple[int, int]:\n",
    "    original_bytes: bytes = original.encode()\n",
    "    dummy: int = random_key(len(original_bytes))\n",
    "    original_key: int = int.from_bytes(original_bytes, \"big\")\n",
    "    encrypted: int = original_key ^ dummy  # XOR\n",
    "    return dummy, encrypted"
   ]
  },
  {
   "cell_type": "markdown",
   "metadata": {
    "hidden": true
   },
   "source": [
    "NOTE ```int.from_bytes()``` is being passed two arguments. \n",
    "\n",
    "1. The first is the bytes that we want to convert into an int. \n",
    "\n",
    "\n",
    "2. The second is the endianness of those bytes (\"big\"). \n",
    "    \n",
    "    Endianness refers to the byte-ordering used to store data. Does the most significant byte come first, or does the least significant byte come first? \n",
    "\n",
    "    In our case, it does not matter as long as we use the same ordering both when we encrypt and decrypt, because we are actually only manipulating the data at the individual bit level. In other situations, when you are not controlling both ends of the encoding process, the ordering can absolutely matter, so be careful!"
   ]
  },
  {
   "cell_type": "markdown",
   "metadata": {
    "hidden": true
   },
   "source": [
    "Decryption is simply a matter of recombining the key pair we generated with encrypt(). This is achieved once again by doing an XOR operation between each and every bit in the two keys. The ultimate output must be converted back to a str. \n",
    "\n",
    "First, the int is converted to bytes using int.to_bytes(). This method requires the number of bytes to be converted from the int. To get this number, we divide the bit length by eight (the number of bits in a byte). Finally, the bytes method decode() gives us back a str."
   ]
  },
  {
   "cell_type": "code",
   "execution_count": 101,
   "metadata": {
    "ExecuteTime": {
     "end_time": "2019-08-28T05:02:39.306544Z",
     "start_time": "2019-08-28T05:02:39.298731Z"
    },
    "hidden": true
   },
   "outputs": [],
   "source": [
    "def decrypt(key1: int, key2: int) -> str:\n",
    "    decrypted: int = key1 ^ key2  # XOR\n",
    "    temp: bytes = decrypted.to_bytes((decrypted.bit_length()+ 7) // 8, \"big\")\n",
    "    return temp.decode()"
   ]
  },
  {
   "cell_type": "code",
   "execution_count": 103,
   "metadata": {
    "ExecuteTime": {
     "end_time": "2019-08-28T05:03:47.823308Z",
     "start_time": "2019-08-28T05:03:47.810615Z"
    },
    "hidden": true
   },
   "outputs": [
    {
     "name": "stdout",
     "output_type": "stream",
     "text": [
      "One Time Pad!\n"
     ]
    }
   ],
   "source": [
    "if __name__ == \"__main__\":\n",
    "    key1, key2 = encrypt(\"One Time Pad!\")\n",
    "    result: str = decrypt(key1, key2)\n",
    "    print(result)"
   ]
  },
  {
   "cell_type": "markdown",
   "metadata": {
    "heading_collapsed": true
   },
   "source": [
    "## Calculating pi"
   ]
  },
  {
   "cell_type": "code",
   "execution_count": 105,
   "metadata": {
    "ExecuteTime": {
     "end_time": "2019-08-28T05:19:35.634458Z",
     "start_time": "2019-08-28T05:19:35.181464Z"
    },
    "hidden": true
   },
   "outputs": [
    {
     "name": "stdout",
     "output_type": "stream",
     "text": [
      "3.1415916535897743\n"
     ]
    }
   ],
   "source": [
    "def calculate_pi(n_terms: int) -> float:\n",
    "    numerator: float = 4.0\n",
    "    denominator: float = 1.0\n",
    "    operation: float = 1.0\n",
    "    pi: float = 0.0\n",
    "    for _ in range(n_terms):\n",
    "        pi += operation * (numerator / denominator)\n",
    "        denominator += 2.0\n",
    "        operation *= -1.0\n",
    "    return pi\n",
    "\n",
    "\n",
    "if __name__ == \"__main__\":\n",
    "    print(calculate_pi(1000000))"
   ]
  },
  {
   "cell_type": "markdown",
   "metadata": {
    "hidden": true
   },
   "source": [
    "This function is an example of how rote conversion between formula and programmatic code can be both simple and effective in modeling or simulating an interesting concept. Rote conversion is a useful tool, but we must keep in mind that it is not necessarily the most efficient solution. Certainly, the Leibniz formula for pi can be implemented with more efficient or compact code."
   ]
  },
  {
   "cell_type": "markdown",
   "metadata": {
    "heading_collapsed": true
   },
   "source": [
    "## The Towers of Hanoi"
   ]
  },
  {
   "cell_type": "markdown",
   "metadata": {
    "heading_collapsed": true,
    "hidden": true
   },
   "source": [
    "### Modeling the towers"
   ]
  },
  {
   "cell_type": "code",
   "execution_count": 127,
   "metadata": {
    "ExecuteTime": {
     "end_time": "2019-08-28T18:34:13.008963Z",
     "start_time": "2019-08-28T18:34:12.986509Z"
    },
    "hidden": true
   },
   "outputs": [],
   "source": [
    "from typing import TypeVar, Generic, List\n",
    "T = TypeVar('T') # TypeVar('T') -> # Can be anything\n",
    "\n",
    "class Stack(Generic[T]):\n",
    "\n",
    "    def __init__(self) -> None:\n",
    "        self._container: List[T] = []\n",
    "\n",
    "    def push(self, item: T) -> None:\n",
    "        self._container.append(item)\n",
    "\n",
    "    def pop(self) -> T:\n",
    "        return self._container.pop()\n",
    "\n",
    "    def __repr__(self) -> str:\n",
    "        return repr(self._container)\n",
    "\n",
    "num_discs: int = 3\n",
    "tower_a: Stack[int] = Stack()\n",
    "tower_b: Stack[int] = Stack()\n",
    "tower_c: Stack[int] = Stack()\n",
    "for i in range(1, num_discs + 1):\n",
    "    tower_a.push(i)"
   ]
  },
  {
   "cell_type": "markdown",
   "metadata": {
    "hidden": true
   },
   "source": [
    "NOTE This Stack class implements ```__repr__()``` so that we can easily explore the contents of a tower. ```__repr__()``` is what will be output when ```print()``` is applied to a Stack."
   ]
  },
  {
   "cell_type": "markdown",
   "metadata": {
    "hidden": true
   },
   "source": [
    "The import of Generic from the typing module enables Stack to be generic over a particular type in type hints. The arbitrary type T is defined in T = ```TypeVar('T')```. ```T``` can be any type. When a type hint is later used for a Stack to solve the Hanoi problem, it is type-hinted as type ```Stack[int]```, which means T is filled in with type int. \n",
    "\n",
    "In other words, the stack is a stack of integers. If you are struggling with type hints, take a look at appendix C."
   ]
  },
  {
   "cell_type": "markdown",
   "metadata": {
    "hidden": true
   },
   "source": [
    "**<font color = 'purple'>Stacks are perfect stand-ins for the towers in The Towers of Hanoi.  </font>**\n",
    "* When we want to put a disc onto a tower, we can just push it. \n",
    "* When we want to move a disc from one tower to another, we can pop it from the first and push it onto the second. \n",
    "\n",
    "Let’s define our towers as Stacks and fill the first tower with discs."
   ]
  },
  {
   "cell_type": "code",
   "execution_count": 156,
   "metadata": {
    "ExecuteTime": {
     "end_time": "2019-08-28T21:16:45.155652Z",
     "start_time": "2019-08-28T21:16:45.146867Z"
    },
    "hidden": true
   },
   "outputs": [
    {
     "name": "stdout",
     "output_type": "stream",
     "text": [
      "tower_a:\t [1]\n",
      "tower_b:\t []\n",
      "tower_c:\t []\n",
      "\n",
      "tower_a:\t [1, 2]\n",
      "tower_b:\t []\n",
      "tower_c:\t []\n",
      "\n",
      "tower_a:\t [1, 2, 3]\n",
      "tower_b:\t []\n",
      "tower_c:\t []\n",
      "\n"
     ]
    }
   ],
   "source": [
    "# Let’s define our towers as Stacks \n",
    "# and fill the first tower with discs.\n",
    "\n",
    "num_discs: int = 3\n",
    "tower_a: Stack[int] = Stack()\n",
    "tower_b: Stack[int] = Stack()\n",
    "tower_c: Stack[int] = Stack()\n",
    "for i in range(1, num_discs + 1):\n",
    "    tower_a.push(i)\n",
    "    print('tower_a:\\t', tower_a)\n",
    "    print('tower_b:\\t', tower_b)\n",
    "    print('tower_c:\\t', tower_c)\n",
    "    print()"
   ]
  },
  {
   "cell_type": "markdown",
   "metadata": {
    "heading_collapsed": true,
    "hidden": true
   },
   "source": [
    "### Solving The Towers of Hanoi"
   ]
  },
  {
   "cell_type": "markdown",
   "metadata": {
    "hidden": true
   },
   "source": [
    "Imagine we were only trying to move 1 disc. We would know how to do that, right? \n",
    "\n",
    "* In fact, moving one disc is our base case for a recursive solution to The Towers of Hanoi. \n",
    "\n",
    "* The recursive case is moving more than one disc. \n",
    "\n",
    "Therefore, the key insight is that we essentially have two scenarios we need to codify: moving one disc (the base case) and moving more than one disc (the recursive case)."
   ]
  },
  {
   "cell_type": "markdown",
   "metadata": {
    "hidden": true
   },
   "source": [
    "In our three-disc example, we had a simple base case of moving a single disc and a recursive case of moving all of the other discs (two in this case), using the third tower temporarily. We could break the recursive case into three steps:\n",
    "1. Move the upper n-1 discs from tower A to B (the temporary tower), using C as\n",
    "the in-between.\n",
    "2. Move the single lowest disc from A to C.\n",
    "3. Move the n-1 discs from tower B to C, using A as the in-between."
   ]
  },
  {
   "cell_type": "code",
   "execution_count": 142,
   "metadata": {
    "ExecuteTime": {
     "end_time": "2019-08-28T20:56:01.742449Z",
     "start_time": "2019-08-28T20:56:01.734641Z"
    },
    "hidden": true
   },
   "outputs": [],
   "source": [
    "def hanoi(begin: Stack[int], end: Stack[int], temp: Stack[int], n: int) -> None:\n",
    "    if n == 1: # base case\n",
    "        end.push(begin.pop()) # moves ring from tower A to tower C\n",
    "    else: # recursive case\n",
    "        hanoi(begin, temp, end, n - 1)\n",
    "        hanoi(begin, end, temp, 1)\n",
    "        hanoi(temp, end, begin, n - 1)"
   ]
  },
  {
   "cell_type": "markdown",
   "metadata": {
    "hidden": true
   },
   "source": [
    "After calling hanoi(), you should examine towers A, B, and C to verify that the discs\n",
    "were moved successfully."
   ]
  },
  {
   "cell_type": "code",
   "execution_count": 155,
   "metadata": {
    "ExecuteTime": {
     "end_time": "2019-08-28T21:16:22.406700Z",
     "start_time": "2019-08-28T21:16:22.395962Z"
    },
    "hidden": true
   },
   "outputs": [
    {
     "name": "stdout",
     "output_type": "stream",
     "text": [
      "tower_a:\t [1, 2, 3, 4, 5, 6, 7, 8, 9, 10]\n",
      "tower_b:\t []\n",
      "tower_c:\t []\n",
      "num_discs:\t 10\n",
      "\n",
      "tower_a:\t []\n",
      "tower_b:\t []\n",
      "tower_c:\t [1, 2, 3, 4, 5, 6, 7, 8, 9, 10]\n"
     ]
    }
   ],
   "source": [
    "if __name__ == \"__main__\":\n",
    "    print('tower_a:\\t', tower_a)\n",
    "    print('tower_b:\\t', tower_b)\n",
    "    print('tower_c:\\t', tower_c)  \n",
    "    print('num_discs:\\t', num_discs)\n",
    "    print()\n",
    "    hanoi(begin=tower_a, end=tower_c, temp=tower_b, n=num_discs)\n",
    "    print('tower_a:\\t', tower_a)\n",
    "    print('tower_b:\\t', tower_b)\n",
    "    print('tower_c:\\t', tower_c)  \n"
   ]
  },
  {
   "cell_type": "markdown",
   "metadata": {
    "heading_collapsed": true,
    "hidden": true
   },
   "source": [
    "##### buffer"
   ]
  },
  {
   "cell_type": "code",
   "execution_count": null,
   "metadata": {
    "ExecuteTime": {
     "end_time": "2019-08-28T13:04:13.852045Z",
     "start_time": "2019-08-28T13:04:13.847162Z"
    },
    "hidden": true
   },
   "outputs": [],
   "source": [
    "test = Stack()"
   ]
  },
  {
   "cell_type": "code",
   "execution_count": 107,
   "metadata": {
    "ExecuteTime": {
     "end_time": "2019-08-28T13:04:13.852045Z",
     "start_time": "2019-08-28T13:04:13.847162Z"
    },
    "hidden": true
   },
   "outputs": [],
   "source": [
    "test.__repr__"
   ]
  },
  {
   "cell_type": "code",
   "execution_count": 114,
   "metadata": {
    "ExecuteTime": {
     "end_time": "2019-08-28T14:43:10.135085Z",
     "start_time": "2019-08-28T14:43:10.112631Z"
    },
    "hidden": true
   },
   "outputs": [],
   "source": [
    "TypeVar?"
   ]
  },
  {
   "cell_type": "code",
   "execution_count": 122,
   "metadata": {
    "ExecuteTime": {
     "end_time": "2019-08-28T17:12:28.019723Z",
     "start_time": "2019-08-28T17:12:27.994338Z"
    },
    "collapsed": true,
    "hidden": true
   },
   "outputs": [
    {
     "name": "stdout",
     "output_type": "stream",
     "text": [
      "Help on class TypeVar in module typing:\n",
      "\n",
      "class TypeVar(_Final, _Immutable)\n",
      " |  TypeVar(name, *constraints, bound=None, covariant=False, contravariant=False)\n",
      " |  \n",
      " |  Type variable.\n",
      " |  \n",
      " |  Usage::\n",
      " |  \n",
      " |    T = TypeVar('T')  # Can be anything\n",
      " |    A = TypeVar('A', str, bytes)  # Must be str or bytes\n",
      " |  \n",
      " |  Type variables exist primarily for the benefit of static type\n",
      " |  checkers.  They serve as the parameters for generic types as well\n",
      " |  as for generic function definitions.  See class Generic for more\n",
      " |  information on generic types.  Generic functions work as follows:\n",
      " |  \n",
      " |    def repeat(x: T, n: int) -> List[T]:\n",
      " |        '''Return a list containing n references to x.'''\n",
      " |        return [x]*n\n",
      " |  \n",
      " |    def longest(x: A, y: A) -> A:\n",
      " |        '''Return the longest of two strings.'''\n",
      " |        return x if len(x) >= len(y) else y\n",
      " |  \n",
      " |  The latter example's signature is essentially the overloading\n",
      " |  of (str, str) -> str and (bytes, bytes) -> bytes.  Also note\n",
      " |  that if the arguments are instances of some subclass of str,\n",
      " |  the return type is still plain str.\n",
      " |  \n",
      " |  At runtime, isinstance(x, T) and issubclass(C, T) will raise TypeError.\n",
      " |  \n",
      " |  Type variables defined with covariant=True or contravariant=True\n",
      " |  can be used to declare covariant or contravariant generic types.\n",
      " |  See PEP 484 for more details. By default generic types are invariant\n",
      " |  in all type variables.\n",
      " |  \n",
      " |  Type variables can be introspected. e.g.:\n",
      " |  \n",
      " |    T.__name__ == 'T'\n",
      " |    T.__constraints__ == ()\n",
      " |    T.__covariant__ == False\n",
      " |    T.__contravariant__ = False\n",
      " |    A.__constraints__ == (str, bytes)\n",
      " |  \n",
      " |  Note that only type variables defined in global scope can be pickled.\n",
      " |  \n",
      " |  Method resolution order:\n",
      " |      TypeVar\n",
      " |      _Final\n",
      " |      _Immutable\n",
      " |      builtins.object\n",
      " |  \n",
      " |  Methods defined here:\n",
      " |  \n",
      " |  __init__(self, name, *constraints, bound=None, covariant=False, contravariant=False)\n",
      " |      Initialize self.  See help(type(self)) for accurate signature.\n",
      " |  \n",
      " |  __reduce__(self)\n",
      " |      Helper for pickle.\n",
      " |  \n",
      " |  __repr__(self)\n",
      " |      Return repr(self).\n",
      " |  \n",
      " |  ----------------------------------------------------------------------\n",
      " |  Data descriptors defined here:\n",
      " |  \n",
      " |  __bound__\n",
      " |  \n",
      " |  __constraints__\n",
      " |  \n",
      " |  __contravariant__\n",
      " |  \n",
      " |  __covariant__\n",
      " |  \n",
      " |  __dict__\n",
      " |      dictionary for instance variables (if defined)\n",
      " |  \n",
      " |  ----------------------------------------------------------------------\n",
      " |  Class methods inherited from _Final:\n",
      " |  \n",
      " |  __init_subclass__(*args, **kwds) from builtins.type\n",
      " |      This method is called when a class is subclassed.\n",
      " |      \n",
      " |      The default implementation does nothing. It may be\n",
      " |      overridden to extend subclasses.\n",
      " |  \n",
      " |  ----------------------------------------------------------------------\n",
      " |  Data descriptors inherited from _Final:\n",
      " |  \n",
      " |  __weakref__\n",
      " |      list of weak references to the object (if defined)\n",
      " |  \n",
      " |  ----------------------------------------------------------------------\n",
      " |  Methods inherited from _Immutable:\n",
      " |  \n",
      " |  __copy__(self)\n",
      " |  \n",
      " |  __deepcopy__(self, memo)\n",
      "\n"
     ]
    }
   ],
   "source": [
    "help(TypeVar)"
   ]
  },
  {
   "cell_type": "code",
   "execution_count": 126,
   "metadata": {
    "ExecuteTime": {
     "end_time": "2019-08-28T17:30:09.004461Z",
     "start_time": "2019-08-28T17:30:08.988840Z"
    },
    "collapsed": true,
    "hidden": true
   },
   "outputs": [
    {
     "name": "stdout",
     "output_type": "stream",
     "text": [
      "AbstractSet\n",
      "Any\n",
      "AnyStr\n",
      "AsyncContextManager\n",
      "AsyncGenerator\n",
      "AsyncIterable\n",
      "AsyncIterator\n",
      "Awaitable\n",
      "BinaryIO\n",
      "ByteString\n",
      "CT_co\n",
      "Callable\n",
      "ChainMap\n",
      "ClassVar\n",
      "Collection\n",
      "Container\n",
      "ContextManager\n",
      "Coroutine\n",
      "Counter\n",
      "DefaultDict\n",
      "Deque\n",
      "Dict\n",
      "ForwardRef\n",
      "FrozenSet\n",
      "Generator\n",
      "Generic\n",
      "Hashable\n",
      "IO\n",
      "ItemsView\n",
      "Iterable\n",
      "Iterator\n",
      "KT\n",
      "KeysView\n",
      "List\n",
      "Mapping\n",
      "MappingView\n",
      "Match\n",
      "MethodDescriptorType\n",
      "MethodWrapperType\n",
      "MutableMapping\n",
      "MutableSequence\n",
      "MutableSet\n",
      "NamedTuple\n",
      "NamedTupleMeta\n",
      "NewType\n",
      "NoReturn\n",
      "Optional\n",
      "Pattern\n",
      "Reversible\n",
      "Sequence\n",
      "Set\n",
      "Sized\n",
      "SupportsAbs\n",
      "SupportsBytes\n",
      "SupportsComplex\n",
      "SupportsFloat\n",
      "SupportsInt\n",
      "SupportsRound\n",
      "T\n",
      "TYPE_CHECKING\n",
      "T_co\n",
      "T_contra\n",
      "Text\n",
      "TextIO\n",
      "Tuple\n",
      "Type\n",
      "TypeVar\n",
      "Union\n",
      "VT\n",
      "VT_co\n",
      "V_co\n",
      "ValuesView\n",
      "WrapperDescriptorType\n",
      "_Final\n",
      "_GenericAlias\n",
      "_Immutable\n",
      "_Protocol\n",
      "_ProtocolMeta\n",
      "_SpecialForm\n",
      "_TypingEllipsis\n",
      "_TypingEmpty\n",
      "_VariadicGenericAlias\n",
      "__all__\n",
      "__builtins__\n",
      "__cached__\n",
      "__doc__\n",
      "__file__\n",
      "__loader__\n",
      "__name__\n",
      "__package__\n",
      "__spec__\n",
      "_alias\n",
      "_allowed_types\n",
      "_check_generic\n",
      "_cleanups\n",
      "_collect_type_vars\n",
      "_eval_type\n",
      "_get_defaults\n",
      "_is_dunder\n",
      "_make_nmtuple\n",
      "_normalize_alias\n",
      "_overload_dummy\n",
      "_prohibited\n",
      "_remove_dups_flatten\n",
      "_special\n",
      "_subs_tvars\n",
      "_tp_cache\n",
      "_type_check\n",
      "_type_repr\n",
      "abc\n",
      "abstractmethod\n",
      "abstractproperty\n",
      "cast\n",
      "collections\n",
      "contextlib\n",
      "functools\n",
      "get_type_hints\n",
      "io\n",
      "no_type_check\n",
      "no_type_check_decorator\n",
      "operator\n",
      "overload\n",
      "re\n",
      "stdlib_re\n",
      "sys\n",
      "types\n"
     ]
    },
    {
     "data": {
      "text/plain": [
       "[None,\n",
       " None,\n",
       " None,\n",
       " None,\n",
       " None,\n",
       " None,\n",
       " None,\n",
       " None,\n",
       " None,\n",
       " None,\n",
       " None,\n",
       " None,\n",
       " None,\n",
       " None,\n",
       " None,\n",
       " None,\n",
       " None,\n",
       " None,\n",
       " None,\n",
       " None,\n",
       " None,\n",
       " None,\n",
       " None,\n",
       " None,\n",
       " None,\n",
       " None,\n",
       " None,\n",
       " None,\n",
       " None,\n",
       " None,\n",
       " None,\n",
       " None,\n",
       " None,\n",
       " None,\n",
       " None,\n",
       " None,\n",
       " None,\n",
       " None,\n",
       " None,\n",
       " None,\n",
       " None,\n",
       " None,\n",
       " None,\n",
       " None,\n",
       " None,\n",
       " None,\n",
       " None,\n",
       " None,\n",
       " None,\n",
       " None,\n",
       " None,\n",
       " None,\n",
       " None,\n",
       " None,\n",
       " None,\n",
       " None,\n",
       " None,\n",
       " None,\n",
       " None,\n",
       " None,\n",
       " None,\n",
       " None,\n",
       " None,\n",
       " None,\n",
       " None,\n",
       " None,\n",
       " None,\n",
       " None,\n",
       " None,\n",
       " None,\n",
       " None,\n",
       " None,\n",
       " None,\n",
       " None,\n",
       " None,\n",
       " None,\n",
       " None,\n",
       " None,\n",
       " None,\n",
       " None,\n",
       " None,\n",
       " None,\n",
       " None,\n",
       " None,\n",
       " None,\n",
       " None,\n",
       " None,\n",
       " None,\n",
       " None,\n",
       " None,\n",
       " None,\n",
       " None,\n",
       " None,\n",
       " None,\n",
       " None,\n",
       " None,\n",
       " None,\n",
       " None,\n",
       " None,\n",
       " None,\n",
       " None,\n",
       " None,\n",
       " None,\n",
       " None,\n",
       " None,\n",
       " None,\n",
       " None,\n",
       " None,\n",
       " None,\n",
       " None,\n",
       " None,\n",
       " None,\n",
       " None,\n",
       " None,\n",
       " None,\n",
       " None,\n",
       " None,\n",
       " None,\n",
       " None,\n",
       " None,\n",
       " None,\n",
       " None,\n",
       " None,\n",
       " None,\n",
       " None,\n",
       " None]"
      ]
     },
     "execution_count": 126,
     "metadata": {},
     "output_type": "execute_result"
    }
   ],
   "source": [
    "# import typing\n",
    "[print(i) for i in dir(typing)]"
   ]
  },
  {
   "cell_type": "markdown",
   "metadata": {},
   "source": [
    "# Search problems"
   ]
  },
  {
   "cell_type": "markdown",
   "metadata": {},
   "source": [
    "## DNA search"
   ]
  },
  {
   "cell_type": "markdown",
   "metadata": {
    "heading_collapsed": true
   },
   "source": [
    "### Storing DNA"
   ]
  },
  {
   "cell_type": "code",
   "execution_count": 161,
   "metadata": {
    "ExecuteTime": {
     "end_time": "2019-08-28T21:26:51.290322Z",
     "start_time": "2019-08-28T21:26:51.283488Z"
    },
    "collapsed": true,
    "hidden": true
   },
   "outputs": [
    {
     "name": "stdout",
     "output_type": "stream",
     "text": [
      "Help on class IntEnum in module enum:\n",
      "\n",
      "class IntEnum(builtins.int, Enum)\n",
      " |  IntEnum(value, names=None, *, module=None, qualname=None, type=None, start=1)\n",
      " |  \n",
      " |  Enum where members are also (and must be) ints\n",
      " |  \n",
      " |  Method resolution order:\n",
      " |      IntEnum\n",
      " |      builtins.int\n",
      " |      Enum\n",
      " |      builtins.object\n",
      " |  \n",
      " |  Data descriptors inherited from Enum:\n",
      " |  \n",
      " |  name\n",
      " |      The name of the Enum member.\n",
      " |  \n",
      " |  value\n",
      " |      The value of the Enum member.\n",
      " |  \n",
      " |  ----------------------------------------------------------------------\n",
      " |  Data descriptors inherited from EnumMeta:\n",
      " |  \n",
      " |  __members__\n",
      " |      Returns a mapping of member name->value.\n",
      " |      \n",
      " |      This mapping lists all enum members, including aliases. Note that this\n",
      " |      is a read-only view of the internal mapping.\n",
      "\n"
     ]
    }
   ],
   "source": [
    "from enum import IntEnum\n",
    "help(IntEnum)"
   ]
  },
  {
   "cell_type": "raw",
   "metadata": {
    "ExecuteTime": {
     "end_time": "2019-08-29T01:13:23.128922Z",
     "start_time": "2019-08-29T01:13:23.122089Z"
    },
    "hidden": true
   },
   "source": [
    "print(dir(IntEnum))\n",
    "print('IntEnum.__doc__:\\t', IntEnum.__doc__)\n",
    "print('IntEnum.__members__:\\t', IntEnum.__members__)\n",
    "print('IntEnum.__module__:\\t', IntEnum.__module__)\n",
    "print('IntEnum.__class__:\\t', IntEnum.__class__)"
   ]
  },
  {
   "cell_type": "code",
   "execution_count": 160,
   "metadata": {
    "ExecuteTime": {
     "end_time": "2019-08-28T21:26:23.049800Z",
     "start_time": "2019-08-28T21:26:23.041989Z"
    },
    "hidden": true
   },
   "outputs": [],
   "source": [
    "from enum import IntEnum\n",
    "from typing import Tuple, List\n",
    "\n",
    "Nucleotide: IntEnum = IntEnum('Nucleotide', ('A', 'C', 'G', 'T'))"
   ]
  },
  {
   "cell_type": "markdown",
   "metadata": {
    "hidden": true
   },
   "source": [
    "https://docs.python.org/3.4/library/enum.html#intenum"
   ]
  },
  {
   "cell_type": "code",
   "execution_count": 173,
   "metadata": {
    "ExecuteTime": {
     "end_time": "2019-08-28T22:55:27.309495Z",
     "start_time": "2019-08-28T22:55:27.303636Z"
    },
    "collapsed": true,
    "hidden": true
   },
   "outputs": [
    {
     "name": "stdout",
     "output_type": "stream",
     "text": [
      "Nucleotide.A\n",
      "Nucleotide.C\n",
      "Nucleotide.G\n",
      "Nucleotide.T\n"
     ]
    }
   ],
   "source": [
    "for i in Nucleotide:\n",
    "    print(i)"
   ]
  },
  {
   "cell_type": "code",
   "execution_count": 177,
   "metadata": {
    "ExecuteTime": {
     "end_time": "2019-08-28T22:58:24.737850Z",
     "start_time": "2019-08-28T22:58:24.731015Z"
    },
    "hidden": true
   },
   "outputs": [],
   "source": [
    "Codon = Tuple[Nucleotide, Nucleotide, Nucleotide]  # type alias for codons\n",
    "Gene = List[Codon]  # type alias for genes\n",
    "\n",
    "gene_str: str = \"ACGTGGCTCTCTAACGTACGTACGTACGGGGTTTATATATACCCTAGGACTCCCTTT\"    "
   ]
  },
  {
   "cell_type": "code",
   "execution_count": 197,
   "metadata": {
    "ExecuteTime": {
     "end_time": "2019-08-29T01:21:12.079777Z",
     "start_time": "2019-08-29T01:21:12.071968Z"
    },
    "hidden": true
   },
   "outputs": [],
   "source": [
    "def string_to_gene(s: str) -> Gene:\n",
    "    gene: Gene = []\n",
    "    for i in range(0, len(s), 3):\n",
    "        if (i + 2) >= len(s):  # don't run off end!\n",
    "            print(gene)\n",
    "            return gene\n",
    "        #  initialize codon out of three nucleotides\n",
    "        codon: Codon = (Nucleotide[s[i]], Nucleotide[s[i + 1]], Nucleotide[s[i + 2]])\n",
    "        gene.append(codon)  # add codon to gene\n",
    "    return gene\n"
   ]
  },
  {
   "cell_type": "markdown",
   "metadata": {
    "hidden": true
   },
   "source": [
    "**<font color = 'purple'>```string_to_gene()``` continually goes through the provided ```str``` and converts its next three characters into ```Codons``` that it adds to the end of a new ```Gene``` </font>**. If it finds that there is no Nucleotide two places into the future of the current place in s that it is examining (see the if statement within the loop), then it knows it has reached the end of an incomplete gene, and it skips over those last one or two nucleotides."
   ]
  },
  {
   "cell_type": "code",
   "execution_count": 198,
   "metadata": {
    "ExecuteTime": {
     "end_time": "2019-08-29T02:00:41.651691Z",
     "start_time": "2019-08-29T02:00:41.639000Z"
    },
    "hidden": true,
    "scrolled": true
   },
   "outputs": [
    {
     "data": {
      "text/plain": [
       "[(<Nucleotide.A: 1>, <Nucleotide.C: 2>, <Nucleotide.G: 3>),\n",
       " (<Nucleotide.T: 4>, <Nucleotide.G: 3>, <Nucleotide.G: 3>),\n",
       " (<Nucleotide.C: 2>, <Nucleotide.T: 4>, <Nucleotide.C: 2>),\n",
       " (<Nucleotide.T: 4>, <Nucleotide.C: 2>, <Nucleotide.T: 4>),\n",
       " (<Nucleotide.A: 1>, <Nucleotide.A: 1>, <Nucleotide.C: 2>),\n",
       " (<Nucleotide.G: 3>, <Nucleotide.T: 4>, <Nucleotide.A: 1>),\n",
       " (<Nucleotide.C: 2>, <Nucleotide.G: 3>, <Nucleotide.T: 4>),\n",
       " (<Nucleotide.A: 1>, <Nucleotide.C: 2>, <Nucleotide.G: 3>),\n",
       " (<Nucleotide.T: 4>, <Nucleotide.A: 1>, <Nucleotide.C: 2>),\n",
       " (<Nucleotide.G: 3>, <Nucleotide.G: 3>, <Nucleotide.G: 3>),\n",
       " (<Nucleotide.G: 3>, <Nucleotide.T: 4>, <Nucleotide.T: 4>),\n",
       " (<Nucleotide.T: 4>, <Nucleotide.A: 1>, <Nucleotide.T: 4>),\n",
       " (<Nucleotide.A: 1>, <Nucleotide.T: 4>, <Nucleotide.A: 1>),\n",
       " (<Nucleotide.T: 4>, <Nucleotide.A: 1>, <Nucleotide.C: 2>),\n",
       " (<Nucleotide.C: 2>, <Nucleotide.C: 2>, <Nucleotide.T: 4>),\n",
       " (<Nucleotide.A: 1>, <Nucleotide.G: 3>, <Nucleotide.G: 3>),\n",
       " (<Nucleotide.A: 1>, <Nucleotide.C: 2>, <Nucleotide.T: 4>),\n",
       " (<Nucleotide.C: 2>, <Nucleotide.C: 2>, <Nucleotide.C: 2>),\n",
       " (<Nucleotide.T: 4>, <Nucleotide.T: 4>, <Nucleotide.T: 4>)]"
      ]
     },
     "execution_count": 198,
     "metadata": {},
     "output_type": "execute_result"
    }
   ],
   "source": [
    "gene_str: str = \"ACGTGGCTCTCTAACGTACGTACGTACGGGGTTTATATATACCCTAGGACTCCCTTT\"    \n",
    "string_to_gene(gene_str)"
   ]
  },
  {
   "cell_type": "markdown",
   "metadata": {
    "heading_collapsed": true
   },
   "source": [
    "### Linear search"
   ]
  },
  {
   "cell_type": "markdown",
   "metadata": {
    "hidden": true
   },
   "source": [
    "One basic operation we may want to perform on a gene is to search it for a particular codon. The goal is to simply find out whether the codon exists within the gene or not. \n",
    "\n",
    "> <font color = 'green'>A linear search goes through every element in a search space, in the order of the original data structure, until what is sought is found or the end of the data structure is reached</font>. <font color = 'lightgrey'>In effect, a linear search is the most simple, natural, and obvious way to search for something.</font> <font color = 'red'>In the worst case, a linear search will require going through every element in a data structure, so it is of O(n) complexity, where n is the number of elements in the structure</font>. This is illustrated in figure 2.2."
   ]
  },
  {
   "cell_type": "markdown",
   "metadata": {
    "hidden": true
   },
   "source": [
    "<img src='pics/HR_3.png' alt='Drawing' style='width:725pt'/>"
   ]
  },
  {
   "cell_type": "markdown",
   "metadata": {
    "hidden": true
   },
   "source": [
    "It is trivial to define a function that performs a linear search. It simply must go through every element in a data structure and check for its equivalence to the item being sought. The following code defines such a function for a Gene and a Codon and then tries it out for my_gene and Codons called acg and gat."
   ]
  },
  {
   "cell_type": "code",
   "execution_count": 203,
   "metadata": {
    "ExecuteTime": {
     "end_time": "2019-08-29T02:08:52.845960Z",
     "start_time": "2019-08-29T02:08:52.831317Z"
    },
    "hidden": true
   },
   "outputs": [
    {
     "name": "stdout",
     "output_type": "stream",
     "text": [
      "linear_contains(my_gene, acg):\t True\n",
      "linear_contains(my_gene, gat):\t False\n"
     ]
    }
   ],
   "source": [
    "\n",
    "my_gene: Gene = string_to_gene(gene_str)\n",
    "\n",
    "def linear_contains(gene: Gene, key_codon: Codon) -> bool:\n",
    "    for codon in gene:\n",
    "        if codon == key_codon:\n",
    "            return True\n",
    "    return False\n",
    "\n",
    "acg: Codon = (Nucleotide.A, Nucleotide.C, Nucleotide.G)\n",
    "gat: Codon = (Nucleotide.G, Nucleotide.A, Nucleotide.T)\n",
    "print('linear_contains(my_gene, acg):\\t', linear_contains(my_gene, acg))  # True\n",
    "print('linear_contains(my_gene, gat):\\t', linear_contains(my_gene, gat))  # False\n",
    "\n"
   ]
  },
  {
   "cell_type": "markdown",
   "metadata": {
    "hidden": true
   },
   "source": [
    "NOTE This function is for illustrative purposes only. <font color = 'blue'>The Python built-in sequence types (list, tuple, range) all implement the ```__contains__()``` method, which allows us to do a search for a specific item in them by simply using the in operator</font>. \n",
    "\n",
    "* In fact, the in operator can be used with any type that implements ```__contains__()```. For instance, we could search my_gene for acg and print out the result by writing ```print(acg in my_gene)```. "
   ]
  },
  {
   "cell_type": "markdown",
   "metadata": {},
   "source": [
    "### Binary search"
   ]
  },
  {
   "cell_type": "markdown",
   "metadata": {},
   "source": [
    "There is a faster way to search than looking at every element, but it requires us to know something about the order of the data structure ahead of time. If we know that the structure is sorted, and we can instantly access any item within it by its index, we can perform a binary search. Based on this criteria, a sorted Python list is a perfect candidate for a binary search.\n",
    "\n",
    "> <font color = 'green'>A binary search works by looking at the middle element in a sorted range of elements, comparing it to the element sought, reducing the range by half based on that comparison, and starting the process over again. Let’s look at a concrete example</font>."
   ]
  },
  {
   "cell_type": "markdown",
   "metadata": {},
   "source": [
    "Suppose we have a list of alphabetically sorted words like [\"cat\", \"dog\", \"kangaroo\", \"llama\", \"rabbit\", \"rat\", \"zebra\"] and we are searching for the word “rat”:"
   ]
  },
  {
   "cell_type": "markdown",
   "metadata": {},
   "source": [
    "Notice that it does not involve searching every element, unlike a linear search. A binary search continually reduces the search space by half, so it has a worst-case runtime of O(log n). There is a sort-of catch, though. Unlike a linear search, a binary search requires a sorted data structure to search through, and sorting takes time. In fact, sorting takes O(n log n) time for the best sorting algorithms. If we are only going to run our search once, and our original data structure is unsorted, it probably makes sense to just do a linear search. But if the search is going to be performed many times, the time cost of doing the sort is worth it, to reap the benefit of the greatly reduced time cost of each individual search."
   ]
  },
  {
   "cell_type": "code",
   "execution_count": 223,
   "metadata": {
    "ExecuteTime": {
     "end_time": "2019-08-29T03:28:04.433999Z",
     "start_time": "2019-08-29T03:28:04.427168Z"
    }
   },
   "outputs": [
    {
     "data": {
      "text/plain": [
       "0"
      ]
     },
     "execution_count": 223,
     "metadata": {},
     "output_type": "execute_result"
    }
   ],
   "source": [
    "1//2"
   ]
  },
  {
   "cell_type": "code",
   "execution_count": 221,
   "metadata": {
    "ExecuteTime": {
     "end_time": "2019-08-29T03:26:23.539607Z",
     "start_time": "2019-08-29T03:26:23.526916Z"
    },
    "collapsed": true
   },
   "outputs": [
    {
     "name": "stdout",
     "output_type": "stream",
     "text": [
      "(<Nucleotide.A: 1>, <Nucleotide.A: 1>, <Nucleotide.C: 2>)\n",
      "(<Nucleotide.A: 1>, <Nucleotide.C: 2>, <Nucleotide.G: 3>)\n",
      "(<Nucleotide.A: 1>, <Nucleotide.C: 2>, <Nucleotide.G: 3>)\n",
      "(<Nucleotide.A: 1>, <Nucleotide.C: 2>, <Nucleotide.T: 4>)\n",
      "(<Nucleotide.A: 1>, <Nucleotide.G: 3>, <Nucleotide.G: 3>)\n",
      "(<Nucleotide.A: 1>, <Nucleotide.T: 4>, <Nucleotide.A: 1>)\n",
      "(<Nucleotide.C: 2>, <Nucleotide.C: 2>, <Nucleotide.C: 2>)\n",
      "(<Nucleotide.C: 2>, <Nucleotide.C: 2>, <Nucleotide.T: 4>)\n",
      "(<Nucleotide.C: 2>, <Nucleotide.G: 3>, <Nucleotide.T: 4>)\n",
      "(<Nucleotide.C: 2>, <Nucleotide.T: 4>, <Nucleotide.C: 2>)\n",
      "(<Nucleotide.G: 3>, <Nucleotide.G: 3>, <Nucleotide.G: 3>)\n",
      "(<Nucleotide.G: 3>, <Nucleotide.T: 4>, <Nucleotide.A: 1>)\n",
      "(<Nucleotide.G: 3>, <Nucleotide.T: 4>, <Nucleotide.T: 4>)\n",
      "(<Nucleotide.T: 4>, <Nucleotide.A: 1>, <Nucleotide.C: 2>)\n",
      "(<Nucleotide.T: 4>, <Nucleotide.A: 1>, <Nucleotide.C: 2>)\n",
      "(<Nucleotide.T: 4>, <Nucleotide.A: 1>, <Nucleotide.T: 4>)\n",
      "(<Nucleotide.T: 4>, <Nucleotide.C: 2>, <Nucleotide.T: 4>)\n",
      "(<Nucleotide.T: 4>, <Nucleotide.G: 3>, <Nucleotide.G: 3>)\n",
      "(<Nucleotide.T: 4>, <Nucleotide.T: 4>, <Nucleotide.T: 4>)\n",
      "binary_contains(my_sorted_gene, acg):\t True\n",
      "binary_contains(my_sorted_gene, gat):\t False\n"
     ]
    }
   ],
   "source": [
    "def binary_contains(gene: Gene, key_codon: Codon) -> bool:\n",
    "    low: int = 0\n",
    "    high: int = len(gene) - 1\n",
    "    while low <= high:  # while there is still a search space\n",
    "        mid: int = (low + high) // 2\n",
    "        if gene[mid] < key_codon:\n",
    "            low = mid + 1\n",
    "        elif gene[mid] > key_codon:\n",
    "            high = mid - 1\n",
    "        else:\n",
    "            return True\n",
    "    return False\n",
    "\n",
    "my_sorted_gene: Gene = sorted(my_gene)\n",
    "for i in my_sorted_gene<span style='background-color: lightyellow'></span>:\n",
    "    print(i)\n",
    "print('binary_contains(my_sorted_gene, acg):\\t', \n",
    "      binary_contains(my_sorted_gene, acg))  # True\n",
    "print('binary_contains(my_sorted_gene, gat):\\t', \n",
    "      binary_contains(my_sorted_gene, gat))  # False"
   ]
  },
  {
   "cell_type": "code",
   "execution_count": 216,
   "metadata": {
    "ExecuteTime": {
     "end_time": "2019-08-29T03:08:00.874032Z",
     "start_time": "2019-08-29T03:08:00.866223Z"
    }
   },
   "outputs": [
    {
     "name": "stdout",
     "output_type": "stream",
     "text": [
      "math.log(10):\t 2.302585092994046\n",
      "math.log(100):\t 4.605170185988092\n",
      "math.log(1000):\t 6.907755278982137\n",
      "math.log(10000):\t 9.210340371976184\n"
     ]
    }
   ],
   "source": [
    "import math\n",
    "\n",
    "print('math.log(10):\\t', math.log(10))\n",
    "print('math.log(100):\\t', math.log(100))\n",
    "print('math.log(1000):\\t', math.log(1000))\n",
    "print('math.log(10000):\\t', math.log(10000))"
   ]
  },
  {
   "cell_type": "markdown",
   "metadata": {},
   "source": [
    "### A Generic Example"
   ]
  },
  {
   "cell_type": "code",
   "execution_count": 230,
   "metadata": {
    "ExecuteTime": {
     "end_time": "2019-08-29T04:42:35.278662Z",
     "start_time": "2019-08-29T04:42:35.217156Z"
    }
   },
   "outputs": [
    {
     "name": "stdout",
     "output_type": "stream",
     "text": [
      "True\n",
      "True\n",
      "False\n"
     ]
    }
   ],
   "source": [
    "<span style='background-color: lightyellow'><h1>Table of Contents<span class=\"tocSkip\"></span></h1>\n",
    "<div class=\"toc\"><ul class=\"toc-item\"><li><span><a href=\"#Small-Problems\" data-toc-modified-id=\"Small-Problems-1\"><span class=\"toc-item-num\">1&nbsp;&nbsp;</span>Small Problems</a></span><ul class=\"toc-item\"><li><span><a href=\"#The-fibinocci-Sequence\" data-toc-modified-id=\"The-fibinocci-Sequence-1.1\"><span class=\"toc-item-num\">1.1&nbsp;&nbsp;</span>The fibinocci Sequence</a></span><ul class=\"toc-item\"><li><span><a href=\"#A-first-recursive-attempt\" data-toc-modified-id=\"A-first-recursive-attempt-1.1.1\"><span class=\"toc-item-num\">1.1.1&nbsp;&nbsp;</span>A first recursive attempt</a></span></li><li><span><a href=\"#Utilizing-base-cases\" data-toc-modified-id=\"Utilizing-base-cases-1.1.2\"><span class=\"toc-item-num\">1.1.2&nbsp;&nbsp;</span>Utilizing base cases</a></span></li><li><span><a href=\"#Memoization-to-the-rescue\" data-toc-modified-id=\"Memoization-to-the-rescue-1.1.3\"><span class=\"toc-item-num\">1.1.3&nbsp;&nbsp;</span>Memoization to the rescue</a></span></li><li><span><a href=\"#Automatic-memoization\" data-toc-modified-id=\"Automatic-memoization-1.1.4\"><span class=\"toc-item-num\">1.1.4&nbsp;&nbsp;</span>Automatic memoization</a></span></li><li><span><a href=\"#Keep-it-simple,-Fibonacci\" data-toc-modified-id=\"Keep-it-simple,-Fibonacci-1.1.5\"><span class=\"toc-item-num\">1.1.5&nbsp;&nbsp;</span>Keep it simple, Fibonacci</a></span></li><li><span><a href=\"#Generating-Fibonacci-numbers-with-a-generator\" data-toc-modified-id=\"Generating-Fibonacci-numbers-with-a-generator-1.1.6\"><span class=\"toc-item-num\">1.1.6&nbsp;&nbsp;</span>Generating Fibonacci numbers with a generator</a></span></li></ul></li><li><span><a href=\"#Trivial-compression\" data-toc-modified-id=\"Trivial-compression-1.2\"><span class=\"toc-item-num\">1.2&nbsp;&nbsp;</span><font color=\"lightgrey\">Trivial compression</font></a></span></li><li><span><a href=\"#Unbreakable-Encryption\" data-toc-modified-id=\"Unbreakable-Encryption-1.3\"><span class=\"toc-item-num\">1.3&nbsp;&nbsp;</span><font color=\"lightgrey\">Unbreakable Encryption</font></a></span><ul class=\"toc-item\"><li><span><a href=\"#Getting-the-data-in-order\" data-toc-modified-id=\"Getting-the-data-in-order-1.3.1\"><span class=\"toc-item-num\">1.3.1&nbsp;&nbsp;</span>Getting the data in order</a></span></li><li><span><a href=\"#Encrypting-and-decrypting\" data-toc-modified-id=\"Encrypting-and-decrypting-1.3.2\"><span class=\"toc-item-num\">1.3.2&nbsp;&nbsp;</span>Encrypting and decrypting</a></span></li></ul></li><li><span><a href=\"#Calculating-pi\" data-toc-modified-id=\"Calculating-pi-1.4\"><span class=\"toc-item-num\">1.4&nbsp;&nbsp;</span>Calculating pi</a></span></li><li><span><a href=\"#The-Towers-of-Hanoi\" data-toc-modified-id=\"The-Towers-of-Hanoi-1.5\"><span class=\"toc-item-num\">1.5&nbsp;&nbsp;</span>The Towers of Hanoi</a></span><ul class=\"toc-item\"><li><span><a href=\"#Modeling-the-towers\" data-toc-modified-id=\"Modeling-the-towers-1.5.1\"><span class=\"toc-item-num\">1.5.1&nbsp;&nbsp;</span>Modeling the towers</a></span></li><li><span><a href=\"#Solving-The-Towers-of-Hanoi\" data-toc-modified-id=\"Solving-The-Towers-of-Hanoi-1.5.2\"><span class=\"toc-item-num\">1.5.2&nbsp;&nbsp;</span>Solving The Towers of Hanoi</a></span></li></ul></li></ul></li><li><span><a href=\"#Search-problems\" data-toc-modified-id=\"Search-problems-2\"><span class=\"toc-item-num\">2&nbsp;&nbsp;</span>Search problems</a></span><ul class=\"toc-item\"><li><span><a href=\"#DNA-search\" data-toc-modified-id=\"DNA-search-2.1\"><span class=\"toc-item-num\">2.1&nbsp;&nbsp;</span>DNA search</a></span><ul class=\"toc-item\"><li><span><a href=\"#Storing-DNA\" data-toc-modified-id=\"Storing-DNA-2.1.1\"><span class=\"toc-item-num\">2.1.1&nbsp;&nbsp;</span>Storing DNA</a></span></li><li><span><a href=\"#Linear-search\" data-toc-modified-id=\"Linear-search-2.1.2\"><span class=\"toc-item-num\">2.1.2&nbsp;&nbsp;</span>Linear search</a></span></li><li><span><a href=\"#Binary-search\" data-toc-modified-id=\"Binary-search-2.1.3\"><span class=\"toc-item-num\">2.1.3&nbsp;&nbsp;</span>Binary search</a></span></li><li><span><a href=\"#A-Generic-Example\" data-toc-modified-id=\"A-Generic-Example-2.1.4\"><span class=\"toc-item-num\">2.1.4&nbsp;&nbsp;</span>A Generic Example</a></span></li><li><span><a href=\"#Combined-code-from-github\" data-toc-modified-id=\"Combined-code-from-github-2.1.5\"><span class=\"toc-item-num\">2.1.5&nbsp;&nbsp;</span>Combined code from github</a></span></li></ul></li><li><span><a href=\"#Maze-solving\" data-toc-modified-id=\"Maze-solving-2.2\"><span class=\"toc-item-num\">2.2&nbsp;&nbsp;</span>Maze solving</a></span></li></ul></li></ul></div></span>from __future__ import annotations\n",
    "from typing import TypeVar, Iterable, Sequence, Generic, List, Callable, Set, Deque, Dict, Any, Optional\n",
    "# from typing_extensions import Protocol\n",
    "from heapq import heappush, heappop\n",
    "\n",
    "T = TypeVar('T')\n",
    "\n",
    "\n",
    "def linear_contains(iterable: Iterable[T], key: T) -> bool:\n",
    "    for item in iterable:\n",
    "        if item == key:\n",
    "            return True\n",
    "    return False\n",
    "\n",
    "\n",
    "C = TypeVar(\"C\", bound=\"Comparable\")\n",
    "\n",
    "\n",
    "# class Comparable(Protocol):\n",
    "#     def __eq__(self, other: Any) -> bool:\n",
    "#         ...\n",
    "\n",
    "#     def __lt__(self: C, other: C) -> bool:\n",
    "#         ...\n",
    "\n",
    "#     def __gt__(self: C, other: C) -> bool:\n",
    "#         return (not self < other) and self != other\n",
    "\n",
    "#     def __le__(self: C, other: C) -> bool:\n",
    "#         return self < other or self == other\n",
    "\n",
    "#     def __ge__(self: C, other: C) -> bool:\n",
    "#         return not self < other\n",
    "\n",
    "\n",
    "def binary_contains(sequence: Sequence[C], key: C) -> bool:\n",
    "    low: int = 0\n",
    "    high: int = len(sequence) - 1\n",
    "    while low <= high:  # while there is still a search space\n",
    "        mid: int = (low + high) // 2\n",
    "        if sequence[mid] < key:\n",
    "            low = mid + 1\n",
    "        elif sequence[mid] > key:\n",
    "            high = mid - 1\n",
    "        else:\n",
    "            return True\n",
    "    return False\n",
    "\n",
    "\n",
    "class Stack(Generic[T]):\n",
    "    def __init__(self) -> None:\n",
    "        self._container: List[T] = []\n",
    "\n",
    "    @property\n",
    "    def empty(self) -> bool:\n",
    "        return not self._container  # not is true for empty container\n",
    "\n",
    "    def push(self, item: T) -> None:\n",
    "        self._container.append(item)\n",
    "\n",
    "    def pop(self) -> T:\n",
    "        return self._container.pop()  # LIFO\n",
    "\n",
    "    def __repr__(self) -> str:\n",
    "        return repr(self._container)\n",
    "\n",
    "\n",
    "class Node(Generic[T]):\n",
    "    def __init__(self, state: T, parent: Optional[Node], cost: float = 0.0, heuristic: float = 0.0) -> None:\n",
    "        self.state: T = state\n",
    "        self.parent: Optional[Node] = parent\n",
    "        self.cost: float = cost\n",
    "        self.heuristic: float = heuristic\n",
    "\n",
    "    def __lt__(self, other: Node) -> bool:\n",
    "        return (self.cost + self.heuristic) < (other.cost + other.heuristic)\n",
    "\n",
    "\n",
    "def dfs(initial: T, goal_test: Callable[[T], bool], successors: Callable[[T], List[T]]) -> Optional[Node[T]]:\n",
    "    # frontier is where we've yet to go\n",
    "    frontier: Stack[Node[T]] = Stack()\n",
    "    frontier.push(Node(initial, None))\n",
    "    # explored is where we've been\n",
    "    explored: Set[T] = {initial}\n",
    "\n",
    "    # keep going while there is more to explore\n",
    "    while not frontier.empty:\n",
    "        current_node: Node[T] = frontier.pop()\n",
    "        current_state: T = current_node.state\n",
    "        # if we found the goal, we're done\n",
    "        if goal_test(current_state):\n",
    "            return current_node\n",
    "        # check where we can go next and haven't explored\n",
    "        for child in successors(current_state):\n",
    "            if child in explored:  # skip children we already explored\n",
    "                continue\n",
    "            explored.add(child)\n",
    "            frontier.push(Node(child, current_node))\n",
    "    return None  # went through everything and never found goal\n",
    "\n",
    "\n",
    "def node_to_path(node: Node[T]) -> List[T]:\n",
    "    path: List[T] = [node.state]\n",
    "    # work backwards from end to front\n",
    "    while node.parent is not None:\n",
    "        node = node.parent\n",
    "        path.append(node.state)\n",
    "    path.reverse()\n",
    "    return path\n",
    "\n",
    "\n",
    "class Queue(Generic[T]):\n",
    "    def __init__(self) -> None:\n",
    "        self._container: Deque[T] = Deque()\n",
    "\n",
    "    @property\n",
    "    def empty(self) -> bool:\n",
    "        return not self._container  # not is true for empty container\n",
    "\n",
    "    def push(self, item: T) -> None:\n",
    "        self._container.append(item)\n",
    "\n",
    "    def pop(self) -> T:\n",
    "        return self._container.popleft()  # FIFO\n",
    "\n",
    "    def __repr__(self) -> str:\n",
    "        return repr(self._container)\n",
    "\n",
    "\n",
    "def bfs(initial: T, goal_test: Callable[[T], bool], successors: Callable[[T], List[T]]) -> Optional[Node[T]]:\n",
    "    # frontier is where we've yet to go\n",
    "    frontier: Queue[Node[T]] = Queue()\n",
    "    frontier.push(Node(initial, None))\n",
    "    # explored is where we've been\n",
    "    explored: Set[T] = {initial}\n",
    "\n",
    "    # keep going while there is more to explore\n",
    "    while not frontier.empty:\n",
    "        current_node: Node[T] = frontier.pop()\n",
    "        current_state: T = current_node.state\n",
    "        # if we found the goal, we're done\n",
    "        if goal_test(current_state):\n",
    "            return current_node\n",
    "        # check where we can go next and haven't explored\n",
    "        for child in successors(current_state):\n",
    "            if child in explored:  # skip children we already explored\n",
    "                continue\n",
    "            explored.add(child)\n",
    "            frontier.push(Node(child, current_node))\n",
    "    return None  # went through everything and never found goal\n",
    "\n",
    "\n",
    "class PriorityQueue(Generic[T]):\n",
    "    def __init__(self) -> None:\n",
    "        self._container: List[T] = []\n",
    "\n",
    "    @property\n",
    "    def empty(self) -> bool:\n",
    "        return not self._container  # not is true for empty container\n",
    "\n",
    "    def push(self, item: T) -> None:\n",
    "        heappush(self._container, item)  # in by priority\n",
    "\n",
    "    def pop(self) -> T:\n",
    "        return heappop(self._container)  # out by priority\n",
    "\n",
    "    def __repr__(self) -> str:\n",
    "        return repr(self._container)\n",
    "\n",
    "\n",
    "def astar(initial: T, goal_test: Callable[[T], bool], successors: Callable[[T], List[T]], heuristic: Callable[[T], float]) -> Optional[Node[T]]:\n",
    "    # frontier is where we've yet to go\n",
    "    frontier: PriorityQueue[Node[T]] = PriorityQueue()\n",
    "    frontier.push(Node(initial, None, 0.0, heuristic(initial)))\n",
    "    # explored is where we've been\n",
    "    explored: Dict[T, float] = {initial: 0.0}\n",
    "\n",
    "    # keep going while there is more to explore\n",
    "    while not frontier.empty:\n",
    "        current_node: Node[T] = frontier.pop()\n",
    "        current_state: T = current_node.state\n",
    "        # if we found the goal, we're done\n",
    "        if goal_test(current_state):\n",
    "            return current_node\n",
    "        # check where we can go next and haven't explored\n",
    "        for child in successors(current_state):\n",
    "            new_cost: float = current_node.cost + 1  # 1 assumes a grid, need a cost function for more sophisticated apps\n",
    "\n",
    "            if child not in explored or explored[child] > new_cost:\n",
    "                explored[child] = new_cost\n",
    "                frontier.push(Node(child, current_node, new_cost, heuristic(child)))\n",
    "    return None  # went through everything and never found goal\n",
    "\n",
    "\n",
    "if __name__ == \"__main__\":\n",
    "    print(linear_contains([1, 5, 15, 15, 15, 15, 20], 5))  # True\n",
    "    print(binary_contains([\"a\", \"d\", \"e\", \"f\", \"z\"], \"f\"))  # True\n",
    "    print(binary_contains([\"john\", \"mark\", \"ronald\", \"sarah\"], \"sheila\"))  # False"
   ]
  },
  {
   "cell_type": "markdown",
   "metadata": {
    "heading_collapsed": true
   },
   "source": [
    "### Combined code from github"
   ]
  },
  {
   "cell_type": "code",
   "execution_count": 226,
   "metadata": {
    "ExecuteTime": {
     "end_time": "2019-08-29T03:40:08.607196Z",
     "start_time": "2019-08-29T03:40:08.583767Z"
    },
    "hidden": true
   },
   "outputs": [
    {
     "name": "stdout",
     "output_type": "stream",
     "text": [
      "linear_contains(my_gene, acg):\t True\n",
      "linear_contains(my_gene, gat):\t False\n",
      "binary_contains(my_sorted_gene, acg):\t True\n",
      "binary_contains(my_sorted_gene, gat):\t False\n"
     ]
    }
   ],
   "source": [
    "from enum import IntEnum\n",
    "from typing import Tuple, List\n",
    "\n",
    "Nucleotide: IntEnum = IntEnum('Nucleotide', ('A', 'C', 'G', 'T'))\n",
    "Codon = Tuple[Nucleotide, Nucleotide, Nucleotide]  # type alias for codons\n",
    "Gene = List[Codon]  # type alias for genes\n",
    "\n",
    "gene_str: str = \"ACGTGGCTCTCTAACGTACGTACGTACGGGGTTTATATATACCCTAGGACTCCCTTT\"\n",
    "\n",
    "\n",
    "def string_to_gene(s: str) -> Gene:\n",
    "    gene: Gene = []\n",
    "    for i in range(0, len(s), 3):\n",
    "        if (i + 2) >= len(s):  # don't run off end!\n",
    "            return gene\n",
    "        #  initialize codon out of three nucleotides\n",
    "        codon: Codon = (Nucleotide[s[i]], Nucleotide[s[i + 1]], Nucleotide[s[i + 2]])\n",
    "        gene.append(codon)  # add codon to gene\n",
    "    return gene\n",
    "\n",
    "\n",
    "my_gene: Gene = string_to_gene(gene_str)\n",
    "\n",
    "\n",
    "def linear_contains(gene: Gene, key_codon: Codon) -> bool:\n",
    "    for codon in gene:\n",
    "        if codon == key_codon:\n",
    "            return True\n",
    "    return False\n",
    "\n",
    "\n",
    "acg: Codon = (Nucleotide.A, Nucleotide.C, Nucleotide.G)\n",
    "gat: Codon = (Nucleotide.G, Nucleotide.A, Nucleotide.T)\n",
    "print('linear_contains(my_gene, acg):\\t', linear_contains(my_gene, acg))  # True\n",
    "print('linear_contains(my_gene, gat):\\t', linear_contains(my_gene, gat))  # False\n",
    "\n",
    "\n",
    "def binary_contains(gene: Gene, key_codon: Codon) -> bool:\n",
    "    low: int = 0\n",
    "    high: int = len(gene) - 1\n",
    "    while low <= high:  # while there is still a search space\n",
    "        mid: int = (low + high) // 2\n",
    "        if gene[mid] < key_codon:\n",
    "            low = mid + 1\n",
    "        elif gene[mid] > key_codon:\n",
    "            high = mid - 1\n",
    "        else:\n",
    "            return True\n",
    "    return False\n",
    "\n",
    "\n",
    "my_sorted_gene: Gene = sorted(my_gene)\n",
    "print('binary_contains(my_sorted_gene, acg):\\t', \n",
    "      binary_contains(my_sorted_gene, acg))  # True\n",
    "print('binary_contains(my_sorted_gene, gat):\\t', \n",
    "      binary_contains(my_sorted_gene, gat))  # False"
   ]
  },
  {
   "cell_type": "markdown",
   "metadata": {},
   "source": [
    "## Maze solving"
   ]
  },
  {
   "cell_type": "code",
   "execution_count": null,
   "metadata": {},
   "outputs": [],
   "source": []
  }
 ],
 "metadata": {
  "hide_input": false,
  "kernelspec": {
   "display_name": "Python 3",
   "language": "python",
   "name": "python3"
  },
  "language_info": {
   "codemirror_mode": {
    "name": "ipython",
    "version": 3
   },
   "file_extension": ".py",
   "mimetype": "text/x-python",
   "name": "python",
   "nbconvert_exporter": "python",
   "pygments_lexer": "ipython3",
   "version": "3.7.1"
  },
  "toc": {
   "base_numbering": 1,
   "nav_menu": {},
   "number_sections": true,
   "sideBar": true,
   "skip_h1_title": false,
   "title_cell": "Table of Contents",
   "title_sidebar": "Contents",
   "toc_cell": true,
   "toc_position": {},
   "toc_section_display": true,
   "toc_window_display": false
  }
 },
 "nbformat": 4,
 "nbformat_minor": 2
}
