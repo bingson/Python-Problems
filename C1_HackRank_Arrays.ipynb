{
 "cells": [
  {
   "cell_type": "markdown",
   "metadata": {
    "toc": true
   },
   "source": [
    "<h1>Table of Contents<span class=\"tocSkip\"></span></h1>\n",
    "<div class=\"toc\"><ul class=\"toc-item\"><li><span><a href=\"#Warm-Up\" data-toc-modified-id=\"Warm-Up-1\"><span class=\"toc-item-num\">1&nbsp;&nbsp;</span>Warm Up</a></span><ul class=\"toc-item\"><li><span><a href=\"#Sock-Merchant-(default-dict)\" data-toc-modified-id=\"Sock-Merchant-(default-dict)-1.1\"><span class=\"toc-item-num\">1.1&nbsp;&nbsp;</span>Sock Merchant (default dict)</a></span><ul class=\"toc-item\"><li><span><a href=\"#Question\" data-toc-modified-id=\"Question-1.1.1\"><span class=\"toc-item-num\">1.1.1&nbsp;&nbsp;</span>Question</a></span></li><li><span><a href=\"#Answer\" data-toc-modified-id=\"Answer-1.1.2\"><span class=\"toc-item-num\">1.1.2&nbsp;&nbsp;</span>Answer</a></span></li><li><span><a href=\"#buffer\" data-toc-modified-id=\"buffer-1.1.3\"><span class=\"toc-item-num\">1.1.3&nbsp;&nbsp;</span>buffer</a></span></li></ul></li><li><span><a href=\"#Jumping-on-the-Clouds-(list-comprehension)\" data-toc-modified-id=\"Jumping-on-the-Clouds-(list-comprehension)-1.2\"><span class=\"toc-item-num\">1.2&nbsp;&nbsp;</span>Jumping on the Clouds (list comprehension)</a></span></li><li><span><a href=\"#Repeated-String\" data-toc-modified-id=\"Repeated-String-1.3\"><span class=\"toc-item-num\">1.3&nbsp;&nbsp;</span>Repeated String</a></span></li><li><span><a href=\"#Counting-Valleys\" data-toc-modified-id=\"Counting-Valleys-1.4\"><span class=\"toc-item-num\">1.4&nbsp;&nbsp;</span>Counting Valleys</a></span></li></ul></li><li><span><a href=\"#Arrays\" data-toc-modified-id=\"Arrays-2\"><span class=\"toc-item-num\">2&nbsp;&nbsp;</span>Arrays</a></span><ul class=\"toc-item\"><li><span><a href=\"#2D-Array\" data-toc-modified-id=\"2D-Array-2.1\"><span class=\"toc-item-num\">2.1&nbsp;&nbsp;</span>2D Array</a></span></li><li><span><a href=\"#Arrays:-Left-Rotation\" data-toc-modified-id=\"Arrays:-Left-Rotation-2.2\"><span class=\"toc-item-num\">2.2&nbsp;&nbsp;</span>Arrays: Left Rotation</a></span></li><li><span><a href=\"#New-Year-Chaos\" data-toc-modified-id=\"New-Year-Chaos-2.3\"><span class=\"toc-item-num\">2.3&nbsp;&nbsp;</span>New Year Chaos</a></span></li><li><span><a href=\"#Minimum-swaps-2\" data-toc-modified-id=\"Minimum-swaps-2-2.4\"><span class=\"toc-item-num\">2.4&nbsp;&nbsp;</span>Minimum swaps 2</a></span></li><li><span><a href=\"#Array-Manipulation\" data-toc-modified-id=\"Array-Manipulation-2.5\"><span class=\"toc-item-num\">2.5&nbsp;&nbsp;</span>Array Manipulation</a></span><ul class=\"toc-item\"><li><span><a href=\"#Editorial\" data-toc-modified-id=\"Editorial-2.5.1\"><span class=\"toc-item-num\">2.5.1&nbsp;&nbsp;</span>Editorial</a></span></li></ul></li></ul></li></ul></div>"
   ]
  },
  {
   "cell_type": "code",
   "execution_count": 169,
   "metadata": {
    "ExecuteTime": {
     "end_time": "2019-10-08T00:19:34.925081Z",
     "start_time": "2019-10-08T00:19:34.920084Z"
    }
   },
   "outputs": [],
   "source": [
    "# Pretty display multiple variables without print statement\n",
    "from IPython.core.interactiveshell import InteractiveShell\n",
    "InteractiveShell.ast_node_interactivity = \"all\""
   ]
  },
  {
   "cell_type": "markdown",
   "metadata": {
    "heading_collapsed": true
   },
   "source": [
    "# Warm Up"
   ]
  },
  {
   "cell_type": "markdown",
   "metadata": {
    "heading_collapsed": true,
    "hidden": true
   },
   "source": [
    "## Sock Merchant (default dict)"
   ]
  },
  {
   "cell_type": "markdown",
   "metadata": {
    "heading_collapsed": true,
    "hidden": true
   },
   "source": [
    "### Question"
   ]
  },
  {
   "cell_type": "markdown",
   "metadata": {
    "hidden": true
   },
   "source": [
    "<img src='pics/HR_1.png' alt='Drawing' style='width:725pt'/>"
   ]
  },
  {
   "cell_type": "markdown",
   "metadata": {
    "heading_collapsed": true,
    "hidden": true
   },
   "source": [
    "### Answer"
   ]
  },
  {
   "cell_type": "code",
   "execution_count": 127,
   "metadata": {
    "ExecuteTime": {
     "end_time": "2019-09-17T01:34:55.459946Z",
     "start_time": "2019-09-17T01:34:48.053574Z"
    },
    "hidden": true
   },
   "outputs": [
    {
     "name": "stdout",
     "output_type": "stream",
     "text": [
      "9\n",
      "10 20 20 10 10 30 50 10 20\n",
      "c: ['10', '10', '10', '10', '20', '20', '20', '30', '50']\n",
      "3\n"
     ]
    }
   ],
   "source": [
    "from collections import defaultdict\n",
    "\n",
    "n = input()\n",
    "c = sorted(input().strip().split())\n",
    "print(\"c:\",c)\n",
    "socks = defaultdict(int)\n",
    "\n",
    "for color in c:\n",
    "    socks[color] += 1\n",
    "    # print(\"socks[color]:\",socks[color])\n",
    "\n",
    "pairs = 0\n",
    "\n",
    "for color in socks:\n",
    "    pairs +=  socks[color] // 2\n",
    "    # print('color,pairs:\\t', color,pairs)\n",
    "# print(\"socks:\",socks)\n",
    "print(pairs)\n"
   ]
  },
  {
   "cell_type": "markdown",
   "metadata": {
    "hidden": true
   },
   "source": [
    "```//``` Floor Division - The division of operands where the result is the quotient in which the digits after the decimal point are removed. But if one of the operands is negative, the result is floored, i.e., rounded away from zero (towards negative infinity) −\t"
   ]
  },
  {
   "cell_type": "code",
   "execution_count": 125,
   "metadata": {
    "ExecuteTime": {
     "end_time": "2019-09-17T01:13:22.930008Z",
     "start_time": "2019-09-17T01:13:22.917018Z"
    },
    "hidden": true
   },
   "outputs": [
    {
     "data": {
      "text/plain": [
       "4"
      ]
     },
     "execution_count": 125,
     "metadata": {},
     "output_type": "execute_result"
    },
    {
     "data": {
      "text/plain": [
       "4.0"
      ]
     },
     "execution_count": 125,
     "metadata": {},
     "output_type": "execute_result"
    },
    {
     "data": {
      "text/plain": [
       "-4"
      ]
     },
     "execution_count": 125,
     "metadata": {},
     "output_type": "execute_result"
    },
    {
     "data": {
      "text/plain": [
       "-4.0"
      ]
     },
     "execution_count": 125,
     "metadata": {},
     "output_type": "execute_result"
    }
   ],
   "source": [
    "9//2 \n",
    "9.0//2.0 \n",
    "-11//3\n",
    "-11.0//3"
   ]
  },
  {
   "cell_type": "markdown",
   "metadata": {
    "heading_collapsed": true,
    "hidden": true
   },
   "source": [
    "###### Sample Input:"
   ]
  },
  {
   "cell_type": "raw",
   "metadata": {
    "hidden": true
   },
   "source": [
    " 9"
   ]
  },
  {
   "cell_type": "raw",
   "metadata": {
    "hidden": true
   },
   "source": [
    "10 20 20 10 10 30 50 10 20"
   ]
  },
  {
   "cell_type": "markdown",
   "metadata": {
    "heading_collapsed": true,
    "hidden": true
   },
   "source": [
    "### buffer"
   ]
  },
  {
   "cell_type": "code",
   "execution_count": 10,
   "metadata": {
    "ExecuteTime": {
     "end_time": "2019-08-14T17:54:36.045144Z",
     "start_time": "2019-08-14T17:54:36.038149Z"
    },
    "hidden": true
   },
   "outputs": [
    {
     "data": {
      "text/plain": [
       "'__main__'"
      ]
     },
     "execution_count": 10,
     "metadata": {},
     "output_type": "execute_result"
    }
   ],
   "source": [
    "f\"{__name__}\"\n"
   ]
  },
  {
   "cell_type": "code",
   "execution_count": 3,
   "metadata": {
    "ExecuteTime": {
     "end_time": "2019-06-18T20:23:03.280953Z",
     "start_time": "2019-06-18T20:23:03.262963Z"
    },
    "hidden": true
   },
   "outputs": [
    {
     "data": {
      "text/plain": [
       "['10', '10', '10', '10', '20', '20', '20', '30', '50']"
      ]
     },
     "execution_count": 3,
     "metadata": {},
     "output_type": "execute_result"
    }
   ],
   "source": [
    "sorted(\"10 20 20 10 10 30 50 10 20\".strip().split())"
   ]
  },
  {
   "cell_type": "code",
   "execution_count": null,
   "metadata": {
    "hidden": true
   },
   "outputs": [],
   "source": []
  },
  {
   "cell_type": "markdown",
   "metadata": {
    "heading_collapsed": true,
    "hidden": true
   },
   "source": [
    "## Jumping on the Clouds (list comprehension)"
   ]
  },
  {
   "cell_type": "markdown",
   "metadata": {
    "heading_collapsed": true,
    "hidden": true
   },
   "source": [
    "##### Question"
   ]
  },
  {
   "cell_type": "markdown",
   "metadata": {
    "hidden": true
   },
   "source": [
    "<img src='pics/Snap2.png' alt='Drawing' style='width:725pt'/>"
   ]
  },
  {
   "cell_type": "markdown",
   "metadata": {
    "heading_collapsed": true,
    "hidden": true
   },
   "source": [
    "##### <font color = 'blue'><b>Best Solution</b></font>"
   ]
  },
  {
   "cell_type": "code",
   "execution_count": 31,
   "metadata": {
    "ExecuteTime": {
     "end_time": "2019-09-17T17:21:07.331297Z",
     "start_time": "2019-09-17T17:21:07.320304Z"
    },
    "hidden": true
   },
   "outputs": [
    {
     "name": "stdout",
     "output_type": "stream",
     "text": [
      "3\n",
      "4\n"
     ]
    }
   ],
   "source": [
    "key_lst = list(range(5))\n",
    "val_lst = [2,2,3,4,5]\n",
    "signatures = {k:v for (k,v) in zip(key_lst, val_lst)}\n",
    "print('signatures:\\t', signatures)\n",
    "print('-'*30)\n",
    "res = 0\n",
    "for count in signatures.values():\n",
    "    print('count:\\t', count)\n",
    "    print('b-res:\\t', res)\n",
    "    res += count*(count-1)/2\n",
    "    print('a-res:\\t', res)\n",
    "    print('-'*30)\n",
    "print('res:\\t', res)from typing import List\n",
    "def jumpingOnClouds(c: List[str]) -> int:\n",
    "    count_jumps = 0\n",
    "    i = 0\n",
    "    n = len(c)\n",
    "\n",
    "    while i < n - 1: \n",
    "        if i + 2 < n and c[i + 2] == 0: \n",
    "            i = i + 2   \n",
    "        else:\n",
    "            i = i + 1 \n",
    "        count_jumps += 1\n",
    "    return count_jumps\n",
    "\n",
    "c = list(map(int, \"0 0 0 0 1 0\".rstrip().split()))\n",
    "print(jumpingOnClouds(c))\n",
    "\n",
    "c = list(map(int, \"0 0 1 0 0 1 0\".rstrip().split()))\n",
    "print(jumpingOnClouds(c))\n",
    "    "
   ]
  },
  {
   "cell_type": "markdown",
   "metadata": {
    "heading_collapsed": true,
    "hidden": true
   },
   "source": [
    "##### <font color = 'green'><b>My Explained soln</b></font>"
   ]
  },
  {
   "cell_type": "code",
   "execution_count": 20,
   "metadata": {
    "ExecuteTime": {
     "end_time": "2019-09-17T16:33:21.173465Z",
     "start_time": "2019-09-17T16:33:21.162471Z"
    },
    "hidden": true
   },
   "outputs": [],
   "source": [
    "import math\n",
    "import os\n",
    "import random\n",
    "import re\n",
    "import sys\n",
    "\n",
    "# Complete the jumpingOnClouds function below.\n",
    "def jumpingOnClouds(c):\n",
    "    i = 0  # index of jump position in cloud series\n",
    "    count_jumps = 0 # number of jumps to reach the end\n",
    "    length = len(c) # length of cloud series\n",
    "\n",
    "    while i < length - 2:\n",
    "    # while loop increments the jump counter while \n",
    "    # the index of jump position increments using the \n",
    "    # if logic to check whether its safe to make a 1 or 2 move jump\n",
    "    \n",
    "        if c[i+2] == 1: i += 1 \n",
    "        # not safe, so move 1 cloud fwd\n",
    "        # checks if cloud 2 positions fwd can be jumped on\n",
    "        # 1 == bad cloud\n",
    "            \n",
    "        else: i += 2 \n",
    "        # move 2 clouds fwd\n",
    "            \n",
    "        count_jumps += 1\n",
    "    \n",
    "    if i == length - 2: count_jumps += 1\n",
    "    # checks if i is only 1 move away from end\n",
    "    # remember 0-based indexing means index =/= length\n",
    "    # subtract 2 instead of 1 to adjust\n",
    "\n",
    "    return count_jumps"
   ]
  },
  {
   "cell_type": "code",
   "execution_count": 21,
   "metadata": {
    "ExecuteTime": {
     "end_time": "2019-09-17T16:33:22.961175Z",
     "start_time": "2019-09-17T16:33:22.954181Z"
    },
    "hidden": true
   },
   "outputs": [
    {
     "name": "stdout",
     "output_type": "stream",
     "text": [
      "result:\t 4\n"
     ]
    }
   ],
   "source": [
    "if __name__ == '__main__':\n",
    "#     fptr = open(os.environ['OUTPUT_PATH'], 'w')\n",
    "\n",
    "    n = int(7)\n",
    "    c = list(map(int, \"0 0 1 0 0 1 0\".rstrip().split()))\n",
    "    result = jumpingOnClouds(c)\n",
    "    print('result:\\t', result)\n",
    "\n",
    "    # fptr.write(str(result) + '\\n')\n",
    "    # fptr.close()"
   ]
  },
  {
   "cell_type": "code",
   "execution_count": 22,
   "metadata": {
    "ExecuteTime": {
     "end_time": "2019-09-17T16:33:24.410578Z",
     "start_time": "2019-09-17T16:33:24.402586Z"
    },
    "hidden": true
   },
   "outputs": [
    {
     "name": "stdout",
     "output_type": "stream",
     "text": [
      "result:\t 3\n"
     ]
    }
   ],
   "source": [
    "if __name__ == '__main__':\n",
    "#     fptr = open(os.environ['OUTPUT_PATH'], 'w')\n",
    "\n",
    "    n = int(6)\n",
    "    c = list(map(int, \"0 0 0 0 1 0\".rstrip().split()))\n",
    "    result = jumpingOnClouds(c)\n",
    "    print('result:\\t', result)\n",
    "\n",
    "    # fptr.write(str(result) + '\\n')\n",
    "    # fptr.close()"
   ]
  },
  {
   "cell_type": "code",
   "execution_count": 4,
   "metadata": {
    "ExecuteTime": {
     "end_time": "2019-09-17T06:30:30.629836Z",
     "start_time": "2019-09-17T06:29:39.475866Z"
    },
    "hidden": true
   },
   "outputs": [
    {
     "name": "stdout",
     "output_type": "stream",
     "text": [
      "6\n",
      "0 0 0 0 1 0\n",
      "3\n"
     ]
    }
   ],
   "source": [
    "import sys\n",
    "n = int(input().strip())\n",
    "a = [int(c_temp) for c_temp in input().strip().split(' ')]\n",
    "c = -1\n",
    "i = 0\n",
    "while i < n:\n",
    "    if i < n-2 and a[i+2] == 0: i += 1\n",
    "    c += 1\n",
    "    i += 1\n",
    "print(c)"
   ]
  },
  {
   "cell_type": "markdown",
   "metadata": {
    "hidden": true
   },
   "source": [
    "<font color = 'blue'><b>iterative solution</b></font>"
   ]
  },
  {
   "cell_type": "code",
   "execution_count": null,
   "metadata": {
    "hidden": true
   },
   "outputs": [],
   "source": [
    "def jumpingOnClouds(c):\n",
    "    if len(c) == 1 : return 0\n",
    "    if len(c) == 2: return 0 if c[1]==1 else 1\n",
    "    if c[2]==1: \n",
    "        return 1 + jumpingOnClouds(c[1:])\n",
    "    if c[2]==0:\n",
    "        return 1 + jumpingOnClouds(c[2:])\n"
   ]
  },
  {
   "cell_type": "code",
   "execution_count": null,
   "metadata": {
    "hidden": true
   },
   "outputs": [],
   "source": [
    "def jumpingOnClouds(c):\n",
    "    i = count_jumps = 0\n",
    "    length = len(c)\n",
    "\n",
    "    while i < length - 1:\n",
    "        if i < length - 2 and c[i + 2] == 0:\n",
    "            i += 2\n",
    "        else:\n",
    "            i += 1\n",
    "        count_jumps += 1\n",
    "\n",
    "    return count_jumps"
   ]
  },
  {
   "cell_type": "code",
   "execution_count": null,
   "metadata": {
    "hidden": true
   },
   "outputs": [],
   "source": [
    "def jumpingOnClouds(c):\n",
    "    i = count_jumps = 0\n",
    "    length = len(c)\n",
    "\n",
    "    while i < length - 2:\n",
    "        if c[i+2] == 1:\n",
    "            i += 1\n",
    "        else:\n",
    "            i += 2\n",
    "        count_jumps += 1\n",
    "    \n",
    "    if i == length - 2:\n",
    "        count_jumps += 1\n",
    "\n",
    "    return count_jumps"
   ]
  },
  {
   "cell_type": "code",
   "execution_count": 1,
   "metadata": {
    "ExecuteTime": {
     "end_time": "2019-09-17T05:45:32.159561Z",
     "start_time": "2019-09-17T05:43:34.763003Z"
    },
    "hidden": true
   },
   "outputs": [
    {
     "name": "stdout",
     "output_type": "stream",
     "text": [
      "7\n",
      "0 0 1 0 0 1 0\n",
      "4\n"
     ]
    }
   ],
   "source": [
    "#!/bin/python3\n",
    "\n",
    "import sys\n",
    "\n",
    "n = int(input().strip())\n",
    "# print(\"n:\",n)\n",
    "c = [int(c_temp) for c_temp in input().strip().split(' ')]\n",
    "# print(\"c:\",c)\n",
    "res = 0\n",
    "i = 0\n",
    "\n",
    "while i < n-1:\n",
    "    if i+2<n and c[i+2] == 0:\n",
    "        i = i+2\n",
    "        res += 1\n",
    "    else:\n",
    "        i = i+1\n",
    "        res += 1\n",
    "print(res)"
   ]
  },
  {
   "cell_type": "code",
   "execution_count": 131,
   "metadata": {
    "ExecuteTime": {
     "end_time": "2019-09-17T03:52:20.568296Z",
     "start_time": "2019-09-17T03:52:07.545416Z"
    },
    "hidden": true
   },
   "outputs": [
    {
     "name": "stdout",
     "output_type": "stream",
     "text": [
      "9\n",
      "10 20 20 10 10 30 50 10 20\n",
      "8\n"
     ]
    }
   ],
   "source": [
    "#!/bin/python3\n",
    "\n",
    "import sys\n",
    "\n",
    "\n",
    "n = int(input().strip())\n",
    "# print(\"n:\",n)\n",
    "c = [int(c_temp) for c_temp in input().strip().split(' ')]\n",
    "# print(\"c:\",c)\n",
    "res = 0\n",
    "i = 0\n",
    "\n",
    "while i < n-1:\n",
    "    if i+2<n and c[i+2] == 0:\n",
    "        i = i+2\n",
    "        res += 1\n",
    "    else:\n",
    "        i = i+1\n",
    "        res += 1\n",
    "print(res)"
   ]
  },
  {
   "cell_type": "raw",
   "metadata": {
    "hidden": true
   },
   "source": [
    "9\n",
    "10 20 20 10 10 30 50 10 20"
   ]
  },
  {
   "cell_type": "code",
   "execution_count": 118,
   "metadata": {
    "ExecuteTime": {
     "end_time": "2019-08-15T20:11:57.764280Z",
     "start_time": "2019-08-15T20:11:52.089742Z"
    },
    "hidden": true
   },
   "outputs": [
    {
     "name": "stdout",
     "output_type": "stream",
     "text": [
      "6\n",
      "0 0 0 0 1 0\n",
      "c[current+2]: 0\n",
      "c[current+2]: 0\n",
      "3\n"
     ]
    }
   ],
   "source": [
    "n = int(input().strip())\n",
    "c = [int(c_temp) for c_temp in input().strip().split(' ')]\n",
    "\n",
    "steps = 0\n",
    "current = 0\n",
    "while current < n-1:\n",
    "    if current+2<n and c[current+2] == 0:\n",
    "        print(\"c[current+2]:\",c[current+2])\n",
    "        steps +=1\n",
    "        current += 2\n",
    "    else:\n",
    "        steps +=1\n",
    "        current += 1\n",
    "        \n",
    "print(steps)\n"
   ]
  },
  {
   "cell_type": "code",
   "execution_count": null,
   "metadata": {
    "hidden": true
   },
   "outputs": [],
   "source": [
    "n = int(input())\n",
    "c = list(map(int, input().split()))\n",
    "d = [n] * n\n",
    "d[0] = 0\n",
    "if c[1] == 0: d[1] = 1\n",
    "for i in range(2, n):\n",
    "    if c[i] == 0: d[i] = min(d[i - 1], d[i - 2]) + 1\n",
    "print(d[n - 1])b"
   ]
  },
  {
   "cell_type": "markdown",
   "metadata": {
    "heading_collapsed": true,
    "hidden": true
   },
   "source": [
    "## Repeated String"
   ]
  },
  {
   "cell_type": "markdown",
   "metadata": {
    "hidden": true
   },
   "source": [
    "1. Lilah has a string, s, of lowercase English letters that she repeated infinitely many times.\n",
    "\n",
    "* Given an integer, n, find and print the number of letter a's in the first letters of Lilah's infinite string.\n",
    "\n",
    "* For example, if the string s='abcac' and n=10, the substring we consider is abcacabcac, the first  10 characters of her infinite string. There are 4 occurrences of 'a' in the substring.\n",
    "\n",
    "<b><font color = 'purple'>Function Description </font></b>\n",
    "\n",
    "* Complete the repeatedString function in the editor below. It should return an integer representing the number of occurrences of 'a' in the prefix of length 'n' in the infinitely repeating string.\n",
    "\n",
    "<b><font color = 'purple'>repeatedString has the following parameter(s): </font></b>\n",
    "\n",
    "* s: a string to repeat\n",
    "* n: the number of characters to consider\n",
    "\n",
    "<b><font color = 'purple'>Input Format </font></b>\n",
    "\n",
    "* The first line contains a single string, .\n",
    "* The second line contains an integer, .\n",
    "\n",
    "<b><font color = 'purple'>Constraints </font></b><b><font color = 'purple'>Constraints </font></b>\n",
    "\n",
    "* $1 \\le |s| \\le 100$\n",
    "* $1 \\le n \\le 10^{12}$\n",
    "\n",
    "For 25% of the test cases, $n \\le 10^6$.\n",
    "\n",
    "\n",
    "<b><font color = 'purple'>Output Format </font></b>\n",
    "\n",
    "* <span style='background-color: lightyellow'><b><font color = 'purple'>Print a single integer denoting the number of letter a's in the first 'n' letters of the infinite string created by repeating 's' infinitely many times </font></b></span>."
   ]
  },
  {
   "cell_type": "raw",
   "metadata": {
    "hidden": true
   },
   "source": [
    "Sample Input 0\n",
    "aba\n",
    "10\n",
    "\n",
    "Sample Output 0\n",
    "7\n",
    "\n",
    "Explanation 0\n",
    "The first  letters of the infinite string are abaabaabaa. Because there are  a's, we print  on a new line."
   ]
  },
  {
   "cell_type": "raw",
   "metadata": {
    "hidden": true
   },
   "source": [
    "Sample Input 1\n",
    "a\n",
    "1000000000000\n",
    "\n",
    "Sample Output 1\n",
    "1000000000000\n",
    "\n",
    "Explanation 1\n",
    "Because all of the first  letters of the infinite string are a, we print  on a new line."
   ]
  },
  {
   "cell_type": "markdown",
   "metadata": {
    "hidden": true
   },
   "source": [
    "<font color = 'blue'><b>My dumb \n",
    "   Solution:</b></font>"
   ]
  },
  {
   "cell_type": "code",
   "execution_count": 81,
   "metadata": {
    "ExecuteTime": {
     "end_time": "2019-09-19T16:15:30.724433Z",
     "start_time": "2019-09-19T16:15:30.713443Z"
    },
    "hidden": true
   },
   "outputs": [],
   "source": [
    "#!/bin/python3\n",
    "\n",
    "import math\n",
    "import os\n",
    "import random\n",
    "import re\n",
    "import sys\n",
    "\n",
    "# n <- number of characters to consider\n",
    "# Complete the repeatedString function below.\n",
    "\n",
    "import itertools\n",
    "\n",
    "def repeatedString(s: str, n: int) -> int:\n",
    "    letters = tuple(s)\n",
    "    infinite_string = itertools.cycle(letters)\n",
    "    count_a = 0\n",
    "    if \n",
    "    for i in range(n):\n",
    "        if next(infinite_string) == 'a':\n",
    "            count_a += 1\n",
    "    return count_a"
   ]
  },
  {
   "cell_type": "markdown",
   "metadata": {
    "hidden": true
   },
   "source": [
    "<font color = 'blue'><b>My better \n",
    "   Solution:</b></font>"
   ]
  },
  {
   "cell_type": "code",
   "execution_count": 41,
   "metadata": {
    "ExecuteTime": {
     "end_time": "2019-09-19T17:45:06.014863Z",
     "start_time": "2019-09-19T17:45:06.006867Z"
    },
    "hidden": true
   },
   "outputs": [],
   "source": [
    "#!/bin/python3\n",
    "\n",
    "import math\n",
    "import os\n",
    "import random\n",
    "import re\n",
    "import sys\n",
    "\n",
    "# n <- number of characters to consider\n",
    "# Complete the repeatedString function below.\n",
    "\n",
    "def repeatedString(s: str, n: int) -> int:\n",
    "    return (n // len(s)) * s.count('a') + s[:(n % len(s))].count('a')\n",
    "     \n",
    "        "
   ]
  },
  {
   "cell_type": "code",
   "execution_count": 12,
   "metadata": {
    "ExecuteTime": {
     "end_time": "2019-09-19T17:26:59.438322Z",
     "start_time": "2019-09-19T17:26:59.431325Z"
    },
    "hidden": true
   },
   "outputs": [
    {
     "data": {
      "text/plain": [
       "2"
      ]
     },
     "execution_count": 12,
     "metadata": {},
     "output_type": "execute_result"
    }
   ],
   "source": [
    "s = list('aba')\n",
    "s\n",
    "s.count('a')"
   ]
  },
  {
   "cell_type": "raw",
   "metadata": {
    "ExecuteTime": {
     "end_time": "2019-09-19T07:43:33.423565Z",
     "start_time": "2019-09-19T07:43:33.415567Z"
    },
    "hidden": true
   },
   "source": [
    "s = 'aba'\n",
    "letters = tuple(s)\n",
    "letters\n",
    "\n",
    "\n",
    "s = 'aba'\n",
    "t = itertools.cycle(s)\n",
    "for i in range(10):\n",
    "    print(next(t))\n",
    "\n"
   ]
  },
  {
   "cell_type": "code",
   "execution_count": 40,
   "metadata": {
    "ExecuteTime": {
     "end_time": "2019-09-19T17:44:37.488521Z",
     "start_time": "2019-09-19T17:44:37.482526Z"
    },
    "hidden": true
   },
   "outputs": [
    {
     "name": "stdout",
     "output_type": "stream",
     "text": [
      "7\n"
     ]
    }
   ],
   "source": [
    "if __name__ == '__main__':\n",
    "    # fptr = open(os.environ['OUTPUT_PATH'], 'w')\n",
    "    # s = input()\n",
    "    # n = int(input())\n",
    "    \n",
    "    s = 'aba'\n",
    "    n = int(10)\n",
    "#     s = 'a'\n",
    "#     n = int(1000000000000)\n",
    "    \n",
    "    result = repeatedString(s, n); print(result)\n",
    "    # fptr.write(str(result) + '\\n')\n",
    "    # fptr.close()"
   ]
  },
  {
   "cell_type": "code",
   "execution_count": 34,
   "metadata": {
    "ExecuteTime": {
     "end_time": "2019-09-19T17:43:28.983548Z",
     "start_time": "2019-09-19T17:43:28.976553Z"
    },
    "hidden": true
   },
   "outputs": [],
   "source": [
    "#!/bin/python3\n",
    "\n",
    "import math\n",
    "import os\n",
    "import random\n",
    "import re\n",
    "import sys\n",
    "\n",
    "# n <- number of characters to consider\n",
    "# Complete the repeatedString function below.\n",
    "\n",
    "import itertools\n",
    "\n",
    "def repeatedString(s: str, n: int) -> int:\n",
    "    # s, n = input().strip(), int(input().strip())\n",
    "    return s.count(\"a\") * (n // len(s)) + s[:n % len(s)].count(\"a\")"
   ]
  },
  {
   "cell_type": "code",
   "execution_count": 29,
   "metadata": {
    "ExecuteTime": {
     "end_time": "2019-09-19T17:42:34.838639Z",
     "start_time": "2019-09-19T17:42:34.831646Z"
    },
    "hidden": true
   },
   "outputs": [
    {
     "data": {
      "text/plain": [
       "-3"
      ]
     },
     "execution_count": 29,
     "metadata": {},
     "output_type": "execute_result"
    },
    {
     "data": {
      "text/plain": [
       "2"
      ]
     },
     "execution_count": 29,
     "metadata": {},
     "output_type": "execute_result"
    }
   ],
   "source": [
    "-5 // 2\n",
    "5//2"
   ]
  },
  {
   "cell_type": "markdown",
   "metadata": {
    "hidden": true
   },
   "source": [
    "What is the difference between '/' and '//' when used for division?\n",
    "\n",
    "https://stackoverflow.com/questions/183853/what-is-the-difference-between-and-when-used-for-division"
   ]
  },
  {
   "cell_type": "markdown",
   "metadata": {
    "heading_collapsed": true,
    "hidden": true
   },
   "source": [
    "## Counting Valleys"
   ]
  },
  {
   "cell_type": "markdown",
   "metadata": {
    "hidden": true
   },
   "source": [
    "Gary is an avid hiker. He tracks his hikes meticulously, paying close attention to small details like topography. \n",
    "\n",
    "* During his last hike he took exactly ```n``` steps. \n",
    "\n",
    "* For every step he took, he noted if it was an uphill, ```U```, or a downhill, ```D``` step. \n",
    "\n",
    "* Gary's hikes start and end at sea level and each step up or down represents a 1 unit change in altitude. We define the following terms:\n",
    "\n",
    "* A mountain is a sequence of consecutive steps above sea level, starting with a step up from sea level and ending with a step down to sea level.\n",
    "\n",
    "* A valley is a sequence of consecutive steps below sea level, starting with a step down from sea level and ending with a step up to sea level.\n",
    "\n",
    "<b><font color = 'purple'>Given Gary's sequence of up and down steps during his last hike, find and print the number of valleys he walked through </font></b>.\n",
    "\n",
    "For example, if Gary's path is s=[DDUUUUDD], he first enters a valley 2 units deep. Then he climbs out an up onto a mountain  units high. Finally, he returns to sea level and ends his hike.\n",
    "\n",
    "<b><font color = 'purple'>Function Description </font></b>\n",
    "\n",
    "* Complete the countingValleys function in the editor below. <b><font color = 'purple'><span style='background-color: lightyellow'>It must return an integer that denotes the number of valleys Gary traversed</span>. </font></b>\n",
    "\n",
    "<b><font color = 'purple'>countingValleys has the following parameter(s): </font></b>\n",
    "\n",
    "* n: the number of steps Gary takes\n",
    "* s: a string describing his path\n",
    "\n",
    "<b><font color = 'purple'>Input Format </font></b>\n",
    "\n",
    "* The first line contains an integer , the number of steps in Gary's hike.\n",
    "* The second line contains a single string , of  characters that describe his path.\n",
    "\n",
    "Constraints\n",
    "\n",
    "* $2 \\le n \\le 10^6$\n",
    "\n",
    "* $s[i] \\in {UD}$\n",
    "\n",
    "<b><font color = 'purple'>Output Format </font></b>\n",
    "\n",
    "* Print a single integer that denotes the number of valleys Gary walked through during his hike."
   ]
  },
  {
   "cell_type": "raw",
   "metadata": {
    "hidden": true
   },
   "source": [
    "Sample Input\n",
    "\n",
    "8\n",
    "UDDDUDUU\n",
    "\n",
    "Sample Output\n",
    "1\n",
    "\n",
    "Explanation\n",
    "\n",
    "If we represent _ as sea level, a step up as /, and a step down as \\, Gary's hike can be drawn as:\n",
    "\n",
    "_/\\      _\n",
    "   \\    /\n",
    "    \\/\\/\n",
    "He enters and leaves one valley."
   ]
  },
  {
   "cell_type": "code",
   "execution_count": 43,
   "metadata": {
    "ExecuteTime": {
     "end_time": "2019-09-19T23:33:10.192633Z",
     "start_time": "2019-09-19T23:33:10.183638Z"
    },
    "hidden": true
   },
   "outputs": [
    {
     "name": "stdout",
     "output_type": "stream",
     "text": [
      "result:\t 1\n"
     ]
    }
   ],
   "source": [
    "#!/bin/python3\n",
    "\n",
    "import math\n",
    "import os\n",
    "import random\n",
    "import re\n",
    "import sys\n",
    "\n",
    "# Complete the countingValleys function below.\n",
    "def countingValleys(n, s):\n",
    "    valley_count: int = 0\n",
    "    sea_lvl_diff: int = 0\n",
    "    for c in s:\n",
    "        if c == 'U': \n",
    "            sea_lvl_diff += 1\n",
    "        else:\n",
    "            if sea_lvl_diff == 0:\n",
    "                valley_count += 1          \n",
    "            sea_lvl_diff -= 1        \n",
    "    return valley_count\n",
    "    \n",
    "\n",
    "n = 8\n",
    "s = 'UDDDUDUU'\n",
    "\n",
    "result = countingValleys(n, s); print('result:\\t', result)\n",
    "\n",
    "\n",
    "\n"
   ]
  },
  {
   "cell_type": "markdown",
   "metadata": {
    "heading_collapsed": true
   },
   "source": [
    "# Arrays"
   ]
  },
  {
   "cell_type": "markdown",
   "metadata": {
    "heading_collapsed": true,
    "hidden": true
   },
   "source": [
    "## 2D Array"
   ]
  },
  {
   "cell_type": "markdown",
   "metadata": {
    "hidden": true
   },
   "source": [
    "<b>Function Description</b>\n",
    "\n",
    "Complete the function hourglassSum in the editor below. It should return an integer, the maximum hourglass sum in the array.\n",
    "\n",
    "hourglassSum has the following parameter(s):\n",
    "\n",
    "arr: an array of integers"
   ]
  },
  {
   "cell_type": "code",
   "execution_count": 50,
   "metadata": {
    "ExecuteTime": {
     "end_time": "2019-09-26T17:46:46.246745Z",
     "start_time": "2019-09-26T17:46:46.226758Z"
    },
    "collapsed": true,
    "hidden": true
   },
   "outputs": [
    {
     "ename": "KeyError",
     "evalue": "'OUTPUT_PATH'",
     "output_type": "error",
     "traceback": [
      "\u001b[1;31m---------------------------------------------------------------------------\u001b[0m",
      "\u001b[1;31mKeyError\u001b[0m                                  Traceback (most recent call last)",
      "\u001b[1;32m<ipython-input-50-4297101b8980>\u001b[0m in \u001b[0;36m<module>\u001b[1;34m\u001b[0m\n\u001b[0;32m     13\u001b[0m \u001b[1;33m\u001b[0m\u001b[0m\n\u001b[0;32m     14\u001b[0m \u001b[1;32mif\u001b[0m \u001b[0m__name__\u001b[0m \u001b[1;33m==\u001b[0m \u001b[1;34m'__main__'\u001b[0m\u001b[1;33m:\u001b[0m\u001b[1;33m\u001b[0m\u001b[1;33m\u001b[0m\u001b[0m\n\u001b[1;32m---> 15\u001b[1;33m     \u001b[0mfptr\u001b[0m \u001b[1;33m=\u001b[0m \u001b[0mopen\u001b[0m\u001b[1;33m(\u001b[0m\u001b[0mos\u001b[0m\u001b[1;33m.\u001b[0m\u001b[0menviron\u001b[0m\u001b[1;33m[\u001b[0m\u001b[1;34m'OUTPUT_PATH'\u001b[0m\u001b[1;33m]\u001b[0m\u001b[1;33m,\u001b[0m \u001b[1;34m'w'\u001b[0m\u001b[1;33m)\u001b[0m\u001b[1;33m\u001b[0m\u001b[1;33m\u001b[0m\u001b[0m\n\u001b[0m\u001b[0;32m     16\u001b[0m \u001b[1;33m\u001b[0m\u001b[0m\n\u001b[0;32m     17\u001b[0m     \u001b[0marr\u001b[0m \u001b[1;33m=\u001b[0m \u001b[1;33m[\u001b[0m\u001b[1;33m]\u001b[0m\u001b[1;33m\u001b[0m\u001b[1;33m\u001b[0m\u001b[0m\n",
      "\u001b[1;32m~\\Anaconda3\\envs\\SEP2019\\lib\\os.py\u001b[0m in \u001b[0;36m__getitem__\u001b[1;34m(self, key)\u001b[0m\n\u001b[0;32m    676\u001b[0m         \u001b[1;32mexcept\u001b[0m \u001b[0mKeyError\u001b[0m\u001b[1;33m:\u001b[0m\u001b[1;33m\u001b[0m\u001b[1;33m\u001b[0m\u001b[0m\n\u001b[0;32m    677\u001b[0m             \u001b[1;31m# raise KeyError with the original key value\u001b[0m\u001b[1;33m\u001b[0m\u001b[1;33m\u001b[0m\u001b[1;33m\u001b[0m\u001b[0m\n\u001b[1;32m--> 678\u001b[1;33m             \u001b[1;32mraise\u001b[0m \u001b[0mKeyError\u001b[0m\u001b[1;33m(\u001b[0m\u001b[0mkey\u001b[0m\u001b[1;33m)\u001b[0m \u001b[1;32mfrom\u001b[0m \u001b[1;32mNone\u001b[0m\u001b[1;33m\u001b[0m\u001b[1;33m\u001b[0m\u001b[0m\n\u001b[0m\u001b[0;32m    679\u001b[0m         \u001b[1;32mreturn\u001b[0m \u001b[0mself\u001b[0m\u001b[1;33m.\u001b[0m\u001b[0mdecodevalue\u001b[0m\u001b[1;33m(\u001b[0m\u001b[0mvalue\u001b[0m\u001b[1;33m)\u001b[0m\u001b[1;33m\u001b[0m\u001b[1;33m\u001b[0m\u001b[0m\n\u001b[0;32m    680\u001b[0m \u001b[1;33m\u001b[0m\u001b[0m\n",
      "\u001b[1;31mKeyError\u001b[0m: 'OUTPUT_PATH'"
     ]
    }
   ],
   "source": [
    "#!/bin/python3\n",
    "\n",
    "import math\n",
    "import os\n",
    "import random\n",
    "import re\n",
    "import sys\n",
    "\n",
    "OUTPUT_PATH=\"Z:\\\\buffer\"\n",
    "\n",
    "# Complete the hourglassSum function below.\n",
    "# def hourglassSum(arr):\n",
    "    \n",
    "if __name__ == '__main__':\n",
    "    fptr = open(os.environ['OUTPUT_PATH'], 'w')\n",
    "\n",
    "    arr = []\n",
    "\n",
    "    for _ in range(6):\n",
    "        arr.append(list(map(int, input().rstrip().split())))\n",
    "\n",
    "    result = hourglassSum(arr)\n",
    "\n",
    "    fptr.write(str(result) + '\\n')\n",
    "\n",
    "    fptr.close()"
   ]
  },
  {
   "cell_type": "code",
   "execution_count": 58,
   "metadata": {
    "ExecuteTime": {
     "end_time": "2019-09-26T17:56:13.463608Z",
     "start_time": "2019-09-26T17:55:28.982353Z"
    },
    "collapsed": true,
    "hidden": true
   },
   "outputs": [
    {
     "name": "stdout",
     "output_type": "stream",
     "text": [
      "1 1 1 0 0 0\n",
      "0 1 0 0 0 0\n",
      "1 1 1 0 0 0\n",
      "0 0 2 4 4 0\n",
      "0 0 0 2 0 0\n",
      "0 0 1 2 4 0\n",
      "[[1, 1, 1, 0, 0, 0], [0, 1, 0, 0, 0, 0], [1, 1, 1, 0, 0, 0], [0, 0, 2, 4, 4, 0], [0, 0, 0, 2, 0, 0], [0, 0, 1, 2, 4, 0]]\n"
     ]
    }
   ],
   "source": [
    "arr = []\n",
    "for _ in range(6):\n",
    "    arr.append(list(map(int, input().rstrip().split())))\n",
    "    \n",
    "print(arr)\n",
    "        \n"
   ]
  },
  {
   "cell_type": "code",
   "execution_count": 6,
   "metadata": {
    "ExecuteTime": {
     "end_time": "2019-09-27T23:15:52.256970Z",
     "start_time": "2019-09-27T23:15:52.249979Z"
    },
    "hidden": true
   },
   "outputs": [],
   "source": [
    "arr = [[1, 1, 1, 0, 0, 0], \n",
    "        [0, 1, 0, 0, 0, 0], \n",
    "        [1, 1, 1, 0, 0, 0], \n",
    "        [0, 0, 2, 4, 4, 0], \n",
    "        [0, 0, 0, 2, 0, 0], \n",
    "        [0, 0, 1, 2, 4, 0]]"
   ]
  },
  {
   "cell_type": "markdown",
   "metadata": {
    "heading_collapsed": true,
    "hidden": true
   },
   "source": [
    "##### My attempt"
   ]
  },
  {
   "cell_type": "code",
   "execution_count": 7,
   "metadata": {
    "ExecuteTime": {
     "end_time": "2019-09-27T23:15:53.983878Z",
     "start_time": "2019-09-27T23:15:53.962817Z"
    },
    "hidden": true
   },
   "outputs": [
    {
     "data": {
      "text/plain": [
       "19"
      ]
     },
     "execution_count": 7,
     "metadata": {},
     "output_type": "execute_result"
    }
   ],
   "source": [
    "def hourglassSum(arr):\n",
    "    max_sum: int = 7*(-9)\n",
    "    for r in range(4):\n",
    "        for c in range(4):\n",
    "            cur_sum = sum(arr[r][c:c+3]) + \\\n",
    "                arr[r+1][c+1] + \\\n",
    "                sum(arr[r+2][c:c+3]) \n",
    "            max_sum = max(max_sum, cur_sum)\n",
    "    return max_sum\n",
    "\n",
    "hourglassSum(arr)"
   ]
  },
  {
   "cell_type": "markdown",
   "metadata": {
    "heading_collapsed": true,
    "hidden": true
   },
   "source": [
    "## Arrays: Left Rotation"
   ]
  },
  {
   "cell_type": "markdown",
   "metadata": {
    "hidden": true
   },
   "source": [
    "A left rotation operation on an array shifts each of the array's elements ```1``` unit to the left. For example, if 2  left rotations are performed on array ```[1,2,3,4,5]```, then the array would become ```[3,4,5,1,2]```.\n",
    "\n",
    "<font color = 'purple'><span style='background-color: lightyellow'>Given an array ```a``` of ```n``` integers and a number, ```d```, perform ```d``` left rotations on the array. Return the updated array to be printed as a single line of space-separated integers</span> </font>.\n",
    "\n",
    "<b><font color = 'purple'>Function Description </font></b>\n",
    "\n",
    "* Complete the function rotLeft in the editor below. It should return the resulting array of integers.\n",
    "\n",
    "<b>rotLeft has the following parameter(s):</b>\n",
    "\n",
    "* An array of integers ```a```.\n",
    "* An integer ```d```, the number of rotations.\n",
    "\n",
    "<b><font color = 'purple'>Input Format </font></b>\n",
    "\n",
    "* The first line contains two space-separated integers ```n``` and ```d```  , the size of ```a``` and the number of left rotations you must perform.\n",
    "The second line contains  space-separated integers .\n",
    "\n",
    "Constraints\n",
    "\n",
    "* $1 \\le n \\le 10^5$\n",
    "* $1 \\le d \\le n$\n",
    "* $1 \\le a[i] \\le 10^6$\n",
    "\n",
    "\n",
    "\n",
    "Output Format\n",
    "\n",
    "* <font color = 'purple'><span style='background-color: lightyellow'>Print a single line of ```n``` space-separated integers denoting the final state of the array after performing ```d``` left rotations.</span> </font>"
   ]
  },
  {
   "cell_type": "raw",
   "metadata": {
    "hidden": true
   },
   "source": [
    "Sample Input\n",
    "\n",
    "5 4\n",
    "1 2 3 4 5\n",
    "\n",
    "Sample Output\n",
    "\n",
    "5 1 2 3 4"
   ]
  },
  {
   "cell_type": "code",
   "execution_count": 61,
   "metadata": {
    "ExecuteTime": {
     "end_time": "2019-09-20T15:11:52.946425Z",
     "start_time": "2019-09-20T15:11:52.937428Z"
    },
    "hidden": true
   },
   "outputs": [
    {
     "name": "stdout",
     "output_type": "stream",
     "text": [
      "['5', '1', '2', '3', '4']\n"
     ]
    }
   ],
   "source": [
    "def rotLeft(a, d):\n",
    "    result_list = []\n",
    "    for i in range(n):\n",
    "        result_list.append(str(a[(i + d) % n]))\n",
    "    return result_list\n",
    "\n",
    "# 4, 0, 1, 2, 3\n",
    "n = int(5) # size of a\n",
    "d = int(4) # number of left rotations\n",
    "a = [1, 2, 3, 4, 5] \n",
    "result = rotLeft(a, d); print(result)"
   ]
  },
  {
   "cell_type": "code",
   "execution_count": 62,
   "metadata": {
    "ExecuteTime": {
     "end_time": "2019-09-20T15:12:19.471350Z",
     "start_time": "2019-09-20T15:12:19.453363Z"
    },
    "hidden": true,
    "scrolled": true
   },
   "outputs": [
    {
     "data": {
      "text/plain": [
       "1"
      ]
     },
     "execution_count": 62,
     "metadata": {},
     "output_type": "execute_result"
    },
    {
     "data": {
      "text/plain": [
       "2"
      ]
     },
     "execution_count": 62,
     "metadata": {},
     "output_type": "execute_result"
    },
    {
     "data": {
      "text/plain": [
       "3"
      ]
     },
     "execution_count": 62,
     "metadata": {},
     "output_type": "execute_result"
    },
    {
     "data": {
      "text/plain": [
       "4"
      ]
     },
     "execution_count": 62,
     "metadata": {},
     "output_type": "execute_result"
    },
    {
     "data": {
      "text/plain": [
       "0"
      ]
     },
     "execution_count": 62,
     "metadata": {},
     "output_type": "execute_result"
    },
    {
     "data": {
      "text/plain": [
       "1"
      ]
     },
     "execution_count": 62,
     "metadata": {},
     "output_type": "execute_result"
    }
   ],
   "source": [
    "1 % 5\n",
    "2 % 5\n",
    "3 % 5\n",
    "4 % 5\n",
    "5 % 5\n",
    "6 % 5"
   ]
  },
  {
   "cell_type": "markdown",
   "metadata": {
    "heading_collapsed": true,
    "hidden": true
   },
   "source": [
    "## New Year Chaos"
   ]
  },
  {
   "cell_type": "markdown",
   "metadata": {
    "hidden": true
   },
   "source": [
    "<img src='pics/INT2_6.png' alt='Drawing' style='width:625pt'/>"
   ]
  },
  {
   "cell_type": "raw",
   "metadata": {
    "hidden": true
   },
   "source": [
    "Sample Input\n",
    "\n",
    "2 1 5 3 4\n",
    "2 5 1 3 4\n",
    "\n",
    "Sample Output\n",
    "\n",
    "3\n",
    "Too chaotic"
   ]
  },
  {
   "cell_type": "code",
   "execution_count": 21,
   "metadata": {
    "ExecuteTime": {
     "end_time": "2019-09-21T02:02:30.725186Z",
     "start_time": "2019-09-21T02:02:30.711194Z"
    },
    "hidden": true
   },
   "outputs": [
    {
     "name": "stdout",
     "output_type": "stream",
     "text": [
      "7\n"
     ]
    }
   ],
   "source": [
    "#!/bin/python3\n",
    "\n",
    "import math\n",
    "import os\n",
    "import random\n",
    "import re\n",
    "import sys\n",
    "from typing import List\n",
    "\n",
    "# Complete the minimumBribes function below.\n",
    "def minimumBribes(q: List[int]) -> int:\n",
    "    bribe_counter: int = 0\n",
    "    for i,p in enumerate(q):\n",
    "        \n",
    "        if p-(i+1) > 0:\n",
    "            if p-(i+1) > 2:\n",
    "                print(\"Too chaotic\")\n",
    "                return \n",
    "            \n",
    "            \n",
    "        # Anyone who bribed person p cannot get to a better \n",
    "        # position than one spot in front of p's original \n",
    "        # position, so we need to look from one position in front \n",
    "        # of p's original position to one in front of p's current \n",
    "        # position, and see how many of those people in this subset of Q \n",
    "        # contain had an original number large than p's original number.\n",
    "        for adjacent_p in range(max(p-2,0),i):\n",
    "            # -2 to adjust for 0-based indexing\n",
    "            if q[adjacent_p] > p:\n",
    "                bribe_counter += 1\n",
    "    print(bribe_counter)\n",
    "    \n",
    "    \n",
    "    \n",
    "# q = [2, 1, 5, 3, 4]\n",
    "# q = [2, 5, 1, 3, 4]\n",
    "# 8\n",
    "q = [1, 2, 5, 3, 7, 8, 6, 4]\n",
    "\n",
    "minimumBribes(q)"
   ]
  },
  {
   "cell_type": "code",
   "execution_count": 17,
   "metadata": {
    "ExecuteTime": {
     "end_time": "2019-09-21T01:52:26.208580Z",
     "start_time": "2019-09-21T01:52:26.198587Z"
    },
    "hidden": true
   },
   "outputs": [
    {
     "data": {
      "text/plain": [
       "[2, 3, 4, 5]"
      ]
     },
     "execution_count": 17,
     "metadata": {},
     "output_type": "execute_result"
    },
    {
     "data": {
      "text/plain": [
       "[]"
      ]
     },
     "execution_count": 17,
     "metadata": {},
     "output_type": "execute_result"
    }
   ],
   "source": [
    "list(range(2,6))\n",
    "list(range(6,2))"
   ]
  },
  {
   "cell_type": "code",
   "execution_count": 14,
   "metadata": {
    "ExecuteTime": {
     "end_time": "2019-09-20T22:31:38.697892Z",
     "start_time": "2019-09-20T22:31:38.684900Z"
    },
    "hidden": true
   },
   "outputs": [
    {
     "name": "stdout",
     "output_type": "stream",
     "text": [
      "Q[j],P,i:\t 4 2 3\n",
      "Q[j],P,i:\t 6 5 6\n",
      "Q[j],P,i:\t 7 5 6\n",
      "Q[j],P,i:\t 4 3 7\n",
      "Q[j],P,i:\t 6 3 7\n",
      "Q[j],P,i:\t 7 3 7\n",
      "Q[j],P,i:\t 5 3 7\n",
      "7\n"
     ]
    }
   ],
   "source": [
    "#!/bin/python3\n",
    "\n",
    "import math\n",
    "import os\n",
    "import random\n",
    "import re\n",
    "import sys\n",
    "from typing import List\n",
    "\n",
    "# Complete the minimumBribes function below.\n",
    "def minimumBribes(Q):\n",
    "    #\n",
    "    # initialize the number of moves\n",
    "    moves = 0 \n",
    "    #\n",
    "    # decrease Q by 1 to make index-matching more intuitive\n",
    "    # so that our values go from 0 to N-1, just like our\n",
    "    # indices.  (Not necessary but makes it easier to\n",
    "    # understand.)\n",
    "    Q = [P-1 for P in Q]\n",
    "    #\n",
    "    # Loop through each person (P) in the queue (Q)\n",
    "    for i,P in enumerate(Q):\n",
    "        # print('i, P, i-P:\\t', i,P,P-i)\n",
    "        \n",
    "        # i is the current position of P, while P is the\n",
    "        # original position of P.\n",
    "        \n",
    "        # First check if any P is more than two ahead of \n",
    "        # its original position\n",
    "        \n",
    "        if P - i > 2:\n",
    "            print(\"Too chaotic\")\n",
    "            return\n",
    "        \n",
    "        # From here on out, we don't care if P has moved\n",
    "        # forwards, it is better to count how many times\n",
    "        # P has RECEIVED a bribe, by looking at who is\n",
    "        # ahead of P.  P's original position is the value\n",
    "        # of P.\n",
    "        \n",
    "        # Anyone who bribed P cannot get to higher than\n",
    "        # one position in front of P's original position,\n",
    "        # so we need to look from one position in front\n",
    "        # of P's original position to one in front of P's\n",
    "        # current position, and see how many of those \n",
    "        # positions in Q contain a number large than P.\n",
    "        \n",
    "        # In other words we will look from P-1 to i-1,\n",
    "        # which in Python is range(P-1,i-1+1), or simply\n",
    "        # range(P-1,i).  To make sure we don't try an\n",
    "        # index less than zero, replace P-1 with\n",
    "        # max(P-1,0)\n",
    "        \n",
    "        for j in range(max(P-1,0),i):\n",
    "            if Q[j] > P:\n",
    "                print('Q[j],P,i:\\t', Q[j],P,i)\n",
    "                moves += 1\n",
    "    print(moves)\n",
    "    \n",
    "    \n",
    "    \n",
    "# q = [2, 1, 5, 3, 4]\n",
    "# q = [2, 5, 1, 3, 4]\n",
    "# 8\n",
    "q = [1, 2, 5, 3, 7, 8, 6, 4]\n",
    "\n",
    "minimumBribes(q)"
   ]
  },
  {
   "cell_type": "code",
   "execution_count": null,
   "metadata": {
    "ExecuteTime": {
     "start_time": "2019-09-20T20:22:33.697Z"
    },
    "hidden": true
   },
   "outputs": [],
   "source": [
    "if __name__ == '__main__':\n",
    "    t = int(input())\n",
    "\n",
    "    for t_itr in range(t):\n",
    "        n = int(input())\n",
    "\n",
    "        q = list(map(int, input().rstrip().split()))\n",
    "\n",
    "        minimumBribes(q)"
   ]
  },
  {
   "cell_type": "markdown",
   "metadata": {
    "heading_collapsed": true,
    "hidden": true
   },
   "source": [
    "## Minimum swaps 2"
   ]
  },
  {
   "cell_type": "raw",
   "metadata": {
    "hidden": true
   },
   "source": [
    "Sample input\n",
    "\n",
    "2 3 4 1 5\n",
    "1 3 5 2 4 6 7\n",
    "\n",
    "Sample Output\n",
    "3\n",
    "3"
   ]
  },
  {
   "cell_type": "markdown",
   "metadata": {
    "heading_collapsed": true,
    "hidden": true
   },
   "source": [
    "##### First attempt"
   ]
  },
  {
   "cell_type": "code",
   "execution_count": 326,
   "metadata": {
    "ExecuteTime": {
     "end_time": "2019-09-23T06:55:21.050884Z",
     "start_time": "2019-09-23T06:55:21.037893Z"
    },
    "hidden": true
   },
   "outputs": [
    {
     "name": "stdout",
     "output_type": "stream",
     "text": [
      "minimumSwaps(arr):\t 3\n"
     ]
    }
   ],
   "source": [
    "def minimumSwaps(arr):\n",
    "    swap_counter = 0\n",
    "    for i,e in enumerate(arr):\n",
    "        if e != (i+1):\n",
    "            arr[arr.index(i+1)] = e\n",
    "            arr[i] = i+1\n",
    "            swap_counter += 1\n",
    "        else:\n",
    "            pass\n",
    "    return swap_counter\n",
    "            \n",
    "        \n",
    "        \n",
    "    return arr\n",
    "\n",
    "# test_case = '2 3 4 1 5'\n",
    "test_case = '1 3 5 2 4 6 7'\n",
    "\n",
    "arr = list(map(int, test_case.rstrip().split()))\n",
    "print('minimumSwaps(arr):\\t', minimumSwaps(arr))\n"
   ]
  },
  {
   "cell_type": "markdown",
   "metadata": {
    "heading_collapsed": true,
    "hidden": true
   },
   "source": [
    "##### <font color = 'red'>Should have used a HASH TABLE (DICT) - better soln!</font>"
   ]
  },
  {
   "cell_type": "code",
   "execution_count": 396,
   "metadata": {
    "ExecuteTime": {
     "end_time": "2019-09-24T12:11:50.496552Z",
     "start_time": "2019-09-24T12:11:50.485562Z"
    },
    "hidden": true
   },
   "outputs": [
    {
     "name": "stdout",
     "output_type": "stream",
     "text": [
      "minimumSwaps(arr):\t 3\n"
     ]
    }
   ],
   "source": [
    "def minimumSwaps(arr):\n",
    "    swap_counter = 0\n",
    "    arr = [(i-1) for i in arr]\n",
    "    pos_dict = {e: i for i, e in enumerate(arr)}\n",
    "    # i-1 to reindex array to start from 0 for convenience\n",
    "    # so I can use enumerate index as reference index \n",
    "\n",
    "    for i,e in enumerate(arr):\n",
    "        if e != i:\n",
    "            arr[pos_dict[i]],arr[i] = e,i \n",
    "            # update array\n",
    "            pos_dict[e],pos_dict[i] = pos_dict[i], i \n",
    "            # update reference dictionary\n",
    "            swap_counter += 1 \n",
    "\n",
    "    return swap_counter\n",
    "\n",
    "test_case = '2 3 4 1 5'\n",
    "# test_case = '1 3 5 2 4 6 7'\n",
    "\n",
    "arr = list(map(int, test_case.rstrip().split()))\n",
    "print('minimumSwaps(arr):\\t', minimumSwaps(arr))\n",
    "\n",
    "# need to update dictionary\n",
    "# before i=1, arr has been changed which screws up the swap "
   ]
  },
  {
   "cell_type": "code",
   "execution_count": null,
   "metadata": {
    "hidden": true
   },
   "outputs": [],
   "source": []
  },
  {
   "cell_type": "code",
   "execution_count": null,
   "metadata": {
    "hidden": true
   },
   "outputs": [],
   "source": []
  },
  {
   "cell_type": "code",
   "execution_count": 317,
   "metadata": {
    "ExecuteTime": {
     "end_time": "2019-09-23T06:18:11.085376Z",
     "start_time": "2019-09-23T06:18:11.077380Z"
    },
    "hidden": true
   },
   "outputs": [
    {
     "data": {
      "text/plain": [
       "3"
      ]
     },
     "execution_count": 317,
     "metadata": {},
     "output_type": "execute_result"
    }
   ],
   "source": [
    "test_case = '2 3 4 1 5'\n",
    "arr = list(map(int, test_case.rstrip().split()))\n",
    "arr.index(1)\n"
   ]
  },
  {
   "cell_type": "markdown",
   "metadata": {
    "hidden": true
   },
   "source": [
    "## Array Manipulation"
   ]
  },
  {
   "cell_type": "markdown",
   "metadata": {
    "hidden": true
   },
   "source": [
    "##### Instructions"
   ]
  },
  {
   "cell_type": "markdown",
   "metadata": {
    "hidden": true
   },
   "source": [
    "<img src='pics/INT6_8.png' alt='Drawing' style='width:625pt'/>"
   ]
  },
  {
   "cell_type": "markdown",
   "metadata": {
    "hidden": true
   },
   "source": [
    "**Function Description**\n",
    "\n",
    "Complete the function _arrayManipulation_ in the editor below.  It must return an integer, the maximum value in the resulting array.  \n",
    "\n",
    "arrayManipulation has the following parameters:\n",
    "\n",
    "* _n_ - the number of elements in your array  \n",
    "* _queries_ - a two dimensional array of queries where each _queries[i]_ contains three integers, _a_, _b_, and _k_.  \n",
    "\n",
    "**Input Format**\n",
    "\n",
    "<svg style=\"display: none;\"><defs id=\"MathJax_SVG_glyphs\"></defs></svg>\n",
    "\n",
    "The first line contains two space-separated integers n<svg xmlns:xlink=\"http://www.w3.org/1999/xlink\" width=\"1.395ex\" height=\"1.676ex\" style=\"vertical-align: -0.338ex;\" viewBox=\"0 -576.1 600.5 721.6\" role=\"img\" focusable=\"false\"><g stroke=\"currentColor\" fill=\"currentColor\" stroke-width=\"0\" transform=\"matrix(1 0 0 -1 0 0)\"><path stroke-width=\"1\" d=\"M21 287Q22 293 24 303T36 341T56 388T89 425T135 442Q171 442 195 424T225 390T231 369Q231 367 232 367L243 378Q304 442 382 442Q436 442 469 415T503 336T465 179T427 52Q427 26 444 26Q450 26 453 27Q482 32 505 65T540 145Q542 153 560 153Q580 153 580 145Q580 144 576 130Q568 101 554 73T508 17T439 -10Q392 -10 371 17T350 73Q350 92 386 193T423 345Q423 404 379 404H374Q288 404 229 303L222 291L189 157Q156 26 151 16Q138 -11 108 -11Q95 -11 87 -5T76 7T74 17Q74 30 112 180T152 343Q153 348 153 366Q153 405 129 405Q91 405 66 305Q60 285 60 284Q58 278 41 278H27Q21 284 21 287Z\"></path></g></svg> and <svg xmlns:xlink=\"http://www.w3.org/1999/xlink\" width=\"2.04ex\" height=\"1.676ex\" style=\"vertical-align: -0.338ex;\" viewBox=\"0 -576.1 878.5 721.6\" role=\"img\" focusable=\"false\"><g stroke=\"currentColor\" fill=\"currentColor\" stroke-width=\"0\" transform=\"matrix(1 0 0 -1 0 0)\"><path stroke-width=\"1\" d=\"M21 287Q22 293 24 303T36 341T56 388T88 425T132 442T175 435T205 417T221 395T229 376L231 369Q231 367 232 367L243 378Q303 442 384 442Q401 442 415 440T441 433T460 423T475 411T485 398T493 385T497 373T500 364T502 357L510 367Q573 442 659 442Q713 442 746 415T780 336Q780 285 742 178T704 50Q705 36 709 31T724 26Q752 26 776 56T815 138Q818 149 821 151T837 153Q857 153 857 145Q857 144 853 130Q845 101 831 73T785 17T716 -10Q669 -10 648 17T627 73Q627 92 663 193T700 345Q700 404 656 404H651Q565 404 506 303L499 291L466 157Q433 26 428 16Q415 -11 385 -11Q372 -11 364 -4T353 8T350 18Q350 29 384 161L420 307Q423 322 423 345Q423 404 379 404H374Q288 404 229 303L222 291L189 157Q156 26 151 16Q138 -11 108 -11Q95 -11 87 -5T76 7T74 17Q74 30 112 181Q151 335 151 342Q154 357 154 369Q154 405 129 405Q107 405 92 377T69 316T57 280Q55 278 41 278H27Q21 284 21 287Z\"></path></g></svg> m, the size of the array and the number of operations.   \n",
    "Each of the next $m$ <svg xmlns:xlink=\"http://www.w3.org/1999/xlink\" width=\"2.04ex\" height=\"1.676ex\" style=\"vertical-align: -0.338ex;\" viewBox=\"0 -576.1 878.5 721.6\" role=\"img\" focusable=\"false\"><g stroke=\"currentColor\" fill=\"currentColor\" stroke-width=\"0\" transform=\"matrix(1 0 0 -1 0 0)\"><path stroke-width=\"1\" d=\"M21 287Q22 293 24 303T36 341T56 388T88 425T132 442T175 435T205 417T221 395T229 376L231 369Q231 367 232 367L243 378Q303 442 384 442Q401 442 415 440T441 433T460 423T475 411T485 398T493 385T497 373T500 364T502 357L510 367Q573 442 659 442Q713 442 746 415T780 336Q780 285 742 178T704 50Q705 36 709 31T724 26Q752 26 776 56T815 138Q818 149 821 151T837 153Q857 153 857 145Q857 144 853 130Q845 101 831 73T785 17T716 -10Q669 -10 648 17T627 73Q627 92 663 193T700 345Q700 404 656 404H651Q565 404 506 303L499 291L466 157Q433 26 428 16Q415 -11 385 -11Q372 -11 364 -4T353 8T350 18Q350 29 384 161L420 307Q423 322 423 345Q423 404 379 404H374Q288 404 229 303L222 291L189 157Q156 26 151 16Q138 -11 108 -11Q95 -11 87 -5T76 7T74 17Q74 30 112 181Q151 335 151 342Q154 357 154 369Q154 405 129 405Q107 405 92 377T69 316T57 280Q55 278 41 278H27Q21 284 21 287Z\"></path></g></svg> lines contains three space-separated integers <svg xmlns:xlink=\"http://www.w3.org/1999/xlink\" width=\"1.23ex\" height=\"1.676ex\" style=\"vertical-align: -0.338ex;\" viewBox=\"0 -576.1 529.5 721.6\" role=\"img\" focusable=\"false\"><g stroke=\"currentColor\" fill=\"currentColor\" stroke-width=\"0\" transform=\"matrix(1 0 0 -1 0 0)\"><path stroke-width=\"1\" d=\"M33 157Q33 258 109 349T280 441Q331 441 370 392Q386 422 416 422Q429 422 439 414T449 394Q449 381 412 234T374 68Q374 43 381 35T402 26Q411 27 422 35Q443 55 463 131Q469 151 473 152Q475 153 483 153H487Q506 153 506 144Q506 138 501 117T481 63T449 13Q436 0 417 -8Q409 -10 393 -10Q359 -10 336 5T306 36L300 51Q299 52 296 50Q294 48 292 46Q233 -10 172 -10Q117 -10 75 30T33 157ZM351 328Q351 334 346 350T323 385T277 405Q242 405 210 374T160 293Q131 214 119 129Q119 126 119 118T118 106Q118 61 136 44T179 26Q217 26 254 59T298 110Q300 114 325 217T351 328Z\"></path></g></svg> <svg xmlns:xlink=\"http://www.w3.org/1999/xlink\" width=\"0.998ex\" height=\"2.176ex\" style=\"vertical-align: -0.338ex;\" viewBox=\"0 -791.3 429.5 936.9\" role=\"img\" focusable=\"false\"><g stroke=\"currentColor\" fill=\"currentColor\" stroke-width=\"0\" transform=\"matrix(1 0 0 -1 0 0)\"><path stroke-width=\"1\" d=\"M73 647Q73 657 77 670T89 683Q90 683 161 688T234 694Q246 694 246 685T212 542Q204 508 195 472T180 418L176 399Q176 396 182 402Q231 442 283 442Q345 442 383 396T422 280Q422 169 343 79T173 -11Q123 -11 82 27T40 150V159Q40 180 48 217T97 414Q147 611 147 623T109 637Q104 637 101 637H96Q86 637 83 637T76 640T73 647ZM336 325V331Q336 405 275 405Q258 405 240 397T207 376T181 352T163 330L157 322L136 236Q114 150 114 114Q114 66 138 42Q154 26 178 26Q211 26 245 58Q270 81 285 114T318 219Q336 291 336 325Z\"></path></g></svg> a, b and k <svg xmlns:xlink=\"http://www.w3.org/1999/xlink\" width=\"1.211ex\" height=\"2.176ex\" style=\"vertical-align: -0.338ex;\" viewBox=\"0 -791.3 521.5 936.9\" role=\"img\" focusable=\"false\"><g stroke=\"currentColor\" fill=\"currentColor\" stroke-width=\"0\" transform=\"matrix(1 0 0 -1 0 0)\"><path stroke-width=\"1\" d=\"M121 647Q121 657 125 670T137 683Q138 683 209 688T282 694Q294 694 294 686Q294 679 244 477Q194 279 194 272Q213 282 223 291Q247 309 292 354T362 415Q402 442 438 442Q468 442 485 423T503 369Q503 344 496 327T477 302T456 291T438 288Q418 288 406 299T394 328Q394 353 410 369T442 390L458 393Q446 405 434 405H430Q398 402 367 380T294 316T228 255Q230 254 243 252T267 246T293 238T320 224T342 206T359 180T365 147Q365 130 360 106T354 66Q354 26 381 26Q429 26 459 145Q461 153 479 153H483Q499 153 499 144Q499 139 496 130Q455 -11 378 -11Q333 -11 305 15T277 90Q277 108 280 121T283 145Q283 167 269 183T234 206T200 217T182 220H180Q168 178 159 139T145 81T136 44T129 20T122 7T111 -2Q98 -11 83 -11Q66 -11 57 -1T48 16Q48 26 85 176T158 471L195 616Q196 629 188 632T149 637H144Q134 637 131 637T124 640T121 647Z\"></path></g></svg>, the left index, right index and summand."
   ]
  },
  {
   "cell_type": "markdown",
   "metadata": {
    "hidden": true
   },
   "source": []
  },
  {
   "cell_type": "markdown",
   "metadata": {
    "hidden": true
   },
   "source": [
    "**Constraints**\n",
    "\n",
    "<img src='pics/INT6_6.png' alt='Drawing' style='width:125pt'/>\n",
    "\n",
    "\n",
    "**Output Format**\n",
    "\n",
    "<svg style=\"display: none;\"><defs id=\"MathJax_SVG_glyphs\"></defs></svg>\n",
    "\n",
    "Return the integer maximum value in the finished array."
   ]
  },
  {
   "cell_type": "markdown",
   "metadata": {
    "hidden": true
   },
   "source": [
    "##### Attempts"
   ]
  },
  {
   "cell_type": "code",
   "execution_count": 26,
   "metadata": {
    "ExecuteTime": {
     "end_time": "2019-11-26T20:41:33.557621Z",
     "start_time": "2019-11-26T20:41:33.546631Z"
    },
    "hidden": true
   },
   "outputs": [
    {
     "name": "stdout",
     "output_type": "stream",
     "text": [
      "arrayManipulation(n, queries):\t 200\n"
     ]
    }
   ],
   "source": [
    "# 1st attempt:\n",
    "# time: O(n*m)\n",
    "\n",
    "# Complete the arrayManipulation function below.\n",
    "def arrayManipulation(n: int, queries: List[int]) -> int:\n",
    "    max_val: int = 0\n",
    "\n",
    "    # (1) init array of zeroes \n",
    "    b_arr: list = n * [0]\n",
    "    \n",
    "    # loop to  update array and max_val\n",
    "    for _,q in enumerate(queries):\n",
    "        for i,e in enumerate(b_arr[q[0]-1:q[1]]):\n",
    "            \n",
    "            # (2) perform operations\n",
    "            b_arr[q[0]+i-1] += q[2]\n",
    "    \n",
    "            # (3) update max_val\n",
    "            if b_arr[q[0]-1+i] > max_val:\n",
    "                max_val = b_arr[q[0]-1+i]\n",
    "    \n",
    "    return max_val\n",
    "\n",
    "n, queries = 5, [[1, 2, 100], [2, 5, 100], [3, 4, 100]] \n",
    "print('arrayManipulation(n, queries):\\t', arrayManipulation(n, queries))"
   ]
  },
  {
   "cell_type": "code",
   "execution_count": 2,
   "metadata": {
    "ExecuteTime": {
     "end_time": "2019-11-28T01:54:39.487447Z",
     "start_time": "2019-11-28T01:54:39.464463Z"
    },
    "hidden": true
   },
   "outputs": [
    {
     "ename": "IndexError",
     "evalue": "list index out of range",
     "output_type": "error",
     "traceback": [
      "\u001b[1;31m---------------------------------------------------------------------------\u001b[0m",
      "\u001b[1;31mIndexError\u001b[0m                                Traceback (most recent call last)",
      "\u001b[1;32m<ipython-input-2-ebf72d5703cd>\u001b[0m in \u001b[0;36m<module>\u001b[1;34m\u001b[0m\n\u001b[0;32m     34\u001b[0m \u001b[1;33m\u001b[0m\u001b[0m\n\u001b[0;32m     35\u001b[0m \u001b[0mn\u001b[0m\u001b[1;33m,\u001b[0m \u001b[0mqueries\u001b[0m \u001b[1;33m=\u001b[0m \u001b[1;36m5\u001b[0m\u001b[1;33m,\u001b[0m \u001b[1;33m[\u001b[0m\u001b[1;33m[\u001b[0m\u001b[1;36m1\u001b[0m\u001b[1;33m,\u001b[0m \u001b[1;36m2\u001b[0m\u001b[1;33m,\u001b[0m \u001b[1;36m100\u001b[0m\u001b[1;33m]\u001b[0m\u001b[1;33m,\u001b[0m \u001b[1;33m[\u001b[0m\u001b[1;36m2\u001b[0m\u001b[1;33m,\u001b[0m \u001b[1;36m5\u001b[0m\u001b[1;33m,\u001b[0m \u001b[1;36m100\u001b[0m\u001b[1;33m]\u001b[0m\u001b[1;33m,\u001b[0m \u001b[1;33m[\u001b[0m\u001b[1;36m3\u001b[0m\u001b[1;33m,\u001b[0m \u001b[1;36m4\u001b[0m\u001b[1;33m,\u001b[0m \u001b[1;36m100\u001b[0m\u001b[1;33m]\u001b[0m\u001b[1;33m]\u001b[0m\u001b[1;33m\u001b[0m\u001b[1;33m\u001b[0m\u001b[0m\n\u001b[1;32m---> 36\u001b[1;33m \u001b[0mprint\u001b[0m\u001b[1;33m(\u001b[0m\u001b[1;34m'arrayManipulation(n, queries):\\t'\u001b[0m\u001b[1;33m,\u001b[0m \u001b[0marrayManipulation\u001b[0m\u001b[1;33m(\u001b[0m\u001b[0mn\u001b[0m\u001b[1;33m,\u001b[0m \u001b[0mqueries\u001b[0m\u001b[1;33m)\u001b[0m\u001b[1;33m)\u001b[0m\u001b[1;33m\u001b[0m\u001b[1;33m\u001b[0m\u001b[0m\n\u001b[0m",
      "\u001b[1;32m<ipython-input-2-ebf72d5703cd>\u001b[0m in \u001b[0;36marrayManipulation\u001b[1;34m(N, queries)\u001b[0m\n\u001b[0;32m     22\u001b[0m \u001b[1;33m\u001b[0m\u001b[0m\n\u001b[0;32m     23\u001b[0m         \u001b[1;31m# if b < N:\u001b[0m\u001b[1;33m\u001b[0m\u001b[1;33m\u001b[0m\u001b[1;33m\u001b[0m\u001b[0m\n\u001b[1;32m---> 24\u001b[1;33m         \u001b[0mx\u001b[0m\u001b[1;33m[\u001b[0m\u001b[0mb\u001b[0m\u001b[1;33m]\u001b[0m \u001b[1;33m-=\u001b[0m \u001b[0mk\u001b[0m\u001b[1;33m\u001b[0m\u001b[1;33m\u001b[0m\u001b[0m\n\u001b[0m\u001b[0;32m     25\u001b[0m         \u001b[1;31m# this is more a english comprehension problem\u001b[0m\u001b[1;33m\u001b[0m\u001b[1;33m\u001b[0m\u001b[1;33m\u001b[0m\u001b[0m\n\u001b[0;32m     26\u001b[0m         \u001b[1;31m# remember we converted the 1-based inclusive endpoint\u001b[0m\u001b[1;33m\u001b[0m\u001b[1;33m\u001b[0m\u001b[1;33m\u001b[0m\u001b[0m\n",
      "\u001b[1;31mIndexError\u001b[0m: list index out of range"
     ]
    }
   ],
   "source": [
    "#!/usr/bin/env python\n",
    "# good soln\n",
    "from typing import List \n",
    "# Set, Dict, Tuple, Optional, Union, Iterator\n",
    "\n",
    "import itertools, sys\n",
    "\n",
    "# 1st attempt:\n",
    "# time: O(n*m)\n",
    "\n",
    "# Complete the arrayManipulation function below.\n",
    "def arrayManipulation(N: int, queries: List[int]) -> int:\n",
    "    \n",
    "    x = [0] * N\n",
    "\n",
    "    # alternate way to construct the tgt array\n",
    "    for q in queries:\n",
    "        \n",
    "        a, b, k = q[0], q[1], q[2] \n",
    "        \n",
    "        x[a-1] += k\n",
    "        \n",
    "        # if b < N: \n",
    "        x[b] -= k\n",
    "        # this is more a english comprehension problem\n",
    "        # remember we converted the 1-based inclusive endpoint\n",
    "        # array index slice [a,b] to a 0-based endpoint *exclusive with [a-1, b]. \n",
    "        # *so the b doesn't need to be tranformed with a -1 operation\n",
    "        # If b = N, you'll get a index out of range for x[b] bc len(x) = n.\n",
    "        \n",
    "\n",
    "    return max(itertools.accumulate(x))\n",
    "    \n",
    "n, queries = 5, [[1, 2, 100], [2, 5, 100], [3, 4, 100]] \n",
    "print('arrayManipulation(n, queries):\\t', arrayManipulation(n, queries))"
   ]
  },
  {
   "cell_type": "markdown",
   "metadata": {
    "hidden": true
   },
   "source": [
    "<img src='pics/INT6_8.png' alt='Drawing' style='width:625pt'/>"
   ]
  },
  {
   "cell_type": "code",
   "execution_count": 28,
   "metadata": {
    "ExecuteTime": {
     "end_time": "2019-11-26T21:53:55.270008Z",
     "start_time": "2019-11-26T21:53:55.256015Z"
    },
    "hidden": true
   },
   "outputs": [
    {
     "name": "stdout",
     "output_type": "stream",
     "text": [
      "arrayManipulation(n, queries):\t 200\n"
     ]
    }
   ],
   "source": [
    "# copied soln\n",
    "# n,queries:     5 [[1, 2, 100], [2, 5, 100], [3, 4, 100]]\n",
    "#!/bin/python3\n",
    "\n",
    "import math\n",
    "import os\n",
    "import random\n",
    "import re\n",
    "import sys\n",
    "from typing import List \n",
    "\n",
    "# Complete the arrayManipulation function below.\n",
    "def arrayManipulation(n, queries):\n",
    "    array = [0] * (n + 1)\n",
    "    \n",
    "    for query in queries: \n",
    "        a = query[0] - 1  # start: -1 to convert to 0-based index\n",
    "        b = query[1]      # end\n",
    "        k = query[2]      # summand\n",
    "        array[a] += k     \n",
    "        array[b] -= k\n",
    "        \n",
    "    max_value, running_count = 0, 0\n",
    "    \n",
    "    for i in array:\n",
    "        running_count += i\n",
    "        if running_count > max_value: max_value = running_count\n",
    "            \n",
    "    return max_value\n",
    "\n",
    "n, queries = 5, [[1, 2, 100], \n",
    "                 [2, 5, 100], \n",
    "                 [3, 4, 100]] \n",
    "print('arrayManipulation(n, queries):\\t', arrayManipulation(n, queries))\n"
   ]
  },
  {
   "cell_type": "code",
   "execution_count": 16,
   "metadata": {
    "ExecuteTime": {
     "end_time": "2019-11-26T21:53:55.270008Z",
     "start_time": "2019-11-26T21:53:55.256015Z"
    },
    "collapsed": true,
    "hidden": true
   },
   "outputs": [
    {
     "name": "stdout",
     "output_type": "stream",
     "text": [
      "array:\t [100, 0, -100, 0, 0]\n"
     ]
    },
    {
     "ename": "IndexError",
     "evalue": "list index out of range",
     "output_type": "error",
     "traceback": [
      "\u001b[1;31m---------------------------------------------------------------------------\u001b[0m",
      "\u001b[1;31mIndexError\u001b[0m                                Traceback (most recent call last)",
      "\u001b[1;32m<ipython-input-16-78a5fa109fa8>\u001b[0m in \u001b[0;36m<module>\u001b[1;34m\u001b[0m\n\u001b[0;32m     36\u001b[0m                  \u001b[1;33m[\u001b[0m\u001b[1;36m2\u001b[0m\u001b[1;33m,\u001b[0m \u001b[1;36m5\u001b[0m\u001b[1;33m,\u001b[0m \u001b[1;36m100\u001b[0m\u001b[1;33m]\u001b[0m\u001b[1;33m,\u001b[0m\u001b[1;33m\u001b[0m\u001b[1;33m\u001b[0m\u001b[0m\n\u001b[0;32m     37\u001b[0m                  [3, 4, 100]] \n\u001b[1;32m---> 38\u001b[1;33m \u001b[0mprint\u001b[0m\u001b[1;33m(\u001b[0m\u001b[1;34m'arrayManipulation(n, queries):\\t'\u001b[0m\u001b[1;33m,\u001b[0m \u001b[0marrayManipulation\u001b[0m\u001b[1;33m(\u001b[0m\u001b[0mn\u001b[0m\u001b[1;33m,\u001b[0m \u001b[0mqueries\u001b[0m\u001b[1;33m)\u001b[0m\u001b[1;33m)\u001b[0m\u001b[1;33m\u001b[0m\u001b[1;33m\u001b[0m\u001b[0m\n\u001b[0m",
      "\u001b[1;32m<ipython-input-16-78a5fa109fa8>\u001b[0m in \u001b[0;36marrayManipulation\u001b[1;34m(n, queries)\u001b[0m\n\u001b[0;32m     19\u001b[0m         \u001b[0mk\u001b[0m \u001b[1;33m=\u001b[0m \u001b[0mquery\u001b[0m\u001b[1;33m[\u001b[0m\u001b[1;36m2\u001b[0m\u001b[1;33m]\u001b[0m      \u001b[1;31m# summand\u001b[0m\u001b[1;33m\u001b[0m\u001b[1;33m\u001b[0m\u001b[0m\n\u001b[0;32m     20\u001b[0m         \u001b[0marray\u001b[0m\u001b[1;33m[\u001b[0m\u001b[0ma\u001b[0m\u001b[1;33m]\u001b[0m \u001b[1;33m+=\u001b[0m \u001b[0mk\u001b[0m\u001b[1;33m\u001b[0m\u001b[1;33m\u001b[0m\u001b[0m\n\u001b[1;32m---> 21\u001b[1;33m         \u001b[0marray\u001b[0m\u001b[1;33m[\u001b[0m\u001b[0mb\u001b[0m\u001b[1;33m]\u001b[0m \u001b[1;33m-=\u001b[0m \u001b[0mk\u001b[0m\u001b[1;33m\u001b[0m\u001b[1;33m\u001b[0m\u001b[0m\n\u001b[0m\u001b[0;32m     22\u001b[0m         \u001b[0mprint\u001b[0m\u001b[1;33m(\u001b[0m\u001b[1;34m'array:\\t'\u001b[0m\u001b[1;33m,\u001b[0m \u001b[0marray\u001b[0m\u001b[1;33m)\u001b[0m\u001b[1;33m\u001b[0m\u001b[1;33m\u001b[0m\u001b[0m\n\u001b[0;32m     23\u001b[0m \u001b[1;33m\u001b[0m\u001b[0m\n",
      "\u001b[1;31mIndexError\u001b[0m: list index out of range"
     ]
    }
   ],
   "source": [
    "# copied soln\n",
    "# n,queries:     5 [[1, 2, 100], [2, 5, 100], [3, 4, 100]]\n",
    "#!/bin/python3\n",
    "\n",
    "import math\n",
    "import os\n",
    "import random\n",
    "import re\n",
    "import sys\n",
    "from typing import List \n",
    "\n",
    "# Complete the arrayManipulation function below.\n",
    "def arrayManipulation(n, queries):\n",
    "    array = [0] * n\n",
    "    \n",
    "    for query in queries: \n",
    "        a = query[0] - 1  # start: -1 to convert to 0-based index\n",
    "        b = query[1]      # end\n",
    "        k = query[2]      # summand\n",
    "        array[a] += k     \n",
    "        array[b] -= k\n",
    "        print('array:\\t', array)\n",
    "        \n",
    "    max_value, running_count = 0, 0\n",
    "    \n",
    "    for i in array:\n",
    "        print(\"i:\",i,\"-\"*60)\n",
    "        running_count += i\n",
    "        print('1max_value:\\t', max_value)\n",
    "        \n",
    "        if running_count > max_value:\n",
    "            max_value = running_count\n",
    "            \n",
    "        print('2max_value:\\t', max_value)\n",
    "    return max_value\n",
    "\n",
    "n, queries = 5, [[1, 2, 100], \n",
    "                 [2, 5, 100], \n",
    "                 [3, 4, 100]] \n",
    "print('arrayManipulation(n, queries):\\t', arrayManipulation(n, queries))\n"
   ]
  },
  {
   "cell_type": "markdown",
   "metadata": {
    "hidden": true
   },
   "source": [
    "The idea here is to not actually access every element the query would modify as it takes up too much time. First we build an array of n+1 0's. For each query, we will add k to the value at index a - 1 (to convert to 0 indexed array), and subtract the value of k from the value at index b (this is the same as b + 1 if the array were 0 indexed which is what we want). Thus the non-zero values of the array represent how the 0s between them differ from what comes before and after.\n",
    "\n",
    "For example if we start with this array: [0, 0, 0, 0, 0]\n",
    "\n",
    "And our query is: (a=1, b=3, k=100)\n",
    "\n",
    "We would modify the array to the following: [100, 0, 0, -100, 0].\n",
    "\n",
    "The 100 tells us that its value and every value that comes after it is 100 greater than what comes before (in this case nothing, so all these values are 100). The -100, tells us that it and every value that comes after it are 100 LESS than what came before. This way we only have to perform 2 operations in O(1) time for each query, regardless of how many values it modifies.\n",
    "\n",
    "Then to find the max value, we can simply initialize two counter variables to 0 and run through the entire array, adding each element to one of the counters and then checking to see if the number is the largest number we've seen. Then we simply return the counter with the max value we've seen. Voila!\n",
    "\n",
    "Thanks to other commenters from whom I stole the idea. I just wanted to provide a really well explaned, high-level solution for those that are beginner programmers."
   ]
  },
  {
   "cell_type": "raw",
   "metadata": {
    "hidden": true
   },
   "source": [
    "Here's a hint if you're struggling to reduce complexity. Using the example from the problem statement:\n",
    "\n",
    "5 3\n",
    "1 2 100\n",
    "2 5 100\n",
    "3 4 100\n",
    "\n",
    "Imagine the final array ([100, 200, 200, 200, 100]) like this:\n",
    "\n",
    "300 \n",
    "200    --------- \n",
    "100 ---         ---\n",
    "000\n",
    "     |  |  |  |  |\n",
    "     1  2  3  4  5\n",
    "Think about how you can store this without updating every element for each of the given ranges."
   ]
  },
  {
   "cell_type": "code",
   "execution_count": 15,
   "metadata": {
    "ExecuteTime": {
     "end_time": "2019-11-26T23:50:56.484032Z",
     "start_time": "2019-11-26T23:50:56.456031Z"
    },
    "hidden": true
   },
   "outputs": [
    {
     "name": "stdout",
     "output_type": "stream",
     "text": [
      "arrayManipulation(n, queries):\t 200\n"
     ]
    }
   ],
   "source": [
    "#!/usr/bin/env python\n",
    "\n",
    "import itertools, sys\n",
    "\n",
    "# 1st attempt:\n",
    "# time: O(n*m)\n",
    "\n",
    "# Complete the arrayManipulation function below.\n",
    "def arrayManipulation(N: int, M: List[int]) -> int:\n",
    "    \n",
    "    \n",
    "    x = [0] * N\n",
    "\n",
    "    for e in M:\n",
    "        a, b, k = e[0], e[1], e[2] \n",
    "\n",
    "        x[a - 1] += k\n",
    "        if b < N:\n",
    "            x[b] -= k\n",
    "\n",
    "    return max(itertools.accumulate(x))\n",
    "    \n",
    "n, queries = 5, [[1, 2, 100], [2, 5, 100], [3, 4, 100]] \n",
    "print('arrayManipulation(n, queries):\\t', arrayManipulation(n, queries))"
   ]
  },
  {
   "cell_type": "markdown",
   "metadata": {
    "heading_collapsed": true,
    "hidden": true
   },
   "source": [
    "### Editorial"
   ]
  },
  {
   "cell_type": "markdown",
   "metadata": {
    "hidden": true
   },
   "source": [
    "<img src='pics/INT6_7.png' alt='Drawing' style='width:625pt'/>"
   ]
  }
 ],
 "metadata": {
  "hide_input": false,
  "kernelspec": {
   "display_name": "Python 3",
   "language": "python",
   "name": "python3"
  },
  "language_info": {
   "codemirror_mode": {
    "name": "ipython",
    "version": 3
   },
   "file_extension": ".py",
   "mimetype": "text/x-python",
   "name": "python",
   "nbconvert_exporter": "python",
   "pygments_lexer": "ipython3",
   "version": "3.7.1"
  },
  "toc": {
   "base_numbering": 1,
   "nav_menu": {},
   "number_sections": true,
   "sideBar": true,
   "skip_h1_title": false,
   "title_cell": "Table of Contents",
   "title_sidebar": "Contents",
   "toc_cell": true,
   "toc_position": {
    "height": "calc(100% - 180px)",
    "left": "10px",
    "top": "150px",
    "width": "273.188px"
   },
   "toc_section_display": true,
   "toc_window_display": false
  }
 },
 "nbformat": 4,
 "nbformat_minor": 2
}
