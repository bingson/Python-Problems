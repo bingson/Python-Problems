{
 "cells": [
  {
   "cell_type": "markdown",
   "metadata": {
    "toc": true
   },
   "source": [
    "<h1>Table of Contents<span class=\"tocSkip\"></span></h1>\n",
    "<div class=\"toc\"><ul class=\"toc-item\"><li><span><a href=\"#L1:-Introduction-and-Efficiency\" data-toc-modified-id=\"L1:-Introduction-and-Efficiency-1\"><span class=\"toc-item-num\">1&nbsp;&nbsp;</span>L1: Introduction and Efficiency</a></span><ul class=\"toc-item\"><li><span><a href=\"#5-Quiz:-Python-Practice\" data-toc-modified-id=\"5-Quiz:-Python-Practice-1.1\"><span class=\"toc-item-num\">1.1&nbsp;&nbsp;</span>5 Quiz: Python Practice</a></span></li><li><span><a href=\"#6-Quiz:-Python-The-Basics\" data-toc-modified-id=\"6-Quiz:-Python-The-Basics-1.2\"><span class=\"toc-item-num\">1.2&nbsp;&nbsp;</span>6 Quiz: Python The Basics</a></span></li><li><span><a href=\"#Quiz:-Efficiency-Practice-(BigO-Notation)\" data-toc-modified-id=\"Quiz:-Efficiency-Practice-(BigO-Notation)-1.3\"><span class=\"toc-item-num\">1.3&nbsp;&nbsp;</span>Quiz: Efficiency Practice (BigO Notation)</a></span></li></ul></li><li><span><a href=\"#L2:-List-Based-Collections\" data-toc-modified-id=\"L2:-List-Based-Collections-2\"><span class=\"toc-item-num\">2&nbsp;&nbsp;</span>L2: List-Based Collections</a></span><ul class=\"toc-item\"><li><ul class=\"toc-item\"><li><span><a href=\"#Python-List-Quiz\" data-toc-modified-id=\"Python-List-Quiz-2.0.1\"><span class=\"toc-item-num\">2.0.1&nbsp;&nbsp;</span>Python List Quiz</a></span></li></ul></li><li><span><a href=\"#Linked-List\" data-toc-modified-id=\"Linked-List-2.1\"><span class=\"toc-item-num\">2.1&nbsp;&nbsp;</span>Linked List</a></span><ul class=\"toc-item\"><li><span><a href=\"#Linked-List-Practice\" data-toc-modified-id=\"Linked-List-Practice-2.1.1\"><span class=\"toc-item-num\">2.1.1&nbsp;&nbsp;</span>Linked List Practice</a></span></li></ul></li><li><span><a href=\"#Quiz:-Stack-Practice\" data-toc-modified-id=\"Quiz:-Stack-Practice-2.2\"><span class=\"toc-item-num\">2.2&nbsp;&nbsp;</span>Quiz: Stack Practice</a></span></li><li><span><a href=\"#Queues\" data-toc-modified-id=\"Queues-2.3\"><span class=\"toc-item-num\">2.3&nbsp;&nbsp;</span>Queues</a></span></li></ul></li><li><span><a href=\"#L3:-Searching-and-Sorting\" data-toc-modified-id=\"L3:-Searching-and-Sorting-3\"><span class=\"toc-item-num\">3&nbsp;&nbsp;</span>L3: Searching and Sorting</a></span><ul class=\"toc-item\"><li><span><a href=\"#Quiz-Binary-Search-Practice\" data-toc-modified-id=\"Quiz-Binary-Search-Practice-3.1\"><span class=\"toc-item-num\">3.1&nbsp;&nbsp;</span>Quiz Binary Search Practice</a></span></li><li><span><a href=\"#Quiz:-Recursion-Practice\" data-toc-modified-id=\"Quiz:-Recursion-Practice-3.2\"><span class=\"toc-item-num\">3.2&nbsp;&nbsp;</span>Quiz: Recursion Practice</a></span></li><li><span><a href=\"#Quiz:-Bubble-Sort-Practice\" data-toc-modified-id=\"Quiz:-Bubble-Sort-Practice-3.3\"><span class=\"toc-item-num\">3.3&nbsp;&nbsp;</span>Quiz: Bubble Sort Practice</a></span></li><li><span><a href=\"#Quiz:-Merge-Sort-Practice\" data-toc-modified-id=\"Quiz:-Merge-Sort-Practice-3.4\"><span class=\"toc-item-num\">3.4&nbsp;&nbsp;</span>Quiz: Merge Sort Practice</a></span></li><li><span><a href=\"#Quiz:-Quick-Sort-(algorithm-implementation)\" data-toc-modified-id=\"Quiz:-Quick-Sort-(algorithm-implementation)-3.5\"><span class=\"toc-item-num\">3.5&nbsp;&nbsp;</span>Quiz: Quick Sort (algorithm implementation)</a></span></li></ul></li><li><span><a href=\"#L4:-Maps-and-Hashing\" data-toc-modified-id=\"L4:-Maps-and-Hashing-4\"><span class=\"toc-item-num\">4&nbsp;&nbsp;</span>L4: Maps and Hashing</a></span></li><li><span><a href=\"#L5:-Trees\" data-toc-modified-id=\"L5:-Trees-5\"><span class=\"toc-item-num\">5&nbsp;&nbsp;</span>L5: Trees</a></span></li><li><span><a href=\"#L6:-Graphs\" data-toc-modified-id=\"L6:-Graphs-6\"><span class=\"toc-item-num\">6&nbsp;&nbsp;</span>L6: Graphs</a></span></li><li><span><a href=\"#L7:-Case-Studies-in-Algorithms\" data-toc-modified-id=\"L7:-Case-Studies-in-Algorithms-7\"><span class=\"toc-item-num\">7&nbsp;&nbsp;</span>L7: Case Studies in Algorithms</a></span></li><li><span><a href=\"#L8:-Technical-Interviewing-Techniques\" data-toc-modified-id=\"L8:-Technical-Interviewing-Techniques-8\"><span class=\"toc-item-num\">8&nbsp;&nbsp;</span>L8: Technical Interviewing Techniques</a></span></li></ul></div>"
   ]
  },
  {
   "cell_type": "code",
   "execution_count": 13,
   "metadata": {
    "ExecuteTime": {
     "end_time": "2019-11-12T11:49:33.719498Z",
     "start_time": "2019-11-12T11:49:33.713502Z"
    }
   },
   "outputs": [],
   "source": [
    "# Pretty display multiple variables without print statement\n",
    "from IPython.core.interactiveshell import InteractiveShell\n",
    "InteractiveShell.ast_node_interactivity = \"all\""
   ]
  },
  {
   "cell_type": "markdown",
   "metadata": {
    "heading_collapsed": true
   },
   "source": [
    "# L1: Introduction and Efficiency"
   ]
  },
  {
   "cell_type": "markdown",
   "metadata": {
    "heading_collapsed": true,
    "hidden": true
   },
   "source": [
    "##### Basic Review"
   ]
  },
  {
   "cell_type": "code",
   "execution_count": 92,
   "metadata": {
    "ExecuteTime": {
     "end_time": "2019-11-08T16:45:11.094575Z",
     "start_time": "2019-11-08T16:45:11.089140Z"
    },
    "hidden": true
   },
   "outputs": [
    {
     "data": {
      "text/plain": [
       "'This type of comment is used to document the purpose of functions and classes.'"
      ]
     },
     "execution_count": 92,
     "metadata": {},
     "output_type": "execute_result"
    }
   ],
   "source": [
    "# # Comments\n",
    "# This is a one-line Python comment - code blocks are so useful!\n",
    "\"\"\"This type of comment is used to document the purpose of functions and classes.\"\"\""
   ]
  },
  {
   "cell_type": "code",
   "execution_count": 93,
   "metadata": {
    "ExecuteTime": {
     "end_time": "2019-11-08T16:45:12.217082Z",
     "start_time": "2019-11-08T16:45:12.212084Z"
    },
    "hidden": true
   },
   "outputs": [],
   "source": [
    "# # Declaration/Initialization\n",
    "# Remember values, not variables, have data types.\n",
    "# A variable can be reassigned to contain a different data type.\n",
    "answer = 42\n",
    "answer = \"The answer is 42.\""
   ]
  },
  {
   "cell_type": "code",
   "execution_count": 94,
   "metadata": {
    "ExecuteTime": {
     "end_time": "2019-11-08T16:45:13.250035Z",
     "start_time": "2019-11-08T16:45:13.241042Z"
    },
    "hidden": true
   },
   "outputs": [],
   "source": [
    "# # Data Types\n",
    "boolean = True\n",
    "number = 1.1\n",
    "string = \"Strings can be declared with single or double quotes.\"\n",
    "list = [\"Lists can have\", 1, 2, 3, 4, \"or more types together!\"]\n",
    "tuple = (\"Tuples\", \"can have\", \"more than\", 2, \"elements!\")\n",
    "dictionary = {'one': 1, 'two': 2, 'three': 3}\n",
    "variable_with_zero_data = None"
   ]
  },
  {
   "cell_type": "code",
   "execution_count": 96,
   "metadata": {
    "ExecuteTime": {
     "end_time": "2019-11-08T16:45:30.528679Z",
     "start_time": "2019-11-08T16:45:30.522682Z"
    },
    "hidden": true
   },
   "outputs": [
    {
     "name": "stdout",
     "output_type": "stream",
     "text": [
      "Printed!\n"
     ]
    }
   ],
   "source": [
    "# Simple Logging\n",
    "print(\"Printed!\")"
   ]
  },
  {
   "cell_type": "code",
   "execution_count": null,
   "metadata": {
    "ExecuteTime": {
     "end_time": "2019-11-08T16:46:23.785222Z",
     "start_time": "2019-11-08T16:46:23.775227Z"
    },
    "hidden": true
   },
   "outputs": [],
   "source": [
    "# Conditionals\n",
    "if cake == \"delicious\":\n",
    "    return \"Yes please!\"\n",
    "elif cake == \"okay\":\n",
    "    return \"I'll have a small piece.\"\n",
    "else:\n",
    "    return \"No, thank you.\""
   ]
  },
  {
   "cell_type": "code",
   "execution_count": null,
   "metadata": {
    "ExecuteTime": {
     "end_time": "2019-11-08T16:46:13.805666Z",
     "start_time": "2019-11-08T16:46:13.764904Z"
    },
    "hidden": true
   },
   "outputs": [],
   "source": [
    "# Loops\n",
    "for item in list:\n",
    "    print (item)\n",
    "\n",
    "while (total < max_val):\n",
    "    total += values[i]\n",
    "    i += 2"
   ]
  },
  {
   "cell_type": "code",
   "execution_count": null,
   "metadata": {
    "ExecuteTime": {
     "end_time": "2019-11-08T16:46:06.869671Z",
     "start_time": "2019-11-08T16:46:06.859677Z"
    },
    "hidden": true
   },
   "outputs": [],
   "source": [
    "# Functions\n",
    "def divide(dividend, divisor):\n",
    "    quotient = dividend / divisor\n",
    "    remainder = dividend % divisor\n",
    "    return quotient, remainder"
   ]
  },
  {
   "cell_type": "code",
   "execution_count": 97,
   "metadata": {
    "ExecuteTime": {
     "end_time": "2019-11-08T16:46:06.869671Z",
     "start_time": "2019-11-08T16:46:06.859677Z"
    },
    "hidden": true
   },
   "outputs": [],
   "source": [
    "def calculate_stuff(x, y):\n",
    "    (q, r) = divide(x,y)\n",
    "    print (q, r)\n",
    "\n",
    "# Classes\n",
    "class Person(object):\n",
    "    def __init__(self, name, age):\n",
    "        self.name = name\n",
    "        self.age = age \n",
    "\n",
    "    def birthday(self):\n",
    "        self.age += 1"
   ]
  },
  {
   "cell_type": "markdown",
   "metadata": {
    "heading_collapsed": true,
    "hidden": true
   },
   "source": [
    "## 5 Quiz: Python Practice"
   ]
  },
  {
   "cell_type": "code",
   "execution_count": 41,
   "metadata": {
    "ExecuteTime": {
     "end_time": "2019-11-08T02:24:11.796897Z",
     "start_time": "2019-11-08T02:24:11.789900Z"
    },
    "hidden": true
   },
   "outputs": [
    {
     "data": {
      "text/plain": [
       "'You can use this class to represent how classy someone\\nor something is.\\n\"Classy\" is interchangable with \"fancy\".\\n\\n* If you add fancy-looking items, you will increase\\nyour \"classiness\".\\n\\n* Create a function in \"Classy\" that takes a string as\\ninput and adds it to the \"items\" list.\\n\\n* Another method should calculate the \"classiness\"\\nvalue based on the items.\\n\\nThe following items have classiness points associated\\nwith them:\\n* \"tophat\" = 2\\n* \"bowtie\" = 4\\n* \"monocle\" = 5\\n* Everything else has 0 points.\\n\\nUse the test cases below to guide you!'"
      ]
     },
     "execution_count": 41,
     "metadata": {},
     "output_type": "execute_result"
    }
   ],
   "source": [
    "\"\"\"You can use this class to represent how classy someone\n",
    "or something is.\n",
    "\"Classy\" is interchangable with \"fancy\".\n",
    "\n",
    "* If you add fancy-looking items, you will increase\n",
    "your \"classiness\".\n",
    "\n",
    "* Create a function in \"Classy\" that takes a string as\n",
    "input and adds it to the \"items\" list.\n",
    "\n",
    "* Another method should calculate the \"classiness\"\n",
    "value based on the items.\n",
    "\n",
    "The following items have classiness points associated\n",
    "with them:\n",
    "* \"tophat\" = 2\n",
    "* \"bowtie\" = 4\n",
    "* \"monocle\" = 5\n",
    "* Everything else has 0 points.\n",
    "\n",
    "Use the test cases below to guide you!\"\"\""
   ]
  },
  {
   "cell_type": "code",
   "execution_count": 102,
   "metadata": {
    "ExecuteTime": {
     "end_time": "2019-11-08T16:53:27.348378Z",
     "start_time": "2019-11-08T16:53:27.338385Z"
    },
    "hidden": true
   },
   "outputs": [],
   "source": [
    "class Classy(object):\n",
    "    def __init__(self):\n",
    "        self.items = []\n",
    "        \n",
    "    def addItem(self, item):\n",
    "        return self.items.append(item)\n",
    "    \n",
    "    def getClassiness(self):\n",
    "        classiness = 0\n",
    "        if len(items) > 0:\n",
    "            for i in self.items:\n",
    "                if   i == \"tophat\" : classiness += 2\n",
    "                elif i == \"bowtie\" : classiness += 4\n",
    "                elif i == \"monocle\": classiness += 5\n",
    "                else: continue\n",
    "        return classiness"
   ]
  },
  {
   "cell_type": "code",
   "execution_count": 27,
   "metadata": {
    "ExecuteTime": {
     "end_time": "2019-11-08T00:13:13.748328Z",
     "start_time": "2019-11-08T00:13:13.744332Z"
    },
    "hidden": true
   },
   "outputs": [],
   "source": [
    "# Test cases\n",
    "me = Classy()"
   ]
  },
  {
   "cell_type": "code",
   "execution_count": 23,
   "metadata": {
    "ExecuteTime": {
     "end_time": "2019-11-08T00:04:50.886263Z",
     "start_time": "2019-11-08T00:04:50.882264Z"
    },
    "hidden": true
   },
   "outputs": [
    {
     "name": "stdout",
     "output_type": "stream",
     "text": [
      "0\n"
     ]
    }
   ],
   "source": [
    "# Should be 0\n",
    "print(me.getClassiness())"
   ]
  },
  {
   "cell_type": "code",
   "execution_count": 29,
   "metadata": {
    "ExecuteTime": {
     "end_time": "2019-11-08T00:13:20.383492Z",
     "start_time": "2019-11-08T00:13:20.379494Z"
    },
    "hidden": true
   },
   "outputs": [
    {
     "name": "stdout",
     "output_type": "stream",
     "text": [
      "2\n"
     ]
    }
   ],
   "source": [
    "me.addItem(\"tophat\")\n",
    "# Should be 2\n",
    "print(me.getClassiness())"
   ]
  },
  {
   "cell_type": "code",
   "execution_count": 30,
   "metadata": {
    "ExecuteTime": {
     "end_time": "2019-11-08T00:13:35.401121Z",
     "start_time": "2019-11-08T00:13:35.395122Z"
    },
    "hidden": true
   },
   "outputs": [
    {
     "name": "stdout",
     "output_type": "stream",
     "text": [
      "11\n"
     ]
    }
   ],
   "source": [
    "me.addItem(\"bowtie\")\n",
    "me.addItem(\"jacket\")\n",
    "me.addItem(\"monocle\")\n",
    "# Should be 11\n",
    "print(me.getClassiness())"
   ]
  },
  {
   "cell_type": "code",
   "execution_count": 32,
   "metadata": {
    "ExecuteTime": {
     "end_time": "2019-11-08T00:13:45.137525Z",
     "start_time": "2019-11-08T00:13:45.132529Z"
    },
    "hidden": true
   },
   "outputs": [
    {
     "name": "stdout",
     "output_type": "stream",
     "text": [
      "15\n"
     ]
    }
   ],
   "source": [
    "me.addItem(\"bowtie\")\n",
    "# Should be 15\n",
    "print(me.getClassiness())"
   ]
  },
  {
   "cell_type": "markdown",
   "metadata": {
    "heading_collapsed": true,
    "hidden": true
   },
   "source": [
    "##### UD soln"
   ]
  },
  {
   "cell_type": "code",
   "execution_count": null,
   "metadata": {
    "hidden": true
   },
   "outputs": [],
   "source": [
    "class Classy(object):\n",
    "    def __init__(self):\n",
    "        self.items = []\n",
    "\n",
    "    def addItem(self, item):\n",
    "        self.items.append(item)\n",
    "\n",
    "    def getClassiness(self):\n",
    "        classiness = 0\n",
    "        if len(self.items) > 0:\n",
    "            for item in self.items:\n",
    "                if item == \"tophat\":\n",
    "                    classiness += 2\n",
    "                elif item == \"bowtie\":\n",
    "                    classiness += 4\n",
    "                elif item == \"monocle\":\n",
    "                    classiness += 5\n",
    "        return classiness"
   ]
  },
  {
   "cell_type": "markdown",
   "metadata": {
    "heading_collapsed": true,
    "hidden": true
   },
   "source": [
    "## 6 Quiz: Python The Basics"
   ]
  },
  {
   "cell_type": "code",
   "execution_count": 69,
   "metadata": {
    "ExecuteTime": {
     "end_time": "2019-11-08T02:46:59.177768Z",
     "start_time": "2019-11-08T02:46:59.169772Z"
    },
    "hidden": true
   },
   "outputs": [
    {
     "name": "stdout",
     "output_type": "stream",
     "text": [
      "I am super excited for this course! I am super excited for this course! I am super excited for this course! I am super excited for this course! I am super excited for this course!\n"
     ]
    }
   ],
   "source": [
    "# Write a function called \"show_excitement\" where the string\n",
    "# \"I am super excited for this course!\" is returned exactly\n",
    "# 5 times, where each sentence is separated by a single space.\n",
    "\n",
    "# Return the string with \"return\".\n",
    "# You can only have the string once in your code.\n",
    "# Don't just copy/paste it 5 times into a single variable!\n",
    "\n",
    "\n",
    "def show_excitement():\n",
    "    # Your code goes here!\n",
    "    s = \"I am super excited for this course!\"\n",
    "    return ((s+\" \")*5).strip()\n",
    "        \n",
    "print(show_excitement())"
   ]
  },
  {
   "cell_type": "markdown",
   "metadata": {
    "heading_collapsed": true,
    "hidden": true
   },
   "source": [
    "## Quiz: Efficiency Practice (BigO Notation)"
   ]
  },
  {
   "cell_type": "markdown",
   "metadata": {
    "hidden": true
   },
   "source": [
    "<b><font color = 'purple'>Look at each and take note of the time efficiency. Then, in the quiz, enter those values using the correct notation. Use approximations wherever possible! </font></b>\n",
    "\n"
   ]
  },
  {
   "cell_type": "code",
   "execution_count": 89,
   "metadata": {
    "ExecuteTime": {
     "end_time": "2019-11-08T15:28:17.882934Z",
     "start_time": "2019-11-08T15:28:17.877936Z"
    },
    "collapsed": true,
    "hidden": true
   },
   "outputs": [
    {
     "data": {
      "text/plain": [
       "'input manatees: a list of \"manatees\", where one manatee is represented by a dictionary\\na single manatee has properties like \"name\", \"age\", et cetera\\nn = the number of elements in \"manatees\"\\nm = the number of properties per \"manatee\" (i.e. the number of keys in a manatee dictionary)'"
      ]
     },
     "execution_count": 89,
     "metadata": {},
     "output_type": "execute_result"
    }
   ],
   "source": [
    "\"\"\"input manatees: a list of \"manatees\", where one manatee is represented by a dictionary\n",
    "a single manatee has properties like \"name\", \"age\", et cetera\n",
    "n = the number of elements in \"manatees\"\n",
    "m = the number of properties per \"manatee\" (i.e. the number of keys in a manatee dictionary)\"\"\""
   ]
  },
  {
   "cell_type": "markdown",
   "metadata": {
    "hidden": true
   },
   "source": [
    "is the input a list of dictionaries?"
   ]
  },
  {
   "cell_type": "code",
   "execution_count": 90,
   "metadata": {
    "ExecuteTime": {
     "end_time": "2019-11-08T15:28:20.610921Z",
     "start_time": "2019-11-08T15:28:20.605926Z"
    },
    "hidden": true
   },
   "outputs": [],
   "source": [
    "def example1(manatees):\n",
    "    for manatee in manatees:\n",
    "        print(manatee['name'])\n",
    "\n",
    "# COMPLEXITY        \n",
    "# time:  O(n)\n",
    "# space: O(n)"
   ]
  },
  {
   "cell_type": "markdown",
   "metadata": {
    "hidden": true
   },
   "source": [
    "We iterate over every manatee in the manatees list with the for loop. Since we're given that manatees has n elements, our code will take approximately O(n) time to run."
   ]
  },
  {
   "cell_type": "code",
   "execution_count": 86,
   "metadata": {
    "ExecuteTime": {
     "end_time": "2019-11-08T15:28:09.114384Z",
     "start_time": "2019-11-08T15:28:09.108387Z"
    },
    "hidden": true
   },
   "outputs": [],
   "source": [
    "def example2(manatees):\n",
    "    print(manatees[0]['name'])\n",
    "    print(manatees[0]['age'])\n",
    "    \n",
    "# COMPLEXITY        \n",
    "# time:  O(1)\n",
    "# space: O(n)"
   ]
  },
  {
   "cell_type": "markdown",
   "metadata": {
    "hidden": true
   },
   "source": [
    "We look at two specific properties of a specific manatee. We aren't iterating over anything - just doing constant-time lookups on lists and dictionaries. Thus the code will complete in constant, or O(1), time."
   ]
  },
  {
   "cell_type": "code",
   "execution_count": 91,
   "metadata": {
    "ExecuteTime": {
     "end_time": "2019-11-08T15:41:51.951422Z",
     "start_time": "2019-11-08T15:41:51.944427Z"
    },
    "hidden": true
   },
   "outputs": [],
   "source": [
    "def example3(manatees):\n",
    "    for manatee in manatees:\n",
    "        for manatee_property in manatee:\n",
    "            print (manatee_property, \": \", manatee[manatee_property])\n",
    "            \n",
    "# COMPLEXITY        \n",
    "# time:  O(nm)\n",
    "# space: O(n)    "
   ]
  },
  {
   "cell_type": "markdown",
   "metadata": {
    "hidden": true
   },
   "source": [
    "<font color = 'red'>There are two for loops, and nested for loops are a good sign that you need to multiply two runtimes</font>. Here, for every manatee, we check every property. If we had 4 manatees, each with 5 properties, then we would need 5+5+5+5 steps. This logic simplifies to the number of manatees times the number of properties, or O(nm)."
   ]
  },
  {
   "cell_type": "code",
   "execution_count": 88,
   "metadata": {
    "ExecuteTime": {
     "end_time": "2019-11-08T15:28:11.519256Z",
     "start_time": "2019-11-08T15:28:11.514260Z"
    },
    "hidden": true
   },
   "outputs": [],
   "source": [
    "def example4(manatees):\n",
    "    oldest_manatee = \"No manatees here!\"\n",
    "    for manatee1 in manatees:\n",
    "        for manatee2 in manatees:\n",
    "            if manatee1['age'] < manatee2['age']:\n",
    "                oldest_manatee = manatee2['name']\n",
    "            else:\n",
    "                oldest_manatee = manatee1['name']\n",
    "    print (oldest_manatee)\n",
    "\n",
    "# COMPLEXITY        \n",
    "# time:  O(n^2)\n",
    "# space: O(n)    "
   ]
  },
  {
   "cell_type": "markdown",
   "metadata": {
    "hidden": true
   },
   "source": [
    "Again we have nested for loops. This time we're iterating over the manatees list twice - every time we see a manatee, we compare it to every other manatee's age. We end up with O(nn), or O(n^2) (which is read as \"n squared\")."
   ]
  },
  {
   "cell_type": "markdown",
   "metadata": {
    "hidden": true
   },
   "source": [
    "Throughout the course, you can reference the Big-O Cheat Sheet to keep track of time complexities for many of the algorithms and data structures we study.\n",
    "\n",
    "https://www.bigocheatsheet.com"
   ]
  },
  {
   "cell_type": "markdown",
   "metadata": {
    "hidden": true
   },
   "source": []
  },
  {
   "cell_type": "markdown",
   "metadata": {
    "heading_collapsed": true
   },
   "source": [
    "# L2: List-Based Collections"
   ]
  },
  {
   "cell_type": "markdown",
   "metadata": {
    "hidden": true
   },
   "source": [
    "### Python List Quiz"
   ]
  },
  {
   "cell_type": "markdown",
   "metadata": {
    "hidden": true
   },
   "source": [
    "<b><font color = 'purple'>What is the runtime of finding the length of a Python list? (Use O() notation)? </font></b>\n",
    "\n",
    "Note: Specifically this is the runtime of finding the length of a list using the len() function.\n",
    "\n",
    "<font color = 'green'>Answer: O(1)</font>\n",
    "\n",
    "\n",
    "\n",
    "with a normal list, you might need to traverse through every element to find the length, but Python does some work behind the scenes to get you the list length in constant time!"
   ]
  },
  {
   "cell_type": "markdown",
   "metadata": {
    "hidden": true
   },
   "source": [
    "## Linked List"
   ]
  },
  {
   "cell_type": "markdown",
   "metadata": {
    "hidden": true
   },
   "source": [
    "There isn't a built-in data structure in Python that looks like a linked list. Thankfully, it's easy to make classes that represent data structures in Python!\n",
    "\n",
    "<b><font color = 'purple'>Here's the code for an Element, which will be a single unit in a linked list: </font></b>"
   ]
  },
  {
   "cell_type": "code",
   "execution_count": 104,
   "metadata": {
    "ExecuteTime": {
     "end_time": "2019-11-10T18:18:35.831105Z",
     "start_time": "2019-11-10T18:18:35.825108Z"
    },
    "hidden": true
   },
   "outputs": [],
   "source": [
    "class Element(object):\n",
    "    def __init__(self, value):\n",
    "        self.value = value\n",
    "        self.next = None"
   ]
  },
  {
   "cell_type": "markdown",
   "metadata": {
    "hidden": true
   },
   "source": [
    "Make sure you understand this code before moving on! We use `__init__` to initialize a new `Element`. An Element has some `value` associated with it (which could be anything—a number, a string, a character, et cetera), and it has a variable that points to the `next` element in the linked list.   \n",
    "\n",
    "<b><font color = 'purple'>Now, let's set up a `LinkedList` class: </font></b>"
   ]
  },
  {
   "cell_type": "code",
   "execution_count": 109,
   "metadata": {
    "ExecuteTime": {
     "end_time": "2019-11-10T18:33:36.665534Z",
     "start_time": "2019-11-10T18:33:36.660536Z"
    },
    "hidden": true
   },
   "outputs": [],
   "source": [
    "class LinkedList(object):\n",
    "    def __init__(self, head=None):\n",
    "        self.head = head"
   ]
  },
  {
   "cell_type": "markdown",
   "metadata": {
    "hidden": true
   },
   "source": [
    "This code is very similar—we're just establishing that a `LinkedList` is something that has a `head` `Element`, which is the first element in the list. If we establish a new `LinkedList` without a `head`, it will default to `None`.   \n",
    "\n",
    "<b><font color = 'purple'>Great! Let's add a method to our `LinkedList` to make it a little more useful. This method will add a new `Element` to the end of our `LinkedList` </font></b>."
   ]
  },
  {
   "cell_type": "code",
   "execution_count": 111,
   "metadata": {
    "ExecuteTime": {
     "end_time": "2019-11-10T18:33:50.433528Z",
     "start_time": "2019-11-10T18:33:50.421538Z"
    },
    "hidden": true
   },
   "outputs": [],
   "source": [
    "  def append(self, new_element):\n",
    "        current = self.head\n",
    "        if self.head:\n",
    "            while current.next:\n",
    "                current = current.next\n",
    "            current.next = new_element\n",
    "        else:\n",
    "            self.head = new_element"
   ]
  },
  {
   "cell_type": "markdown",
   "metadata": {
    "hidden": true
   },
   "source": [
    "* <font color = 'blue'>If the `LinkedList` already has a `head`, iterate through the `next` reference in every `Element` until you reach the end of the list</font>. \n",
    "\n",
    "\n",
    "* Set `next` for the end of the list to be the `new_element`. Alternatively, if there is no `head` already, you should just assign `new_element` to it and do nothing else."
   ]
  },
  {
   "cell_type": "markdown",
   "metadata": {
    "heading_collapsed": true,
    "hidden": true
   },
   "source": [
    "### Linked List Practice"
   ]
  },
  {
   "cell_type": "code",
   "execution_count": 127,
   "metadata": {
    "ExecuteTime": {
     "end_time": "2019-11-11T00:59:13.444973Z",
     "start_time": "2019-11-11T00:59:13.438979Z"
    },
    "collapsed": true,
    "hidden": true
   },
   "outputs": [
    {
     "data": {
      "text/plain": [
       "'The LinkedList code from before is provided below.\\nAdd three functions to the LinkedList.\\n\\n* \"get_position\" returns the element at a certain position.\\n\\n* \"insert\" function will add an element to a particular\\nspot in the list.\\n\\n* \"delete\" will delete the first element with that\\nparticular value.\\n\\nThen, use \"Test Run\" and \"Submit\" to run the test cases\\nat the bottom.'"
      ]
     },
     "execution_count": 127,
     "metadata": {},
     "output_type": "execute_result"
    }
   ],
   "source": [
    "\"\"\"The LinkedList code from before is provided below.\n",
    "Add three functions to the LinkedList.\n",
    "\n",
    "* \"get_position\" returns the element at a certain position.\n",
    "\n",
    "* \"insert\" function will add an element to a particular\n",
    "spot in the list.\n",
    "\n",
    "* \"delete\" will delete the first element with that\n",
    "particular value.\n",
    "\n",
    "Then, use \"Test Run\" and \"Submit\" to run the test cases\n",
    "at the bottom.\"\"\""
   ]
  },
  {
   "cell_type": "code",
   "execution_count": 111,
   "metadata": {
    "ExecuteTime": {
     "end_time": "2019-11-11T16:17:03.108372Z",
     "start_time": "2019-11-11T16:17:03.092380Z"
    },
    "hidden": true
   },
   "outputs": [],
   "source": [
    "# my soln\n",
    "\n",
    "class Element(object):\n",
    "    def __init__(self, value):\n",
    "        self.value = value\n",
    "        self.next = None\n",
    "        \n",
    "class LinkedList(object):\n",
    "    def __init__(self, head=None):\n",
    "        self.head = head\n",
    "        \n",
    "    def append(self, new_element):\n",
    "        current = self.head\n",
    "        if self.head:\n",
    "            while current.next:\n",
    "                current = current.next # goes through all elements until next = None\n",
    "            current.next = new_element # makes new element the last one in the chain\n",
    "        else:\n",
    "            self.head = new_element\n",
    "            \n",
    "    def get_position(self, position):\n",
    "        \"\"\"Get an element from a particular position.\n",
    "        Assume the first position is \"1\".\n",
    "        Return \"None\" if position is not in the list.\"\"\"\n",
    "        current = self.head\n",
    "        for _ in range(position - 1):\n",
    "            current = current.next\n",
    "        return current\n",
    "    \n",
    "    def insert(self, new_element, position):\n",
    "        \"\"\"Insert a new node at the given position.\n",
    "        Assume the first position is \"1\".\n",
    "        Inserting at position 3 means between\n",
    "        the 2nd and 3rd elements.\"\"\"\n",
    "        current = self.head\n",
    "        if position == 1:\n",
    "            new_element.next = self.head\n",
    "            self.head = new_element\n",
    "        else:\n",
    "            for _ in range(position - 2):\n",
    "                current = current.next\n",
    "            new_element.next = current.next\n",
    "            current.next = new_element\n",
    "\n",
    "    \n",
    "    def delete(self, value):\n",
    "        \"\"\"Delete the first node with a given value.\"\"\"\n",
    "        if self.head.value == int(value):\n",
    "            self.head = self.head.next\n",
    "        else:\n",
    "            current = self.head\n",
    "            while current.next.value != value:\n",
    "                current = current.next\n",
    "            current.next = current.next.next"
   ]
  },
  {
   "cell_type": "code",
   "execution_count": null,
   "metadata": {
    "code_folding": [
     0
    ],
    "hidden": true
   },
   "outputs": [],
   "source": [
    "# udacity solution\n",
    "\n",
    "class Element(object):\n",
    "    def __init__(self, value):\n",
    "        self.value = value\n",
    "        self.next = None\n",
    "\n",
    "class LinkedList(object):\n",
    "    def __init__(self, head=None):\n",
    "        self.head = head\n",
    "\n",
    "    def append(self, new_element):\n",
    "        current = self.head\n",
    "        if self.head:\n",
    "            while current.next:\n",
    "                current = current.next\n",
    "            current.next = new_element\n",
    "        else:\n",
    "            self.head = new_element\n",
    "\n",
    "    def get_position(self, position):\n",
    "        counter = 1\n",
    "        current = self.head\n",
    "        if position < 1:\n",
    "            return None\n",
    "        while current and counter <= position:\n",
    "            if counter == position:\n",
    "                return current\n",
    "            current = current.next\n",
    "            counter += 1\n",
    "        return None\n",
    "\n",
    "    def insert(self, new_element, position):\n",
    "        counter = 1\n",
    "        current = self.head\n",
    "        if position > 1:\n",
    "            while current and counter < position:\n",
    "                if counter == position - 1:\n",
    "                    new_element.next = current.next\n",
    "                    current.next = new_element\n",
    "                current = current.next\n",
    "                counter += 1\n",
    "        elif position == 1:\n",
    "            new_element.next = self.head\n",
    "            self.head = new_element\n",
    "\n",
    "    def delete(self, value):\n",
    "        current = self.head\n",
    "        previous = None\n",
    "        while current.value != value and current.next:\n",
    "            previous = current\n",
    "            current = current.next\n",
    "        if current.value == value:\n",
    "            if previous:\n",
    "                previous.next = current.next\n",
    "            else:\n",
    "                self.head = current.next"
   ]
  },
  {
   "cell_type": "code",
   "execution_count": 116,
   "metadata": {
    "ExecuteTime": {
     "end_time": "2019-11-11T16:17:17.827960Z",
     "start_time": "2019-11-11T16:17:17.819966Z"
    },
    "hidden": true
   },
   "outputs": [
    {
     "name": "stdout",
     "output_type": "stream",
     "text": [
      "ll.head.next:\t <__main__.Element object at 0x000002ACC1C06D68>\n",
      "ll.head.value:\t\t\t 1\n",
      "ll.head.next.value:\t\t 2\n",
      "ll.head.next.next.value:\t 3\n"
     ]
    }
   ],
   "source": [
    "# Test cases\n",
    "# Set up some Elements\n",
    "e1 = Element(1)\n",
    "e2 = Element(2)\n",
    "e3 = Element(3)\n",
    "e4 = Element(4)\n",
    "e9 = Element(9)\n",
    "\n",
    "# Start setting up a LinkedList\n",
    "ll = LinkedList(e1)\n",
    "ll.append(e2)\n",
    "ll.append(e3)\n",
    "\n",
    "print('ll.head.next:\\t', ll.head.next)\n",
    "print('ll.head.value:\\t\\t\\t', ll.head.value)\n",
    "print('ll.head.next.value:\\t\\t', ll.head.next.value)\n",
    "print('ll.head.next.next.value:\\t', ll.head.next.next.value)"
   ]
  },
  {
   "cell_type": "code",
   "execution_count": 117,
   "metadata": {
    "ExecuteTime": {
     "end_time": "2019-11-11T16:17:18.445815Z",
     "start_time": "2019-11-11T16:17:18.439820Z"
    },
    "hidden": true
   },
   "outputs": [
    {
     "name": "stdout",
     "output_type": "stream",
     "text": [
      "# Should also print 3\n",
      "ll.get_position(3).value:\t 3\n"
     ]
    }
   ],
   "source": [
    "# Test get_position\n",
    "\n",
    "print('# Should also print 3')\n",
    "print('ll.get_position(3).value:\\t', ll.get_position(3).value)"
   ]
  },
  {
   "cell_type": "code",
   "execution_count": 118,
   "metadata": {
    "ExecuteTime": {
     "end_time": "2019-11-11T16:17:20.567239Z",
     "start_time": "2019-11-11T16:17:20.562243Z"
    },
    "code_folding": [],
    "hidden": true
   },
   "outputs": [
    {
     "name": "stdout",
     "output_type": "stream",
     "text": [
      "4\n"
     ]
    }
   ],
   "source": [
    "# Test insert\n",
    "ll.insert(e4,3)\n",
    "# Should print 4 now\n",
    "print(ll.get_position(3).value)"
   ]
  },
  {
   "cell_type": "code",
   "execution_count": 121,
   "metadata": {
    "ExecuteTime": {
     "end_time": "2019-11-11T16:17:43.411216Z",
     "start_time": "2019-11-11T16:17:43.405220Z"
    },
    "hidden": true
   },
   "outputs": [
    {
     "name": "stdout",
     "output_type": "stream",
     "text": [
      "9\n"
     ]
    }
   ],
   "source": [
    "e9 = Element(9)\n",
    "\n",
    "# Test insert\n",
    "ll.insert(e9,1)\n",
    "# Should print 9 now\n",
    "print(ll.get_position(1).value)"
   ]
  },
  {
   "cell_type": "code",
   "execution_count": 89,
   "metadata": {
    "ExecuteTime": {
     "end_time": "2019-11-11T16:03:01.481292Z",
     "start_time": "2019-11-11T16:03:01.476297Z"
    },
    "code_folding": [],
    "hidden": true
   },
   "outputs": [
    {
     "name": "stdout",
     "output_type": "stream",
     "text": [
      "2\n"
     ]
    }
   ],
   "source": [
    "# Test delete\n",
    "ll.delete(1)\n",
    "# Should print 2 now\n",
    "print(ll.get_position(1).value)"
   ]
  },
  {
   "cell_type": "code",
   "execution_count": 90,
   "metadata": {
    "ExecuteTime": {
     "end_time": "2019-11-11T16:03:03.246404Z",
     "start_time": "2019-11-11T16:03:03.240409Z"
    },
    "code_folding": [],
    "hidden": true
   },
   "outputs": [
    {
     "name": "stdout",
     "output_type": "stream",
     "text": [
      "ll.get_position(2).value:\t 4\n",
      "ll.get_position(3).value:\t 3\n"
     ]
    }
   ],
   "source": [
    "# Should print 4 now\n",
    "print('ll.get_position(2).value:\\t', ll.get_position(2).value)\n",
    "# Should print 3 now\n",
    "print('ll.get_position(3).value:\\t', ll.get_position(3).value)"
   ]
  },
  {
   "cell_type": "code",
   "execution_count": 97,
   "metadata": {
    "ExecuteTime": {
     "end_time": "2019-11-11T16:08:39.536452Z",
     "start_time": "2019-11-11T16:08:39.525461Z"
    },
    "code_folding": [],
    "hidden": true
   },
   "outputs": [
    {
     "name": "stdout",
     "output_type": "stream",
     "text": [
      "3\n",
      "3\n",
      "4\n",
      "2\n",
      "4\n",
      "3\n"
     ]
    }
   ],
   "source": [
    "# Test cases\n",
    "# Set up some Elements\n",
    "e1 = Element(1)\n",
    "e2 = Element(2)\n",
    "e3 = Element(3)\n",
    "e4 = Element(4)\n",
    "\n",
    "# Start setting up a LinkedList\n",
    "ll = LinkedList(e1)\n",
    "ll.append(e2)\n",
    "ll.append(e3)\n",
    "\n",
    "# Test get_position\n",
    "# Should print 3\n",
    "print (ll.head.next.next.value)\n",
    "# Should also print 3\n",
    "print (ll.get_position(3).value)\n",
    "\n",
    "# Test insert\n",
    "ll.insert(e4,3)\n",
    "# Should print 4 now\n",
    "print (ll.get_position(3).value)\n",
    "\n",
    "# Test delete\n",
    "ll.delete(1)\n",
    "# Should print 2 now\n",
    "print (ll.get_position(1).value)\n",
    "# Should print 4 now\n",
    "print (ll.get_position(2).value)\n",
    "# Should print 3 now\n",
    "print (ll.get_position(3).value)"
   ]
  },
  {
   "cell_type": "markdown",
   "metadata": {
    "heading_collapsed": true,
    "hidden": true
   },
   "source": [
    "##### From Joe James: https://www.youtube.com/watch?v=Ast5sKQXxEU"
   ]
  },
  {
   "cell_type": "code",
   "execution_count": 121,
   "metadata": {
    "ExecuteTime": {
     "end_time": "2019-11-10T19:05:53.078410Z",
     "start_time": "2019-11-10T19:05:53.062421Z"
    },
    "hidden": true
   },
   "outputs": [],
   "source": [
    "class Node(object):\n",
    "    def __init__(self, d, n=None):\n",
    "        self.data = d\n",
    "        self.next_node = n\n",
    "    def get_next(self):\n",
    "        return self.next_node\n",
    "    def set_next(self, n):\n",
    "        self.next_node = n\n",
    "    def get_data(self):\n",
    "        return self.data\n",
    "    def set_data(self, d):\n",
    "        self.data = d\n",
    "        \n",
    "class LinkedList(object):\n",
    "    def __init__(self, r=None):\n",
    "        self.root = r\n",
    "        self.size = 0\n",
    "    def get_size(self):\n",
    "        return self.size\n",
    "    def add(self, d):\n",
    "        new_node = Node(d, self.root)\n",
    "        self.root = new_node\n",
    "        self.size += 1\n",
    "    def remove(self, d):\n",
    "        this_node = self.root\n",
    "        prev_node = None\n",
    "        while this_node:\n",
    "            if this_node.get_data() == d:\n",
    "                if prev_node:\n",
    "                    prev_node.set_next(this_node.get_next())\n",
    "                else:\n",
    "                    self.root = this_node\n",
    "                self.size -= 1\n",
    "                return True  # data removed\n",
    "            else:\n",
    "                prev_node = this_node\n",
    "                this_node = this_node.get_next()\n",
    "        return False  # data not found\n",
    "    def find(self, d):\n",
    "        this_node = self.root\n",
    "        while this_node:\n",
    "            if this_node.get_data() == d:\n",
    "                return d\n",
    "            else:\n",
    "                this_node = this_node.get_next()\n",
    "        return None\n",
    "    "
   ]
  },
  {
   "cell_type": "code",
   "execution_count": 124,
   "metadata": {
    "ExecuteTime": {
     "end_time": "2019-11-10T19:05:57.200472Z",
     "start_time": "2019-11-10T19:05:57.192479Z"
    },
    "hidden": true
   },
   "outputs": [
    {
     "data": {
      "text/plain": [
       "True"
      ]
     },
     "execution_count": 124,
     "metadata": {},
     "output_type": "execute_result"
    },
    {
     "name": "stdout",
     "output_type": "stream",
     "text": [
      "True\n",
      "5\n"
     ]
    }
   ],
   "source": [
    "myList = LinkedList()\n",
    "myList.add(5)\n",
    "myList.add(8)\n",
    "myList.add(12)\n",
    "myList.remove(8)\n",
    "print(myList.remove(12))\n",
    "\n",
    "print(myList.find(5))"
   ]
  },
  {
   "cell_type": "markdown",
   "metadata": {
    "heading_collapsed": true,
    "hidden": true
   },
   "source": [
    "## Quiz: Stack Practice"
   ]
  },
  {
   "cell_type": "markdown",
   "metadata": {
    "hidden": true
   },
   "source": [
    "Remember that wonderful Python list we talked about eariler? It turns out that stack functionality is already built into it!\n",
    "\n",
    "The [Python documentation](https://docs.python.org/2/tutorial/datastructures.html#using-lists-as-stacks) shows how you can use built-in funtions to turn your Python list into a stack. `pop()` is a given function, and `append()` is equivalent to a push function.    \n",
    "\n",
    "Of course, this functionality makes stack manipulation in Python all too easy. Let's make our own `Stack` class to see how a stack really works under the hood.\n",
    "\n",
    "Here's an alternative solution to delete_first() - https://gist.github.com/adarsh0806/02d8e1d54d510294e75dfbc0d9bd7059\n",
    "\n",
    "Benefits of this method:\n",
    "\n",
    "* this version has fewer lines of code with no loss of functionality \n",
    "* this version clears out the next field of the deleted element (good practice, even though it's not in the specification)"
   ]
  },
  {
   "cell_type": "code",
   "execution_count": 123,
   "metadata": {
    "ExecuteTime": {
     "end_time": "2019-11-11T16:50:48.357616Z",
     "start_time": "2019-11-11T16:50:48.350622Z"
    },
    "collapsed": true,
    "hidden": true
   },
   "outputs": [
    {
     "data": {
      "text/plain": [
       "'Add a couple methods to our LinkedList class,\\nand use that to implement a Stack.\\n\\nYou have 4 functions below to fill in:\\n* insert_first, delete_first, push, and pop.\\n\\nThink about this while you\\'re implementing:\\nwhy is it easier to add an \"insert_first\"\\nfunction than just use \"append\"?'"
      ]
     },
     "execution_count": 123,
     "metadata": {},
     "output_type": "execute_result"
    }
   ],
   "source": [
    "\"\"\"Add a couple methods to our LinkedList class,\n",
    "and use that to implement a Stack.\n",
    "\n",
    "You have 4 functions below to fill in:\n",
    "\n",
    "* insert_first, \n",
    "* delete_first, \n",
    "* push\n",
    "* pop.\n",
    "\n",
    "Think about this while you're implementing:\n",
    "why is it easier to add an \"insert_first\"\n",
    "function than just use \"append\"?\"\"\""
   ]
  },
  {
   "cell_type": "code",
   "execution_count": 20,
   "metadata": {
    "ExecuteTime": {
     "end_time": "2019-11-12T12:10:48.894535Z",
     "start_time": "2019-11-12T12:10:48.877547Z"
    },
    "hidden": true
   },
   "outputs": [],
   "source": [
    "# my attempt\n",
    "class Element(object):\n",
    "    def __init__(self, value):\n",
    "        self.value = value\n",
    "        self.next = None\n",
    "        \n",
    "class LinkedList(object):\n",
    "    def __init__(self, head=None):\n",
    "        self.head = head\n",
    "        \n",
    "    def append(self, new_element):\n",
    "        current = self.head\n",
    "        if self.head:\n",
    "            while current.next:\n",
    "                current = current.next\n",
    "            current.next = new_element\n",
    "        else:\n",
    "            self.head = new_element\n",
    "\n",
    "    def insert_first(self, new_element):\n",
    "        \"Insert new element as the head of the LinkedList\"\n",
    "        new_element.next = self.head\n",
    "        self.head = new_element\n",
    "\n",
    "    def delete_first(self):\n",
    "        \"Delete the first (head) element in the LinkedList and return it\"\n",
    "        if self.head:\n",
    "            first_element = self.head\n",
    "            self.head = self.head.next\n",
    "            return first_element\n",
    "        else:\n",
    "            return None\n",
    "\n",
    "class Stack(object):\n",
    "    def __init__(self,top=None):\n",
    "        self.ll = LinkedList(top)\n",
    "\n",
    "    def push(self, new_element):\n",
    "        \"Push (add) a new element onto the top of the stack\"\n",
    "        self.ll.insert_first(new_element)\n",
    "            \n",
    "        \n",
    "    def pop(self):\n",
    "        \"Pop (remove) the first element off the top of the stack and return it\"\n",
    "        return self.ll.delete_first()\n",
    "    "
   ]
  },
  {
   "cell_type": "code",
   "execution_count": null,
   "metadata": {
    "code_folding": [
     0
    ],
    "hidden": true
   },
   "outputs": [],
   "source": [
    "# Udacity Solution\n",
    "\n",
    "class Element(object):\n",
    "    def __init__(self, value):\n",
    "        self.value = value\n",
    "        self.next = None\n",
    "\n",
    "class LinkedList(object):\n",
    "    def __init__(self, head=None):\n",
    "        self.head = head\n",
    "\n",
    "    def append(self, new_element):\n",
    "        current = self.head\n",
    "        if self.head:\n",
    "            while current.next:\n",
    "                current = current.next\n",
    "            current.next = new_element\n",
    "        else:\n",
    "            self.head = new_element\n",
    "\n",
    "    def insert_first(self, new_element):\n",
    "        new_element.next = self.head\n",
    "        self.head = new_element\n",
    "\n",
    "    def delete_first(self):\n",
    "        if self.head:\n",
    "            deleted_element = self.head\n",
    "            temp = deleted_element.next\n",
    "            self.head = temp\n",
    "            return deleted_element\n",
    "        else:\n",
    "            return None\n",
    "\n",
    "class Stack(object):\n",
    "    def __init__(self,top=None):\n",
    "        self.ll = LinkedList(top)\n",
    "\n",
    "    def push(self, new_element):\n",
    "        self.ll.insert_first(new_element)\n",
    "\n",
    "    def pop(self):\n",
    "        return self.ll.delete_first()\n",
    "\n",
    "# alternate soln\n",
    "def delete_first(self):\n",
    "    deleted = self.head\n",
    "    if self.head:\n",
    "        self.head = self.head.next\n",
    "        deleted.next = None\n",
    "    return deleted"
   ]
  },
  {
   "cell_type": "code",
   "execution_count": 153,
   "metadata": {
    "ExecuteTime": {
     "end_time": "2019-11-12T01:10:49.421189Z",
     "start_time": "2019-11-12T01:10:49.390209Z"
    },
    "code_folding": [
     0
    ],
    "collapsed": true,
    "hidden": true
   },
   "outputs": [
    {
     "data": {
      "text/plain": [
       "[3, 4, 5, 6, 7]"
      ]
     },
     "execution_count": 153,
     "metadata": {},
     "output_type": "execute_result"
    },
    {
     "data": {
      "text/plain": [
       "[3, 4, 5, 6, 7]"
      ]
     },
     "execution_count": 153,
     "metadata": {},
     "output_type": "execute_result"
    },
    {
     "data": {
      "text/plain": [
       "7"
      ]
     },
     "execution_count": 153,
     "metadata": {},
     "output_type": "execute_result"
    },
    {
     "data": {
      "text/plain": [
       "[3, 4, 5, 6]"
      ]
     },
     "execution_count": 153,
     "metadata": {},
     "output_type": "execute_result"
    },
    {
     "data": {
      "text/plain": [
       "6"
      ]
     },
     "execution_count": 153,
     "metadata": {},
     "output_type": "execute_result"
    },
    {
     "data": {
      "text/plain": [
       "5"
      ]
     },
     "execution_count": 153,
     "metadata": {},
     "output_type": "execute_result"
    },
    {
     "data": {
      "text/plain": [
       "[3, 4]"
      ]
     },
     "execution_count": 153,
     "metadata": {},
     "output_type": "execute_result"
    },
    {
     "data": {
      "text/plain": [
       "4"
      ]
     },
     "execution_count": 153,
     "metadata": {},
     "output_type": "execute_result"
    }
   ],
   "source": [
    "# List version of stack\n",
    "stack = [3, 4, 5]\n",
    "stack.append(6)\n",
    "stack.append(7)\n",
    "stack\n",
    "[3, 4, 5, 6, 7]\n",
    "stack.pop()\n",
    "stack\n",
    "stack.pop()\n",
    "stack.pop()\n",
    "stack\n",
    "stack.pop()"
   ]
  },
  {
   "cell_type": "code",
   "execution_count": 17,
   "metadata": {
    "ExecuteTime": {
     "end_time": "2019-11-12T11:51:10.290529Z",
     "start_time": "2019-11-12T11:51:10.280535Z"
    },
    "hidden": true
   },
   "outputs": [
    {
     "name": "stdout",
     "output_type": "stream",
     "text": [
      "stack.pop().value:\t 3\n"
     ]
    }
   ],
   "source": [
    "# Test cases\n",
    "# Set up some Elements\n",
    "e1 = Element(1)\n",
    "e2 = Element(2)\n",
    "e3 = Element(3)\n",
    "e4 = Element(4)\n",
    "\n",
    "# Start setting up a Stack\n",
    "stack = Stack(e1)\n",
    "\n",
    "# Test stack functionality\n",
    "stack.push(e2)\n",
    "stack.push(e3)\n",
    "print('stack.pop().value:\\t', stack.pop().value)"
   ]
  },
  {
   "cell_type": "code",
   "execution_count": 15,
   "metadata": {
    "ExecuteTime": {
     "end_time": "2019-11-12T11:50:08.862565Z",
     "start_time": "2019-11-12T11:50:08.848574Z"
    },
    "collapsed": true,
    "hidden": true
   },
   "outputs": [
    {
     "data": {
      "text/plain": [
       "['__class__',\n",
       " '__delattr__',\n",
       " '__dict__',\n",
       " '__dir__',\n",
       " '__doc__',\n",
       " '__eq__',\n",
       " '__format__',\n",
       " '__ge__',\n",
       " '__getattribute__',\n",
       " '__gt__',\n",
       " '__hash__',\n",
       " '__init__',\n",
       " '__init_subclass__',\n",
       " '__le__',\n",
       " '__lt__',\n",
       " '__module__',\n",
       " '__ne__',\n",
       " '__new__',\n",
       " '__reduce__',\n",
       " '__reduce_ex__',\n",
       " '__repr__',\n",
       " '__setattr__',\n",
       " '__sizeof__',\n",
       " '__str__',\n",
       " '__subclasshook__',\n",
       " '__weakref__',\n",
       " 'll',\n",
       " 'pop',\n",
       " 'push']"
      ]
     },
     "execution_count": 15,
     "metadata": {},
     "output_type": "execute_result"
    },
    {
     "data": {
      "text/plain": [
       "2"
      ]
     },
     "execution_count": 15,
     "metadata": {},
     "output_type": "execute_result"
    },
    {
     "data": {
      "text/plain": [
       "1"
      ]
     },
     "execution_count": 15,
     "metadata": {},
     "output_type": "execute_result"
    }
   ],
   "source": [
    "dir(stack)\n",
    "\n",
    "stack.ll.head.value\n",
    "stack.ll.head.next.value"
   ]
  },
  {
   "cell_type": "code",
   "execution_count": 18,
   "metadata": {
    "ExecuteTime": {
     "end_time": "2019-11-12T11:51:12.671862Z",
     "start_time": "2019-11-12T11:51:12.664865Z"
    },
    "hidden": true
   },
   "outputs": [
    {
     "name": "stdout",
     "output_type": "stream",
     "text": [
      "stack.pop().value:\t 2\n",
      "stack.pop().value:\t 1\n",
      "stack.pop():\t Stack is empty\n"
     ]
    }
   ],
   "source": [
    "print('stack.pop().value:\\t', stack.pop().value)\n",
    "print('stack.pop().value:\\t', stack.pop().value)\n",
    "print('stack.pop():\\t', stack.pop())"
   ]
  },
  {
   "cell_type": "code",
   "execution_count": 19,
   "metadata": {
    "ExecuteTime": {
     "end_time": "2019-11-12T11:51:15.756346Z",
     "start_time": "2019-11-12T11:51:15.750350Z"
    },
    "hidden": true,
    "scrolled": true
   },
   "outputs": [
    {
     "name": "stdout",
     "output_type": "stream",
     "text": [
      "4\n"
     ]
    }
   ],
   "source": [
    "stack.push(e4)\n",
    "print (stack.pop().value)"
   ]
  },
  {
   "cell_type": "markdown",
   "metadata": {
    "heading_collapsed": true,
    "hidden": true
   },
   "source": [
    "## Queues"
   ]
  },
  {
   "cell_type": "markdown",
   "metadata": {
    "hidden": true
   },
   "source": [
    "Let's look at implementing queues in Python. Queue's are mentioned in [Python's documentation](https://docs.python.org/2/tutorial/datastructures.html#using-lists-as-queues). Examine the code below:\n",
    "\n",
    "```\n",
    "from collections import deque\n",
    "```\n",
    "\n",
    "From a library called `collections`, you can import a package called `deque`. As was mentioned in the video, a deque is a double-ended queue. You can enqueue on either end, but in the example you only enqueue one way and treat it as a normal queue."
   ]
  },
  {
   "cell_type": "code",
   "execution_count": null,
   "metadata": {
    "hidden": true
   },
   "outputs": [],
   "source": [
    "\"\"\"Make a Queue class using a list!\n",
    "Hint: You can use any Python list method\n",
    "you'd like! Try to write each one in as \n",
    "few lines as possible.\n",
    "Make sure you pass the test cases too!\"\"\""
   ]
  },
  {
   "cell_type": "code",
   "execution_count": 64,
   "metadata": {
    "ExecuteTime": {
     "end_time": "2019-11-12T14:48:54.330972Z",
     "start_time": "2019-11-12T14:48:54.319978Z"
    },
    "hidden": true
   },
   "outputs": [],
   "source": [
    "from collections import deque\n",
    "\n",
    "from collections import deque\n",
    "s = deque()\n",
    "; s.append('eat'); s.pop()\n",
    "\n",
    "class Queue:\n",
    "    def __init__(self, head=None):\n",
    "        self.storage = deque([head])\n",
    "\n",
    "    def enqueue(self, new_element):\n",
    "        '''enqueue: add an element to the tail'''\n",
    "        return self.storage.append(new_element)\n",
    "\n",
    "    def peek(self):\n",
    "        return self.storage[0]\n",
    "\n",
    "    def dequeue(self):\n",
    "        '''dequeue: remove and return the head element'''\n",
    "        # deque_element = self.storage[0]\n",
    "        # self.storage = self.storage[1:]\n",
    "        return self.storage.popleft()\n",
    "    "
   ]
  },
  {
   "cell_type": "code",
   "execution_count": null,
   "metadata": {
    "hidden": true
   },
   "outputs": [],
   "source": [
    "# udacity solution\n",
    "\n",
    "class Queue(object):\n",
    "    def __init__(self, head=None):\n",
    "        self.storage = [head]\n",
    "\n",
    "    def enqueue(self, new_element):\n",
    "        self.storage.append(new_element)\n",
    "\n",
    "    def peek(self):\n",
    "        return self.storage[0]\n",
    "\n",
    "    def dequeue(self):\n",
    "        return self.storage.pop(0)"
   ]
  },
  {
   "cell_type": "code",
   "execution_count": 59,
   "metadata": {
    "ExecuteTime": {
     "end_time": "2019-11-12T14:47:26.661982Z",
     "start_time": "2019-11-12T14:47:26.656986Z"
    },
    "hidden": true
   },
   "outputs": [],
   "source": [
    "# Setup\n",
    "q = Queue(1)\n",
    "q.enqueue(2)\n",
    "q.enqueue(3)"
   ]
  },
  {
   "cell_type": "code",
   "execution_count": 60,
   "metadata": {
    "ExecuteTime": {
     "end_time": "2019-11-12T14:47:27.406116Z",
     "start_time": "2019-11-12T14:47:27.400120Z"
    },
    "hidden": true
   },
   "outputs": [
    {
     "name": "stdout",
     "output_type": "stream",
     "text": [
      "1\n"
     ]
    }
   ],
   "source": [
    "# Test peek\n",
    "# Should be 1\n",
    "print(q.peek())"
   ]
  },
  {
   "cell_type": "code",
   "execution_count": 61,
   "metadata": {
    "ExecuteTime": {
     "end_time": "2019-11-12T14:47:28.050176Z",
     "start_time": "2019-11-12T14:47:28.044179Z"
    },
    "hidden": true
   },
   "outputs": [
    {
     "name": "stdout",
     "output_type": "stream",
     "text": [
      "1\n"
     ]
    }
   ],
   "source": [
    "# Test dequeue\n",
    "# Should be 1\n",
    "print(q.dequeue())"
   ]
  },
  {
   "cell_type": "code",
   "execution_count": 62,
   "metadata": {
    "ExecuteTime": {
     "end_time": "2019-11-12T14:47:29.452669Z",
     "start_time": "2019-11-12T14:47:29.447671Z"
    },
    "hidden": true
   },
   "outputs": [],
   "source": [
    "# Test enqueue\n",
    "q.enqueue(4)"
   ]
  },
  {
   "cell_type": "code",
   "execution_count": 63,
   "metadata": {
    "ExecuteTime": {
     "end_time": "2019-11-12T14:47:30.561020Z",
     "start_time": "2019-11-12T14:47:30.552026Z"
    },
    "hidden": true,
    "scrolled": true
   },
   "outputs": [
    {
     "name": "stdout",
     "output_type": "stream",
     "text": [
      "2\n",
      "q.dequeue():\t 3\n",
      "q.dequeue():\t 4\n",
      "q.peek():\t 5\n"
     ]
    }
   ],
   "source": [
    "# Should be 2\n",
    "print(q.dequeue())\n",
    "\n",
    "# Should be 3\n",
    "print('q.dequeue():\\t', q.dequeue())\n",
    "\n",
    "# Should be 4\n",
    "print('q.dequeue():\\t', q.dequeue())\n",
    "\n",
    "q.enqueue(5)\n",
    "\n",
    "# Should be 5\n",
    "print('q.peek():\\t', q.peek())"
   ]
  },
  {
   "cell_type": "markdown",
   "metadata": {},
   "source": [
    "# L3: Searching and Sorting"
   ]
  },
  {
   "cell_type": "markdown",
   "metadata": {
    "heading_collapsed": true
   },
   "source": [
    "## Quiz Binary Search Practice"
   ]
  },
  {
   "cell_type": "markdown",
   "metadata": {
    "hidden": true
   },
   "source": [
    "Searches and sorts can be very hard to visualize and understand. If you need, go through the video a few more times until it really sinks in. [Here](http://www.cs.armstrong.edu/liang/animation/web/BinarySearch.html) is a supplementary visualization that might help as well!   \n",
    "\n",
    "<font color = 'green'>Python lists have a method called `index()`, which just does a search and <span style='background-color: lightyellow'>returns the first index with an instance of that value</span></font>. \n",
    "\n",
    "<b><font color = 'purple'>Next, you're going to write a binary search function that has the same result, but searches faster </font></b>. <font color = 'red'>Keep in mind the constraint for this exercise—for binary search, elements need to be in increasing order.</font>"
   ]
  },
  {
   "cell_type": "code",
   "execution_count": null,
   "metadata": {
    "hidden": true
   },
   "outputs": [],
   "source": [
    "\"\"\"You're going to write a binary search function.\n",
    "You should use an iterative approach - meaning\n",
    "using LOOPS!\n",
    "\n",
    "Your function should take two inputs:\n",
    "a Python list to search through, and the value\n",
    "you're searching for.\n",
    "\n",
    "Assume the list only has distinct elements,\n",
    "meaning there are no repeated values, and \n",
    "elements are in a strictly increasing order.\n",
    "\n",
    "Return the index of value, or -1 if the value\n",
    "doesn't exist in the list.\"\"\""
   ]
  },
  {
   "cell_type": "code",
   "execution_count": 26,
   "metadata": {
    "ExecuteTime": {
     "end_time": "2019-11-14T00:35:28.224976Z",
     "start_time": "2019-11-14T00:35:28.204989Z"
    },
    "collapsed": true,
    "hidden": true
   },
   "outputs": [
    {
     "name": "stdout",
     "output_type": "stream",
     "text": [
      "1_idx_arr:\t [0, 1, 2, 3, 4, 5, 6]\n",
      "------------------------------------------------------------\n",
      "midx:\t\t\t\t 3\n",
      "input_array[idx_arr[midx]]:\t 11\n",
      "len(idx_arr):\t 7\n",
      "valid_input_array:\t [1, 3, 9, 11, 15, 19, 29]\n",
      "2_idx_arr:\t [4, 5, 6]\n",
      "2_match_index:\t None\n",
      "1_idx_arr:\t [4, 5, 6]\n",
      "------------------------------------------------------------\n",
      "midx:\t\t\t\t 1\n",
      "input_array[idx_arr[midx]]:\t 19\n",
      "len(idx_arr):\t 3\n",
      "valid_input_array:\t [15, 19, 29]\n",
      "2_idx_arr:\t [4, 5]\n",
      "2_match_index:\t None\n",
      "1_idx_arr:\t [4, 5]\n",
      "------------------------------------------------------------\n",
      "midx:\t\t\t\t 0\n",
      "input_array[idx_arr[midx]]:\t 15\n",
      "len(idx_arr):\t 2\n",
      "valid_input_array:\t [15, 19]\n",
      "2_idx_arr:\t [4, 5]\n",
      "2_match_index:\t 4\n",
      "binary_search(test_list, test_val2):\t 4\n"
     ]
    }
   ],
   "source": [
    "from typing import List \n",
    "\n",
    "def binary_search(input_array: List[int], value: int):\n",
    "    \"\"\"Your code goes here.\"\"\"\n",
    "    # n = len(input_array)\n",
    "    # m_idx = round(n/2)-1\n",
    "    \n",
    "    match_index = None\n",
    "    \n",
    "    def split_check(idx_arr, match_index):\n",
    "        print('-'*60)\n",
    "        \n",
    "        midx = round(len(idx_arr)/2)-1 # middle item index value\n",
    "        print('midx:\\t\\t\\t\\t', midx)\n",
    "        print('input_array[idx_arr[midx]]:\\t', input_array[idx_arr[midx]])\n",
    "        print('len(idx_arr):\\t', len(idx_arr))\n",
    "        \n",
    "        d = [input_array[i] for i in idx_arr]\n",
    "        print('valid_input_array:\\t', d)\n",
    "        \n",
    "        if value == input_array[idx_arr[midx]]:\n",
    "            match_index = idx_arr[midx]\n",
    "        elif len(idx_arr) == 1 and value != input_array[idx_arr[midx]]:\n",
    "            match_index = -1\n",
    "        elif value > input_array[idx_arr[midx]]:\n",
    "            idx_arr = idx_arr[midx+1:]\n",
    "        elif value < input_array[idx_arr[midx]]:\n",
    "            idx_arr = idx_arr[:midx+1]\n",
    "        return idx_arr, match_index\n",
    "    \n",
    "    c = 0\n",
    "    idx_arr = list(range(len(input_array)))\n",
    "    while (match_index == None) and (c < 20):\n",
    "        c += 1\n",
    "        if c>18: print('infinte loop','-'*20)\n",
    "        print('1_idx_arr:\\t', idx_arr)\n",
    "        idx_arr, match_index = split_check(idx_arr, match_index) \n",
    "        print('2_idx_arr:\\t', idx_arr)\n",
    "        print('2_match_index:\\t', match_index)\n",
    "    \n",
    "    return match_index\n",
    "\n",
    "# test_list = [1,3,9,11,15,19,29]\n",
    "# test_val1 = 25\n",
    "\n",
    "# print('binary_search(test_list, test_val1):\\t', binary_search(test_list, test_val1))\n",
    "\n",
    "test_val2 = 15 # ans = 4\n",
    "print('binary_search(test_list, test_val2):\\t', binary_search(test_list, test_val2))"
   ]
  },
  {
   "cell_type": "code",
   "execution_count": 35,
   "metadata": {
    "ExecuteTime": {
     "end_time": "2019-11-14T01:36:33.135101Z",
     "start_time": "2019-11-14T01:36:33.122109Z"
    },
    "hidden": true
   },
   "outputs": [],
   "source": [
    "from typing import List \n",
    "\n",
    "def binary_search(input_array: List[int], value: int):\n",
    "    \"\"\"Your code goes here.\"\"\"\n",
    "    \n",
    "    def split_check(idx_arr, match_index):\n",
    "        \n",
    "        midx = round(len(idx_arr)/2)-1 # middle item index value\n",
    "        \n",
    "        if value == input_array[idx_arr[midx]]:\n",
    "            match_index = idx_arr[midx]\n",
    "        elif len(idx_arr) == 1 and value != input_array[idx_arr[midx]]:\n",
    "            match_index = -1\n",
    "        elif value > input_array[idx_arr[midx]]:\n",
    "            idx_arr = idx_arr[midx+1:]\n",
    "        elif value < input_array[idx_arr[midx]]:\n",
    "            idx_arr = idx_arr[:midx+1]\n",
    "        return idx_arr, match_index\n",
    "    \n",
    "    match_index = None\n",
    "    idx_arr = list(range(len(input_array)))\n",
    "    while (match_index == None):\n",
    "        idx_arr, match_index = split_check(idx_arr, match_index) \n",
    "    \n",
    "    return match_index"
   ]
  },
  {
   "cell_type": "code",
   "execution_count": 36,
   "metadata": {
    "ExecuteTime": {
     "end_time": "2019-11-14T01:36:35.120849Z",
     "start_time": "2019-11-14T01:36:35.114855Z"
    },
    "hidden": true
   },
   "outputs": [
    {
     "name": "stdout",
     "output_type": "stream",
     "text": [
      "binary_search(test_list, test_val2):\t 4\n"
     ]
    }
   ],
   "source": [
    "# test_list = [1,3,9,11,15,19,29]\n",
    "# test_val1 = 25\n",
    "\n",
    "# print('binary_search(test_list, test_val1):\\t', binary_search(test_list, test_val1))\n",
    "\n",
    "test_val2 = 15 # ans = 4\n",
    "print('binary_search(test_list, test_val2):\\t', binary_search(test_list, test_val2))"
   ]
  },
  {
   "cell_type": "code",
   "execution_count": 33,
   "metadata": {
    "ExecuteTime": {
     "end_time": "2019-11-14T00:43:14.520800Z",
     "start_time": "2019-11-14T00:43:14.513807Z"
    },
    "hidden": true
   },
   "outputs": [],
   "source": [
    "# udacity soln \n",
    "\n",
    "def binary_search(input_array, value):\n",
    "    low = 0\n",
    "    high = len(input_array) - 1\n",
    "    while (low <= high):\n",
    "        mid = (low + high) // 2 \n",
    "        if(input_array[mid] == value):\n",
    "            return mid\n",
    "        elif (input_array[mid] < value):\n",
    "            low = mid + 1\n",
    "        else:\n",
    "            high = mid - 1\n",
    "    return -1"
   ]
  },
  {
   "cell_type": "markdown",
   "metadata": {
    "heading_collapsed": true
   },
   "source": [
    "## Quiz: Recursion Practice"
   ]
  },
  {
   "cell_type": "markdown",
   "metadata": {
    "hidden": true
   },
   "source": [
    "We're going to take a look at recursion with a famous example—the Fibonacci Sequence.   \n",
    "\n",
    "The Fibonacci Sequence follows one rule: get the next number in the sequence by adding the two previous numbers. Here is an example of the sequence:\n",
    "\n",
    "```\n",
    "0,1,1,2,3,5,8,13,21,34...\n",
    "```\n",
    "\n",
    "Step through each value. You start with 0 and 1. 0 + 1 = 1, so you add 1 to the sequence. 1 + 1 = 2, so 2 is added. 1 + 2 = 3, so 3. 2 + 3 = 5, et cetera.   \n",
    "\n",
    "You could represent these numbers as Python list, and it would look something like this:\n",
    "\n",
    "```\n",
    "fib_seq = []\n",
    "fib_seq[0] = 0\n",
    "fib_seq[1] = 1\n",
    "fib_seq[2] = 1\n",
    "fib_seq[3] = 2\n",
    "fib_seq[4] = 3\n",
    "fib_seq[5] = 5\n",
    "fib_seq[6] = 8\n",
    "fib_seq[7] = 13\n",
    "fib_seq[8] = 21\n",
    "fib_seq[9] = 34\n",
    "```\n",
    "\n",
    "We can generate this sequence using an iterative method (with loops):\n",
    "\n",
    "```\n",
    "function getFib(position) {\n",
    "  if (position == 0) { return 0; }\n",
    "  if (position == 1) { return 1; }\n",
    "  var first = 0,\n",
    "      second = 1,\n",
    "      next = first + second;\n",
    "  for (var i = 2; i < position; i++) {\n",
    "    first = second;\n",
    "    second = next;\n",
    "    next = first + second;\n",
    "  }\n",
    "  return next;\n",
    "}\n",
    "```\n",
    "\n",
    "In the quiz, you'll be implementing `get_fib()` in a recursive way."
   ]
  },
  {
   "cell_type": "code",
   "execution_count": null,
   "metadata": {
    "hidden": true
   },
   "outputs": [],
   "source": [
    "\"\"\"Implement a function recursively to get the desired\n",
    "Fibonacci sequence value.\n",
    "Your code should have the same input/output as the \n",
    "iterative code in the instructions.\"\"\""
   ]
  },
  {
   "cell_type": "code",
   "execution_count": 38,
   "metadata": {
    "ExecuteTime": {
     "end_time": "2019-11-14T07:16:28.811011Z",
     "start_time": "2019-11-14T07:16:28.804015Z"
    },
    "hidden": true
   },
   "outputs": [
    {
     "name": "stdout",
     "output_type": "stream",
     "text": [
      "34\n"
     ]
    }
   ],
   "source": [
    "def get_fib(position):\n",
    "    if position == 0: return 0 # base case\n",
    "    elif position == 1: return 1\n",
    "    else:\n",
    "        return (get_fib(position-1) + get_fib(position-2))\n",
    "\n",
    "# Test cases\n",
    "# print(get_fib(9))\n",
    "print get_fib(11)\n",
    "# print get_fib(0)"
   ]
  },
  {
   "cell_type": "code",
   "execution_count": null,
   "metadata": {
    "hidden": true
   },
   "outputs": [],
   "source": [
    "# udacity soln\n",
    "\n",
    "def get_fib(position):\n",
    "    if position == 0 or position == 1:\n",
    "        return position\n",
    "    return get_fib(position - 1) + get_fib(position - 2)"
   ]
  },
  {
   "cell_type": "markdown",
   "metadata": {
    "hidden": true
   },
   "source": [
    "Isn't that elegant? We took a short function and managed to write it in even fewer lines!   \n",
    "\n",
    "You may have noticed that this solution will compute the values of some inputs more than once. For example  `get_fib(4)` calls `get_fib(3)` and `get_fib(2)`, `get_fib(3)` calls `get_fib(2)` and `get_fib(1)` etc. The number of recursive calls grows exponentially with `n`.\n",
    "\n",
    "In practice if we were to use recursion to solve this problem we should use a hash table to store and fetch previously calculated results.  This will increase the space needed but will drastically improve the runtime efficiency."
   ]
  },
  {
   "cell_type": "markdown",
   "metadata": {},
   "source": [
    "## Quiz: Bubble Sort Practice"
   ]
  },
  {
   "cell_type": "markdown",
   "metadata": {},
   "source": [
    "Sorting techniques can be tricky—sometimes the best way to understand them is to watch a visual of a sorting algorithm in action again and again. When I was first learning sorting, I used to check out the [Wikipedia page](https://en.wikipedia.org/wiki/Bubble_sort) for each sort. There's normally some colorful illustration near the top, then a GIF showing the sort in action. There are plenty of other visualizations on the World Wide Web—take the time to look around if you need it!\n",
    "\n"
   ]
  },
  {
   "cell_type": "markdown",
   "metadata": {},
   "source": [
    "<img src='pics/INT5_7.png' alt='Drawing' style='width:425pt'/>"
   ]
  },
  {
   "cell_type": "markdown",
   "metadata": {},
   "source": [
    "## Quiz: Merge Sort Practice"
   ]
  },
  {
   "cell_type": "raw",
   "metadata": {},
   "source": [
    "21,4,1,3,9,20,25     :strt\n",
    "\n",
    "21, 1,4, 3,9, 20,25  :3 comparisons 1st iteration\n",
    "1,4,21, 3,9,20,25    :5 comparisons 2nd iteration\n",
    "\n",
    "1,3,4,9,20,21,25\n"
   ]
  },
  {
   "cell_type": "raw",
   "metadata": {},
   "source": [
    "# ud soln\n",
    "Depending on the way you design your merge sort, you could get a few different solutions, but this was the answer:\n",
    "\n",
    "[21, 4, 1, 3, 9, 20, 25] (Original Array)\n",
    "[21, 1, 4, 3, 9, 20, 25] (1)\n",
    "[1, 4, 21, 3, 9, 20, 25] (2)\n",
    "[1, 3, 4, 9, 20, 21, 25] (3)"
   ]
  },
  {
   "cell_type": "markdown",
   "metadata": {
    "ExecuteTime": {
     "end_time": "2019-11-15T17:40:20.313024Z",
     "start_time": "2019-11-15T17:40:20.258207Z"
    }
   },
   "source": [
    "## Quiz: Quick Sort (algorithm implementation)"
   ]
  },
  {
   "cell_type": "code",
   "execution_count": null,
   "metadata": {},
   "outputs": [],
   "source": [
    "\"\"\"Implement quick sort in Python.\n",
    "Input a list.\n",
    "Output a sorted list.\"\"\""
   ]
  },
  {
   "cell_type": "code",
   "execution_count": 40,
   "metadata": {
    "ExecuteTime": {
     "end_time": "2019-11-15T17:40:58.608837Z",
     "start_time": "2019-11-15T17:40:58.595845Z"
    }
   },
   "outputs": [
    {
     "name": "stdout",
     "output_type": "stream",
     "text": [
      "[]\n"
     ]
    }
   ],
   "source": [
    "import copy\n",
    "\n",
    "def quicksort(array):\n",
    "    \n",
    "    \n",
    "    pivot = copy.deepcopy(array[-1])\n",
    "    for e in array:\n",
    "        if e > pivot:\n",
    "            \n",
    "        \n",
    "    \n",
    "    return []\n",
    "\n",
    "test = [21, 4, 1, 3, 9, 20, 25, 6, 21, 14]\n",
    "print(quicksort(test))"
   ]
  },
  {
   "cell_type": "markdown",
   "metadata": {
    "heading_collapsed": true
   },
   "source": [
    "# L4: Maps and Hashing"
   ]
  },
  {
   "cell_type": "markdown",
   "metadata": {},
   "source": [
    "# L5: Trees"
   ]
  },
  {
   "cell_type": "markdown",
   "metadata": {},
   "source": [
    "# L6: Graphs"
   ]
  },
  {
   "cell_type": "markdown",
   "metadata": {},
   "source": [
    "# L7: Case Studies in Algorithms"
   ]
  },
  {
   "cell_type": "markdown",
   "metadata": {},
   "source": [
    "# L8: Technical Interviewing Techniques"
   ]
  }
 ],
 "metadata": {
  "hide_input": false,
  "kernelspec": {
   "display_name": "Python 3",
   "language": "python",
   "name": "python3"
  },
  "language_info": {
   "codemirror_mode": {
    "name": "ipython",
    "version": 3
   },
   "file_extension": ".py",
   "mimetype": "text/x-python",
   "name": "python",
   "nbconvert_exporter": "python",
   "pygments_lexer": "ipython3",
   "version": "3.7.1"
  },
  "toc": {
   "base_numbering": 1,
   "nav_menu": {},
   "number_sections": true,
   "sideBar": true,
   "skip_h1_title": false,
   "title_cell": "Table of Contents",
   "title_sidebar": "Contents",
   "toc_cell": true,
   "toc_position": {
    "height": "calc(100% - 180px)",
    "left": "10px",
    "top": "150px",
    "width": "213.333px"
   },
   "toc_section_display": true,
   "toc_window_display": false
  }
 },
 "nbformat": 4,
 "nbformat_minor": 2
}
