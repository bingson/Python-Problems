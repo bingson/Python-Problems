{
 "cells": [
  {
   "cell_type": "markdown",
   "metadata": {
    "toc": true
   },
   "source": [
    "<h1>Table of Contents<span class=\"tocSkip\"></span></h1>\n",
    "<div class=\"toc\"><ul class=\"toc-item\"><li><span><a href=\"#BigO\" data-toc-modified-id=\"BigO-1\"><span class=\"toc-item-num\">1&nbsp;&nbsp;</span>BigO</a></span><ul class=\"toc-item\"><li><span><a href=\"#Big-O-Examples\" data-toc-modified-id=\"Big-O-Examples-1.1\"><span class=\"toc-item-num\">1.1&nbsp;&nbsp;</span>Big O Examples</a></span></li><li><span><a href=\"#Calculating-Scale-of-Big-O\" data-toc-modified-id=\"Calculating-Scale-of-Big-O-1.2\"><span class=\"toc-item-num\">1.2&nbsp;&nbsp;</span>Calculating Scale of Big-O</a></span></li><li><span><a href=\"#Worst-Case-vs-Best-Case\" data-toc-modified-id=\"Worst-Case-vs-Best-Case-1.3\"><span class=\"toc-item-num\">1.3&nbsp;&nbsp;</span>Worst Case vs Best Case</a></span></li><li><span><a href=\"#Space-Complexity\" data-toc-modified-id=\"Space-Complexity-1.4\"><span class=\"toc-item-num\">1.4&nbsp;&nbsp;</span>Space Complexity</a></span></li></ul></li><li><span><a href=\"#Array-Sequences\" data-toc-modified-id=\"Array-Sequences-2\"><span class=\"toc-item-num\">2&nbsp;&nbsp;</span>Array Sequences</a></span></li><li><span><a href=\"#Dynamic-Arrays-(anagrams)\" data-toc-modified-id=\"Dynamic-Arrays-(anagrams)-3\"><span class=\"toc-item-num\">3&nbsp;&nbsp;</span>Dynamic Arrays (anagrams)</a></span></li><li><span><a href=\"#Array-Algorithms-(unique-pairs-=-tgt-sum)\" data-toc-modified-id=\"Array-Algorithms-(unique-pairs-=-tgt-sum)-4\"><span class=\"toc-item-num\">4&nbsp;&nbsp;</span>Array Algorithms (unique pairs = tgt sum)</a></span></li><li><span><a href=\"#Largest-Sum-of-consecutive-integers-in-an-array\" data-toc-modified-id=\"Largest-Sum-of-consecutive-integers-in-an-array-5\"><span class=\"toc-item-num\">5&nbsp;&nbsp;</span>Largest Sum of consecutive integers in an array</a></span></li><li><span><a href=\"#How-to-Reverse-a-String\" data-toc-modified-id=\"How-to-Reverse-a-String-6\"><span class=\"toc-item-num\">6&nbsp;&nbsp;</span>How to Reverse a String</a></span></li><li><span><a href=\"#Array-Analysis\" data-toc-modified-id=\"Array-Analysis-7\"><span class=\"toc-item-num\">7&nbsp;&nbsp;</span>Array Analysis</a></span></li><li><span><a href=\"#Array-Common-Elements\" data-toc-modified-id=\"Array-Common-Elements-8\"><span class=\"toc-item-num\">8&nbsp;&nbsp;</span>Array Common Elements</a></span></li><li><span><a href=\"#Minesweeper\" data-toc-modified-id=\"Minesweeper-9\"><span class=\"toc-item-num\">9&nbsp;&nbsp;</span>Minesweeper</a></span></li><li><span><a href=\"#Frequent-Count\" data-toc-modified-id=\"Frequent-Count-10\"><span class=\"toc-item-num\">10&nbsp;&nbsp;</span>Frequent Count</a></span></li><li><span><a href=\"#Unique-Characters-in-Strings\" data-toc-modified-id=\"Unique-Characters-in-Strings-11\"><span class=\"toc-item-num\">11&nbsp;&nbsp;</span>Unique Characters in Strings</a></span></li><li><span><a href=\"#Non-Repeat-Elements-in-Array\" data-toc-modified-id=\"Non-Repeat-Elements-in-Array-12\"><span class=\"toc-item-num\">12&nbsp;&nbsp;</span>Non-Repeat Elements in Array</a></span></li></ul></div>"
   ]
  },
  {
   "cell_type": "code",
   "execution_count": 154,
   "metadata": {
    "ExecuteTime": {
     "end_time": "2019-09-06T05:37:07.754298Z",
     "start_time": "2019-09-06T05:37:07.749300Z"
    }
   },
   "outputs": [],
   "source": [
    "# Pretty display multiple variables without print statement\n",
    "from IPython.core.interactiveshell import InteractiveShell\n",
    "InteractiveShell.ast_node_interactivity = \"all\""
   ]
  },
  {
   "cell_type": "markdown",
   "metadata": {},
   "source": [
    "# BigO"
   ]
  },
  {
   "cell_type": "markdown",
   "metadata": {},
   "source": [
    "> <span style='background-color: lightgreen'>Big O notation</span> describies how quickly the run-time will grow relative to the input as the input gets arbitrarily large"
   ]
  },
  {
   "cell_type": "markdown",
   "metadata": {},
   "source": [
    "https://www.bigocheatsheet.com\n",
    "<img src='pics/INT_4.png' alt='Drawing' style='width:425pt'/>\n",
    "\n",
    "<img src='pics/6.png' alt='Drawing' style='width:pt'/>"
   ]
  },
  {
   "cell_type": "markdown",
   "metadata": {},
   "source": [
    "##### Toy Example"
   ]
  },
  {
   "cell_type": "markdown",
   "metadata": {
    "ExecuteTime": {
     "end_time": "2019-09-04T07:06:05.153755Z",
     "start_time": "2019-09-04T07:06:05.145945Z"
    }
   },
   "source": [
    "Big O objectively compares the efficiency of algorithms. Essentially it compares the number of assignments each algorithm makes. \n",
    "\n",
    "The original sum1 function will create an assignment n+1 times, \n",
    "\n",
    "* we can see this from the range based function. <font color = 'blue'>This means it will assign the final_sum variable n+1 times</font>. We can then say that for a problem of n size (in this case just a number n) this function will take 1+n steps.\n",
    "\n",
    "As n gets arbitrarily large we only worry about terms that will grow the fastest as n gets large, to this point, Big-O analysis is also known as asymptotic analysis: describing limiting behavior"
   ]
  },
  {
   "cell_type": "code",
   "execution_count": 2,
   "metadata": {
    "ExecuteTime": {
     "end_time": "2019-09-04T07:01:01.057931Z",
     "start_time": "2019-09-04T07:01:01.052073Z"
    }
   },
   "outputs": [],
   "source": [
    "def sum1(n):\n",
    "    '''\n",
    "    Take an input n and rtn the sume of the numbers from 0 to n\n",
    "    '''\n",
    "    final_sum = 0\n",
    "    for x in range(n+1):\n",
    "        final_sum += x\n",
    "    return final_sum\n"
   ]
  },
  {
   "cell_type": "code",
   "execution_count": 4,
   "metadata": {
    "ExecuteTime": {
     "end_time": "2019-09-04T07:03:55.884784Z",
     "start_time": "2019-09-04T07:03:55.869163Z"
    }
   },
   "outputs": [
    {
     "data": {
      "text/plain": [
       "15"
      ]
     },
     "execution_count": 4,
     "metadata": {},
     "output_type": "execute_result"
    }
   ],
   "source": [
    "sum1(5)"
   ]
  },
  {
   "cell_type": "code",
   "execution_count": 15,
   "metadata": {
    "ExecuteTime": {
     "end_time": "2019-09-04T07:13:38.182328Z",
     "start_time": "2019-09-04T07:13:31.150057Z"
    }
   },
   "outputs": [
    {
     "name": "stdout",
     "output_type": "stream",
     "text": [
      "8.58 µs ± 772 ns per loop (mean ± std. dev. of 7 runs, 100000 loops each)\n"
     ]
    }
   ],
   "source": [
    "%timeit sum1(100)"
   ]
  },
  {
   "cell_type": "code",
   "execution_count": 8,
   "metadata": {
    "ExecuteTime": {
     "end_time": "2019-09-04T07:11:02.426595Z",
     "start_time": "2019-09-04T07:11:00.427045Z"
    }
   },
   "outputs": [
    {
     "name": "stdout",
     "output_type": "stream",
     "text": [
      "244 ns ± 27.3 ns per loop (mean ± std. dev. of 7 runs, 1000000 loops each)\n"
     ]
    }
   ],
   "source": [
    "%timeit sum2(100)"
   ]
  },
  {
   "cell_type": "code",
   "execution_count": 5,
   "metadata": {
    "ExecuteTime": {
     "end_time": "2019-09-04T07:05:19.660260Z",
     "start_time": "2019-09-04T07:05:19.655378Z"
    }
   },
   "outputs": [],
   "source": [
    "def sum2(n):\n",
    "    \"\"\"\n",
    "    Take an input of n and rtn the sum of the numbers form 0 to n\n",
    "    \"\"\"\n",
    "    return (n*(n+1))/2"
   ]
  },
  {
   "cell_type": "code",
   "execution_count": 6,
   "metadata": {
    "ExecuteTime": {
     "end_time": "2019-09-04T07:05:26.395198Z",
     "start_time": "2019-09-04T07:05:26.388364Z"
    }
   },
   "outputs": [
    {
     "data": {
      "text/plain": [
       "15.0"
      ]
     },
     "execution_count": 6,
     "metadata": {},
     "output_type": "execute_result"
    }
   ],
   "source": [
    "sum2(5)"
   ]
  },
  {
   "cell_type": "code",
   "execution_count": 17,
   "metadata": {
    "ExecuteTime": {
     "end_time": "2019-09-04T07:46:51.697908Z",
     "start_time": "2019-09-04T07:46:51.689122Z"
    }
   },
   "outputs": [
    {
     "data": {
      "text/plain": [
       "84"
      ]
     },
     "execution_count": 17,
     "metadata": {},
     "output_type": "execute_result"
    }
   ],
   "source": [
    "def Bigo(n):\n",
    "    return 45*n**3 + 20*n**2 + 19\n",
    "\n",
    "Bigo(1)"
   ]
  },
  {
   "cell_type": "code",
   "execution_count": 19,
   "metadata": {
    "ExecuteTime": {
     "end_time": "2019-09-04T07:52:49.683570Z",
     "start_time": "2019-09-04T07:52:49.677711Z"
    }
   },
   "outputs": [
    {
     "data": {
      "text/plain": [
       "459"
      ]
     },
     "execution_count": 19,
     "metadata": {},
     "output_type": "execute_result"
    }
   ],
   "source": [
    "Bigo(2)"
   ]
  },
  {
   "cell_type": "code",
   "execution_count": 18,
   "metadata": {
    "ExecuteTime": {
     "end_time": "2019-09-04T07:50:43.905925Z",
     "start_time": "2019-09-04T07:50:43.899092Z"
    }
   },
   "outputs": [
    {
     "data": {
      "text/plain": [
       "47019"
      ]
     },
     "execution_count": 18,
     "metadata": {},
     "output_type": "execute_result"
    }
   ],
   "source": [
    "Bigo(10)"
   ]
  },
  {
   "cell_type": "markdown",
   "metadata": {},
   "source": [
    "The 19 constant becomes meaningless to the result as n grows.\n",
    "\n",
    "When n = 10\n",
    "\n",
    "* The ```20n**2``` in this case is 2000\n",
    "\n",
    "* The ```45n**2``` in this case is 45000\n",
    "\n",
    "```O(n**3)```  <- order of complexity of Bigo(n) function\n",
    "> <font color = 'blue'>The part of this algo that really has a lot to do with final answer as data scales, will not be 45 but the ```n**3```. <font color = 'red'>So this algo has an order of ```n**3```or ```O(n**3)```</font> </font>"
   ]
  },
  {
   "cell_type": "markdown",
   "metadata": {},
   "source": [
    "##### BigO Relative Runtime Graph"
   ]
  },
  {
   "cell_type": "code",
   "execution_count": 6,
   "metadata": {
    "ExecuteTime": {
     "end_time": "2019-09-04T16:14:33.033057Z",
     "start_time": "2019-09-04T16:14:32.641716Z"
    }
   },
   "outputs": [
    {
     "data": {
      "text/plain": [
       "Text(0.5, 0, 'n')"
      ]
     },
     "execution_count": 6,
     "metadata": {},
     "output_type": "execute_result"
    },
    {
     "data": {
      "image/png": "[encoded data removed]",
      "text/plain": [
       "<Figure size 864x720 with 1 Axes>"
      ]
     },
     "metadata": {
      "needs_background": "light"
     },
     "output_type": "display_data"
    }
   ],
   "source": [
    "from math import log\n",
    "import numpy as np\n",
    "import matplotlib.pyplot as plt\n",
    "%matplotlib inline\n",
    "plt.style.use('bmh')\n",
    "\n",
    "# set up runtime comparisons\n",
    "n = np.linspace(1,10) # 50 intervals btn 1 and 10\n",
    "labels = ['Constant', \n",
    "          'Logarithmic', \n",
    "          'Linear', \n",
    "          'Log Linear', \n",
    "          'Quadratic', \n",
    "          'Cublic', \n",
    "          'Exponential']\n",
    "\n",
    "big_o = [np.ones(n.shape), \n",
    "         np.log(n),\n",
    "         n,\n",
    "         n*np.log(n),\n",
    "         n**2,\n",
    "         n**3,\n",
    "         2**n]\n",
    "\n",
    "# plot setup\n",
    "plt.figure(figsize=(12,10))\n",
    "plt.ylim(0,50)\n",
    "\n",
    "for i in range(len(big_o)):\n",
    "    plt.plot(n, big_o[i], label=labels[i])\n",
    "\n",
    "plt.legend(loc=0)\n",
    "plt.ylabel('Relative Runtime')\n",
    "plt.xlabel('n')"
   ]
  },
  {
   "cell_type": "markdown",
   "metadata": {},
   "source": [
    "## Big O Examples"
   ]
  },
  {
   "cell_type": "markdown",
   "metadata": {},
   "source": [
    "##### O(1) Constant"
   ]
  },
  {
   "cell_type": "code",
   "execution_count": 24,
   "metadata": {
    "ExecuteTime": {
     "end_time": "2019-09-04T18:36:32.553262Z",
     "start_time": "2019-09-04T18:36:32.548266Z"
    }
   },
   "outputs": [
    {
     "name": "stdout",
     "output_type": "stream",
     "text": [
      "1\n"
     ]
    }
   ],
   "source": [
    "def func_constant(values):\n",
    "    '''\n",
    "    Prints 1st item in a list of values\n",
    "    '''\n",
    "    print(values[0])\n",
    "\n",
    "func_constant(range(1,11))\n",
    "    "
   ]
  },
  {
   "cell_type": "markdown",
   "metadata": {},
   "source": [
    "It does not matter how large my values list becomes, the function/algo will only grab the indexed position 0 in that list."
   ]
  },
  {
   "cell_type": "markdown",
   "metadata": {},
   "source": [
    "##### O(n) Linear"
   ]
  },
  {
   "cell_type": "code",
   "execution_count": 23,
   "metadata": {
    "ExecuteTime": {
     "end_time": "2019-09-04T18:36:24.871878Z",
     "start_time": "2019-09-04T18:36:24.864885Z"
    }
   },
   "outputs": [
    {
     "name": "stdout",
     "output_type": "stream",
     "text": [
      "1\n",
      "2\n",
      "3\n",
      "4\n",
      "5\n",
      "6\n",
      "7\n",
      "8\n",
      "9\n",
      "10\n"
     ]
    }
   ],
   "source": [
    "def func_lin(lst):\n",
    "    '''\n",
    "    Takes in list and prints out all values\n",
    "    '''\n",
    "    for val in lst:\n",
    "        print(val)\n",
    "\n",
    "func_lin(range(1,11))"
   ]
  },
  {
   "cell_type": "markdown",
   "metadata": {},
   "source": [
    "Every values will print for the list, each time, so the larger the list gets the larger the BigO. This algo will scale linearly with n."
   ]
  },
  {
   "cell_type": "markdown",
   "metadata": {},
   "source": [
    "##### O(n^2) Quadratic"
   ]
  },
  {
   "cell_type": "code",
   "execution_count": 25,
   "metadata": {
    "ExecuteTime": {
     "end_time": "2019-09-04T18:38:41.962114Z",
     "start_time": "2019-09-04T18:38:41.947124Z"
    },
    "collapsed": true
   },
   "outputs": [
    {
     "name": "stdout",
     "output_type": "stream",
     "text": [
      "1 1\n",
      "1 2\n",
      "1 3\n",
      "1 4\n",
      "1 5\n",
      "1 6\n",
      "1 7\n",
      "1 8\n",
      "1 9\n",
      "1 10\n",
      "2 1\n",
      "2 2\n",
      "2 3\n",
      "2 4\n",
      "2 5\n",
      "2 6\n",
      "2 7\n",
      "2 8\n",
      "2 9\n",
      "2 10\n",
      "3 1\n",
      "3 2\n",
      "3 3\n",
      "3 4\n",
      "3 5\n",
      "3 6\n",
      "3 7\n",
      "3 8\n",
      "3 9\n",
      "3 10\n",
      "4 1\n",
      "4 2\n",
      "4 3\n",
      "4 4\n",
      "4 5\n",
      "4 6\n",
      "4 7\n",
      "4 8\n",
      "4 9\n",
      "4 10\n",
      "5 1\n",
      "5 2\n",
      "5 3\n",
      "5 4\n",
      "5 5\n",
      "5 6\n",
      "5 7\n",
      "5 8\n",
      "5 9\n",
      "5 10\n",
      "6 1\n",
      "6 2\n",
      "6 3\n",
      "6 4\n",
      "6 5\n",
      "6 6\n",
      "6 7\n",
      "6 8\n",
      "6 9\n",
      "6 10\n",
      "7 1\n",
      "7 2\n",
      "7 3\n",
      "7 4\n",
      "7 5\n",
      "7 6\n",
      "7 7\n",
      "7 8\n",
      "7 9\n",
      "7 10\n",
      "8 1\n",
      "8 2\n",
      "8 3\n",
      "8 4\n",
      "8 5\n",
      "8 6\n",
      "8 7\n",
      "8 8\n",
      "8 9\n",
      "8 10\n",
      "9 1\n",
      "9 2\n",
      "9 3\n",
      "9 4\n",
      "9 5\n",
      "9 6\n",
      "9 7\n",
      "9 8\n",
      "9 9\n",
      "9 10\n",
      "10 1\n",
      "10 2\n",
      "10 3\n",
      "10 4\n",
      "10 5\n",
      "10 6\n",
      "10 7\n",
      "10 8\n",
      "10 9\n",
      "10 10\n"
     ]
    }
   ],
   "source": [
    "def func_quad(lst):\n",
    "    '''\n",
    "    Print pairs for every item in list\n",
    "    '''\n",
    "    for item_1 in lst:   ih\n",
    "        for item_2 in lst:\n",
    "            print(item_1,item_2)\n",
    "\n",
    "func_quad(range(1,11))"
   ]
  },
  {
   "cell_type": "markdown",
   "metadata": {},
   "source": [
    "* two loops, one nested inside another\n",
    "\n",
    "\n",
    "* for a list of n items, we will have to perform n operations for every item in the list! \n",
    "\n",
    "    This mean in total, we will perform n times n assignments, or ```n^2```. So a list of 10 items will have ```10^2```, or 100 operations.\n",
    "\n",
    "\n",
    "* hence, the input of 3 gives us 9 outputs iterations\n"
   ]
  },
  {
   "cell_type": "markdown",
   "metadata": {},
   "source": [
    "## Calculating Scale of Big-O"
   ]
  },
  {
   "cell_type": "markdown",
   "metadata": {},
   "source": [
    "When it comes to Big-O notation we only care about the most significant terms (most contribute to the output), remember as the input grows larger only the fastest growing terms will matter.\n",
    "* like taking limits towards infinity"
   ]
  },
  {
   "cell_type": "markdown",
   "metadata": {},
   "source": [
    "order of ```BigO()``` earlier: ```19, 20, 45, n**2, n**3```"
   ]
  },
  {
   "cell_type": "code",
   "execution_count": 26,
   "metadata": {
    "ExecuteTime": {
     "end_time": "2019-09-04T18:51:37.408473Z",
     "start_time": "2019-09-04T18:51:37.400478Z"
    },
    "cell_style": "center"
   },
   "outputs": [
    {
     "name": "stdout",
     "output_type": "stream",
     "text": [
      "1\n",
      "2\n",
      "3\n",
      "4\n",
      "5\n",
      "6\n",
      "7\n",
      "8\n",
      "9\n",
      "10\n"
     ]
    }
   ],
   "source": [
    "def print_once(lst):\n",
    "    '''\n",
    "    prints all items once\n",
    "    '''\n",
    "    for val in lst:\n",
    "        print(val)\n",
    "\n",
    "print_once(range(1,11))"
   ]
  },
  {
   "cell_type": "code",
   "execution_count": 27,
   "metadata": {
    "ExecuteTime": {
     "end_time": "2019-09-04T18:56:36.038261Z",
     "start_time": "2019-09-04T18:56:36.029268Z"
    },
    "cell_style": "center",
    "collapsed": true
   },
   "outputs": [
    {
     "name": "stdout",
     "output_type": "stream",
     "text": [
      "1\n",
      "2\n",
      "3\n",
      "4\n",
      "5\n",
      "6\n",
      "7\n",
      "8\n",
      "9\n",
      "10\n",
      "1\n",
      "2\n",
      "3\n",
      "4\n",
      "5\n",
      "6\n",
      "7\n",
      "8\n",
      "9\n",
      "10\n",
      "1\n",
      "2\n",
      "3\n",
      "4\n",
      "5\n",
      "6\n",
      "7\n",
      "8\n",
      "9\n",
      "10\n"
     ]
    }
   ],
   "source": [
    "def print_3(lst):\n",
    "    '''\n",
    "    prints all items once\n",
    "    '''\n",
    "    for val in lst:\n",
    "        print(val)\n",
    "    \n",
    "    for val in lst:\n",
    "        print(val)\n",
    "    \n",
    "    for val in lst:\n",
    "        print(val)\n",
    "\n",
    "print_3(range(1,11))"
   ]
  },
  {
   "cell_type": "markdown",
   "metadata": {},
   "source": [
    "This algo will run 3 times for each n, so this becomes order of 3(n). It is stil llinear.\n",
    "\n",
    "<font color = 'red'>More importantantly, ```3(infinity)``` is not really different than ```(infinity)``` and <span style='background-color: lightyellow'>we can drop insignificant constants</span></font>.\n",
    "\n",
    "<font color = 'blue'>**So this too is O(n)**</font>"
   ]
  },
  {
   "cell_type": "code",
   "execution_count": 28,
   "metadata": {
    "ExecuteTime": {
     "end_time": "2019-09-04T19:50:45.281324Z",
     "start_time": "2019-09-04T19:50:45.274330Z"
    }
   },
   "outputs": [],
   "source": [
    "def comp(lst):\n",
    "    '''\n",
    "    This function prints the first item O(1) it is a constant\n",
    "    Then it prints the first 1/2 of the list O(n/2)\n",
    "    Then prints a string 10 times O(10) it is a constant\n",
    "    '''\n",
    "    print(lst[0])\n",
    "    \n",
    "    midpoint = len(lst)//2\n",
    "    \n",
    "    for val in lst[:midpoint]:\n",
    "        print(val)\n",
    "    \n",
    "    for val in range(10):\n",
    "        print('number')\n",
    "        "
   ]
  },
  {
   "cell_type": "code",
   "execution_count": 29,
   "metadata": {
    "ExecuteTime": {
     "end_time": "2019-09-04T19:50:59.528122Z",
     "start_time": "2019-09-04T19:50:59.523125Z"
    }
   },
   "outputs": [
    {
     "name": "stdout",
     "output_type": "stream",
     "text": [
      "1\n",
      "1\n",
      "2\n",
      "3\n",
      "4\n",
      "5\n",
      "number\n",
      "number\n",
      "number\n",
      "number\n",
      "number\n",
      "number\n",
      "number\n",
      "number\n",
      "number\n",
      "number\n"
     ]
    }
   ],
   "source": [
    "lst = range(1,11)\n",
    "comp(lst)"
   ]
  },
  {
   "cell_type": "markdown",
   "metadata": {},
   "source": [
    "```\n",
    "O(1) + O(n/2) + O(10) = O(1 + n/2 + 10)\n",
    "```\n",
    "As n gets larger (scales up) you can see how the 1 and the 10 quickly begin to mean nothing. And the ```/2``` will begin to have no effect either.\n",
    "\n",
    "So this too is O(n)"
   ]
  },
  {
   "cell_type": "markdown",
   "metadata": {},
   "source": [
    "## Worst Case vs Best Case"
   ]
  },
  {
   "cell_type": "markdown",
   "metadata": {},
   "source": [
    "Often we are only concerned with the worst possible case of an algorithm, but in an interview setting its important to keep in mind that worst case and best case scenarios may be completely different Big-O times."
   ]
  },
  {
   "cell_type": "code",
   "execution_count": 30,
   "metadata": {
    "ExecuteTime": {
     "end_time": "2019-09-04T20:31:50.645745Z",
     "start_time": "2019-09-04T20:31:50.639747Z"
    }
   },
   "outputs": [],
   "source": [
    "def matcher(lst, match):\n",
    "    '''\n",
    "    given a list, return a boolean indicating if match item is in the list\n",
    "    '''\n",
    "    for item in lst:\n",
    "        if item == match:\n",
    "            return True\n",
    "        return False \n",
    "    "
   ]
  },
  {
   "cell_type": "code",
   "execution_count": 31,
   "metadata": {
    "ExecuteTime": {
     "end_time": "2019-09-04T20:31:52.838429Z",
     "start_time": "2019-09-04T20:31:52.831431Z"
    }
   },
   "outputs": [
    {
     "data": {
      "text/plain": [
       "range(1, 11)"
      ]
     },
     "execution_count": 31,
     "metadata": {},
     "output_type": "execute_result"
    }
   ],
   "source": [
    "lst"
   ]
  },
  {
   "cell_type": "code",
   "execution_count": 34,
   "metadata": {
    "ExecuteTime": {
     "end_time": "2019-09-04T20:44:53.166371Z",
     "start_time": "2019-09-04T20:44:53.159373Z"
    }
   },
   "outputs": [
    {
     "data": {
      "text/plain": [
       "True"
      ]
     },
     "execution_count": 34,
     "metadata": {},
     "output_type": "execute_result"
    }
   ],
   "source": [
    "matcher(lst, 1)\n",
    "# this is the best cases because item seeked is index 0, O(1) \n",
    "# Best case bcomes a constant"
   ]
  },
  {
   "cell_type": "code",
   "execution_count": 35,
   "metadata": {
    "ExecuteTime": {
     "end_time": "2019-09-04T21:23:17.645423Z",
     "start_time": "2019-09-04T21:23:17.639425Z"
    }
   },
   "outputs": [
    {
     "data": {
      "text/plain": [
       "False"
      ]
     },
     "execution_count": 35,
     "metadata": {},
     "output_type": "execute_result"
    }
   ],
   "source": [
    "matcher(lst, 20)\n",
    "\n",
    "# worst case: entire list must be searched, n elements. \n",
    "# O(n) worst becomes linear "
   ]
  },
  {
   "cell_type": "markdown",
   "metadata": {},
   "source": [
    "## Space Complexity"
   ]
  },
  {
   "cell_type": "markdown",
   "metadata": {},
   "source": [
    "Also concerned with how much memory/space an algorithm uses. The notation of space complexity is the same, but instead of checking the time of operaitons, we check the size of the allocation of memory."
   ]
  },
  {
   "cell_type": "code",
   "execution_count": 36,
   "metadata": {
    "ExecuteTime": {
     "end_time": "2019-09-04T21:26:14.888433Z",
     "start_time": "2019-09-04T21:26:14.881438Z"
    }
   },
   "outputs": [
    {
     "name": "stdout",
     "output_type": "stream",
     "text": [
      "Memory!\n",
      "Memory!\n",
      "Memory!\n",
      "Memory!\n",
      "Memory!\n",
      "Memory!\n",
      "Memory!\n",
      "Memory!\n",
      "Memory!\n",
      "Memory!\n"
     ]
    }
   ],
   "source": [
    "def memory(n=10):\n",
    "    '''\n",
    "    Prints \"hello world!\" n times\n",
    "    '''\n",
    "    for x in range(n):   # Time complexity O(n)\n",
    "        print('Memory!') # Space complexity\n",
    "        \n",
    "memory(10)"
   ]
  },
  {
   "cell_type": "markdown",
   "metadata": {},
   "source": [
    "```Time complexity -> O(n)```\n",
    "\n",
    "But what about space complexity? In memory it does not need to store 10 versions of \"Memory!\" it only need store one string. \n",
    "\n",
    "```Space complexity -> O(1)```"
   ]
  },
  {
   "cell_type": "markdown",
   "metadata": {},
   "source": []
  },
  {
   "cell_type": "markdown",
   "metadata": {},
   "source": [
    "# Array Sequences"
   ]
  },
  {
   "cell_type": "markdown",
   "metadata": {},
   "source": [
    "```\n",
    "LIST[]\n",
    "TUPLE(,)\n",
    "STRIN(\"\") \n",
    "```\n",
    "**All support indexing"
   ]
  },
  {
   "cell_type": "markdown",
   "metadata": {},
   "source": [
    "To understand how arrays work we need to understand lwo level computer architecture.\n",
    "\n",
    "* memory stored in bits\n",
    "* <font color = 'blue'>8 bits = 1 byte</font>\n",
    "* memory address for each byte (each block has 8 bits within it)\n",
    "\n",
    "<img src='pics/INT1_5.png' alt='Drawing' style='width:625pt'/>"
   ]
  },
  {
   "cell_type": "markdown",
   "metadata": {},
   "source": [
    "Stored and retrived in O(1) constant time.\n",
    "\n",
    "Python represents UNICODE character with 16 bits (2 bytes)"
   ]
  },
  {
   "cell_type": "markdown",
   "metadata": {},
   "source": [
    "what's interesting with the arrays is that they're stored and retrieved in Big O one it's a constant time \n",
    "\n",
    "so it does not matter if you're at the beginning of the array middle of the array or at the end of array. you're indexing its position anywhere along this memory sequence the the Big O at the time is going to be constant regardless of where you're doing it and against its theoretical but it's also pretty much in practice.\n",
    "\n",
    "The idea is <font color = 'red'>no matter how much you have stored in memory if you're using indexing you can recall it the same at a time regardless of if you're using a list tuple or string and also regardless of its index position </font>\n",
    "\n",
    "**<font color = 'blue'>Python represents UNICODE character with 16 bits (2 bytes) </font>**\n",
    "\n",
    "<img src='pics/INT1_6.png' alt='Drawing' style='width:625pt'/>\n",
    "\n",
    "* 0 1 2 3 4 5 is describing our location of our string, tuple, or list \n",
    "\n",
    "so if i index 0 or if i index 3 the Python is gonna know exactly where into memory what address to go to actually recall that element that exact that resides within that list, tuple or string"
   ]
  },
  {
   "cell_type": "markdown",
   "metadata": {},
   "source": [
    "**<font color = 'purple'>Assume we created a list that stores prime numbers ```[2,3,5,7,11,13,17,19]``` </font>**\n",
    "<img src='pics/INT1_7.png' alt='Drawing' style='width:625pt'/>\n",
    "\n",
    "**<font color = 'purple'>assume we also create a new list (temp list) and we wanted to reference a portion of the original list (like if you were splicing a list) </font>** \n",
    "\n",
    "> <font color = 'red'>the point is it's not going to create a brand new list</font> <font color = 'blue'>all it does is it takes a temporary list that you created here and it just changes the index assignment of that list to reflect where those elements are within memory</font>.\n",
    "\n",
    "> <font color = 'blue'>**New lists create a shallow copy, meaning your only changing/creating your pointers, not duplicating objects in memory.**</font>\n",
    "\n",
    "Much of what we are doing is manipulating references and calls not the objects itself."
   ]
  },
  {
   "cell_type": "markdown",
   "metadata": {},
   "source": [
    "```temp[2] = 15``` is not going to change the original 13 value in index 5, temp[2] is just going to change it's pointer to another object in memory."
   ]
  },
  {
   "cell_type": "code",
   "execution_count": 38,
   "metadata": {
    "ExecuteTime": {
     "end_time": "2019-09-04T22:52:09.625402Z",
     "start_time": "2019-09-04T22:52:09.618407Z"
    }
   },
   "outputs": [
    {
     "name": "stdout",
     "output_type": "stream",
     "text": [
      "Length:   0; size in bytes:   64 \n",
      "Length:   1; size in bytes:   96 \n",
      "Length:   2; size in bytes:   96 \n",
      "Length:   3; size in bytes:   96 \n",
      "Length:   4; size in bytes:   96 \n",
      "Length:   5; size in bytes:  128 \n",
      "Length:   6; size in bytes:  128 \n",
      "Length:   7; size in bytes:  128 \n",
      "Length:   8; size in bytes:  128 \n",
      "Length:   9; size in bytes:  192 \n"
     ]
    }
   ],
   "source": [
    "import sys\n",
    "n=10\n",
    "data = []\n",
    "for i in range(n):\n",
    "    a = len(data)\n",
    "    b = sys.getsizeof(data)\n",
    "    \n",
    "    print('Length: {0:3d}; size in bytes: {1:4d} '.format(a,b))\n",
    "    data.append(n)"
   ]
  },
  {
   "cell_type": "raw",
   "metadata": {},
   "source": [
    "{0:3d} -> index 0 of format(a,b) represented with 3 integer places\n",
    "{0:3d} -> index 1 of format(a,b) represented with 4 integer places "
   ]
  },
  {
   "cell_type": "markdown",
   "metadata": {},
   "source": [
    "<img src='pics/INT1_8.png' alt='Drawing' style='width:625pt'/>"
   ]
  },
  {
   "cell_type": "markdown",
   "metadata": {},
   "source": [
    "length of 0, 1, 2, 3 we're good but then once we start to get to four five six it's gonna have to jump down to a new size array so that's what we're showing here with B.\n",
    "\n",
    "so B is an empty array and it's gonna take the elements of A because B is bigger than A it's gonna take all the elements of A and it's gonna point them to B. \n",
    "\n",
    "So here's our elements here's our elements first a is referencing now B is also referencing and then a is gonna become garbage B what was B is going to hold those elements and it has more spaces here now to take on more elements more pending of that particular array and you can see it's just changing assignment to a because this became a garbage array which we get into another time."
   ]
  },
  {
   "cell_type": "markdown",
   "metadata": {},
   "source": [
    "# Dynamic Arrays (anagrams)"
   ]
  },
  {
   "cell_type": "markdown",
   "metadata": {},
   "source": [
    "##### Toy Problem "
   ]
  },
  {
   "cell_type": "markdown",
   "metadata": {},
   "source": [
    "**<font color = 'purple'>Given two strings, check to see if they are anagrams. An anagram is when the two strings can be written using the exact same letters (so you can just rearrange the letters to get a different phrase or word.  </font>**\n",
    "\n",
    "For example, \n",
    "\n",
    "\"public relations\" is an anagram of \"crap built on lies\"\n",
    "\"clint eastwood\" is an anagram of \"old west action\"\n",
    "\n",
    "Note: Ignore spaces and capitalization, so \"d go\" is an anagram of \"God\" and \"dog\" and \"o d g\""
   ]
  },
  {
   "cell_type": "code",
   "execution_count": 42,
   "metadata": {
    "ExecuteTime": {
     "end_time": "2019-09-05T02:27:22.891069Z",
     "start_time": "2019-09-05T02:27:22.883075Z"
    }
   },
   "outputs": [],
   "source": [
    "def anagram(s1, s2):\n",
    "    # Remove spaces and lowercase letters\n",
    "    s1 = s1.replace(' ','').lower()\n",
    "    s2 = s2.replace(' ','').lower()\n",
    "    \n",
    "    # Return boolean for sorted match\n",
    "    return sorted(s1) == sorted(s2)"
   ]
  },
  {
   "cell_type": "code",
   "execution_count": 43,
   "metadata": {
    "ExecuteTime": {
     "end_time": "2019-09-05T02:27:32.644011Z",
     "start_time": "2019-09-05T02:27:32.637017Z"
    }
   },
   "outputs": [
    {
     "data": {
      "text/plain": [
       "True"
      ]
     },
     "execution_count": 43,
     "metadata": {},
     "output_type": "execute_result"
    }
   ],
   "source": [
    "anagram('dog', 'god')"
   ]
  },
  {
   "cell_type": "code",
   "execution_count": 44,
   "metadata": {
    "ExecuteTime": {
     "end_time": "2019-09-05T02:29:27.972700Z",
     "start_time": "2019-09-05T02:29:27.965706Z"
    }
   },
   "outputs": [
    {
     "data": {
      "text/plain": [
       "False"
      ]
     },
     "execution_count": 44,
     "metadata": {},
     "output_type": "execute_result"
    }
   ],
   "source": [
    "anagram('aa', 'bb')"
   ]
  },
  {
   "cell_type": "markdown",
   "metadata": {},
   "source": [
    "**<font color = 'purple'>Dictionaries version</font>**"
   ]
  },
  {
   "cell_type": "code",
   "execution_count": 3,
   "metadata": {
    "ExecuteTime": {
     "end_time": "2019-09-05T05:24:27.357577Z",
     "start_time": "2019-09-05T05:24:27.353581Z"
    }
   },
   "outputs": [],
   "source": [
    "import pdb"
   ]
  },
  {
   "cell_type": "code",
   "execution_count": null,
   "metadata": {
    "ExecuteTime": {
     "start_time": "2019-09-05T05:33:20.863Z"
    }
   },
   "outputs": [],
   "source": [
    "%%debug\n",
    "from IPython.core.debugger import set_trace\n",
    "\n",
    "def anagram2(s1, s2):\n",
    "    # Remove spaces and lowercase letters\n",
    "    s1 = s1.replace(' ','').lower()\n",
    "    s2 = s2.replace(' ','').lower()\n",
    "    set_trace()\n",
    "    # check if the same number of letters\n",
    "    if len(s1) != len(s2):\n",
    "        return False\n",
    "    \n",
    "    # count frequency of each letter\n",
    "    count = {}\n",
    "    \n",
    "    # for every letter in first string\n",
    "    for letter in s1: \n",
    "        if letter in count:\n",
    "            count[letter] += 1\n",
    "        else:\n",
    "            count[letter] = 1\n",
    "\n",
    "    #do reverse for second string\n",
    "    for letter in s2: # for every letter in first string\n",
    "        if letter in count:\n",
    "            count[letter] -= 1\n",
    "        else:\n",
    "            count[letter] = 1\n",
    "    \n",
    "    for k in count:\n",
    "        if count[k] != 0:\n",
    "            return False \n",
    "            \n",
    "    return True\n",
    "        \n",
    "x = anagram2('Clint Eastwood', 'old WEST action')\n",
    "print(x)\n"
   ]
  },
  {
   "cell_type": "code",
   "execution_count": 49,
   "metadata": {
    "ExecuteTime": {
     "end_time": "2019-09-05T02:48:35.275817Z",
     "start_time": "2019-09-05T02:48:35.268822Z"
    }
   },
   "outputs": [
    {
     "data": {
      "text/plain": [
       "True"
      ]
     },
     "execution_count": 49,
     "metadata": {},
     "output_type": "execute_result"
    }
   ],
   "source": [
    "anagram2('dog', 'god')"
   ]
  },
  {
   "cell_type": "code",
   "execution_count": 50,
   "metadata": {
    "ExecuteTime": {
     "end_time": "2019-09-05T02:48:35.787199Z",
     "start_time": "2019-09-05T02:48:35.779205Z"
    }
   },
   "outputs": [
    {
     "data": {
      "text/plain": [
       "False"
      ]
     },
     "execution_count": 50,
     "metadata": {},
     "output_type": "execute_result"
    }
   ],
   "source": [
    "anagram2('aa', 'bb')"
   ]
  },
  {
   "cell_type": "markdown",
   "metadata": {
    "ExecuteTime": {
     "start_time": "2019-09-05T05:11:09.882Z"
    }
   },
   "source": [
    "# Array Algorithms (unique pairs = tgt sum)"
   ]
  },
  {
   "cell_type": "raw",
   "metadata": {},
   "source": [
    "Array Pair Sum\n",
    "\n",
    "Given an integer array, output all the unique pairs that sum up to a specific value k.\n",
    "\n",
    "So the input:\n",
    "\n",
    "    pair_sum([1,3,2,2],4)\n",
    "\n",
    "would return 2 pairs:\n",
    "    \n",
    "    (1,3) \n",
    "    \n",
    "    (2,2)\n"
   ]
  },
  {
   "cell_type": "code",
   "execution_count": 21,
   "metadata": {
    "ExecuteTime": {
     "end_time": "2019-09-05T19:11:35.065129Z",
     "start_time": "2019-09-05T19:11:35.052138Z"
    }
   },
   "outputs": [
    {
     "data": {
      "text/plain": [
       "{(1, 3), (2, 2)}"
      ]
     },
     "execution_count": 21,
     "metadata": {},
     "output_type": "execute_result"
    }
   ],
   "source": [
    "from typing import List, Set, Dict, Tuple, Optional, Union, Iterator\n",
    "\n",
    "def pair_sum(array: List[int], k: int) -> Set[Tuple[int, int]]:\n",
    "    if len(array) < 2: \n",
    "        return print('Too small')\n",
    "    \n",
    "    seen, output = set(), set()\n",
    "    \n",
    "    for num in array:\n",
    "        diff = k - num \n",
    "        \n",
    "        if diff in seen: output.add((diff, num))\n",
    "        \n",
    "        else: seen.add(num)\n",
    "            \n",
    "    return output\n",
    "    \n",
    "pair_sum([1, 3, 2, 2], 4)\n",
    "    \n",
    "    "
   ]
  },
  {
   "cell_type": "code",
   "execution_count": 17,
   "metadata": {
    "ExecuteTime": {
     "end_time": "2019-09-05T19:08:40.414992Z",
     "start_time": "2019-09-05T19:08:40.408994Z"
    }
   },
   "outputs": [],
   "source": [
    "from typing import List, Set, Dict, Tuple, Optional, Union, Iterator\n",
    "\n",
    "def pair_sum(array: List[int], k: int) - > Set[Tuple[int, int]]:\n",
    "    return "
   ]
  },
  {
   "cell_type": "code",
   "execution_count": null,
   "metadata": {
    "ExecuteTime": {
     "start_time": "2019-09-05T22:21:54.624Z"
    },
    "collapsed": true
   },
   "outputs": [
    {
     "name": "stdout",
     "output_type": "stream",
     "text": [
      "NOTE: Enter 'c' at the ipdb>  prompt to continue execution.\n",
      "None\n",
      "> \u001b[1;32m<string>\u001b[0m(2)\u001b[0;36m<module>\u001b[1;34m()\u001b[0m\n",
      "\n",
      "ipdb> s\n",
      "--Call--\n",
      "> \u001b[1;32m<frozen importlib._bootstrap>\u001b[0m(1009)\u001b[0;36m_handle_fromlist\u001b[1;34m()\u001b[0m\n",
      "\n",
      "ipdb> s\n",
      "> \u001b[1;32m<frozen importlib._bootstrap>\u001b[0m(1019)\u001b[0;36m_handle_fromlist\u001b[1;34m()\u001b[0m\n",
      "\n",
      "ipdb> s\n",
      "> \u001b[1;32m<frozen importlib._bootstrap>\u001b[0m(1044)\u001b[0;36m_handle_fromlist\u001b[1;34m()\u001b[0m\n",
      "\n",
      "ipdb> s\n",
      "--Return--\n",
      "<module 'typi...b\\\\typing.py'>\n",
      "> \u001b[1;32m<frozen importlib._bootstrap>\u001b[0m(1044)\u001b[0;36m_handle_fromlist\u001b[1;34m()\u001b[0m\n",
      "\n",
      "ipdb> s\n",
      "None\n",
      "> \u001b[1;32m<string>\u001b[0m(4)\u001b[0;36m<module>\u001b[1;34m()\u001b[0m\n",
      "\n",
      "ipdb> n\n",
      "None\n",
      "> \u001b[1;32m<string>\u001b[0m(19)\u001b[0;36m<module>\u001b[1;34m()\u001b[0m\n",
      "\n",
      "ipdb> s\n",
      "--Call--\n",
      "> \u001b[1;32m<string>\u001b[0m(4)\u001b[0;36mpair_sum\u001b[1;34m()\u001b[0m\n",
      "\n",
      "ipdb> s\n",
      "> \u001b[1;32m<string>\u001b[0m(5)\u001b[0;36mpair_sum\u001b[1;34m()\u001b[0m\n",
      "\n",
      "ipdb> a\n",
      "array = [1, 3, 3, 3, 1, 1, 2, 2, 3, 3, 1, 3]\n",
      "k = 4\n",
      "ipdb> s\n",
      "> \u001b[1;32m<string>\u001b[0m(8)\u001b[0;36mpair_sum\u001b[1;34m()\u001b[0m\n",
      "\n",
      "ipdb> a\n",
      "array = [1, 3, 3, 3, 1, 1, 2, 2, 3, 3, 1, 3]\n",
      "k = 4\n",
      "ipdb> s\n",
      "> \u001b[1;32m<string>\u001b[0m(10)\u001b[0;36mpair_sum\u001b[1;34m()\u001b[0m\n",
      "\n",
      "ipdb> s\n",
      "> \u001b[1;32m<string>\u001b[0m(11)\u001b[0;36mpair_sum\u001b[1;34m()\u001b[0m\n",
      "\n",
      "ipdb> a\n",
      "array = [1, 3, 3, 3, 1, 1, 2, 2, 3, 3, 1, 3]\n",
      "k = 4\n",
      "ipdb> s\n",
      "> \u001b[1;32m<string>\u001b[0m(13)\u001b[0;36mpair_sum\u001b[1;34m()\u001b[0m\n",
      "\n",
      "ipdb> a\n",
      "array = [1, 3, 3, 3, 1, 1, 2, 2, 3, 3, 1, 3]\n",
      "k = 4\n",
      "ipdb> diff\n",
      "3\n",
      "ipdb> h\n",
      "\n",
      "Documented commands (type help <topic>):\n",
      "========================================\n",
      "EOF    cl         disable  interact  next    psource  rv         unt   \n",
      "a      clear      display  j         p       q        s          until \n",
      "alias  commands   down     jump      pdef    quit     source     up    \n",
      "args   condition  enable   l         pdoc    r        step       w     \n",
      "b      cont       exit     list      pfile   restart  tbreak     whatis\n",
      "break  continue   h        ll        pinfo   return   u          where \n",
      "bt     d          help     longlist  pinfo2  retval   unalias  \n",
      "c      debug      ignore   n         pp      run      undisplay\n",
      "\n",
      "Miscellaneous help topics:\n",
      "==========================\n",
      "exec  pdb\n",
      "\n",
      "ipdb> h a\n",
      "a(rgs)\n",
      "        Print the argument list of the current function.\n",
      "ipdb> h cl\n",
      "cl(ear) filename:lineno\n",
      "cl(ear) [bpnumber [bpnumber...]]\n",
      "        With a space separated list of breakpoint numbers, clear\n",
      "        those breakpoints.  Without argument, clear all breaks (but\n",
      "        first ask confirmation).  With a filename:lineno argument,\n",
      "        clear all breaks at that line in that file.\n",
      "ipdb> h commands\n",
      "commands [bpnumber]\n",
      "        (com) ...\n",
      "        (com) end\n",
      "        (Pdb)\n",
      "\n",
      "        Specify a list of commands for breakpoint number bpnumber.\n",
      "        The commands themselves are entered on the following lines.\n",
      "        Type a line containing just 'end' to terminate the commands.\n",
      "        The commands are executed when the breakpoint is hit.\n",
      "\n",
      "        To remove all commands from a breakpoint, type commands and\n",
      "        follow it immediately with end; that is, give no commands.\n",
      "\n",
      "        With no bpnumber argument, commands refers to the last\n",
      "        breakpoint set.\n",
      "\n",
      "        You can use breakpoint commands to start your program up\n",
      "        again.  Simply use the continue command, or step, or any other\n",
      "        command that resumes execution.\n",
      "\n",
      "        Specifying any command resuming execution (currently continue,\n",
      "        step, next, return, jump, quit and their abbreviations)\n",
      "        terminates the command list (as if that command was\n",
      "        immediately followed by end).  This is because any time you\n",
      "        resume execution (even with a simple next or step), you may\n",
      "        encounter another breakpoint -- which could have its own\n",
      "        command list, leading to ambiguities about which list to\n",
      "        execute.\n",
      "\n",
      "        If you use the 'silent' command in the command list, the usual\n",
      "        message about stopping at a breakpoint is not printed.  This\n",
      "        may be desirable for breakpoints that are to print a specific\n",
      "        message and then continue.  If none of the other commands\n",
      "        print anything, you will see no sign that the breakpoint was\n",
      "        reached.\n",
      "ipdb> h condition\n",
      "condition bpnumber [condition]\n",
      "        Set a new condition for the breakpoint, an expression which\n",
      "        must evaluate to true before the breakpoint is honored.  If\n",
      "        condition is absent, any existing condition is removed; i.e.,\n",
      "        the breakpoint is made unconditional.\n",
      "ipdb> h\n",
      "\n",
      "Documented commands (type help <topic>):\n",
      "========================================\n",
      "EOF    cl         disable  interact  next    psource  rv         unt   \n",
      "a      clear      display  j         p       q        s          until \n",
      "alias  commands   down     jump      pdef    quit     source     up    \n",
      "args   condition  enable   l         pdoc    r        step       w     \n",
      "b      cont       exit     list      pfile   restart  tbreak     whatis\n",
      "break  continue   h        ll        pinfo   return   u          where \n",
      "bt     d          help     longlist  pinfo2  retval   unalias  \n",
      "c      debug      ignore   n         pp      run      undisplay\n",
      "\n",
      "Miscellaneous help topics:\n",
      "==========================\n",
      "exec  pdb\n",
      "\n",
      "ipdb> h d\n",
      "d(own) [count]\n",
      "Move the current frame count (default one) levels down in the\n",
      "stack trace (to a newer frame).\n",
      "ipdb> h debug\n",
      "debug code\n",
      "        Enter a recursive debugger that steps through the code\n",
      "        argument (which is an arbitrary expression or statement to be\n",
      "        executed in the current environment).\n",
      "ipdb> h enable\n",
      "enable bpnumber [bpnumber ...]\n",
      "        Enables the breakpoints given as a space separated list of\n",
      "        breakpoint numbers.\n",
      "ipdb> enable [10]\n",
      "*** Non-numeric breakpoint number [10]\n",
      "ipdb> b\n",
      "ipdb> b\n",
      "ipdb> h\n",
      "\n",
      "Documented commands (type help <topic>):\n",
      "========================================\n",
      "EOF    cl         disable  interact  next    psource  rv         unt   \n",
      "a      clear      display  j         p       q        s          until \n",
      "alias  commands   down     jump      pdef    quit     source     up    \n",
      "args   condition  enable   l         pdoc    r        step       w     \n",
      "b      cont       exit     list      pfile   restart  tbreak     whatis\n",
      "break  continue   h        ll        pinfo   return   u          where \n",
      "bt     d          help     longlist  pinfo2  retval   unalias  \n",
      "c      debug      ignore   n         pp      run      undisplay\n",
      "\n",
      "Miscellaneous help topics:\n",
      "==========================\n",
      "exec  pdb\n",
      "\n",
      "ipdb> h display\n",
      "display [expression]\n",
      "\n",
      "        Display the value of the expression if it changed, each time execution\n",
      "        stops in the current frame.\n",
      "\n",
      "        Without expression, list all display expressions for the current frame.\n",
      "ipdb> display\n",
      "Currently displaying:\n",
      "ipdb> h l\n",
      "Print lines of code from the current stack frame\n",
      "ipdb> l\n",
      "\n",
      "ipdb> l\n",
      "\n",
      "ipdb> ll\n",
      "*** could not get source code\n",
      "ipdb> h\n",
      "\n",
      "Documented commands (type help <topic>):\n",
      "========================================\n",
      "EOF    cl         disable  interact  next    psource  rv         unt   \n",
      "a      clear      display  j         p       q        s          until \n",
      "alias  commands   down     jump      pdef    quit     source     up    \n",
      "args   condition  enable   l         pdoc    r        step       w     \n",
      "b      cont       exit     list      pfile   restart  tbreak     whatis\n",
      "break  continue   h        ll        pinfo   return   u          where \n",
      "bt     d          help     longlist  pinfo2  retval   unalias  \n",
      "c      debug      ignore   n         pp      run      undisplay\n",
      "\n",
      "Miscellaneous help topics:\n",
      "==========================\n",
      "exec  pdb\n",
      "\n",
      "ipdb> h ll\n",
      "Print lines of code from the current stack frame.\n",
      "\n",
      "        Shows more lines than 'list' does.\n",
      "ipdb> h longlist\n",
      "Print lines of code from the current stack frame.\n",
      "\n",
      "        Shows more lines than 'list' does.\n",
      "ipdb> h p\n",
      "p expression\n",
      "        Print the value of the expression.\n",
      "ipdb> p\n",
      "*** SyntaxError: unexpected EOF while parsing\n",
      "ipdb> s\n",
      "> \u001b[1;32m<string>\u001b[0m(15)\u001b[0;36mpair_sum\u001b[1;34m()\u001b[0m\n",
      "\n",
      "ipdb> diff, num\n",
      "(3, 1)\n",
      "ipdb> h\n",
      "\n",
      "Documented commands (type help <topic>):\n",
      "========================================\n",
      "EOF    cl         disable  interact  next    psource  rv         unt   \n",
      "a      clear      display  j         p       q        s          until \n",
      "alias  commands   down     jump      pdef    quit     source     up    \n",
      "args   condition  enable   l         pdoc    r        step       w     \n",
      "b      cont       exit     list      pfile   restart  tbreak     whatis\n",
      "break  continue   h        ll        pinfo   return   u          where \n",
      "bt     d          help     longlist  pinfo2  retval   unalias  \n",
      "c      debug      ignore   n         pp      run      undisplay\n",
      "\n",
      "Miscellaneous help topics:\n",
      "==========================\n",
      "exec  pdb\n",
      "\n"
     ]
    },
    {
     "name": "stdout",
     "output_type": "stream",
     "text": [
      "ipdb> h unt\n",
      "unt(il) [lineno]\n",
      "        Without argument, continue execution until the line with a\n",
      "        number greater than the current one is reached.  With a line\n",
      "        number, continue execution until a line with a number greater\n",
      "        or equal to that is reached.  In both cases, also stop when\n",
      "        the current frame returns.\n",
      "ipdb> h w\n",
      "w(here)\n",
      "        Print a stack trace, with the most recent frame at the bottom.\n",
      "        An arrow indicates the \"current frame\", which determines the\n",
      "        context of most commands. 'bt' is an alias for this command.\n",
      "\n",
      "        Take a number as argument as an (optional) number of context line to\n",
      "        print\n",
      "ipdb> h r\n",
      "r(eturn)\n",
      "        Continue execution until the current function returns.\n",
      "ipdb> h p\n",
      "p expression\n",
      "        Print the value of the expression.\n",
      "ipdb> h pp\n",
      "pp expression\n",
      "        Pretty-print the value of the expression.\n",
      "ipdb> p\n",
      "*** SyntaxError: unexpected EOF while parsing\n",
      "ipdb> s\n",
      "> \u001b[1;32m<string>\u001b[0m(10)\u001b[0;36mpair_sum\u001b[1;34m()\u001b[0m\n",
      "\n",
      "ipdb> s\n",
      "> \u001b[1;32m<string>\u001b[0m(11)\u001b[0;36mpair_sum\u001b[1;34m()\u001b[0m\n",
      "\n",
      "ipdb> pp\n",
      "*** SyntaxError: unexpected EOF while parsing\n",
      "ipdb> p\n",
      "*** SyntaxError: unexpected EOF while parsing\n",
      "ipdb> diff\n",
      "3\n",
      "ipdb> diff, k, num\n",
      "(3, 4, 3)\n",
      "ipdb> diff,k,num\n",
      "(3, 4, 3)\n",
      "ipdb> diff\n",
      "3\n",
      "ipdb> num\n",
      "3\n",
      "ipdb> s\n",
      "> \u001b[1;32m<string>\u001b[0m(13)\u001b[0;36mpair_sum\u001b[1;34m()\u001b[0m\n",
      "\n",
      "ipdb> diff,k,num\n",
      "(1, 4, 3)\n",
      "ipdb> h\n",
      "\n",
      "Documented commands (type help <topic>):\n",
      "========================================\n",
      "EOF    cl         disable  interact  next    psource  rv         unt   \n",
      "a      clear      display  j         p       q        s          until \n",
      "alias  commands   down     jump      pdef    quit     source     up    \n",
      "args   condition  enable   l         pdoc    r        step       w     \n",
      "b      cont       exit     list      pfile   restart  tbreak     whatis\n",
      "break  continue   h        ll        pinfo   return   u          where \n",
      "bt     d          help     longlist  pinfo2  retval   unalias  \n",
      "c      debug      ignore   n         pp      run      undisplay\n",
      "\n",
      "Miscellaneous help topics:\n",
      "==========================\n",
      "exec  pdb\n",
      "\n",
      "ipdb> s\n",
      "> \u001b[1;32m<string>\u001b[0m(10)\u001b[0;36mpair_sum\u001b[1;34m()\u001b[0m\n",
      "\n",
      "ipdb> s\n",
      "> \u001b[1;32m<string>\u001b[0m(11)\u001b[0;36mpair_sum\u001b[1;34m()\u001b[0m\n",
      "\n",
      "ipdb> s\n",
      "> \u001b[1;32m<string>\u001b[0m(13)\u001b[0;36mpair_sum\u001b[1;34m()\u001b[0m\n",
      "\n",
      "ipdb> diff,k,num\n",
      "(1, 4, 3)\n",
      "ipdb> s\n",
      "> \u001b[1;32m<string>\u001b[0m(10)\u001b[0;36mpair_sum\u001b[1;34m()\u001b[0m\n",
      "\n",
      "ipdb> s\n",
      "> \u001b[1;32m<string>\u001b[0m(11)\u001b[0;36mpair_sum\u001b[1;34m()\u001b[0m\n",
      "\n",
      "ipdb> s\n",
      "> \u001b[1;32m<string>\u001b[0m(13)\u001b[0;36mpair_sum\u001b[1;34m()\u001b[0m\n",
      "\n",
      "ipdb> diff,k,num\n",
      "(1, 4, 3)\n",
      "ipdb> s\n",
      "> \u001b[1;32m<string>\u001b[0m(10)\u001b[0;36mpair_sum\u001b[1;34m()\u001b[0m\n",
      "\n",
      "ipdb> s\n",
      "> \u001b[1;32m<string>\u001b[0m(11)\u001b[0;36mpair_sum\u001b[1;34m()\u001b[0m\n",
      "\n",
      "ipdb> s\n",
      "> \u001b[1;32m<string>\u001b[0m(13)\u001b[0;36mpair_sum\u001b[1;34m()\u001b[0m\n",
      "\n",
      "ipdb> diff,k,num\n",
      "(3, 4, 1)\n",
      "ipdb> s\n",
      "> \u001b[1;32m<string>\u001b[0m(15)\u001b[0;36mpair_sum\u001b[1;34m()\u001b[0m\n",
      "\n",
      "ipdb> s\n",
      "> \u001b[1;32m<string>\u001b[0m(10)\u001b[0;36mpair_sum\u001b[1;34m()\u001b[0m\n",
      "\n",
      "ipdb> s\n",
      "> \u001b[1;32m<string>\u001b[0m(11)\u001b[0;36mpair_sum\u001b[1;34m()\u001b[0m\n",
      "\n"
     ]
    }
   ],
   "source": [
    "%%debug\n",
    "from typing import List, Set, Dict, Tuple, Optional, Union, Iterator\n",
    "\n",
    "def pair_sum(array: List[int], k: int) -> Set[Tuple[int, int]]:\n",
    "    if len(array) < 2: \n",
    "        return print('Too small')\n",
    "    \n",
    "    seen, output = set(), set()\n",
    "    \n",
    "    for num in array:\n",
    "        diff = k - num \n",
    "        if diff in seen: output.add((diff, num))\n",
    "        else: seen.add(num)\n",
    "            \n",
    "    return output\n",
    "    \n",
    "pair_sum([1, 3, 3, 3, 1, 1, 2, 2, 3, 3, 1, 3], 4)\n",
    "    \n",
    "    "
   ]
  },
  {
   "cell_type": "code",
   "execution_count": 25,
   "metadata": {
    "ExecuteTime": {
     "end_time": "2019-09-05T21:57:13.189286Z",
     "start_time": "2019-09-05T21:57:13.180295Z"
    }
   },
   "outputs": [],
   "source": [
    "from typing import List, Set, Dict, Tuple, Optional, Union, Iterator\n",
    "\n",
    "def pair_sum(array: List[int], k: int) -> Set[Tuple[int, int]]:\n",
    "    if len(array) < 2: \n",
    "        return print('Too small')\n",
    "    \n",
    "    seen, output = set(), set()\n",
    "    \n",
    "    for num in array:\n",
    "        target = k - num \n",
    "        \n",
    "        if target not in seen:\n",
    "            seen.add(num)\n",
    "        else:\n",
    "            output.add((min(num, target), max(num, target)))\n",
    "    print('output:\\t', output)\n",
    "    print('\\n'.join(map(str, list(output))))"
   ]
  },
  {
   "cell_type": "code",
   "execution_count": 26,
   "metadata": {
    "ExecuteTime": {
     "end_time": "2019-09-05T21:57:14.130976Z",
     "start_time": "2019-09-05T21:57:14.125977Z"
    }
   },
   "outputs": [
    {
     "name": "stdout",
     "output_type": "stream",
     "text": [
      "output:\t {(1, 3), (2, 2)}\n",
      "(1, 3)\n",
      "(2, 2)\n"
     ]
    }
   ],
   "source": [
    "pair_sum([1, 3, 2, 2], 4)"
   ]
  },
  {
   "cell_type": "code",
   "execution_count": 30,
   "metadata": {
    "ExecuteTime": {
     "end_time": "2019-09-05T22:09:21.449145Z",
     "start_time": "2019-09-05T22:09:21.441152Z"
    }
   },
   "outputs": [
    {
     "data": {
      "text/plain": [
       "{(1, 3), (3, 1)}"
      ]
     },
     "execution_count": 30,
     "metadata": {},
     "output_type": "execute_result"
    }
   ],
   "source": [
    "ts =set()\n",
    "ts.add((1, 3))\n",
    "ts.add((3, 1))\n",
    "ts"
   ]
  },
  {
   "cell_type": "markdown",
   "metadata": {},
   "source": [
    "# Largest Sum of consecutive integers in an array"
   ]
  },
  {
   "cell_type": "markdown",
   "metadata": {},
   "source": [
    "**<font color = 'purple'>Take an array with positive an negative integers and find the maximum running continuous sum of consecutive integers in the array </font>**"
   ]
  },
  {
   "cell_type": "code",
   "execution_count": 37,
   "metadata": {
    "ExecuteTime": {
     "end_time": "2019-09-06T00:24:33.061218Z",
     "start_time": "2019-09-06T00:24:33.051226Z"
    }
   },
   "outputs": [],
   "source": [
    "from typing import List, Set, Dict, Tuple, Optional, Union, Iterator\n",
    "\n",
    "def largest(arr: List[int]) -> int:\n",
    "    if len(arr) == 0: \n",
    "        return print('Too small')\n",
    "    \n",
    "    current_sum = max_sum = arr[0]\n",
    "    for num in arr[1:]:\n",
    "        current_sum = max(current_sum + num, num)\n",
    "        max_sum = max(max_sum, current_sum)\n",
    "    return max_sum"
   ]
  },
  {
   "cell_type": "code",
   "execution_count": 35,
   "metadata": {
    "ExecuteTime": {
     "end_time": "2019-09-06T00:19:39.871528Z",
     "start_time": "2019-09-06T00:19:39.865531Z"
    }
   },
   "outputs": [],
   "source": [
    "def largest(arr):\n",
    "    if len(arr) == 0:\n",
    "        return print('Too small')\n",
    "    \n",
    "    max_sum = current_sum = arr[0]\n",
    "    \n",
    "    for num in arr[1:]:\n",
    "        # current_sum = max(current_sum + num, num)\n",
    "        # if current_sum + num < num, current_sum \n",
    "        # is more negative than a negative num\n",
    "        max_sum = max(current_sum, max_sum)\n",
    "    \n",
    "    return max_sum\n",
    "    "
   ]
  },
  {
   "cell_type": "code",
   "execution_count": 38,
   "metadata": {
    "ExecuteTime": {
     "end_time": "2019-09-06T00:24:34.279522Z",
     "start_time": "2019-09-06T00:24:34.270527Z"
    }
   },
   "outputs": [
    {
     "data": {
      "text/plain": [
       "38"
      ]
     },
     "execution_count": 38,
     "metadata": {},
     "output_type": "execute_result"
    }
   ],
   "source": [
    "arr = [7, 1, 2, -1, 3, 4, 10, -12, 3, 21, -19]\n",
    "largest(arr)"
   ]
  },
  {
   "cell_type": "code",
   "execution_count": 30,
   "metadata": {
    "ExecuteTime": {
     "end_time": "2019-09-06T00:13:03.428536Z",
     "start_time": "2019-09-06T00:13:03.421539Z"
    }
   },
   "outputs": [
    {
     "data": {
      "text/plain": [
       "19"
      ]
     },
     "execution_count": 30,
     "metadata": {},
     "output_type": "execute_result"
    }
   ],
   "source": [
    "sum([7,1,2,3,4,10,3,21])\n"
   ]
  },
  {
   "cell_type": "markdown",
   "metadata": {},
   "source": [
    "# How to Reverse a String"
   ]
  },
  {
   "cell_type": "raw",
   "metadata": {},
   "source": [
    " Given a string of words, reverse all the words\n",
    " \n",
    " start = \"This is the best\"\n",
    " finish = \"best the is This\""
   ]
  },
  {
   "cell_type": "code",
   "execution_count": 61,
   "metadata": {
    "ExecuteTime": {
     "end_time": "2019-09-06T01:00:34.344351Z",
     "start_time": "2019-09-06T01:00:34.337356Z"
    }
   },
   "outputs": [],
   "source": [
    "def reverse(s: str) -> str:\n",
    "    return \" \".join(reversed(s.split()))"
   ]
  },
  {
   "cell_type": "code",
   "execution_count": 66,
   "metadata": {
    "ExecuteTime": {
     "end_time": "2019-09-06T01:10:51.141801Z",
     "start_time": "2019-09-06T01:10:51.133807Z"
    }
   },
   "outputs": [
    {
     "data": {
      "text/plain": [
       "'best the is This'"
      ]
     },
     "execution_count": 66,
     "metadata": {},
     "output_type": "execute_result"
    }
   ],
   "source": [
    "\n",
    "def reverse(s: str) -> str:\n",
    "    return \" \".join(s.split(sep=\" \")[::-1])\n",
    "\n",
    "\n",
    "# return \" \".join(s.split(sep=\" \")[::-1])\n",
    "# sep=\" \" not necessary because default delimited is whitespace\n",
    "\n",
    "start = \"This is the best\"\n",
    "reverse(start)"
   ]
  },
  {
   "cell_type": "code",
   "execution_count": 64,
   "metadata": {
    "ExecuteTime": {
     "end_time": "2019-09-06T01:08:07.568919Z",
     "start_time": "2019-09-06T01:08:07.558925Z"
    }
   },
   "outputs": [],
   "source": [
    "# not using python built-ins\n",
    "\n",
    "def reverse(s: str) -> str:\n",
    "    length = len(s)\n",
    "    spaces = [' ']\n",
    "    words = []\n",
    "    i = 0\n",
    "    \n",
    "    while i < length: \n",
    "        if s[i] not in spaces:\n",
    "            word_start = i \n",
    "            \n",
    "            while i < length and s[i] not in spaces: \n",
    "                i += 1\n",
    "            \n",
    "            words.append(s[word_start:i])\n",
    "        i += 1\n",
    "    return \"\".join(reversed(s))\n",
    "        \n",
    "\n",
    "        \n",
    "    "
   ]
  },
  {
   "cell_type": "code",
   "execution_count": 74,
   "metadata": {
    "ExecuteTime": {
     "end_time": "2019-09-06T01:19:00.800638Z",
     "start_time": "2019-09-06T01:19:00.789645Z"
    }
   },
   "outputs": [],
   "source": [
    "# not using python built-ins\n",
    "\n",
    "def reverse(s: str) -> str:\n",
    "    length = len(s)\n",
    "    spaces = [' ']\n",
    "    words = []\n",
    "    i = 0\n",
    "    \n",
    "    while i < length: \n",
    "        if s[i] not in spaces:\n",
    "            word_start = i \n",
    "            \n",
    "            while i < length and s[i] not in spaces: \n",
    "                i += 1\n",
    "            \n",
    "            words.append(s[word_start:i])\n",
    "        i += 1\n",
    "    return \"\".join(reversed(s))\n",
    "        \n",
    "\n",
    "        \n",
    "    "
   ]
  },
  {
   "cell_type": "code",
   "execution_count": 75,
   "metadata": {
    "ExecuteTime": {
     "end_time": "2019-09-06T01:19:01.859350Z",
     "start_time": "2019-09-06T01:19:01.852353Z"
    }
   },
   "outputs": [
    {
     "data": {
      "text/plain": [
       "'tseb eht si sihT'"
      ]
     },
     "execution_count": 75,
     "metadata": {},
     "output_type": "execute_result"
    }
   ],
   "source": [
    "start = \"This is the best\"\n",
    "reverse(start)"
   ]
  },
  {
   "cell_type": "markdown",
   "metadata": {},
   "source": [
    "# Array Analysis"
   ]
  },
  {
   "cell_type": "raw",
   "metadata": {},
   "source": [
    "Given 2 arrays (assume no duplicates)\n",
    "is 1 array a rotation of another - return True/False\n",
    "\n",
    "BigO(n) we are going through each array 2x but O(2n) = 0(n) since with infinite sized lists, constants means nada\n",
    "\n",
    "select an indexed position in list1 and get its value. Find same element in list2 and check index for index from there\n",
    "\n",
    "if any variation then we know its false\n",
    "Getting to last item without a false means true.\n",
    "\n",
    "E.g.,\n",
    "rotation([1,2,3,4,5,6,7], [4,5,6,7,1,2,3]) == True"
   ]
  },
  {
   "cell_type": "code",
   "execution_count": 146,
   "metadata": {
    "ExecuteTime": {
     "end_time": "2019-09-06T05:32:05.876327Z",
     "start_time": "2019-09-06T05:32:05.868335Z"
    }
   },
   "outputs": [],
   "source": [
    "# my best version\n",
    "\n",
    "from typing import List\n",
    "def rotation(list1: List[str], list2: List[str]) -> bool:\n",
    "    \n",
    "    if len(list1) != len(list2): return False\n",
    "    \n",
    "    for i, e in enumerate(list2):\n",
    "        if e == list1[0]:\n",
    "            for n, _ in enumerate(list2): \n",
    "                if list2[(i + n) % len(list2)] != list1[n]: \n",
    "                        return False\n",
    "            if i == 0: return False\n",
    "            return True                                        \n",
    "    return False\n",
    "                \n"
   ]
  },
  {
   "cell_type": "code",
   "execution_count": 100,
   "metadata": {
    "ExecuteTime": {
     "end_time": "2019-09-06T04:58:17.966415Z",
     "start_time": "2019-09-06T04:58:17.957420Z"
    }
   },
   "outputs": [],
   "source": [
    "from typing import List\n",
    "\n",
    "def rotation(list1: List[str], list2: List[str]) -> bool:\n",
    "    \n",
    "    if len(list1) != len(list2): \n",
    "        return False\n",
    "    \n",
    "    reindexed_list2: list = []\n",
    "    \n",
    "    for i, e in enumerate(list2):\n",
    "        if e == list1[0]: \n",
    "            for n,_ in enumerate(list2):\n",
    "                if (i + n) < len(list2):       \n",
    "                    reindexed_list2.append(list2[i + n])\n",
    "                else: \n",
    "                    reindexed_list2.append(list2[i + n - len(list2)])\n",
    "            \n",
    "            if reindexed_list2 == list1:\n",
    "                return True\n",
    "            else: False\n",
    "        else:\n",
    "            continue\n",
    "                                        \n",
    "    return False\n",
    "\n",
    "                \n",
    "                "
   ]
  },
  {
   "cell_type": "code",
   "execution_count": 138,
   "metadata": {
    "ExecuteTime": {
     "end_time": "2019-09-06T05:24:09.076250Z",
     "start_time": "2019-09-06T05:24:09.065258Z"
    }
   },
   "outputs": [],
   "source": [
    "from typing import List\n",
    "def rotation(list1: List[str], list2: List[str]) -> bool:\n",
    "    \n",
    "    if len(list1) != len(list2): return False\n",
    "    \n",
    "    for i, e in enumerate(list2):\n",
    "        if e == list1[0]:\n",
    "            for n, _ in enumerate(list2): \n",
    "                if (i + n) < len(list2):    \n",
    "                    if list2[i + n] != list1[n]: \n",
    "                        return False\n",
    "                else: \n",
    "                    if list2[i + n - len(list2)] != list1[n]: \n",
    "                        return False\n",
    "            if i == 0: return False\n",
    "            return True                                        \n",
    "    return False\n",
    "                \n"
   ]
  },
  {
   "cell_type": "raw",
   "metadata": {},
   "source": [
    "i   n   (i+n) % len(list2)\n",
    "3   0     3   % 5 \n",
    "3   1     4   % 5\n",
    "3   2     5   % 5\n",
    "3   3     6   % 5\n",
    "3   4     7   % 5"
   ]
  },
  {
   "cell_type": "code",
   "execution_count": 155,
   "metadata": {
    "ExecuteTime": {
     "end_time": "2019-09-06T05:37:11.291064Z",
     "start_time": "2019-09-06T05:37:11.276074Z"
    }
   },
   "outputs": [
    {
     "data": {
      "text/plain": [
       "3"
      ]
     },
     "execution_count": 155,
     "metadata": {},
     "output_type": "execute_result"
    },
    {
     "data": {
      "text/plain": [
       "4"
      ]
     },
     "execution_count": 155,
     "metadata": {},
     "output_type": "execute_result"
    },
    {
     "data": {
      "text/plain": [
       "0"
      ]
     },
     "execution_count": 155,
     "metadata": {},
     "output_type": "execute_result"
    },
    {
     "data": {
      "text/plain": [
       "1"
      ]
     },
     "execution_count": 155,
     "metadata": {},
     "output_type": "execute_result"
    },
    {
     "data": {
      "text/plain": [
       "2"
      ]
     },
     "execution_count": 155,
     "metadata": {},
     "output_type": "execute_result"
    }
   ],
   "source": [
    "3 % 5 \n",
    "4 % 5 \n",
    "5 % 5 \n",
    "6 % 5 \n",
    "7 % 5 "
   ]
  },
  {
   "cell_type": "code",
   "execution_count": 133,
   "metadata": {
    "ExecuteTime": {
     "end_time": "2019-09-06T05:21:15.111247Z",
     "start_time": "2019-09-06T05:21:15.102259Z"
    }
   },
   "outputs": [],
   "source": [
    "def rotation(list1: List[str], list2: List[str]) -> bool:\n",
    "    \n",
    "    if len(list1) != len(list2): \n",
    "        return False\n",
    "    \n",
    "    key = list1[0]\n",
    "    key_index = 0\n",
    "             # length of list\n",
    "    for i in range(len(list2)):\n",
    "        if list2[i] == key:\n",
    "            key_index = i\n",
    "            break # exit out of for loop\n",
    "    \n",
    "    if key_index == 0: \n",
    "        return False\n",
    "    \n",
    "    for x in range(len(list1)):\n",
    "        l2index = (key_index + x) % len(list1)\n",
    "        \n",
    "        if list1[x]!=list2[l2index]:\n",
    "            return False\n",
    "    return True\n",
    "            \n",
    "        \n",
    "    "
   ]
  },
  {
   "cell_type": "code",
   "execution_count": 145,
   "metadata": {
    "ExecuteTime": {
     "end_time": "2019-09-06T05:27:30.198161Z",
     "start_time": "2019-09-06T05:27:30.193165Z"
    }
   },
   "outputs": [
    {
     "data": {
      "text/plain": [
       "3"
      ]
     },
     "execution_count": 145,
     "metadata": {},
     "output_type": "execute_result"
    }
   ],
   "source": [
    "3 % 5\n",
    "\n",
    "# 5 % 3"
   ]
  },
  {
   "cell_type": "code",
   "execution_count": 148,
   "metadata": {
    "ExecuteTime": {
     "end_time": "2019-09-06T05:32:11.310669Z",
     "start_time": "2019-09-06T05:32:11.302673Z"
    },
    "scrolled": true
   },
   "outputs": [
    {
     "data": {
      "text/plain": [
       "True"
      ]
     },
     "execution_count": 148,
     "metadata": {},
     "output_type": "execute_result"
    }
   ],
   "source": [
    "rotation([1,2,3,4,5,6,7], [4,5,6,7,1,2,3])"
   ]
  },
  {
   "cell_type": "code",
   "execution_count": 149,
   "metadata": {
    "ExecuteTime": {
     "end_time": "2019-09-06T05:32:11.915163Z",
     "start_time": "2019-09-06T05:32:11.908168Z"
    }
   },
   "outputs": [
    {
     "data": {
      "text/plain": [
       "False"
      ]
     },
     "execution_count": 149,
     "metadata": {},
     "output_type": "execute_result"
    }
   ],
   "source": [
    "rotation([1,2,3,4,5,6,7], [1,2,3,4,5,6,7])"
   ]
  },
  {
   "cell_type": "code",
   "execution_count": 150,
   "metadata": {
    "ExecuteTime": {
     "end_time": "2019-09-06T05:32:13.087424Z",
     "start_time": "2019-09-06T05:32:13.079432Z"
    }
   },
   "outputs": [
    {
     "data": {
      "text/plain": [
       "True"
      ]
     },
     "execution_count": 150,
     "metadata": {},
     "output_type": "execute_result"
    }
   ],
   "source": [
    "rotation([1,2,3,4,5,6,7], [5,6,7,1,2,3,4])"
   ]
  },
  {
   "cell_type": "code",
   "execution_count": 151,
   "metadata": {
    "ExecuteTime": {
     "end_time": "2019-09-06T05:32:14.139538Z",
     "start_time": "2019-09-06T05:32:14.131544Z"
    }
   },
   "outputs": [
    {
     "data": {
      "text/plain": [
       "False"
      ]
     },
     "execution_count": 151,
     "metadata": {},
     "output_type": "execute_result"
    }
   ],
   "source": [
    "rotation([1,3,2,4,5,6,7], [4,5,6,7,1,2,3])"
   ]
  },
  {
   "cell_type": "code",
   "execution_count": 152,
   "metadata": {
    "ExecuteTime": {
     "end_time": "2019-09-06T05:32:15.008537Z",
     "start_time": "2019-09-06T05:32:14.999546Z"
    }
   },
   "outputs": [
    {
     "data": {
      "text/plain": [
       "False"
      ]
     },
     "execution_count": 152,
     "metadata": {},
     "output_type": "execute_result"
    }
   ],
   "source": [
    "rotation([1,2,3,4,5,6,8], [4,5,6,7,1,2,3])"
   ]
  },
  {
   "cell_type": "markdown",
   "metadata": {},
   "source": [
    "# Array Common Elements"
   ]
  },
  {
   "cell_type": "raw",
   "metadata": {},
   "source": [
    "Common elements in two sorted arrays\n",
    "\n",
    "return the common elements (as an array) between two sorted arrays of integers (ascending order).\n",
    "\n",
    "eg. [1, 3, 4, 6, 7, 9] and [1, 2, 4, 5, 9, 10] are [1,4,9]"
   ]
  },
  {
   "cell_type": "code",
   "execution_count": 156,
   "metadata": {
    "ExecuteTime": {
     "end_time": "2019-09-06T06:20:20.547768Z",
     "start_time": "2019-09-06T06:20:20.535775Z"
    }
   },
   "outputs": [
    {
     "name": "stdout",
     "output_type": "stream",
     "text": [
      "[1, 4, 9]\n"
     ]
    }
   ],
   "source": [
    "from typing import List\n",
    "\n",
    "def common_elements(a: List[int], b: List[int]) -> List[int]:\n",
    "    p1: int = 0\n",
    "    p2: int = 0\n",
    "    result: List[int] = []\n",
    "    \n",
    "    while p1 < len(a) and p2 < len(b):\n",
    "        if a[p1] == b[p2]: \n",
    "            result.append(a[p1])\n",
    "            p1 += 1\n",
    "            p2 += 1 \n",
    "        \n",
    "        elif a[p1] > b[p2]:\n",
    "            p2 += 1\n",
    "        \n",
    "        else:\n",
    "            p1 += 1\n",
    "    \n",
    "    return result\n",
    "\n",
    "print(common_elements([1, 3, 4, 6, 7, 9, 1], [1, 2, 4, 5, 9, 10, 1]))\n",
    "                \n",
    "# [1,4,9]"
   ]
  },
  {
   "cell_type": "markdown",
   "metadata": {},
   "source": [
    "# Minesweeper"
   ]
  },
  {
   "cell_type": "raw",
   "metadata": {},
   "source": [
    "\n",
    "write a function that will take 3 arguments:\n",
    "\n",
    "bombs=list of bomb locations\n",
    "rows, \n",
    "columns\n",
    "\n",
    "\n",
    "mine_sweeper([[0, 0], [1, 2]], 3, 4)\n",
    "input:([bomb location], rows, columns)\n",
    "\n",
    "1st bomb at row index 0 column index 0\n",
    "2nd bomb at row index 0 column index 1\n",
    "3 rows\n",
    "4 columns\n",
    "\n",
    "we should return an 3 x 4 array (-1) = bomb\n",
    "\n",
    "[[-1, 1,  1, 1], \n",
    " [ 1, 2, -1, 1],\n",
    " [ 0, 1,  1, 1]}\n",
    " \n",
    "   \n"
   ]
  },
  {
   "cell_type": "markdown",
   "metadata": {},
   "source": [
    "<img src='pics/INT1_10.png' alt='Drawing' style='width:625pt'/>"
   ]
  },
  {
   "cell_type": "code",
   "execution_count": 8,
   "metadata": {
    "ExecuteTime": {
     "end_time": "2019-09-06T14:30:01.526149Z",
     "start_time": "2019-09-06T14:30:01.514156Z"
    }
   },
   "outputs": [],
   "source": [
    "from typing import List\n",
    "\n",
    "def mine_sweeper(bombs: List[List[int]], \n",
    "                 num_rows: int, \n",
    "                 num_cols: int) -> List[List[int]]:\n",
    "    \n",
    "    # initialize empty field\n",
    "    field = [[0 for i in range(num_cols)]\n",
    "             for j in range(num_rows)]\n",
    "    \n",
    "    for bomb_location in bombs:\n",
    "        # mark bomb cell with -1\n",
    "        (bomb_row, bomb_col) = bomb_location\n",
    "        field[bomb_row][bomb_col] = -1\n",
    "    \n",
    "        # create 1 cell range around bomb locations\n",
    "        # +2 because of how python range is exclusive of stop point \n",
    "        row_range = range(bomb_row - 1, bomb_row + 2)\n",
    "        col_range = range(bomb_col - 1, bomb_col + 2)\n",
    "        \n",
    "        \n",
    "        # iterate through field top to bottom, right to left \n",
    "        for row in row_range:\n",
    "            current_row = row\n",
    "            for col in col_range:\n",
    "                current_col = col\n",
    "                if (0 <= row < num_rows \n",
    "                    and 0 <= col < num_cols \n",
    "                    and field[row][col] != -1):\n",
    "\n",
    "                    # increment cells in our adjacent bomb range by 1\n",
    "                    field[row][col] += 1\n",
    "                \n",
    "    return field"
   ]
  },
  {
   "cell_type": "code",
   "execution_count": 3,
   "metadata": {
    "ExecuteTime": {
     "end_time": "2019-09-06T14:29:04.701899Z",
     "start_time": "2019-09-06T14:29:04.695906Z"
    }
   },
   "outputs": [
    {
     "name": "stdout",
     "output_type": "stream",
     "text": [
      "[[-1, 2, 1, 1], [1, 2, -1, 1], [0, 1, 1, 1]]\n"
     ]
    }
   ],
   "source": [
    "mine_sweeper([[0, 0], [1, 2]], 3, 4)"
   ]
  },
  {
   "cell_type": "code",
   "execution_count": 12,
   "metadata": {
    "ExecuteTime": {
     "end_time": "2019-09-06T14:30:59.742465Z",
     "start_time": "2019-09-06T14:30:59.733471Z"
    }
   },
   "outputs": [
    {
     "data": {
      "text/plain": [
       "[[-1, 2, 1, 1], [1, 2, -1, 1], [0, 1, 2, 2], [0, 0, 1, -1]]"
      ]
     },
     "execution_count": 12,
     "metadata": {},
     "output_type": "execute_result"
    }
   ],
   "source": [
    "mine_sweeper([[0, 0], [1, 2], [3, 3]], 4, 4)"
   ]
  },
  {
   "cell_type": "code",
   "execution_count": 9,
   "metadata": {
    "ExecuteTime": {
     "end_time": "2019-09-06T14:30:03.858901Z",
     "start_time": "2019-09-06T14:30:03.851909Z"
    }
   },
   "outputs": [
    {
     "name": "stdout",
     "output_type": "stream",
     "text": [
      "[-1, 2, 1, 1]\n",
      "[1, 2, -1, 1]\n",
      "[0, 1, 1, 1]\n"
     ]
    }
   ],
   "source": [
    "import pprint\n",
    "for i in mine_sweeper([[0, 0], [1, 2]], 3, 4):\n",
    "    print(i)"
   ]
  },
  {
   "cell_type": "code",
   "execution_count": 2,
   "metadata": {
    "ExecuteTime": {
     "end_time": "2019-09-06T14:23:29.089191Z",
     "start_time": "2019-09-06T14:23:29.083195Z"
    }
   },
   "outputs": [
    {
     "name": "stdout",
     "output_type": "stream",
     "text": [
      "-1\n",
      "0\n",
      "1\n"
     ]
    }
   ],
   "source": [
    "for i in range(-1, 2):\n",
    "    print(i)\n",
    "    "
   ]
  },
  {
   "cell_type": "markdown",
   "metadata": {},
   "source": [
    "# Frequent Count"
   ]
  },
  {
   "cell_type": "raw",
   "metadata": {},
   "source": [
    "  Given an array what is the most frequently occuring element?"
   ]
  },
  {
   "cell_type": "code",
   "execution_count": 19,
   "metadata": {
    "ExecuteTime": {
     "end_time": "2019-09-06T15:35:32.567314Z",
     "start_time": "2019-09-06T15:35:32.554320Z"
    }
   },
   "outputs": [
    {
     "name": "stdout",
     "output_type": "stream",
     "text": [
      "1\n"
     ]
    }
   ],
   "source": [
    "from typing import List, Set, Dict, Tuple, Optional, Union, Iterator\n",
    "from collections import defaultdict\n",
    "import operator\n",
    "\n",
    "def most_frequent(list: Union[List[int], List[str]]) \\\n",
    "                     -> Union[List[int], List[str]]:\n",
    "    \n",
    "    counter: dict = defaultdict(int)\n",
    "    \n",
    "    for i in list:\n",
    "        counter[i] += 1\n",
    "        \n",
    "    return sorted(counter.items(),\n",
    "                 key=operator.itemgetter(1),\n",
    "                 reverse = True)[0][0]\n",
    "\n",
    "\n",
    "print(most_frequent([1,3,3,3,2,1,1,1]))\n",
    "\n",
    "import operator\n",
    "# sorted(dict.items(), key=operator.itemgetter(0))\n"
   ]
  },
  {
   "cell_type": "code",
   "execution_count": 15,
   "metadata": {
    "ExecuteTime": {
     "end_time": "2019-09-06T15:35:03.143055Z",
     "start_time": "2019-09-06T15:35:03.136062Z"
    }
   },
   "outputs": [],
   "source": [
    "def most_frequent(list):\n",
    "    count = {} \n",
    "    max_count = 0\n",
    "    max_item = None\n",
    "    \n",
    "    for i in list:\n",
    "        if i not in count:\n",
    "            count[i] = 1\n",
    "        else:\n",
    "            count[i] += 1\n",
    "        \n",
    "        if count[i] > max_count:\n",
    "            max_count = count[i]\n",
    "            max_item = i\n",
    "    \n",
    "    return max_item"
   ]
  },
  {
   "cell_type": "code",
   "execution_count": 14,
   "metadata": {
    "ExecuteTime": {
     "end_time": "2019-09-06T15:34:59.370942Z",
     "start_time": "2019-09-06T15:34:59.364948Z"
    }
   },
   "outputs": [
    {
     "name": "stdout",
     "output_type": "stream",
     "text": [
      "1\n"
     ]
    }
   ],
   "source": [
    "print(most_frequent([1,3,3,3,2,1,1,1]))"
   ]
  },
  {
   "cell_type": "markdown",
   "metadata": {},
   "source": [
    "# Unique Characters in Strings"
   ]
  },
  {
   "cell_type": "raw",
   "metadata": {},
   "source": [
    "Given a string, are all characters unique?\n",
    "should give a True or False return \n",
    "Uses python built in structures"
   ]
  },
  {
   "cell_type": "code",
   "execution_count": 25,
   "metadata": {
    "ExecuteTime": {
     "end_time": "2019-09-06T15:53:16.507923Z",
     "start_time": "2019-09-06T15:53:16.498927Z"
    }
   },
   "outputs": [
    {
     "name": "stdout",
     "output_type": "stream",
     "text": [
      "string:\t abcdef\n",
      "True\n",
      "{'a', 'd', 'f', 'e', 'c', 'b', ' '}\n",
      "['a', ' ', 'b', ' ', 'c', 'd', 'e', 'f']\n"
     ]
    }
   ],
   "source": [
    "\n",
    "# from typing import List, Set, Dict, Tuple, Optional, Union, Iterator\n",
    "\n",
    "def unique(string: str) -> bool:\n",
    "    string = string.replace(' ',''); print('string:\\t', string)\n",
    "    return len(set(string)) == len(string)\n",
    "\n",
    "print(unique('a b cdef'))\n",
    "\n",
    "print(set('a b  cdef'))\n",
    "print(list('a b cdef'))"
   ]
  },
  {
   "cell_type": "code",
   "execution_count": 36,
   "metadata": {
    "ExecuteTime": {
     "end_time": "2019-09-06T15:59:38.100487Z",
     "start_time": "2019-09-06T15:59:38.091495Z"
    }
   },
   "outputs": [
    {
     "data": {
      "text/plain": [
       "True"
      ]
     },
     "execution_count": 36,
     "metadata": {},
     "output_type": "execute_result"
    }
   ],
   "source": [
    " def unique(s: str) -> bool:\n",
    "        s = s.replace(' ','')\n",
    "        characters = set()\n",
    "        \n",
    "        for letter in s:\n",
    "            if letter in characters:\n",
    "                return False\n",
    "            else: \n",
    "                characters.add(letter)\n",
    "      \n",
    "        return True\n",
    "        \n",
    "unique('a b cdef')"
   ]
  },
  {
   "cell_type": "markdown",
   "metadata": {},
   "source": [
    "# Non-Repeat Elements in Array"
   ]
  },
  {
   "cell_type": "raw",
   "metadata": {},
   "source": [
    "Non repeat element\n",
    "\n",
    "take a string and return character that never repeats if multiple uniques then return only the first unique"
   ]
  },
  {
   "cell_type": "code",
   "execution_count": 37,
   "metadata": {
    "ExecuteTime": {
     "end_time": "2019-09-06T16:30:16.378765Z",
     "start_time": "2019-09-06T16:30:16.368773Z"
    }
   },
   "outputs": [
    {
     "name": "stdout",
     "output_type": "stream",
     "text": [
      "i\n"
     ]
    }
   ],
   "source": [
    "## Non repeat element\n",
    "# take a string and return character that never repeats if multiple uniques then return only the first unique\n",
    "\n",
    "from typing import List, Set, Dict, Tuple, Optional, Union, Iterator\n",
    "from collections import defaultdict\n",
    "import operator\n",
    "\n",
    "def non_repeating(s: str) -> Union[str, List[str]]:\n",
    "    counter: dict = defaultdict(int)\n",
    "    s = s.lower().replace(' ','')\n",
    "    \n",
    "    for c in s:\n",
    "        counter[c] += 1\n",
    "    \n",
    "    return sorted(counter.items(), key=operator.itemgetter(1))[0][0]\n",
    "\n",
    "    \n",
    "print(non_repeating('I Apple Ape Peels'))"
   ]
  },
  {
   "cell_type": "code",
   "execution_count": 39,
   "metadata": {
    "ExecuteTime": {
     "end_time": "2019-09-06T16:32:56.123469Z",
     "start_time": "2019-09-06T16:32:56.112479Z"
    }
   },
   "outputs": [
    {
     "name": "stdout",
     "output_type": "stream",
     "text": [
      "i\n"
     ]
    }
   ],
   "source": [
    "def non_repeating(s: str) -> Union[str, List[str]]:\n",
    "    s = s.lower().replace(' ','')\n",
    "    \n",
    "    char_count = {}\n",
    "    \n",
    "    for c in s:\n",
    "        if c in char_count:\n",
    "            char_count[c] += 1\n",
    "        else:\n",
    "            char_count[c] = 1\n",
    "            \n",
    "    for c in s:\n",
    "        if char_count[c] == 1:\n",
    "            return c\n",
    "    return None \n",
    "\n",
    "print(non_repeating('I Apple Ape Peels'))"
   ]
  }
 ],
 "metadata": {
  "hide_input": false,
  "kernelspec": {
   "display_name": "Python 3",
   "language": "python",
   "name": "python3"
  },
  "language_info": {
   "codemirror_mode": {
    "name": "ipython",
    "version": 3
   },
   "file_extension": ".py",
   "mimetype": "text/x-python",
   "name": "python",
   "nbconvert_exporter": "python",
   "pygments_lexer": "ipython3",
   "version": "3.7.1"
  },
  "toc": {
   "base_numbering": 1,
   "nav_menu": {},
   "number_sections": true,
   "sideBar": true,
   "skip_h1_title": false,
   "title_cell": "Table of Contents",
   "title_sidebar": "Contents",
   "toc_cell": true,
   "toc_position": {},
   "toc_section_display": true,
   "toc_window_display": true
  }
 },
 "nbformat": 4,
 "nbformat_minor": 2
}
