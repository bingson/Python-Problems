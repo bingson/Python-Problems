{
 "cells": [
  {
   "cell_type": "markdown",
   "metadata": {
    "toc": true
   },
   "source": [
    "<h1>Table of Contents<span class=\"tocSkip\"></span></h1>\n",
    "<div class=\"toc\"><ul class=\"toc-item\"><li><span><a href=\"#Looping-&amp;-Iteration\" data-toc-modified-id=\"Looping-&amp;-Iteration-1\"><span class=\"toc-item-num\">1&nbsp;&nbsp;</span>Looping &amp; Iteration</a></span><ul class=\"toc-item\"><li><span><a href=\"#Writing-Pythonic-Loops\" data-toc-modified-id=\"Writing-Pythonic-Loops-1.1\"><span class=\"toc-item-num\">1.1&nbsp;&nbsp;</span>Writing Pythonic Loops</a></span></li><li><span><a href=\"#Comprehending-Comprehensions\" data-toc-modified-id=\"Comprehending-Comprehensions-1.2\"><span class=\"toc-item-num\">1.2&nbsp;&nbsp;</span>Comprehending Comprehensions</a></span></li><li><span><a href=\"#List-Slicing-Tricks-and-the-Sushi-Operator\" data-toc-modified-id=\"List-Slicing-Tricks-and-the-Sushi-Operator-1.3\"><span class=\"toc-item-num\">1.3&nbsp;&nbsp;</span>List Slicing Tricks and the Sushi Operator</a></span></li><li><span><a href=\"#Beautiful-Iterators\" data-toc-modified-id=\"Beautiful-Iterators-1.4\"><span class=\"toc-item-num\">1.4&nbsp;&nbsp;</span>Beautiful Iterators</a></span><ul class=\"toc-item\"><li><span><a href=\"#Iterating-Forever\" data-toc-modified-id=\"Iterating-Forever-1.4.1\"><span class=\"toc-item-num\">1.4.1&nbsp;&nbsp;</span>Iterating Forever</a></span></li><li><span><a href=\"#How-do-for-in-loops-work-in-Python?\" data-toc-modified-id=\"How-do-for-in-loops-work-in-Python?-1.4.2\"><span class=\"toc-item-num\">1.4.2&nbsp;&nbsp;</span>How do for-in loops work in Python?</a></span></li><li><span><a href=\"#A-Simpler-Iterator-Class\" data-toc-modified-id=\"A-Simpler-Iterator-Class-1.4.3\"><span class=\"toc-item-num\">1.4.3&nbsp;&nbsp;</span>A Simpler Iterator Class</a></span></li><li><span><a href=\"#Who-Wants-to-Iterate-Forever\" data-toc-modified-id=\"Who-Wants-to-Iterate-Forever-1.4.4\"><span class=\"toc-item-num\">1.4.4&nbsp;&nbsp;</span>Who Wants to Iterate Forever</a></span></li><li><span><a href=\"#Key-Takeaways\" data-toc-modified-id=\"Key-Takeaways-1.4.5\"><span class=\"toc-item-num\">1.4.5&nbsp;&nbsp;</span>Key Takeaways</a></span></li></ul></li><li><span><a href=\"#Generators-Are-Simplified-Iterators\" data-toc-modified-id=\"Generators-Are-Simplified-Iterators-1.5\"><span class=\"toc-item-num\">1.5&nbsp;&nbsp;</span>Generators Are Simplified Iterators</a></span><ul class=\"toc-item\"><li><span><a href=\"#Infinite-Generators\" data-toc-modified-id=\"Infinite-Generators-1.5.1\"><span class=\"toc-item-num\">1.5.1&nbsp;&nbsp;</span>Infinite Generators</a></span></li><li><span><a href=\"#Generators-That-Stop-Generating\" data-toc-modified-id=\"Generators-That-Stop-Generating-1.5.2\"><span class=\"toc-item-num\">1.5.2&nbsp;&nbsp;</span>Generators That Stop Generating</a></span></li></ul></li><li><span><a href=\"#Generator-Expressions\" data-toc-modified-id=\"Generator-Expressions-1.6\"><span class=\"toc-item-num\">1.6&nbsp;&nbsp;</span>Generator Expressions</a></span><ul class=\"toc-item\"><li><span><a href=\"#Generator-Expressions-vs-List-Comprehensions\" data-toc-modified-id=\"Generator-Expressions-vs-List-Comprehensions-1.6.1\"><span class=\"toc-item-num\">1.6.1&nbsp;&nbsp;</span>Generator Expressions vs List Comprehensions</a></span></li><li><span><a href=\"#Filtering-Values\" data-toc-modified-id=\"Filtering-Values-1.6.2\"><span class=\"toc-item-num\">1.6.2&nbsp;&nbsp;</span>Filtering Values</a></span></li><li><span><a href=\"#In-line-Generator-Expressions\" data-toc-modified-id=\"In-line-Generator-Expressions-1.6.3\"><span class=\"toc-item-num\">1.6.3&nbsp;&nbsp;</span>In-line Generator Expressions</a></span></li><li><span><a href=\"#Too-Much-of-a-Good-Thing…\" data-toc-modified-id=\"Too-Much-of-a-Good-Thing…-1.6.4\"><span class=\"toc-item-num\">1.6.4&nbsp;&nbsp;</span>Too Much of a Good Thing…</a></span></li></ul></li><li><span><a href=\"#Iterator-Chains\" data-toc-modified-id=\"Iterator-Chains-1.7\"><span class=\"toc-item-num\">1.7&nbsp;&nbsp;</span>Iterator Chains</a></span></li></ul></li><li><span><a href=\"#Dictionary-Tricks\" data-toc-modified-id=\"Dictionary-Tricks-2\"><span class=\"toc-item-num\">2&nbsp;&nbsp;</span>Dictionary Tricks</a></span><ul class=\"toc-item\"><li><span><a href=\"#Dictionary-Default-Values\" data-toc-modified-id=\"Dictionary-Default-Values-2.1\"><span class=\"toc-item-num\">2.1&nbsp;&nbsp;</span>Dictionary Default Values</a></span></li><li><span><a href=\"#Sorting-Dictionaries\" data-toc-modified-id=\"Sorting-Dictionaries-2.2\"><span class=\"toc-item-num\">2.2&nbsp;&nbsp;</span>Sorting Dictionaries</a></span></li><li><span><a href=\"#Emulating-Switch/Case-Statements-With-Dicts\" data-toc-modified-id=\"Emulating-Switch/Case-Statements-With-Dicts-2.3\"><span class=\"toc-item-num\">2.3&nbsp;&nbsp;</span>Emulating Switch/Case Statements With Dicts</a></span><ul class=\"toc-item\"><li><span><a href=\"#We’re-going-to-write-another-function-with-an-if-chain-that-we’ll-then-transform.\" data-toc-modified-id=\"We’re-going-to-write-another-function-with-an-if-chain-that-we’ll-then-transform.-2.3.1\"><span class=\"toc-item-num\">2.3.1&nbsp;&nbsp;</span>We’re going to write another function with an if-chain that we’ll then transform.</a></span></li></ul></li><li><span><a href=\"#Craziest-Dict-Expression\" data-toc-modified-id=\"Craziest-Dict-Expression-2.4\"><span class=\"toc-item-num\">2.4&nbsp;&nbsp;</span>Craziest Dict Expression</a></span></li><li><span><a href=\"#So-Many-Ways-to-Merge-Dictionaries\" data-toc-modified-id=\"So-Many-Ways-to-Merge-Dictionaries-2.5\"><span class=\"toc-item-num\">2.5&nbsp;&nbsp;</span>So Many Ways to Merge Dictionaries</a></span></li><li><span><a href=\"#Dictionary-Pretty-Printing\" data-toc-modified-id=\"Dictionary-Pretty-Printing-2.6\"><span class=\"toc-item-num\">2.6&nbsp;&nbsp;</span>Dictionary Pretty-Printing</a></span></li></ul></li><li><span><a href=\"#Productivity-Techniques\" data-toc-modified-id=\"Productivity-Techniques-3\"><span class=\"toc-item-num\">3&nbsp;&nbsp;</span>Productivity Techniques</a></span><ul class=\"toc-item\"><li><span><a href=\"#Exploring-Python-Modules-and-Objects\" data-toc-modified-id=\"Exploring-Python-Modules-and-Objects-3.1\"><span class=\"toc-item-num\">3.1&nbsp;&nbsp;</span>Exploring Python Modules and Objects</a></span></li></ul></li></ul></div>"
   ]
  },
  {
   "cell_type": "code",
   "execution_count": 1,
   "metadata": {
    "ExecuteTime": {
     "end_time": "2019-09-03T16:45:50.385333Z",
     "start_time": "2019-09-03T16:45:50.379478Z"
    }
   },
   "outputs": [],
   "source": [
    "# Pretty display multiple variables without print statement\n",
    "from IPython.core.interactiveshell import InteractiveShell\n",
    "InteractiveShell.ast_node_interactivity = \"all\""
   ]
  },
  {
   "cell_type": "markdown",
   "metadata": {},
   "source": [
    "# Looping & Iteration"
   ]
  },
  {
   "cell_type": "markdown",
   "metadata": {
    "heading_collapsed": true
   },
   "source": [
    "## Writing Pythonic Loops"
   ]
  },
  {
   "cell_type": "code",
   "execution_count": 16,
   "metadata": {
    "ExecuteTime": {
     "end_time": "2019-09-03T19:16:22.092491Z",
     "start_time": "2019-09-03T19:16:22.081755Z"
    },
    "hidden": true
   },
   "outputs": [
    {
     "data": {
      "text/plain": [
       "range(0, 3)"
      ]
     },
     "execution_count": 16,
     "metadata": {},
     "output_type": "execute_result"
    },
    {
     "data": {
      "text/plain": [
       "[0, 1, 2]"
      ]
     },
     "execution_count": 16,
     "metadata": {},
     "output_type": "execute_result"
    }
   ],
   "source": [
    "my_items = ['a', 'b', 'c']\n",
    "\n",
    "# bad C or Java style\n",
    "# i = 0\n",
    "# while i < len(my_items):\n",
    "#     print(my_items[i])\n",
    "#     i += 1\n",
    "    \n",
    "range(len(my_items))\n",
    "list(range(0, 3))"
   ]
  },
  {
   "cell_type": "markdown",
   "metadata": {
    "hidden": true
   },
   "source": [
    "The range type represents an immutable sequence of numbers. Its advantage over a regular list is that it always takes the same small amount of memory. <font color = 'blue'>Range objects don’t actually store the individual values representing the number sequence—instead, they function as iterators and calculate the sequence values on the fly</font>.1 \n",
    "\n",
    "So, rather than incrementing i manually on each loop iteration, I could take advantage of the range() function and write something like this:"
   ]
  },
  {
   "cell_type": "code",
   "execution_count": 18,
   "metadata": {
    "ExecuteTime": {
     "end_time": "2019-09-03T19:17:14.336300Z",
     "start_time": "2019-09-03T19:17:14.330444Z"
    },
    "hidden": true
   },
   "outputs": [
    {
     "name": "stdout",
     "output_type": "stream",
     "text": [
      "a\n",
      "b\n",
      "c\n"
     ]
    }
   ],
   "source": [
    "for i in range(len(my_items)):\n",
    "    print(my_items[i])"
   ]
  },
  {
   "cell_type": "code",
   "execution_count": 19,
   "metadata": {
    "ExecuteTime": {
     "end_time": "2019-09-03T19:26:33.205681Z",
     "start_time": "2019-09-03T19:26:33.199824Z"
    },
    "hidden": true
   },
   "outputs": [
    {
     "name": "stdout",
     "output_type": "stream",
     "text": [
      "a\n",
      "b\n",
      "c\n"
     ]
    }
   ],
   "source": [
    "# even better\n",
    "for item in my_items:\n",
    "    print(item)\n"
   ]
  },
  {
   "cell_type": "markdown",
   "metadata": {
    "hidden": true
   },
   "source": [
    "Notice how this loop no longer keeps track of the container’s size and doesn’t use a running index to access elements."
   ]
  },
  {
   "cell_type": "code",
   "execution_count": 20,
   "metadata": {
    "ExecuteTime": {
     "end_time": "2019-09-03T19:27:53.436669Z",
     "start_time": "2019-09-03T19:27:53.431787Z"
    },
    "hidden": true
   },
   "outputs": [
    {
     "name": "stdout",
     "output_type": "stream",
     "text": [
      "0: a\n",
      "1: b\n",
      "2: c\n"
     ]
    }
   ],
   "source": [
    "# It’s possible to write loops that keep a running index while avoiding\n",
    "# the range(len(...)) pattern I cautioned against. The enumerate()\n",
    "# built-in helps you make those kinds of loops nice and Pythonic:\n",
    "\n",
    "for i, item in enumerate(my_items):\n",
    "    print(f'{i}: {item}')"
   ]
  },
  {
   "cell_type": "code",
   "execution_count": 21,
   "metadata": {
    "ExecuteTime": {
     "end_time": "2019-09-03T19:28:47.434908Z",
     "start_time": "2019-09-03T19:28:47.429051Z"
    },
    "hidden": true,
    "scrolled": true
   },
   "outputs": [
    {
     "name": "stdout",
     "output_type": "stream",
     "text": [
      "Bob -> bob@example.com\n",
      "Alice -> alice@example.com\n"
     ]
    }
   ],
   "source": [
    "emails = {\n",
    "    'Bob': 'bob@example.com',\n",
    "    'Alice': 'alice@example.com',\n",
    "}\n",
    "\n",
    "for name, email in emails.items():\n",
    "    print(f'{name} -> {email}')"
   ]
  },
  {
   "cell_type": "markdown",
   "metadata": {
    "hidden": true
   },
   "source": [
    "What if you absolutely, positively need to write a C-style loop. For example, what if you must control the step size for the index?\n",
    "\n",
    "How would this pattern translate to Python? The range() function comes to our rescue again—it accepts optional parameters to control the start value for the loop (a), the stop value (n), and the step size (s). Therefore, our Java loop example could be translated to Python, like this:\n",
    "\n",
    "```for i in range(a, n, s):```"
   ]
  },
  {
   "cell_type": "markdown",
   "metadata": {
    "heading_collapsed": true
   },
   "source": [
    "## Comprehending Comprehensions"
   ]
  },
  {
   "cell_type": "code",
   "execution_count": 24,
   "metadata": {
    "ExecuteTime": {
     "end_time": "2019-09-03T19:31:51.135494Z",
     "start_time": "2019-09-03T19:31:51.121826Z"
    },
    "hidden": true
   },
   "outputs": [
    {
     "data": {
      "text/plain": [
       "[0, 1, 4, 9, 16, 25, 36, 49, 64, 81]"
      ]
     },
     "execution_count": 24,
     "metadata": {},
     "output_type": "execute_result"
    },
    {
     "data": {
      "text/plain": [
       "[0, 1, 4, 9, 16, 25, 36, 49, 64, 81]"
      ]
     },
     "execution_count": 24,
     "metadata": {},
     "output_type": "execute_result"
    }
   ],
   "source": [
    "squares = [x * x for x in range(10)]\n",
    "squares\n",
    "\n",
    "squares = []\n",
    "for x in range(10):\n",
    "    squares.append(x * x)\n",
    "squares"
   ]
  },
  {
   "cell_type": "markdown",
   "metadata": {
    "hidden": true
   },
   "source": [
    "```values = [expression for item in collection]```\n",
    "\n",
    "The above list comprehension “template” is equivalent to the following plain for-loop:\n",
    "\n",
    "```\n",
    "values = []\n",
    "for item in collection:\n",
    "    values.append(expression)```"
   ]
  },
  {
   "cell_type": "code",
   "execution_count": 28,
   "metadata": {
    "ExecuteTime": {
     "end_time": "2019-09-03T19:35:02.723164Z",
     "start_time": "2019-09-03T19:35:02.709497Z"
    },
    "hidden": true
   },
   "outputs": [
    {
     "data": {
      "text/plain": [
       "[0, 4, 16, 36, 64]"
      ]
     },
     "execution_count": 28,
     "metadata": {},
     "output_type": "execute_result"
    },
    {
     "data": {
      "text/plain": [
       "[0, 4, 16, 36, 64]"
      ]
     },
     "execution_count": 28,
     "metadata": {},
     "output_type": "execute_result"
    }
   ],
   "source": [
    "even_squares = [x * x \n",
    "                for x in range(10) \n",
    "                if x % 2 == 0]\n",
    "even_squares\n",
    "\n",
    "even_squares = []\n",
    "for x in range(10):\n",
    "    if x % 2 == 0:\n",
    "        even_squares.append(x * x)\n",
    "\n",
    "even_squares"
   ]
  },
  {
   "cell_type": "markdown",
   "metadata": {
    "hidden": true
   },
   "source": [
    " The modulo (%) operator used here returns the remainder after division of one number by another."
   ]
  },
  {
   "cell_type": "markdown",
   "metadata": {
    "hidden": true
   },
   "source": [
    "Let’s try and generalize the above list comprehension to for-loop transformation pattern some more. This time we’re going to add a filter condition to our template so we get to decide which values end up in the output list. Here’s the updated list comprehension template:\n",
    "```\n",
    "values = [expression\n",
    "          for item in collection\n",
    "          if condition]```\n",
    "          \n",
    "we can transform this list comprehension into a for-loop with\n",
    "the following pattern\n",
    "\n",
    "```\n",
    "values = []\n",
    "for item in collection:\n",
    "    if condition:\n",
    "        values.append(expression)```"
   ]
  },
  {
   "cell_type": "markdown",
   "metadata": {
    "hidden": true
   },
   "source": [
    "Before you move on, I want to point out that Python not only supports\n",
    "list comprehensions but also has similar syntactic sugar for sets and\n",
    "dictionaries.\n",
    "\n",
    "**<font color = 'purple'>Here’s what a set comprehension looks like: </font>**"
   ]
  },
  {
   "cell_type": "code",
   "execution_count": 33,
   "metadata": {
    "ExecuteTime": {
     "end_time": "2019-09-03T19:40:12.868563Z",
     "start_time": "2019-09-03T19:40:12.860753Z"
    },
    "hidden": true
   },
   "outputs": [
    {
     "data": {
      "text/plain": [
       "{0, 1, 4, 9, 16, 25, 36, 49, 64, 81}"
      ]
     },
     "execution_count": 33,
     "metadata": {},
     "output_type": "execute_result"
    }
   ],
   "source": [
    "{ x * x for x in range(-9, 10) }"
   ]
  },
  {
   "cell_type": "markdown",
   "metadata": {
    "hidden": true
   },
   "source": [
    "Unlike lists, which retain the order of the elements in them, Python sets are an unordered collection type. So you’ll get a more or less “random” order when you add items to a set container."
   ]
  },
  {
   "cell_type": "markdown",
   "metadata": {
    "hidden": true
   },
   "source": [
    "**<font color = 'purple'>This is a dictionary comprehension: </font>**"
   ]
  },
  {
   "cell_type": "code",
   "execution_count": 34,
   "metadata": {
    "ExecuteTime": {
     "end_time": "2019-09-03T19:40:39.175927Z",
     "start_time": "2019-09-03T19:40:39.168115Z"
    },
    "hidden": true
   },
   "outputs": [
    {
     "data": {
      "text/plain": [
       "{0: 0, 1: 1, 2: 4, 3: 9, 4: 16}"
      ]
     },
     "execution_count": 34,
     "metadata": {},
     "output_type": "execute_result"
    }
   ],
   "source": [
    "{ x: x * x for x in range(5) }"
   ]
  },
  {
   "cell_type": "markdown",
   "metadata": {},
   "source": [
    "## List Slicing Tricks and the Sushi Operator"
   ]
  },
  {
   "cell_type": "markdown",
   "metadata": {},
   "source": [
    "Python’s list objects have a neat feature called slicing. You can view it as an extension of the square-brackets indexing syntax. Slicing is commonly used to access ranges of elements within an ordered collection. For example, you can slice up a large list object into several smaller sublists with it. Here’s an example. Slicing uses the familiar ```“[]”``` indexing syntax with the following ```“[start:stop:step]”``` pattern:"
   ]
  },
  {
   "cell_type": "code",
   "execution_count": 35,
   "metadata": {
    "ExecuteTime": {
     "end_time": "2019-09-03T20:07:18.214515Z",
     "start_time": "2019-09-03T20:07:18.204753Z"
    },
    "scrolled": true
   },
   "outputs": [
    {
     "data": {
      "text/plain": [
       "[1, 2, 3, 4, 5]"
      ]
     },
     "execution_count": 35,
     "metadata": {},
     "output_type": "execute_result"
    },
    {
     "data": {
      "text/plain": [
       "[2, 3]"
      ]
     },
     "execution_count": 35,
     "metadata": {},
     "output_type": "execute_result"
    }
   ],
   "source": [
    "lst = [1, 2, 3, 4, 5]\n",
    "lst\n",
    "# [1, 2, 3, 4, 5]\n",
    "\n",
    "# lst[start:end:step]\n",
    "lst[1:3:1]\n",
    "# [2, 3]"
   ]
  },
  {
   "cell_type": "code",
   "execution_count": 47,
   "metadata": {
    "ExecuteTime": {
     "end_time": "2019-09-03T20:10:50.140337Z",
     "start_time": "2019-09-03T20:10:50.133505Z"
    },
    "scrolled": true
   },
   "outputs": [
    {
     "data": {
      "text/plain": [
       "'bdfhjln'"
      ]
     },
     "execution_count": 47,
     "metadata": {},
     "output_type": "execute_result"
    }
   ],
   "source": [
    "test = \"abcdefghijklmno\"\n",
    "test[1:len(test)+1:2]"
   ]
  },
  {
   "cell_type": "markdown",
   "metadata": {},
   "source": [
    "<font color = 'red'>To avoid off-by-one errors, it’s important to remember that the upper bound is always <span style='background-color: pink'>exclusive</span>. </font>"
   ]
  },
  {
   "cell_type": "markdown",
   "metadata": {},
   "source": [
    "<font color = 'green'>If you leave out the step size, it defaults to one:</font>"
   ]
  },
  {
   "cell_type": "code",
   "execution_count": 48,
   "metadata": {
    "ExecuteTime": {
     "end_time": "2019-09-03T20:11:32.182265Z",
     "start_time": "2019-09-03T20:11:32.176407Z"
    }
   },
   "outputs": [
    {
     "data": {
      "text/plain": [
       "[2, 3]"
      ]
     },
     "execution_count": 48,
     "metadata": {},
     "output_type": "execute_result"
    }
   ],
   "source": [
    "lst[1:3]"
   ]
  },
  {
   "cell_type": "markdown",
   "metadata": {
    "ExecuteTime": {
     "end_time": "2019-09-03T20:13:15.434850Z",
     "start_time": "2019-09-03T20:13:15.428017Z"
    }
   },
   "source": [
    "You can do other interesting things with the step parameter, also\n",
    "called the stride. For example, <font color = 'purple'>**you can create a sublist that includes\n",
    "every other element of the original**</font>:"
   ]
  },
  {
   "cell_type": "code",
   "execution_count": 50,
   "metadata": {
    "ExecuteTime": {
     "end_time": "2019-09-03T20:13:05.872496Z",
     "start_time": "2019-09-03T20:13:05.866639Z"
    }
   },
   "outputs": [
    {
     "data": {
      "text/plain": [
       "[1, 3, 5]"
      ]
     },
     "execution_count": 50,
     "metadata": {},
     "output_type": "execute_result"
    }
   ],
   "source": [
    "lst[::2]"
   ]
  },
  {
   "cell_type": "markdown",
   "metadata": {},
   "source": [
    "You just saw how the slicing step size can be used to select every other element of a list. Well, there’s more: **<font color = 'purple'>If you ask for a ```[::-1]``` slice, you’ll get a copy of the original list, but in the reverse order: </font>**"
   ]
  },
  {
   "cell_type": "code",
   "execution_count": 57,
   "metadata": {
    "ExecuteTime": {
     "end_time": "2019-09-03T20:15:32.549218Z",
     "start_time": "2019-09-03T20:15:32.544335Z"
    }
   },
   "outputs": [],
   "source": [
    "numbers = list(range(1,10))"
   ]
  },
  {
   "cell_type": "code",
   "execution_count": 60,
   "metadata": {
    "ExecuteTime": {
     "end_time": "2019-09-03T20:16:17.267636Z",
     "start_time": "2019-09-03T20:16:17.258847Z"
    },
    "scrolled": true
   },
   "outputs": [
    {
     "data": {
      "text/plain": [
       "[9, 8, 7, 6, 5, 4, 3, 2, 1]"
      ]
     },
     "execution_count": 60,
     "metadata": {},
     "output_type": "execute_result"
    },
    {
     "data": {
      "text/plain": [
       "'onmlkjihgfedcba'"
      ]
     },
     "execution_count": 60,
     "metadata": {},
     "output_type": "execute_result"
    }
   ],
   "source": [
    "numbers[::-1]\n",
    "test[::-1]"
   ]
  },
  {
   "cell_type": "markdown",
   "metadata": {},
   "source": [
    "We asked Python to give us the full list (::), but to go over all of the elements from back to front by setting the step size to -1. This is pretty neat, but in most cases I’d still stick with ```list.reverse()``` and the built-in ```reversed()``` function to reverse a list."
   ]
  },
  {
   "cell_type": "code",
   "execution_count": 69,
   "metadata": {
    "ExecuteTime": {
     "end_time": "2019-09-03T20:18:38.024918Z",
     "start_time": "2019-09-03T20:18:38.016132Z"
    }
   },
   "outputs": [
    {
     "data": {
      "text/plain": [
       "[9, 8, 7, 6, 5, 4, 3, 2, 1]"
      ]
     },
     "execution_count": 69,
     "metadata": {},
     "output_type": "execute_result"
    },
    {
     "data": {
      "text/plain": [
       "'onmlkjihgfedcba'"
      ]
     },
     "execution_count": 69,
     "metadata": {},
     "output_type": "execute_result"
    }
   ],
   "source": [
    "list(reversed(numbers))\n",
    "\"\".join(list(reversed(test)))"
   ]
  },
  {
   "cell_type": "markdown",
   "metadata": {},
   "source": [
    "You can use the ```:-operator``` to clear all elements from a list without destroying the list object itself. \n",
    "\n",
    "<font color = 'blue'>This is extremely helpful when you need to clear out a list in your program that has other references pointing to it</font>. <font color = 'red'>In this case, you often can’t just empty the list by replacing it with a new list object, since that wouldn’t update the other references</font>. But here’s the sushi operator coming to your rescue:"
   ]
  },
  {
   "cell_type": "code",
   "execution_count": 70,
   "metadata": {
    "ExecuteTime": {
     "end_time": "2019-09-03T20:20:55.919080Z",
     "start_time": "2019-09-03T20:20:55.913225Z"
    }
   },
   "outputs": [
    {
     "data": {
      "text/plain": [
       "[]"
      ]
     },
     "execution_count": 70,
     "metadata": {},
     "output_type": "execute_result"
    }
   ],
   "source": [
    "lst = [1, 2, 3, 4, 5]\n",
    "del lst[:]\n",
    "lst"
   ]
  },
  {
   "cell_type": "markdown",
   "metadata": {},
   "source": [
    "As you can see, this removes all elements from lst but leaves the list object itself intact. <font color = 'blue'>In Python 3 you can also use ```lst.clear()``` for the same job, which might be the more readable pattern</font>, depending on the circumstances. However, keep in mind that clear() isn’t available in Python 2."
   ]
  },
  {
   "cell_type": "code",
   "execution_count": 71,
   "metadata": {
    "ExecuteTime": {
     "end_time": "2019-09-03T20:21:45.960656Z",
     "start_time": "2019-09-03T20:21:45.953821Z"
    }
   },
   "outputs": [
    {
     "data": {
      "text/plain": [
       "[]"
      ]
     },
     "execution_count": 71,
     "metadata": {},
     "output_type": "execute_result"
    }
   ],
   "source": [
    "lst = [1, 2, 3, 4, 5]\n",
    "lst.clear()\n",
    "lst"
   ]
  },
  {
   "cell_type": "markdown",
   "metadata": {},
   "source": [
    "**<font color = 'purple'>Besides clearing lists, you can also use slicing to replace all elements of a list without creating a new list object. This is a nice shorthand for clearing a list and then repopulating it manually </font>**:"
   ]
  },
  {
   "cell_type": "code",
   "execution_count": 72,
   "metadata": {
    "ExecuteTime": {
     "end_time": "2019-09-03T20:38:14.796557Z",
     "start_time": "2019-09-03T20:38:14.783864Z"
    }
   },
   "outputs": [
    {
     "data": {
      "text/plain": [
       "[7, 8, 9]"
      ]
     },
     "execution_count": 72,
     "metadata": {},
     "output_type": "execute_result"
    },
    {
     "data": {
      "text/plain": [
       "[7, 8, 9]"
      ]
     },
     "execution_count": 72,
     "metadata": {},
     "output_type": "execute_result"
    },
    {
     "data": {
      "text/plain": [
       "True"
      ]
     },
     "execution_count": 72,
     "metadata": {},
     "output_type": "execute_result"
    }
   ],
   "source": [
    "original_lst = lst\n",
    "lst[:] = [7, 8, 9]\n",
    "lst\n",
    "# [7, 8, 9]\n",
    "\n",
    "original_lst\n",
    "# [7, 8, 9]\n",
    "\n",
    "original_lst is lst\n",
    "# True"
   ]
  },
  {
   "cell_type": "markdown",
   "metadata": {},
   "source": [
    "<font color = 'green'>**The previous code example replaced all elements in lst but did not destroy and recreate the list itself. The old references to the original list object are therefore still valid.**</font>\n",
    "\n",
    "Yet **<font color = 'purple'>another use case for the sushi operator is creating (shallow) copies\n",
    "of existing lists </font>**:"
   ]
  },
  {
   "cell_type": "code",
   "execution_count": 73,
   "metadata": {
    "ExecuteTime": {
     "end_time": "2019-09-03T21:18:19.407181Z",
     "start_time": "2019-09-03T21:18:19.397417Z"
    }
   },
   "outputs": [
    {
     "data": {
      "text/plain": [
       "[7, 8, 9]"
      ]
     },
     "execution_count": 73,
     "metadata": {},
     "output_type": "execute_result"
    },
    {
     "data": {
      "text/plain": [
       "False"
      ]
     },
     "execution_count": 73,
     "metadata": {},
     "output_type": "execute_result"
    }
   ],
   "source": [
    "copied_lst = lst[:]\n",
    "copied_lst\n",
    "# [7, 8, 9]\n",
    "copied_lst is lst\n",
    "# False"
   ]
  },
  {
   "cell_type": "markdown",
   "metadata": {},
   "source": [
    "<font color = 'red'>Creating a shallow copy means that only the structure of the elements\n",
    "is copied, not the elements themselves. Both copies of the list share\n",
    "the same instances of the individual elements</font>.\n",
    "\n",
    "If you need to duplicate everything, including the elements, then you’ll\n",
    "need to create a deep copy of the list. Python’s built-in copy module\n",
    "will come in handy for this."
   ]
  },
  {
   "cell_type": "markdown",
   "metadata": {
    "heading_collapsed": true
   },
   "source": [
    "## Beautiful Iterators"
   ]
  },
  {
   "cell_type": "code",
   "execution_count": 7,
   "metadata": {
    "ExecuteTime": {
     "end_time": "2019-09-03T23:01:20.417902Z",
     "start_time": "2019-09-03T23:01:20.411067Z"
    },
    "collapsed": true,
    "hidden": true
   },
   "outputs": [
    {
     "name": "stdout",
     "output_type": "stream",
     "text": [
      "1\n",
      "2\n",
      "3\n"
     ]
    }
   ],
   "source": [
    "numbers = [1, 2, 3]\n",
    "for n in numbers:\n",
    "    print(n)"
   ]
  },
  {
   "cell_type": "markdown",
   "metadata": {
    "hidden": true
   },
   "source": [
    "But how do Python’s elegant loop constructs work behind the scenes? **<font color = 'purple'>How does the loop fetch individual elements from the object it is looping over? </font>**<font color = 'lightgrey'> And, how can you support the same programming style in your own Python objects?</font> \n",
    "\n",
    "<font color = 'blue'>You’ll find the answers to these questions in Python’s iterator protocol: Objects that support the ```__iter__``` and ```__next__``` dunder methods automatically work with for-in loops.</font>"
   ]
  },
  {
   "cell_type": "markdown",
   "metadata": {
    "hidden": true
   },
   "source": [
    "<font color = 'lightgrey'>In this chapter you’ll see how to write several Python classes that support the iterator protocol. They’ll serve as “non-magical” examples and test implementations you can build upon and deepen your understanding with. We’ll focus on the core mechanics of iterators in Python 3 first and leave out any unnecessary complications, so you can see clearly how iterators behave at the fundamental level.</font>"
   ]
  },
  {
   "cell_type": "markdown",
   "metadata": {
    "heading_collapsed": true,
    "hidden": true
   },
   "source": [
    "### Iterating Forever"
   ]
  },
  {
   "cell_type": "markdown",
   "metadata": {
    "hidden": true
   },
   "source": [
    "**<font color = 'purple'>Over the next few paragraphs we’re going to implement a class called\n",
    "Repeater that can be iterated over with a for-in loop, like so: </font>**"
   ]
  },
  {
   "cell_type": "code",
   "execution_count": null,
   "metadata": {
    "ExecuteTime": {
     "end_time": "2019-09-03T21:40:47.438969Z",
     "start_time": "2019-09-03T21:40:47.426278Z"
    },
    "hidden": true
   },
   "outputs": [],
   "source": [
    "repeater = Repeater('Hello')\n",
    "for item in repeater:\n",
    "    print(item)"
   ]
  },
  {
   "cell_type": "markdown",
   "metadata": {
    "hidden": true
   },
   "source": [
    "Like its name suggests, instances of this Repeater class will repeat-\n",
    "edly return a single value when iterated over. So the above example\n",
    "code would forever print the string 'Hello' to the console.\n",
    "To start with the implementation, we’ll first define and flesh out the\n",
    "Repeater class:"
   ]
  },
  {
   "cell_type": "code",
   "execution_count": 3,
   "metadata": {
    "ExecuteTime": {
     "end_time": "2019-09-03T23:25:21.613589Z",
     "start_time": "2019-09-03T23:25:21.607730Z"
    },
    "hidden": true
   },
   "outputs": [],
   "source": [
    "class Repeater:\n",
    "    def __init__(self, value):\n",
    "        self.value = value\n",
    "\n",
    "    def __iter__(self):\n",
    "        return RepeaterIterator(self)"
   ]
  },
  {
   "cell_type": "markdown",
   "metadata": {
    "hidden": true
   },
   "source": [
    "On first inspection, Repeater looks like a bog-standard Python class.\n",
    "But notice how it also includes the ```__iter__``` dunder method.\n",
    "\n",
    "**<font color = 'purple'>What’s the RepeaterIterator object we’re creating and returning from ```__iter__```? </font>** <font color = 'blue'>It’s a helper class we also need to define for our for-in iteration example to work:</font>"
   ]
  },
  {
   "cell_type": "code",
   "execution_count": 3,
   "metadata": {
    "ExecuteTime": {
     "end_time": "2019-09-03T22:04:36.670402Z",
     "start_time": "2019-09-03T22:04:36.664545Z"
    },
    "hidden": true
   },
   "outputs": [],
   "source": [
    "class RepeaterIterator:\n",
    "    def __init__(self, source):\n",
    "        self.source = source\n",
    "\n",
    "    def __next__(self):\n",
    "        return self.source.value\n",
    "    "
   ]
  },
  {
   "cell_type": "markdown",
   "metadata": {
    "hidden": true
   },
   "source": [
    "Again, RepeaterIterator looks like a straightforward Python class,\n",
    "but you might want to take note of the following two things:\n",
    "\n",
    "1. <font color = 'blue'>In the ```__init__``` method, we link each ```RepeaterIterator``` instance to the ```Repeater``` object that created it</font>. That way we can hold onto the “source” object that’s being iterated over.\n",
    "\n",
    "\n",
    "2. <font color = 'blue'>In ```RepeaterIterator.__next__```, we reach back into the\n",
    "“source” Repeater instance and return the value associated\n",
    "with it</font>."
   ]
  },
  {
   "cell_type": "markdown",
   "metadata": {
    "hidden": true
   },
   "source": [
    "In this code example, ```Repeater``` and ```RepeaterIterator``` are working together to support Python’s iterator protocol. The two dunder methods we defined, ```__iter__``` and ```__next__```, are the keys to making a Python object iterable."
   ]
  },
  {
   "cell_type": "markdown",
   "metadata": {
    "hidden": true
   },
   "source": [
    "Let’s confirm that this two-class setup really made Repeater objects compatible with for-in loop iteration. To do that we’ll first create an instance of Repeater that would return the string 'Hello' indefinitely:\n",
    "\n"
   ]
  },
  {
   "cell_type": "code",
   "execution_count": 6,
   "metadata": {
    "ExecuteTime": {
     "end_time": "2019-09-03T23:00:02.631140Z",
     "start_time": "2019-09-03T23:00:02.624306Z"
    },
    "hidden": true
   },
   "outputs": [
    {
     "name": "stdout",
     "output_type": "stream",
     "text": [
      "Hello\n",
      "Hello\n",
      "Hello\n",
      "Hello\n",
      "Hello\n",
      "Hello\n"
     ]
    }
   ],
   "source": [
    "repeater = Repeater('Hello')\n",
    "\n",
    "for n, item in enumerate(repeater):\n",
    "    print(item)\n",
    "    if n == 5: break"
   ]
  },
  {
   "cell_type": "markdown",
   "metadata": {
    "heading_collapsed": true,
    "hidden": true
   },
   "source": [
    "### How do for-in loops work in Python?"
   ]
  },
  {
   "cell_type": "raw",
   "metadata": {
    "hidden": true
   },
   "source": [
    "repeater = Repeater('Hello')\n",
    "for item in repeater:\n",
    "    print(item)"
   ]
  },
  {
   "cell_type": "markdown",
   "metadata": {
    "hidden": true
   },
   "source": [
    "To dispel some of that “magic,” we can expand this loop into a slightly\n",
    "longer code snippet that gives the same result:"
   ]
  },
  {
   "cell_type": "raw",
   "metadata": {
    "ExecuteTime": {
     "end_time": "2019-09-03T23:17:47.598481Z",
     "start_time": "2019-09-03T23:17:47.534048Z"
    },
    "hidden": true
   },
   "source": [
    "repeater = Repeater('Hello')\n",
    "iterator = repeater.__iter__()\n",
    "while True:\n",
    "    item = iterator.__next__()\n",
    "    print(item)"
   ]
  },
  {
   "cell_type": "markdown",
   "metadata": {
    "hidden": true
   },
   "source": [
    "As you can see, the for-in was just syntactic sugar for a simple while\n",
    "loop:\n",
    "\n",
    "* It <font color = 'blue'>first prepared the repeater object for iteration by calling its\n",
    "```__iter__``` method</font>. This returned the actual iterator object.\n",
    "\n",
    "\n",
    "* <font color = 'blue'>After that, the loop repeatedly called the iterator object’s\n",
    "```__next__``` method to retrieve values from it</font>.\n",
    "\n",
    "**<font color = 'purple'>If you’ve ever worked with database cursors, this mental model will seem familiar </font>**: \n",
    "* <font color = 'blue'>We first initialize the cursor and prepare it for reading, and then we can fetch data from it into local variables as needed, one element at a time</font>.\n",
    "\n",
    "\n",
    "* <font color = 'blue'>Because there’s never more than one element “in flight,” this approach is highly memory-efficient</font>. Our Repeater class provides an infinite sequence of elements and we can iterate over it just fine. \n",
    "\n",
    "<font color = 'blue'>Emulating the same thing with a Python list would be impossible—there’s no way we could create a list with an infinite number of elements in the first place</font>. This makes iterators a very powerful concept.\n",
    "\n",
    "> On more abstract terms, <font color = 'blue'>iterators provide a common interface that allows you to process every element of a container while being completely isolated from the container’s internal structure</font>.\n",
    "\n",
    "Whether you’re dealing with a list of elements, a dictionary, an infinite sequence like the one provided by our Repeater class, or another sequence type—all of that is just an implementation detail. Every single one of these objects can be traversed in the same way with the power of iterators. And as you’ve seen, there’s nothing special about for-in loops in Python. If you peek behind the curtain, it all comes down to calling the right dunder methods at the right time.\n",
    "\n",
    "**<font color = 'purple'>In fact, you can manually “emulate” how the loop uses the iterator protocol in a Python interpreter session: </font>**"
   ]
  },
  {
   "cell_type": "code",
   "execution_count": 4,
   "metadata": {
    "ExecuteTime": {
     "end_time": "2019-09-03T23:25:48.255368Z",
     "start_time": "2019-09-03T23:25:48.247558Z"
    },
    "hidden": true
   },
   "outputs": [],
   "source": [
    "class Repeater:\n",
    "    def __init__(self, value):\n",
    "        self.value = value\n",
    "\n",
    "    def __iter__(self):\n",
    "        return RepeaterIterator(self)\n",
    "\n",
    "class RepeaterIterator:\n",
    "    def __init__(self, source):\n",
    "        self.source = source\n",
    "\n",
    "    def __next__(self):\n",
    "        return self.source.value\n",
    "    "
   ]
  },
  {
   "cell_type": "code",
   "execution_count": 6,
   "metadata": {
    "ExecuteTime": {
     "end_time": "2019-09-03T23:25:59.313627Z",
     "start_time": "2019-09-03T23:25:59.305816Z"
    },
    "hidden": true
   },
   "outputs": [
    {
     "data": {
      "text/plain": [
       "'Hello'"
      ]
     },
     "execution_count": 6,
     "metadata": {},
     "output_type": "execute_result"
    }
   ],
   "source": [
    "repeater = Repeater('Hello')\n",
    "iterator = iter(repeater)\n",
    "next(iterator)\n",
    "# 'Hello'"
   ]
  },
  {
   "cell_type": "code",
   "execution_count": 7,
   "metadata": {
    "ExecuteTime": {
     "end_time": "2019-09-03T23:26:00.487138Z",
     "start_time": "2019-09-03T23:26:00.479327Z"
    },
    "hidden": true
   },
   "outputs": [
    {
     "data": {
      "text/plain": [
       "'Hello'"
      ]
     },
     "execution_count": 7,
     "metadata": {},
     "output_type": "execute_result"
    }
   ],
   "source": [
    "next(iterator)\n",
    "# 'Hello'"
   ]
  },
  {
   "cell_type": "code",
   "execution_count": 8,
   "metadata": {
    "ExecuteTime": {
     "end_time": "2019-09-03T23:26:01.805469Z",
     "start_time": "2019-09-03T23:26:01.799611Z"
    },
    "hidden": true
   },
   "outputs": [
    {
     "data": {
      "text/plain": [
       "'Hello'"
      ]
     },
     "execution_count": 8,
     "metadata": {},
     "output_type": "execute_result"
    }
   ],
   "source": [
    "next(iterator)\n",
    "# 'Hello'"
   ]
  },
  {
   "cell_type": "markdown",
   "metadata": {
    "hidden": true
   },
   "source": [
    "<font color = 'lightgrey'>By the way, I took the opportunity here to replace the calls to ```__iter__``` and ```__next__``` with calls to Python’s built-in functions, ```iter()``` and ```next()```. Internally, these built-ins invoke the same dunder methods, but they make this code a little prettier and easier to read by providing a clean “facade” to the iterator protocol.\n",
    "\n",
    "Python offers these facades for other functionality as well. For example, ```len(x)``` is a shortcut for calling x.__len__. Similarly, calling iter(x) invokes ```x.__iter__``` and calling ```next(x)``` invokes ```x.__next__```.</font>\n",
    "\n",
    "Generally, it’s a good idea to use the built-in facade functions rather than directly accessing the dunder methods implementing a protocol. It just makes the code a little easier to read."
   ]
  },
  {
   "cell_type": "markdown",
   "metadata": {
    "heading_collapsed": true,
    "hidden": true
   },
   "source": [
    "### A Simpler Iterator Class"
   ]
  },
  {
   "cell_type": "markdown",
   "metadata": {
    "hidden": true
   },
   "source": [
    "Up until now, our iterator example consisted of two separate classes, Repeater and RepeaterIterator. They corresponded directly to the two phases used by Python’s iterator protocol: First, setting up and retrieving the iterator object with an iter() call, and then repeatedly fetching values from it via next(). Many times both of these responsibilities can be shouldered by a single class. Doing this allows you to reduce the amount of code necessary to write a class-based iterator. \n",
    "\n",
    "**<font color = 'purple'>I chose not to do this with the first example in this chapter because it mixes up the cleanliness of the mental model behind the iterator protocol </font>**. But now that you’ve seen how to write a class-based iterator the longer and more complicated way, let’s take a minute to simplify what we’ve got so far."
   ]
  },
  {
   "cell_type": "markdown",
   "metadata": {
    "hidden": true
   },
   "source": [
    "**<font color = 'purple'>Remember why we needed the RepeaterIterator class again? </font>** We needed it to host the ```__next__``` method for fetching new values from the iterator. But it doesn’t really matter where ```__next__``` is defined. <font color = 'blue'>In the iterator protocol, all that matters is that ```__iter__``` returns any object with a ```__next__``` method on it.</font>\n",
    "\n"
   ]
  },
  {
   "cell_type": "markdown",
   "metadata": {
    "hidden": true
   },
   "source": [
    "**<font color = 'purple'>So here’s an idea: RepeaterIterator returns the same value over and over, and it doesn’t have to keep track of any internal state. What if we added the ```__next__``` method directly to the Repeater class instead? </font>** \n",
    "\n",
    "<font color = 'blue'>That way we could get rid of ```RepeaterIterator``` altogether and implement an iterable object with a single Python class</font>. Let’s try it out! Our new and simplified iterator example looks as follows:"
   ]
  },
  {
   "cell_type": "code",
   "execution_count": 10,
   "metadata": {
    "ExecuteTime": {
     "end_time": "2019-09-03T23:37:58.330897Z",
     "start_time": "2019-09-03T23:37:58.324063Z"
    },
    "hidden": true
   },
   "outputs": [],
   "source": [
    "class Repeater:\n",
    "    def __init__(self, value):\n",
    "        self.value = value\n",
    "\n",
    "    def __iter__(self):\n",
    "        return self\n",
    "\n",
    "    def __next__(self):\n",
    "        return self.value"
   ]
  },
  {
   "cell_type": "markdown",
   "metadata": {
    "hidden": true
   },
   "source": [
    "We just went from two separate classes and 10 lines of code to just one class and 7 lines of code. Our simplified implementation still supports the iterator protocol just fine:\n",
    "\n",
    "```\n",
    ">>> repeater = Repeater('Hello')\n",
    ">>> for item in repeater:\n",
    "    ... print(item)\n",
    "    ```\n",
    "    \n",
    "Streamlining a class-based iterator like that often makes sense. In\n",
    "fact, most Python iterator tutorials start out that way. But I always\n",
    "felt that explaining iterators with a single class from the get-go hides\n",
    "the underlying principles of the iterator protocol—and thus makes it\n",
    "more difficult to understand."
   ]
  },
  {
   "cell_type": "markdown",
   "metadata": {
    "heading_collapsed": true,
    "hidden": true
   },
   "source": [
    "### Who Wants to Iterate Forever"
   ]
  },
  {
   "cell_type": "markdown",
   "metadata": {
    "hidden": true
   },
   "source": [
    "**<font color = 'purple'>It’s time to find out how to write an iterator that eventually stops generating new values instead of iterating forever because that’s what Python objects typically do when we use them in a for-in loop. </font>**\n",
    "\n",
    "We’ll now write another iterator class that we’ll call ```BoundedRepeater```. It’ll be similar to our previous ```Repeater``` example, but this time we’ll want it to stop after a predefined number of repetitions. Let’s think about this for a bit. How do we do this? How does an iterator signal that it’s exhausted and out of elements to iterate over? Maybe you’re thinking, “Hmm, we could just return None from the ```__next__``` method.”\n",
    "\n",
    "Python iterators normally can’t be “reset”—once they’re exhausted they’re supposed to raise StopIteration every time ```next()``` is called on them. To iterate anew you’ll need to request a fresh iterator object with the ```iter()``` function.\n",
    "\n",
    "Now we know everything we need to write our BoundedRepeater class that stops iterating after a set number of repetitions:"
   ]
  },
  {
   "cell_type": "code",
   "execution_count": 12,
   "metadata": {
    "ExecuteTime": {
     "end_time": "2019-09-03T23:45:28.649677Z",
     "start_time": "2019-09-03T23:45:28.641867Z"
    },
    "hidden": true
   },
   "outputs": [],
   "source": [
    "class BoundedRepeater:\n",
    "    def __init__(self, value, max_repeats):\n",
    "        self.value = value\n",
    "        self.max_repeats = max_repeats\n",
    "        self.count = 0\n",
    "\n",
    "    def __iter__(self):\n",
    "        return self\n",
    "\n",
    "    def __next__(self):\n",
    "        if self.count >= self.max_repeats:\n",
    "            raise StopIteration\n",
    "        self.count += 1\n",
    "        return self.value"
   ]
  },
  {
   "cell_type": "code",
   "execution_count": 14,
   "metadata": {
    "ExecuteTime": {
     "end_time": "2019-09-03T23:46:44.108391Z",
     "start_time": "2019-09-03T23:46:44.102534Z"
    },
    "hidden": true
   },
   "outputs": [
    {
     "name": "stdout",
     "output_type": "stream",
     "text": [
      "Hello\n",
      "Hello\n",
      "Hello\n"
     ]
    }
   ],
   "source": [
    "repeater = BoundedRepeater('Hello', 3)\n",
    "for item in repeater:\n",
    "    print(item)"
   ]
  },
  {
   "cell_type": "markdown",
   "metadata": {
    "hidden": true
   },
   "source": [
    "If we rewrite this last for-in loop example to take away some of the syntactic sugar, we end up with the following expanded code snippet:\n",
    "\n"
   ]
  },
  {
   "cell_type": "code",
   "execution_count": 16,
   "metadata": {
    "ExecuteTime": {
     "end_time": "2019-09-03T23:48:02.625700Z",
     "start_time": "2019-09-03T23:48:02.617889Z"
    },
    "hidden": true
   },
   "outputs": [
    {
     "name": "stdout",
     "output_type": "stream",
     "text": [
      "Hello\n",
      "Hello\n",
      "Hello\n"
     ]
    }
   ],
   "source": [
    "repeater = BoundedRepeater('Hello', 3)\n",
    "iterator = iter(repeater)\n",
    "while True:\n",
    "    try:\n",
    "        item = next(iterator)\n",
    "    except StopIteration:\n",
    "        break\n",
    "    print(item)"
   ]
  },
  {
   "cell_type": "markdown",
   "metadata": {
    "hidden": true
   },
   "source": [
    "Every time next() is called in this loop, we check for a StopIteration exception and break the while loop if necessary. \n",
    "\n",
    "* <font color = 'lightgrey'>Being able to write a three-line for-in loop instead of an eight-line while loop is quite a nice improvement. It makes the code easier to read and more maintainable. And this is another reason why iterators in Python are such a powerful tool</font>."
   ]
  },
  {
   "cell_type": "markdown",
   "metadata": {
    "heading_collapsed": true,
    "hidden": true
   },
   "source": [
    "### Key Takeaways"
   ]
  },
  {
   "cell_type": "markdown",
   "metadata": {
    "hidden": true
   },
   "source": [
    "* Iterators provide a sequence interface to Python objects that’s\n",
    "memory efficient and considered Pythonic. Behold the beauty\n",
    "of the for-in loop!\n",
    "* To support iteration an object needs to implement the itera-\n",
    "tor protocol by providing the __iter__ and __next__ dunder\n",
    "methods.\n",
    "* Class-based iterators are only one way to write iterable objects\n",
    "in Python. Also consider generators and generator expressions."
   ]
  },
  {
   "cell_type": "markdown",
   "metadata": {
    "heading_collapsed": true
   },
   "source": [
    "## Generators Are Simplified Iterators"
   ]
  },
  {
   "cell_type": "markdown",
   "metadata": {
    "hidden": true
   },
   "source": [
    "<div class=\"alert alert-block alert-info\">\n",
    "<font color = 'green'><b>Key Takeaways</b></font>\n",
    "\n",
    "* Generator functions are syntactic sugar for writing objects that support the iterator protocol. Generators abstract away much of the boilerplate code needed when writing class-based iterators.\n",
    "\n",
    "* The yield statement allows you to temporarily suspend execution of a generator function and to pass back values from it.\n",
    "\n",
    "* Generators start raising StopIteration exceptions after control flow leaves the generator function by any means other than a yield statement."
   ]
  },
  {
   "cell_type": "markdown",
   "metadata": {
    "hidden": true
   },
   "source": [
    "In this chapter you’ll see how to write iterators faster and with less code using generators and the yield keyword. "
   ]
  },
  {
   "cell_type": "markdown",
   "metadata": {
    "heading_collapsed": true,
    "hidden": true
   },
   "source": [
    "### Infinite Generators"
   ]
  },
  {
   "cell_type": "markdown",
   "metadata": {
    "hidden": true
   },
   "source": [
    "**<font color = 'purple'>Let’s start by looking again at the Repeater example that I previously used to introduce the idea of iterators </font>**. It implemented a class-based iterator cycling through an infinite sequence of values. This is what the class looked like in its second (simplified) version:"
   ]
  },
  {
   "cell_type": "code",
   "execution_count": 18,
   "metadata": {
    "ExecuteTime": {
     "end_time": "2019-09-03T23:54:13.893764Z",
     "start_time": "2019-09-03T23:54:13.885953Z"
    },
    "hidden": true
   },
   "outputs": [],
   "source": [
    "class Repeater:\n",
    "    def __init__(self, value):\n",
    "        self.value = value\n",
    "\n",
    "    def __iter__(self):\n",
    "        return self\n",
    "\n",
    "    def __next__(self):\n",
    "        return self.value"
   ]
  },
  {
   "cell_type": "markdown",
   "metadata": {
    "hidden": true
   },
   "source": [
    " **<font color = 'purple'>If I rewrite this iterator class as a generator, it looks like this: </font>**"
   ]
  },
  {
   "cell_type": "code",
   "execution_count": 19,
   "metadata": {
    "ExecuteTime": {
     "end_time": "2019-09-03T23:54:33.147983Z",
     "start_time": "2019-09-03T23:54:33.143101Z"
    },
    "hidden": true
   },
   "outputs": [],
   "source": [
    "def repeater(value):\n",
    "    while True:\n",
    "        yield value"
   ]
  },
  {
   "cell_type": "markdown",
   "metadata": {
    "hidden": true
   },
   "source": [
    "**<font color = 'purple'>Now, how do these generators work? They look like normal functions, but their behavior is quite different. </font>**\n",
    "\n",
    "<font color = 'blue'>For starters, calling a generator function doesn’t even run the function. It merely creates and returns a generator object</font>:"
   ]
  },
  {
   "cell_type": "code",
   "execution_count": 20,
   "metadata": {
    "ExecuteTime": {
     "end_time": "2019-09-04T00:21:15.256457Z",
     "start_time": "2019-09-04T00:21:15.249622Z"
    },
    "hidden": true
   },
   "outputs": [
    {
     "data": {
      "text/plain": [
       "<generator object repeater at 0x000001D0E30AA6D8>"
      ]
     },
     "execution_count": 20,
     "metadata": {},
     "output_type": "execute_result"
    }
   ],
   "source": [
    "repeater('Hey')"
   ]
  },
  {
   "cell_type": "code",
   "execution_count": 21,
   "metadata": {
    "ExecuteTime": {
     "end_time": "2019-09-04T00:23:10.403133Z",
     "start_time": "2019-09-04T00:23:10.396300Z"
    },
    "hidden": true
   },
   "outputs": [
    {
     "data": {
      "text/plain": [
       "'Hey'"
      ]
     },
     "execution_count": 21,
     "metadata": {},
     "output_type": "execute_result"
    }
   ],
   "source": [
    "# The code in the generator function only executes when next() is\n",
    "# called on the generator object:\n",
    "\n",
    "generator_obj = repeater('Hey')\n",
    "next(generator_obj)"
   ]
  },
  {
   "cell_type": "markdown",
   "metadata": {
    "hidden": true
   },
   "source": [
    "If you read the code of the repeater function again, it looks like the yield keyword in there somehow stops this generator function in mid-execution and then resumes it at a later point in time:\n",
    "\n",
    "And that’s quite a fitting mental model for what happens here. \n",
    "* You see, when a return statement is invoked inside a function, it permanently passes control back to the caller of the function. \n",
    "\n",
    "* <font color = 'blue'>When a yield is invoked, it also passes control back to the caller of the function—but it only does so temporarily</font>.\n",
    "\n",
    "<font color = 'blue'>Whereas a ```return``` statement disposes of a function’s local state, a ```yield``` statement suspends the function and retains its local state</font>. \n",
    "\n",
    "* In practical terms, this means local variables and the execution state of the generator function are only stashed away temporarily and not thrown out completely. \n",
    "\n",
    "* Execution can be resumed at any time by calling next() on the generator:"
   ]
  },
  {
   "cell_type": "code",
   "execution_count": 23,
   "metadata": {
    "ExecuteTime": {
     "end_time": "2019-09-04T00:26:19.367557Z",
     "start_time": "2019-09-04T00:26:19.360721Z"
    },
    "hidden": true
   },
   "outputs": [
    {
     "data": {
      "text/plain": [
       "'Hi'"
      ]
     },
     "execution_count": 23,
     "metadata": {},
     "output_type": "execute_result"
    }
   ],
   "source": [
    "iterator = repeater('Hi')\n",
    "next(iterator)"
   ]
  },
  {
   "cell_type": "code",
   "execution_count": 24,
   "metadata": {
    "ExecuteTime": {
     "end_time": "2019-09-04T00:26:20.216304Z",
     "start_time": "2019-09-04T00:26:20.209471Z"
    },
    "hidden": true
   },
   "outputs": [
    {
     "data": {
      "text/plain": [
       "'Hi'"
      ]
     },
     "execution_count": 24,
     "metadata": {},
     "output_type": "execute_result"
    }
   ],
   "source": [
    "next(iterator)"
   ]
  },
  {
   "cell_type": "markdown",
   "metadata": {
    "hidden": true
   },
   "source": [
    "This makes generators fully compatible with the iterator protocol. For this reason, <font color = 'blue'>I like to think of them primarily as syntactic sugar for implementing iterators</font>. \n",
    "\n",
    "<font color = 'blue'>You’ll find that for most types of iterators, writing a generator function will be easier and more readable than defining a long-winded classbased iterator</font>."
   ]
  },
  {
   "cell_type": "markdown",
   "metadata": {
    "heading_collapsed": true,
    "hidden": true
   },
   "source": [
    "### Generators That Stop Generating"
   ]
  },
  {
   "cell_type": "markdown",
   "metadata": {
    "hidden": true
   },
   "source": [
    "Remember, in our class-based iterator we were able to signal the end of iteration by manually raising a StopIteration exception. Because generators are fully compatible with class-based iterators, that’s still what happens behind the scenes. \n",
    "\n",
    "<font color = 'lightgrey'>Thankfully, as programmers we get to work with a nicer interface this time around.</font> Generators stop generating values as soon as control flow returns from the generator function by any means other than a yield statement. This means you no longer have to worry about raising StopIteration at all!"
   ]
  },
  {
   "cell_type": "code",
   "execution_count": 27,
   "metadata": {
    "ExecuteTime": {
     "end_time": "2019-09-04T00:30:33.463038Z",
     "start_time": "2019-09-04T00:30:33.458156Z"
    },
    "hidden": true
   },
   "outputs": [],
   "source": [
    "def repeat_three_times(value):\n",
    "    yield value\n",
    "    yield value\n",
    "    yield value"
   ]
  },
  {
   "cell_type": "markdown",
   "metadata": {
    "hidden": true
   },
   "source": [
    "**<font color = 'purple'>Notice how this generator function doesn’t include any kind of loop. </font>** In fact it’s dead simple and only consists of three yield statements. **<font color = 'purple'>If a yield temporarily suspends execution of the function and passes back a value to the caller, what will happen when we reach the end of this generator? </font>** Let’s find out:"
   ]
  },
  {
   "cell_type": "code",
   "execution_count": 28,
   "metadata": {
    "ExecuteTime": {
     "end_time": "2019-09-04T00:30:53.990385Z",
     "start_time": "2019-09-04T00:30:53.985505Z"
    },
    "hidden": true
   },
   "outputs": [
    {
     "name": "stdout",
     "output_type": "stream",
     "text": [
      "Hey there\n",
      "Hey there\n",
      "Hey there\n"
     ]
    }
   ],
   "source": [
    "for x in repeat_three_times('Hey there'):\n",
    "    print(x)"
   ]
  },
  {
   "cell_type": "code",
   "execution_count": 34,
   "metadata": {
    "ExecuteTime": {
     "end_time": "2019-09-04T00:32:11.449941Z",
     "start_time": "2019-09-04T00:32:11.443108Z"
    },
    "hidden": true
   },
   "outputs": [
    {
     "data": {
      "text/plain": [
       "'Hey there'"
      ]
     },
     "execution_count": 34,
     "metadata": {},
     "output_type": "execute_result"
    }
   ],
   "source": [
    "iterator = repeat_three_times('Hey there')\n",
    "next(iterator)\n",
    "# 'Hey there'"
   ]
  },
  {
   "cell_type": "code",
   "execution_count": 35,
   "metadata": {
    "ExecuteTime": {
     "end_time": "2019-09-04T00:32:12.060123Z",
     "start_time": "2019-09-04T00:32:12.052312Z"
    },
    "hidden": true
   },
   "outputs": [
    {
     "data": {
      "text/plain": [
       "'Hey there'"
      ]
     },
     "execution_count": 35,
     "metadata": {},
     "output_type": "execute_result"
    }
   ],
   "source": [
    "next(iterator)\n",
    "# 'Hey there'"
   ]
  },
  {
   "cell_type": "code",
   "execution_count": 36,
   "metadata": {
    "ExecuteTime": {
     "end_time": "2019-09-04T00:32:12.810891Z",
     "start_time": "2019-09-04T00:32:12.804056Z"
    },
    "hidden": true
   },
   "outputs": [
    {
     "data": {
      "text/plain": [
       "'Hey there'"
      ]
     },
     "execution_count": 36,
     "metadata": {},
     "output_type": "execute_result"
    }
   ],
   "source": [
    "next(iterator)\n",
    "# 'Hey there'"
   ]
  },
  {
   "cell_type": "code",
   "execution_count": 37,
   "metadata": {
    "ExecuteTime": {
     "end_time": "2019-09-04T00:32:13.557754Z",
     "start_time": "2019-09-04T00:32:13.544085Z"
    },
    "hidden": true
   },
   "outputs": [
    {
     "ename": "StopIteration",
     "evalue": "",
     "output_type": "error",
     "traceback": [
      "\u001b[1;31m---------------------------------------------------------------------------\u001b[0m",
      "\u001b[1;31mStopIteration\u001b[0m                             Traceback (most recent call last)",
      "\u001b[1;32m<ipython-input-37-ae6542247f66>\u001b[0m in \u001b[0;36m<module>\u001b[1;34m\u001b[0m\n\u001b[1;32m----> 1\u001b[1;33m \u001b[0mnext\u001b[0m\u001b[1;33m(\u001b[0m\u001b[0miterator\u001b[0m\u001b[1;33m)\u001b[0m\u001b[1;33m\u001b[0m\u001b[1;33m\u001b[0m\u001b[0m\n\u001b[0m\u001b[0;32m      2\u001b[0m \u001b[1;31m# StopIteration\u001b[0m\u001b[1;33m\u001b[0m\u001b[1;33m\u001b[0m\u001b[1;33m\u001b[0m\u001b[0m\n",
      "\u001b[1;31mStopIteration\u001b[0m: "
     ]
    }
   ],
   "source": [
    "next(iterator)\n",
    "# StopIteration"
   ]
  },
  {
   "cell_type": "code",
   "execution_count": 39,
   "metadata": {
    "ExecuteTime": {
     "end_time": "2019-09-04T00:32:35.546678Z",
     "start_time": "2019-09-04T00:32:35.533988Z"
    },
    "hidden": true
   },
   "outputs": [
    {
     "ename": "StopIteration",
     "evalue": "",
     "output_type": "error",
     "traceback": [
      "\u001b[1;31m---------------------------------------------------------------------------\u001b[0m",
      "\u001b[1;31mStopIteration\u001b[0m                             Traceback (most recent call last)",
      "\u001b[1;32m<ipython-input-39-ae6542247f66>\u001b[0m in \u001b[0;36m<module>\u001b[1;34m\u001b[0m\n\u001b[1;32m----> 1\u001b[1;33m \u001b[0mnext\u001b[0m\u001b[1;33m(\u001b[0m\u001b[0miterator\u001b[0m\u001b[1;33m)\u001b[0m\u001b[1;33m\u001b[0m\u001b[1;33m\u001b[0m\u001b[0m\n\u001b[0m\u001b[0;32m      2\u001b[0m \u001b[1;31m# StopIteration\u001b[0m\u001b[1;33m\u001b[0m\u001b[1;33m\u001b[0m\u001b[1;33m\u001b[0m\u001b[0m\n",
      "\u001b[1;31mStopIteration\u001b[0m: "
     ]
    }
   ],
   "source": [
    "next(iterator)\n",
    "# StopIteration"
   ]
  },
  {
   "cell_type": "markdown",
   "metadata": {
    "hidden": true
   },
   "source": [
    "This iterator behaved just like we expected. As soon as we reach the end of the generator function, it keeps raising StopIteration to signal that it has no more values to provide.\n",
    "\n",
    "Let’s come back to another example from the iterators chapter. The ```BoundedIterator``` class implemented an iterator that would only repeat a value a set number of times:"
   ]
  },
  {
   "cell_type": "code",
   "execution_count": 40,
   "metadata": {
    "ExecuteTime": {
     "end_time": "2019-09-04T00:33:36.341139Z",
     "start_time": "2019-09-04T00:33:36.334303Z"
    },
    "hidden": true
   },
   "outputs": [],
   "source": [
    "class BoundedRepeater:\n",
    "    def __init__(self, value, max_repeats):\n",
    "        self.value = value\n",
    "        self.max_repeats = max_repeats\n",
    "        self.count = 0\n",
    "\n",
    "    def __iter__(self):\n",
    "        return self\n",
    "\n",
    "    def __next__(self):\n",
    "        if self.count >= self.max_repeats:\n",
    "            raise StopIteration\n",
    "        self.count += 1\n",
    "        return self.value"
   ]
  },
  {
   "cell_type": "code",
   "execution_count": 41,
   "metadata": {
    "ExecuteTime": {
     "end_time": "2019-09-04T00:34:43.072687Z",
     "start_time": "2019-09-04T00:34:43.066830Z"
    },
    "hidden": true
   },
   "outputs": [],
   "source": [
    "# Why don’t we try to re-implement this BoundedRepeater class as a\n",
    "# generator function. Here’s my first take on it:\n",
    "def bounded_repeater(value, max_repeats):\n",
    "    count = 0\n",
    "    while True:\n",
    "        if count >= max_repeats:\n",
    "            return\n",
    "        count += 1\n",
    "        yield value"
   ]
  },
  {
   "cell_type": "markdown",
   "metadata": {
    "hidden": true
   },
   "source": [
    "I intentionally made the while loop in this function a little unwieldy. I wanted to demonstrate how invoking a return statement from a generator causes iteration to stop with a StopIteration exception. We’ll soon clean up and simplify this generator function some more, but first let’s try out what we’ve got so far:"
   ]
  },
  {
   "cell_type": "code",
   "execution_count": 43,
   "metadata": {
    "ExecuteTime": {
     "end_time": "2019-09-04T00:35:32.369427Z",
     "start_time": "2019-09-04T00:35:32.363571Z"
    },
    "hidden": true
   },
   "outputs": [
    {
     "name": "stdout",
     "output_type": "stream",
     "text": [
      "Hi\n",
      "Hi\n",
      "Hi\n",
      "Hi\n"
     ]
    }
   ],
   "source": [
    "for x in bounded_repeater('Hi', 4):\n",
    "    print(x)"
   ]
  },
  {
   "cell_type": "markdown",
   "metadata": {
    "hidden": true
   },
   "source": [
    "Great! Now we have a generator that stops producing values after a configurable number of repetitions. It uses the yield statement to pass back values until it finally hits the return statement and iteration stops. Like I promised you, we can further simplify this generator. We’ll take advantage of the fact that Python adds an implicit return None statement to the end of every function. This is what our final implementation looks like:"
   ]
  },
  {
   "cell_type": "code",
   "execution_count": 46,
   "metadata": {
    "ExecuteTime": {
     "end_time": "2019-09-04T00:37:11.057386Z",
     "start_time": "2019-09-04T00:37:11.052504Z"
    },
    "hidden": true
   },
   "outputs": [],
   "source": [
    "# cleaner simpler representation of the above\n",
    "def bounded_repeater(value, max_repeats):\n",
    "    for i in range(max_repeats):\n",
    "        yield value"
   ]
  },
  {
   "cell_type": "markdown",
   "metadata": {
    "heading_collapsed": true
   },
   "source": [
    "## Generator Expressions"
   ]
  },
  {
   "cell_type": "markdown",
   "metadata": {
    "hidden": true
   },
   "source": [
    "<font color = 'green'>**Key Takeaways**</font>\n",
    "\n",
    "* Generator expressions are similar to list comprehensions.\n",
    "However, they don’t construct list objects. Instead, generator\n",
    "expressions generate values “just in time” like a class-based\n",
    "iterator or generator function would.\n",
    "* Once a generator expression has been consumed, it can’t be\n",
    "restarted or reused.\n",
    "* Generator expressions are best for implementing simple “ad\n",
    "hoc” iterators. For complex iterators, it’s better to write a gen-\n",
    "erator function or a class-based iterator."
   ]
  },
  {
   "cell_type": "markdown",
   "metadata": {
    "hidden": true
   },
   "source": [
    "<font color = 'green'>**Generator functions give you a shortcut for supporting the iterator protocol in your own code, and they avoid much of the verbosity of class-based iterators**</font>. With a little bit of specialized syntax, or syntactic sugar, they save you time and make your life as a developer easier.\n",
    "\n",
    "* <font color = 'grey'>This is a recurring theme in Python and in other programming languages. As more developers use a design pattern in their programs, there’s a growing incentive for the language creators to provide abstractions and implementation shortcuts for it</font>.\n",
    "\n",
    "\n",
    "> <font color = 'green'>Generator expressions give you an even more effective shortcut for writing iterators. With a simple and concise syntax that looks like a list comprehension, you’ll be able to define iterators in a single line of code</font>."
   ]
  },
  {
   "cell_type": "code",
   "execution_count": 49,
   "metadata": {
    "ExecuteTime": {
     "end_time": "2019-09-04T00:46:42.440141Z",
     "start_time": "2019-09-04T00:46:42.433308Z"
    },
    "hidden": true
   },
   "outputs": [],
   "source": [
    "iterator = ('Hello' for i in range(3))\n",
    "\n",
    "# When iterated over, this generator expression yields the same \n",
    "# sequence of values as the bounded_repeater generator function \n",
    "# we wrote in the previous chapter:\n",
    "\n",
    "def bounded_repeater(value, max_repeats):\n",
    "    for i in range(max_repeats):\n",
    "        yield value\n",
    "\n",
    "iterator = bounded_repeater('Hello', 3)"
   ]
  },
  {
   "cell_type": "code",
   "execution_count": 51,
   "metadata": {
    "ExecuteTime": {
     "end_time": "2019-09-04T00:48:41.644317Z",
     "start_time": "2019-09-04T00:48:41.638462Z"
    },
    "hidden": true
   },
   "outputs": [
    {
     "name": "stdout",
     "output_type": "stream",
     "text": [
      "Hello\n",
      "Hello\n",
      "Hello\n"
     ]
    }
   ],
   "source": [
    "iterator = ('Hello' for i in range(3))\n",
    "for x in iterator:\n",
    "    print(x)"
   ]
  },
  {
   "cell_type": "markdown",
   "metadata": {
    "hidden": true
   },
   "source": [
    "That looks pretty good to me! We seem to get the same results from our one-line generator expression that we got from the bounded_repeater generator function. <font color = 'red'>There’s one small caveat though: Once a <span style='background-color: lightgreen'>generator expression</span> has been consumed, it can’t be restarted or reused. So in some cases there is an advantage to using generator functions or class-based iterators</font>."
   ]
  },
  {
   "cell_type": "markdown",
   "metadata": {
    "heading_collapsed": true,
    "hidden": true
   },
   "source": [
    "### Generator Expressions vs List Comprehensions"
   ]
  },
  {
   "cell_type": "code",
   "execution_count": 52,
   "metadata": {
    "ExecuteTime": {
     "end_time": "2019-09-04T00:49:58.824677Z",
     "start_time": "2019-09-04T00:49:58.818823Z"
    },
    "hidden": true
   },
   "outputs": [],
   "source": [
    "listcomp = ['Hello' for i in range(3)]\n",
    "genexpr = ('Hello' for i in range(3))"
   ]
  },
  {
   "cell_type": "markdown",
   "metadata": {
    "hidden": true
   },
   "source": [
    "<font color = 'red'>**Unlike list comprehensions, however, generator expressions don’t construct list objects. Instead, they generate values “just in time” like a class-based iterator or generator function would**</font>. \n",
    "\n",
    "<font color = 'blue'>All you get by assigning a generator expression to a variable is an iterable “generator object”:</font>"
   ]
  },
  {
   "cell_type": "code",
   "execution_count": 54,
   "metadata": {
    "ExecuteTime": {
     "end_time": "2019-09-04T00:51:14.605393Z",
     "start_time": "2019-09-04T00:51:14.597583Z"
    },
    "hidden": true
   },
   "outputs": [
    {
     "data": {
      "text/plain": [
       "['Hello', 'Hello', 'Hello']"
      ]
     },
     "execution_count": 54,
     "metadata": {},
     "output_type": "execute_result"
    }
   ],
   "source": [
    "listcomp\n",
    "# ['Hello', 'Hello', 'Hello']"
   ]
  },
  {
   "cell_type": "code",
   "execution_count": 56,
   "metadata": {
    "ExecuteTime": {
     "end_time": "2019-09-04T00:51:30.133819Z",
     "start_time": "2019-09-04T00:51:30.127961Z"
    },
    "hidden": true
   },
   "outputs": [
    {
     "data": {
      "text/plain": [
       "<generator object <genexpr> at 0x000001D0E3116228>"
      ]
     },
     "execution_count": 56,
     "metadata": {},
     "output_type": "execute_result"
    }
   ],
   "source": [
    "genexpr\n",
    "# <generator object <genexpr> at 0x1036c3200>"
   ]
  },
  {
   "cell_type": "markdown",
   "metadata": {
    "hidden": true
   },
   "source": [
    "To access the values produced by the generator expression, you need to call ```next()``` on it, just like you would with any other iterator:"
   ]
  },
  {
   "cell_type": "code",
   "execution_count": 57,
   "metadata": {
    "ExecuteTime": {
     "end_time": "2019-09-04T00:52:07.227384Z",
     "start_time": "2019-09-04T00:52:07.220549Z"
    },
    "hidden": true
   },
   "outputs": [
    {
     "data": {
      "text/plain": [
       "'Hello'"
      ]
     },
     "execution_count": 57,
     "metadata": {},
     "output_type": "execute_result"
    }
   ],
   "source": [
    "next(genexpr)"
   ]
  },
  {
   "cell_type": "code",
   "execution_count": 58,
   "metadata": {
    "ExecuteTime": {
     "end_time": "2019-09-04T00:52:09.960023Z",
     "start_time": "2019-09-04T00:52:09.947332Z"
    },
    "hidden": true
   },
   "outputs": [
    {
     "data": {
      "text/plain": [
       "'Hello'"
      ]
     },
     "execution_count": 58,
     "metadata": {},
     "output_type": "execute_result"
    }
   ],
   "source": [
    "next(genexpr)"
   ]
  },
  {
   "cell_type": "code",
   "execution_count": 59,
   "metadata": {
    "ExecuteTime": {
     "end_time": "2019-09-04T00:52:09.960023Z",
     "start_time": "2019-09-04T00:52:09.947332Z"
    },
    "hidden": true
   },
   "outputs": [
    {
     "data": {
      "text/plain": [
       "'Hello'"
      ]
     },
     "execution_count": 59,
     "metadata": {},
     "output_type": "execute_result"
    }
   ],
   "source": [
    "next(genexpr)"
   ]
  },
  {
   "cell_type": "code",
   "execution_count": 60,
   "metadata": {
    "ExecuteTime": {
     "end_time": "2019-09-04T00:52:09.960023Z",
     "start_time": "2019-09-04T00:52:09.947332Z"
    },
    "hidden": true
   },
   "outputs": [
    {
     "ename": "StopIteration",
     "evalue": "",
     "output_type": "error",
     "traceback": [
      "\u001b[1;31m---------------------------------------------------------------------------\u001b[0m",
      "\u001b[1;31mStopIteration\u001b[0m                             Traceback (most recent call last)",
      "\u001b[1;32m<ipython-input-60-b44198bbd1d7>\u001b[0m in \u001b[0;36m<module>\u001b[1;34m\u001b[0m\n\u001b[1;32m----> 1\u001b[1;33m \u001b[0mnext\u001b[0m\u001b[1;33m(\u001b[0m\u001b[0mgenexpr\u001b[0m\u001b[1;33m)\u001b[0m\u001b[1;33m\u001b[0m\u001b[1;33m\u001b[0m\u001b[0m\n\u001b[0m",
      "\u001b[1;31mStopIteration\u001b[0m: "
     ]
    }
   ],
   "source": [
    "next(genexpr)"
   ]
  },
  {
   "cell_type": "markdown",
   "metadata": {
    "hidden": true
   },
   "source": [
    "**<font color = 'purple'>Alternatively, you can also call the list() function on a generator expression to construct a list object holding all generated values: </font>**"
   ]
  },
  {
   "cell_type": "code",
   "execution_count": 61,
   "metadata": {
    "ExecuteTime": {
     "end_time": "2019-09-04T00:52:42.101647Z",
     "start_time": "2019-09-04T00:52:42.094812Z"
    },
    "hidden": true
   },
   "outputs": [
    {
     "data": {
      "text/plain": [
       "['Hello', 'Hello', 'Hello']"
      ]
     },
     "execution_count": 61,
     "metadata": {},
     "output_type": "execute_result"
    }
   ],
   "source": [
    "genexpr = ('Hello' for i in range(3))\n",
    "list(genexpr)"
   ]
  },
  {
   "cell_type": "markdown",
   "metadata": {
    "hidden": true
   },
   "source": [
    "Let’s take a closer look at the syntactic structure of this simple generator expression. The pattern you should begin to see looks like this: \n",
    "\n",
    "```genexpr = (expression for item in collection)```\n",
    "\n",
    "The above generator expression “template” corresponds to the following generator function:\n",
    "```\n",
    "def generator():\n",
    "    for item in collection:\n",
    "        yield expression\n",
    "```"
   ]
  },
  {
   "cell_type": "markdown",
   "metadata": {
    "heading_collapsed": true,
    "hidden": true
   },
   "source": [
    "### Filtering Values"
   ]
  },
  {
   "cell_type": "code",
   "execution_count": 62,
   "metadata": {
    "ExecuteTime": {
     "end_time": "2019-09-04T00:56:11.121979Z",
     "start_time": "2019-09-04T00:56:11.117096Z"
    },
    "hidden": true
   },
   "outputs": [],
   "source": [
    "# This generator yields the square numbers of all even integers from\n",
    "# zero to nine. The filtering condition using the % (modulo) operator\n",
    "# will reject any value not divisible by two:\n",
    "\n",
    "even_squares = (x * x for x in range(10)\n",
    "                if x % 2 == 0)"
   ]
  },
  {
   "cell_type": "code",
   "execution_count": 64,
   "metadata": {
    "ExecuteTime": {
     "end_time": "2019-09-04T00:56:56.660757Z",
     "start_time": "2019-09-04T00:56:56.654898Z"
    },
    "hidden": true
   },
   "outputs": [],
   "source": [
    "for x in even_squares:\n",
    "    print(x)"
   ]
  },
  {
   "cell_type": "markdown",
   "metadata": {
    "hidden": true
   },
   "source": [
    "Let’s update our generator expression template. After adding element\n",
    "filtering via if-conditions, the template now looks like this:\n",
    "\n",
    "```\n",
    "genexpr = (expression for item in collection\n",
    "            if condition)\n",
    "```\n",
    "\n",
    "And once again, this pattern corresponds to a relatively straightforward, but longer, generator function. Syntactic sugar at its best:\n",
    "```\n",
    "def generator():\n",
    "    for item in collection:\n",
    "        if condition:\n",
    "            yield expression\n",
    "```"
   ]
  },
  {
   "cell_type": "markdown",
   "metadata": {
    "heading_collapsed": true,
    "hidden": true
   },
   "source": [
    "### In-line Generator Expressions"
   ]
  },
  {
   "cell_type": "markdown",
   "metadata": {
    "hidden": true
   },
   "source": [
    "Because generator expressions are, well…expressions, you can use them in-line with other statements. For example, **<font color = 'purple'>you can define an iterator and consume it right away with a for-loop: </font>**"
   ]
  },
  {
   "cell_type": "code",
   "execution_count": 66,
   "metadata": {
    "ExecuteTime": {
     "end_time": "2019-09-04T01:01:35.246250Z",
     "start_time": "2019-09-04T01:01:35.240392Z"
    },
    "hidden": true
   },
   "outputs": [
    {
     "name": "stdout",
     "output_type": "stream",
     "text": [
      "Bom dia\n",
      "Bom dia\n",
      "Bom dia\n"
     ]
    }
   ],
   "source": [
    "for x in ('Bom dia' for i in range(3)):\n",
    "    print(x)"
   ]
  },
  {
   "cell_type": "markdown",
   "metadata": {
    "hidden": true
   },
   "source": [
    "There’s another syntactic trick you can use to make your generator expressions more beautiful. **<font color = 'purple'>The parentheses surrounding a generator expression can be dropped if the generator expression is used as the single argument to a function: </font>**"
   ]
  },
  {
   "cell_type": "code",
   "execution_count": 67,
   "metadata": {
    "ExecuteTime": {
     "end_time": "2019-09-04T01:02:02.728934Z",
     "start_time": "2019-09-04T01:02:02.720147Z"
    },
    "hidden": true
   },
   "outputs": [
    {
     "data": {
      "text/plain": [
       "90"
      ]
     },
     "execution_count": 67,
     "metadata": {},
     "output_type": "execute_result"
    }
   ],
   "source": [
    "sum((x * 2 for x in range(10)))"
   ]
  },
  {
   "cell_type": "code",
   "execution_count": 69,
   "metadata": {
    "ExecuteTime": {
     "end_time": "2019-09-04T01:02:42.072698Z",
     "start_time": "2019-09-04T01:02:42.064890Z"
    },
    "hidden": true,
    "scrolled": true
   },
   "outputs": [
    {
     "data": {
      "text/plain": [
       "90"
      ]
     },
     "execution_count": 69,
     "metadata": {},
     "output_type": "execute_result"
    }
   ],
   "source": [
    "sum(x * 2 for x in range(10))"
   ]
  },
  {
   "cell_type": "markdown",
   "metadata": {
    "hidden": true
   },
   "source": [
    "<font color = 'blue'>**This allows you to write concise and performant code. Because generator expressions generate values “just in time” like a class-based iterator or a generator function would, they are very memory efficient.**</font>"
   ]
  },
  {
   "cell_type": "markdown",
   "metadata": {
    "heading_collapsed": true,
    "hidden": true
   },
   "source": [
    "### Too Much of a Good Thing…"
   ]
  },
  {
   "cell_type": "markdown",
   "metadata": {
    "hidden": true
   },
   "source": [
    "<img src='pics/INT_5.png' alt='Drawing' style='width:625pt'/>\n",
    "\n",
    "Please don’t write deeply nested generator expressions like that. They can be very difficult to maintain in the long run. Just like with list comprehensions, I personally try to stay away from any generator expression that includes more than two levels of nesting.\n",
    "\n",
    "Generator expressions are a helpful and Pythonic tool in your toolbox, but that doesn’t mean they should be used for every single problem you’re facing. For complex iterators, it’s often better to write a generator function or even a class-based iterator.\n",
    "\n",
    "<font color = 'blue'>If you need to use nested generators and complex filtering conditions, it’s usually better to factor out sub-generators (so you can name them) and then to chain them together again at the top level</font>. You’ll see how to do this in the next chapter on iterator chains."
   ]
  },
  {
   "cell_type": "markdown",
   "metadata": {
    "heading_collapsed": true
   },
   "source": [
    "## Iterator Chains"
   ]
  },
  {
   "cell_type": "markdown",
   "metadata": {
    "hidden": true
   },
   "source": [
    "<font color = 'green'>**Key Takeaways**</font>\n",
    "\n",
    "* Generators can be chained together to form highly efficient and\n",
    "maintainable data processing pipelines.\n",
    "* Chained generators process each element going through the\n",
    "chain individually.\n",
    "* Generator expressions can be used to write concise pipeline def-\n",
    "initions, but this can impact readability."
   ]
  },
  {
   "cell_type": "markdown",
   "metadata": {
    "hidden": true
   },
   "source": [
    "By chaining together multiple iterators you can write highly efficient data processing “pipelines.” \n",
    "\n",
    "As a quick recap, generators and generator expressions are syntactic sugar for writing iterators in Python. They abstract away much of the boilerplate code needed when writing class-based iterators. While a regular function produces a single return value, generators produce a sequence of results. You could say they generate a stream of values over the course of their lifetime."
   ]
  },
  {
   "cell_type": "code",
   "execution_count": 71,
   "metadata": {
    "ExecuteTime": {
     "end_time": "2019-09-04T01:10:38.505738Z",
     "start_time": "2019-09-04T01:10:38.495975Z"
    },
    "hidden": true
   },
   "outputs": [
    {
     "data": {
      "text/plain": [
       "[1, 2, 3, 4, 5, 6, 7, 8]"
      ]
     },
     "execution_count": 71,
     "metadata": {},
     "output_type": "execute_result"
    }
   ],
   "source": [
    "# For example, I can define the following generator that produces the\n",
    "# series of integer values from one to eight by keeping a running counter\n",
    "# and yielding a new value every time next() gets called on it:\n",
    "\n",
    "def integers():\n",
    "    for i in range(1, 9):\n",
    "        yield i\n",
    "\n",
    "chain = integers()\n",
    "list(chain)        "
   ]
  },
  {
   "cell_type": "markdown",
   "metadata": {
    "hidden": true
   },
   "source": [
    "**<font color = 'purple'>Generators can be “connected” to each other in order to build efficient data processing algorithms that work like a pipeline. </font>**\n",
    "\n",
    "**<font color = 'blue'><span style='background-color: lightyellow'>You can take the “stream” of values coming out of the integers() generator and feed them into another generator again</span>. </font>**:\n",
    "\n",
    "**<font color = 'purple'>For example, one that takes each number, squares it, and then passes it on  </font>**"
   ]
  },
  {
   "cell_type": "code",
   "execution_count": 72,
   "metadata": {
    "ExecuteTime": {
     "end_time": "2019-09-04T01:13:30.972059Z",
     "start_time": "2019-09-04T01:13:30.966200Z"
    },
    "hidden": true
   },
   "outputs": [],
   "source": [
    "def squared(seq):\n",
    "    for i in seq:\n",
    "        yield i * i"
   ]
  },
  {
   "cell_type": "code",
   "execution_count": 74,
   "metadata": {
    "ExecuteTime": {
     "end_time": "2019-09-04T01:15:34.606016Z",
     "start_time": "2019-09-04T01:15:34.599182Z"
    },
    "hidden": true
   },
   "outputs": [
    {
     "data": {
      "text/plain": [
       "[1, 4, 9, 16, 25, 36, 49, 64]"
      ]
     },
     "execution_count": 74,
     "metadata": {},
     "output_type": "execute_result"
    }
   ],
   "source": [
    "# This is what our “data pipeline” or “chain of generators” would do\n",
    "# now:\n",
    "\n",
    "chain = squared(integers())\n",
    "list(chain)"
   ]
  },
  {
   "cell_type": "markdown",
   "metadata": {
    "hidden": true
   },
   "source": [
    "And we can keep on adding new building blocks to this pipeline. Data flows in one direction only, and each processing step is shielded from the others via a well-defined interface. This is similar to how pipelines work in Unix. We chain together a sequence of processes so that the output of each process feeds directly as input to the next one."
   ]
  },
  {
   "cell_type": "code",
   "execution_count": 75,
   "metadata": {
    "ExecuteTime": {
     "end_time": "2019-09-04T01:16:09.421182Z",
     "start_time": "2019-09-04T01:16:09.415321Z"
    },
    "hidden": true
   },
   "outputs": [],
   "source": [
    "# Why don’t we add another step to our pipeline that negates each value\n",
    "# and then passes it on to the next processing step in the chain:\n",
    "\n",
    "def negated(seq):\n",
    "    for i in seq:\n",
    "        yield -i"
   ]
  },
  {
   "cell_type": "code",
   "execution_count": 76,
   "metadata": {
    "ExecuteTime": {
     "end_time": "2019-09-04T01:16:33.409924Z",
     "start_time": "2019-09-04T01:16:33.403090Z"
    },
    "hidden": true
   },
   "outputs": [
    {
     "data": {
      "text/plain": [
       "[-1, -4, -9, -16, -25, -36, -49, -64]"
      ]
     },
     "execution_count": 76,
     "metadata": {},
     "output_type": "execute_result"
    }
   ],
   "source": [
    "# If we rebuild our chain of generators and add negated at the end, this\n",
    "# is the output we get now:\n",
    "\n",
    "chain = negated(squared(integers()))\n",
    "list(chain)\n"
   ]
  },
  {
   "cell_type": "markdown",
   "metadata": {
    "hidden": true
   },
   "source": [
    "<font color = 'blue'>My favorite thing about chaining generators is that the data processing happens one element at a time. There’s no buffering between the processing steps in the chain:</font>\n",
    "\n",
    "1. The integers generator yields a single value, let’s say 3.\n",
    "\n",
    "\n",
    "2. This “activates” the squared generator, which processes the\n",
    "value and passes it on to the next stage as 3 × 3 = 9\n",
    "\n",
    "\n",
    "3. The square number yielded by the squared generator gets fed\n",
    "immediately into the negated generator, which modifies it to\n",
    "-9 and yields it again.\n",
    "\n",
    "You could keep extending this chain of generators to build out a processing pipeline with many steps. It would still perform efficiently and could easily be modified because each step in the chain is an individual generator function. Each individual generator function in this processing pipeline is quite concise. \n",
    "\n",
    "**<font color = 'purple'>With a little trick, we can shrink down the definition of this pipeline even more, without sacrificing much readability: </font>**"
   ]
  },
  {
   "cell_type": "code",
   "execution_count": 78,
   "metadata": {
    "ExecuteTime": {
     "end_time": "2019-09-04T01:19:28.469279Z",
     "start_time": "2019-09-04T01:19:28.463420Z"
    },
    "hidden": true
   },
   "outputs": [],
   "source": [
    "integers = range(8)\n",
    "squared = (i * i for i in integers)\n",
    "negated = (-i for i in squared)"
   ]
  },
  {
   "cell_type": "markdown",
   "metadata": {
    "hidden": true
   },
   "source": [
    "Notice how I’ve replaced each processing step in the chain with a generator expression built on the output of the previous step. This code is equivalent to the chain of generators we built throughout the chapter:"
   ]
  },
  {
   "cell_type": "code",
   "execution_count": 80,
   "metadata": {
    "ExecuteTime": {
     "end_time": "2019-09-04T01:19:52.533404Z",
     "start_time": "2019-09-04T01:19:52.526570Z"
    },
    "hidden": true
   },
   "outputs": [
    {
     "data": {
      "text/plain": [
       "<generator object <genexpr> at 0x000001D0E3116570>"
      ]
     },
     "execution_count": 80,
     "metadata": {},
     "output_type": "execute_result"
    }
   ],
   "source": [
    "negated"
   ]
  },
  {
   "cell_type": "code",
   "execution_count": 81,
   "metadata": {
    "ExecuteTime": {
     "end_time": "2019-09-04T01:20:14.536244Z",
     "start_time": "2019-09-04T01:20:14.529408Z"
    },
    "hidden": true,
    "scrolled": true
   },
   "outputs": [
    {
     "data": {
      "text/plain": [
       "[]"
      ]
     },
     "execution_count": 81,
     "metadata": {},
     "output_type": "execute_result"
    }
   ],
   "source": [
    "list(negated)"
   ]
  },
  {
   "cell_type": "markdown",
   "metadata": {
    "hidden": true
   },
   "source": [
    "<font color = 'red'>The only downside to using generator expressions is that they can’t be configured with function arguments, and you can’t reuse the same generator expression multiple times in the same processing pipeline</font>. \n",
    "\n",
    "But of course, you could mix-and-match generator expressions and regular generators freely in building these pipelines. This will help improve readability with complex pipelines."
   ]
  },
  {
   "cell_type": "markdown",
   "metadata": {},
   "source": [
    "# Dictionary Tricks"
   ]
  },
  {
   "cell_type": "markdown",
   "metadata": {},
   "source": [
    "## Dictionary Default Values"
   ]
  },
  {
   "cell_type": "markdown",
   "metadata": {},
   "source": [
    "<font color = 'green'>**Key Takeaways**</font>\n",
    "* Avoid explicit key in dict checks when testing for membership.\n",
    "* EAFP-style exception handling or using the built-in ```get()```\n",
    "method is preferable.\n",
    "* In some cases, the collections.defaultdict class from the\n",
    "standard library can also be helpful."
   ]
  },
  {
   "cell_type": "markdown",
   "metadata": {},
   "source": [
    "<font color = 'green'>**Python’s dictionaries have a ```get()``` method for looking up a key while providing a fallback value**</font>. This can be handy in many situations. Let me give you a simple example to show you what I mean. Imagine we have the following data structure that’s mapping user IDs to user names:"
   ]
  },
  {
   "cell_type": "code",
   "execution_count": 83,
   "metadata": {
    "ExecuteTime": {
     "end_time": "2019-09-04T01:28:56.695930Z",
     "start_time": "2019-09-04T01:28:56.691050Z"
    }
   },
   "outputs": [],
   "source": [
    "name_for_userid = {\n",
    "    382: 'Alice',\n",
    "    950: 'Bob',\n",
    "    590: 'Dilbert',\n",
    "}"
   ]
  },
  {
   "cell_type": "markdown",
   "metadata": {},
   "source": [
    "**<font color = 'purple'>Now we’d like to use this data structure to write a function ```greeting()``` which will return a greeting for a user based on their user ID. Our first implementation might look something like this: </font>**"
   ]
  },
  {
   "cell_type": "code",
   "execution_count": 84,
   "metadata": {
    "ExecuteTime": {
     "end_time": "2019-09-04T01:29:27.578001Z",
     "start_time": "2019-09-04T01:29:27.572142Z"
    }
   },
   "outputs": [],
   "source": [
    "def greeting(userid):\n",
    "    return 'Hi %s!' % name_for_userid[userid]"
   ]
  },
  {
   "cell_type": "markdown",
   "metadata": {},
   "source": [
    "It’s a straightforward dictionary lookup. This first implementation technically works—but only if the user ID is a valid key in the name_for_userid dictionary. If we pass an invalid user ID to our greeting function it throws an exception:"
   ]
  },
  {
   "cell_type": "code",
   "execution_count": 85,
   "metadata": {
    "ExecuteTime": {
     "end_time": "2019-09-04T01:29:55.284173Z",
     "start_time": "2019-09-04T01:29:55.278315Z"
    }
   },
   "outputs": [
    {
     "data": {
      "text/plain": [
       "'Hi Alice!'"
      ]
     },
     "execution_count": 85,
     "metadata": {},
     "output_type": "execute_result"
    }
   ],
   "source": [
    "greeting(382)"
   ]
  },
  {
   "cell_type": "code",
   "execution_count": 86,
   "metadata": {
    "ExecuteTime": {
     "end_time": "2019-09-04T01:30:07.016338Z",
     "start_time": "2019-09-04T01:30:06.999739Z"
    }
   },
   "outputs": [
    {
     "ename": "KeyError",
     "evalue": "33333333",
     "output_type": "error",
     "traceback": [
      "\u001b[1;31m---------------------------------------------------------------------------\u001b[0m",
      "\u001b[1;31mKeyError\u001b[0m                                  Traceback (most recent call last)",
      "\u001b[1;32m<ipython-input-86-3b5b406b2b12>\u001b[0m in \u001b[0;36m<module>\u001b[1;34m\u001b[0m\n\u001b[1;32m----> 1\u001b[1;33m \u001b[0mgreeting\u001b[0m\u001b[1;33m(\u001b[0m\u001b[1;36m33333333\u001b[0m\u001b[1;33m)\u001b[0m\u001b[1;33m\u001b[0m\u001b[1;33m\u001b[0m\u001b[0m\n\u001b[0m",
      "\u001b[1;32m<ipython-input-84-87d7e949446f>\u001b[0m in \u001b[0;36mgreeting\u001b[1;34m(userid)\u001b[0m\n\u001b[0;32m      1\u001b[0m \u001b[1;32mdef\u001b[0m \u001b[0mgreeting\u001b[0m\u001b[1;33m(\u001b[0m\u001b[0muserid\u001b[0m\u001b[1;33m)\u001b[0m\u001b[1;33m:\u001b[0m\u001b[1;33m\u001b[0m\u001b[1;33m\u001b[0m\u001b[0m\n\u001b[1;32m----> 2\u001b[1;33m     \u001b[1;32mreturn\u001b[0m \u001b[1;34m'Hi %s!'\u001b[0m \u001b[1;33m%\u001b[0m \u001b[0mname_for_userid\u001b[0m\u001b[1;33m[\u001b[0m\u001b[0muserid\u001b[0m\u001b[1;33m]\u001b[0m\u001b[1;33m\u001b[0m\u001b[1;33m\u001b[0m\u001b[0m\n\u001b[0m",
      "\u001b[1;31mKeyError\u001b[0m: 33333333"
     ]
    }
   ],
   "source": [
    "greeting(33333333)"
   ]
  },
  {
   "cell_type": "markdown",
   "metadata": {},
   "source": [
    "A KeyError exception isn’t really the result we’d like to see. **<font color = 'purple'>It would be much nicer if the function returned a generic greeting as a fallback if the user ID can’t be found. </font>**"
   ]
  },
  {
   "cell_type": "code",
   "execution_count": 88,
   "metadata": {
    "ExecuteTime": {
     "end_time": "2019-09-04T01:31:56.385306Z",
     "start_time": "2019-09-04T01:31:56.380424Z"
    }
   },
   "outputs": [],
   "source": [
    "# Our first approach might be to simply do a key in dict \n",
    "# membership check and to return a default greeting if \n",
    "# the user ID is unknown:\n",
    "\n",
    "def greeting(userid):\n",
    "    if userid in name_for_userid:\n",
    "        return 'Hi %s!' % name_for_userid[userid]\n",
    "    else:\n",
    "        return 'Hi there!'"
   ]
  },
  {
   "cell_type": "code",
   "execution_count": 89,
   "metadata": {
    "ExecuteTime": {
     "end_time": "2019-09-04T01:31:57.075543Z",
     "start_time": "2019-09-04T01:31:57.068708Z"
    }
   },
   "outputs": [
    {
     "data": {
      "text/plain": [
       "'Hi Alice!'"
      ]
     },
     "execution_count": 89,
     "metadata": {},
     "output_type": "execute_result"
    }
   ],
   "source": [
    "greeting(382)"
   ]
  },
  {
   "cell_type": "code",
   "execution_count": 91,
   "metadata": {
    "ExecuteTime": {
     "end_time": "2019-09-04T01:32:21.270196Z",
     "start_time": "2019-09-04T01:32:21.264339Z"
    }
   },
   "outputs": [
    {
     "data": {
      "text/plain": [
       "'Hi there!'"
      ]
     },
     "execution_count": 91,
     "metadata": {},
     "output_type": "execute_result"
    }
   ],
   "source": [
    "greeting(33333333)"
   ]
  },
  {
   "cell_type": "markdown",
   "metadata": {},
   "source": [
    "**<font color = 'purple'>But there’s still room for improvement </font>**. While this new implementation gives us the expected results and seems small and clean enough, it can still be improved.\n",
    "\n",
    "* It’s inefficient because it queries the dictionary twice.\n",
    "    (Once in if condition, once in return statement)\n",
    "* It’s verbose since part of the greeting string is repeated, for example.\n",
    "* It’s not Pythonic—the official Python documentation specif-\n",
    "ically recommends an “easier to ask for forgiveness than\n",
    "permission” (EAFP) coding style for these situations: “This common Python coding style assumes the existence of valid keys or attributes and catches exceptions if the assumption proves false.”1\n",
    "\n"
   ]
  },
  {
   "cell_type": "code",
   "execution_count": 92,
   "metadata": {
    "ExecuteTime": {
     "end_time": "2019-09-04T01:35:06.745760Z",
     "start_time": "2019-09-04T01:35:06.739902Z"
    }
   },
   "outputs": [],
   "source": [
    "# A better implementation that follows the EAFP principle might use a\n",
    "# try…except block to catch the KeyError instead of doing an explicit\n",
    "# membership test:\n",
    "\n",
    "def greeting(userid):\n",
    "    try:\n",
    "        return 'Hi %s!' % name_for_userid[userid]\n",
    "    except KeyError:\n",
    "        return 'Hi there'\n"
   ]
  },
  {
   "cell_type": "markdown",
   "metadata": {},
   "source": [
    "**<font color = 'purple'>But we can still improve this further and come up with a cleaner solution. Python’s dictionaries have a get() method on them which supports a “default” parameter that can be used as a fallback value: </font>**2"
   ]
  },
  {
   "cell_type": "code",
   "execution_count": 117,
   "metadata": {
    "ExecuteTime": {
     "end_time": "2019-09-04T01:44:15.619373Z",
     "start_time": "2019-09-04T01:44:15.613513Z"
    }
   },
   "outputs": [],
   "source": [
    "def greeting(userid):\n",
    "    return 'Hi %s!' % name_for_userid.get(\n",
    "        userid, 'there')"
   ]
  },
  {
   "cell_type": "markdown",
   "metadata": {},
   "source": [
    "<font color = 'green'>When ```get()``` is called, it checks if the given key exists in the dictionary. If it does, the value for the key is returned. If it does not exist, then the value of the default parameter is returned instead. As you can see, this implementation of greeting still works as intended</font>:"
   ]
  },
  {
   "cell_type": "code",
   "execution_count": 118,
   "metadata": {
    "ExecuteTime": {
     "end_time": "2019-09-04T01:44:17.661150Z",
     "start_time": "2019-09-04T01:44:17.653340Z"
    }
   },
   "outputs": [
    {
     "name": "stdout",
     "output_type": "stream",
     "text": [
      "Hi Bob!\n"
     ]
    },
    {
     "data": {
      "text/plain": [
       "'Hi there!'"
      ]
     },
     "execution_count": 118,
     "metadata": {},
     "output_type": "execute_result"
    }
   ],
   "source": [
    "print(greeting(950))\n",
    "\n",
    "greeting(333333)"
   ]
  },
  {
   "cell_type": "markdown",
   "metadata": {
    "heading_collapsed": true
   },
   "source": [
    "## Sorting Dictionaries"
   ]
  },
  {
   "cell_type": "markdown",
   "metadata": {
    "hidden": true
   },
   "source": [
    "<font color = 'green'>**Key Takeaways**</font>\n",
    "* When creating sorted “views” of dictionaries and other collections, you can influence the sort order with a key func.\n",
    "\n",
    "\n",
    "* Key funcs are an important concept in Python. The most frequently used ones were even added to the operator module in the standard library.\n",
    "\n",
    "\n",
    "* Functions are first-class citizens in Python. This is a powerful\n",
    "feature you’ll find used everywhere in the language."
   ]
  },
  {
   "cell_type": "markdown",
   "metadata": {
    "hidden": true
   },
   "source": [
    "Python dictionaries don’t have an inherent order. You can iterate over them just fine but there’s no guarantee that iteration returns the dictionary’s elements in any particular order (although this is changing with Python 3.6). \n",
    "\n",
    "**<font color = 'purple'>However, it’s frequently useful to get a sorted representation of a dictionary to put the dictionary’s items into an arbitrary order based on their key, value, or some other derived property </font>**. Suppose you have a dictionary xs with the following key/value pairs:"
   ]
  },
  {
   "cell_type": "code",
   "execution_count": 2,
   "metadata": {
    "ExecuteTime": {
     "end_time": "2019-09-04T03:17:18.823874Z",
     "start_time": "2019-09-04T03:17:18.818019Z"
    },
    "hidden": true
   },
   "outputs": [],
   "source": [
    "xs = {'a': 4, 'c': 2, 'b': 3, 'd': 1}"
   ]
  },
  {
   "cell_type": "markdown",
   "metadata": {
    "ExecuteTime": {
     "end_time": "2019-09-04T03:17:19.875267Z",
     "start_time": "2019-09-04T03:17:19.861600Z"
    },
    "hidden": true
   },
   "source": [
    "**<font color = 'purple'>To get a sorted list of the key/value pairs in this dictionary, you could use the dictionary’s ```items()``` method and then sort the resulting sequence in a second pass: </font>**"
   ]
  },
  {
   "cell_type": "code",
   "execution_count": 3,
   "metadata": {
    "ExecuteTime": {
     "end_time": "2019-09-04T03:17:19.875267Z",
     "start_time": "2019-09-04T03:17:19.861600Z"
    },
    "hidden": true
   },
   "outputs": [
    {
     "data": {
      "text/plain": [
       "[('a', 4), ('b', 3), ('c', 2), ('d', 1)]"
      ]
     },
     "execution_count": 3,
     "metadata": {},
     "output_type": "execute_result"
    }
   ],
   "source": [
    "sorted(xs.items())"
   ]
  },
  {
   "cell_type": "code",
   "execution_count": 7,
   "metadata": {
    "ExecuteTime": {
     "end_time": "2019-09-04T03:21:39.927128Z",
     "start_time": "2019-09-04T03:21:39.921271Z"
    },
    "hidden": true
   },
   "outputs": [
    {
     "data": {
      "text/plain": [
       "[('d', 1), ('c', 2), ('b', 3), ('a', 4)]"
      ]
     },
     "execution_count": 7,
     "metadata": {},
     "output_type": "execute_result"
    }
   ],
   "source": [
    "sorted(xs.items(), reverse = True)"
   ]
  },
  {
   "cell_type": "markdown",
   "metadata": {
    "hidden": true
   },
   "source": [
    "<font color = 'blue'>The key/value tuples are ordered using Python’s standard lexicographical ordering for comparing sequences</font>. \n",
    "\n",
    "* To compare two tuples, Python compares the items stored at index zero first. \n",
    "\n",
    "* If they differ, this defines the outcome of the comparison. If they’re equal, the next two items at index one are compared, and so on.\n",
    "\n",
    "Now, <font color = 'blue'>because we took these tuples from a dictionary, all of the former dictionary keys at index zero in each tuple are unique. Therefore, there are no ties to break here</font>.\n",
    "\n",
    "**<font color = 'purple'>In some cases a lexicographical ordering might be exactly what you want. In other cases you might want to sort a dictionary by value instead. </font>**\n",
    "\n",
    " <font color = 'green'>**You can control the ordering by passing a ```key func``` to ```sorted()``` that will change how dictionary items are compared.**</font>\n",
    " \n",
    " > <font color = 'green'>A key func is simply a normal Python function to be called on each element prior to making comparisons</font>. The key func gets a dictionary item as its input and returns the desired “key” for the sort order comparisons.\n",
    " \n",
    "<font color = 'lightgrey'> Unfortunately, the word “key” is used in two contexts simultaneously here—the key func doesn’t deal with dictionary keys, it merely maps each input item to an arbitrary comparison key.</font>"
   ]
  },
  {
   "cell_type": "markdown",
   "metadata": {
    "hidden": true
   },
   "source": [
    "**<font color = 'purple'>Let’s say you wanted to get a sorted representation of a dictionary based on its values </font>**. To get this result you could use the following key func which returns the value of each key/value pair by looking up the second element in the tuple:"
   ]
  },
  {
   "cell_type": "code",
   "execution_count": 125,
   "metadata": {
    "ExecuteTime": {
     "end_time": "2019-09-04T02:05:08.117217Z",
     "start_time": "2019-09-04T02:05:08.108431Z"
    },
    "hidden": true
   },
   "outputs": [
    {
     "data": {
      "text/plain": [
       "[('d', 1), ('c', 2), ('b', 3), ('a', 4)]"
      ]
     },
     "execution_count": 125,
     "metadata": {},
     "output_type": "execute_result"
    }
   ],
   "source": [
    "# See how the resulting list of key/value pairs is now sorted by the val-\n",
    "# ues stored in the original dictionary?\n",
    "\n",
    "sorted(xs.items(), key=lambda x: x[1])"
   ]
  },
  {
   "cell_type": "code",
   "execution_count": 126,
   "metadata": {
    "ExecuteTime": {
     "end_time": "2019-09-04T02:05:09.646560Z",
     "start_time": "2019-09-04T02:05:09.637773Z"
    },
    "hidden": true,
    "scrolled": true
   },
   "outputs": [
    {
     "data": {
      "text/plain": [
       "[('a', 4), ('b', 3), ('c', 2), ('d', 1)]"
      ]
     },
     "execution_count": 126,
     "metadata": {},
     "output_type": "execute_result"
    }
   ],
   "source": [
    "sorted(xs.items(), key=lambda x: x[0])"
   ]
  },
  {
   "cell_type": "markdown",
   "metadata": {
    "hidden": true
   },
   "source": [
    "It’s worth spending some time wrapping your head around how key funcs work. It’s a powerful concept that you can apply in all kinds of Python contexts. In fact, the concept is so common that Python’s standard library includes the operator module. <font color = 'green'>**This module implements some of the most frequently used key funcs as plug-and-play building blocks**</font>, like ```operator.itemgetter``` and ```operator.attrgetter```."
   ]
  },
  {
   "cell_type": "markdown",
   "metadata": {
    "hidden": true
   },
   "source": [
    "**<font color = 'purple'>Here’s an example of how you might replace the lambda-based index lookup in the first example with operator.itemgetter: </font>**"
   ]
  },
  {
   "cell_type": "code",
   "execution_count": 121,
   "metadata": {
    "ExecuteTime": {
     "end_time": "2019-09-04T02:03:12.424200Z",
     "start_time": "2019-09-04T02:03:12.415414Z"
    },
    "hidden": true
   },
   "outputs": [
    {
     "data": {
      "text/plain": [
       "[('d', 1), ('c', 2), ('b', 3), ('a', 4)]"
      ]
     },
     "execution_count": 121,
     "metadata": {},
     "output_type": "execute_result"
    }
   ],
   "source": [
    "import operator\n",
    "sorted(xs.items(), key=operator.itemgetter(1))\n",
    "# [('d', 1), ('c', 2), ('b', 3), ('a', 4)]"
   ]
  },
  {
   "cell_type": "markdown",
   "metadata": {
    "hidden": true
   },
   "source": []
  },
  {
   "cell_type": "code",
   "execution_count": 122,
   "metadata": {
    "ExecuteTime": {
     "end_time": "2019-09-04T02:03:32.865392Z",
     "start_time": "2019-09-04T02:03:32.858557Z"
    },
    "hidden": true
   },
   "outputs": [
    {
     "data": {
      "text/plain": [
       "[('a', 4), ('b', 3), ('c', 2), ('d', 1)]"
      ]
     },
     "execution_count": 122,
     "metadata": {},
     "output_type": "execute_result"
    }
   ],
   "source": [
    "import operator\n",
    "sorted(xs.items(), key=operator.itemgetter(0))\n",
    "# [('d', 1), ('c', 2), ('b', 3), ('a', 4)]"
   ]
  },
  {
   "cell_type": "markdown",
   "metadata": {
    "hidden": true
   },
   "source": [
    "**<font color = 'purple'>Another benefit of using lambdas as a custom key func is that you get to control the sort order in much finer detail </font>**. For example, you could sort a dictionary based on the absolute numeric value of each value stored in it:"
   ]
  },
  {
   "cell_type": "code",
   "execution_count": 8,
   "metadata": {
    "ExecuteTime": {
     "end_time": "2019-09-04T03:31:40.607880Z",
     "start_time": "2019-09-04T03:31:40.601048Z"
    },
    "hidden": true
   },
   "outputs": [
    {
     "data": {
      "text/plain": [
       "[('d', 1), ('c', 2), ('b', 3), ('a', 4)]"
      ]
     },
     "execution_count": 8,
     "metadata": {},
     "output_type": "execute_result"
    }
   ],
   "source": [
    "sorted(xs.items(), key=lambda x: abs(x[1]))"
   ]
  },
  {
   "cell_type": "code",
   "execution_count": 9,
   "metadata": {
    "ExecuteTime": {
     "end_time": "2019-09-04T03:32:10.135152Z",
     "start_time": "2019-09-04T03:32:10.128321Z"
    },
    "hidden": true,
    "scrolled": true
   },
   "outputs": [
    {
     "data": {
      "text/plain": [
       "[('a', 4), ('b', 3), ('c', 2), ('d', 1)]"
      ]
     },
     "execution_count": 9,
     "metadata": {},
     "output_type": "execute_result"
    }
   ],
   "source": [
    "sorted(xs.items(),\n",
    "       key=lambda x: x[1],\n",
    "       reverse=True)"
   ]
  },
  {
   "cell_type": "markdown",
   "metadata": {},
   "source": [
    "## Emulating Switch/Case Statements With Dicts"
   ]
  },
  {
   "cell_type": "markdown",
   "metadata": {},
   "source": [
    "Python doesn’t have switch/case statements so it’s sometimes necessary to write long if…elif…else chains as a workaround. In this chapter you’ll discover a trick you can use to emulate switch/case statements in Python with dictionaries and first-class functions.\n",
    "\n",
    "**<font color = 'purple'>Imagine we had the following if-chain in our program: </font>**\n",
    "```\n",
    "if cond == 'cond_a':\n",
    "    handle_a()\n",
    "elif cond == 'cond_b':\n",
    "    handle_b()\n",
    "else:\n",
    "    handle_default()\n",
    "```\n",
    "\n",
    "**<font color = 'purple'>One way to deal with long if…elif…else statements is to replace them with dictionary lookup tables that emulate the behavior of switch/case statements </font>**.\n",
    "\n",
    "<font color = 'blue'>The idea here is to leverage the fact that Python has first-class functions. This means they can be passed as arguments to other functions, returned as values from other functions, and assigned to variables and stored in data structures</font>.\n",
    "\n",
    "**<font color = 'purple'>For example, we can define a function and then store it in a list for later access: </font>**"
   ]
  },
  {
   "cell_type": "code",
   "execution_count": 11,
   "metadata": {
    "ExecuteTime": {
     "end_time": "2019-09-04T03:53:40.952170Z",
     "start_time": "2019-09-04T03:53:40.945335Z"
    }
   },
   "outputs": [
    {
     "data": {
      "text/plain": [
       "<function __main__.myfunc(a, b)>"
      ]
     },
     "execution_count": 11,
     "metadata": {},
     "output_type": "execute_result"
    }
   ],
   "source": [
    "def myfunc(a, b):\n",
    "    return a + b\n",
    "\n",
    "funcs = [myfunc]\n",
    "funcs[0]\n",
    "# <function myfunc at 0x107012230>"
   ]
  },
  {
   "cell_type": "markdown",
   "metadata": {},
   "source": [
    "The syntax for calling this function works as you’d intuitively expect— we simply use an index into the list and then use the “()” call syntax for calling the function and passing arguments to it:"
   ]
  },
  {
   "cell_type": "code",
   "execution_count": 12,
   "metadata": {
    "ExecuteTime": {
     "end_time": "2019-09-04T03:54:07.067324Z",
     "start_time": "2019-09-04T03:54:07.061467Z"
    }
   },
   "outputs": [
    {
     "data": {
      "text/plain": [
       "5"
      ]
     },
     "execution_count": 12,
     "metadata": {},
     "output_type": "execute_result"
    }
   ],
   "source": [
    " funcs[0](2, 3)"
   ]
  },
  {
   "cell_type": "markdown",
   "metadata": {},
   "source": [
    "**<font color = 'purple'>Now, how are we going to use first-class functions to cut our chained\n",
    "if-statement back to size? </font>** \n",
    "\n",
    "<font color = 'blue'>The core idea here is to define a dictionary that maps lookup keys for the input conditions to functions that will carry out the intended operations:</font>"
   ]
  },
  {
   "cell_type": "raw",
   "metadata": {},
   "source": [
    ">>> func_dict = {\n",
    "... 'cond_a': handle_a,\n",
    "... 'cond_b': handle_b\n",
    "... }"
   ]
  },
  {
   "cell_type": "markdown",
   "metadata": {},
   "source": [
    "<font color = 'blue'>Instead of filtering through the if-statement, checking each condition as we go along, we can do a dictionary key lookup to get the handler function and then call it:</font>"
   ]
  },
  {
   "cell_type": "raw",
   "metadata": {
    "ExecuteTime": {
     "end_time": "2019-09-04T03:56:13.892205Z",
     "start_time": "2019-09-04T03:56:13.880489Z"
    }
   },
   "source": [
    "cond = 'cond_a'\n",
    "func_dict[cond]()"
   ]
  },
  {
   "cell_type": "markdown",
   "metadata": {},
   "source": [
    "This implementation already sort-of works, at least as long as cond can be found in the dictionary. <font color = 'red'>If it’s not in there, we’ll get a KeyError exception.</font>"
   ]
  },
  {
   "cell_type": "markdown",
   "metadata": {
    "ExecuteTime": {
     "end_time": "2019-09-04T03:57:51.524623Z",
     "start_time": "2019-09-04T03:57:51.515837Z"
    }
   },
   "source": [
    "**<font color = 'purple'>So let’s look for a way to support a default case that would match the\n",
    "original else branch </font>**. \n",
    "\n",
    "* Luckily all Python dicts have a ```get()``` method\n",
    "on them that returns the value for a given key, or a default value if the\n",
    "key can’t be found. This is exactly what we need here:"
   ]
  },
  {
   "cell_type": "raw",
   "metadata": {},
   "source": [
    "func_dict.get(cond, handle_default)()"
   ]
  },
  {
   "cell_type": "markdown",
   "metadata": {},
   "source": [
    "This code snippet might look syntactically odd at first, but when you break it down, it works exactly like the earlier example. \n",
    "\n",
    "* Again, we’re using Python’s first-class functions to pass handle_default to the ```get()```-lookup as a fallback value. \n",
    "\n",
    "    That way, <font color = 'blue'>if the condition can’t be found in the dictionary, we avoid raising a KeyError and call the default handler function instead</font>.\n",
    "    \n",
    "**<font color = 'purple'>Let’s take a look at a more complete example for using dictionary lookups and first-class functions to replace if-chains </font>**. After reading through the following example, you’ll be able to see the pattern needed to transform certain kinds of if-statements to a dictionary-based dispatch."
   ]
  },
  {
   "cell_type": "markdown",
   "metadata": {},
   "source": [
    "### We’re going to write another function with an if-chain that we’ll then transform. "
   ]
  },
  {
   "cell_type": "markdown",
   "metadata": {},
   "source": [
    "The function takes a string opcode like \"add\" or \"mul\" and then does some math on the operands x and y:"
   ]
  },
  {
   "cell_type": "code",
   "execution_count": 16,
   "metadata": {
    "ExecuteTime": {
     "end_time": "2019-09-04T04:03:49.175300Z",
     "start_time": "2019-09-04T04:03:49.166512Z"
    }
   },
   "outputs": [],
   "source": [
    "def dispatch_if(operator, x, y):\n",
    "    if operator == 'add':\n",
    "        return x + y\n",
    "    elif operator == 'sub':\n",
    "        return x - y\n",
    "    elif operator == 'mul':\n",
    "        return x * y\n",
    "    elif operator == 'div':\n",
    "        return x / y"
   ]
  },
  {
   "cell_type": "code",
   "execution_count": 17,
   "metadata": {
    "ExecuteTime": {
     "end_time": "2019-09-04T04:04:06.472681Z",
     "start_time": "2019-09-04T04:04:06.465849Z"
    }
   },
   "outputs": [
    {
     "data": {
      "text/plain": [
       "16"
      ]
     },
     "execution_count": 17,
     "metadata": {},
     "output_type": "execute_result"
    }
   ],
   "source": [
    " dispatch_if('mul', 2, 8)"
   ]
  },
  {
   "cell_type": "code",
   "execution_count": 20,
   "metadata": {
    "ExecuteTime": {
     "end_time": "2019-09-04T04:04:41.382915Z",
     "start_time": "2019-09-04T04:04:41.377055Z"
    }
   },
   "outputs": [],
   "source": [
    "dispatch_if('unknown', 2, 8)"
   ]
  },
  {
   "cell_type": "markdown",
   "metadata": {},
   "source": [
    "Please note that the 'unknown' case works because Python adds an implicit return None statement to the end of any function.\n",
    "\n",
    "**<font color = 'purple'>Let’s transform the original ```dispatch_if()``` into a new function which uses a dictionary to map opcodes to arithmetic operations with first-class functions. </font>**"
   ]
  },
  {
   "cell_type": "code",
   "execution_count": 21,
   "metadata": {
    "ExecuteTime": {
     "end_time": "2019-09-04T04:21:04.140678Z",
     "start_time": "2019-09-04T04:21:04.133843Z"
    }
   },
   "outputs": [],
   "source": [
    "# This dictionary-based implementation gives the same results as the\n",
    "# original dispatch_if(). We can call both functions in exactly the\n",
    "# same way:\n",
    "\n",
    "def dispatch_dict(operator, x, y):\n",
    "    return {\n",
    "        'add': lambda: x + y,\n",
    "        'sub': lambda: x - y,\n",
    "        'mul': lambda: x * y,\n",
    "        'div': lambda: x / y,\n",
    "    }.get(operator, lambda: None)()"
   ]
  },
  {
   "cell_type": "code",
   "execution_count": 22,
   "metadata": {
    "ExecuteTime": {
     "end_time": "2019-09-04T04:21:05.749223Z",
     "start_time": "2019-09-04T04:21:05.743369Z"
    }
   },
   "outputs": [
    {
     "data": {
      "text/plain": [
       "16"
      ]
     },
     "execution_count": 22,
     "metadata": {},
     "output_type": "execute_result"
    }
   ],
   "source": [
    "dispatch_dict('mul', 2, 8)"
   ]
  },
  {
   "cell_type": "code",
   "execution_count": 23,
   "metadata": {
    "ExecuteTime": {
     "end_time": "2019-09-04T04:21:11.903642Z",
     "start_time": "2019-09-04T04:21:11.898760Z"
    }
   },
   "outputs": [],
   "source": [
    "dispatch_dict('unknown', 2, 8)"
   ]
  },
  {
   "cell_type": "markdown",
   "metadata": {},
   "source": [
    "**<font color = 'purple'>There are a couple of ways this code could be further improved if it was real “production-grade” code. </font>**\n",
    "\n",
    "1. First of all, every time we call dispatch_dict(), it creates a temporary dictionary and a bunch of lambdas for the opcode lookup. This isn’t ideal from a performance perspective. <font color = 'blue'>**For code that needs to be fast, it makes more sense to create the dictionary once as a constant and then to reference it when the function is called. We don’t want to recreate the dictionary every time we need to do a lookup**</font>.\n",
    "\n",
    "\n",
    "2. Second, if we really wanted to do some simple arithmetic like x + y, then we’d be <font color = 'blue'>**better off using Python’s built-in operator module instead of the lambda functions**</font> used in the example. The operator module provides implementations for all of Python’s operators, for example operator.mul, operator.div, and so on. This is a minor point, though. I intentionally used lambdas in this example to make it more generic. This should help you apply the pattern in other situations as well."
   ]
  },
  {
   "cell_type": "markdown",
   "metadata": {
    "heading_collapsed": true
   },
   "source": [
    "## Craziest Dict Expression"
   ]
  },
  {
   "cell_type": "markdown",
   "metadata": {
    "hidden": true
   },
   "source": [
    "<font color = 'green'>**Key Takeaways**</font>\n",
    "\n",
    "* Dictionaries treat keys as identical if their ```__eq__``` comparison\n",
    "result says they’re equal and their hash values are the same.\n",
    "\n",
    "* Unexpected dictionary key collisions can and will lead to surprising results."
   ]
  },
  {
   "cell_type": "code",
   "execution_count": 24,
   "metadata": {
    "ExecuteTime": {
     "end_time": "2019-09-04T04:24:31.413080Z",
     "start_time": "2019-09-04T04:24:31.406248Z"
    },
    "hidden": true
   },
   "outputs": [
    {
     "data": {
      "text/plain": [
       "{True: 'maybe'}"
      ]
     },
     "execution_count": 24,
     "metadata": {},
     "output_type": "execute_result"
    }
   ],
   "source": [
    "{True: 'yes', 1: 'no', 1.0: 'maybe'}"
   ]
  },
  {
   "cell_type": "code",
   "execution_count": 26,
   "metadata": {
    "ExecuteTime": {
     "end_time": "2019-09-04T04:25:57.358678Z",
     "start_time": "2019-09-04T04:25:57.351843Z"
    },
    "hidden": true
   },
   "outputs": [
    {
     "data": {
      "text/plain": [
       "{True: 'maybe'}"
      ]
     },
     "execution_count": 26,
     "metadata": {},
     "output_type": "execute_result"
    }
   ],
   "source": [
    "# Therefore, when we break it down, our dict expression is equivalent\n",
    "# to this sequence of statements that are executed in order:\n",
    "xs = dict()\n",
    "xs[True] = 'yes'\n",
    "xs[1] = 'no'\n",
    "xs[1.0] = 'maybe'\n",
    "xs"
   ]
  },
  {
   "cell_type": "code",
   "execution_count": 27,
   "metadata": {
    "ExecuteTime": {
     "end_time": "2019-09-04T04:27:27.917650Z",
     "start_time": "2019-09-04T04:27:27.910817Z"
    },
    "hidden": true
   },
   "outputs": [
    {
     "data": {
      "text/plain": [
       "True"
      ]
     },
     "execution_count": 27,
     "metadata": {},
     "output_type": "execute_result"
    }
   ],
   "source": [
    "# Oddly enough, Python considers all dictionary keys used in this exam-\n",
    "# ple to be equal:\n",
    "True == 1 == 1.0"
   ]
  },
  {
   "cell_type": "code",
   "execution_count": 29,
   "metadata": {
    "ExecuteTime": {
     "end_time": "2019-09-04T04:37:43.527035Z",
     "start_time": "2019-09-04T04:37:43.519225Z"
    },
    "hidden": true
   },
   "outputs": [
    {
     "data": {
      "text/plain": [
       "{1.0: 'yes'}"
      ]
     },
     "execution_count": 29,
     "metadata": {},
     "output_type": "execute_result"
    }
   ],
   "source": [
    "# Python’s dictionaries don’t update the key object itself\n",
    "# when a new value is associated with it:\n",
    "\n",
    "ys = {1.0: 'no'}\n",
    "ys[True] = 'yes'\n",
    "ys"
   ]
  },
  {
   "cell_type": "markdown",
   "metadata": {
    "hidden": true
   },
   "source": [
    "Of course this makes sense as a performance optimization—if the keys\n",
    "are considered identical, then why spend time updating the original?\n",
    "\n",
    "In the last example you saw that the initial True object is never replaced as the key. Therefore, the dictionary’s string representation still prints the key as True (instead of 1 or 1.0.)\n",
    "\n",
    "With what we know now, it looks like the values in the resulting dict are getting overwritten only because they compare as equal. However, it turns out that this effect isn’t caused by the ```__eq__``` equality check alone, either.\n",
    "\n",
    "Python dictionaries are backed by a hash table data structure. <font color = 'lightgrey'>When I first saw this surprising dictionary expression, my hunch was that this behavior had something to do with hash collisions. You see, a hash table internally stores the keys it contains in different “buckets” according to each key’s hash value. The hash value is derived from the key as a numeric value of a fixed length that uniquely identifies the key. This allows for fast lookups. It’s much quicker to search for a key’s numeric hash value in a lookup table instead of comparing the full key object against all other keys and checking for equality</font>. \n",
    "\n",
    "<font color = 'red'>However, the way hash values are typically calculated isn’t perfect. And eventually, two or more keys that are actually different will have the same derived hash value, and they will end up in the same lookup table bucket</font>.\n",
    "\n",
    "<font color = 'red'>If two keys have the same hash value, that’s called a hash collision</font>, and it’s a special case that the hash table’s algorithms for inserting and finding elements need to handle. Based on that assessment, it’s fairly likely that hashing has something to do with the surprising result we got from our dictionary expression. So let’s find out if the keys’ hash values also play a role here. I’m defining the following class as our little detective tool:"
   ]
  },
  {
   "cell_type": "markdown",
   "metadata": {
    "hidden": true
   },
   "source": [
    "**<font color = 'purple'>Dictionaries check for equality and compare the hash value to determine if two keys are the same. Let’s try and summarize the findings of our investigation </font>**:\n",
    "\n",
    "<font color = 'blue'>The ```{True: 'yes', 1: 'no', 1.0: 'maybe'}``` dictionary expression evaluates to ```{True: 'maybe'}``` because the keys ```True```,```1```, and ```1.0``` all compare as equal, and they all have the same hash value:</font>"
   ]
  },
  {
   "cell_type": "code",
   "execution_count": 33,
   "metadata": {
    "ExecuteTime": {
     "end_time": "2019-09-04T05:03:38.841291Z",
     "start_time": "2019-09-04T05:03:38.834456Z"
    },
    "hidden": true
   },
   "outputs": [
    {
     "data": {
      "text/plain": [
       "True"
      ]
     },
     "execution_count": 33,
     "metadata": {},
     "output_type": "execute_result"
    }
   ],
   "source": [
    "True == 1 == 1.0\n",
    "# True"
   ]
  },
  {
   "cell_type": "code",
   "execution_count": 34,
   "metadata": {
    "ExecuteTime": {
     "end_time": "2019-09-04T05:03:42.071950Z",
     "start_time": "2019-09-04T05:03:42.064142Z"
    },
    "hidden": true
   },
   "outputs": [
    {
     "data": {
      "text/plain": [
       "(1, 1, 1)"
      ]
     },
     "execution_count": 34,
     "metadata": {},
     "output_type": "execute_result"
    }
   ],
   "source": [
    "(hash(True), hash(1), hash(1.0))\n",
    "# (1, 1, 1)"
   ]
  },
  {
   "cell_type": "code",
   "execution_count": 35,
   "metadata": {
    "ExecuteTime": {
     "end_time": "2019-09-04T05:04:02.143801Z",
     "start_time": "2019-09-04T05:04:02.137944Z"
    },
    "hidden": true
   },
   "outputs": [
    {
     "data": {
      "text/plain": [
       "True"
      ]
     },
     "execution_count": 35,
     "metadata": {},
     "output_type": "execute_result"
    }
   ],
   "source": [
    "hash(True) == hash(1) == hash(1.0)"
   ]
  },
  {
   "cell_type": "markdown",
   "metadata": {
    "heading_collapsed": true
   },
   "source": [
    "## So Many Ways to Merge Dictionaries"
   ]
  },
  {
   "cell_type": "markdown",
   "metadata": {
    "hidden": true
   },
   "source": [
    "<font color = 'green'>**Key Takeaways**</font>\n",
    "* In Python 3.5 and above you can use the **-operator to merge\n",
    "multiple dictionary objects into one with a single expression,\n",
    "overwriting existing keys left-to-right.\n",
    "* To stay compatible with older versions of Python, you might\n",
    "want to use the built-in dictionary update() method instead."
   ]
  },
  {
   "cell_type": "code",
   "execution_count": 36,
   "metadata": {
    "ExecuteTime": {
     "end_time": "2019-09-04T05:34:15.839573Z",
     "start_time": "2019-09-04T05:34:15.834691Z"
    },
    "hidden": true
   },
   "outputs": [],
   "source": [
    "xs = {'a': 1, 'b': 2}\n",
    "ys = {'b': 3, 'c': 4}"
   ]
  },
  {
   "cell_type": "markdown",
   "metadata": {
    "hidden": true
   },
   "source": [
    "**<font color = 'purple'>The classical solution for the “merging multiple dictionaries” problem in Python is to use the built-in dictionary update() method: </font>**"
   ]
  },
  {
   "cell_type": "code",
   "execution_count": 38,
   "metadata": {
    "ExecuteTime": {
     "end_time": "2019-09-04T05:40:27.913294Z",
     "start_time": "2019-09-04T05:40:27.905484Z"
    },
    "hidden": true
   },
   "outputs": [
    {
     "data": {
      "text/plain": [
       "{'a': 1, 'b': 3, 'c': 4}"
      ]
     },
     "execution_count": 38,
     "metadata": {},
     "output_type": "execute_result"
    }
   ],
   "source": [
    "zs = {}\n",
    "zs.update(xs)\n",
    "zs.update(ys)\n",
    "zs"
   ]
  },
  {
   "cell_type": "raw",
   "metadata": {
    "ExecuteTime": {
     "end_time": "2019-09-04T05:41:41.408127Z",
     "start_time": "2019-09-04T05:41:41.402272Z"
    },
    "hidden": true
   },
   "source": [
    "# If you’re curious, a naive implementation of update() might look\n",
    "# something like this. We simply iterate over all of the items of\n",
    "# the right-hand side dictionary and add each key/value pair to the\n",
    "# left-hand side dictionary, overwriting existing keys as we go along:\n",
    "\n",
    "def update(dict1, dict2):\n",
    "    for key, value in dict2.items():\n",
    "        dict1[key] = value"
   ]
  },
  {
   "cell_type": "markdown",
   "metadata": {
    "hidden": true
   },
   "source": [
    "You’ll also see that <font color = 'blue'>the order in which we call ```update()``` determines how conflicts are resolved</font>. The last update wins and the duplicate key 'b' is associated with the value 3 that came from ys, the second source dictionary."
   ]
  },
  {
   "cell_type": "markdown",
   "metadata": {
    "hidden": true
   },
   "source": [
    "<font color = 'purple'>Another technique that works in Python 2 and Python 3 uses the ```dict()``` built-in combined with the ```**```-operator for “unpacking” objects: </font>"
   ]
  },
  {
   "cell_type": "code",
   "execution_count": 41,
   "metadata": {
    "ExecuteTime": {
     "end_time": "2019-09-04T06:06:20.487685Z",
     "start_time": "2019-09-04T06:06:20.479875Z"
    },
    "hidden": true
   },
   "outputs": [
    {
     "data": {
      "text/plain": [
       "{'a': 1, 'b': 3, 'c': 4}"
      ]
     },
     "execution_count": 41,
     "metadata": {},
     "output_type": "execute_result"
    }
   ],
   "source": [
    "zs = dict(xs, **ys)\n",
    "zs\n",
    "# {'a': 1, 'c': 4, 'b': 3}"
   ]
  },
  {
   "cell_type": "markdown",
   "metadata": {
    "hidden": true
   },
   "source": [
    "<font color = 'red'>However, just like making repeated ```update()``` calls, this approach only works for merging two dictionaries and cannot be generalized to combine an arbitrary number of dictionaries in one step.</font>"
   ]
  },
  {
   "cell_type": "code",
   "execution_count": 44,
   "metadata": {
    "ExecuteTime": {
     "end_time": "2019-09-04T06:13:27.689730Z",
     "start_time": "2019-09-04T06:13:27.681919Z"
    },
    "hidden": true
   },
   "outputs": [
    {
     "data": {
      "text/plain": [
       "{'a': 1, 'b': 3, 'c': 4}"
      ]
     },
     "execution_count": 44,
     "metadata": {},
     "output_type": "execute_result"
    }
   ],
   "source": [
    "# Starting with Python 3.5, the **-operator became more flexible.4 So\n",
    "# in Python 3.5+ there’s another—and arguably prettier—way to merge\n",
    "# an arbitrary number of dictionaries:\n",
    "zs = {**xs, **ys}\n",
    "\n",
    "zs"
   ]
  },
  {
   "cell_type": "markdown",
   "metadata": {
    "hidden": true
   },
   "source": [
    "<font color = 'red'>This expression has the exact same result as a chain of ```update()``` calls. Keys and values are set in a left-to-right order, so we get the same conflict resolution strategy</font>: the right-hand side takes priority, and a value in ys overrides any existing value under the same key in xs."
   ]
  },
  {
   "cell_type": "markdown",
   "metadata": {
    "heading_collapsed": true
   },
   "source": [
    "## Dictionary Pretty-Printing"
   ]
  },
  {
   "cell_type": "code",
   "execution_count": 45,
   "metadata": {
    "ExecuteTime": {
     "end_time": "2019-09-04T06:40:38.189034Z",
     "start_time": "2019-09-04T06:40:38.181225Z"
    },
    "hidden": true
   },
   "outputs": [
    {
     "data": {
      "text/plain": [
       "\"{'a': 23, 'b': 42, 'c': 12648430}\""
      ]
     },
     "execution_count": 45,
     "metadata": {},
     "output_type": "execute_result"
    }
   ],
   "source": [
    "mapping = {'a': 23, 'b': 42, 'c': 0xc0ffee}\n",
    "str(mapping)"
   ]
  },
  {
   "cell_type": "code",
   "execution_count": 47,
   "metadata": {
    "ExecuteTime": {
     "end_time": "2019-09-04T06:41:25.256966Z",
     "start_time": "2019-09-04T06:41:25.251109Z"
    },
    "hidden": true
   },
   "outputs": [
    {
     "name": "stdout",
     "output_type": "stream",
     "text": [
      "{\n",
      "    \"a\": 23,\n",
      "    \"b\": 42,\n",
      "    \"c\": 12648430\n",
      "}\n"
     ]
    }
   ],
   "source": [
    "import json\n",
    "print(json.dumps(mapping, indent=4, sort_keys=True))"
   ]
  },
  {
   "cell_type": "code",
   "execution_count": 56,
   "metadata": {
    "ExecuteTime": {
     "end_time": "2019-09-04T06:44:47.682361Z",
     "start_time": "2019-09-04T06:44:47.677479Z"
    },
    "hidden": true
   },
   "outputs": [
    {
     "name": "stdout",
     "output_type": "stream",
     "text": [
      "{'a': 23, 'b': 42, 'c': 12648430}\n"
     ]
    }
   ],
   "source": [
    "import pprint\n",
    "pprint.pprint(mapping)"
   ]
  },
  {
   "cell_type": "markdown",
   "metadata": {},
   "source": [
    "# Productivity Techniques"
   ]
  },
  {
   "cell_type": "markdown",
   "metadata": {},
   "source": [
    "## Exploring Python Modules and Objects"
   ]
  },
  {
   "cell_type": "code",
   "execution_count": 57,
   "metadata": {
    "ExecuteTime": {
     "end_time": "2019-09-04T06:46:15.590066Z",
     "start_time": "2019-09-04T06:46:15.583232Z"
    }
   },
   "outputs": [
    {
     "data": {
      "text/plain": [
       "['MAXYEAR',\n",
       " 'MINYEAR',\n",
       " '__builtins__',\n",
       " '__cached__',\n",
       " '__doc__',\n",
       " '__file__',\n",
       " '__loader__',\n",
       " '__name__',\n",
       " '__package__',\n",
       " '__spec__',\n",
       " 'date',\n",
       " 'datetime',\n",
       " 'datetime_CAPI',\n",
       " 'sys',\n",
       " 'time',\n",
       " 'timedelta',\n",
       " 'timezone',\n",
       " 'tzinfo']"
      ]
     },
     "execution_count": 57,
     "metadata": {},
     "output_type": "execute_result"
    }
   ],
   "source": [
    "import datetime\n",
    "dir(datetime)"
   ]
  },
  {
   "cell_type": "code",
   "execution_count": 58,
   "metadata": {
    "ExecuteTime": {
     "end_time": "2019-09-04T06:46:45.509778Z",
     "start_time": "2019-09-04T06:46:45.500994Z"
    },
    "collapsed": true
   },
   "outputs": [
    {
     "data": {
      "text/plain": [
       "['date', 'datetime', 'datetime_CAPI']"
      ]
     },
     "execution_count": 58,
     "metadata": {},
     "output_type": "execute_result"
    }
   ],
   "source": [
    "[_ for _ in dir(datetime) if 'date' in _.lower()]"
   ]
  },
  {
   "cell_type": "code",
   "execution_count": 63,
   "metadata": {
    "ExecuteTime": {
     "end_time": "2019-09-04T06:50:33.823942Z",
     "start_time": "2019-09-04T06:50:33.814179Z"
    }
   },
   "outputs": [
    {
     "data": {
      "text/plain": [
       "['date',\n",
       " 'datetime',\n",
       " 'datetime_CAPI',\n",
       " 'sys',\n",
       " 'time',\n",
       " 'timedelta',\n",
       " 'timezone',\n",
       " 'tzinfo']"
      ]
     },
     "execution_count": 63,
     "metadata": {},
     "output_type": "execute_result"
    }
   ],
   "source": [
    " "
   ]
  },
  {
   "cell_type": "code",
   "execution_count": 59,
   "metadata": {
    "ExecuteTime": {
     "end_time": "2019-09-04T06:47:22.797635Z",
     "start_time": "2019-09-04T06:47:22.790801Z"
    },
    "collapsed": true
   },
   "outputs": [
    {
     "data": {
      "text/plain": [
       "['__builtins__',\n",
       " '__cached__',\n",
       " '__doc__',\n",
       " '__file__',\n",
       " '__loader__',\n",
       " '__name__',\n",
       " '__package__',\n",
       " '__spec__']"
      ]
     },
     "execution_count": 59,
     "metadata": {},
     "output_type": "execute_result"
    }
   ],
   "source": [
    "[_ for _ in dir(datetime) if '__' in _.lower()]"
   ]
  },
  {
   "cell_type": "code",
   "execution_count": 60,
   "metadata": {
    "ExecuteTime": {
     "end_time": "2019-09-04T06:48:10.843165Z",
     "start_time": "2019-09-04T06:48:10.836333Z"
    },
    "scrolled": true
   },
   "outputs": [
    {
     "data": {
      "text/plain": [
       "['MAXYEAR', 'MINYEAR']"
      ]
     },
     "execution_count": 60,
     "metadata": {},
     "output_type": "execute_result"
    }
   ],
   "source": [
    "[_ for _ in dir(datetime) if _.upper() == _]"
   ]
  },
  {
   "cell_type": "code",
   "execution_count": 64,
   "metadata": {
    "ExecuteTime": {
     "end_time": "2019-09-04T06:51:38.773587Z",
     "start_time": "2019-09-04T06:51:38.716964Z"
    },
    "collapsed": true
   },
   "outputs": [
    {
     "name": "stdout",
     "output_type": "stream",
     "text": [
      "Help on module datetime:\n",
      "\n",
      "NAME\n",
      "    datetime - Fast implementation of the datetime type.\n",
      "\n",
      "CLASSES\n",
      "    builtins.object\n",
      "        date\n",
      "            datetime\n",
      "        time\n",
      "        timedelta\n",
      "        tzinfo\n",
      "            timezone\n",
      "    \n",
      "    class date(builtins.object)\n",
      "     |  date(year, month, day) --> date object\n",
      "     |  \n",
      "     |  Methods defined here:\n",
      "     |  \n",
      "     |  __add__(self, value, /)\n",
      "     |      Return self+value.\n",
      "     |  \n",
      "     |  __eq__(self, value, /)\n",
      "     |      Return self==value.\n",
      "     |  \n",
      "     |  __format__(...)\n",
      "     |      Formats self with strftime.\n",
      "     |  \n",
      "     |  __ge__(self, value, /)\n",
      "     |      Return self>=value.\n",
      "     |  \n",
      "     |  __getattribute__(self, name, /)\n",
      "     |      Return getattr(self, name).\n",
      "     |  \n",
      "     |  __gt__(self, value, /)\n",
      "     |      Return self>value.\n",
      "     |  \n",
      "     |  __hash__(self, /)\n",
      "     |      Return hash(self).\n",
      "     |  \n",
      "     |  __le__(self, value, /)\n",
      "     |      Return self<=value.\n",
      "     |  \n",
      "     |  __lt__(self, value, /)\n",
      "     |      Return self<value.\n",
      "     |  \n",
      "     |  __ne__(self, value, /)\n",
      "     |      Return self!=value.\n",
      "     |  \n",
      "     |  __radd__(self, value, /)\n",
      "     |      Return value+self.\n",
      "     |  \n",
      "     |  __reduce__(...)\n",
      "     |      __reduce__() -> (cls, state)\n",
      "     |  \n",
      "     |  __repr__(self, /)\n",
      "     |      Return repr(self).\n",
      "     |  \n",
      "     |  __rsub__(self, value, /)\n",
      "     |      Return value-self.\n",
      "     |  \n",
      "     |  __str__(self, /)\n",
      "     |      Return str(self).\n",
      "     |  \n",
      "     |  __sub__(self, value, /)\n",
      "     |      Return self-value.\n",
      "     |  \n",
      "     |  ctime(...)\n",
      "     |      Return ctime() style string.\n",
      "     |  \n",
      "     |  isocalendar(...)\n",
      "     |      Return a 3-tuple containing ISO year, week number, and weekday.\n",
      "     |  \n",
      "     |  isoformat(...)\n",
      "     |      Return string in ISO 8601 format, YYYY-MM-DD.\n",
      "     |  \n",
      "     |  isoweekday(...)\n",
      "     |      Return the day of the week represented by the date.\n",
      "     |      Monday == 1 ... Sunday == 7\n",
      "     |  \n",
      "     |  replace(...)\n",
      "     |      Return date with new specified fields.\n",
      "     |  \n",
      "     |  strftime(...)\n",
      "     |      format -> strftime() style string.\n",
      "     |  \n",
      "     |  timetuple(...)\n",
      "     |      Return time tuple, compatible with time.localtime().\n",
      "     |  \n",
      "     |  toordinal(...)\n",
      "     |      Return proleptic Gregorian ordinal.  January 1 of year 1 is day 1.\n",
      "     |  \n",
      "     |  weekday(...)\n",
      "     |      Return the day of the week represented by the date.\n",
      "     |      Monday == 0 ... Sunday == 6\n",
      "     |  \n",
      "     |  ----------------------------------------------------------------------\n",
      "     |  Class methods defined here:\n",
      "     |  \n",
      "     |  fromisoformat(...) from builtins.type\n",
      "     |      str -> Construct a date from the output of date.isoformat()\n",
      "     |  \n",
      "     |  fromordinal(...) from builtins.type\n",
      "     |      int -> date corresponding to a proleptic Gregorian ordinal.\n",
      "     |  \n",
      "     |  fromtimestamp(...) from builtins.type\n",
      "     |      timestamp -> local date from a POSIX timestamp (like time.time()).\n",
      "     |  \n",
      "     |  today(...) from builtins.type\n",
      "     |      Current date or datetime:  same as self.__class__.fromtimestamp(time.time()).\n",
      "     |  \n",
      "     |  ----------------------------------------------------------------------\n",
      "     |  Static methods defined here:\n",
      "     |  \n",
      "     |  __new__(*args, **kwargs) from builtins.type\n",
      "     |      Create and return a new object.  See help(type) for accurate signature.\n",
      "     |  \n",
      "     |  ----------------------------------------------------------------------\n",
      "     |  Data descriptors defined here:\n",
      "     |  \n",
      "     |  day\n",
      "     |  \n",
      "     |  month\n",
      "     |  \n",
      "     |  year\n",
      "     |  \n",
      "     |  ----------------------------------------------------------------------\n",
      "     |  Data and other attributes defined here:\n",
      "     |  \n",
      "     |  max = datetime.date(9999, 12, 31)\n",
      "     |  \n",
      "     |  min = datetime.date(1, 1, 1)\n",
      "     |  \n",
      "     |  resolution = datetime.timedelta(days=1)\n",
      "    \n",
      "    class datetime(date)\n",
      "     |  datetime(year, month, day[, hour[, minute[, second[, microsecond[,tzinfo]]]]])\n",
      "     |  \n",
      "     |  The year, month and day arguments are required. tzinfo may be None, or an\n",
      "     |  instance of a tzinfo subclass. The remaining arguments may be ints.\n",
      "     |  \n",
      "     |  Method resolution order:\n",
      "     |      datetime\n",
      "     |      date\n",
      "     |      builtins.object\n",
      "     |  \n",
      "     |  Methods defined here:\n",
      "     |  \n",
      "     |  __add__(self, value, /)\n",
      "     |      Return self+value.\n",
      "     |  \n",
      "     |  __eq__(self, value, /)\n",
      "     |      Return self==value.\n",
      "     |  \n",
      "     |  __ge__(self, value, /)\n",
      "     |      Return self>=value.\n",
      "     |  \n",
      "     |  __getattribute__(self, name, /)\n",
      "     |      Return getattr(self, name).\n",
      "     |  \n",
      "     |  __gt__(self, value, /)\n",
      "     |      Return self>value.\n",
      "     |  \n",
      "     |  __hash__(self, /)\n",
      "     |      Return hash(self).\n",
      "     |  \n",
      "     |  __le__(self, value, /)\n",
      "     |      Return self<=value.\n",
      "     |  \n",
      "     |  __lt__(self, value, /)\n",
      "     |      Return self<value.\n",
      "     |  \n",
      "     |  __ne__(self, value, /)\n",
      "     |      Return self!=value.\n",
      "     |  \n",
      "     |  __radd__(self, value, /)\n",
      "     |      Return value+self.\n",
      "     |  \n",
      "     |  __reduce__(...)\n",
      "     |      __reduce__() -> (cls, state)\n",
      "     |  \n",
      "     |  __reduce_ex__(...)\n",
      "     |      __reduce_ex__(proto) -> (cls, state)\n",
      "     |  \n",
      "     |  __repr__(self, /)\n",
      "     |      Return repr(self).\n",
      "     |  \n",
      "     |  __rsub__(self, value, /)\n",
      "     |      Return value-self.\n",
      "     |  \n",
      "     |  __str__(self, /)\n",
      "     |      Return str(self).\n",
      "     |  \n",
      "     |  __sub__(self, value, /)\n",
      "     |      Return self-value.\n",
      "     |  \n",
      "     |  astimezone(...)\n",
      "     |      tz -> convert to local time in new timezone tz\n",
      "     |  \n",
      "     |  ctime(...)\n",
      "     |      Return ctime() style string.\n",
      "     |  \n",
      "     |  date(...)\n",
      "     |      Return date object with same year, month and day.\n",
      "     |  \n",
      "     |  dst(...)\n",
      "     |      Return self.tzinfo.dst(self).\n",
      "     |  \n",
      "     |  isoformat(...)\n",
      "     |      [sep] -> string in ISO 8601 format, YYYY-MM-DDT[HH[:MM[:SS[.mmm[uuu]]]]][+HH:MM].\n",
      "     |      sep is used to separate the year from the time, and defaults to 'T'.\n",
      "     |      timespec specifies what components of the time to include (allowed values are 'auto', 'hours', 'minutes', 'seconds', 'milliseconds', and 'microseconds').\n",
      "     |  \n",
      "     |  replace(...)\n",
      "     |      Return datetime with new specified fields.\n",
      "     |  \n",
      "     |  time(...)\n",
      "     |      Return time object with same time but with tzinfo=None.\n",
      "     |  \n",
      "     |  timestamp(...)\n",
      "     |      Return POSIX timestamp as float.\n",
      "     |  \n",
      "     |  timetuple(...)\n",
      "     |      Return time tuple, compatible with time.localtime().\n",
      "     |  \n",
      "     |  timetz(...)\n",
      "     |      Return time object with same time and tzinfo.\n",
      "     |  \n",
      "     |  tzname(...)\n",
      "     |      Return self.tzinfo.tzname(self).\n",
      "     |  \n",
      "     |  utcoffset(...)\n",
      "     |      Return self.tzinfo.utcoffset(self).\n",
      "     |  \n",
      "     |  utctimetuple(...)\n",
      "     |      Return UTC time tuple, compatible with time.localtime().\n",
      "     |  \n",
      "     |  ----------------------------------------------------------------------\n",
      "     |  Class methods defined here:\n",
      "     |  \n",
      "     |  combine(...) from builtins.type\n",
      "     |      date, time -> datetime with same date and time fields\n",
      "     |  \n",
      "     |  fromisoformat(...) from builtins.type\n",
      "     |      string -> datetime from datetime.isoformat() output\n",
      "     |  \n",
      "     |  fromtimestamp(...) from builtins.type\n",
      "     |      timestamp[, tz] -> tz's local time from POSIX timestamp.\n",
      "     |  \n",
      "     |  now(tz=None) from builtins.type\n",
      "     |      Returns new datetime object representing current time local to tz.\n",
      "     |      \n",
      "     |        tz\n",
      "     |          Timezone object.\n",
      "     |      \n",
      "     |      If no tz is specified, uses local timezone.\n",
      "     |  \n",
      "     |  strptime(...) from builtins.type\n",
      "     |      string, format -> new datetime parsed from a string (like time.strptime()).\n",
      "     |  \n",
      "     |  utcfromtimestamp(...) from builtins.type\n",
      "     |      Construct a naive UTC datetime from a POSIX timestamp.\n",
      "     |  \n",
      "     |  utcnow(...) from builtins.type\n",
      "     |      Return a new datetime representing UTC day and time.\n",
      "     |  \n",
      "     |  ----------------------------------------------------------------------\n",
      "     |  Static methods defined here:\n",
      "     |  \n",
      "     |  __new__(*args, **kwargs) from builtins.type\n",
      "     |      Create and return a new object.  See help(type) for accurate signature.\n",
      "     |  \n",
      "     |  ----------------------------------------------------------------------\n",
      "     |  Data descriptors defined here:\n",
      "     |  \n",
      "     |  fold\n",
      "     |  \n",
      "     |  hour\n",
      "     |  \n",
      "     |  microsecond\n",
      "     |  \n",
      "     |  minute\n",
      "     |  \n",
      "     |  second\n",
      "     |  \n",
      "     |  tzinfo\n",
      "     |  \n",
      "     |  ----------------------------------------------------------------------\n",
      "     |  Data and other attributes defined here:\n",
      "     |  \n",
      "     |  max = datetime.datetime(9999, 12, 31, 23, 59, 59, 999999)\n",
      "     |  \n",
      "     |  min = datetime.datetime(1, 1, 1, 0, 0)\n",
      "     |  \n",
      "     |  resolution = datetime.timedelta(microseconds=1)\n",
      "     |  \n",
      "     |  ----------------------------------------------------------------------\n",
      "     |  Methods inherited from date:\n",
      "     |  \n",
      "     |  __format__(...)\n",
      "     |      Formats self with strftime.\n",
      "     |  \n",
      "     |  isocalendar(...)\n",
      "     |      Return a 3-tuple containing ISO year, week number, and weekday.\n",
      "     |  \n",
      "     |  isoweekday(...)\n",
      "     |      Return the day of the week represented by the date.\n",
      "     |      Monday == 1 ... Sunday == 7\n",
      "     |  \n",
      "     |  strftime(...)\n",
      "     |      format -> strftime() style string.\n",
      "     |  \n",
      "     |  toordinal(...)\n",
      "     |      Return proleptic Gregorian ordinal.  January 1 of year 1 is day 1.\n",
      "     |  \n",
      "     |  weekday(...)\n",
      "     |      Return the day of the week represented by the date.\n",
      "     |      Monday == 0 ... Sunday == 6\n",
      "     |  \n",
      "     |  ----------------------------------------------------------------------\n",
      "     |  Class methods inherited from date:\n",
      "     |  \n",
      "     |  fromordinal(...) from builtins.type\n",
      "     |      int -> date corresponding to a proleptic Gregorian ordinal.\n",
      "     |  \n",
      "     |  today(...) from builtins.type\n",
      "     |      Current date or datetime:  same as self.__class__.fromtimestamp(time.time()).\n",
      "     |  \n",
      "     |  ----------------------------------------------------------------------\n",
      "     |  Data descriptors inherited from date:\n",
      "     |  \n",
      "     |  day\n",
      "     |  \n",
      "     |  month\n",
      "     |  \n",
      "     |  year\n",
      "    \n",
      "    class time(builtins.object)\n",
      "     |  time([hour[, minute[, second[, microsecond[, tzinfo]]]]]) --> a time object\n",
      "     |  \n",
      "     |  All arguments are optional. tzinfo may be None, or an instance of\n",
      "     |  a tzinfo subclass. The remaining arguments may be ints.\n",
      "     |  \n",
      "     |  Methods defined here:\n",
      "     |  \n",
      "     |  __eq__(self, value, /)\n",
      "     |      Return self==value.\n",
      "     |  \n",
      "     |  __format__(...)\n",
      "     |      Formats self with strftime.\n",
      "     |  \n",
      "     |  __ge__(self, value, /)\n",
      "     |      Return self>=value.\n",
      "     |  \n",
      "     |  __getattribute__(self, name, /)\n",
      "     |      Return getattr(self, name).\n",
      "     |  \n",
      "     |  __gt__(self, value, /)\n",
      "     |      Return self>value.\n",
      "     |  \n",
      "     |  __hash__(self, /)\n",
      "     |      Return hash(self).\n",
      "     |  \n",
      "     |  __le__(self, value, /)\n",
      "     |      Return self<=value.\n",
      "     |  \n",
      "     |  __lt__(self, value, /)\n",
      "     |      Return self<value.\n",
      "     |  \n",
      "     |  __ne__(self, value, /)\n",
      "     |      Return self!=value.\n",
      "     |  \n",
      "     |  __reduce__(...)\n",
      "     |      __reduce__() -> (cls, state)\n",
      "     |  \n",
      "     |  __reduce_ex__(...)\n",
      "     |      __reduce_ex__(proto) -> (cls, state)\n",
      "     |  \n",
      "     |  __repr__(self, /)\n",
      "     |      Return repr(self).\n",
      "     |  \n",
      "     |  __str__(self, /)\n",
      "     |      Return str(self).\n",
      "     |  \n",
      "     |  dst(...)\n",
      "     |      Return self.tzinfo.dst(self).\n",
      "     |  \n",
      "     |  isoformat(...)\n",
      "     |      Return string in ISO 8601 format, [HH[:MM[:SS[.mmm[uuu]]]]][+HH:MM].\n",
      "     |      \n",
      "     |      timespec specifies what components of the time to include.\n",
      "     |  \n",
      "     |  replace(...)\n",
      "     |      Return time with new specified fields.\n",
      "     |  \n",
      "     |  strftime(...)\n",
      "     |      format -> strftime() style string.\n",
      "     |  \n",
      "     |  tzname(...)\n",
      "     |      Return self.tzinfo.tzname(self).\n",
      "     |  \n",
      "     |  utcoffset(...)\n",
      "     |      Return self.tzinfo.utcoffset(self).\n",
      "     |  \n",
      "     |  ----------------------------------------------------------------------\n",
      "     |  Class methods defined here:\n",
      "     |  \n",
      "     |  fromisoformat(...) from builtins.type\n",
      "     |      string -> time from time.isoformat() output\n",
      "     |  \n",
      "     |  ----------------------------------------------------------------------\n",
      "     |  Static methods defined here:\n",
      "     |  \n",
      "     |  __new__(*args, **kwargs) from builtins.type\n",
      "     |      Create and return a new object.  See help(type) for accurate signature.\n",
      "     |  \n",
      "     |  ----------------------------------------------------------------------\n",
      "     |  Data descriptors defined here:\n",
      "     |  \n",
      "     |  fold\n",
      "     |  \n",
      "     |  hour\n",
      "     |  \n",
      "     |  microsecond\n",
      "     |  \n",
      "     |  minute\n",
      "     |  \n",
      "     |  second\n",
      "     |  \n",
      "     |  tzinfo\n",
      "     |  \n",
      "     |  ----------------------------------------------------------------------\n",
      "     |  Data and other attributes defined here:\n",
      "     |  \n",
      "     |  max = datetime.time(23, 59, 59, 999999)\n",
      "     |  \n",
      "     |  min = datetime.time(0, 0)\n",
      "     |  \n",
      "     |  resolution = datetime.timedelta(microseconds=1)\n",
      "    \n",
      "    class timedelta(builtins.object)\n",
      "     |  Difference between two datetime values.\n",
      "     |  \n",
      "     |  Methods defined here:\n",
      "     |  \n",
      "     |  __abs__(self, /)\n",
      "     |      abs(self)\n",
      "     |  \n",
      "     |  __add__(self, value, /)\n",
      "     |      Return self+value.\n",
      "     |  \n",
      "     |  __bool__(self, /)\n",
      "     |      self != 0\n",
      "     |  \n",
      "     |  __divmod__(self, value, /)\n",
      "     |      Return divmod(self, value).\n",
      "     |  \n",
      "     |  __eq__(self, value, /)\n",
      "     |      Return self==value.\n",
      "     |  \n",
      "     |  __floordiv__(self, value, /)\n",
      "     |      Return self//value.\n",
      "     |  \n",
      "     |  __ge__(self, value, /)\n",
      "     |      Return self>=value.\n",
      "     |  \n",
      "     |  __getattribute__(self, name, /)\n",
      "     |      Return getattr(self, name).\n",
      "     |  \n",
      "     |  __gt__(self, value, /)\n",
      "     |      Return self>value.\n",
      "     |  \n",
      "     |  __hash__(self, /)\n",
      "     |      Return hash(self).\n",
      "     |  \n",
      "     |  __le__(self, value, /)\n",
      "     |      Return self<=value.\n",
      "     |  \n",
      "     |  __lt__(self, value, /)\n",
      "     |      Return self<value.\n",
      "     |  \n",
      "     |  __mod__(self, value, /)\n",
      "     |      Return self%value.\n",
      "     |  \n",
      "     |  __mul__(self, value, /)\n",
      "     |      Return self*value.\n",
      "     |  \n",
      "     |  __ne__(self, value, /)\n",
      "     |      Return self!=value.\n",
      "     |  \n",
      "     |  __neg__(self, /)\n",
      "     |      -self\n",
      "     |  \n",
      "     |  __pos__(self, /)\n",
      "     |      +self\n",
      "     |  \n",
      "     |  __radd__(self, value, /)\n",
      "     |      Return value+self.\n",
      "     |  \n",
      "     |  __rdivmod__(self, value, /)\n",
      "     |      Return divmod(value, self).\n",
      "     |  \n",
      "     |  __reduce__(...)\n",
      "     |      __reduce__() -> (cls, state)\n",
      "     |  \n",
      "     |  __repr__(self, /)\n",
      "     |      Return repr(self).\n",
      "     |  \n",
      "     |  __rfloordiv__(self, value, /)\n",
      "     |      Return value//self.\n",
      "     |  \n",
      "     |  __rmod__(self, value, /)\n",
      "     |      Return value%self.\n",
      "     |  \n",
      "     |  __rmul__(self, value, /)\n",
      "     |      Return value*self.\n",
      "     |  \n",
      "     |  __rsub__(self, value, /)\n",
      "     |      Return value-self.\n",
      "     |  \n",
      "     |  __rtruediv__(self, value, /)\n",
      "     |      Return value/self.\n",
      "     |  \n",
      "     |  __str__(self, /)\n",
      "     |      Return str(self).\n",
      "     |  \n",
      "     |  __sub__(self, value, /)\n",
      "     |      Return self-value.\n",
      "     |  \n",
      "     |  __truediv__(self, value, /)\n",
      "     |      Return self/value.\n",
      "     |  \n",
      "     |  total_seconds(...)\n",
      "     |      Total seconds in the duration.\n",
      "     |  \n",
      "     |  ----------------------------------------------------------------------\n",
      "     |  Static methods defined here:\n",
      "     |  \n",
      "     |  __new__(*args, **kwargs) from builtins.type\n",
      "     |      Create and return a new object.  See help(type) for accurate signature.\n",
      "     |  \n",
      "     |  ----------------------------------------------------------------------\n",
      "     |  Data descriptors defined here:\n",
      "     |  \n",
      "     |  days\n",
      "     |      Number of days.\n",
      "     |  \n",
      "     |  microseconds\n",
      "     |      Number of microseconds (>= 0 and less than 1 second).\n",
      "     |  \n",
      "     |  seconds\n",
      "     |      Number of seconds (>= 0 and less than 1 day).\n",
      "     |  \n",
      "     |  ----------------------------------------------------------------------\n",
      "     |  Data and other attributes defined here:\n",
      "     |  \n",
      "     |  max = datetime.timedelta(days=999999999, seconds=86399, microseconds=9...\n",
      "     |  \n",
      "     |  min = datetime.timedelta(days=-999999999)\n",
      "     |  \n",
      "     |  resolution = datetime.timedelta(microseconds=1)\n",
      "    \n",
      "    class timezone(tzinfo)\n",
      "     |  Fixed offset from UTC implementation of tzinfo.\n",
      "     |  \n",
      "     |  Method resolution order:\n",
      "     |      timezone\n",
      "     |      tzinfo\n",
      "     |      builtins.object\n",
      "     |  \n",
      "     |  Methods defined here:\n",
      "     |  \n",
      "     |  __eq__(self, value, /)\n",
      "     |      Return self==value.\n",
      "     |  \n",
      "     |  __ge__(self, value, /)\n",
      "     |      Return self>=value.\n",
      "     |  \n",
      "     |  __getinitargs__(...)\n",
      "     |      pickle support\n",
      "     |  \n",
      "     |  __gt__(self, value, /)\n",
      "     |      Return self>value.\n",
      "     |  \n",
      "     |  __hash__(self, /)\n",
      "     |      Return hash(self).\n",
      "     |  \n",
      "     |  __le__(self, value, /)\n",
      "     |      Return self<=value.\n",
      "     |  \n",
      "     |  __lt__(self, value, /)\n",
      "     |      Return self<value.\n",
      "     |  \n",
      "     |  __ne__(self, value, /)\n",
      "     |      Return self!=value.\n",
      "     |  \n",
      "     |  __repr__(self, /)\n",
      "     |      Return repr(self).\n",
      "     |  \n",
      "     |  __str__(self, /)\n",
      "     |      Return str(self).\n",
      "     |  \n",
      "     |  dst(...)\n",
      "     |      Return None.\n",
      "     |  \n",
      "     |  fromutc(...)\n",
      "     |      datetime in UTC -> datetime in local time.\n",
      "     |  \n",
      "     |  tzname(...)\n",
      "     |      If name is specified when timezone is created, returns the name.  Otherwise returns offset as 'UTC(+|-)HH:MM'.\n",
      "     |  \n",
      "     |  utcoffset(...)\n",
      "     |      Return fixed offset.\n",
      "     |  \n",
      "     |  ----------------------------------------------------------------------\n",
      "     |  Static methods defined here:\n",
      "     |  \n",
      "     |  __new__(*args, **kwargs) from builtins.type\n",
      "     |      Create and return a new object.  See help(type) for accurate signature.\n",
      "     |  \n",
      "     |  ----------------------------------------------------------------------\n",
      "     |  Data and other attributes defined here:\n",
      "     |  \n",
      "     |  max = datetime.timezone(datetime.timedelta(seconds=86340))\n",
      "     |  \n",
      "     |  min = datetime.timezone(datetime.timedelta(days=-1, seconds=60))\n",
      "     |  \n",
      "     |  utc = datetime.timezone.utc\n",
      "     |  \n",
      "     |  ----------------------------------------------------------------------\n",
      "     |  Methods inherited from tzinfo:\n",
      "     |  \n",
      "     |  __getattribute__(self, name, /)\n",
      "     |      Return getattr(self, name).\n",
      "     |  \n",
      "     |  __reduce__(...)\n",
      "     |      -> (cls, state)\n",
      "    \n",
      "    class tzinfo(builtins.object)\n",
      "     |  Abstract base class for time zone info objects.\n",
      "     |  \n",
      "     |  Methods defined here:\n",
      "     |  \n",
      "     |  __getattribute__(self, name, /)\n",
      "     |      Return getattr(self, name).\n",
      "     |  \n",
      "     |  __reduce__(...)\n",
      "     |      -> (cls, state)\n",
      "     |  \n",
      "     |  dst(...)\n",
      "     |      datetime -> DST offset as timedelta positive east of UTC.\n",
      "     |  \n",
      "     |  fromutc(...)\n",
      "     |      datetime in UTC -> datetime in local time.\n",
      "     |  \n",
      "     |  tzname(...)\n",
      "     |      datetime -> string name of time zone.\n",
      "     |  \n",
      "     |  utcoffset(...)\n",
      "     |      datetime -> timedelta showing offset from UTC, negative values indicating West of UTC\n",
      "     |  \n",
      "     |  ----------------------------------------------------------------------\n",
      "     |  Static methods defined here:\n",
      "     |  \n",
      "     |  __new__(*args, **kwargs) from builtins.type\n",
      "     |      Create and return a new object.  See help(type) for accurate signature.\n",
      "\n",
      "DATA\n",
      "    MAXYEAR = 9999\n",
      "    MINYEAR = 1\n",
      "    datetime_CAPI = <capsule object \"datetime.datetime_CAPI\">\n",
      "\n",
      "FILE\n",
      "    c:\\users\\bings\\anaconda3\\envs\\sep2019\\lib\\datetime.py\n",
      "\n",
      "\n"
     ]
    }
   ],
   "source": [
    "help(datetime)"
   ]
  },
  {
   "cell_type": "code",
   "execution_count": null,
   "metadata": {},
   "outputs": [],
   "source": []
  }
 ],
 "metadata": {
  "hide_input": false,
  "kernelspec": {
   "display_name": "Python 3",
   "language": "python",
   "name": "python3"
  },
  "language_info": {
   "codemirror_mode": {
    "name": "ipython",
    "version": 3
   },
   "file_extension": ".py",
   "mimetype": "text/x-python",
   "name": "python",
   "nbconvert_exporter": "python",
   "pygments_lexer": "ipython3",
   "version": "3.7.1"
  },
  "toc": {
   "base_numbering": 1,
   "nav_menu": {},
   "number_sections": true,
   "sideBar": true,
   "skip_h1_title": false,
   "title_cell": "Table of Contents",
   "title_sidebar": "Contents",
   "toc_cell": true,
   "toc_position": {
    "height": "calc(100% - 180px)",
    "left": "10px",
    "top": "150px",
    "width": "192px"
   },
   "toc_section_display": true,
   "toc_window_display": false
  }
 },
 "nbformat": 4,
 "nbformat_minor": 2
}
