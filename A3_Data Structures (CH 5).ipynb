{
 "cells": [
  {
   "cell_type": "markdown",
   "metadata": {
    "toc": true
   },
   "source": [
    "<h1>Table of Contents<span class=\"tocSkip\"></span></h1>\n",
    "<div class=\"toc\"><ul class=\"toc-item\"><li><span><a href=\"#Common-Data-Structures-in-Python\" data-toc-modified-id=\"Common-Data-Structures-in-Python-1\"><span class=\"toc-item-num\">1&nbsp;&nbsp;</span>Common Data Structures in Python</a></span><ul class=\"toc-item\"><li><span><a href=\"#Dictionaries,-Maps,-and-Hashtables\" data-toc-modified-id=\"Dictionaries,-Maps,-and-Hashtables-1.1\"><span class=\"toc-item-num\">1.1&nbsp;&nbsp;</span>Dictionaries, Maps, and Hashtables</a></span><ul class=\"toc-item\"><li><span><a href=\"#collections.OrderedDict-–-Remember-the-Insertion-Order-of-Keys\" data-toc-modified-id=\"collections.OrderedDict-–-Remember-the-Insertion-Order-of-Keys-1.1.1\"><span class=\"toc-item-num\">1.1.1&nbsp;&nbsp;</span>collections.OrderedDict – Remember the Insertion Order of Keys</a></span></li><li><span><a href=\"#collections.defaultdict-–-Return-Default-Values-for-Missing-Keys\" data-toc-modified-id=\"collections.defaultdict-–-Return-Default-Values-for-Missing-Keys-1.1.2\"><span class=\"toc-item-num\">1.1.2&nbsp;&nbsp;</span>collections.defaultdict – Return Default Values for Missing Keys</a></span></li><li><span><a href=\"#collections.ChainMap-–-Search-Multiple-Dictionaries-as-a-Single-Mapping\" data-toc-modified-id=\"collections.ChainMap-–-Search-Multiple-Dictionaries-as-a-Single-Mapping-1.1.3\"><span class=\"toc-item-num\">1.1.3&nbsp;&nbsp;</span>collections.ChainMap – Search Multiple Dictionaries as a Single Mapping</a></span></li><li><span><a href=\"#types.MappingProxyType-–-A-Wrapper-for-Making-Read-Only-Dictionaries\" data-toc-modified-id=\"types.MappingProxyType-–-A-Wrapper-for-Making-Read-Only-Dictionaries-1.1.4\"><span class=\"toc-item-num\">1.1.4&nbsp;&nbsp;</span>types.MappingProxyType – A Wrapper for Making Read-Only Dictionaries</a></span></li><li><span><a href=\"#Dictionaries-in-Python:-Conclusion\" data-toc-modified-id=\"Dictionaries-in-Python:-Conclusion-1.1.5\"><span class=\"toc-item-num\">1.1.5&nbsp;&nbsp;</span>Dictionaries in Python: Conclusion</a></span></li></ul></li><li><span><a href=\"#Array-Data-Structures\" data-toc-modified-id=\"Array-Data-Structures-1.2\"><span class=\"toc-item-num\">1.2&nbsp;&nbsp;</span>Array Data Structures</a></span><ul class=\"toc-item\"><li><span><a href=\"#list-–-Mutable-Dynamic-Arrays\" data-toc-modified-id=\"list-–-Mutable-Dynamic-Arrays-1.2.1\"><span class=\"toc-item-num\">1.2.1&nbsp;&nbsp;</span>list – Mutable Dynamic Arrays</a></span></li><li><span><a href=\"#tuple-–-Immutable-Containers\" data-toc-modified-id=\"tuple-–-Immutable-Containers-1.2.2\"><span class=\"toc-item-num\">1.2.2&nbsp;&nbsp;</span>tuple – Immutable Containers</a></span></li><li><span><a href=\"#array.array-–-Basic-Typed-Arrays\" data-toc-modified-id=\"array.array-–-Basic-Typed-Arrays-1.2.3\"><span class=\"toc-item-num\">1.2.3&nbsp;&nbsp;</span>array.array – Basic Typed Arrays</a></span></li><li><span><a href=\"#str-–-Immutable-Arrays-of-Unicode-Characters\" data-toc-modified-id=\"str-–-Immutable-Arrays-of-Unicode-Characters-1.2.4\"><span class=\"toc-item-num\">1.2.4&nbsp;&nbsp;</span>str – Immutable Arrays of Unicode Characters</a></span></li><li><span><a href=\"#bytes-–-Immutable-Arrays-of-Single-Bytes\" data-toc-modified-id=\"bytes-–-Immutable-Arrays-of-Single-Bytes-1.2.5\"><span class=\"toc-item-num\">1.2.5&nbsp;&nbsp;</span>bytes – Immutable Arrays of Single Bytes</a></span></li><li><span><a href=\"#bytearray-–-Mutable-Arrays-of-Single-Bytes\" data-toc-modified-id=\"bytearray-–-Mutable-Arrays-of-Single-Bytes-1.2.6\"><span class=\"toc-item-num\">1.2.6&nbsp;&nbsp;</span>bytearray – Mutable Arrays of Single Bytes</a></span></li></ul></li><li><span><a href=\"#Records,-Structs,-and-Data-Transfer-Objects\" data-toc-modified-id=\"Records,-Structs,-and-Data-Transfer-Objects-1.3\"><span class=\"toc-item-num\">1.3&nbsp;&nbsp;</span>Records, Structs, and Data Transfer Objects</a></span><ul class=\"toc-item\"><li><span><a href=\"#dict-–-Simple-Data-Objects\" data-toc-modified-id=\"dict-–-Simple-Data-Objects-1.3.1\"><span class=\"toc-item-num\">1.3.1&nbsp;&nbsp;</span>dict – Simple Data Objects</a></span></li><li><span><a href=\"#tuple-–-Immutable-Groups-of-Objects\" data-toc-modified-id=\"tuple-–-Immutable-Groups-of-Objects-1.3.2\"><span class=\"toc-item-num\">1.3.2&nbsp;&nbsp;</span>tuple – Immutable Groups of Objects</a></span></li><li><span><a href=\"#Writing-a-Custom-Class-–-More-Work,-More-Control\" data-toc-modified-id=\"Writing-a-Custom-Class-–-More-Work,-More-Control-1.3.3\"><span class=\"toc-item-num\">1.3.3&nbsp;&nbsp;</span>Writing a Custom Class – More Work, More Control</a></span></li><li><span><a href=\"#collections.namedtuple-–-Convenient-Data-Objects\" data-toc-modified-id=\"collections.namedtuple-–-Convenient-Data-Objects-1.3.4\"><span class=\"toc-item-num\">1.3.4&nbsp;&nbsp;</span>collections.namedtuple – Convenient Data Objects</a></span></li><li><span><a href=\"#struct.Struct-–-Serialized-C-Structs\" data-toc-modified-id=\"struct.Struct-–-Serialized-C-Structs-1.3.5\"><span class=\"toc-item-num\">1.3.5&nbsp;&nbsp;</span>struct.Struct – Serialized C Structs</a></span></li><li><span><a href=\"#types.SimpleNamespace-–-Fancy-Attribute-Access\" data-toc-modified-id=\"types.SimpleNamespace-–-Fancy-Attribute-Access-1.3.6\"><span class=\"toc-item-num\">1.3.6&nbsp;&nbsp;</span>types.SimpleNamespace – Fancy Attribute Access</a></span></li><li><span><a href=\"#Key-Takeaways\" data-toc-modified-id=\"Key-Takeaways-1.3.7\"><span class=\"toc-item-num\">1.3.7&nbsp;&nbsp;</span>Key Takeaways</a></span></li></ul></li><li><span><a href=\"#Sets-and-Multisets\" data-toc-modified-id=\"Sets-and-Multisets-1.4\"><span class=\"toc-item-num\">1.4&nbsp;&nbsp;</span>Sets and Multisets</a></span><ul class=\"toc-item\"><li><span><a href=\"#set-–-Your-Go-To-Set\" data-toc-modified-id=\"set-–-Your-Go-To-Set-1.4.1\"><span class=\"toc-item-num\">1.4.1&nbsp;&nbsp;</span>set – Your Go-To Set</a></span></li><li><span><a href=\"#frozenset-–-Immutable-Sets\" data-toc-modified-id=\"frozenset-–-Immutable-Sets-1.4.2\"><span class=\"toc-item-num\">1.4.2&nbsp;&nbsp;</span>frozenset – Immutable Sets</a></span></li><li><span><a href=\"#collections.Counter-–-Multisets\" data-toc-modified-id=\"collections.Counter-–-Multisets-1.4.3\"><span class=\"toc-item-num\">1.4.3&nbsp;&nbsp;</span>collections.Counter – Multisets</a></span></li><li><span><a href=\"#Key-Takeaways\" data-toc-modified-id=\"Key-Takeaways-1.4.4\"><span class=\"toc-item-num\">1.4.4&nbsp;&nbsp;</span>Key Takeaways</a></span></li></ul></li><li><span><a href=\"#Stacks-(LIFOs)\" data-toc-modified-id=\"Stacks-(LIFOs)-1.5\"><span class=\"toc-item-num\">1.5&nbsp;&nbsp;</span>Stacks (LIFOs)</a></span><ul class=\"toc-item\"><li><span><a href=\"#list-–-Simple,-Built-In-Stacks\" data-toc-modified-id=\"list-–-Simple,-Built-In-Stacks-1.5.1\"><span class=\"toc-item-num\">1.5.1&nbsp;&nbsp;</span>list – Simple, Built-In Stacks</a></span></li><li><span><a href=\"#collections.deque-–-Fast-&amp;-Robust-Stacks\" data-toc-modified-id=\"collections.deque-–-Fast-&amp;-Robust-Stacks-1.5.2\"><span class=\"toc-item-num\">1.5.2&nbsp;&nbsp;</span>collections.deque – Fast &amp; Robust Stacks</a></span></li><li><span><a href=\"#queue.LifoQueue-–-Locking-Semantics-for-Parallel-Computing\" data-toc-modified-id=\"queue.LifoQueue-–-Locking-Semantics-for-Parallel-Computing-1.5.3\"><span class=\"toc-item-num\">1.5.3&nbsp;&nbsp;</span>queue.LifoQueue – Locking Semantics for Parallel Computing</a></span></li><li><span><a href=\"#Comparing-Stack-Implementations-in-Python\" data-toc-modified-id=\"Comparing-Stack-Implementations-in-Python-1.5.4\"><span class=\"toc-item-num\">1.5.4&nbsp;&nbsp;</span>Comparing Stack Implementations in Python</a></span></li></ul></li><li><span><a href=\"#Queues-(FIFOs)\" data-toc-modified-id=\"Queues-(FIFOs)-1.6\"><span class=\"toc-item-num\">1.6&nbsp;&nbsp;</span>Queues (FIFOs)</a></span><ul class=\"toc-item\"><li><span><a href=\"#list-—-Terribly-Sloooow-Queues\" data-toc-modified-id=\"list-—-Terribly-Sloooow-Queues-1.6.1\"><span class=\"toc-item-num\">1.6.1&nbsp;&nbsp;</span>list — Terribly Sloooow Queues</a></span></li><li><span><a href=\"#collections.deque-–-Fast-&amp;-Robust-Queues\" data-toc-modified-id=\"collections.deque-–-Fast-&amp;-Robust-Queues-1.6.2\"><span class=\"toc-item-num\">1.6.2&nbsp;&nbsp;</span>collections.deque – Fast &amp; Robust Queues</a></span></li><li><span><a href=\"#queue.Queue-–-Locking-Semantics-for-Parallel-Computing\" data-toc-modified-id=\"queue.Queue-–-Locking-Semantics-for-Parallel-Computing-1.6.3\"><span class=\"toc-item-num\">1.6.3&nbsp;&nbsp;</span>queue.Queue – Locking Semantics for Parallel Computing</a></span></li><li><span><a href=\"#multiprocessing.Queue-–-Shared-Job-Queues\" data-toc-modified-id=\"multiprocessing.Queue-–-Shared-Job-Queues-1.6.4\"><span class=\"toc-item-num\">1.6.4&nbsp;&nbsp;</span>multiprocessing.Queue – Shared Job Queues</a></span></li><li><span><a href=\"#Key-Takeaways\" data-toc-modified-id=\"Key-Takeaways-1.6.5\"><span class=\"toc-item-num\">1.6.5&nbsp;&nbsp;</span>Key Takeaways</a></span></li></ul></li><li><span><a href=\"#Priority-Queues\" data-toc-modified-id=\"Priority-Queues-1.7\"><span class=\"toc-item-num\">1.7&nbsp;&nbsp;</span>Priority Queues</a></span></li></ul></li></ul></div>"
   ]
  },
  {
   "cell_type": "code",
   "execution_count": 1,
   "metadata": {
    "ExecuteTime": {
     "end_time": "2019-09-03T16:45:50.385333Z",
     "start_time": "2019-09-03T16:45:50.379478Z"
    }
   },
   "outputs": [],
   "source": [
    "# Pretty display multiple variables without print statement\n",
    "from IPython.core.interactiveshell import InteractiveShell\n",
    "InteractiveShell.ast_node_interactivity = \"all\""
   ]
  },
  {
   "cell_type": "markdown",
   "metadata": {},
   "source": [
    "# Common Data Structures in Python"
   ]
  },
  {
   "cell_type": "markdown",
   "metadata": {},
   "source": [
    "## Dictionaries, Maps, and Hashtables"
   ]
  },
  {
   "cell_type": "markdown",
   "metadata": {},
   "source": [
    "<div class=\"alert alert-block alert-info\">\n",
    "    \n",
    "<font color = 'green'><b>Key Takeaways</b></font>\n",
    "\n",
    "* Dictionaries are the central data structure in Python.\n",
    "\n",
    "* The built-in dict type will be “good enough” most of the time.\n",
    "\n",
    "* Specialized implementations, like read-only or ordered dicts,\n",
    "are available in the Python standard library."
   ]
  },
  {
   "cell_type": "markdown",
   "metadata": {},
   "source": [
    "Dictionaries are also often called maps, hashmaps, lookup tables, or associative arrays. They allow for the efficient lookup, insertion, and deletion of any object associated with a given key.\n",
    "\n",
    "What does this mean in practice? It turns out that phone books make a decent real-world analog for dictionary objects:\n",
    "\n",
    "Phone books allow you to quickly retrieve the information (phone number) associated with a given key (a person’s name). So, instead of having to read a phone book front to back in order to find someone’s number, you can jump more or less directly to a name and look up the associated information.\n"
   ]
  },
  {
   "cell_type": "code",
   "execution_count": 4,
   "metadata": {
    "ExecuteTime": {
     "end_time": "2019-09-03T03:47:28.627877Z",
     "start_time": "2019-09-03T03:47:28.616165Z"
    }
   },
   "outputs": [
    {
     "data": {
      "text/plain": [
       "3719"
      ]
     },
     "execution_count": 4,
     "metadata": {},
     "output_type": "execute_result"
    },
    {
     "data": {
      "text/plain": [
       "{0: 0, 1: 1, 2: 4, 3: 9, 4: 16, 5: 25}"
      ]
     },
     "execution_count": 4,
     "metadata": {},
     "output_type": "execute_result"
    }
   ],
   "source": [
    "# Python also provides some useful “syntactic sugar” for working with\n",
    "# dictionaries in your programs. For example, the curly-braces dictio-\n",
    "# nary expression syntax and dictionary comprehensions allow you to\n",
    "# conveniently define new dictionary objects:\n",
    "\n",
    "phonebook = {\n",
    "    'bob': 7387,\n",
    "    'alice': 3719,\n",
    "    'jack': 7052,\n",
    "}\n",
    "\n",
    "phonebook['alice']\n",
    "\n",
    "squares = {x: x * x for x in range(6)}\n",
    "squares"
   ]
  },
  {
   "cell_type": "markdown",
   "metadata": {},
   "source": [
    "There are some restrictions on which objects can be used as valid keys. Python’s dictionaries are indexed by keys that can be of any hashable type: \n",
    "\n",
    "* A hashable object has a hash value which never changes during its lifetime (see __hash__), and it can be compared to other objects (see __eq__). \n",
    "\n",
    "* In addition, hashable objects which compare as equal must have the same hash value. \n",
    "\n",
    "* Immutable types like strings and numbers are hashable and work well as dictionary keys. You can also use tuple objects as dictionary keys, as long as they contain only hashable types themselves. \n",
    "\n",
    "For most use cases, Python’s built-in dictionary implementation will do everything you need. Dictionaries are highly optimized and underlie many parts of the language, for example class attributes and variables in a stack frame are both stored internally in dictionaries.\n",
    "\n",
    "https://docs.python.org/3/glossary.html#term-hashable\n",
    "https://docs.python.org/3/library/stdtypes.html#mapping-types-dict\n",
    "\n",
    "Python dictionaries are based on a well-tested and finely tuned hash\n",
    "table implementation that provides the performance characteristics\n",
    "you’d expect: <font color = 'blue'>**O(1) time complexity for lookup, insert, update, and\n",
    "delete operations in the average case**</font>.\n",
    "\n",
    "**<font color = 'purple'>Besides “plain” dict objects, Python’s standard library also includes a number of specialized dictionary implementations. These specialized dictionaries are all based on the built-in dictionary class (and share its performance characteristics), but add some convenience features on top of that. Let’s take a look at them. </font>**"
   ]
  },
  {
   "cell_type": "markdown",
   "metadata": {
    "heading_collapsed": true
   },
   "source": [
    "### collections.OrderedDict – Remember the Insertion Order of Keys"
   ]
  },
  {
   "cell_type": "markdown",
   "metadata": {
    "hidden": true
   },
   "source": [
    "Python includes a specialized dict subclass that remembers the insertion order of keys added to it: collections.OrderedDict.3 While standard dict instances preserve the insertion order of keys in CPython 3.6 and above, this is just a side effect of the CPython implementation and is not defined in the language spec.4 So, if key order is important for your algorithm to work, it’s best to communicate this clearly by explicitly using the OrderDict class. By the way, OrderedDict is not a built-in part of the core language and must be imported from the collections module in the standard library."
   ]
  },
  {
   "cell_type": "code",
   "execution_count": 5,
   "metadata": {
    "ExecuteTime": {
     "end_time": "2019-09-03T03:57:12.987941Z",
     "start_time": "2019-09-03T03:57:12.981106Z"
    },
    "hidden": true
   },
   "outputs": [
    {
     "data": {
      "text/plain": [
       "OrderedDict([('one', 1), ('two', 2), ('three', 3)])"
      ]
     },
     "execution_count": 5,
     "metadata": {},
     "output_type": "execute_result"
    }
   ],
   "source": [
    "import collections\n",
    "d = collections.OrderedDict(one=1, two=2, three=3)\n",
    "d"
   ]
  },
  {
   "cell_type": "code",
   "execution_count": 6,
   "metadata": {
    "ExecuteTime": {
     "end_time": "2019-09-03T03:58:30.436874Z",
     "start_time": "2019-09-03T03:58:30.430040Z"
    },
    "hidden": true
   },
   "outputs": [
    {
     "data": {
      "text/plain": [
       "OrderedDict([('one', 1), ('two', 2), ('three', 3), ('four', 4)])"
      ]
     },
     "execution_count": 6,
     "metadata": {},
     "output_type": "execute_result"
    }
   ],
   "source": [
    "d['four'] = 4\n",
    "d"
   ]
  },
  {
   "cell_type": "code",
   "execution_count": 7,
   "metadata": {
    "ExecuteTime": {
     "end_time": "2019-09-03T03:58:50.437865Z",
     "start_time": "2019-09-03T03:58:50.432006Z"
    },
    "hidden": true
   },
   "outputs": [
    {
     "data": {
      "text/plain": [
       "odict_keys(['one', 'two', 'three', 'four'])"
      ]
     },
     "execution_count": 7,
     "metadata": {},
     "output_type": "execute_result"
    }
   ],
   "source": [
    "d.keys()"
   ]
  },
  {
   "cell_type": "markdown",
   "metadata": {
    "heading_collapsed": true
   },
   "source": [
    "### collections.defaultdict – Return Default Values for Missing Keys"
   ]
  },
  {
   "cell_type": "markdown",
   "metadata": {
    "hidden": true
   },
   "source": [
    "> <font color = 'green'>The defaultdict class is another dictionary subclass that accepts a callable in its constructor whose return value will be used if a requested key cannot be found</font>.\n",
    "\n",
    "This can save you some typing and make the programmer’s intentions more clear, as compared to using the get() methods or catching a KeyError exception in regular dictionaries.\n",
    "\n",
    "https://docs.python.org/3/library/collections.html#collections.defaultdict"
   ]
  },
  {
   "cell_type": "code",
   "execution_count": 15,
   "metadata": {
    "ExecuteTime": {
     "end_time": "2019-09-03T04:07:25.551394Z",
     "start_time": "2019-09-03T04:07:25.546510Z"
    },
    "hidden": true
   },
   "outputs": [],
   "source": [
    "dda = {}"
   ]
  },
  {
   "cell_type": "code",
   "execution_count": 16,
   "metadata": {
    "ExecuteTime": {
     "end_time": "2019-09-03T04:07:34.368753Z",
     "start_time": "2019-09-03T04:07:34.276735Z"
    },
    "hidden": true
   },
   "outputs": [
    {
     "ename": "KeyError",
     "evalue": "'dogs'",
     "output_type": "error",
     "traceback": [
      "\u001b[1;31m---------------------------------------------------------------------------\u001b[0m",
      "\u001b[1;31mKeyError\u001b[0m                                  Traceback (most recent call last)",
      "\u001b[1;32m<ipython-input-16-7d3754147040>\u001b[0m in \u001b[0;36m<module>\u001b[1;34m\u001b[0m\n\u001b[1;32m----> 1\u001b[1;33m \u001b[0mdda\u001b[0m\u001b[1;33m[\u001b[0m\u001b[1;34m'dogs'\u001b[0m\u001b[1;33m]\u001b[0m\u001b[1;33m\u001b[0m\u001b[1;33m\u001b[0m\u001b[0m\n\u001b[0m",
      "\u001b[1;31mKeyError\u001b[0m: 'dogs'"
     ]
    }
   ],
   "source": [
    "dda['dogs']"
   ]
  },
  {
   "cell_type": "code",
   "execution_count": 17,
   "metadata": {
    "ExecuteTime": {
     "end_time": "2019-09-03T04:07:50.125260Z",
     "start_time": "2019-09-03T04:07:50.118425Z"
    },
    "hidden": true
   },
   "outputs": [
    {
     "data": {
      "text/plain": [
       "[]"
      ]
     },
     "execution_count": 17,
     "metadata": {},
     "output_type": "execute_result"
    }
   ],
   "source": [
    "from collections import defaultdict\n",
    "dd = defaultdict(list)\n",
    "dd['dogs']"
   ]
  },
  {
   "cell_type": "code",
   "execution_count": 14,
   "metadata": {
    "ExecuteTime": {
     "end_time": "2019-09-03T04:06:57.851593Z",
     "start_time": "2019-09-03T04:06:57.843783Z"
    },
    "hidden": true
   },
   "outputs": [
    {
     "data": {
      "text/plain": [
       "['Rufus', 'Kathrin', 'Mr Sniffles']"
      ]
     },
     "execution_count": 14,
     "metadata": {},
     "output_type": "execute_result"
    }
   ],
   "source": [
    "# Accessing a missing key creates it and\n",
    "# initializes it using the default factory,\n",
    "# i.e. list() in this example:\n",
    "dd['dogs'].append('Rufus')\n",
    "dd['dogs'].append('Kathrin')\n",
    "dd['dogs'].append('Mr Sniffles')\n",
    "dd['dogs']"
   ]
  },
  {
   "cell_type": "markdown",
   "metadata": {
    "heading_collapsed": true
   },
   "source": [
    "### collections.ChainMap – Search Multiple Dictionaries as a Single Mapping"
   ]
  },
  {
   "cell_type": "markdown",
   "metadata": {
    "hidden": true
   },
   "source": [
    "The collections.ChainMap data structure groups multiple dictionaries into a single mapping.6 Lookups search the underlying mappings one by one until a key is found. Insertions, updates, and deletions only affect the first mapping added to the chain.\n",
    "https://docs.python.org/3/library/collections.html#collections.ChainMap"
   ]
  },
  {
   "cell_type": "code",
   "execution_count": 19,
   "metadata": {
    "ExecuteTime": {
     "end_time": "2019-09-03T04:09:09.408644Z",
     "start_time": "2019-09-03T04:09:09.400834Z"
    },
    "hidden": true
   },
   "outputs": [
    {
     "data": {
      "text/plain": [
       "ChainMap({'one': 1, 'two': 2}, {'three': 3, 'four': 4})"
      ]
     },
     "execution_count": 19,
     "metadata": {},
     "output_type": "execute_result"
    }
   ],
   "source": [
    "from collections import ChainMap\n",
    "dict1 = {'one': 1, 'two': 2}\n",
    "dict2 = {'three': 3, 'four': 4}\n",
    "chain = ChainMap(dict1, dict2)\n",
    "\n",
    "chain"
   ]
  },
  {
   "cell_type": "code",
   "execution_count": 20,
   "metadata": {
    "ExecuteTime": {
     "end_time": "2019-09-03T04:09:21.059197Z",
     "start_time": "2019-09-03T04:09:21.016240Z"
    },
    "hidden": true,
    "scrolled": true
   },
   "outputs": [
    {
     "data": {
      "text/plain": [
       "3"
      ]
     },
     "execution_count": 20,
     "metadata": {},
     "output_type": "execute_result"
    },
    {
     "data": {
      "text/plain": [
       "1"
      ]
     },
     "execution_count": 20,
     "metadata": {},
     "output_type": "execute_result"
    },
    {
     "ename": "KeyError",
     "evalue": "'missing'",
     "output_type": "error",
     "traceback": [
      "\u001b[1;31m---------------------------------------------------------------------------\u001b[0m",
      "\u001b[1;31mKeyError\u001b[0m                                  Traceback (most recent call last)",
      "\u001b[1;32m<ipython-input-20-37bdd779274d>\u001b[0m in \u001b[0;36m<module>\u001b[1;34m\u001b[0m\n\u001b[0;32m      3\u001b[0m \u001b[0mchain\u001b[0m\u001b[1;33m[\u001b[0m\u001b[1;34m'three'\u001b[0m\u001b[1;33m]\u001b[0m\u001b[1;33m\u001b[0m\u001b[1;33m\u001b[0m\u001b[0m\n\u001b[0;32m      4\u001b[0m \u001b[0mchain\u001b[0m\u001b[1;33m[\u001b[0m\u001b[1;34m'one'\u001b[0m\u001b[1;33m]\u001b[0m\u001b[1;33m\u001b[0m\u001b[1;33m\u001b[0m\u001b[0m\n\u001b[1;32m----> 5\u001b[1;33m \u001b[0mchain\u001b[0m\u001b[1;33m[\u001b[0m\u001b[1;34m'missing'\u001b[0m\u001b[1;33m]\u001b[0m\u001b[1;33m\u001b[0m\u001b[1;33m\u001b[0m\u001b[0m\n\u001b[0m",
      "\u001b[1;32m~\\Anaconda3\\envs\\R_flinks\\lib\\collections\\__init__.py\u001b[0m in \u001b[0;36m__getitem__\u001b[1;34m(self, key)\u001b[0m\n\u001b[0;32m    912\u001b[0m             \u001b[1;32mexcept\u001b[0m \u001b[0mKeyError\u001b[0m\u001b[1;33m:\u001b[0m\u001b[1;33m\u001b[0m\u001b[1;33m\u001b[0m\u001b[0m\n\u001b[0;32m    913\u001b[0m                 \u001b[1;32mpass\u001b[0m\u001b[1;33m\u001b[0m\u001b[1;33m\u001b[0m\u001b[0m\n\u001b[1;32m--> 914\u001b[1;33m         \u001b[1;32mreturn\u001b[0m \u001b[0mself\u001b[0m\u001b[1;33m.\u001b[0m\u001b[0m__missing__\u001b[0m\u001b[1;33m(\u001b[0m\u001b[0mkey\u001b[0m\u001b[1;33m)\u001b[0m            \u001b[1;31m# support subclasses that define __missing__\u001b[0m\u001b[1;33m\u001b[0m\u001b[1;33m\u001b[0m\u001b[0m\n\u001b[0m\u001b[0;32m    915\u001b[0m \u001b[1;33m\u001b[0m\u001b[0m\n\u001b[0;32m    916\u001b[0m     \u001b[1;32mdef\u001b[0m \u001b[0mget\u001b[0m\u001b[1;33m(\u001b[0m\u001b[0mself\u001b[0m\u001b[1;33m,\u001b[0m \u001b[0mkey\u001b[0m\u001b[1;33m,\u001b[0m \u001b[0mdefault\u001b[0m\u001b[1;33m=\u001b[0m\u001b[1;32mNone\u001b[0m\u001b[1;33m)\u001b[0m\u001b[1;33m:\u001b[0m\u001b[1;33m\u001b[0m\u001b[1;33m\u001b[0m\u001b[0m\n",
      "\u001b[1;32m~\\Anaconda3\\envs\\R_flinks\\lib\\collections\\__init__.py\u001b[0m in \u001b[0;36m__missing__\u001b[1;34m(self, key)\u001b[0m\n\u001b[0;32m    904\u001b[0m \u001b[1;33m\u001b[0m\u001b[0m\n\u001b[0;32m    905\u001b[0m     \u001b[1;32mdef\u001b[0m \u001b[0m__missing__\u001b[0m\u001b[1;33m(\u001b[0m\u001b[0mself\u001b[0m\u001b[1;33m,\u001b[0m \u001b[0mkey\u001b[0m\u001b[1;33m)\u001b[0m\u001b[1;33m:\u001b[0m\u001b[1;33m\u001b[0m\u001b[1;33m\u001b[0m\u001b[0m\n\u001b[1;32m--> 906\u001b[1;33m         \u001b[1;32mraise\u001b[0m \u001b[0mKeyError\u001b[0m\u001b[1;33m(\u001b[0m\u001b[0mkey\u001b[0m\u001b[1;33m)\u001b[0m\u001b[1;33m\u001b[0m\u001b[1;33m\u001b[0m\u001b[0m\n\u001b[0m\u001b[0;32m    907\u001b[0m \u001b[1;33m\u001b[0m\u001b[0m\n\u001b[0;32m    908\u001b[0m     \u001b[1;32mdef\u001b[0m \u001b[0m__getitem__\u001b[0m\u001b[1;33m(\u001b[0m\u001b[0mself\u001b[0m\u001b[1;33m,\u001b[0m \u001b[0mkey\u001b[0m\u001b[1;33m)\u001b[0m\u001b[1;33m:\u001b[0m\u001b[1;33m\u001b[0m\u001b[1;33m\u001b[0m\u001b[0m\n",
      "\u001b[1;31mKeyError\u001b[0m: 'missing'"
     ]
    }
   ],
   "source": [
    "# ChainMap searches each collection in the chain\n",
    "# from left to right until it finds the key (or fails):\n",
    "chain['three']\n",
    "chain['one']\n",
    "chain['missing']"
   ]
  },
  {
   "cell_type": "markdown",
   "metadata": {
    "heading_collapsed": true
   },
   "source": [
    "### types.MappingProxyType – A Wrapper for Making Read-Only Dictionaries"
   ]
  },
  {
   "cell_type": "markdown",
   "metadata": {
    "hidden": true
   },
   "source": [
    "MappingProxyType is a wrapper around a standard dictionary that provides a read-only view into the wrapped dictionary’s data.7 This class was added in Python 3.3, and it can be used to create immutable proxy versions of dictionaries.\n",
    "\n",
    "<font color = 'blue'>For example, this can be helpful if you’d like to return a dictionary carrying internal state from a class or module, while discouraging write access to this object</font>. \n",
    "\n",
    "<font color = 'blue'>Using MappingProxyType allows you to put these restrictions in place without first having to create a full copy of the dictionary.</font>\n",
    "\n",
    "https://docs.python.org/3/library/types.html#types.MappingProxyType"
   ]
  },
  {
   "cell_type": "code",
   "execution_count": 21,
   "metadata": {
    "ExecuteTime": {
     "end_time": "2019-09-03T04:14:11.062688Z",
     "start_time": "2019-09-03T04:14:11.054878Z"
    },
    "hidden": true
   },
   "outputs": [
    {
     "data": {
      "text/plain": [
       "1"
      ]
     },
     "execution_count": 21,
     "metadata": {},
     "output_type": "execute_result"
    }
   ],
   "source": [
    "from types import MappingProxyType\n",
    "writable = {'one': 1, 'two': 2}\n",
    "read_only = MappingProxyType(writable)\n",
    "\n",
    "# The proxy is read-only:\n",
    "read_only['one']"
   ]
  },
  {
   "cell_type": "code",
   "execution_count": 22,
   "metadata": {
    "ExecuteTime": {
     "end_time": "2019-09-03T04:14:23.147823Z",
     "start_time": "2019-09-03T04:14:23.137082Z"
    },
    "hidden": true
   },
   "outputs": [
    {
     "ename": "TypeError",
     "evalue": "'mappingproxy' object does not support item assignment",
     "output_type": "error",
     "traceback": [
      "\u001b[1;31m---------------------------------------------------------------------------\u001b[0m",
      "\u001b[1;31mTypeError\u001b[0m                                 Traceback (most recent call last)",
      "\u001b[1;32m<ipython-input-22-8d269ba54945>\u001b[0m in \u001b[0;36m<module>\u001b[1;34m\u001b[0m\n\u001b[1;32m----> 1\u001b[1;33m \u001b[0mread_only\u001b[0m\u001b[1;33m[\u001b[0m\u001b[1;34m'one'\u001b[0m\u001b[1;33m]\u001b[0m \u001b[1;33m=\u001b[0m \u001b[1;36m23\u001b[0m\u001b[1;33m\u001b[0m\u001b[1;33m\u001b[0m\u001b[0m\n\u001b[0m",
      "\u001b[1;31mTypeError\u001b[0m: 'mappingproxy' object does not support item assignment"
     ]
    }
   ],
   "source": [
    "read_only['one'] = 23"
   ]
  },
  {
   "cell_type": "code",
   "execution_count": 23,
   "metadata": {
    "ExecuteTime": {
     "end_time": "2019-09-03T04:14:24.437868Z",
     "start_time": "2019-09-03T04:14:24.431032Z"
    },
    "hidden": true
   },
   "outputs": [
    {
     "data": {
      "text/plain": [
       "mappingproxy({'one': 42, 'two': 2})"
      ]
     },
     "execution_count": 23,
     "metadata": {},
     "output_type": "execute_result"
    }
   ],
   "source": [
    "# Updates to the original are reflected in the proxy:\n",
    "writable['one'] = 42\n",
    "read_only"
   ]
  },
  {
   "cell_type": "markdown",
   "metadata": {},
   "source": [
    "### Dictionaries in Python: Conclusion"
   ]
  },
  {
   "cell_type": "markdown",
   "metadata": {},
   "source": [
    "If you’re looking for a general recommendation on which mapping type to use in your programs, I’d point you to the built-in dict data type. It’s a versatile and optimized hash table implementation that’s built directly into the core language. I would only recommend that you use one of the other data types listed here if you have special requirements that go beyond what’s provided by dict. Yes, I still believe all of them are valid options—but usually your code will be more clear and easier to maintain by other developers if it relies on standard Python dictionaries most of the time."
   ]
  },
  {
   "cell_type": "markdown",
   "metadata": {
    "heading_collapsed": true
   },
   "source": [
    "## Array Data Structures"
   ]
  },
  {
   "cell_type": "markdown",
   "metadata": {
    "hidden": true
   },
   "source": [
    "<div class=\"alert alert-block alert-info\">\n",
    "<font color = 'green'>**Key Takeaways**</font>\n",
    "\n",
    "There are a number of built-in data structures you can choose from when it comes to implementing arrays in Python. In this chapter we’ve focused on core language features and data structures included in the standard library only. If you’re willing to go beyond the Python standard library, third-party packages like NumPy14 offer a wide range of fast array implementations for scientific computing and data science.\n",
    "\n",
    "By restricting ourselves to the array data structures included with\n",
    "Python, here’s what our choices come down to:\n",
    "\n",
    "\n",
    "* **<font color = 'purple'>You need to store arbitrary objects, potentially with mixed data types? </font>** <font color = 'blue'>Use a list or a tuple, depending on whether you want an immutable data structure or not.</font>\n",
    "\n",
    "\n",
    "* **<font color = 'purple'>You have numeric (integer or floating point) data and tight\n",
    "packing and performance is important? </font>** <font color = 'blue'>Try out array.array\n",
    "and see if it does everything you need. Also, consider going beyond\n",
    "the standard library and try out packages like NumPy or Pandas.</font>\n",
    "\n",
    "\n",
    "* **<font color = 'purple'>You have textual data represented as Unicode characters? </font>**\n",
    "Use Python’s built-in str. If you need a “mutable string,” use a list\n",
    "of characters.\n",
    "\n",
    "\n",
    "* **<font color = 'purple'>You want to store a contiguous block of bytes? </font>** Use the immutable bytes type, or bytearray if you need a mutable data structure.\n",
    "\n",
    "<font color = 'blue'>In most cases, I like to start out with a simple list. I’ll only specialize later on if performance or storage space becomes an issue. Most of the time, using a general-purpose array data structure like list gives you the fastest development speed and the most programming convenience</font>.\n",
    "\n",
    "\n",
    "I found that this is usually much more important in the beginning than trying to squeeze out every last drop of performance right from the start."
   ]
  },
  {
   "cell_type": "markdown",
   "metadata": {
    "hidden": true
   },
   "source": [
    "Arrays consist of fixed-size data records that allow each element to be efficiently located based on its index. Because arrays store information in adjoining blocks of memory, they’re considered contiguous data structures (as opposed to linked datas structure like linked lists, for example.)\n",
    "\n",
    "A real world analogy for an array data structure is a parking lot:\n",
    "\n",
    ">You can look at the parking lot as a whole and treat it as a single object, but inside the lot there are parking spots indexed by a unique number. Parking spots are containers for vehicles—each parking spot can either be empty or have a car, a motorbike, or some other vehicle parked on it.\n"
   ]
  },
  {
   "cell_type": "markdown",
   "metadata": {
    "hidden": true
   },
   "source": [
    "But not all parking lots are the same:\n",
    "\n",
    "> Some parking lots may be restricted to only one type of vehicle. For example, a motor-home parking lot wouldn’t allow bikes to be parked on it. A “restricted” parking lot corresponds to a “typed array” data structure that only allows elements that have the same data type stored in them."
   ]
  },
  {
   "cell_type": "markdown",
   "metadata": {
    "hidden": true
   },
   "source": [
    "Performance-wise, it’s very fast to look up an element contained in an array given the element’s index. <font color = 'blue'>**A proper array implementation guarantees a constant O(1) access time for this case**</font>. \n",
    "\n",
    "**<font color = 'purple'>Python includes several array-like data structures in its standard library that each have slightly different characteristics. Let’s take a look at them: </font>**"
   ]
  },
  {
   "cell_type": "markdown",
   "metadata": {
    "heading_collapsed": true,
    "hidden": true
   },
   "source": [
    "### list – Mutable Dynamic Arrays"
   ]
  },
  {
   "cell_type": "markdown",
   "metadata": {
    "hidden": true
   },
   "source": [
    "<font color = 'blue'>Lists are a part of the core Python language.8 Despite their name, Python’s lists are implemented as dynamic arrays behind the scenes. This means a list allows elements to be added or removed, and the list will automatically adjust the backing store that holds these elements by allocating or releasing memory. \n",
    "\n",
    "Python lists can hold arbitrary elements—“everything” is an object in Python, including functions. Therefore, you can mix and match different kinds of data types and store them all in a single list. </font>\n",
    "\n",
    "<font color = 'red'>This can be a powerful feature, but the downside is that supporting multiple data types at the same time means that data is generally less tightly packed. And as a result, the whole structure takes up more space</font>."
   ]
  },
  {
   "cell_type": "markdown",
   "metadata": {
    "hidden": true
   },
   "source": [
    "https://docs.python.org/3.6/library/stdtypes.html#lists"
   ]
  },
  {
   "cell_type": "code",
   "execution_count": 28,
   "metadata": {
    "ExecuteTime": {
     "end_time": "2019-09-03T04:24:34.382582Z",
     "start_time": "2019-09-03T04:24:34.376725Z"
    },
    "hidden": true
   },
   "outputs": [
    {
     "data": {
      "text/plain": [
       "'one'"
      ]
     },
     "execution_count": 28,
     "metadata": {},
     "output_type": "execute_result"
    }
   ],
   "source": [
    "arr = ['one', 'two', 'three']\n",
    "arr[0]"
   ]
  },
  {
   "cell_type": "code",
   "execution_count": 29,
   "metadata": {
    "ExecuteTime": {
     "end_time": "2019-09-03T04:24:34.923498Z",
     "start_time": "2019-09-03T04:24:34.917640Z"
    },
    "hidden": true
   },
   "outputs": [
    {
     "data": {
      "text/plain": [
       "['one', 'two', 'three']"
      ]
     },
     "execution_count": 29,
     "metadata": {},
     "output_type": "execute_result"
    }
   ],
   "source": [
    "# Lists have a nice repr:\n",
    "arr"
   ]
  },
  {
   "cell_type": "code",
   "execution_count": 30,
   "metadata": {
    "ExecuteTime": {
     "end_time": "2019-09-03T04:24:35.433658Z",
     "start_time": "2019-09-03T04:24:35.426824Z"
    },
    "hidden": true
   },
   "outputs": [
    {
     "data": {
      "text/plain": [
       "['one', 'hello', 'three']"
      ]
     },
     "execution_count": 30,
     "metadata": {},
     "output_type": "execute_result"
    }
   ],
   "source": [
    "# Lists are mutable:\n",
    "arr[1] = 'hello'\n",
    "arr"
   ]
  },
  {
   "cell_type": "code",
   "execution_count": 31,
   "metadata": {
    "ExecuteTime": {
     "end_time": "2019-09-03T04:24:44.876713Z",
     "start_time": "2019-09-03T04:24:44.870858Z"
    },
    "hidden": true
   },
   "outputs": [
    {
     "data": {
      "text/plain": [
       "['one', 'three']"
      ]
     },
     "execution_count": 31,
     "metadata": {},
     "output_type": "execute_result"
    }
   ],
   "source": [
    "del arr[1]\n",
    "arr"
   ]
  },
  {
   "cell_type": "code",
   "execution_count": 32,
   "metadata": {
    "ExecuteTime": {
     "end_time": "2019-09-03T04:24:57.803854Z",
     "start_time": "2019-09-03T04:24:57.797021Z"
    },
    "hidden": true
   },
   "outputs": [
    {
     "data": {
      "text/plain": [
       "['one', 'three', 23]"
      ]
     },
     "execution_count": 32,
     "metadata": {},
     "output_type": "execute_result"
    }
   ],
   "source": [
    "# Lists can hold arbitrary data types:\n",
    "arr.append(23)\n",
    "arr"
   ]
  },
  {
   "cell_type": "markdown",
   "metadata": {
    "heading_collapsed": true,
    "hidden": true
   },
   "source": [
    "### tuple – Immutable Containers"
   ]
  },
  {
   "cell_type": "markdown",
   "metadata": {
    "hidden": true
   },
   "source": [
    "<div class=\"alert alert-block alert-info\">\n",
    "    \n",
    "Unlike lists,<font color = 'blue'>Python’s tuple objects are immutable. <font color = 'red'>This means elements can’t be added or removed dynamically—all elements in a tuple must be defined at creation time</font></font>. \n",
    "\n",
    "<font color = 'blue'>Just like lists, tuples can hold elements of arbitrary data types. Having this flexibility is powerful, but again, it also means that data is less tightly packed than it would be in a typed array.</font>"
   ]
  },
  {
   "cell_type": "code",
   "execution_count": 33,
   "metadata": {
    "ExecuteTime": {
     "end_time": "2019-09-03T04:26:27.316590Z",
     "start_time": "2019-09-03T04:26:27.310736Z"
    },
    "hidden": true
   },
   "outputs": [
    {
     "data": {
      "text/plain": [
       "'one'"
      ]
     },
     "execution_count": 33,
     "metadata": {},
     "output_type": "execute_result"
    }
   ],
   "source": [
    "arr = 'one', 'two', 'three'\n",
    "arr[0]"
   ]
  },
  {
   "cell_type": "code",
   "execution_count": 34,
   "metadata": {
    "ExecuteTime": {
     "end_time": "2019-09-03T04:26:32.430139Z",
     "start_time": "2019-09-03T04:26:32.424284Z"
    },
    "hidden": true
   },
   "outputs": [
    {
     "data": {
      "text/plain": [
       "('one', 'two', 'three')"
      ]
     },
     "execution_count": 34,
     "metadata": {},
     "output_type": "execute_result"
    }
   ],
   "source": [
    "arr"
   ]
  },
  {
   "cell_type": "code",
   "execution_count": 35,
   "metadata": {
    "ExecuteTime": {
     "end_time": "2019-09-03T04:26:50.331610Z",
     "start_time": "2019-09-03T04:26:50.320871Z"
    },
    "hidden": true
   },
   "outputs": [
    {
     "ename": "TypeError",
     "evalue": "'tuple' object does not support item assignment",
     "output_type": "error",
     "traceback": [
      "\u001b[1;31m---------------------------------------------------------------------------\u001b[0m",
      "\u001b[1;31mTypeError\u001b[0m                                 Traceback (most recent call last)",
      "\u001b[1;32m<ipython-input-35-535e5af3b3a3>\u001b[0m in \u001b[0;36m<module>\u001b[1;34m\u001b[0m\n\u001b[0;32m      1\u001b[0m \u001b[1;31m# Tuples are immutable:\u001b[0m\u001b[1;33m\u001b[0m\u001b[1;33m\u001b[0m\u001b[1;33m\u001b[0m\u001b[0m\n\u001b[1;32m----> 2\u001b[1;33m \u001b[0marr\u001b[0m\u001b[1;33m[\u001b[0m\u001b[1;36m1\u001b[0m\u001b[1;33m]\u001b[0m \u001b[1;33m=\u001b[0m \u001b[1;34m'hello'\u001b[0m\u001b[1;33m\u001b[0m\u001b[1;33m\u001b[0m\u001b[0m\n\u001b[0m",
      "\u001b[1;31mTypeError\u001b[0m: 'tuple' object does not support item assignment"
     ]
    }
   ],
   "source": [
    "# Tuples are immutable:\n",
    "arr[1] = 'hello'"
   ]
  },
  {
   "cell_type": "code",
   "execution_count": 36,
   "metadata": {
    "ExecuteTime": {
     "end_time": "2019-09-03T04:27:06.025200Z",
     "start_time": "2019-09-03T04:27:06.013484Z"
    },
    "hidden": true
   },
   "outputs": [
    {
     "ename": "TypeError",
     "evalue": "'tuple' object doesn't support item deletion",
     "output_type": "error",
     "traceback": [
      "\u001b[1;31m---------------------------------------------------------------------------\u001b[0m",
      "\u001b[1;31mTypeError\u001b[0m                                 Traceback (most recent call last)",
      "\u001b[1;32m<ipython-input-36-df001b61e2e0>\u001b[0m in \u001b[0;36m<module>\u001b[1;34m\u001b[0m\n\u001b[1;32m----> 1\u001b[1;33m \u001b[1;32mdel\u001b[0m \u001b[0marr\u001b[0m\u001b[1;33m[\u001b[0m\u001b[1;36m1\u001b[0m\u001b[1;33m]\u001b[0m\u001b[1;33m\u001b[0m\u001b[1;33m\u001b[0m\u001b[0m\n\u001b[0m",
      "\u001b[1;31mTypeError\u001b[0m: 'tuple' object doesn't support item deletion"
     ]
    }
   ],
   "source": [
    " del arr[1]"
   ]
  },
  {
   "cell_type": "code",
   "execution_count": 37,
   "metadata": {
    "ExecuteTime": {
     "end_time": "2019-09-03T04:27:17.936986Z",
     "start_time": "2019-09-03T04:27:17.931130Z"
    },
    "hidden": true
   },
   "outputs": [
    {
     "data": {
      "text/plain": [
       "('one', 'two', 'three', 23)"
      ]
     },
     "execution_count": 37,
     "metadata": {},
     "output_type": "execute_result"
    }
   ],
   "source": [
    "# Tuples can hold arbitrary data types:\n",
    "# (Adding elements creates a copy of the tuple)\n",
    "arr + (23,)"
   ]
  },
  {
   "cell_type": "code",
   "execution_count": 40,
   "metadata": {
    "ExecuteTime": {
     "end_time": "2019-09-03T04:27:42.283385Z",
     "start_time": "2019-09-03T04:27:42.279481Z"
    },
    "hidden": true
   },
   "outputs": [],
   "source": [
    "arr = arr + (23,)"
   ]
  },
  {
   "cell_type": "code",
   "execution_count": 41,
   "metadata": {
    "ExecuteTime": {
     "end_time": "2019-09-03T04:27:44.604174Z",
     "start_time": "2019-09-03T04:27:44.598316Z"
    },
    "hidden": true
   },
   "outputs": [
    {
     "data": {
      "text/plain": [
       "('one', 'two', 'three', 23)"
      ]
     },
     "execution_count": 41,
     "metadata": {},
     "output_type": "execute_result"
    }
   ],
   "source": [
    "arr"
   ]
  },
  {
   "cell_type": "markdown",
   "metadata": {
    "heading_collapsed": true,
    "hidden": true
   },
   "source": [
    "### array.array – Basic Typed Arrays"
   ]
  },
  {
   "cell_type": "markdown",
   "metadata": {
    "hidden": true
   },
   "source": [
    "Python’s array module provides space-efficient storage of basic Cstyle data types like bytes, 32-bit integers, floating point numbers, and so on. <font color = 'blue'>Arrays created with the array.array class are mutable and behave similarly to lists, except for one important difference—they are “typed arrays” constrained to a single data type.</font>\n",
    "\n",
    "<font color = 'green'>Because of this constraint, array.array objects with many elements are more space-efficient than lists and tuples. The elements stored in them are tightly packed, and this can be useful if you need to store many elements of the same type.</font> \n",
    "\n",
    "Also, arrays support many of the same methods as regular lists, and you might be able to use them as a “drop-in replacement” without requiring other changes to your application code."
   ]
  },
  {
   "cell_type": "markdown",
   "metadata": {
    "hidden": true
   },
   "source": [
    "https://docs.python.org/3/library/array.html"
   ]
  },
  {
   "cell_type": "markdown",
   "metadata": {
    "ExecuteTime": {
     "end_time": "2019-09-03T04:32:44.072570Z",
     "start_time": "2019-09-03T04:32:44.066714Z"
    },
    "hidden": true
   },
   "source": [
    "<img src='pics/Snap3_arrayarray.png' alt='Drawing' style='width:625pt'/>"
   ]
  },
  {
   "cell_type": "code",
   "execution_count": 42,
   "metadata": {
    "ExecuteTime": {
     "end_time": "2019-09-03T04:30:14.289221Z",
     "start_time": "2019-09-03T04:30:14.283362Z"
    },
    "hidden": true
   },
   "outputs": [],
   "source": [
    "import array\n",
    "arr = array.array('f', (1.0, 1.5, 2.0, 2.5))"
   ]
  },
  {
   "cell_type": "code",
   "execution_count": 44,
   "metadata": {
    "ExecuteTime": {
     "end_time": "2019-09-03T04:33:35.408353Z",
     "start_time": "2019-09-03T04:33:35.402496Z"
    },
    "hidden": true
   },
   "outputs": [
    {
     "data": {
      "text/plain": [
       "1.5"
      ]
     },
     "execution_count": 44,
     "metadata": {},
     "output_type": "execute_result"
    }
   ],
   "source": [
    "arr[1]"
   ]
  },
  {
   "cell_type": "code",
   "execution_count": 45,
   "metadata": {
    "ExecuteTime": {
     "end_time": "2019-09-03T04:33:39.106666Z",
     "start_time": "2019-09-03T04:33:39.099831Z"
    },
    "hidden": true
   },
   "outputs": [
    {
     "data": {
      "text/plain": [
       "array('f', [1.0, 1.5, 2.0, 2.5])"
      ]
     },
     "execution_count": 45,
     "metadata": {},
     "output_type": "execute_result"
    }
   ],
   "source": [
    "# Arrays have a nice repr:\n",
    "arr"
   ]
  },
  {
   "cell_type": "code",
   "execution_count": 46,
   "metadata": {
    "ExecuteTime": {
     "end_time": "2019-09-03T04:33:49.659100Z",
     "start_time": "2019-09-03T04:33:49.653242Z"
    },
    "hidden": true
   },
   "outputs": [
    {
     "data": {
      "text/plain": [
       "array('f', [1.0, 23.0, 2.0, 2.5])"
      ]
     },
     "execution_count": 46,
     "metadata": {},
     "output_type": "execute_result"
    }
   ],
   "source": [
    "# Arrays are mutable:\n",
    "arr[1] = 23.0\n",
    "arr"
   ]
  },
  {
   "cell_type": "code",
   "execution_count": 47,
   "metadata": {
    "ExecuteTime": {
     "end_time": "2019-09-03T04:35:08.699666Z",
     "start_time": "2019-09-03T04:35:08.692833Z"
    },
    "hidden": true
   },
   "outputs": [
    {
     "data": {
      "text/plain": [
       "array('f', [1.0, 2.0, 2.5])"
      ]
     },
     "execution_count": 47,
     "metadata": {},
     "output_type": "execute_result"
    }
   ],
   "source": [
    "del arr[1]\n",
    "arr"
   ]
  },
  {
   "cell_type": "code",
   "execution_count": 48,
   "metadata": {
    "ExecuteTime": {
     "end_time": "2019-09-03T04:35:22.831976Z",
     "start_time": "2019-09-03T04:35:22.826122Z"
    },
    "hidden": true
   },
   "outputs": [
    {
     "data": {
      "text/plain": [
       "array('f', [1.0, 2.0, 2.5, 42.0])"
      ]
     },
     "execution_count": 48,
     "metadata": {},
     "output_type": "execute_result"
    }
   ],
   "source": [
    "arr.append(42.0)\n",
    "arr"
   ]
  },
  {
   "cell_type": "code",
   "execution_count": 49,
   "metadata": {
    "ExecuteTime": {
     "end_time": "2019-09-03T04:35:31.917330Z",
     "start_time": "2019-09-03T04:35:31.905615Z"
    },
    "hidden": true
   },
   "outputs": [
    {
     "ename": "TypeError",
     "evalue": "must be real number, not str",
     "output_type": "error",
     "traceback": [
      "\u001b[1;31m---------------------------------------------------------------------------\u001b[0m",
      "\u001b[1;31mTypeError\u001b[0m                                 Traceback (most recent call last)",
      "\u001b[1;32m<ipython-input-49-a85ba0606556>\u001b[0m in \u001b[0;36m<module>\u001b[1;34m\u001b[0m\n\u001b[0;32m      1\u001b[0m \u001b[1;31m# Arrays are \"typed\":\u001b[0m\u001b[1;33m\u001b[0m\u001b[1;33m\u001b[0m\u001b[1;33m\u001b[0m\u001b[0m\n\u001b[1;32m----> 2\u001b[1;33m \u001b[0marr\u001b[0m\u001b[1;33m[\u001b[0m\u001b[1;36m1\u001b[0m\u001b[1;33m]\u001b[0m \u001b[1;33m=\u001b[0m \u001b[1;34m'hello'\u001b[0m\u001b[1;33m\u001b[0m\u001b[1;33m\u001b[0m\u001b[0m\n\u001b[0m",
      "\u001b[1;31mTypeError\u001b[0m: must be real number, not str"
     ]
    }
   ],
   "source": [
    "# Arrays are \"typed\":\n",
    "arr[1] = 'hello'"
   ]
  },
  {
   "cell_type": "markdown",
   "metadata": {
    "heading_collapsed": true,
    "hidden": true
   },
   "source": [
    "### str – Immutable Arrays of Unicode Characters"
   ]
  },
  {
   "cell_type": "markdown",
   "metadata": {
    "hidden": true
   },
   "source": [
    "Python 3.x uses str objects to store textual data as immutable sequences of Unicode characters.11 Practically speaking, that means a str is an immutable array of characters. Oddly enough, it’s also a recursive data structure—each character in a string is a str object of length 1 itself.\n",
    "\n",
    "<font color = 'blue'>String objects are space-efficient because they’re tightly packed and they specialize in a single data type. If you’re storing Unicode text, you should use them. Because strings are immutable in Python, modifying a string requires creating a modified copy. The closest equivalent to a “mutable string” is storing individual characters inside a list</font>.\n",
    "\n",
    "https://docs.python.org/3/library/stdtypes.html#text-sequence-type-str"
   ]
  },
  {
   "cell_type": "code",
   "execution_count": 50,
   "metadata": {
    "ExecuteTime": {
     "end_time": "2019-09-03T04:40:32.254916Z",
     "start_time": "2019-09-03T04:40:32.248082Z"
    },
    "hidden": true
   },
   "outputs": [
    {
     "data": {
      "text/plain": [
       "'b'"
      ]
     },
     "execution_count": 50,
     "metadata": {},
     "output_type": "execute_result"
    }
   ],
   "source": [
    "arr = 'abcd'\n",
    "arr[1]"
   ]
  },
  {
   "cell_type": "code",
   "execution_count": 51,
   "metadata": {
    "ExecuteTime": {
     "end_time": "2019-09-03T04:40:43.121423Z",
     "start_time": "2019-09-03T04:40:43.115569Z"
    },
    "hidden": true
   },
   "outputs": [
    {
     "data": {
      "text/plain": [
       "'abcd'"
      ]
     },
     "execution_count": 51,
     "metadata": {},
     "output_type": "execute_result"
    }
   ],
   "source": [
    "arr"
   ]
  },
  {
   "cell_type": "code",
   "execution_count": 52,
   "metadata": {
    "ExecuteTime": {
     "end_time": "2019-09-03T04:40:53.894340Z",
     "start_time": "2019-09-03T04:40:53.882625Z"
    },
    "hidden": true
   },
   "outputs": [
    {
     "ename": "TypeError",
     "evalue": "'str' object does not support item assignment",
     "output_type": "error",
     "traceback": [
      "\u001b[1;31m---------------------------------------------------------------------------\u001b[0m",
      "\u001b[1;31mTypeError\u001b[0m                                 Traceback (most recent call last)",
      "\u001b[1;32m<ipython-input-52-2e0d5fa2424f>\u001b[0m in \u001b[0;36m<module>\u001b[1;34m\u001b[0m\n\u001b[0;32m      1\u001b[0m \u001b[1;31m# Strings are immutable:\u001b[0m\u001b[1;33m\u001b[0m\u001b[1;33m\u001b[0m\u001b[1;33m\u001b[0m\u001b[0m\n\u001b[1;32m----> 2\u001b[1;33m \u001b[0marr\u001b[0m\u001b[1;33m[\u001b[0m\u001b[1;36m1\u001b[0m\u001b[1;33m]\u001b[0m \u001b[1;33m=\u001b[0m \u001b[1;34m'e'\u001b[0m\u001b[1;33m\u001b[0m\u001b[1;33m\u001b[0m\u001b[0m\n\u001b[0m",
      "\u001b[1;31mTypeError\u001b[0m: 'str' object does not support item assignment"
     ]
    }
   ],
   "source": [
    "# Strings are immutable:\n",
    "arr[1] = 'e'"
   ]
  },
  {
   "cell_type": "code",
   "execution_count": 53,
   "metadata": {
    "ExecuteTime": {
     "end_time": "2019-09-03T04:41:06.655975Z",
     "start_time": "2019-09-03T04:41:06.644260Z"
    },
    "hidden": true
   },
   "outputs": [
    {
     "ename": "TypeError",
     "evalue": "'str' object doesn't support item deletion",
     "output_type": "error",
     "traceback": [
      "\u001b[1;31m---------------------------------------------------------------------------\u001b[0m",
      "\u001b[1;31mTypeError\u001b[0m                                 Traceback (most recent call last)",
      "\u001b[1;32m<ipython-input-53-df001b61e2e0>\u001b[0m in \u001b[0;36m<module>\u001b[1;34m\u001b[0m\n\u001b[1;32m----> 1\u001b[1;33m \u001b[1;32mdel\u001b[0m \u001b[0marr\u001b[0m\u001b[1;33m[\u001b[0m\u001b[1;36m1\u001b[0m\u001b[1;33m]\u001b[0m\u001b[1;33m\u001b[0m\u001b[1;33m\u001b[0m\u001b[0m\n\u001b[0m",
      "\u001b[1;31mTypeError\u001b[0m: 'str' object doesn't support item deletion"
     ]
    }
   ],
   "source": [
    "del arr[1]"
   ]
  },
  {
   "cell_type": "code",
   "execution_count": 54,
   "metadata": {
    "ExecuteTime": {
     "end_time": "2019-09-03T04:41:25.562696Z",
     "start_time": "2019-09-03T04:41:25.555863Z"
    },
    "hidden": true
   },
   "outputs": [
    {
     "data": {
      "text/plain": [
       "['a', 'b', 'c', 'd']"
      ]
     },
     "execution_count": 54,
     "metadata": {},
     "output_type": "execute_result"
    }
   ],
   "source": [
    "# Strings can be unpacked into a list to\n",
    "# get a mutable representation:\n",
    "list('abcd')"
   ]
  },
  {
   "cell_type": "code",
   "execution_count": 55,
   "metadata": {
    "ExecuteTime": {
     "end_time": "2019-09-03T04:41:33.359389Z",
     "start_time": "2019-09-03T04:41:33.352555Z"
    },
    "hidden": true
   },
   "outputs": [
    {
     "data": {
      "text/plain": [
       "'abcd'"
      ]
     },
     "execution_count": 55,
     "metadata": {},
     "output_type": "execute_result"
    }
   ],
   "source": [
    "''.join(list('abcd'))"
   ]
  },
  {
   "cell_type": "code",
   "execution_count": 56,
   "metadata": {
    "ExecuteTime": {
     "end_time": "2019-09-03T04:41:55.630032Z",
     "start_time": "2019-09-03T04:41:55.624175Z"
    },
    "hidden": true
   },
   "outputs": [
    {
     "data": {
      "text/plain": [
       "str"
      ]
     },
     "execution_count": 56,
     "metadata": {},
     "output_type": "execute_result"
    }
   ],
   "source": [
    "# Strings are recursive data structures:\n",
    "type('abc')"
   ]
  },
  {
   "cell_type": "code",
   "execution_count": 58,
   "metadata": {
    "ExecuteTime": {
     "end_time": "2019-09-03T04:42:21.420479Z",
     "start_time": "2019-09-03T04:42:21.413646Z"
    },
    "hidden": true
   },
   "outputs": [
    {
     "data": {
      "text/plain": [
       "str"
      ]
     },
     "execution_count": 58,
     "metadata": {},
     "output_type": "execute_result"
    }
   ],
   "source": [
    "type('abc'[0])"
   ]
  },
  {
   "cell_type": "markdown",
   "metadata": {
    "heading_collapsed": true,
    "hidden": true
   },
   "source": [
    "### bytes – Immutable Arrays of Single Bytes"
   ]
  },
  {
   "cell_type": "markdown",
   "metadata": {
    "hidden": true
   },
   "source": [
    "Bytes objects are immutable sequences of single bytes (integers in the range of 0 <= x <= 255).12 Conceptually, they’re similar to str objects, and you can also think of them as immutable arrays of bytes. \n",
    "\n",
    "Like strings, bytes have their own literal syntax for creating objects and they’re space-efficient. <font color = 'blue'>Bytes objects are immutable, but unlike strings, there’s a dedicated “mutable byte array” data type called bytearray that they can be unpacked into. You’ll hear more about that in the next section</font>."
   ]
  },
  {
   "cell_type": "code",
   "execution_count": 59,
   "metadata": {
    "ExecuteTime": {
     "end_time": "2019-09-03T04:44:32.994438Z",
     "start_time": "2019-09-03T04:44:32.988582Z"
    },
    "hidden": true
   },
   "outputs": [
    {
     "data": {
      "text/plain": [
       "1"
      ]
     },
     "execution_count": 59,
     "metadata": {},
     "output_type": "execute_result"
    }
   ],
   "source": [
    "arr = bytes((0, 1, 2, 3))\n",
    "arr[1]"
   ]
  },
  {
   "cell_type": "code",
   "execution_count": 60,
   "metadata": {
    "ExecuteTime": {
     "end_time": "2019-09-03T04:44:41.034986Z",
     "start_time": "2019-09-03T04:44:41.030106Z"
    },
    "hidden": true
   },
   "outputs": [
    {
     "data": {
      "text/plain": [
       "b'\\x00\\x01\\x02\\x03'"
      ]
     },
     "execution_count": 60,
     "metadata": {},
     "output_type": "execute_result"
    }
   ],
   "source": [
    "# Bytes literals have their own syntax:\n",
    "arr"
   ]
  },
  {
   "cell_type": "code",
   "execution_count": 61,
   "metadata": {
    "ExecuteTime": {
     "end_time": "2019-09-03T04:44:52.821928Z",
     "start_time": "2019-09-03T04:44:52.817044Z"
    },
    "hidden": true
   },
   "outputs": [],
   "source": [
    "arr = b'x00x01x02x03'"
   ]
  },
  {
   "cell_type": "code",
   "execution_count": 62,
   "metadata": {
    "ExecuteTime": {
     "end_time": "2019-09-03T04:44:55.682104Z",
     "start_time": "2019-09-03T04:44:55.676244Z"
    },
    "hidden": true
   },
   "outputs": [
    {
     "data": {
      "text/plain": [
       "b'x00x01x02x03'"
      ]
     },
     "execution_count": 62,
     "metadata": {},
     "output_type": "execute_result"
    }
   ],
   "source": [
    "arr"
   ]
  },
  {
   "cell_type": "code",
   "execution_count": 63,
   "metadata": {
    "ExecuteTime": {
     "end_time": "2019-09-03T04:45:40.012334Z",
     "start_time": "2019-09-03T04:45:40.000621Z"
    },
    "hidden": true
   },
   "outputs": [
    {
     "ename": "ValueError",
     "evalue": "bytes must be in range(0, 256)",
     "output_type": "error",
     "traceback": [
      "\u001b[1;31m---------------------------------------------------------------------------\u001b[0m",
      "\u001b[1;31mValueError\u001b[0m                                Traceback (most recent call last)",
      "\u001b[1;32m<ipython-input-63-f8b21cf8bf75>\u001b[0m in \u001b[0;36m<module>\u001b[1;34m\u001b[0m\n\u001b[0;32m      1\u001b[0m \u001b[1;31m# Only valid \"bytes\" are allowed:\u001b[0m\u001b[1;33m\u001b[0m\u001b[1;33m\u001b[0m\u001b[1;33m\u001b[0m\u001b[0m\n\u001b[1;32m----> 2\u001b[1;33m \u001b[0mbytes\u001b[0m\u001b[1;33m(\u001b[0m\u001b[1;33m(\u001b[0m\u001b[1;36m0\u001b[0m\u001b[1;33m,\u001b[0m \u001b[1;36m300\u001b[0m\u001b[1;33m)\u001b[0m\u001b[1;33m)\u001b[0m\u001b[1;33m\u001b[0m\u001b[1;33m\u001b[0m\u001b[0m\n\u001b[0m",
      "\u001b[1;31mValueError\u001b[0m: bytes must be in range(0, 256)"
     ]
    }
   ],
   "source": [
    "# Only valid \"bytes\" are allowed:\n",
    "bytes((0, 300))"
   ]
  },
  {
   "cell_type": "code",
   "execution_count": 64,
   "metadata": {
    "ExecuteTime": {
     "end_time": "2019-09-03T04:45:58.698491Z",
     "start_time": "2019-09-03T04:45:58.686780Z"
    },
    "hidden": true
   },
   "outputs": [
    {
     "ename": "TypeError",
     "evalue": "'bytes' object does not support item assignment",
     "output_type": "error",
     "traceback": [
      "\u001b[1;31m---------------------------------------------------------------------------\u001b[0m",
      "\u001b[1;31mTypeError\u001b[0m                                 Traceback (most recent call last)",
      "\u001b[1;32m<ipython-input-64-714056f42f40>\u001b[0m in \u001b[0;36m<module>\u001b[1;34m\u001b[0m\n\u001b[0;32m      1\u001b[0m \u001b[1;31m# Bytes are immutable:\u001b[0m\u001b[1;33m\u001b[0m\u001b[1;33m\u001b[0m\u001b[1;33m\u001b[0m\u001b[0m\n\u001b[1;32m----> 2\u001b[1;33m \u001b[0marr\u001b[0m\u001b[1;33m[\u001b[0m\u001b[1;36m1\u001b[0m\u001b[1;33m]\u001b[0m \u001b[1;33m=\u001b[0m \u001b[1;36m23\u001b[0m\u001b[1;33m\u001b[0m\u001b[1;33m\u001b[0m\u001b[0m\n\u001b[0m",
      "\u001b[1;31mTypeError\u001b[0m: 'bytes' object does not support item assignment"
     ]
    }
   ],
   "source": [
    "# Bytes are immutable:\n",
    "arr[1] = 23"
   ]
  },
  {
   "cell_type": "code",
   "execution_count": 65,
   "metadata": {
    "ExecuteTime": {
     "end_time": "2019-09-03T04:46:08.373469Z",
     "start_time": "2019-09-03T04:46:08.361756Z"
    },
    "hidden": true
   },
   "outputs": [
    {
     "ename": "TypeError",
     "evalue": "'bytes' object doesn't support item deletion",
     "output_type": "error",
     "traceback": [
      "\u001b[1;31m---------------------------------------------------------------------------\u001b[0m",
      "\u001b[1;31mTypeError\u001b[0m                                 Traceback (most recent call last)",
      "\u001b[1;32m<ipython-input-65-df001b61e2e0>\u001b[0m in \u001b[0;36m<module>\u001b[1;34m\u001b[0m\n\u001b[1;32m----> 1\u001b[1;33m \u001b[1;32mdel\u001b[0m \u001b[0marr\u001b[0m\u001b[1;33m[\u001b[0m\u001b[1;36m1\u001b[0m\u001b[1;33m]\u001b[0m\u001b[1;33m\u001b[0m\u001b[1;33m\u001b[0m\u001b[0m\n\u001b[0m",
      "\u001b[1;31mTypeError\u001b[0m: 'bytes' object doesn't support item deletion"
     ]
    }
   ],
   "source": [
    "del arr[1]"
   ]
  },
  {
   "cell_type": "markdown",
   "metadata": {
    "heading_collapsed": true,
    "hidden": true
   },
   "source": [
    "### bytearray – Mutable Arrays of Single Bytes"
   ]
  },
  {
   "cell_type": "markdown",
   "metadata": {
    "hidden": true
   },
   "source": [
    "The bytearray type is a mutable sequence of integers in the range 0 <= x <= 255.13 <font color = 'blue'>They’re closely related to bytes objects with the main difference being that bytearrays can be modified freely—you can overwrite elements, remove existing elements, or add new ones</font>.\n",
    "\n",
    "<font color = 'blue'>The bytearray object will grow and shrink accordingly. Bytearrays can be converted back into immutable bytes objects but this involves copying the stored data in full—a slow operation taking O(n) time</font>."
   ]
  },
  {
   "cell_type": "code",
   "execution_count": 66,
   "metadata": {
    "ExecuteTime": {
     "end_time": "2019-09-03T05:41:25.101254Z",
     "start_time": "2019-09-03T05:41:25.094422Z"
    },
    "hidden": true
   },
   "outputs": [
    {
     "data": {
      "text/plain": [
       "1"
      ]
     },
     "execution_count": 66,
     "metadata": {},
     "output_type": "execute_result"
    }
   ],
   "source": [
    "arr = bytearray((0, 1, 2, 3))\n",
    "arr[1]"
   ]
  },
  {
   "cell_type": "code",
   "execution_count": 67,
   "metadata": {
    "ExecuteTime": {
     "end_time": "2019-09-03T05:41:36.133151Z",
     "start_time": "2019-09-03T05:41:36.127294Z"
    },
    "hidden": true
   },
   "outputs": [
    {
     "data": {
      "text/plain": [
       "bytearray(b'\\x00\\x01\\x02\\x03')"
      ]
     },
     "execution_count": 67,
     "metadata": {},
     "output_type": "execute_result"
    }
   ],
   "source": [
    "# The bytearray repr:\n",
    "arr"
   ]
  },
  {
   "cell_type": "code",
   "execution_count": 68,
   "metadata": {
    "ExecuteTime": {
     "end_time": "2019-09-03T05:41:56.110650Z",
     "start_time": "2019-09-03T05:41:56.102840Z"
    },
    "hidden": true
   },
   "outputs": [
    {
     "data": {
      "text/plain": [
       "bytearray(b'\\x00\\x17\\x02\\x03')"
      ]
     },
     "execution_count": 68,
     "metadata": {},
     "output_type": "execute_result"
    }
   ],
   "source": [
    "# Bytearrays are mutable:\n",
    "arr[1] = 23\n",
    "arr"
   ]
  },
  {
   "cell_type": "code",
   "execution_count": 69,
   "metadata": {
    "ExecuteTime": {
     "end_time": "2019-09-03T05:42:02.293683Z",
     "start_time": "2019-09-03T05:42:02.286848Z"
    },
    "hidden": true
   },
   "outputs": [
    {
     "data": {
      "text/plain": [
       "23"
      ]
     },
     "execution_count": 69,
     "metadata": {},
     "output_type": "execute_result"
    }
   ],
   "source": [
    "arr[1]"
   ]
  },
  {
   "cell_type": "code",
   "execution_count": 70,
   "metadata": {
    "ExecuteTime": {
     "end_time": "2019-09-03T05:42:12.247959Z",
     "start_time": "2019-09-03T05:42:12.241125Z"
    },
    "hidden": true
   },
   "outputs": [
    {
     "data": {
      "text/plain": [
       "bytearray(b'\\x00\\x02\\x03')"
      ]
     },
     "execution_count": 70,
     "metadata": {},
     "output_type": "execute_result"
    }
   ],
   "source": [
    "# Bytearrays can grow and shrink in size:\n",
    "del arr[1]\n",
    "arr"
   ]
  },
  {
   "cell_type": "code",
   "execution_count": 71,
   "metadata": {
    "ExecuteTime": {
     "end_time": "2019-09-03T05:42:22.192841Z",
     "start_time": "2019-09-03T05:42:22.186008Z"
    },
    "hidden": true
   },
   "outputs": [
    {
     "data": {
      "text/plain": [
       "bytearray(b'\\x00\\x02\\x03*')"
      ]
     },
     "execution_count": 71,
     "metadata": {},
     "output_type": "execute_result"
    }
   ],
   "source": [
    "arr.append(42)\n",
    "arr"
   ]
  },
  {
   "cell_type": "code",
   "execution_count": 72,
   "metadata": {
    "ExecuteTime": {
     "end_time": "2019-09-03T05:42:34.070136Z",
     "start_time": "2019-09-03T05:42:34.058419Z"
    },
    "hidden": true
   },
   "outputs": [
    {
     "ename": "TypeError",
     "evalue": "an integer is required",
     "output_type": "error",
     "traceback": [
      "\u001b[1;31m---------------------------------------------------------------------------\u001b[0m",
      "\u001b[1;31mTypeError\u001b[0m                                 Traceback (most recent call last)",
      "\u001b[1;32m<ipython-input-72-7c2bf9d651dd>\u001b[0m in \u001b[0;36m<module>\u001b[1;34m\u001b[0m\n\u001b[0;32m      1\u001b[0m \u001b[1;31m# Bytearrays can only hold \"bytes\"\u001b[0m\u001b[1;33m\u001b[0m\u001b[1;33m\u001b[0m\u001b[1;33m\u001b[0m\u001b[0m\n\u001b[0;32m      2\u001b[0m \u001b[1;31m# (integers in the range 0 <= x <= 255)\u001b[0m\u001b[1;33m\u001b[0m\u001b[1;33m\u001b[0m\u001b[1;33m\u001b[0m\u001b[0m\n\u001b[1;32m----> 3\u001b[1;33m \u001b[0marr\u001b[0m\u001b[1;33m[\u001b[0m\u001b[1;36m1\u001b[0m\u001b[1;33m]\u001b[0m \u001b[1;33m=\u001b[0m \u001b[1;34m'hello'\u001b[0m\u001b[1;33m\u001b[0m\u001b[1;33m\u001b[0m\u001b[0m\n\u001b[0m",
      "\u001b[1;31mTypeError\u001b[0m: an integer is required"
     ]
    }
   ],
   "source": [
    "# Bytearrays can only hold \"bytes\"\n",
    "# (integers in the range 0 <= x <= 255)\n",
    "arr[1] = 'hello'"
   ]
  },
  {
   "cell_type": "code",
   "execution_count": 73,
   "metadata": {
    "ExecuteTime": {
     "end_time": "2019-09-03T05:42:47.866098Z",
     "start_time": "2019-09-03T05:42:47.854384Z"
    },
    "hidden": true
   },
   "outputs": [
    {
     "ename": "ValueError",
     "evalue": "byte must be in range(0, 256)",
     "output_type": "error",
     "traceback": [
      "\u001b[1;31m---------------------------------------------------------------------------\u001b[0m",
      "\u001b[1;31mValueError\u001b[0m                                Traceback (most recent call last)",
      "\u001b[1;32m<ipython-input-73-6088e2f482e7>\u001b[0m in \u001b[0;36m<module>\u001b[1;34m\u001b[0m\n\u001b[1;32m----> 1\u001b[1;33m \u001b[0marr\u001b[0m\u001b[1;33m[\u001b[0m\u001b[1;36m1\u001b[0m\u001b[1;33m]\u001b[0m \u001b[1;33m=\u001b[0m \u001b[1;36m300\u001b[0m\u001b[1;33m\u001b[0m\u001b[1;33m\u001b[0m\u001b[0m\n\u001b[0m",
      "\u001b[1;31mValueError\u001b[0m: byte must be in range(0, 256)"
     ]
    }
   ],
   "source": [
    "arr[1] = 300"
   ]
  },
  {
   "cell_type": "code",
   "execution_count": 74,
   "metadata": {
    "ExecuteTime": {
     "end_time": "2019-09-03T05:43:00.037514Z",
     "start_time": "2019-09-03T05:43:00.030681Z"
    },
    "hidden": true
   },
   "outputs": [
    {
     "data": {
      "text/plain": [
       "b'\\x00\\x02\\x03*'"
      ]
     },
     "execution_count": 74,
     "metadata": {},
     "output_type": "execute_result"
    }
   ],
   "source": [
    "# Bytearrays can be converted back into bytes objects:\n",
    "# (This will copy the data)\n",
    "bytes(arr)"
   ]
  },
  {
   "cell_type": "markdown",
   "metadata": {
    "heading_collapsed": true
   },
   "source": [
    "## Records, Structs, and Data Transfer Objects"
   ]
  },
  {
   "cell_type": "markdown",
   "metadata": {
    "heading_collapsed": true,
    "hidden": true
   },
   "source": [
    "### dict – Simple Data Objects"
   ]
  },
  {
   "cell_type": "markdown",
   "metadata": {
    "hidden": true
   },
   "source": [
    "Python dictionaries store an arbitrary number of objects, each identified by a unique key.15 Dictionaries are also often called maps or associative arrays and allow for the efficient lookup, insertion, and deletion of any object associated with a given key.\n",
    "\n",
    "Data objects created using dictionaries are mutable, and there’s little protection against misspelled field names, as fields can be added and removed freely at any time. Both of these properties can introduce surprising bugs, and there’s always a trade-off to be made between convenience and error resilience."
   ]
  },
  {
   "cell_type": "code",
   "execution_count": 75,
   "metadata": {
    "ExecuteTime": {
     "end_time": "2019-09-03T05:56:28.915772Z",
     "start_time": "2019-09-03T05:56:28.906988Z"
    },
    "hidden": true
   },
   "outputs": [
    {
     "data": {
      "text/plain": [
       "{'color': 'blue', 'mileage': 40231, 'automatic': False}"
      ]
     },
     "execution_count": 75,
     "metadata": {},
     "output_type": "execute_result"
    }
   ],
   "source": [
    "car1 = {\n",
    "    'color': 'red',\n",
    "    'mileage': 3812.4,\n",
    "    'automatic': True,\n",
    "}\n",
    "\n",
    "car2 = {\n",
    "    'color': 'blue',\n",
    "    'mileage': 40231,\n",
    "    'automatic': False,\n",
    "}\n",
    "\n",
    "# Dicts have a nice repr:\n",
    "car2"
   ]
  },
  {
   "cell_type": "code",
   "execution_count": 76,
   "metadata": {
    "ExecuteTime": {
     "end_time": "2019-09-03T05:56:37.768940Z",
     "start_time": "2019-09-03T05:56:37.762106Z"
    },
    "hidden": true
   },
   "outputs": [
    {
     "data": {
      "text/plain": [
       "40231"
      ]
     },
     "execution_count": 76,
     "metadata": {},
     "output_type": "execute_result"
    }
   ],
   "source": [
    "# Get mileage:\n",
    "car2['mileage']"
   ]
  },
  {
   "cell_type": "code",
   "execution_count": 77,
   "metadata": {
    "ExecuteTime": {
     "end_time": "2019-09-03T05:56:48.292500Z",
     "start_time": "2019-09-03T05:56:48.284693Z"
    },
    "hidden": true
   },
   "outputs": [
    {
     "data": {
      "text/plain": [
       "{'color': 'blue', 'mileage': 12, 'automatic': False, 'windshield': 'broken'}"
      ]
     },
     "execution_count": 77,
     "metadata": {},
     "output_type": "execute_result"
    }
   ],
   "source": [
    "# Dicts are mutable:\n",
    "car2['mileage'] = 12\n",
    "car2['windshield'] = 'broken'\n",
    "car2"
   ]
  },
  {
   "cell_type": "code",
   "execution_count": 80,
   "metadata": {
    "ExecuteTime": {
     "end_time": "2019-09-03T05:57:32.856019Z",
     "start_time": "2019-09-03T05:57:32.847232Z"
    },
    "hidden": true
   },
   "outputs": [
    {
     "data": {
      "text/plain": [
       "{'colr': 'green', 'automatic': False, 'windshield': 'broken'}"
      ]
     },
     "execution_count": 80,
     "metadata": {},
     "output_type": "execute_result"
    }
   ],
   "source": [
    "# No protection against wrong field names,\n",
    "# or missing/extra fields:\n",
    "car3 = {\n",
    "    'colr': 'green',\n",
    "    'automatic': False,\n",
    "    'windshield': 'broken',\n",
    "}\n",
    "\n",
    "car3"
   ]
  },
  {
   "cell_type": "markdown",
   "metadata": {
    "heading_collapsed": true,
    "hidden": true
   },
   "source": [
    "### tuple – Immutable Groups of Objects"
   ]
  },
  {
   "cell_type": "markdown",
   "metadata": {
    "hidden": true
   },
   "source": [
    "Python’s tuples are simple data structures for grouping arbitrary objects.16 Tuples are immutable—they cannot be modified once they’ve been created. \n",
    "\n",
    "Performance-wise, tuples take up slightly less memory than lists in CPython,17 and they’re also faster to construct. \n",
    "\n",
    "As you can see in the bytecode disassembly below, constructing a tuple constant takes a single LOAD_CONST opcode, while constructing a list object with the same contents requires several more operations:"
   ]
  },
  {
   "cell_type": "code",
   "execution_count": 83,
   "metadata": {
    "ExecuteTime": {
     "end_time": "2019-09-03T06:00:10.045262Z",
     "start_time": "2019-09-03T06:00:10.037452Z"
    },
    "hidden": true
   },
   "outputs": [
    {
     "name": "stdout",
     "output_type": "stream",
     "text": [
      "  1           0 LOAD_CONST               0 ((23, 'a', 'b', 'c'))\n",
      "              2 RETURN_VALUE\n"
     ]
    }
   ],
   "source": [
    "import dis\n",
    "dis.dis(compile(\"(23, 'a', 'b', 'c')\", '', 'eval'))"
   ]
  },
  {
   "cell_type": "code",
   "execution_count": 85,
   "metadata": {
    "ExecuteTime": {
     "end_time": "2019-09-03T06:00:51.514232Z",
     "start_time": "2019-09-03T06:00:51.506424Z"
    },
    "hidden": true
   },
   "outputs": [
    {
     "name": "stdout",
     "output_type": "stream",
     "text": [
      "  1           0 LOAD_CONST               0 (23)\n",
      "              2 LOAD_CONST               1 ('a')\n",
      "              4 LOAD_CONST               2 ('b')\n",
      "              6 LOAD_CONST               3 ('c')\n",
      "              8 BUILD_LIST               4\n",
      "             10 RETURN_VALUE\n"
     ]
    }
   ],
   "source": [
    "dis.dis(compile(\"[23, 'a', 'b', 'c']\", '', 'eval'))"
   ]
  },
  {
   "cell_type": "markdown",
   "metadata": {
    "hidden": true
   },
   "source": [
    "However, you shouldn’t place too much emphasis on these differences. In practice, the performance difference will often be negligible, and trying to squeeze extra performance out of a program by switching from lists to tuples will likely be the wrong approach."
   ]
  },
  {
   "cell_type": "markdown",
   "metadata": {
    "hidden": true
   },
   "source": [
    "<font color = 'red'>A potential downside of plain tuples is that the data you store in them can only be pulled out by accessing it through integer indexes. You can’t give names to individual properties stored in a tuple. This can impact code readability</font>.\n",
    "\n",
    "<font color = 'red'>Also, a tuple is always an ad-hoc structure: It’s difficult to ensure that two tuples have the same number of fields and the same properties stored on them.</font>\n",
    "\n",
    "This makes it easy to introduce “slip-of-the-mind” bugs, such as mixing up the field order. <font color = 'blue'>Therefore, I would recommend that you keep the number of fields stored in a tuple as low as possible.</font>"
   ]
  },
  {
   "cell_type": "code",
   "execution_count": 86,
   "metadata": {
    "ExecuteTime": {
     "end_time": "2019-09-03T06:03:20.213423Z",
     "start_time": "2019-09-03T06:03:20.201708Z"
    },
    "hidden": true
   },
   "outputs": [
    {
     "data": {
      "text/plain": [
       "('red', 3812.4, True)"
      ]
     },
     "execution_count": 86,
     "metadata": {},
     "output_type": "execute_result"
    },
    {
     "data": {
      "text/plain": [
       "('blue', 40231.0, False)"
      ]
     },
     "execution_count": 86,
     "metadata": {},
     "output_type": "execute_result"
    }
   ],
   "source": [
    "# Fields: color, mileage, automatic\n",
    "car1 = ('red', 3812.4, True)\n",
    "car2 = ('blue', 40231.0, False)\n",
    "\n",
    "# Tuple instances have a nice repr:\n",
    "car1\n",
    "\n",
    "car2"
   ]
  },
  {
   "cell_type": "code",
   "execution_count": 87,
   "metadata": {
    "ExecuteTime": {
     "end_time": "2019-09-03T06:03:20.838251Z",
     "start_time": "2019-09-03T06:03:20.831416Z"
    },
    "hidden": true
   },
   "outputs": [
    {
     "data": {
      "text/plain": [
       "40231.0"
      ]
     },
     "execution_count": 87,
     "metadata": {},
     "output_type": "execute_result"
    }
   ],
   "source": [
    "# Get mileage:\n",
    "car2[1]"
   ]
  },
  {
   "cell_type": "code",
   "execution_count": 88,
   "metadata": {
    "ExecuteTime": {
     "end_time": "2019-09-03T06:03:21.330301Z",
     "start_time": "2019-09-03T06:03:21.317609Z"
    },
    "hidden": true
   },
   "outputs": [
    {
     "ename": "TypeError",
     "evalue": "'tuple' object does not support item assignment",
     "output_type": "error",
     "traceback": [
      "\u001b[1;31m---------------------------------------------------------------------------\u001b[0m",
      "\u001b[1;31mTypeError\u001b[0m                                 Traceback (most recent call last)",
      "\u001b[1;32m<ipython-input-88-f66c7b696481>\u001b[0m in \u001b[0;36m<module>\u001b[1;34m\u001b[0m\n\u001b[0;32m      1\u001b[0m \u001b[1;31m# Tuples are immutable:\u001b[0m\u001b[1;33m\u001b[0m\u001b[1;33m\u001b[0m\u001b[1;33m\u001b[0m\u001b[0m\n\u001b[1;32m----> 2\u001b[1;33m \u001b[0mcar2\u001b[0m\u001b[1;33m[\u001b[0m\u001b[1;36m1\u001b[0m\u001b[1;33m]\u001b[0m \u001b[1;33m=\u001b[0m \u001b[1;36m12\u001b[0m\u001b[1;33m\u001b[0m\u001b[1;33m\u001b[0m\u001b[0m\n\u001b[0m",
      "\u001b[1;31mTypeError\u001b[0m: 'tuple' object does not support item assignment"
     ]
    }
   ],
   "source": [
    "# Tuples are immutable:\n",
    "car2[1] = 12"
   ]
  },
  {
   "cell_type": "code",
   "execution_count": 89,
   "metadata": {
    "ExecuteTime": {
     "end_time": "2019-09-03T06:03:21.856522Z",
     "start_time": "2019-09-03T06:03:21.850664Z"
    },
    "hidden": true
   },
   "outputs": [],
   "source": [
    "# No protection against missing/extra fields\n",
    "# or a wrong order:\n",
    "car3 = (3431.5, 'green', True, 'silver')"
   ]
  },
  {
   "cell_type": "markdown",
   "metadata": {
    "heading_collapsed": true,
    "hidden": true
   },
   "source": [
    "### Writing a Custom Class – More Work, More Control"
   ]
  },
  {
   "cell_type": "markdown",
   "metadata": {
    "hidden": true
   },
   "source": [
    "Classes allow you to define reusable “blueprints” for data objects to ensure each object provides the same set of fields. Using regular Python classes as record data types is feasible, but it also takes manual work to get the convenience features of other implementations. For example, adding new fields to the ```__init__``` constructor is verbose and takes time.\n",
    "\n",
    "Writing a custom class is a great option whenever you’d like to add business logic and behavior to your record objects using methods. However, this means that these objects are technically no longer plain data objects."
   ]
  },
  {
   "cell_type": "code",
   "execution_count": 97,
   "metadata": {
    "ExecuteTime": {
     "end_time": "2019-09-03T06:38:52.885375Z",
     "start_time": "2019-09-03T06:38:52.879520Z"
    },
    "hidden": true
   },
   "outputs": [],
   "source": [
    "class Car:\n",
    "    def __init__(self, color, mileage, automatic):\n",
    "        self.color = color\n",
    "        self.mileage = mileage\n",
    "        self.automatic = automatic\n",
    "\n",
    "car1 = Car('red', 3812.4, True)\n",
    "car2 = Car('blue', 40231.0, False)"
   ]
  },
  {
   "cell_type": "code",
   "execution_count": 98,
   "metadata": {
    "ExecuteTime": {
     "end_time": "2019-09-03T06:39:14.710935Z",
     "start_time": "2019-09-03T06:39:14.705079Z"
    },
    "hidden": true
   },
   "outputs": [
    {
     "data": {
      "text/plain": [
       "40231.0"
      ]
     },
     "execution_count": 98,
     "metadata": {},
     "output_type": "execute_result"
    }
   ],
   "source": [
    "# Get the mileage:\n",
    "car2.mileage"
   ]
  },
  {
   "cell_type": "code",
   "execution_count": 111,
   "metadata": {
    "ExecuteTime": {
     "end_time": "2019-09-03T06:40:54.834058Z",
     "start_time": "2019-09-03T06:40:54.830153Z"
    },
    "hidden": true
   },
   "outputs": [],
   "source": [
    "# Classes are mutable:\n",
    "car2.mileage = 12\n",
    "car2.windshield = 'broken'"
   ]
  },
  {
   "cell_type": "code",
   "execution_count": 100,
   "metadata": {
    "ExecuteTime": {
     "end_time": "2019-09-03T06:39:29.065147Z",
     "start_time": "2019-09-03T06:39:29.059290Z"
    },
    "hidden": true
   },
   "outputs": [
    {
     "data": {
      "text/plain": [
       "<__main__.Car at 0x268c33663c8>"
      ]
     },
     "execution_count": 100,
     "metadata": {},
     "output_type": "execute_result"
    }
   ],
   "source": [
    "# String representation is not very useful\n",
    "# (must add a manually written __repr__ method):\n",
    "car1"
   ]
  },
  {
   "cell_type": "markdown",
   "metadata": {
    "heading_collapsed": true,
    "hidden": true
   },
   "source": [
    "### collections.namedtuple – Convenient Data Objects"
   ]
  },
  {
   "cell_type": "markdown",
   "metadata": {
    "hidden": true
   },
   "source": [
    "The namedtuple class available in Python 2.6+ provides an extension of the built-in tuple data type.20 Similar to defining a custom class, using namedtuple allows you to define reusable “blueprints” for your records that ensure the correct field names are used. Namedtuples are immutable, just like regular tuples. This means you cannot add new fields or modify existing fields after the namedtuple instance was created.\n",
    "\n",
    "Besides that, namedtuples are, well… named tuples. Each object stored in them can be accessed through a unique identifier. This frees you from having to remember integer indexes, or resort to workarounds like defining integer constants as mnemonics for your indexes.\n",
    "\n",
    "Namedtuple objects are implemented as regular Python classes internally. When it comes to memory usage, they are also “better” than regular classes and just as memory efficient as regular tuples:"
   ]
  },
  {
   "cell_type": "code",
   "execution_count": 112,
   "metadata": {
    "ExecuteTime": {
     "end_time": "2019-09-03T06:43:26.544244Z",
     "start_time": "2019-09-03T06:43:26.533503Z"
    },
    "hidden": true
   },
   "outputs": [
    {
     "data": {
      "text/plain": [
       "72"
      ]
     },
     "execution_count": 112,
     "metadata": {},
     "output_type": "execute_result"
    },
    {
     "data": {
      "text/plain": [
       "72"
      ]
     },
     "execution_count": 112,
     "metadata": {},
     "output_type": "execute_result"
    }
   ],
   "source": [
    "from collections import namedtuple\n",
    "from sys import getsizeof\n",
    "\n",
    "p1 = namedtuple('Point', 'x y z')(1, 2, 3)\n",
    "p2 = (1, 2, 3)\n",
    "\n",
    "getsizeof(p1)\n",
    "getsizeof(p2)"
   ]
  },
  {
   "cell_type": "code",
   "execution_count": 113,
   "metadata": {
    "ExecuteTime": {
     "end_time": "2019-09-03T06:44:17.866168Z",
     "start_time": "2019-09-03T06:44:17.858358Z"
    },
    "hidden": true
   },
   "outputs": [
    {
     "data": {
      "text/plain": [
       "{True: 'maybe'}"
      ]
     },
     "execution_count": 113,
     "metadata": {},
     "output_type": "execute_result"
    }
   ],
   "source": [
    "{True: 'yes', 1: 'no', 1.0: 'maybe'}"
   ]
  },
  {
   "cell_type": "markdown",
   "metadata": {
    "hidden": true
   },
   "source": [
    "Namedtuples can be an easy way to clean up your code and make it more readable by enforcing a better structure for your data. \n",
    "\n",
    "I find that going from ad-hoc data types, like dictionaries with a fixed format, to namedtuples helps me express the intent of my code more clearly. Often when I apply this refactoring, I magically come up with a better solution for the problem I’m facing. \n",
    "\n",
    "Using namedtuples over regular (unstructured) tuples and dicts can also make my coworkers’ lives easier: Namedtuples make the data that’s being passed around “self-documenting”, at least to a degree."
   ]
  },
  {
   "cell_type": "code",
   "execution_count": 114,
   "metadata": {
    "ExecuteTime": {
     "end_time": "2019-09-03T06:45:58.822015Z",
     "start_time": "2019-09-03T06:45:58.812254Z"
    },
    "hidden": true
   },
   "outputs": [
    {
     "data": {
      "text/plain": [
       "Car(color='red', mileage=3812.4, automatic=True)"
      ]
     },
     "execution_count": 114,
     "metadata": {},
     "output_type": "execute_result"
    }
   ],
   "source": [
    "from collections import namedtuple\n",
    "Car = namedtuple('Car' , 'color mileage automatic')\n",
    "car1 = Car('red', 3812.4, True)\n",
    "\n",
    "# Instances have a nice repr:\n",
    "car1"
   ]
  },
  {
   "cell_type": "code",
   "execution_count": 115,
   "metadata": {
    "ExecuteTime": {
     "end_time": "2019-09-03T06:46:04.713661Z",
     "start_time": "2019-09-03T06:46:04.707803Z"
    },
    "hidden": true
   },
   "outputs": [
    {
     "data": {
      "text/plain": [
       "3812.4"
      ]
     },
     "execution_count": 115,
     "metadata": {},
     "output_type": "execute_result"
    }
   ],
   "source": [
    "# Accessing fields:\n",
    "car1.mileage"
   ]
  },
  {
   "cell_type": "code",
   "execution_count": 116,
   "metadata": {
    "ExecuteTime": {
     "end_time": "2019-09-03T06:46:10.711158Z",
     "start_time": "2019-09-03T06:46:10.696514Z"
    },
    "hidden": true
   },
   "outputs": [
    {
     "ename": "AttributeError",
     "evalue": "can't set attribute",
     "output_type": "error",
     "traceback": [
      "\u001b[1;31m---------------------------------------------------------------------------\u001b[0m",
      "\u001b[1;31mAttributeError\u001b[0m                            Traceback (most recent call last)",
      "\u001b[1;32m<ipython-input-116-5382286a9975>\u001b[0m in \u001b[0;36m<module>\u001b[1;34m\u001b[0m\n\u001b[0;32m      1\u001b[0m \u001b[1;31m# Fields are immtuable:\u001b[0m\u001b[1;33m\u001b[0m\u001b[1;33m\u001b[0m\u001b[1;33m\u001b[0m\u001b[0m\n\u001b[1;32m----> 2\u001b[1;33m \u001b[0mcar1\u001b[0m\u001b[1;33m.\u001b[0m\u001b[0mmileage\u001b[0m \u001b[1;33m=\u001b[0m \u001b[1;36m12\u001b[0m\u001b[1;33m\u001b[0m\u001b[1;33m\u001b[0m\u001b[0m\n\u001b[0m",
      "\u001b[1;31mAttributeError\u001b[0m: can't set attribute"
     ]
    }
   ],
   "source": [
    "# Fields are immtuable:\n",
    "car1.mileage = 12"
   ]
  },
  {
   "cell_type": "code",
   "execution_count": 117,
   "metadata": {
    "ExecuteTime": {
     "end_time": "2019-09-03T06:46:17.533696Z",
     "start_time": "2019-09-03T06:46:17.521985Z"
    },
    "hidden": true,
    "scrolled": true
   },
   "outputs": [
    {
     "ename": "AttributeError",
     "evalue": "'Car' object has no attribute 'windshield'",
     "output_type": "error",
     "traceback": [
      "\u001b[1;31m---------------------------------------------------------------------------\u001b[0m",
      "\u001b[1;31mAttributeError\u001b[0m                            Traceback (most recent call last)",
      "\u001b[1;32m<ipython-input-117-02bf8c974dcf>\u001b[0m in \u001b[0;36m<module>\u001b[1;34m\u001b[0m\n\u001b[1;32m----> 1\u001b[1;33m \u001b[0mcar1\u001b[0m\u001b[1;33m.\u001b[0m\u001b[0mwindshield\u001b[0m \u001b[1;33m=\u001b[0m \u001b[1;34m'broken'\u001b[0m\u001b[1;33m\u001b[0m\u001b[1;33m\u001b[0m\u001b[0m\n\u001b[0m",
      "\u001b[1;31mAttributeError\u001b[0m: 'Car' object has no attribute 'windshield'"
     ]
    }
   ],
   "source": [
    "car1.windshield = 'broken'"
   ]
  },
  {
   "cell_type": "markdown",
   "metadata": {
    "heading_collapsed": true,
    "hidden": true
   },
   "source": [
    "##### typing.NamedTuple – Improved Namedtuples"
   ]
  },
  {
   "cell_type": "markdown",
   "metadata": {
    "hidden": true
   },
   "source": [
    "This class added in Python 3.6 is the younger sibling of the namedtuple class in the collections module.21 \n",
    "\n",
    "<font color = 'blue'>It is very similar to namedtuple, the main difference being an updated syntax for defining new record types and added support for type hints</font>. \n",
    "\n",
    "Please note that type annotations are not enforced without a separate type-checking tool like mypy.22 But even without tool support, they can provide useful hints for other programmers (or be terribly confusing if the type hints become out-of-date.)"
   ]
  },
  {
   "cell_type": "code",
   "execution_count": 118,
   "metadata": {
    "ExecuteTime": {
     "end_time": "2019-09-03T06:48:33.385924Z",
     "start_time": "2019-09-03T06:48:33.378113Z"
    },
    "hidden": true
   },
   "outputs": [],
   "source": [
    "from typing import NamedTuple\n",
    "\n",
    "class Car(NamedTuple):\n",
    "    color: str\n",
    "    mileage: float\n",
    "    automatic: bool\n",
    "\n",
    "car1 = Car('red', 3812.4, True)"
   ]
  },
  {
   "cell_type": "code",
   "execution_count": 119,
   "metadata": {
    "ExecuteTime": {
     "end_time": "2019-09-03T06:48:37.404988Z",
     "start_time": "2019-09-03T06:48:37.398154Z"
    },
    "hidden": true
   },
   "outputs": [
    {
     "data": {
      "text/plain": [
       "Car(color='red', mileage=3812.4, automatic=True)"
      ]
     },
     "execution_count": 119,
     "metadata": {},
     "output_type": "execute_result"
    }
   ],
   "source": [
    "# Instances have a nice repr:\n",
    "car1"
   ]
  },
  {
   "cell_type": "code",
   "execution_count": 120,
   "metadata": {
    "ExecuteTime": {
     "end_time": "2019-09-03T06:48:46.792255Z",
     "start_time": "2019-09-03T06:48:46.785420Z"
    },
    "hidden": true
   },
   "outputs": [
    {
     "data": {
      "text/plain": [
       "3812.4"
      ]
     },
     "execution_count": 120,
     "metadata": {},
     "output_type": "execute_result"
    }
   ],
   "source": [
    "# Accessing fields:\n",
    "car1.mileage"
   ]
  },
  {
   "cell_type": "code",
   "execution_count": 126,
   "metadata": {
    "ExecuteTime": {
     "end_time": "2019-09-03T06:49:33.123384Z",
     "start_time": "2019-09-03T06:49:33.109714Z"
    },
    "hidden": true
   },
   "outputs": [
    {
     "ename": "AttributeError",
     "evalue": "can't set attribute",
     "output_type": "error",
     "traceback": [
      "\u001b[1;31m---------------------------------------------------------------------------\u001b[0m",
      "\u001b[1;31mAttributeError\u001b[0m                            Traceback (most recent call last)",
      "\u001b[1;32m<ipython-input-126-cb079d098e44>\u001b[0m in \u001b[0;36m<module>\u001b[1;34m\u001b[0m\n\u001b[0;32m      1\u001b[0m \u001b[1;31m# Fields are immutable:\u001b[0m\u001b[1;33m\u001b[0m\u001b[1;33m\u001b[0m\u001b[1;33m\u001b[0m\u001b[0m\n\u001b[1;32m----> 2\u001b[1;33m \u001b[0mcar1\u001b[0m\u001b[1;33m.\u001b[0m\u001b[0mmileage\u001b[0m \u001b[1;33m=\u001b[0m \u001b[1;36m12\u001b[0m\u001b[1;33m\u001b[0m\u001b[1;33m\u001b[0m\u001b[0m\n\u001b[0m\u001b[0;32m      3\u001b[0m \u001b[1;31m# AttributeError: \"can't set attribute\"\u001b[0m\u001b[1;33m\u001b[0m\u001b[1;33m\u001b[0m\u001b[1;33m\u001b[0m\u001b[0m\n",
      "\u001b[1;31mAttributeError\u001b[0m: can't set attribute"
     ]
    }
   ],
   "source": [
    "# Fields are immutable:\n",
    "car1.mileage = 12\n",
    "# AttributeError: \"can't set attribute\""
   ]
  },
  {
   "cell_type": "code",
   "execution_count": 125,
   "metadata": {
    "ExecuteTime": {
     "end_time": "2019-09-03T06:49:31.939591Z",
     "start_time": "2019-09-03T06:49:31.927878Z"
    },
    "hidden": true
   },
   "outputs": [
    {
     "ename": "AttributeError",
     "evalue": "'Car' object has no attribute 'windshield'",
     "output_type": "error",
     "traceback": [
      "\u001b[1;31m---------------------------------------------------------------------------\u001b[0m",
      "\u001b[1;31mAttributeError\u001b[0m                            Traceback (most recent call last)",
      "\u001b[1;32m<ipython-input-125-0ef8233af974>\u001b[0m in \u001b[0;36m<module>\u001b[1;34m\u001b[0m\n\u001b[1;32m----> 1\u001b[1;33m \u001b[0mcar1\u001b[0m\u001b[1;33m.\u001b[0m\u001b[0mwindshield\u001b[0m \u001b[1;33m=\u001b[0m \u001b[1;34m'broken'\u001b[0m\u001b[1;33m\u001b[0m\u001b[1;33m\u001b[0m\u001b[0m\n\u001b[0m\u001b[0;32m      2\u001b[0m \u001b[1;31m# AttributeError:\u001b[0m\u001b[1;33m\u001b[0m\u001b[1;33m\u001b[0m\u001b[1;33m\u001b[0m\u001b[0m\n\u001b[0;32m      3\u001b[0m \u001b[1;31m# \"'Car' object has no attribute 'windshield'\"\u001b[0m\u001b[1;33m\u001b[0m\u001b[1;33m\u001b[0m\u001b[1;33m\u001b[0m\u001b[0m\n",
      "\u001b[1;31mAttributeError\u001b[0m: 'Car' object has no attribute 'windshield'"
     ]
    }
   ],
   "source": [
    "car1.windshield = 'broken'\n",
    "# AttributeError:\n",
    "# \"'Car' object has no attribute 'windshield'\""
   ]
  },
  {
   "cell_type": "code",
   "execution_count": 127,
   "metadata": {
    "ExecuteTime": {
     "end_time": "2019-09-03T06:49:40.113936Z",
     "start_time": "2019-09-03T06:49:40.105151Z"
    },
    "hidden": true
   },
   "outputs": [
    {
     "data": {
      "text/plain": [
       "Car(color='red', mileage='NOT_A_FLOAT', automatic=99)"
      ]
     },
     "execution_count": 127,
     "metadata": {},
     "output_type": "execute_result"
    },
    {
     "data": {
      "text/plain": [
       "Car(color='red', mileage='NOT_A_FLOAT', automatic=99)"
      ]
     },
     "execution_count": 127,
     "metadata": {},
     "output_type": "execute_result"
    }
   ],
   "source": [
    "# Type annotations are not enforced without\n",
    "# a separate type checking tool like mypy:\n",
    "Car('red', 'NOT_A_FLOAT', 99)\n",
    "Car(color='red', mileage='NOT_A_FLOAT', automatic=99)"
   ]
  },
  {
   "cell_type": "markdown",
   "metadata": {
    "heading_collapsed": true,
    "hidden": true
   },
   "source": [
    "### struct.Struct – Serialized C Structs"
   ]
  },
  {
   "cell_type": "markdown",
   "metadata": {
    "hidden": true
   },
   "source": [
    "The struct.Struct class23 converts between Python values and C structs serialized into Python bytes objects. For example, it can be used to handle binary data stored in files or coming in from network connections. Structs are defined using a format strings-like mini language that allows you to define the arrangement of various C data types like char, int, and long, as well as their unsigned variants. Serialized structs are seldom used to represent data objects meant to be handled purely inside Python code. They’re intended primarily as a data exchange format, rather than as a way of holding data in memory that’s only used by Python code. In some cases, packing primitive data into structs may use less memory than keeping it in other data types. However, in most cases that would be quite an advanced (and probably unnecessary) optimization."
   ]
  },
  {
   "cell_type": "code",
   "execution_count": 128,
   "metadata": {
    "ExecuteTime": {
     "end_time": "2019-09-03T07:00:36.424569Z",
     "start_time": "2019-09-03T07:00:36.412856Z"
    },
    "hidden": true
   },
   "outputs": [
    {
     "data": {
      "text/plain": [
       "b'\\x17\\x00\\x00\\x00\\x00\\x00\\x00\\x00\\x00\\x00(B'"
      ]
     },
     "execution_count": 128,
     "metadata": {},
     "output_type": "execute_result"
    },
    {
     "data": {
      "text/plain": [
       "(23, False, 42.0)"
      ]
     },
     "execution_count": 128,
     "metadata": {},
     "output_type": "execute_result"
    }
   ],
   "source": [
    "from struct import Struct\n",
    "MyStruct = Struct('i?f')\n",
    "data = MyStruct.pack(23, False, 42.0)\n",
    "\n",
    "# All you get is a blob of data:\n",
    "data\n",
    "# b'x17x00x00x00x00x00x00x00x00x00(B'\n",
    "\n",
    "# Data blobs can be unpacked again:\n",
    "MyStruct.unpack(data)\n",
    "# (23, False, 42.0)"
   ]
  },
  {
   "cell_type": "markdown",
   "metadata": {
    "heading_collapsed": true,
    "hidden": true
   },
   "source": [
    "### types.SimpleNamespace – Fancy Attribute Access"
   ]
  },
  {
   "cell_type": "markdown",
   "metadata": {
    "hidden": true
   },
   "source": [
    "Here’s one more “esoteric” choice for implementing data objects in Python: types.SimpleNamespace.24 This class was added in Python 3.3 and it provides attribute access to its namespace. \n",
    "\n",
    "This means SimpleNamespace instances expose all of their keys as class attributes. This means you can use obj.key “dotted” attribute access instead of the obj['key'] square-brackets indexing syntax that’s used by regular dicts. All instances also include a meaningful ```__repr__``` by default. \n",
    "\n",
    "As its name proclaims, ```SimpleNamespace``` is simple! <font color = 'blue'>It’s basically a glorified dictionary that allows attribute access and prints nicely. Attributes can be added, modified, and deleted freely</font>."
   ]
  },
  {
   "cell_type": "code",
   "execution_count": 129,
   "metadata": {
    "ExecuteTime": {
     "end_time": "2019-09-03T07:02:29.376163Z",
     "start_time": "2019-09-03T07:02:29.367375Z"
    },
    "hidden": true
   },
   "outputs": [
    {
     "data": {
      "text/plain": [
       "namespace(automatic=True, color='red', mileage=3812.4)"
      ]
     },
     "execution_count": 129,
     "metadata": {},
     "output_type": "execute_result"
    }
   ],
   "source": [
    "from types import SimpleNamespace\n",
    "car1 = SimpleNamespace(color='red',\n",
    "                       mileage=3812.4,\n",
    "                       automatic=True)\n",
    "\n",
    "# The default repr:\n",
    "car1\n",
    "# namespace(automatic=True, color='red', mileage=3812.4)"
   ]
  },
  {
   "cell_type": "code",
   "execution_count": 130,
   "metadata": {
    "ExecuteTime": {
     "end_time": "2019-09-03T07:02:33.777937Z",
     "start_time": "2019-09-03T07:02:33.771106Z"
    },
    "hidden": true
   },
   "outputs": [
    {
     "data": {
      "text/plain": [
       "namespace(color='red', mileage=12, windshield='broken')"
      ]
     },
     "execution_count": 130,
     "metadata": {},
     "output_type": "execute_result"
    }
   ],
   "source": [
    "# Instances support attribute access and are mutable:\n",
    "car1.mileage = 12\n",
    "car1.windshield = 'broken'\n",
    "del car1.automatic\n",
    "car1\n",
    "# namespace(color='red', mileage=12, windshield='broken')"
   ]
  },
  {
   "cell_type": "markdown",
   "metadata": {
    "heading_collapsed": true,
    "hidden": true
   },
   "source": [
    "### Key Takeaways"
   ]
  },
  {
   "cell_type": "markdown",
   "metadata": {
    "hidden": true
   },
   "source": [
    "Now, which type should you use for data objects in Python? As you’ve\n",
    "seen, there’s quite a number of different options for implementing\n",
    "records or data objects. Generally your decision will depend on your\n",
    "use case:\n",
    "\n",
    "**<font color = 'purple'>You only have a few (2-3) fields </font>**: Using a plain tuple object may\n",
    "be okay if the field order is easy to remember or field names are superfluous. For example, think of an (x, y, z) point in 3D space.\n",
    "\n",
    "**<font color = 'purple'>You need immutable fields </font>**: In this case, plain tuples,\n",
    "collections.namedtuple, and typing.NamedTuple would all\n",
    "make good options for implementing this type of data object.\n",
    "\n",
    "**<font color = 'purple'>You need to lock down field names to avoid typos: </font>**\n",
    "collections.namedtuple and typing.NamedTuple are your friends\n",
    "here.\n",
    "\n",
    "**<font color = 'purple'>You want to keep things simple </font>**: A plain dictionary object might\n",
    "be a good choice due to the convenient syntax that closely resembles\n",
    "JSON.\n",
    "\n",
    "**<font color = 'purple'>You need full control over your data structure </font>**: It’s time to\n",
    "write a custom class with @property setters and getters.\n",
    "\n",
    "**<font color = 'purple'>You need to add behavior (methods) to the object </font>**: You\n",
    "should write a custom class, either from scratch or by extending\n",
    "collections.namedtuple or typing.NamedTuple.\n",
    "\n",
    "**<font color = 'purple'>You need to pack data tightly to serialize it to disk or to send\n",
    "it over the network </font>**: Time to read up on struct.Struct because this is a great use case for it.\n",
    "\n",
    "If you’re looking for a safe default choice, my general recommendation for implementing a plain record, struct, or data object in Python would be to use collections.namedtuple in Python 2.x and its younger sibling, typing.NamedTuple in Python 3."
   ]
  },
  {
   "cell_type": "markdown",
   "metadata": {
    "heading_collapsed": true
   },
   "source": [
    "## Sets and Multisets"
   ]
  },
  {
   "cell_type": "markdown",
   "metadata": {
    "hidden": true
   },
   "source": [
    "In this chapter you’ll see how to implement mutable and immutable set and multiset (bag) data structures in Python, using built-in data types and classes from the standard library. First though, let’s do a quick recap of what a set data structure is:\n",
    "\n",
    "<font color = 'blue'>A set is an unordered collection of objects that does not allow duplicate elements</font>. Typically, sets are used to quickly test a value for membership in the set, to insert or delete new values from a set, and to compute the union or intersection of two sets.\n",
    "\n",
    "<font color = 'blue'>In a “proper” set implementation, membership tests are expected to run in fast O(1) time</font>. <font color = 'blue'>Union, intersection, difference, and subset operations should take O(n) time on average</font>. The set implementations included in Python’s standard library follow these performance characteristics.(https://wiki.python.org/moin/TimeComplexity) \n",
    "\n",
    "Just like dictionaries, sets get special treatment in Python and have some syntactic sugar that makes them easy to create. For example, the curly-braces set expression syntax and set comprehensions allow you to conveniently define new set instances:"
   ]
  },
  {
   "cell_type": "code",
   "execution_count": 131,
   "metadata": {
    "ExecuteTime": {
     "end_time": "2019-09-03T07:06:14.906894Z",
     "start_time": "2019-09-03T07:06:14.902016Z"
    },
    "hidden": true
   },
   "outputs": [],
   "source": [
    "vowels = {'a', 'e', 'i', 'o', 'u'}\n",
    "squares = {x * x for x in range(10)}"
   ]
  },
  {
   "cell_type": "code",
   "execution_count": 134,
   "metadata": {
    "ExecuteTime": {
     "end_time": "2019-09-03T07:07:12.755845Z",
     "start_time": "2019-09-03T07:07:12.747060Z"
    },
    "hidden": true
   },
   "outputs": [
    {
     "data": {
      "text/plain": [
       "{'a', 'e', 'i', 'o', 'u'}"
      ]
     },
     "execution_count": 134,
     "metadata": {},
     "output_type": "execute_result"
    },
    {
     "data": {
      "text/plain": [
       "{0, 1, 4, 9, 16, 25, 36, 49, 64, 81}"
      ]
     },
     "execution_count": 134,
     "metadata": {},
     "output_type": "execute_result"
    }
   ],
   "source": [
    "vowels\n",
    "squares"
   ]
  },
  {
   "cell_type": "markdown",
   "metadata": {
    "hidden": true
   },
   "source": [
    "<font color = 'red'>But be careful: To create an empty set you’ll need to call the set() constructor. Using empty curly-braces {} is ambiguous and will create an empty dictionary instead.</font>\n",
    "\n",
    "**<font color = 'purple'>Python and its standard library provide several set implementations\n",
    "Let’s have a look at them. </font>**"
   ]
  },
  {
   "cell_type": "markdown",
   "metadata": {
    "heading_collapsed": true,
    "hidden": true
   },
   "source": [
    "### set – Your Go-To Set"
   ]
  },
  {
   "cell_type": "markdown",
   "metadata": {
    "hidden": true
   },
   "source": [
    "This is the built-in set implementation in Python.26 \n",
    "\n",
    "<font color = 'blue'>The set type is mutable and allows for the dynamic insertion and deletion of elements</font>. Python’s sets are backed by the dict data type and share the same performance characteristics. Any hashable object can be stored in a set.27"
   ]
  },
  {
   "cell_type": "code",
   "execution_count": 135,
   "metadata": {
    "ExecuteTime": {
     "end_time": "2019-09-03T07:16:04.842415Z",
     "start_time": "2019-09-03T07:16:04.826795Z"
    },
    "hidden": true
   },
   "outputs": [
    {
     "data": {
      "text/plain": [
       "True"
      ]
     },
     "execution_count": 135,
     "metadata": {},
     "output_type": "execute_result"
    },
    {
     "data": {
      "text/plain": [
       "{'a', 'e', 'i'}"
      ]
     },
     "execution_count": 135,
     "metadata": {},
     "output_type": "execute_result"
    },
    {
     "data": {
      "text/plain": [
       "{'a', 'e', 'i', 'o', 'u', 'x'}"
      ]
     },
     "execution_count": 135,
     "metadata": {},
     "output_type": "execute_result"
    },
    {
     "data": {
      "text/plain": [
       "6"
      ]
     },
     "execution_count": 135,
     "metadata": {},
     "output_type": "execute_result"
    }
   ],
   "source": [
    "vowels = {'a', 'e', 'i', 'o', 'u'}\n",
    "'e' in vowels\n",
    "# True\n",
    "\n",
    "letters = set('alice')\n",
    "letters.intersection(vowels)\n",
    "# {'a', 'e', 'i'}\n",
    "\n",
    "vowels.add('x')\n",
    "vowels\n",
    "# {'i', 'a', 'u', 'o', 'x', 'e'}\n",
    "\n",
    "len(vowels)\n",
    "# 6"
   ]
  },
  {
   "cell_type": "markdown",
   "metadata": {
    "heading_collapsed": true,
    "hidden": true
   },
   "source": [
    "### frozenset – Immutable Sets"
   ]
  },
  {
   "cell_type": "markdown",
   "metadata": {
    "hidden": true
   },
   "source": [
    "<font color = 'blue'>The frozenset class implements an immutable version of set that cannot be changed after it has been constructed</font>.28 \n",
    "\n",
    "Frozensets are static and only allow query operations on their elements (no inserts or deletions.) Because frozensets are static and hashable, they can be used as dictionary keys or as elements of another set, something that isn’t possible with regular (mutable) set objects."
   ]
  },
  {
   "cell_type": "code",
   "execution_count": 137,
   "metadata": {
    "ExecuteTime": {
     "end_time": "2019-09-03T07:19:04.425722Z",
     "start_time": "2019-09-03T07:19:04.411077Z"
    },
    "hidden": true
   },
   "outputs": [
    {
     "ename": "AttributeError",
     "evalue": "'frozenset' object has no attribute 'add'",
     "output_type": "error",
     "traceback": [
      "\u001b[1;31m---------------------------------------------------------------------------\u001b[0m",
      "\u001b[1;31mAttributeError\u001b[0m                            Traceback (most recent call last)",
      "\u001b[1;32m<ipython-input-137-239a2e787575>\u001b[0m in \u001b[0;36m<module>\u001b[1;34m\u001b[0m\n\u001b[0;32m      1\u001b[0m \u001b[0mvowels\u001b[0m \u001b[1;33m=\u001b[0m \u001b[0mfrozenset\u001b[0m\u001b[1;33m(\u001b[0m\u001b[1;33m{\u001b[0m\u001b[1;34m'a'\u001b[0m\u001b[1;33m,\u001b[0m \u001b[1;34m'e'\u001b[0m\u001b[1;33m,\u001b[0m \u001b[1;34m'i'\u001b[0m\u001b[1;33m,\u001b[0m \u001b[1;34m'o'\u001b[0m\u001b[1;33m,\u001b[0m \u001b[1;34m'u'\u001b[0m\u001b[1;33m}\u001b[0m\u001b[1;33m)\u001b[0m\u001b[1;33m\u001b[0m\u001b[1;33m\u001b[0m\u001b[0m\n\u001b[1;32m----> 2\u001b[1;33m \u001b[0mvowels\u001b[0m\u001b[1;33m.\u001b[0m\u001b[0madd\u001b[0m\u001b[1;33m(\u001b[0m\u001b[1;34m'p'\u001b[0m\u001b[1;33m)\u001b[0m\u001b[1;33m\u001b[0m\u001b[1;33m\u001b[0m\u001b[0m\n\u001b[0m\u001b[0;32m      3\u001b[0m \u001b[1;31m# AttributeError:\u001b[0m\u001b[1;33m\u001b[0m\u001b[1;33m\u001b[0m\u001b[1;33m\u001b[0m\u001b[0m\n\u001b[0;32m      4\u001b[0m \u001b[1;31m# \"'frozenset' object has no attribute 'add'\"\u001b[0m\u001b[1;33m\u001b[0m\u001b[1;33m\u001b[0m\u001b[1;33m\u001b[0m\u001b[0m\n",
      "\u001b[1;31mAttributeError\u001b[0m: 'frozenset' object has no attribute 'add'"
     ]
    }
   ],
   "source": [
    "vowels = frozenset({'a', 'e', 'i', 'o', 'u'})\n",
    "vowels.add('p')\n",
    "# AttributeError:\n",
    "# \"'frozenset' object has no attribute 'add'\""
   ]
  },
  {
   "cell_type": "code",
   "execution_count": 139,
   "metadata": {
    "ExecuteTime": {
     "end_time": "2019-09-03T07:19:37.080123Z",
     "start_time": "2019-09-03T07:19:37.071336Z"
    },
    "hidden": true
   },
   "outputs": [
    {
     "data": {
      "text/plain": [
       "'hello'"
      ]
     },
     "execution_count": 139,
     "metadata": {},
     "output_type": "execute_result"
    }
   ],
   "source": [
    "# Frozensets are hashable and can\n",
    "# be used as dictionary keys:\n",
    "d = { frozenset({1, 2, 3}): 'hello' }\n",
    "d[frozenset({1, 2, 3})]\n",
    "# 'hello'"
   ]
  },
  {
   "cell_type": "markdown",
   "metadata": {
    "heading_collapsed": true,
    "hidden": true
   },
   "source": [
    "### collections.Counter – Multisets"
   ]
  },
  {
   "cell_type": "markdown",
   "metadata": {
    "hidden": true
   },
   "source": [
    "<font color = 'blue'>The collections.Counter class in the Python standard library implements a multiset (or bag) type that allows elements in the set to have more than one occurrence</font>.29 \n",
    "\n",
    "* This is useful if you need to keep track of not only if an element is part of a set, but also how many times it is included in the set:"
   ]
  },
  {
   "cell_type": "code",
   "execution_count": 141,
   "metadata": {
    "ExecuteTime": {
     "end_time": "2019-09-03T07:21:28.682589Z",
     "start_time": "2019-09-03T07:21:28.668920Z"
    },
    "hidden": true
   },
   "outputs": [
    {
     "data": {
      "text/plain": [
       "Counter()"
      ]
     },
     "execution_count": 141,
     "metadata": {},
     "output_type": "execute_result"
    },
    {
     "data": {
      "text/plain": [
       "Counter({'sword': 1, 'bread': 3})"
      ]
     },
     "execution_count": 141,
     "metadata": {},
     "output_type": "execute_result"
    },
    {
     "data": {
      "text/plain": [
       "Counter({'sword': 2, 'bread': 3, 'apple': 1})"
      ]
     },
     "execution_count": 141,
     "metadata": {},
     "output_type": "execute_result"
    }
   ],
   "source": [
    "from collections import Counter\n",
    "inventory = Counter()\n",
    "inventory\n",
    "\n",
    "loot = {'sword': 1, 'bread': 3}\n",
    "inventory.update(loot)\n",
    "inventory\n",
    "# Counter({'bread': 3, 'sword': 1})\n",
    "\n",
    "more_loot = {'sword': 1, 'apple': 1}\n",
    "inventory.update(more_loot)\n",
    "inventory\n",
    "# Counter({'bread': 3, 'sword': 2, 'apple': 1})"
   ]
  },
  {
   "cell_type": "markdown",
   "metadata": {
    "hidden": true
   },
   "source": [
    "Here’s a caveat for the Counter class: You’ll want to be careful when counting the number of elements in a Counter object. Calling len() returns the number of unique elements in the multiset, whereas the total number of elements can be retrieved using the sum function:"
   ]
  },
  {
   "cell_type": "code",
   "execution_count": 142,
   "metadata": {
    "ExecuteTime": {
     "end_time": "2019-09-03T07:25:51.005844Z",
     "start_time": "2019-09-03T07:25:50.997057Z"
    },
    "hidden": true
   },
   "outputs": [
    {
     "data": {
      "text/plain": [
       "3"
      ]
     },
     "execution_count": 142,
     "metadata": {},
     "output_type": "execute_result"
    },
    {
     "data": {
      "text/plain": [
       "6"
      ]
     },
     "execution_count": 142,
     "metadata": {},
     "output_type": "execute_result"
    }
   ],
   "source": [
    "len(inventory)\n",
    "# 3 # Unique elements\n",
    "\n",
    "sum(inventory.values())\n",
    "# 6 # Total no. of elements"
   ]
  },
  {
   "cell_type": "markdown",
   "metadata": {
    "heading_collapsed": true,
    "hidden": true
   },
   "source": [
    "### Key Takeaways"
   ]
  },
  {
   "cell_type": "markdown",
   "metadata": {
    "hidden": true
   },
   "source": [
    "* Sets are another useful and commonly used data structure in-\n",
    "cluded with Python and its standard library.\n",
    "* Use the built-in set type when looking for a mutable set.\n",
    "* frozenset objects are hashable and can be used as dictionary\n",
    "or set keys.\n",
    "* collections.Counter implements multiset or “bag” data\n",
    "structures."
   ]
  },
  {
   "cell_type": "markdown",
   "metadata": {},
   "source": [
    "## Stacks (LIFOs)"
   ]
  },
  {
   "cell_type": "markdown",
   "metadata": {},
   "source": [
    "<font color = 'blue'>A stack is a collection of objects that supports fast last-in, first-out\n",
    "(LIFO) semantics for inserts and deletes. Unlike lists or arrays, stacks\n",
    "typically don’t allow for random access to the objects they contain</font>.\n",
    "* **<font color = 'purple'>The insert and delete operations are also often called push and pop.\n",
    "A useful real-world analogy for a stack data structure is a stack of\n",
    "plates </font>**:\n",
    "\n",
    "    New plates are added to the top of the stack. And because\n",
    "the plates are precious and heavy, only the topmost plate\n",
    "can be moved (last-in, first-out). To reach the plates that\n",
    "are lower down in the stack, the topmost plates must be\n",
    "removed one by one.\n",
    "\n",
    "Stacks and queues are similar. They’re both linear collections of items,\n",
    "and the difference lies in the order that the items are accessed:\n",
    "<font color = 'blue'>With a queue, you remove the item least recently added (first-in, first-\n",
    "out or FIFO); but with a stack, you remove the item most recently\n",
    "added (last-in, first-out or LIFO).</font>\n",
    "\n",
    "<font color = 'blue'>Performance-wise, a proper stack implementation is expected to take\n",
    "O(1) time for insert and delete operations.</font>\n",
    "\n",
    "Stacks have a wide range of uses in algorithms, for example, in language parsing and runtime memory management (“call stack”). A short and beautiful algorithm using a stack is depth-first search (DFS) on a tree or graph data structure.\n",
    "\n",
    "Python ships with several stack implementations that each have\n",
    "slightly different characteristics. We’ll now take a look at them and\n",
    "compare their characteristics."
   ]
  },
  {
   "cell_type": "markdown",
   "metadata": {
    "heading_collapsed": true
   },
   "source": [
    "### list – Simple, Built-In Stacks"
   ]
  },
  {
   "cell_type": "markdown",
   "metadata": {
    "hidden": true
   },
   "source": [
    "<font color = 'blue'>Python’s built-in list type makes a decent stack data structure as it\n",
    "supports push and pop operations in amortized O(1) time</font>.30\n",
    "\n",
    "Python’s lists are implemented as dynamic arrays internally, which\n",
    "means they occasionally need to resize the storage space for elements\n",
    "stored in them when elements are added or removed. The list over-\n",
    "allocates its backing storage so that not every push or pop requires\n",
    "resizing, and as a result, you get an amortized O(1) time complexity\n",
    "for these operations.\n",
    "\n",
    "<font color = 'blue'>The downside is that this makes their performance less consistent\n",
    "than the stable O(1) inserts and deletes provided by a linked list based\n",
    "implementation (like collections.deque, see below)</font>. On the other\n",
    "hand, lists do provide fast O(1) time random access to elements on the\n",
    "stack, and this can be an added benefit.\n",
    "\n",
    "<font color = 'red'>Here’s an important performance caveat you should be aware of when\n",
    "using lists as stacks</font>:\n",
    "\n",
    "* <font color = 'blue'>**To get the amortized O(1) performance for inserts and deletes, new\n",
    "items must be added to the end of the list with the append() method\n",
    "and removed again from the end using pop()**</font>. For optimum performance, stacks based on Python lists should grow towards higher indexes and shrink towards lower ones.\n",
    "\n",
    "* <font color = 'red'>**Adding and removing from the front is much slower and takes O(n)\n",
    "time, as the existing elements must be shifted around to make room\n",
    "for the new element**</font>. This is a performance antipattern that you\n",
    "should avoid as much as possible."
   ]
  },
  {
   "cell_type": "code",
   "execution_count": 144,
   "metadata": {
    "ExecuteTime": {
     "end_time": "2019-09-03T15:45:43.561624Z",
     "start_time": "2019-09-03T15:45:43.518668Z"
    },
    "hidden": true
   },
   "outputs": [
    {
     "data": {
      "text/plain": [
       "['eat', 'sleep', 'code']"
      ]
     },
     "execution_count": 144,
     "metadata": {},
     "output_type": "execute_result"
    },
    {
     "data": {
      "text/plain": [
       "'code'"
      ]
     },
     "execution_count": 144,
     "metadata": {},
     "output_type": "execute_result"
    },
    {
     "data": {
      "text/plain": [
       "'sleep'"
      ]
     },
     "execution_count": 144,
     "metadata": {},
     "output_type": "execute_result"
    },
    {
     "data": {
      "text/plain": [
       "'eat'"
      ]
     },
     "execution_count": 144,
     "metadata": {},
     "output_type": "execute_result"
    },
    {
     "ename": "IndexError",
     "evalue": "pop from empty list",
     "output_type": "error",
     "traceback": [
      "\u001b[1;31m---------------------------------------------------------------------------\u001b[0m",
      "\u001b[1;31mIndexError\u001b[0m                                Traceback (most recent call last)",
      "\u001b[1;32m<ipython-input-144-8e7809c88d84>\u001b[0m in \u001b[0;36m<module>\u001b[1;34m\u001b[0m\n\u001b[0;32m     14\u001b[0m \u001b[1;31m# 'eat'\u001b[0m\u001b[1;33m\u001b[0m\u001b[1;33m\u001b[0m\u001b[1;33m\u001b[0m\u001b[0m\n\u001b[0;32m     15\u001b[0m \u001b[1;33m\u001b[0m\u001b[0m\n\u001b[1;32m---> 16\u001b[1;33m \u001b[0ms\u001b[0m\u001b[1;33m.\u001b[0m\u001b[0mpop\u001b[0m\u001b[1;33m(\u001b[0m\u001b[1;33m)\u001b[0m\u001b[1;33m\u001b[0m\u001b[1;33m\u001b[0m\u001b[0m\n\u001b[0m\u001b[0;32m     17\u001b[0m \u001b[1;31m# IndexError: \"pop from empty list\"\u001b[0m\u001b[1;33m\u001b[0m\u001b[1;33m\u001b[0m\u001b[1;33m\u001b[0m\u001b[0m\n",
      "\u001b[1;31mIndexError\u001b[0m: pop from empty list"
     ]
    }
   ],
   "source": [
    "s = []\n",
    "s.append('eat')\n",
    "s.append('sleep')\n",
    "s.append('code')\n",
    "\n",
    "s\n",
    "# ['eat', 'sleep', 'code']\n",
    "\n",
    "s.pop()\n",
    "# 'code'\n",
    "s.pop()\n",
    "# 'sleep'\n",
    "s.pop()\n",
    "# 'eat'\n",
    "\n",
    "s.pop()\n",
    "# IndexError: \"pop from empty list\"\n"
   ]
  },
  {
   "cell_type": "markdown",
   "metadata": {},
   "source": [
    "### collections.deque – Fast & Robust Stacks"
   ]
  },
  {
   "cell_type": "markdown",
   "metadata": {},
   "source": [
    "> <font color = 'green'>The <span style='background-color: lightgreen'>deque</span> class implements a double-ended queue that supports adding and removing elements from either end in O(1) time (nonamortized). Because deques support adding and removing elements from either end equally well, they can serve both as queues and as stacks.31</font>\n",
    "\n",
    "> <font color = 'green'>Python’s <span style='background-color: lightgreen'>deque</span> objects are implemented as doubly-linked lists which gives them excellent and consistent performance for inserting and deleting elements, but poor O(n) performance for randomly accessing elements in the middle of a stack</font>.32\n",
    "\n",
    "<font color = 'blue'>Overall, collections.deque is a great choice if you’re looking for a stack data structure in Python’s standard library that has the performance characteristics of a linked-list implementation</font>."
   ]
  },
  {
   "cell_type": "code",
   "execution_count": 145,
   "metadata": {
    "ExecuteTime": {
     "end_time": "2019-09-03T15:56:01.782696Z",
     "start_time": "2019-09-03T15:56:01.755361Z"
    }
   },
   "outputs": [
    {
     "data": {
      "text/plain": [
       "deque(['eat', 'sleep', 'code'])"
      ]
     },
     "execution_count": 145,
     "metadata": {},
     "output_type": "execute_result"
    },
    {
     "data": {
      "text/plain": [
       "'code'"
      ]
     },
     "execution_count": 145,
     "metadata": {},
     "output_type": "execute_result"
    },
    {
     "data": {
      "text/plain": [
       "'sleep'"
      ]
     },
     "execution_count": 145,
     "metadata": {},
     "output_type": "execute_result"
    },
    {
     "data": {
      "text/plain": [
       "'eat'"
      ]
     },
     "execution_count": 145,
     "metadata": {},
     "output_type": "execute_result"
    },
    {
     "ename": "IndexError",
     "evalue": "pop from an empty deque",
     "output_type": "error",
     "traceback": [
      "\u001b[1;31m---------------------------------------------------------------------------\u001b[0m",
      "\u001b[1;31mIndexError\u001b[0m                                Traceback (most recent call last)",
      "\u001b[1;32m<ipython-input-145-684cff354e9d>\u001b[0m in \u001b[0;36m<module>\u001b[1;34m\u001b[0m\n\u001b[0;32m     15\u001b[0m \u001b[1;31m# 'eat'\u001b[0m\u001b[1;33m\u001b[0m\u001b[1;33m\u001b[0m\u001b[1;33m\u001b[0m\u001b[0m\n\u001b[0;32m     16\u001b[0m \u001b[1;33m\u001b[0m\u001b[0m\n\u001b[1;32m---> 17\u001b[1;33m \u001b[0ms\u001b[0m\u001b[1;33m.\u001b[0m\u001b[0mpop\u001b[0m\u001b[1;33m(\u001b[0m\u001b[1;33m)\u001b[0m\u001b[1;33m\u001b[0m\u001b[1;33m\u001b[0m\u001b[0m\n\u001b[0m\u001b[0;32m     18\u001b[0m \u001b[1;31m# IndexError: \"pop from an empty deque\"\u001b[0m\u001b[1;33m\u001b[0m\u001b[1;33m\u001b[0m\u001b[1;33m\u001b[0m\u001b[0m\n",
      "\u001b[1;31mIndexError\u001b[0m: pop from an empty deque"
     ]
    }
   ],
   "source": [
    "from collections import deque\n",
    "s = deque()\n",
    "s.append('eat')\n",
    "s.append('sleep')\n",
    "s.append('code')\n",
    "\n",
    "s\n",
    "# deque(['eat', 'sleep', 'code'])\n",
    "\n",
    "s.pop()\n",
    "# 'code'\n",
    "s.pop()\n",
    "# 'sleep'\n",
    "s.pop()\n",
    "# 'eat'\n",
    "\n",
    "s.pop()\n",
    "# IndexError: \"pop from an empty deque\""
   ]
  },
  {
   "cell_type": "markdown",
   "metadata": {
    "heading_collapsed": true
   },
   "source": [
    "### queue.LifoQueue – Locking Semantics for Parallel Computing"
   ]
  },
  {
   "cell_type": "markdown",
   "metadata": {
    "hidden": true
   },
   "source": [
    "This stack implementation in the Python standard library is synchronized and provides locking semantics to support multiple concurrent producers and consumers.33 Besides LifoQueue, the queue module contains several other classes that implement multi-producer/multi-consumer queues that are useful for parallel computing.\n",
    "\n",
    "<font color = 'blue'>Depending on your use case, the locking semantics might be helpful, or they might just incur unneeded overhead. In this case you’d be better off with using a list or a deque as a general-purpose stack.\n",
    "\n",
    "</font>"
   ]
  },
  {
   "cell_type": "code",
   "execution_count": 2,
   "metadata": {
    "ExecuteTime": {
     "end_time": "2019-09-03T16:47:06.611445Z",
     "start_time": "2019-09-03T16:47:06.595826Z"
    },
    "hidden": true
   },
   "outputs": [
    {
     "data": {
      "text/plain": [
       "<queue.LifoQueue at 0x2229cc5c588>"
      ]
     },
     "execution_count": 2,
     "metadata": {},
     "output_type": "execute_result"
    }
   ],
   "source": [
    "from queue import LifoQueue\n",
    "s = LifoQueue()\n",
    "s.put('eat')\n",
    "s.put('sleep')\n",
    "s.put('code')\n",
    "\n",
    "s\n",
    "# <queue.LifoQueue object at 0x108298dd8>"
   ]
  },
  {
   "cell_type": "code",
   "execution_count": 3,
   "metadata": {
    "ExecuteTime": {
     "end_time": "2019-09-03T16:47:14.222487Z",
     "start_time": "2019-09-03T16:47:14.208821Z"
    },
    "hidden": true
   },
   "outputs": [
    {
     "data": {
      "text/plain": [
       "'code'"
      ]
     },
     "execution_count": 3,
     "metadata": {},
     "output_type": "execute_result"
    },
    {
     "data": {
      "text/plain": [
       "'sleep'"
      ]
     },
     "execution_count": 3,
     "metadata": {},
     "output_type": "execute_result"
    },
    {
     "data": {
      "text/plain": [
       "'eat'"
      ]
     },
     "execution_count": 3,
     "metadata": {},
     "output_type": "execute_result"
    }
   ],
   "source": [
    "s.get()\n",
    "# 'code'\n",
    "s.get()\n",
    "# 'sleep'\n",
    "s.get()\n",
    "# 'eat'"
   ]
  },
  {
   "cell_type": "code",
   "execution_count": 5,
   "metadata": {
    "ExecuteTime": {
     "end_time": "2019-09-03T16:48:20.958481Z",
     "start_time": "2019-09-03T16:48:20.942864Z"
    },
    "collapsed": true,
    "hidden": true
   },
   "outputs": [
    {
     "ename": "Empty",
     "evalue": "",
     "output_type": "error",
     "traceback": [
      "\u001b[1;31m---------------------------------------------------------------------------\u001b[0m",
      "\u001b[1;31mEmpty\u001b[0m                                     Traceback (most recent call last)",
      "\u001b[1;32m<ipython-input-5-2b8087e1b774>\u001b[0m in \u001b[0;36m<module>\u001b[1;34m\u001b[0m\n\u001b[1;32m----> 1\u001b[1;33m \u001b[0ms\u001b[0m\u001b[1;33m.\u001b[0m\u001b[0mget_nowait\u001b[0m\u001b[1;33m(\u001b[0m\u001b[1;33m)\u001b[0m\u001b[1;33m\u001b[0m\u001b[1;33m\u001b[0m\u001b[0m\n\u001b[0m\u001b[0;32m      2\u001b[0m \u001b[1;31m# queue.Empty\u001b[0m\u001b[1;33m\u001b[0m\u001b[1;33m\u001b[0m\u001b[1;33m\u001b[0m\u001b[0m\n\u001b[0;32m      3\u001b[0m \u001b[1;33m\u001b[0m\u001b[0m\n\u001b[0;32m      4\u001b[0m \u001b[1;31m# s.get()\u001b[0m\u001b[1;33m\u001b[0m\u001b[1;33m\u001b[0m\u001b[1;33m\u001b[0m\u001b[0m\n\u001b[0;32m      5\u001b[0m \u001b[1;31m# Blocks / waits forever...\u001b[0m\u001b[1;33m\u001b[0m\u001b[1;33m\u001b[0m\u001b[1;33m\u001b[0m\u001b[0m\n",
      "\u001b[1;32m~\\Anaconda3\\envs\\R_flinks\\lib\\queue.py\u001b[0m in \u001b[0;36mget_nowait\u001b[1;34m(self)\u001b[0m\n\u001b[0;32m    196\u001b[0m         \u001b[1;32mraise\u001b[0m \u001b[0mthe\u001b[0m \u001b[0mEmpty\u001b[0m \u001b[0mexception\u001b[0m\u001b[1;33m.\u001b[0m\u001b[1;33m\u001b[0m\u001b[1;33m\u001b[0m\u001b[0m\n\u001b[0;32m    197\u001b[0m         '''\n\u001b[1;32m--> 198\u001b[1;33m         \u001b[1;32mreturn\u001b[0m \u001b[0mself\u001b[0m\u001b[1;33m.\u001b[0m\u001b[0mget\u001b[0m\u001b[1;33m(\u001b[0m\u001b[0mblock\u001b[0m\u001b[1;33m=\u001b[0m\u001b[1;32mFalse\u001b[0m\u001b[1;33m)\u001b[0m\u001b[1;33m\u001b[0m\u001b[1;33m\u001b[0m\u001b[0m\n\u001b[0m\u001b[0;32m    199\u001b[0m \u001b[1;33m\u001b[0m\u001b[0m\n\u001b[0;32m    200\u001b[0m     \u001b[1;31m# Override these methods to implement other queue organizations\u001b[0m\u001b[1;33m\u001b[0m\u001b[1;33m\u001b[0m\u001b[1;33m\u001b[0m\u001b[0m\n",
      "\u001b[1;32m~\\Anaconda3\\envs\\R_flinks\\lib\\queue.py\u001b[0m in \u001b[0;36mget\u001b[1;34m(self, block, timeout)\u001b[0m\n\u001b[0;32m    165\u001b[0m             \u001b[1;32mif\u001b[0m \u001b[1;32mnot\u001b[0m \u001b[0mblock\u001b[0m\u001b[1;33m:\u001b[0m\u001b[1;33m\u001b[0m\u001b[1;33m\u001b[0m\u001b[0m\n\u001b[0;32m    166\u001b[0m                 \u001b[1;32mif\u001b[0m \u001b[1;32mnot\u001b[0m \u001b[0mself\u001b[0m\u001b[1;33m.\u001b[0m\u001b[0m_qsize\u001b[0m\u001b[1;33m(\u001b[0m\u001b[1;33m)\u001b[0m\u001b[1;33m:\u001b[0m\u001b[1;33m\u001b[0m\u001b[1;33m\u001b[0m\u001b[0m\n\u001b[1;32m--> 167\u001b[1;33m                     \u001b[1;32mraise\u001b[0m \u001b[0mEmpty\u001b[0m\u001b[1;33m\u001b[0m\u001b[1;33m\u001b[0m\u001b[0m\n\u001b[0m\u001b[0;32m    168\u001b[0m             \u001b[1;32melif\u001b[0m \u001b[0mtimeout\u001b[0m \u001b[1;32mis\u001b[0m \u001b[1;32mNone\u001b[0m\u001b[1;33m:\u001b[0m\u001b[1;33m\u001b[0m\u001b[1;33m\u001b[0m\u001b[0m\n\u001b[0;32m    169\u001b[0m                 \u001b[1;32mwhile\u001b[0m \u001b[1;32mnot\u001b[0m \u001b[0mself\u001b[0m\u001b[1;33m.\u001b[0m\u001b[0m_qsize\u001b[0m\u001b[1;33m(\u001b[0m\u001b[1;33m)\u001b[0m\u001b[1;33m:\u001b[0m\u001b[1;33m\u001b[0m\u001b[1;33m\u001b[0m\u001b[0m\n",
      "\u001b[1;31mEmpty\u001b[0m: "
     ]
    }
   ],
   "source": [
    "s.get_nowait()\n",
    "# queue.Empty\n",
    "\n",
    "# s.get()\n",
    "# Blocks / waits forever..."
   ]
  },
  {
   "cell_type": "markdown",
   "metadata": {
    "heading_collapsed": true
   },
   "source": [
    "### Comparing Stack Implementations in Python"
   ]
  },
  {
   "cell_type": "markdown",
   "metadata": {
    "hidden": true
   },
   "source": [
    "<font color = 'blue'>If you’re not looking for parallel processing support (or don’t want to handle locking and unlocking manually), your choice comes down to the built-in list type or collections.deque</font>. The difference lies in the data structure used behind the scenes and overall ease of use:"
   ]
  },
  {
   "cell_type": "markdown",
   "metadata": {
    "hidden": true
   },
   "source": [
    "* **<span style='background-color: lightgreen'>list</span> <font color = 'green'>is backed by a dynamic array which makes it great for fast random access, but requires occasional resizing when elements are added or removed</font>**. \n",
    "\n",
    "    The list over-allocates its backing storage so that not every push or pop requires resizing, and you get an amortized O(1) time complexity for these operations. \n",
    "    \n",
    "    <font color = 'red'>But you do need to be careful to only insert and remove items “from the right side” using append() and pop(). Otherwise, performance slows down to O(n)</font>.\n"
   ]
  },
  {
   "cell_type": "markdown",
   "metadata": {
    "hidden": true
   },
   "source": [
    "* <font color = 'green'><span style='background-color: lightgreen'>collections.deque</span> is backed by a doubly-linked list which optimizes appends and deletes at both ends and provides consistent O(1) performance for these operations</font>. \n",
    "    \n",
    "    Not only is its performance more stable, the deque class is also easier to use because you don’t have to worry about adding or removing items from “the wrong end.”"
   ]
  },
  {
   "cell_type": "markdown",
   "metadata": {
    "hidden": true
   },
   "source": [
    "<font color = 'blue'>In summary, I believe that collections.deque is an excellent choice\n",
    "for implementing a stack (LIFO queue) in Python.</font>"
   ]
  },
  {
   "cell_type": "markdown",
   "metadata": {
    "heading_collapsed": true,
    "hidden": true
   },
   "source": [
    "##### Key Takeaways"
   ]
  },
  {
   "cell_type": "markdown",
   "metadata": {
    "hidden": true
   },
   "source": [
    "* Python ships with several stack implementations that have\n",
    "slightly different performance and usage characteristics.\n",
    "\n",
    "\n",
    "* ```collections.deque``` provides a safe and fast general-purpose\n",
    "stack implementation.\n",
    "\n",
    "\n",
    "* The built-in list type can be used as a stack, but be careful\n",
    "to only append and remove items with append() and pop() in\n",
    "order to avoid slow performance."
   ]
  },
  {
   "cell_type": "markdown",
   "metadata": {
    "heading_collapsed": true
   },
   "source": [
    "## Queues (FIFOs)"
   ]
  },
  {
   "cell_type": "markdown",
   "metadata": {
    "hidden": true
   },
   "source": [
    "In this chapter you’ll see how to implement a FIFO queue data structure using only built-in data types and classes from the Python standard library. But first, let’s recap what a queue is: \n",
    "\n",
    "> A <span style='background-color: lightgreen'>queue</span> is a collection of objects that supports fast first-in, first-out (FIFO) semantics for inserts and deletes. <font color = 'lightgrey'>The insert and delete operations are sometimes called enqueue and dequeue</font>. \n",
    "\n",
    "> <font color = 'red'>Unlike lists or arrays, queues typically don’t allow for random access to the objects they contain</font>. \n",
    "\n",
    "Here’s a real-world analogy for a first-in, first-out queue:\n",
    "* **<font color = 'purple'>Imagine a line of Pythonistas waiting to pick up their conference badges on day one of PyCon registration </font>**. \n",
    "\n",
    "    New additions to the line are made to the back of the queue as new people enter the conference venue and “queue up” to receive their badges. \n",
    "    \n",
    "    Removal (serving) happens in the front of the queue, as developers receive their badges and conference swag bags and leave the queue.\n",
    "    \n",
    "    \n",
    "* **<font color = 'purple'>Another way to memorize the characteristics of a queue data structure is to think of it as a pipe </font>**:\n",
    "\n",
    "    New items (water molecules, ping-pong balls, …) are put in at one end and travel to the other where you or someone else removes them again. While the items are in the queue (a solid metal pipe) you can’t get at them. \n",
    "    \n",
    "    The only way to interact with the items in the queue is to add new items at the back (enqueue) or to remove items at the front (dequeue) of the pipe."
   ]
  },
  {
   "cell_type": "markdown",
   "metadata": {
    "hidden": true
   },
   "source": [
    "Queues are similar to stacks, and the difference between them lies in how items are removed:\n",
    "\n",
    "<font color = 'blue'>With a queue, you remove the item least recently added (first-in, firstout or FIFO); but with a stack, you remove the item most recently added (last-in, first-out or LIFO). Performance-wise, a proper queue implementation is expected to take O(1) time for insert and delete operations</font>. These are the two main operations performed on a queue, and in a correct implementation, they should be fast."
   ]
  },
  {
   "cell_type": "markdown",
   "metadata": {
    "heading_collapsed": true,
    "hidden": true
   },
   "source": [
    "### list — Terribly Sloooow Queues"
   ]
  },
  {
   "cell_type": "markdown",
   "metadata": {
    "hidden": true
   },
   "source": [
    "It’s possible to use a regular list as a queue but this is not ideal from a performance perspective.34 <font color = 'red'>Lists are quite slow for this purpose because inserting or deleting an element at the beginning requires shifting all of the other elements by one, requiring O(n) time</font>."
   ]
  },
  {
   "cell_type": "code",
   "execution_count": 8,
   "metadata": {
    "ExecuteTime": {
     "end_time": "2019-09-03T18:33:10.721042Z",
     "start_time": "2019-09-03T18:33:10.710306Z"
    },
    "hidden": true,
    "scrolled": true
   },
   "outputs": [
    {
     "data": {
      "text/plain": [
       "['eat', 'sleep', 'code']"
      ]
     },
     "execution_count": 8,
     "metadata": {},
     "output_type": "execute_result"
    },
    {
     "data": {
      "text/plain": [
       "'eat'"
      ]
     },
     "execution_count": 8,
     "metadata": {},
     "output_type": "execute_result"
    }
   ],
   "source": [
    "q = []\n",
    "q.append('eat')\n",
    "q.append('sleep')\n",
    "q.append('code')\n",
    "\n",
    "q\n",
    "# ['eat', 'sleep', 'code']\n",
    "\n",
    "# Careful: This is slow!\n",
    "q.pop(0)\n",
    "# 'eat'"
   ]
  },
  {
   "cell_type": "markdown",
   "metadata": {
    "heading_collapsed": true,
    "hidden": true
   },
   "source": [
    "### collections.deque – Fast & Robust Queues"
   ]
  },
  {
   "cell_type": "markdown",
   "metadata": {
    "hidden": true
   },
   "source": [
    "<font color = 'blue'>The deque class implements a double-ended queue that supports adding and removing elements from either end in O(1) time (nonamortized). Because deques support adding and removing elements from either end equally well, they can serve both as queues and as stacks.35 </font>\n",
    "\n",
    "* Python’s deque objects are implemented as doubly-linked lists.36 <font color = 'blue'>This gives them excellent and consistent performance for inserting and deleting elements, but poor O(n) performance for randomly accessing elements in the middle of the stack</font>.\n",
    "\n",
    "As a result, collections.deque is a great default choice if you’re looking for a queue data structure in Python’s standard library."
   ]
  },
  {
   "cell_type": "code",
   "execution_count": 9,
   "metadata": {
    "ExecuteTime": {
     "end_time": "2019-09-03T18:36:06.864998Z",
     "start_time": "2019-09-03T18:36:06.829850Z"
    },
    "hidden": true,
    "scrolled": true
   },
   "outputs": [
    {
     "data": {
      "text/plain": [
       "deque(['eat', 'sleep', 'code'])"
      ]
     },
     "execution_count": 9,
     "metadata": {},
     "output_type": "execute_result"
    },
    {
     "data": {
      "text/plain": [
       "'eat'"
      ]
     },
     "execution_count": 9,
     "metadata": {},
     "output_type": "execute_result"
    },
    {
     "data": {
      "text/plain": [
       "'sleep'"
      ]
     },
     "execution_count": 9,
     "metadata": {},
     "output_type": "execute_result"
    },
    {
     "data": {
      "text/plain": [
       "'code'"
      ]
     },
     "execution_count": 9,
     "metadata": {},
     "output_type": "execute_result"
    },
    {
     "ename": "IndexError",
     "evalue": "pop from an empty deque",
     "output_type": "error",
     "traceback": [
      "\u001b[1;31m---------------------------------------------------------------------------\u001b[0m",
      "\u001b[1;31mIndexError\u001b[0m                                Traceback (most recent call last)",
      "\u001b[1;32m<ipython-input-9-43f7e076b697>\u001b[0m in \u001b[0;36m<module>\u001b[1;34m\u001b[0m\n\u001b[0;32m     15\u001b[0m \u001b[1;31m# 'code'\u001b[0m\u001b[1;33m\u001b[0m\u001b[1;33m\u001b[0m\u001b[1;33m\u001b[0m\u001b[0m\n\u001b[0;32m     16\u001b[0m \u001b[1;33m\u001b[0m\u001b[0m\n\u001b[1;32m---> 17\u001b[1;33m \u001b[0mq\u001b[0m\u001b[1;33m.\u001b[0m\u001b[0mpopleft\u001b[0m\u001b[1;33m(\u001b[0m\u001b[1;33m)\u001b[0m\u001b[1;33m\u001b[0m\u001b[1;33m\u001b[0m\u001b[0m\n\u001b[0m\u001b[0;32m     18\u001b[0m \u001b[1;31m# IndexError: \"pop from an empty deque\"\u001b[0m\u001b[1;33m\u001b[0m\u001b[1;33m\u001b[0m\u001b[1;33m\u001b[0m\u001b[0m\n",
      "\u001b[1;31mIndexError\u001b[0m: pop from an empty deque"
     ]
    }
   ],
   "source": [
    "from collections import deque\n",
    "q = deque()\n",
    "q.append('eat')\n",
    "q.append('sleep')\n",
    "q.append('code')\n",
    "\n",
    "q\n",
    "# deque(['eat', 'sleep', 'code'])\n",
    "\n",
    "q.popleft()\n",
    "# 'eat'\n",
    "q.popleft()\n",
    "# 'sleep'\n",
    "q.popleft()\n",
    "# 'code'\n",
    "\n",
    "q.popleft()\n",
    "# IndexError: \"pop from an empty deque\""
   ]
  },
  {
   "cell_type": "markdown",
   "metadata": {
    "heading_collapsed": true,
    "hidden": true
   },
   "source": [
    "### queue.Queue – Locking Semantics for Parallel Computing"
   ]
  },
  {
   "cell_type": "markdown",
   "metadata": {
    "hidden": true
   },
   "source": [
    "<font color = 'blue'>This queue implementation in the Python standard library is synchronized and provides locking semantics to support multiple concurrent producers and consumers</font>.37 The queue module contains several other classes implementing multiproducer/multi-consumer queues that are useful for parallel computing.\n",
    "\n",
    "Depending on your use case, the locking semantics might be helpful or just incur unneeded overhead. In this case, you’d be better off using collections.deque as a general-purpose queue."
   ]
  },
  {
   "cell_type": "code",
   "execution_count": 10,
   "metadata": {
    "ExecuteTime": {
     "end_time": "2019-09-03T18:42:23.719637Z",
     "start_time": "2019-09-03T18:42:23.688398Z"
    },
    "collapsed": true,
    "hidden": true
   },
   "outputs": [
    {
     "data": {
      "text/plain": [
       "<queue.Queue at 0x2229cd70d30>"
      ]
     },
     "execution_count": 10,
     "metadata": {},
     "output_type": "execute_result"
    },
    {
     "data": {
      "text/plain": [
       "'eat'"
      ]
     },
     "execution_count": 10,
     "metadata": {},
     "output_type": "execute_result"
    },
    {
     "data": {
      "text/plain": [
       "'sleep'"
      ]
     },
     "execution_count": 10,
     "metadata": {},
     "output_type": "execute_result"
    },
    {
     "data": {
      "text/plain": [
       "'code'"
      ]
     },
     "execution_count": 10,
     "metadata": {},
     "output_type": "execute_result"
    },
    {
     "ename": "Empty",
     "evalue": "",
     "output_type": "error",
     "traceback": [
      "\u001b[1;31m---------------------------------------------------------------------------\u001b[0m",
      "\u001b[1;31mEmpty\u001b[0m                                     Traceback (most recent call last)",
      "\u001b[1;32m<ipython-input-10-954ce5d583de>\u001b[0m in \u001b[0;36m<module>\u001b[1;34m\u001b[0m\n\u001b[0;32m     15\u001b[0m \u001b[1;31m# 'code'\u001b[0m\u001b[1;33m\u001b[0m\u001b[1;33m\u001b[0m\u001b[1;33m\u001b[0m\u001b[0m\n\u001b[0;32m     16\u001b[0m \u001b[1;33m\u001b[0m\u001b[0m\n\u001b[1;32m---> 17\u001b[1;33m \u001b[0mq\u001b[0m\u001b[1;33m.\u001b[0m\u001b[0mget_nowait\u001b[0m\u001b[1;33m(\u001b[0m\u001b[1;33m)\u001b[0m\u001b[1;33m\u001b[0m\u001b[1;33m\u001b[0m\u001b[0m\n\u001b[0m\u001b[0;32m     18\u001b[0m \u001b[1;31m# queue.Empty\u001b[0m\u001b[1;33m\u001b[0m\u001b[1;33m\u001b[0m\u001b[1;33m\u001b[0m\u001b[0m\n\u001b[0;32m     19\u001b[0m \u001b[1;33m\u001b[0m\u001b[0m\n",
      "\u001b[1;32m~\\Anaconda3\\envs\\R_flinks\\lib\\queue.py\u001b[0m in \u001b[0;36mget_nowait\u001b[1;34m(self)\u001b[0m\n\u001b[0;32m    196\u001b[0m         \u001b[1;32mraise\u001b[0m \u001b[0mthe\u001b[0m \u001b[0mEmpty\u001b[0m \u001b[0mexception\u001b[0m\u001b[1;33m.\u001b[0m\u001b[1;33m\u001b[0m\u001b[1;33m\u001b[0m\u001b[0m\n\u001b[0;32m    197\u001b[0m         '''\n\u001b[1;32m--> 198\u001b[1;33m         \u001b[1;32mreturn\u001b[0m \u001b[0mself\u001b[0m\u001b[1;33m.\u001b[0m\u001b[0mget\u001b[0m\u001b[1;33m(\u001b[0m\u001b[0mblock\u001b[0m\u001b[1;33m=\u001b[0m\u001b[1;32mFalse\u001b[0m\u001b[1;33m)\u001b[0m\u001b[1;33m\u001b[0m\u001b[1;33m\u001b[0m\u001b[0m\n\u001b[0m\u001b[0;32m    199\u001b[0m \u001b[1;33m\u001b[0m\u001b[0m\n\u001b[0;32m    200\u001b[0m     \u001b[1;31m# Override these methods to implement other queue organizations\u001b[0m\u001b[1;33m\u001b[0m\u001b[1;33m\u001b[0m\u001b[1;33m\u001b[0m\u001b[0m\n",
      "\u001b[1;32m~\\Anaconda3\\envs\\R_flinks\\lib\\queue.py\u001b[0m in \u001b[0;36mget\u001b[1;34m(self, block, timeout)\u001b[0m\n\u001b[0;32m    165\u001b[0m             \u001b[1;32mif\u001b[0m \u001b[1;32mnot\u001b[0m \u001b[0mblock\u001b[0m\u001b[1;33m:\u001b[0m\u001b[1;33m\u001b[0m\u001b[1;33m\u001b[0m\u001b[0m\n\u001b[0;32m    166\u001b[0m                 \u001b[1;32mif\u001b[0m \u001b[1;32mnot\u001b[0m \u001b[0mself\u001b[0m\u001b[1;33m.\u001b[0m\u001b[0m_qsize\u001b[0m\u001b[1;33m(\u001b[0m\u001b[1;33m)\u001b[0m\u001b[1;33m:\u001b[0m\u001b[1;33m\u001b[0m\u001b[1;33m\u001b[0m\u001b[0m\n\u001b[1;32m--> 167\u001b[1;33m                     \u001b[1;32mraise\u001b[0m \u001b[0mEmpty\u001b[0m\u001b[1;33m\u001b[0m\u001b[1;33m\u001b[0m\u001b[0m\n\u001b[0m\u001b[0;32m    168\u001b[0m             \u001b[1;32melif\u001b[0m \u001b[0mtimeout\u001b[0m \u001b[1;32mis\u001b[0m \u001b[1;32mNone\u001b[0m\u001b[1;33m:\u001b[0m\u001b[1;33m\u001b[0m\u001b[1;33m\u001b[0m\u001b[0m\n\u001b[0;32m    169\u001b[0m                 \u001b[1;32mwhile\u001b[0m \u001b[1;32mnot\u001b[0m \u001b[0mself\u001b[0m\u001b[1;33m.\u001b[0m\u001b[0m_qsize\u001b[0m\u001b[1;33m(\u001b[0m\u001b[1;33m)\u001b[0m\u001b[1;33m:\u001b[0m\u001b[1;33m\u001b[0m\u001b[1;33m\u001b[0m\u001b[0m\n",
      "\u001b[1;31mEmpty\u001b[0m: "
     ]
    }
   ],
   "source": [
    "from queue import Queue\n",
    "q = Queue()\n",
    "q.put('eat')\n",
    "q.put('sleep')\n",
    "q.put('code')\n",
    "\n",
    "q\n",
    "# <queue.Queue object at 0x1070f5b38>\n",
    "\n",
    "q.get()\n",
    "# 'eat'\n",
    "q.get()\n",
    "# 'sleep'\n",
    "q.get()\n",
    "# 'code'\n",
    "\n",
    "q.get_nowait()\n",
    "# queue.Empty\n",
    "\n",
    "# q.get()\n",
    "# Blocks / waits forever..."
   ]
  },
  {
   "cell_type": "markdown",
   "metadata": {
    "heading_collapsed": true,
    "hidden": true
   },
   "source": [
    "### multiprocessing.Queue – Shared Job Queues"
   ]
  },
  {
   "cell_type": "markdown",
   "metadata": {
    "hidden": true
   },
   "source": [
    "<font color = 'blue'>This is a shared job queue implementation that allows queued items to be processed in parallel by multiple concurrent workers</font>.38 \n",
    "\n",
    "* Processbased parallelization is popular in CPython due to the global interpreter lock (GIL) that prevents some forms of parallel execution on a single interpreter process.\n",
    "\n",
    "<font color = 'blue'>As a specialized queue implementation meant for sharing data between processes, ```multiprocessing.Queue``` makes it easy to distribute work across multiple processes in order to work around the GIL limitations</font>. This type of queue can store and transfer any pickle-able object across process boundaries."
   ]
  },
  {
   "cell_type": "code",
   "execution_count": 7,
   "metadata": {
    "ExecuteTime": {
     "end_time": "2019-09-03T17:11:24.990932Z",
     "start_time": "2019-09-03T17:11:24.971411Z"
    },
    "hidden": true,
    "scrolled": true
   },
   "outputs": [
    {
     "data": {
      "text/plain": [
       "<multiprocessing.queues.Queue at 0x2229cd1f6d8>"
      ]
     },
     "execution_count": 7,
     "metadata": {},
     "output_type": "execute_result"
    },
    {
     "data": {
      "text/plain": [
       "'eat'"
      ]
     },
     "execution_count": 7,
     "metadata": {},
     "output_type": "execute_result"
    },
    {
     "data": {
      "text/plain": [
       "'sleep'"
      ]
     },
     "execution_count": 7,
     "metadata": {},
     "output_type": "execute_result"
    },
    {
     "data": {
      "text/plain": [
       "'code'"
      ]
     },
     "execution_count": 7,
     "metadata": {},
     "output_type": "execute_result"
    }
   ],
   "source": [
    "from multiprocessing import Queue\n",
    "q = Queue()\n",
    "q.put('eat')\n",
    "q.put('sleep')\n",
    "q.put('code')\n",
    "\n",
    "q\n",
    "# <multiprocessing.queues.Queue object at 0x1081c12b0>\n",
    "\n",
    "q.get()\n",
    "# 'eat'\n",
    "q.get()\n",
    "# 'sleep'\n",
    "q.get()\n",
    "# 'code'\n",
    "\n",
    "# q.get()\n",
    "# Blocks / waits forever..."
   ]
  },
  {
   "cell_type": "markdown",
   "metadata": {
    "heading_collapsed": true,
    "hidden": true
   },
   "source": [
    "### Key Takeaways"
   ]
  },
  {
   "cell_type": "markdown",
   "metadata": {
    "hidden": true
   },
   "source": [
    "* Python includes several queue implementations as part of the\n",
    "core language and its standard library.\n",
    "* list objects can be used as queues, but this is generally not\n",
    "recommended due to slow performance.\n",
    "* <font color = 'blue'>If you’re not looking for parallel processing support, the implementation offered by ```collections.deque``` is an excellent default choice for implementing a FIFO queue data structure in Python</font>. It provides the performance characteristics you’d expect from a good queue implementation and can also be used as a stack (LIFO Queue)."
   ]
  },
  {
   "cell_type": "markdown",
   "metadata": {
    "heading_collapsed": true
   },
   "source": [
    "## Priority Queues"
   ]
  },
  {
   "cell_type": "markdown",
   "metadata": {
    "hidden": true
   },
   "source": [
    "<font color = 'blue'>A priority queue is a container data structure that manages a set of records with totally-ordered39 keys (for example, a numeric weight value) to provide quick access to the record with the smallest or largest key in the set</font>. \n",
    "\n",
    "> <font color = 'blue'>You can think of a priority queue as a modified queue: instead of retrieving the next element by insertion time, it retrieves the highestpriority element. The priority of individual elements is decided by the ordering applied to their keys</font>.\n",
    "\n",
    "Priority queues are commonly used for dealing with scheduling problems, for example, to give precedence to tasks with higher urgency.\n",
    "\n",
    "**<font color = 'purple'>Think about the job of an operating system task scheduler: </font>**\n",
    "\n",
    "   * Ideally, high-priority tasks on the system (e.g., playing a real-time game) should take precedence over lower-priority tasks (e.g., downloading updates in the background). By organizing pending tasks in a priority queue that uses the task urgency as the key, the task scheduler can quickly select the highest-priority tasks and allow them to run first."
   ]
  },
  {
   "cell_type": "markdown",
   "metadata": {
    "heading_collapsed": true,
    "hidden": true
   },
   "source": [
    "##### list – Maintaining a Manually Sorted Queue"
   ]
  },
  {
   "cell_type": "markdown",
   "metadata": {
    "hidden": true
   },
   "source": [
    "You can use a sorted list to quickly identify and delete the smallest or largest element. <font color = 'red'>The downside is that inserting new elements into a list is a slow O(n) operation</font>.\n",
    "\n",
    "* While the insertion point can be found in O(log n) time using ```bisect.insort```(https://docs.python.org/3/library/bisect.html#bisect.insort) in the standard library, this is always dominated by the slow insertion step.\n",
    "\n",
    "<font color = 'red'>Maintaining the order by appending to the list and re-sorting also takes at least O(n log n) time</font>. Another downside is that you must manually take care of re-sorting the list when new elements are inserted. It’s easy to introduce bugs by missing this step, and the burden is always on you, the developer.\n",
    "\n",
    "Therefore, I believe that sorted lists are only suitable as priority queues when there will be few insertions."
   ]
  },
  {
   "cell_type": "code",
   "execution_count": 12,
   "metadata": {
    "ExecuteTime": {
     "end_time": "2019-09-03T18:55:18.339766Z",
     "start_time": "2019-09-03T18:55:18.330981Z"
    },
    "hidden": true
   },
   "outputs": [
    {
     "name": "stdout",
     "output_type": "stream",
     "text": [
      "(1, 'eat')\n",
      "(2, 'code')\n",
      "(3, 'sleep')\n"
     ]
    }
   ],
   "source": [
    "q = []\n",
    "\n",
    "q.append((2, 'code'))\n",
    "q.append((1, 'eat'))\n",
    "q.append((3, 'sleep'))\n",
    "\n",
    "# NOTE: Remember to re-sort every time\n",
    "# a new element is inserted, or use\n",
    "# bisect.insort().\n",
    "q.sort(reverse=True)\n",
    "\n",
    "while q:\n",
    "    next_item = q.pop()\n",
    "    print(next_item)\n",
    "\n",
    "# Result:\n",
    "# (1, 'eat')\n",
    "# (2, 'code')\n",
    "# (3, 'sleep')\n"
   ]
  },
  {
   "cell_type": "markdown",
   "metadata": {
    "heading_collapsed": true,
    "hidden": true
   },
   "source": [
    "##### heapq – List-Based Binary Heaps"
   ]
  },
  {
   "cell_type": "markdown",
   "metadata": {
    "hidden": true
   },
   "source": [
    "<font color = 'blue'>This is a binary heap implementation usually backed by a plain list, and it supports insertion and extraction of the smallest element in O(log n) time</font>.\n",
    "\n",
    "This module is a good choice for implementing priority queues in Python. Since heapq technically only provides a min-heap implementation, extra steps must be taken to ensure sort stability and other features typically expected from a “practical” priority queue.42"
   ]
  },
  {
   "cell_type": "code",
   "execution_count": 13,
   "metadata": {
    "ExecuteTime": {
     "end_time": "2019-09-03T18:58:52.549048Z",
     "start_time": "2019-09-03T18:58:52.540263Z"
    },
    "hidden": true
   },
   "outputs": [
    {
     "name": "stdout",
     "output_type": "stream",
     "text": [
      "(1, 'eat')\n",
      "(2, 'code')\n",
      "(3, 'sleep')\n"
     ]
    }
   ],
   "source": [
    "import heapq\n",
    "\n",
    "q = []\n",
    "\n",
    "heapq.heappush(q, (2, 'code'))\n",
    "heapq.heappush(q, (1, 'eat'))\n",
    "heapq.heappush(q, (3, 'sleep'))\n",
    "\n",
    "while q:\n",
    "    next_item = heapq.heappop(q)\n",
    "    print(next_item)\n",
    "\n",
    "# Result:\n",
    "# (1, 'eat')\n",
    "# (2, 'code')\n",
    "# (3, 'sleep')"
   ]
  },
  {
   "cell_type": "markdown",
   "metadata": {
    "heading_collapsed": true,
    "hidden": true
   },
   "source": [
    "##### queue.PriorityQueue – Beautiful Priority Queues"
   ]
  },
  {
   "cell_type": "markdown",
   "metadata": {
    "hidden": true
   },
   "source": [
    "This priority queue implementation uses heapq internally and shares the same time and space complexities.43 <font color = 'blue'>The difference is that PriorityQueue is synchronized and provides locking semantics to support multiple concurrent producers and consumers</font>.\n",
    "\n",
    "Depending on your use case, this might be helpful—or just slow your program down slightly. In any case, you might prefer the class-based interface provided by PriorityQueue over using the function-based interface provided by heapq.\n",
    "\n"
   ]
  },
  {
   "cell_type": "code",
   "execution_count": 14,
   "metadata": {
    "ExecuteTime": {
     "end_time": "2019-09-03T19:00:52.087514Z",
     "start_time": "2019-09-03T19:00:52.077754Z"
    },
    "hidden": true
   },
   "outputs": [
    {
     "name": "stdout",
     "output_type": "stream",
     "text": [
      "(1, 'eat')\n",
      "(2, 'code')\n",
      "(3, 'sleep')\n"
     ]
    }
   ],
   "source": [
    "from queue import PriorityQueue\n",
    "\n",
    "q = PriorityQueue()\n",
    "\n",
    "q.put((2, 'code'))\n",
    "q.put((1, 'eat'))\n",
    "q.put((3, 'sleep'))\n",
    "\n",
    "while not q.empty():\n",
    "    next_item = q.get()\n",
    "    print(next_item)\n",
    "\n",
    "# Result:\n",
    "# (1, 'eat')\n",
    "# (2, 'code')\n",
    "# (3, 'sleep')"
   ]
  },
  {
   "cell_type": "markdown",
   "metadata": {
    "heading_collapsed": true,
    "hidden": true
   },
   "source": [
    "##### Key Takeaways"
   ]
  },
  {
   "cell_type": "markdown",
   "metadata": {
    "hidden": true
   },
   "source": [
    "* Python includes several priority queue implementations for\n",
    "you to use.\n",
    "\n",
    "\n",
    "* <font color = 'blue'>```queue.PriorityQueue``` stands out from the pack with a nice object-oriented interface and a name that clearly states its intent. It should be your preferred choice.</font>\n",
    "\n",
    "\n",
    "* If you’d like to avoid the locking overhead of queue.PriorityQueue,\n",
    "using the heapq module directly is also a good option."
   ]
  }
 ],
 "metadata": {
  "hide_input": false,
  "kernelspec": {
   "display_name": "Python 3",
   "language": "python",
   "name": "python3"
  },
  "language_info": {
   "codemirror_mode": {
    "name": "ipython",
    "version": 3
   },
   "file_extension": ".py",
   "mimetype": "text/x-python",
   "name": "python",
   "nbconvert_exporter": "python",
   "pygments_lexer": "ipython3",
   "version": "3.7.1"
  },
  "toc": {
   "base_numbering": 1,
   "nav_menu": {},
   "number_sections": true,
   "sideBar": true,
   "skip_h1_title": false,
   "title_cell": "Table of Contents",
   "title_sidebar": "Contents",
   "toc_cell": true,
   "toc_position": {
    "height": "calc(100% - 180px)",
    "left": "10px",
    "top": "150px",
    "width": "192px"
   },
   "toc_section_display": true,
   "toc_window_display": false
  }
 },
 "nbformat": 4,
 "nbformat_minor": 2
}
